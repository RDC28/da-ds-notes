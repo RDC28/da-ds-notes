{
 "cells": [
  {
   "cell_type": "markdown",
   "id": "331dc58f",
   "metadata": {},
   "source": [
    "# NUMPY BASICS"
   ]
  },
  {
   "cell_type": "code",
   "execution_count": 2,
   "id": "2af2faf7",
   "metadata": {},
   "outputs": [
    {
     "name": "stdout",
     "output_type": "stream",
     "text": [
      "[ 1  2  3  4  5  6  7  8  9 10]\n"
     ]
    }
   ],
   "source": [
    "import numpy as np  # Import the numpy library as np\n",
    "\n",
    "# Create a NumPy array with integers from 1 to 10\n",
    "a = np.array([1, 2, 3, 4, 5, 6, 7, 8, 9, 10])\n",
    "\n",
    "print(a)"
   ]
  },
  {
   "cell_type": "code",
   "execution_count": 3,
   "id": "fbe6cac9",
   "metadata": {},
   "outputs": [],
   "source": [
    "# [id(a[i]) for i in range(10)]\n",
    "# [id(i) for i in a]\n",
    "\n",
    "# print addresses of each element.\n",
    "# does not work as expected in python.\n",
    "# because of how python lets us interact with addresses."
   ]
  },
  {
   "cell_type": "code",
   "execution_count": null,
   "id": "2da70a9b",
   "metadata": {},
   "outputs": [
    {
     "name": "stdout",
     "output_type": "stream",
     "text": [
      "multiply: [ 2  4  6  8 10 12 14 16 18 20]\n",
      "divide: [0.5 1.  1.5 2.  2.5 3.  3.5 4.  4.5 5. ]\n",
      "add: [ 3  4  5  6  7  8  9 10 11 12]\n",
      "subtract: [-1  0  1  2  3  4  5  6  7  8]\n",
      "exponent: [  1   4   9  16  25  36  49  64  81 100]\n"
     ]
    }
   ],
   "source": [
    "import numpy as np  # Import the numpy library as np\n",
    "\n",
    "# Create a NumPy array with integers from 1 to 10\n",
    "a = np.array([1, 2, 3, 4, 5, 6, 7, 8, 9, 10])\n",
    "\n",
    "print(\"multiply:\", a * 2)     # Multiply each element by 2 (element-wise)\n",
    "print(\"divide:\", a / 2)       # Divide each element by 2 (element-wise)\n",
    "print(\"add:\", a + 2)          # Add 2 to each element (element-wise)\n",
    "print(\"subtract:\", a - 2)     # Subtract 2 from each element (element-wise)\n",
    "print(\"exponent:\", a ** 2)    # Raise each element to the power of 2 (element-wise)"
   ]
  },
  {
   "cell_type": "code",
   "execution_count": null,
   "id": "618f9e18",
   "metadata": {},
   "outputs": [
    {
     "name": "stdout",
     "output_type": "stream",
     "text": [
      "<class 'numpy.ndarray'>\n",
      "int64\n",
      "int16\n"
     ]
    }
   ],
   "source": [
    "import numpy as np  # Import the numpy library\n",
    "\n",
    "# Create a NumPy array with integers from 1 to 10\n",
    "a = np.array([1, 2, 3, 4, 5, 6, 7, 8, 9, 10])\n",
    "\n",
    "print(type(a))        # Print the type of 'a' (should be <class 'numpy.ndarray'>)\n",
    "print(a.dtype)        # Print the data type of the array elements (e.g., int64 or int32)\n",
    "\n",
    "a = a.astype(np.int16)  # Convert array 'a' to have elements of type int16\n",
    "\n",
    "print(a.dtype)        # Print the new data type (should be int16)"
   ]
  },
  {
   "cell_type": "code",
   "execution_count": null,
   "id": "2a1a5be2",
   "metadata": {},
   "outputs": [
    {
     "name": "stdout",
     "output_type": "stream",
     "text": [
      "['1' '2' '3' '4' '5' '6' '7' '8' '9' '10' 'hello']\n",
      "<U21\n",
      "[ 1  2  3  4  5  6  7  8  9 10] int16\n"
     ]
    }
   ],
   "source": [
    "import numpy as np\n",
    "\n",
    "# Create a NumPy array containing integers and a string \"hello\"\n",
    "a = np.array([1, 2, 3, 4, 5, 6, 7, 8, 9, 10, \"hello\"])\n",
    "\n",
    "print(a)\n",
    "# Prints the entire array, note all elements are now strings because of mixed types\n",
    "print(a.dtype)\n",
    "# Data type will be '<U21' (unicode string) because of presence of a string in the list\n",
    "\n",
    "# Slice the array to exclude the last element (\"hello\"), then convert elements to int16\n",
    "a = a[:-1].astype(np.int16)\n",
    "\n",
    "print(a, a.dtype)\n",
    "# Prints the integer array without \"hello\" and confirms dtype is now int16"
   ]
  },
  {
   "cell_type": "code",
   "execution_count": 22,
   "id": "3989dc78",
   "metadata": {},
   "outputs": [
    {
     "name": "stdout",
     "output_type": "stream",
     "text": [
      "(9,) 1\n",
      "(3, 3) 2\n",
      "(3, 3, 3) 3\n"
     ]
    }
   ],
   "source": [
    "# dimensions of an arrange.\n",
    "import numpy as np\n",
    "my_1D_arr = np.array([1, 2, 3, 4, 5, 6, 7, 8, 9])\n",
    "\n",
    "my_2D_arr = np.array([\n",
    "         [1, 2, 3],\n",
    "         [4, 5, 6],\n",
    "         [7, 8, 9]\n",
    "])\n",
    "\n",
    "my_3D_arr = np.array([\n",
    "         [[1, 2, 3], [1, 2, 3], [1, 2, 3]],\n",
    "         [[1, 2, 3], [1, 2, 3], [1, 2, 3]],\n",
    "         [[1, 2, 3], [1, 2, 3], [1, 2, 3]]\n",
    "])\n",
    "\n",
    "# print(f\"shape: {my_1D_arr.shape}, dimensionsmy_1D_arr.ndim)\n",
    "# print(my_2D_arr.shape, my_2D_arr.ndim)\n",
    "# print(my_3D_arr.shape, my_3D_arr.ndim)"
   ]
  },
  {
   "cell_type": "code",
   "execution_count": null,
   "id": "ea982aad",
   "metadata": {},
   "outputs": [
    {
     "name": "stdout",
     "output_type": "stream",
     "text": [
      "[[ 1  2  3  4  5  6]\n",
      " [ 7  8  9 10 11 12]\n",
      " [13 14 15 16 17 18]\n",
      " [19 20 21 22 23 24]\n",
      " [25 26 27 28 29 30]\n",
      " [31 32 33 34 35 36]]\n"
     ]
    }
   ],
   "source": [
    "import numpy as np  # Import NumPy library for numerical operations\n",
    "\n",
    "# Create a NumPy array with values from 1 to 36 and reshape into a 6x6 matrix\n",
    "a = np.arange(1, 37).reshape(6, 6)\n",
    "\n",
    "# Print the 6x6 matrix\n",
    "print(a)\n",
    "\n",
    "# Print the element in 4th row, 4th column (indexing starts at 0)\n",
    "print(a[3][3])\n",
    "\n",
    "# Print elements in 5th row, columns 4 to 5 (upper bound excluded)\n",
    "print(a[4][3:5])\n",
    "\n",
    "# Print elements in 6th row, columns 4 to 6 (upper bound excluded)\n",
    "print(a[5][3:6])"
   ]
  },
  {
   "cell_type": "code",
   "execution_count": null,
   "id": "9ef2909a",
   "metadata": {},
   "outputs": [
    {
     "name": "stdout",
     "output_type": "stream",
     "text": [
      "[22]\n",
      "[28 29]\n",
      "[34 35 36]\n"
     ]
    }
   ],
   "source": [
    "import numpy as np  # Import NumPy library for numerical operations\n",
    "\n",
    "# Create a NumPy array with values from 1 to 36 and reshape into a 6x6 matrix\n",
    "a = np.arange(1, 37).reshape(6, 6)\n",
    "\n",
    "# Loop through rows with index 3 to 5 (4th to 6th row)\n",
    "for i in range(3, 6):\n",
    "    # Print elements from column index 3 up to (but not including) column index (i + 1)\n",
    "    print(a[i][3: i + 1])"
   ]
  },
  {
   "cell_type": "code",
   "execution_count": 1,
   "id": "a7b1955c",
   "metadata": {},
   "outputs": [
    {
     "name": "stdout",
     "output_type": "stream",
     "text": [
      "[[0 0 0]\n",
      " [0 0 0]\n",
      " [0 0 0]]\n",
      "[[1 1 1]\n",
      " [1 1 1]\n",
      " [1 1 1]]\n"
     ]
    }
   ],
   "source": [
    "import numpy as np  # Import NumPy for numerical operations\n",
    "\n",
    "# Create a 3x3 matrix filled with zeros (integer type: 16-bit signed)\n",
    "print(np.zeros((3, 3), dtype=np.int16))\n",
    "\n",
    "# Create a 3x3 matrix filled with ones (integer type: 16-bit signed)\n",
    "print(np.ones((3, 3), dtype=np.int16))"
   ]
  },
  {
   "cell_type": "code",
   "execution_count": null,
   "id": "39423930",
   "metadata": {},
   "outputs": [
    {
     "name": "stdout",
     "output_type": "stream",
     "text": [
      "(array([0, 1, 2]), array([2, 1, 0]))\n"
     ]
    }
   ],
   "source": [
    "import numpy as np  # Import NumPy library for numerical operations\n",
    "\n",
    "# Create a 3x3 NumPy array with a diagonal-like pattern of 1's\n",
    "a = np.array([[0, 0, 1],\n",
    "              [0, 1, 0],\n",
    "              [1, 0, 0]])\n",
    "\n",
    "# Find the indices of all non-zero elements in the array\n",
    "print(np.nonzero(a))"
   ]
  },
  {
   "cell_type": "code",
   "execution_count": 2,
   "id": "11a3cbc1",
   "metadata": {},
   "outputs": [
    {
     "name": "stdout",
     "output_type": "stream",
     "text": [
      "[  12 1335   16  133   83]\n"
     ]
    }
   ],
   "source": [
    "import numpy as np  # Import NumPy library for numerical operations\n",
    "\n",
    "# Create a 3x3 NumPy array with some zero and non-zero integer values\n",
    "a = np.array([[12, 0, 1335],\n",
    "              [0, 16, 0],\n",
    "              [133, 0, 83]])\n",
    "\n",
    "# Select and print all non-zero elements from the array\n",
    "print(a[np.nonzero(a)])"
   ]
  },
  {
   "cell_type": "code",
   "execution_count": 3,
   "id": "9d1e1099",
   "metadata": {},
   "outputs": [
    {
     "name": "stdout",
     "output_type": "stream",
     "text": [
      "[12 12 16 83 83]\n"
     ]
    }
   ],
   "source": [
    "import numpy as np  # Import NumPy library for numerical operations\n",
    "\n",
    "# Create a 3x3 NumPy array with some zero and non-zero integer values\n",
    "a = np.array([[12, 0, 1335],\n",
    "              [0, 16, 0],\n",
    "              [133, 0, 83]])\n",
    "\n",
    "# Use advanced (fancy) indexing to select specific elements by (row, column) positions\n",
    "print(a[([0, 0, 1, 2, 2], [0, 0, 1, 2, 2])])"
   ]
  },
  {
   "cell_type": "code",
   "execution_count": null,
   "id": "dfb86226",
   "metadata": {},
   "outputs": [
    {
     "name": "stdout",
     "output_type": "stream",
     "text": [
      "[  12 1335   16  133   83]\n"
     ]
    }
   ],
   "source": [
    "import numpy as np  # Import NumPy library for numerical operations\n",
    "\n",
    "# Create a 3x3 NumPy array with both zero and non-zero integer values\n",
    "a = np.array([[12, 0, 1335],\n",
    "              [0, 16, 0],\n",
    "              [133, 0, 83]])\n",
    "\n",
    "# Print all elements of 'a' that are greater than zero\n",
    "print(a[a > 0])"
   ]
  },
  {
   "cell_type": "code",
   "execution_count": null,
   "id": "a71bb988",
   "metadata": {},
   "outputs": [
    {
     "name": "stdout",
     "output_type": "stream",
     "text": [
      "[6 7 8 9]\n",
      "[1 2 3 4 5 6 7]\n",
      "[6 7]\n"
     ]
    }
   ],
   "source": [
    "import numpy as np  # Import NumPy library for numerical operations\n",
    "\n",
    "# Create a 1D NumPy array of integers from 1 to 9\n",
    "a = np.array([1, 2, 3, 4, 5, 6, 7, 8, 9])\n",
    "\n",
    "# Print elements greater than 5\n",
    "print(a[(a > 5)])   # Output: [6 7 8 9]\n",
    "\n",
    "# Print elements less than 8\n",
    "print(a[(a < 8)])   # Output: [1 2 3 4 5 6 7]\n",
    "\n",
    "# Print elements greater than 5 AND less than 8\n",
    "print(a[(a > 5) & (a < 8)])  # Output: [6 7]"
   ]
  },
  {
   "cell_type": "code",
   "execution_count": 6,
   "id": "3eaeceee",
   "metadata": {},
   "outputs": [
    {
     "name": "stdout",
     "output_type": "stream",
     "text": [
      "3\n"
     ]
    }
   ],
   "source": [
    "import numpy as np\n",
    "a = np.array([1, 2, 3, 6, 7, 8])\n",
    "count = (a > 5).sum()  # counts how many elements are greater than 5\n",
    "print(count)  # Output: 3"
   ]
  },
  {
   "cell_type": "code",
   "execution_count": 7,
   "id": "dd49fb6c",
   "metadata": {},
   "outputs": [
    {
     "name": "stdout",
     "output_type": "stream",
     "text": [
      "[1948 1952 1956 1960 1964 1968 1972 1976 1980 1984 1988 1992 1996 2000\n",
      " 2004 2008 2012 2016 2020 2024]\n"
     ]
    }
   ],
   "source": [
    "import numpy as np  # Import NumPy library\n",
    "\n",
    "# Create an array of years from 1947 to 2025 inclusive\n",
    "years = np.arange(1947, 2026)\n",
    "\n",
    "# Select leap years using the standard leap year rules:\n",
    "# - Divisible by 4 and not by 100, OR divisible by 400\n",
    "leap_years = years[((years % 4 == 0) & (years % 100 != 0)) | (years % 400 == 0)]\n",
    "\n",
    "print(leap_years)  # Output all leap years in the given range"
   ]
  },
  {
   "cell_type": "code",
   "execution_count": 8,
   "id": "23c10091",
   "metadata": {},
   "outputs": [
    {
     "name": "stdout",
     "output_type": "stream",
     "text": [
      "[[[ 1  2  3]\n",
      "  [ 4  5  6]\n",
      "  [ 7  8  9]]\n",
      "\n",
      " [[10 11 12]\n",
      "  [13 14 15]\n",
      "  [16 17 18]]\n",
      "\n",
      " [[19 20 21]\n",
      "  [22 23 24]\n",
      "  [25 26 27]]]\n",
      "27\n",
      "8\n",
      "216\n",
      "3\n"
     ]
    }
   ],
   "source": [
    "import numpy as np  # Import NumPy library for numerical operations\n",
    "\n",
    "# Create a 1D array of integers from 1 to 27, then reshape into a 3x3x3 array (3D matrix)\n",
    "a = np.arange(1, 28).reshape((3, 3, 3))\n",
    "print(a)  # Display the 3D array\n",
    "\n",
    "# Total number of elements in the array\n",
    "print(a.size)       # Output: 27\n",
    "\n",
    "# Size (in bytes) of each element\n",
    "print(a.itemsize)   # Usually 8 bytes for default 'int64' on most systems\n",
    "\n",
    "# Total bytes consumed by the array in memory\n",
    "print(a.nbytes)     # Equals size × itemsize (27 × 8 = 216 bytes here)\n",
    "\n",
    "# Number of dimensions (axes) of the array\n",
    "print(a.ndim)       # Output: 3 (since it's a 3D array)"
   ]
  },
  {
   "cell_type": "code",
   "execution_count": null,
   "id": "2d58263c",
   "metadata": {},
   "outputs": [
    {
     "name": "stdout",
     "output_type": "stream",
     "text": [
      "[0.   0.04 0.08 0.12 0.16 0.2  0.24 0.28 0.32 0.36 0.4  0.44 0.48 0.52\n",
      " 0.56 0.6  0.64 0.68 0.72 0.76 0.8  0.84 0.88 0.92 0.96 1.  ]\n",
      "[0.09870979 0.11542437 0.74570342 0.49785036 0.41492009 0.08967446\n",
      " 0.84532708 0.06108666 0.70137679 0.71245606 0.82712169 0.53742544\n",
      " 0.44052354 0.11017428 0.25392864 0.58780845 0.38792007 0.66494267\n",
      " 0.9152376  0.84426552 0.62106446 0.033418   0.97781081 0.4353406\n",
      " 0.39955184]\n"
     ]
    }
   ],
   "source": [
    "import numpy as np  # Import NumPy library for numerical operations\n",
    "\n",
    "# Create 26 evenly spaced values from 0 to 1 (inclusive)\n",
    "a = np.linspace(0, 1, 26)\n",
    "print(a)  # Print the evenly spaced values\n",
    "\n",
    "# Generate 25 random floats between 0.0 and 1.0\n",
    "random = np.random.random(25)\n",
    "print(random)  # Print the random values"
   ]
  },
  {
   "cell_type": "code",
   "execution_count": null,
   "id": "024e8223",
   "metadata": {},
   "outputs": [
    {
     "name": "stdout",
     "output_type": "stream",
     "text": [
      "[[ 7 11  2 10  5]\n",
      " [24 15 16 16 22]\n",
      " [23 11  7 14 10]\n",
      " [14 22 14 14 10]\n",
      " [ 5 24 18 20 24]]\n"
     ]
    }
   ],
   "source": [
    "import numpy as np  # Import NumPy library for numerical operations\n",
    "\n",
    "# Create a 1D array of 25 random integers from 1 to 24 (inclusive of 1, exclusive of 25)\n",
    "# Then reshape it into a 5x5 matrix\n",
    "array = np.random.randint(1, 25, 25).reshape(5, 5)\n",
    "\n",
    "# Print the generated 5x5 random integer matrix\n",
    "print(array)"
   ]
  },
  {
   "cell_type": "code",
   "execution_count": null,
   "id": "436cc7ba",
   "metadata": {},
   "outputs": [
    {
     "name": "stdout",
     "output_type": "stream",
     "text": [
      "11\n",
      "24\n",
      "23\n",
      "22\n",
      "24\n"
     ]
    }
   ],
   "source": [
    "import numpy as np  # Import NumPy library\n",
    "\n",
    "# Assume 'array' is your 2D NumPy array (e.g., a 5x5 matrix)\n",
    "\n",
    "# Loop over each row index in 'array'\n",
    "for i in range(array.shape[0]):\n",
    "    # Print the maximum value in the i-th row (all columns of row i)\n",
    "    print(array[i, :].max())\n",
    "\n",
    "# Loop over each column index in 'array'\n",
    "for i in range(array.shape[1]):\n",
    "    # Print the maximum value in the i-th column (all rows of column i)\n",
    "    print(array[:, i].max())"
   ]
  },
  {
   "cell_type": "code",
   "execution_count": null,
   "id": "71411483",
   "metadata": {},
   "outputs": [
    {
     "name": "stdout",
     "output_type": "stream",
     "text": [
      "42\n",
      "49\n",
      "66\n",
      "56\n",
      "72\n"
     ]
    }
   ],
   "source": [
    "# similarily, print sum of each column\n",
    "\n",
    "import numpy as np  # Import NumPy library for numerical operations\n",
    "\n",
    "array = np.random.randint(1, 25, 25).reshape(5, 5)\n",
    "\n",
    "for i in range(array.shape[0]):\n",
    "    print(array[:, i].sum())"
   ]
  },
  {
   "cell_type": "code",
   "execution_count": null,
   "id": "d76cb488",
   "metadata": {},
   "outputs": [
    {
     "name": "stdout",
     "output_type": "stream",
     "text": [
      "2\n",
      "1\n",
      "3\n",
      "6\n",
      "4\n"
     ]
    }
   ],
   "source": [
    "# similarily, print minimum of each column\n",
    "\n",
    "import numpy as np  # Import NumPy library for numerical operations\n",
    "\n",
    "array = np.random.randint(1, 25, 25).reshape(5, 5)\n",
    "\n",
    "for i in range(array.shape[0]):\n",
    "    print(array[:, i].min())"
   ]
  },
  {
   "cell_type": "code",
   "execution_count": null,
   "id": "4d0f4b24",
   "metadata": {},
   "outputs": [
    {
     "name": "stdout",
     "output_type": "stream",
     "text": [
      "9.2\n",
      "3.8\n",
      "7.8\n",
      "12.6\n",
      "12.4\n"
     ]
    }
   ],
   "source": [
    "# similarily, print mean of each column\n",
    "\n",
    "import numpy as np  # Import NumPy library for numerical operations\n",
    "\n",
    "array = np.random.randint(1, 25, 25).reshape(5, 5)\n",
    "\n",
    "for i in range(array.shape[0]):\n",
    "    print(array[:, i].mean())"
   ]
  },
  {
   "cell_type": "code",
   "execution_count": null,
   "id": "54000866",
   "metadata": {},
   "outputs": [
    {
     "name": "stdout",
     "output_type": "stream",
     "text": [
      "[ 7 11  2 10  5] 11\n",
      "[11 15 11 22 24] 24\n"
     ]
    }
   ],
   "source": [
    "import numpy as np  # Import NumPy library\n",
    "\n",
    "# Assume 'array' is an existing 2D NumPy array (e.g., 5x5 integers)\n",
    "\n",
    "# Print all elements in the first row, followed by its maximum value\n",
    "print(array[0, :], array[0, :].max())\n",
    "\n",
    "# Print all elements in the second column, followed by its maximum value\n",
    "print(array[:, 1], array[:, 1].max())"
   ]
  },
  {
   "cell_type": "code",
   "execution_count": 15,
   "id": "bfb155cc",
   "metadata": {},
   "outputs": [
    {
     "name": "stdout",
     "output_type": "stream",
     "text": [
      "[[10 14  8]\n",
      " [20 10 17]\n",
      " [12 24  2]\n",
      " [10  6 24]\n",
      " [16 10 13]]\n",
      "[[12 24  2 24 18]\n",
      " [16 10 13 13 11]]\n"
     ]
    }
   ],
   "source": [
    "import numpy as np  # Import NumPy library\n",
    "\n",
    "# Assume 'array' is your existing 2D NumPy array (e.g., shape 5x5)\n",
    "array = np.random.randint(1, 25, 25).reshape(5, 5)\n",
    "\n",
    "# Select all rows, but only columns 0, 1, and 2 (slice up to column index 3)\n",
    "print(array[:, 0:3])\n",
    "\n",
    "# Select rows with indices 2 and 4, and all their columns\n",
    "print(array[(2, 4), :])"
   ]
  },
  {
   "cell_type": "code",
   "execution_count": null,
   "id": "dcb39244",
   "metadata": {},
   "outputs": [
    {
     "name": "stdout",
     "output_type": "stream",
     "text": [
      "[ 7 11  2 10  5 24 15 16 16 22 23 11  7 14 10 14 22 14 14 10  5 24 18 20\n",
      " 24]\n"
     ]
    }
   ],
   "source": [
    "import numpy as np  # Import NumPy library for numerical operations\n",
    "\n",
    "# Create a 1D array of 25 random integers from 1 to 24 (inclusive of 1, exclusive of 25)\n",
    "# Then reshape it into a 5x5 matrix\n",
    "array = np.random.randint(1, 25, 25).reshape(5, 5)\n",
    "\n",
    "# Convert the 2D array into a 1D array (flattened)\n",
    "print(array.flatten())"
   ]
  },
  {
   "cell_type": "code",
   "execution_count": 22,
   "id": "79028989",
   "metadata": {},
   "outputs": [],
   "source": [
    "import numpy as np  # Import NumPy library for numerical operations\n",
    "\n",
    "# Create a 1D array of 25 random integers from 1 to 24,\n",
    "# then reshape it into a 5x5 matrix\n",
    "array = np.random.randint(1, 25, 25).reshape(5, 5)\n",
    "\n",
    "# Create a 1D iterator over the array elements (row‑major order by default)\n",
    "n = array.flat"
   ]
  },
  {
   "cell_type": "code",
   "execution_count": 23,
   "id": "139014de",
   "metadata": {},
   "outputs": [
    {
     "name": "stdout",
     "output_type": "stream",
     "text": [
      "23\n",
      "5\n"
     ]
    }
   ],
   "source": [
    "print(n[0])  # first element\n",
    "print(n[7])  # 8th element"
   ]
  },
  {
   "cell_type": "code",
   "execution_count": 24,
   "id": "06cbf5b7",
   "metadata": {},
   "outputs": [
    {
     "name": "stdout",
     "output_type": "stream",
     "text": [
      "23\n",
      "14\n",
      "18\n",
      "2\n",
      "14\n",
      "21\n",
      "17\n",
      "5\n",
      "11\n",
      "17\n",
      "9\n",
      "7\n",
      "12\n",
      "9\n",
      "2\n",
      "7\n",
      "2\n",
      "5\n",
      "5\n",
      "22\n",
      "19\n",
      "10\n",
      "22\n",
      "4\n",
      "24\n"
     ]
    }
   ],
   "source": [
    "for value in n:\n",
    "    print(value)  # prints each element in order"
   ]
  }
 ],
 "metadata": {
  "kernelspec": {
   "display_name": "Python 3",
   "language": "python",
   "name": "python3"
  },
  "language_info": {
   "codemirror_mode": {
    "name": "ipython",
    "version": 3
   },
   "file_extension": ".py",
   "mimetype": "text/x-python",
   "name": "python",
   "nbconvert_exporter": "python",
   "pygments_lexer": "ipython3",
   "version": "3.12.4"
  }
 },
 "nbformat": 4,
 "nbformat_minor": 5
}
