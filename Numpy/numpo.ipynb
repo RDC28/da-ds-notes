{
 "cells": [
  {
   "cell_type": "markdown",
   "id": "331dc58f",
   "metadata": {},
   "source": [
    "# NUMPY BASICS"
   ]
  },
  {
   "cell_type": "code",
   "execution_count": null,
   "id": "2af2faf7",
   "metadata": {},
   "outputs": [],
   "source": [
    "import numpy as np  # Import the numpy library as np\n",
    "\n",
    "# Create a NumPy array with integers from 1 to 10\n",
    "a = np.array([1, 2, 3, 4, 5, 6, 7, 8, 9, 10])"
   ]
  },
  {
   "cell_type": "code",
   "execution_count": null,
   "id": "fbe6cac9",
   "metadata": {},
   "outputs": [],
   "source": [
    "# [id(a[i]) for i in range(10)]\n",
    "# [id(i) for i in a]\n",
    "\n",
    "# print addresses of each element.\n",
    "# does not work as expected in python."
   ]
  },
  {
   "cell_type": "code",
   "execution_count": null,
   "id": "2da70a9b",
   "metadata": {},
   "outputs": [
    {
     "name": "stdout",
     "output_type": "stream",
     "text": [
      "multiply: [ 2  4  6  8 10 12 14 16 18 20]\n",
      "divide: [0.5 1.  1.5 2.  2.5 3.  3.5 4.  4.5 5. ]\n",
      "add: [ 3  4  5  6  7  8  9 10 11 12]\n",
      "subtract: [-1  0  1  2  3  4  5  6  7  8]\n",
      "exponent: [  1   4   9  16  25  36  49  64  81 100]\n"
     ]
    }
   ],
   "source": [
    "import numpy as np  # Import the numpy library as np\n",
    "\n",
    "# Create a NumPy array with integers from 1 to 10\n",
    "a = np.array([1, 2, 3, 4, 5, 6, 7, 8, 9, 10])\n",
    "\n",
    "print(\"multiply:\", a * 2)     # Multiply each element by 2 (element-wise)\n",
    "print(\"divide:\", a / 2)       # Divide each element by 2 (element-wise)\n",
    "print(\"add:\", a + 2)          # Add 2 to each element (element-wise)\n",
    "print(\"subtract:\", a - 2)     # Subtract 2 from each element (element-wise)\n",
    "print(\"exponent:\", a ** 2)    # Raise each element to the power of 2 (element-wise)"
   ]
  },
  {
   "cell_type": "code",
   "execution_count": null,
   "id": "618f9e18",
   "metadata": {},
   "outputs": [
    {
     "name": "stdout",
     "output_type": "stream",
     "text": [
      "<class 'numpy.ndarray'>\n",
      "int64\n",
      "int16\n"
     ]
    }
   ],
   "source": [
    "import numpy as np  # Import the numpy library\n",
    "\n",
    "# Create a NumPy array with integers from 1 to 10\n",
    "a = np.array([1, 2, 3, 4, 5, 6, 7, 8, 9, 10])\n",
    "\n",
    "print(type(a))        # Print the type of 'a' (should be <class 'numpy.ndarray'>)\n",
    "print(a.dtype)        # Print the data type of the array elements (e.g., int64 or int32)\n",
    "\n",
    "a = a.astype(np.int16)  # Convert array 'a' to have elements of type int16\n",
    "\n",
    "print(a.dtype)        # Print the new data type (should be int16)"
   ]
  },
  {
   "cell_type": "code",
   "execution_count": 1,
   "id": "2a1a5be2",
   "metadata": {},
   "outputs": [
    {
     "name": "stdout",
     "output_type": "stream",
     "text": [
      "['1' '2' '3' '4' '5' '6' '7' '8' '9' '10' 'hello']\n",
      "<U21\n",
      "[ 1  2  3  4  5  6  7  8  9 10] int16\n"
     ]
    }
   ],
   "source": [
    "import numpy as np\n",
    "\n",
    "# Create a NumPy array containing integers and a string \"hello\"\n",
    "a = np.array([1, 2, 3, 4, 5, 6, 7, 8, 9, 10, \"hello\"])\n",
    "\n",
    "print(a)\n",
    "# Prints the entire array, note all elements are now strings because of mixed types\n",
    "print(a.dtype)\n",
    "# Data type will be '<U21' (unicode string) because of presence of a string in the list\n",
    "\n",
    "# Slice the array to exclude the last element (\"hello\"), then convert elements to int16\n",
    "a = a[:-1].astype(np.int16)\n",
    "\n",
    "print(a, a.dtype)\n",
    "# Prints the integer array without \"hello\" and confirms dtype is now int16"
   ]
  }
 ],
 "metadata": {
  "kernelspec": {
   "display_name": "Python 3",
   "language": "python",
   "name": "python3"
  },
  "language_info": {
   "codemirror_mode": {
    "name": "ipython",
    "version": 3
   },
   "file_extension": ".py",
   "mimetype": "text/x-python",
   "name": "python",
   "nbconvert_exporter": "python",
   "pygments_lexer": "ipython3",
   "version": "3.12.4"
  }
 },
 "nbformat": 4,
 "nbformat_minor": 5
}
