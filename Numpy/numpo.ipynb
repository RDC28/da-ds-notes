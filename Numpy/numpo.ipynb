{
 "cells": [
  {
   "cell_type": "code",
   "execution_count": 12,
   "id": "2af2faf7",
   "metadata": {},
   "outputs": [],
   "source": [
    "import numpy as np\n",
    "\n",
    "a = np.array([1, 2, 3, 4, 5, 6, 7, 8, 9, 10])"
   ]
  },
  {
   "cell_type": "code",
   "execution_count": 13,
   "id": "fbe6cac9",
   "metadata": {},
   "outputs": [],
   "source": [
    "# [id(a[i]) for i in range(10)]\n",
    "# [id(i) for i in a]"
   ]
  },
  {
   "cell_type": "code",
   "execution_count": 14,
   "id": "2da70a9b",
   "metadata": {},
   "outputs": [
    {
     "name": "stdout",
     "output_type": "stream",
     "text": [
      "multiply: [ 2  4  6  8 10 12 14 16 18 20]\n",
      "divide: [0.5 1.  1.5 2.  2.5 3.  3.5 4.  4.5 5. ]\n",
      "add: [ 3  4  5  6  7  8  9 10 11 12]\n",
      "subtract: [-1  0  1  2  3  4  5  6  7  8]\n",
      "exponent: [  1   4   9  16  25  36  49  64  81 100]\n"
     ]
    }
   ],
   "source": [
    "print(\"multiply:\", a * 2)\n",
    "print(\"divide:\", a / 2)\n",
    "print(\"add:\", a + 2)\n",
    "print(\"subtract:\", a - 2)\n",
    "print(\"exponent:\", a ** 2)"
   ]
  },
  {
   "cell_type": "code",
   "execution_count": null,
   "id": "618f9e18",
   "metadata": {},
   "outputs": [
    {
     "name": "stdout",
     "output_type": "stream",
     "text": [
      "<class 'numpy.ndarray'>\n",
      "int64\n",
      "int16\n"
     ]
    }
   ],
   "source": [
    "a = np.array([1, 2, 3, 4, 5, 6, 7, 8, 9, 10])\n",
    "\n",
    "print(type(a))\n",
    "print(a.dtype)\n",
    "a = a.astype(np.int16)\n",
    "print(a.dtype)"
   ]
  },
  {
   "cell_type": "code",
   "execution_count": 27,
   "id": "2a1a5be2",
   "metadata": {},
   "outputs": [
    {
     "name": "stdout",
     "output_type": "stream",
     "text": [
      "['1' '2' '3' '4' '5' '6' '7' '8' '9' '10' 'hello']\n",
      "<U21\n",
      "[ 1  2  3  4  5  6  7  8  9 10] int16\n"
     ]
    }
   ],
   "source": [
    "a = np.array([1, 2, 3, 4, 5, 6, 7, 8, 9, 10, \"hello\"])\n",
    "print(a)\n",
    "print(a.dtype)\n",
    "\n",
    "a = a[:-1].astype(np.int16)\n",
    "print(a, a.dtype)"
   ]
  }
 ],
 "metadata": {
  "kernelspec": {
   "display_name": "Python 3",
   "language": "python",
   "name": "python3"
  },
  "language_info": {
   "codemirror_mode": {
    "name": "ipython",
    "version": 3
   },
   "file_extension": ".py",
   "mimetype": "text/x-python",
   "name": "python",
   "nbconvert_exporter": "python",
   "pygments_lexer": "ipython3",
   "version": "3.10.12"
  }
 },
 "nbformat": 4,
 "nbformat_minor": 5
}
