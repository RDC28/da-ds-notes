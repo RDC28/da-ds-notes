{
 "cells": [
  {
   "cell_type": "code",
   "execution_count": 1,
   "id": "3a445473",
   "metadata": {},
   "outputs": [],
   "source": [
    "import numpy as np"
   ]
  },
  {
   "cell_type": "code",
   "execution_count": 2,
   "id": "f04a7d2d",
   "metadata": {},
   "outputs": [
    {
     "data": {
      "text/plain": [
       "[1, 2, 3, 4, 5, 6, 7, 8, 9, 10, 1, 2, 3, 4, 5, 6, 7, 8, 9, 10]"
      ]
     },
     "execution_count": 2,
     "metadata": {},
     "output_type": "execute_result"
    }
   ],
   "source": [
    "a = [1, 2, 3, 4, 5, 6, 7, 8, 9, 10]\n",
    "a * 2"
   ]
  },
  {
   "cell_type": "code",
   "execution_count": null,
   "id": "3c8b7701",
   "metadata": {},
   "outputs": [
    {
     "name": "stdout",
     "output_type": "stream",
     "text": [
      "i = 0, v = 10\n",
      "i = 1, v = 20\n",
      "i = 2, v = 30\n",
      "i = 3, v = 40\n"
     ]
    },
    {
     "data": {
      "text/plain": [
       "[20, 40, 60, 80]"
      ]
     },
     "execution_count": 6,
     "metadata": {},
     "output_type": "execute_result"
    }
   ],
   "source": [
    "a = [10, 20, 30, 40]\n",
    "\n",
    "for i, v in enumerate(a):   \n",
    "    print(f\"i = {i}, v = {v}\")\n",
    "    a[i] = v * 2\n",
    "a"
   ]
  },
  {
   "cell_type": "code",
   "execution_count": 8,
   "id": "8f57c351",
   "metadata": {},
   "outputs": [
    {
     "name": "stdout",
     "output_type": "stream",
     "text": [
      "[ 40  80 120 160]\n"
     ]
    }
   ],
   "source": [
    "b = np.array(a)\n",
    "b *= 2\n",
    "print(b)"
   ]
  },
  {
   "cell_type": "code",
   "execution_count": 19,
   "id": "9d8602fa",
   "metadata": {},
   "outputs": [
    {
     "data": {
      "text/plain": [
       "array([  0,  10,  20,  30,  40,  50,  60,  70,  80,  90, 100])"
      ]
     },
     "execution_count": 19,
     "metadata": {},
     "output_type": "execute_result"
    }
   ],
   "source": [
    "np.arange(0,101,10)"
   ]
  },
  {
   "cell_type": "code",
   "execution_count": 23,
   "id": "97b34d5b",
   "metadata": {},
   "outputs": [
    {
     "name": "stdout",
     "output_type": "stream",
     "text": [
      "[73, 61, 81, 92, 95, 91, 42, 92, 73, 95, 49, 51, 85, 54, 84, 66, 67, 61, 60, 54, 89, 74, 80, 88, 75, 56, 78, 77, 70, 46, 77, 89, 72, 87, 68, 98, 55, 82, 80, 73, 67, 47, 74, 48, 67, 100, 73, 62, 57, 45, 55, 72, 71, 47, 87, 66, 60, 95, 65, 83, 65, 57, 48, 65, 95, 59, 47, 78, 55, 66, 87, 81, 85, 42, 66, 53, 75, 80, 90, 61, 87, 96, 96, 49, 61, 51, 68, 40, 87, 70, 84, 86, 96, 47, 72, 95, 88, 48, 85, 59]\n"
     ]
    }
   ],
   "source": [
    "from random import randint\n",
    "\n",
    "marks = [randint(40, 100) for i in range(100)]\n",
    "print(marks)"
   ]
  },
  {
   "cell_type": "code",
   "execution_count": 25,
   "id": "929cd439",
   "metadata": {},
   "outputs": [
    {
     "name": "stdout",
     "output_type": "stream",
     "text": [
      "[69 51 90 71 75 98 77 93 94 81]\n"
     ]
    }
   ],
   "source": [
    "random = np.random.randint(40, 100, 10)\n",
    "print(random)"
   ]
  },
  {
   "cell_type": "code",
   "execution_count": 27,
   "id": "1b0e3c79",
   "metadata": {},
   "outputs": [
    {
     "name": "stdout",
     "output_type": "stream",
     "text": [
      "[-0.00296129 -0.85121484  0.27049021 -0.36650634 -0.01322658  0.63761825\n",
      "  1.7348783   0.27879339 -0.36596306  1.46194627]\n",
      "[0.85935049 0.88524078 0.6149427  0.43389753 0.52709385 0.00593807\n",
      " 0.69097054 0.46302093 0.30387168 0.22382817]\n",
      "[[18 14 10]\n",
      " [15 18 17]\n",
      " [11 14 10]]\n"
     ]
    }
   ],
   "source": [
    "print(np.random.randn(10))\n",
    "print(np.random.random_sample(10))\n",
    "print(np.random.randint(10, 20, [3, 3]))"
   ]
  },
  {
   "cell_type": "code",
   "execution_count": 31,
   "id": "08647978",
   "metadata": {},
   "outputs": [
    {
     "name": "stdout",
     "output_type": "stream",
     "text": [
      "[[ 30  36  42]\n",
      " [ 66  81  96]\n",
      " [102 126 150]]\n"
     ]
    }
   ],
   "source": [
    "m = np.arange(1, 10).reshape(3, 3)\n",
    "print(np.matmul(m,m))"
   ]
  },
  {
   "cell_type": "code",
   "execution_count": 33,
   "id": "a040152d",
   "metadata": {},
   "outputs": [
    {
     "name": "stdout",
     "output_type": "stream",
     "text": [
      "[[[ 1  2  3]\n",
      "  [ 4  5  6]\n",
      "  [ 7  8  9]]\n",
      "\n",
      " [[10 11 12]\n",
      "  [13 14 15]\n",
      "  [16 17 18]]\n",
      "\n",
      " [[19 20 21]\n",
      "  [22 23 24]\n",
      "  [25 26 27]]]\n",
      "size =     27\n",
      "itemsize = 8\n",
      "nbytes =   216\n",
      "ndim =     3\n"
     ]
    }
   ],
   "source": [
    "import numpy as np\n",
    "\n",
    "a = np.arange(1, 28).reshape((3, 3, 3))\n",
    "print(a)\n",
    "\n",
    "print(f'size =     {a.size}')      \n",
    "print(f'itemsize = {a.itemsize}')\n",
    "print(f'nbytes =   {a.nbytes}')\n",
    "print(f'ndim =     {a.ndim}')"
   ]
  },
  {
   "cell_type": "code",
   "execution_count": null,
   "id": "56a8c037",
   "metadata": {},
   "outputs": [],
   "source": [
    "import numpy as np\n",
    "z = np.array([1, 2, 3, 4, 5])"
   ]
  },
  {
   "cell_type": "code",
   "execution_count": null,
   "id": "31136a0f",
   "metadata": {},
   "outputs": [
    {
     "name": "stdout",
     "output_type": "stream",
     "text": [
      "3.0\n",
      "3.0\n",
      "1\n",
      "5\n",
      "(array([0, 1, 2, 3, 4]),)\n",
      "[1 0 1 0 1]\n",
      "1.4142135623730951\n",
      "2.0\n",
      "[[1. 0. 0.]\n",
      " [0. 1. 0.]\n",
      " [0. 0. 1.]]\n",
      "[[1. 1. 1. 1.]\n",
      " [1. 1. 1. 1.]\n",
      " [1. 1. 1. 1.]]\n",
      "[[0. 0. 0. 0.]\n",
      " [0. 0. 0. 0.]\n",
      " [0. 0. 0. 0.]]\n"
     ]
    }
   ],
   "source": [
    "print(np.mean(z))\n",
    "print(np.median(z))\n",
    "print(np.min(z))\n",
    "print(np.max(z))\n",
    "print(np.nonzero(z))\n",
    "print(np.mod(z, 2))\n",
    "print(np.std(z))\n",
    "print(np.var(z))\n",
    "print(np.eye(3))\n",
    "print(np.ones((3,4)))\n",
    "print(np.zeros((3,4)))"
   ]
  },
  {
   "cell_type": "code",
   "execution_count": null,
   "id": "16fbe8df",
   "metadata": {},
   "outputs": [],
   "source": [
    "w = np.arange(1,21)"
   ]
  },
  {
   "cell_type": "code",
   "execution_count": null,
   "id": "efb9f27c",
   "metadata": {},
   "outputs": [
    {
     "data": {
      "text/plain": [
       "array([[ 1,  2,  3,  4],\n",
       "       [ 5,  6,  7,  8],\n",
       "       [ 9, 10, 11, 12],\n",
       "       [13, 14, 15, 16],\n",
       "       [17, 18, 19, 20]])"
      ]
     },
     "metadata": {},
     "output_type": "display_data"
    }
   ],
   "source": [
    "w.reshape(5, -1)"
   ]
  },
  {
   "cell_type": "code",
   "execution_count": null,
   "id": "52156d2a",
   "metadata": {},
   "outputs": [
    {
     "data": {
      "text/plain": [
       "array([[4, 4],\n",
       "       [4, 4]])"
      ]
     },
     "metadata": {},
     "output_type": "display_data"
    }
   ],
   "source": [
    "w.reshape(2, 5, -1).argmax(1)"
   ]
  },
  {
   "cell_type": "code",
   "execution_count": null,
   "id": "48dfbd14",
   "metadata": {},
   "outputs": [
    {
     "data": {
      "text/plain": [
       "np.int64(19)"
      ]
     },
     "metadata": {},
     "output_type": "display_data"
    }
   ],
   "source": [
    "w.argmax(0)"
   ]
  },
  {
   "cell_type": "code",
   "execution_count": null,
   "id": "63bff834",
   "metadata": {},
   "outputs": [
    {
     "data": {
      "text/plain": [
       "array([0.        , 0.00505051, 0.01010101, 0.01515152, 0.02020202,\n",
       "       0.02525253, 0.03030303, 0.03535354, 0.04040404, 0.04545455,\n",
       "       0.05050505, 0.05555556, 0.06060606, 0.06565657, 0.07070707,\n",
       "       0.07575758, 0.08080808, 0.08585859, 0.09090909, 0.0959596 ,\n",
       "       0.1010101 , 0.10606061, 0.11111111, 0.11616162, 0.12121212,\n",
       "       0.12626263, 0.13131313, 0.13636364, 0.14141414, 0.14646465,\n",
       "       0.15151515, 0.15656566, 0.16161616, 0.16666667, 0.17171717,\n",
       "       0.17676768, 0.18181818, 0.18686869, 0.19191919, 0.1969697 ,\n",
       "       0.2020202 , 0.20707071, 0.21212121, 0.21717172, 0.22222222,\n",
       "       0.22727273, 0.23232323, 0.23737374, 0.24242424, 0.24747475,\n",
       "       0.25252525, 0.25757576, 0.26262626, 0.26767677, 0.27272727,\n",
       "       0.27777778, 0.28282828, 0.28787879, 0.29292929, 0.2979798 ,\n",
       "       0.3030303 , 0.30808081, 0.31313131, 0.31818182, 0.32323232,\n",
       "       0.32828283, 0.33333333, 0.33838384, 0.34343434, 0.34848485,\n",
       "       0.35353535, 0.35858586, 0.36363636, 0.36868687, 0.37373737,\n",
       "       0.37878788, 0.38383838, 0.38888889, 0.39393939, 0.3989899 ,\n",
       "       0.4040404 , 0.40909091, 0.41414141, 0.41919192, 0.42424242,\n",
       "       0.42929293, 0.43434343, 0.43939394, 0.44444444, 0.44949495,\n",
       "       0.45454545, 0.45959596, 0.46464646, 0.46969697, 0.47474747,\n",
       "       0.47979798, 0.48484848, 0.48989899, 0.49494949, 0.5       ,\n",
       "       0.50505051, 0.51010101, 0.51515152, 0.52020202, 0.52525253,\n",
       "       0.53030303, 0.53535354, 0.54040404, 0.54545455, 0.55050505,\n",
       "       0.55555556, 0.56060606, 0.56565657, 0.57070707, 0.57575758,\n",
       "       0.58080808, 0.58585859, 0.59090909, 0.5959596 , 0.6010101 ,\n",
       "       0.60606061, 0.61111111, 0.61616162, 0.62121212, 0.62626263,\n",
       "       0.63131313, 0.63636364, 0.64141414, 0.64646465, 0.65151515,\n",
       "       0.65656566, 0.66161616, 0.66666667, 0.67171717, 0.67676768,\n",
       "       0.68181818, 0.68686869, 0.69191919, 0.6969697 , 0.7020202 ,\n",
       "       0.70707071, 0.71212121, 0.71717172, 0.72222222, 0.72727273,\n",
       "       0.73232323, 0.73737374, 0.74242424, 0.74747475, 0.75252525,\n",
       "       0.75757576, 0.76262626, 0.76767677, 0.77272727, 0.77777778,\n",
       "       0.78282828, 0.78787879, 0.79292929, 0.7979798 , 0.8030303 ,\n",
       "       0.80808081, 0.81313131, 0.81818182, 0.82323232, 0.82828283,\n",
       "       0.83333333, 0.83838384, 0.84343434, 0.84848485, 0.85353535,\n",
       "       0.85858586, 0.86363636, 0.86868687, 0.87373737, 0.87878788,\n",
       "       0.88383838, 0.88888889, 0.89393939, 0.8989899 , 0.9040404 ,\n",
       "       0.90909091, 0.91414141, 0.91919192, 0.92424242, 0.92929293,\n",
       "       0.93434343, 0.93939394, 0.94444444, 0.94949495, 0.95454545,\n",
       "       0.95959596, 0.96464646, 0.96969697, 0.97474747, 0.97979798,\n",
       "       0.98484848, 0.98989899, 0.99494949, 1.        ])"
      ]
     },
     "metadata": {},
     "output_type": "display_data"
    }
   ],
   "source": [
    "np.linspace(0,1,199)"
   ]
  }
 ],
 "metadata": {
  "kernelspec": {
   "display_name": "venv (3.12.4)",
   "language": "python",
   "name": "python3"
  },
  "language_info": {
   "codemirror_mode": {
    "name": "ipython",
    "version": 3
   },
   "file_extension": ".py",
   "mimetype": "text/x-python",
   "name": "python",
   "nbconvert_exporter": "python",
   "pygments_lexer": "ipython3",
   "version": "3.12.4"
  }
 },
 "nbformat": 4,
 "nbformat_minor": 5
}
