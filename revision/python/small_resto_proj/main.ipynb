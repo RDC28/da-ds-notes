{
 "cells": [
  {
   "cell_type": "code",
   "execution_count": 1,
   "id": "1e5bf02e",
   "metadata": {},
   "outputs": [
    {
     "name": "stdout",
     "output_type": "stream",
     "text": [
      "rohit 5 indian cuisine\n",
      "yash 6 german cuisine\n",
      "aakash 7 italian cuisine\n"
     ]
    }
   ],
   "source": [
    "class Chef:\n",
    "    def __init__(self):\n",
    "        pass\n",
    "\n",
    "rohit = Chef()\n",
    "rohit.name = 'rohit'\n",
    "rohit.experience = 5\n",
    "rohit.specialty = 'indian cuisine'\n",
    "\n",
    "print(rohit.name, rohit.experience, rohit.specialty)\n",
    "\n",
    "yash = Chef()\n",
    "yash.name = 'yash'\n",
    "yash.experience = 6\n",
    "yash.specialty = 'german cuisine'\n",
    "\n",
    "print(yash.name, yash.experience, yash.specialty)\n",
    "\n",
    "aakash = Chef()\n",
    "aakash.name = 'aakash'\n",
    "aakash.experience = 7\n",
    "aakash.specialty = 'italian cuisine'\n",
    "\n",
    "print(aakash.name, aakash.experience, aakash.specialty)"
   ]
  },
  {
   "cell_type": "code",
   "execution_count": 5,
   "id": "dd371614",
   "metadata": {},
   "outputs": [
    {
     "name": "stdout",
     "output_type": "stream",
     "text": [
      "rohit 5 indian cuisine\n",
      "aakash 7 chinese cuisine\n",
      "yash 6 italian cuisine\n"
     ]
    }
   ],
   "source": [
    "class Chef:\n",
    "    def __init__(self, name, experience, specialty):\n",
    "        self.name = name\n",
    "        self.experience = experience\n",
    "        self.specialty = specialty\n",
    "\n",
    "rohit =  Chef('rohit', 5, 'indian cuisine')\n",
    "yash =  Chef('yash', 6, 'italian cuisine')\n",
    "aakash =  Chef('aakash', 7, 'chinese cuisine')\n",
    "\n",
    "print(rohit.name, rohit.experience, rohit.specialty)\n",
    "print(aakash.name, aakash.experience, aakash.specialty)\n",
    "print(yash.name, yash.experience, yash.specialty)"
   ]
  }
 ],
 "metadata": {
  "kernelspec": {
   "display_name": "venv (3.12.4)",
   "language": "python",
   "name": "python3"
  },
  "language_info": {
   "codemirror_mode": {
    "name": "ipython",
    "version": 3
   },
   "file_extension": ".py",
   "mimetype": "text/x-python",
   "name": "python",
   "nbconvert_exporter": "python",
   "pygments_lexer": "ipython3",
   "version": "3.12.4"
  }
 },
 "nbformat": 4,
 "nbformat_minor": 5
}
