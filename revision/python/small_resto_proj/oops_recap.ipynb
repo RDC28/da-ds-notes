{
 "cells": [
  {
   "cell_type": "code",
   "execution_count": 1,
   "id": "1e5bf02e",
   "metadata": {},
   "outputs": [
    {
     "name": "stdout",
     "output_type": "stream",
     "text": [
      "rohit 5 indian cuisine\n",
      "yash 6 german cuisine\n",
      "aakash 7 italian cuisine\n"
     ]
    }
   ],
   "source": [
    "class Chef:\n",
    "    def __init__(self):\n",
    "        pass\n",
    "\n",
    "rohit = Chef()\n",
    "rohit.name = 'rohit'\n",
    "rohit.experience = 5\n",
    "rohit.specialty = 'indian cuisine'\n",
    "\n",
    "print(rohit.name, rohit.experience, rohit.specialty)\n",
    "\n",
    "yash = Chef()\n",
    "yash.name = 'yash'\n",
    "yash.experience = 6\n",
    "yash.specialty = 'german cuisine'\n",
    "\n",
    "print(yash.name, yash.experience, yash.specialty)\n",
    "\n",
    "aakash = Chef()\n",
    "aakash.name = 'aakash'\n",
    "aakash.experience = 7\n",
    "aakash.specialty = 'italian cuisine'\n",
    "\n",
    "print(aakash.name, aakash.experience, aakash.specialty)"
   ]
  },
  {
   "cell_type": "code",
   "execution_count": 1,
   "id": "dd371614",
   "metadata": {},
   "outputs": [
    {
     "name": "stdout",
     "output_type": "stream",
     "text": [
      "rohit 5 indian cuisine\n",
      "aakash 7 chinese cuisine\n",
      "yash 6 italian cuisine\n"
     ]
    }
   ],
   "source": [
    "class Chef:\n",
    "    def __init__(self, name, experience, specialty):\n",
    "        self.name = name\n",
    "        self.experience = experience\n",
    "        self.specialty = specialty\n",
    "\n",
    "rohit =  Chef('rohit', 5, 'indian cuisine')\n",
    "yash =  Chef('yash', 6, 'italian cuisine')\n",
    "aakash =  Chef('aakash', 7, 'chinese cuisine')\n",
    "\n",
    "print(rohit.name, rohit.experience, rohit.specialty)\n",
    "print(aakash.name, aakash.experience, aakash.specialty)\n",
    "print(yash.name, yash.experience, yash.specialty)"
   ]
  },
  {
   "cell_type": "code",
   "execution_count": 15,
   "id": "946eb50b",
   "metadata": {},
   "outputs": [
    {
     "name": "stdout",
     "output_type": "stream",
     "text": [
      "Mike Tyson\n",
      "Mike Tyson\n",
      "Mike Tyson\n",
      "undertaker\n",
      "undertaker\n",
      "undertaker\n"
     ]
    }
   ],
   "source": [
    "class Gym:\n",
    "    trainer = 'Mike Tyson'\n",
    "    fees = 10000\n",
    "\n",
    "    def __init__(self, name):\n",
    "        self.name = name\n",
    "\n",
    "    @classmethod\n",
    "    def set_trainer(cls, trainer):\n",
    "        cls.trainer = trainer\n",
    "\n",
    "    \n",
    "rohit = Gym('rohit')\n",
    "yash = Gym('yash')\n",
    "aakash = Gym('aakash')\n",
    "\n",
    "# print(rohit.name)\n",
    "# print(yash.name)\n",
    "# print(aakash.name)\n",
    "\n",
    "print(rohit.trainer)\n",
    "print(yash.trainer)\n",
    "print(aakash.trainer)\n",
    "\n",
    "aakash.set_trainer('undertaker')\n",
    "\n",
    "print(rohit.trainer)\n",
    "print(yash.trainer)\n",
    "print(aakash.trainer)"
   ]
  },
  {
   "cell_type": "code",
   "execution_count": 2,
   "id": "2f357710",
   "metadata": {},
   "outputs": [
    {
     "name": "stdout",
     "output_type": "stream",
     "text": [
      "22\n",
      "-22\n",
      "630\n",
      "0.001587301587301587\n"
     ]
    },
    {
     "data": {
      "text/plain": [
       "6"
      ]
     },
     "execution_count": 2,
     "metadata": {},
     "output_type": "execute_result"
    }
   ],
   "source": [
    "class Calculator:\n",
    "    @staticmethod\n",
    "    def sum(*num):\n",
    "        res = 0\n",
    "        for i in num:\n",
    "            res += i\n",
    "        return res\n",
    "    \n",
    "    @staticmethod\n",
    "    def diff(*num):\n",
    "        res = 0\n",
    "        for i in num:\n",
    "            res -= i\n",
    "        return res\n",
    "    \n",
    "    @staticmethod\n",
    "    def prod(*num):\n",
    "        res = 1\n",
    "        for i in num:\n",
    "            res *= i\n",
    "        return res\n",
    "    \n",
    "    @staticmethod\n",
    "    def div(*num):\n",
    "        res = 1\n",
    "        for i in num:\n",
    "            res /= i\n",
    "        return res\n",
    "    \n",
    "print(Calculator.sum(1,3,7,5,6))\n",
    "print(Calculator.diff(1,3,7,5,6))\n",
    "print(Calculator.prod(1,3,7,5,6))\n",
    "print(Calculator.div(1,3,7,5,6))\n",
    "\n",
    "rohit = Calculator()\n",
    "rohit.sum(1, 2, 3)"
   ]
  },
  {
   "cell_type": "code",
   "execution_count": null,
   "id": "771e8ffe",
   "metadata": {},
   "outputs": [],
   "source": [
    "class Exam:\n",
    "    def __init__(self,\n",
    "                 name: str,\n",
    "                 physics: int,\n",
    "                 chemistry: int,\n",
    "                 math: int,\n",
    "                 bio: int):\n",
    "        self.name = name\n",
    "        self.physics = physics\n",
    "        self.chemistry = chemistry\n",
    "        self.math = math\n",
    "        self.bio = bio\n",
    "\n",
    "    def result(self) -> int:\n",
    "        result = sum([\n",
    "                    self.physics,\n",
    "                    self.chemistry,\n",
    "                    self.math,\n",
    "                    self.bio\n",
    "                    ]) / 4\n",
    "        return result\n",
    "  \n",
    "class Student:\n",
    "    def __init__(self,\n",
    "                 name: str,\n",
    "                 age: int,\n",
    "                 grade: int,\n",
    "                 exam: Exam):\n",
    "        self.name = name\n",
    "        self.age = age\n",
    "        self.grade = grade\n",
    "        self.exam = exam\n",
    "\n",
    "class Candidate(Student):\n",
    "    def __init__(self, student: Student):\n",
    "        super().__init__(student.name,\n",
    "                         student.age,\n",
    "                         student.grade,\n",
    "                         student.exam)\n",
    "        \n",
    "    def is_shortlisted(self) -> bool:\n",
    "        return self.exam.result() > 50"
   ]
  },
  {
   "cell_type": "code",
   "execution_count": 26,
   "id": "29ad6839",
   "metadata": {},
   "outputs": [
    {
     "name": "stdout",
     "output_type": "stream",
     "text": [
      "49.5\n",
      "67.5\n",
      "74.25\n",
      "False\n",
      "True\n",
      "True\n"
     ]
    }
   ],
   "source": [
    "rohit = Student(name = 'rohit',\n",
    "                age = 20,\n",
    "                grade = 15,\n",
    "                exam = Exam(name = 'internal',\n",
    "                     physics = 45,\n",
    "                     chemistry = 46,\n",
    "                     math = 58,\n",
    "                     bio = 49))\n",
    "\n",
    "yash = Student(name = 'yash',\n",
    "                age = 20,\n",
    "                grade = 15,\n",
    "                exam = Exam(name = 'internal',\n",
    "                     physics = 65,\n",
    "                     chemistry = 55,\n",
    "                     math = 75,\n",
    "                     bio = 75))\n",
    "\n",
    "aakash = Student(name = 'aakash',\n",
    "                age = 21,\n",
    "                grade = 15,\n",
    "                exam = Exam(name = 'internal',\n",
    "                     physics = 54,\n",
    "                     chemistry = 64,\n",
    "                     math = 85,\n",
    "                     bio = 94))\n",
    "\n",
    "print(rohit.exam.result())\n",
    "print(yash.exam.result())\n",
    "print(aakash.exam.result())\n",
    "\n",
    "c1 = Candidate(rohit)\n",
    "c2 = Candidate(yash)\n",
    "c3 = Candidate(aakash)\n",
    "\n",
    "print(c1.is_shortlisted())\n",
    "print(c2.is_shortlisted())\n",
    "print(c3.is_shortlisted())"
   ]
  },
  {
   "cell_type": "code",
   "execution_count": 1,
   "id": "f06d60ff",
   "metadata": {},
   "outputs": [],
   "source": [
    "from resto import Employee"
   ]
  }
 ],
 "metadata": {
  "kernelspec": {
   "display_name": "venv (3.12.4)",
   "language": "python",
   "name": "python3"
  },
  "language_info": {
   "codemirror_mode": {
    "name": "ipython",
    "version": 3
   },
   "file_extension": ".py",
   "mimetype": "text/x-python",
   "name": "python",
   "nbconvert_exporter": "python",
   "pygments_lexer": "ipython3",
   "version": "3.12.4"
  }
 },
 "nbformat": 4,
 "nbformat_minor": 5
}
