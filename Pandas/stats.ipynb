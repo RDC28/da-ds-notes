{
 "cells": [
  {
   "cell_type": "markdown",
   "id": "bdd91594-57c6-4034-befb-4af9da7f4f5e",
   "metadata": {},
   "source": [
    "# Mean"
   ]
  },
  {
   "cell_type": "code",
   "execution_count": 55,
   "id": "a566adc4-ac0a-42a2-b78c-5f8dad0fa06e",
   "metadata": {},
   "outputs": [],
   "source": [
    "import numpy as np\n",
    "import pandas as pd\n",
    "\n",
    "data = np.random.randint(10, 100, 100)\n",
    "data = pd.Series(data = data)"
   ]
  },
  {
   "cell_type": "code",
   "execution_count": 59,
   "id": "04de84cd-63d5-4cd0-963c-3c0f1c426097",
   "metadata": {},
   "outputs": [
    {
     "data": {
      "text/plain": [
       "count    100.000000\n",
       "mean      58.230000\n",
       "std       25.759907\n",
       "min       10.000000\n",
       "25%       36.000000\n",
       "50%       60.000000\n",
       "75%       80.250000\n",
       "max       99.000000\n",
       "dtype: float64"
      ]
     },
     "execution_count": 59,
     "metadata": {},
     "output_type": "execute_result"
    }
   ],
   "source": [
    "data.describe()"
   ]
  },
  {
   "cell_type": "markdown",
   "id": "65f52ee4-4502-4a19-8350-a43283d699ef",
   "metadata": {},
   "source": [
    "# Mode"
   ]
  },
  {
   "cell_type": "code",
   "execution_count": 56,
   "id": "34c7e427-7f23-497a-ba51-ad36babd9440",
   "metadata": {},
   "outputs": [
    {
     "name": "stdout",
     "output_type": "stream",
     "text": [
      "0    69\n",
      "1    79\n",
      "dtype: int64\n",
      "69    4\n",
      "79    4\n",
      "19    3\n",
      "90    3\n",
      "41    3\n",
      "     ..\n",
      "75    1\n",
      "13    1\n",
      "81    1\n",
      "97    1\n",
      "58    1\n",
      "Name: count, Length: 61, dtype: int64\n"
     ]
    }
   ],
   "source": [
    "print(data.mode())\n",
    "print(data.value_counts())"
   ]
  },
  {
   "cell_type": "markdown",
   "id": "2bbbb0c4-8d03-4bc5-8ad5-963648e8f286",
   "metadata": {},
   "source": [
    "# Median"
   ]
  },
  {
   "cell_type": "code",
   "execution_count": 60,
   "id": "06cfc346-a0df-4cf0-83db-14073c67ae26",
   "metadata": {},
   "outputs": [
    {
     "data": {
      "text/plain": [
       "60.0"
      ]
     },
     "execution_count": 60,
     "metadata": {},
     "output_type": "execute_result"
    }
   ],
   "source": [
    "data.median()"
   ]
  },
  {
   "cell_type": "markdown",
   "id": "1fc62663-e5a8-447a-b155-70e9a8a93353",
   "metadata": {},
   "source": [
    "# Mean vs Median"
   ]
  },
  {
   "cell_type": "code",
   "execution_count": 70,
   "id": "d686bd40-e58d-4dbb-8cb9-09241f3df1dc",
   "metadata": {},
   "outputs": [
    {
     "name": "stdout",
     "output_type": "stream",
     "text": [
      "(1000,)\n",
      "mean = 84.342\n",
      "median = 84.0\n"
     ]
    }
   ],
   "source": [
    "data = pd.Series(np.random.randint(70, 100, 1000))\n",
    "print(data.shape)\n",
    "print(f'mean = {data.mean()}')\n",
    "print(f'median = {data.median()}')"
   ]
  },
  {
   "cell_type": "code",
   "execution_count": 71,
   "id": "c897b12f-6252-4368-809b-8bd7c4683cc8",
   "metadata": {},
   "outputs": [
    {
     "name": "stdout",
     "output_type": "stream",
     "text": [
      "(1004,)\n",
      "mean = 41560.805776892434\n",
      "median = 84.0\n"
     ]
    }
   ],
   "source": [
    "data = pd.Series(np.array([*data, 100000, 10003, 2786317, 38746387]))\n",
    "print(data.shape)\n",
    "print(f'mean = {data.mean()}')\n",
    "print(f'median = {data.median()}')"
   ]
  },
  {
   "cell_type": "code",
   "execution_count": null,
   "id": "d4bf8482-6d7f-4e13-93bd-4cb37f21663d",
   "metadata": {},
   "outputs": [],
   "source": []
  }
 ],
 "metadata": {
  "kernelspec": {
   "display_name": "Python 3 (ipykernel)",
   "language": "python",
   "name": "python3"
  },
  "language_info": {
   "codemirror_mode": {
    "name": "ipython",
    "version": 3
   },
   "file_extension": ".py",
   "mimetype": "text/x-python",
   "name": "python",
   "nbconvert_exporter": "python",
   "pygments_lexer": "ipython3",
   "version": "3.8.10"
  }
 },
 "nbformat": 4,
 "nbformat_minor": 5
}
