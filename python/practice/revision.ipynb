{
 "cells": [
  {
   "cell_type": "code",
   "execution_count": null,
   "id": "b3c4602d",
   "metadata": {},
   "outputs": [
    {
     "name": "stdout",
     "output_type": "stream",
     "text": [
      "44 is numeric\n"
     ]
    }
   ],
   "source": [
    "s = input(\"enter a string to check: \")\n",
    "if s.isdigit():\n",
    "    print(f\"{int(s)} is numeric\")\n",
    "else:\n",
    "    print(f\"{s} is not  numeric\")"
   ]
  },
  {
   "cell_type": "code",
   "execution_count": 7,
   "id": "8140c0c9",
   "metadata": {},
   "outputs": [
    {
     "name": "stdout",
     "output_type": "stream",
     "text": [
      "465 + 456 = 921\n"
     ]
    }
   ],
   "source": [
    "import time\n",
    "\n",
    "num1 = input(\"enter first number: \")\n",
    "num2 = input(\"enter second number: \")\n",
    "\n",
    "while not num1.isdigit():\n",
    "    time.sleep(1)\n",
    "    num1 = input(\"enter first number: \")\n",
    "\n",
    "while not num2.isdigit():\n",
    "    time.sleep(1)\n",
    "    num1 = input(\"enter second number: \")\n",
    "\n",
    "print(f\"{int(num1)} + {int(num2)} = {int(num1) + int(num2)}\")\n",
    "# float(num1) + float(num2)"
   ]
  },
  {
   "cell_type": "code",
   "execution_count": 1,
   "id": "d1f37e0f",
   "metadata": {},
   "outputs": [
    {
     "name": "stdout",
     "output_type": "stream",
     "text": [
      "{'h': 104, 'e': 101, 'l': 108, 'o': 111, ' ': 32, 'w': 119, 'r': 114, 'd': 100, 't': 116, 'i': 105, 's': 115, 'p': 112, 'y': 121, 'n': 110}\n"
     ]
    }
   ],
   "source": [
    "s = \"hello world this is python\"\n",
    "ascii_values = {}\n",
    "\n",
    "for i in s:\n",
    "    ascii_values[i] = ord(i)\n",
    "\n",
    "print(ascii_values)"
   ]
  },
  {
   "cell_type": "code",
   "execution_count": 4,
   "id": "97e57f98",
   "metadata": {},
   "outputs": [
    {
     "name": "stdout",
     "output_type": "stream",
     "text": [
      "5\n",
      "5.25\n",
      "5.5\n",
      "5.75\n",
      "6.0\n",
      "6.25\n",
      "6.5\n",
      "6.75\n"
     ]
    }
   ],
   "source": [
    "t = 5\n",
    "\n",
    "while (t < 7):\n",
    "    print(t)\n",
    "    t += 0.25\n"
   ]
  },
  {
   "cell_type": "code",
   "execution_count": 5,
   "id": "0b719643",
   "metadata": {},
   "outputs": [
    {
     "name": "stdout",
     "output_type": "stream",
     "text": [
      "-36\n",
      "-37\n",
      "-38\n",
      "-39\n",
      "-40\n",
      "-41\n"
     ]
    }
   ],
   "source": [
    "i = -36\n",
    "\n",
    "while (i > -42):\n",
    "    print(i)\n",
    "    i -= 1"
   ]
  },
  {
   "cell_type": "code",
   "execution_count": 9,
   "id": "dbff0875",
   "metadata": {},
   "outputs": [
    {
     "name": "stdout",
     "output_type": "stream",
     "text": [
      "-31\n",
      "-30\n",
      "-29\n",
      "-28\n"
     ]
    }
   ],
   "source": [
    "i = -31\n",
    "\n",
    "while (i < -27):\n",
    "    print(i)\n",
    "    i += 1"
   ]
  },
  {
   "cell_type": "code",
   "execution_count": 13,
   "id": "9db0f7f0",
   "metadata": {},
   "outputs": [
    {
     "name": "stdout",
     "output_type": "stream",
     "text": [
      "4\n",
      "8\n",
      "16\n",
      "32\n",
      "64\n"
     ]
    }
   ],
   "source": [
    "i = 2\n",
    "\n",
    "while (i < 7):\n",
    "    print(2 ** i)\n",
    "    i += 1"
   ]
  },
  {
   "cell_type": "code",
   "execution_count": 16,
   "id": "1445a0e1",
   "metadata": {},
   "outputs": [
    {
     "name": "stdout",
     "output_type": "stream",
     "text": [
      "-18\n",
      "-12\n",
      "-6\n",
      "0\n",
      "6\n",
      "12\n",
      "18\n"
     ]
    }
   ],
   "source": [
    "i = -18\n",
    "\n",
    "while (i < 19):\n",
    "    print(i)\n",
    "    i += 6"
   ]
  },
  {
   "cell_type": "code",
   "execution_count": 17,
   "id": "ac5054ed",
   "metadata": {},
   "outputs": [
    {
     "name": "stdout",
     "output_type": "stream",
     "text": [
      "4\n",
      "8\n",
      "16\n",
      "32\n",
      "64\n"
     ]
    }
   ],
   "source": [
    "for i in range (2, 7):\n",
    "    print(2 ** i)"
   ]
  },
  {
   "cell_type": "code",
   "execution_count": 20,
   "id": "dda1041b",
   "metadata": {},
   "outputs": [
    {
     "name": "stdout",
     "output_type": "stream",
     "text": [
      "0\n",
      "1\n",
      "2\n",
      "3\n",
      "4\n",
      "0\n",
      "1\n",
      "2\n",
      "3\n",
      "4\n",
      "0\n",
      "1\n",
      "2\n",
      "3\n",
      "4\n",
      "15\n"
     ]
    }
   ],
   "source": [
    "count = 0\n",
    "\n",
    "for i in range(3):\n",
    "    for i in range(5):\n",
    "        print(i)\n",
    "        count += 1\n",
    "print(count)"
   ]
  },
  {
   "cell_type": "code",
   "execution_count": 24,
   "id": "15d2b04f",
   "metadata": {},
   "outputs": [
    {
     "name": "stdout",
     "output_type": "stream",
     "text": [
      "0 0\n",
      "0 1\n",
      "0 2\n",
      "0 3\n",
      "0 4\n",
      "1 0\n",
      "1 1\n",
      "1 2\n",
      "1 3\n",
      "1 4\n",
      "2 0\n",
      "2 1\n",
      "2 2\n",
      "2 3\n",
      "2 4\n"
     ]
    }
   ],
   "source": [
    "i, j = 0, 0\n",
    "\n",
    "while i < 3:\n",
    "    j = 0\n",
    "    while j < 5:\n",
    "        print (i, j)\n",
    "        j += 1\n",
    "    i += 1"
   ]
  },
  {
   "cell_type": "code",
   "execution_count": 12,
   "id": "1e3e0d12",
   "metadata": {},
   "outputs": [
    {
     "name": "stdout",
     "output_type": "stream",
     "text": [
      "hello : 2\n",
      "world : 1\n",
      "this : 1\n",
      "is : 1\n",
      "python : 1\n",
      "programming : 3\n",
      "language : 4\n"
     ]
    }
   ],
   "source": [
    "# write a program to count the number of vowels in each word of a sentence.\n",
    "\n",
    "s = \"hello world this is python programming language\"\n",
    "word_list = s.lower().split()\n",
    "res = {}\n",
    "\n",
    "for word in word_list:\n",
    "    count =  0\n",
    "    for ch in word:\n",
    "        if ch in \"aeiou\":\n",
    "            count += 1\n",
    "    res[word] = count\n",
    "\n",
    "for key in res:\n",
    "    print(f\"{key} : {res[key]}\")"
   ]
  },
  {
   "cell_type": "code",
   "execution_count": null,
   "id": "0c9c6ccc",
   "metadata": {},
   "outputs": [
    {
     "name": "stdout",
     "output_type": "stream",
     "text": [
      "hello : 2\n",
      "world : 1\n",
      "this : 1\n",
      "is : 1\n",
      "python : 1\n",
      "programming : 3\n",
      "language : 4\n"
     ]
    }
   ],
   "source": [
    "# write a program to count the number of vowels in each word of a sentence.\n",
    "\n",
    "s = \"hello world this is python programming language\"\n",
    "word_list = s.lower().split()\n",
    "res = {}\n",
    "\n",
    "for word in word_list:\n",
    "    count =  0\n",
    "    for ch in word:\n",
    "        for v in \"aeiou\":\n",
    "            if ch == v:\n",
    "                count += 1\n",
    "                break\n",
    "    res[word] = count\n",
    "\n",
    "for key in res:\n",
    "    print(f\"{key} : {res[key]}\")"
   ]
  },
  {
   "cell_type": "code",
   "execution_count": 23,
   "id": "5793584a",
   "metadata": {},
   "outputs": [
    {
     "name": "stdout",
     "output_type": "stream",
     "text": [
      "Herro World\n"
     ]
    }
   ],
   "source": [
    "def repl_count(s : str, ch_to_repl : str, ch_repl_with : str, count : int = 1):\n",
    "    res = \"\"\n",
    "    for ch in s:\n",
    "        if (ch == ch_to_repl and count):\n",
    "            res += ch_repl_with\n",
    "            count -= 1\n",
    "        else:\n",
    "            res += ch\n",
    "    return res\n",
    "\n",
    "print(repl_count(\"Hello World\", 'l', 'r', 2))"
   ]
  },
  {
   "cell_type": "code",
   "execution_count": 15,
   "id": "3a283aa7",
   "metadata": {},
   "outputs": [
    {
     "name": "stdout",
     "output_type": "stream",
     "text": [
      "(8, 8)\n"
     ]
    }
   ],
   "source": [
    "# wap to find to return the smallest and largest divisible from a list.\n",
    "\n",
    "def is_divisible_by(num : int, values : list):\n",
    "    res = []\n",
    "    smallest_divisor, largest_divisor = None, None\n",
    "\n",
    "    for value in values:\n",
    "        if value % num == 0:\n",
    "            res.append(value)\n",
    "    \n",
    "    if res:\n",
    "        smallest_divisor, largest_divisor = res[0], res[0]\n",
    "    \n",
    "    for i in res:\n",
    "        if i < smallest_divisor:\n",
    "            smallest_divisor = i\n",
    "        if i > largest_divisor:\n",
    "            largest_divisor = i\n",
    "\n",
    "    return smallest_divisor, largest_divisor\n",
    "\n",
    "print(is_divisible_by(4, [8]))"
   ]
  },
  {
   "cell_type": "code",
   "execution_count": null,
   "id": "2cc3a243",
   "metadata": {},
   "outputs": [],
   "source": [
    " "
   ]
  }
 ],
 "metadata": {
  "kernelspec": {
   "display_name": "Python 3",
   "language": "python",
   "name": "python3"
  },
  "language_info": {
   "codemirror_mode": {
    "name": "ipython",
    "version": 3
   },
   "file_extension": ".py",
   "mimetype": "text/x-python",
   "name": "python",
   "nbconvert_exporter": "python",
   "pygments_lexer": "ipython3",
   "version": "3.10.12"
  }
 },
 "nbformat": 4,
 "nbformat_minor": 5
}
