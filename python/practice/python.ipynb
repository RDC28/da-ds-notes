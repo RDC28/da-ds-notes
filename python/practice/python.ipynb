{
 "cells": [
  {
   "cell_type": "code",
   "execution_count": 1,
   "id": "cfe4990f",
   "metadata": {},
   "outputs": [
    {
     "data": {
      "text/plain": [
       "''"
      ]
     },
     "execution_count": 1,
     "metadata": {},
     "output_type": "execute_result"
    }
   ],
   "source": [
    "2 and \"\""
   ]
  },
  {
   "cell_type": "code",
   "execution_count": 2,
   "id": "c7d63f8f",
   "metadata": {},
   "outputs": [
    {
     "data": {
      "text/plain": [
       "False"
      ]
     },
     "execution_count": 2,
     "metadata": {},
     "output_type": "execute_result"
    }
   ],
   "source": [
    "bool(2 and \"\")"
   ]
  },
  {
   "cell_type": "code",
   "execution_count": 22,
   "id": "bc08ba93",
   "metadata": {},
   "outputs": [
    {
     "data": {
      "text/plain": [
       "585"
      ]
     },
     "execution_count": 22,
     "metadata": {},
     "output_type": "execute_result"
    }
   ],
   "source": [
    "0o1111\n",
    "\n",
    "\n",
    "\n"
   ]
  },
  {
   "cell_type": "code",
   "execution_count": 23,
   "id": "9d13902a",
   "metadata": {},
   "outputs": [
    {
     "data": {
      "text/plain": [
       "4369"
      ]
     },
     "execution_count": 23,
     "metadata": {},
     "output_type": "execute_result"
    }
   ],
   "source": [
    "0x1111"
   ]
  },
  {
   "cell_type": "code",
   "execution_count": 24,
   "id": "e457e8f6",
   "metadata": {},
   "outputs": [
    {
     "data": {
      "text/plain": [
       "10"
      ]
     },
     "execution_count": 24,
     "metadata": {},
     "output_type": "execute_result"
    }
   ],
   "source": [
    "~-11"
   ]
  },
  {
   "cell_type": "code",
   "execution_count": 25,
   "id": "52cfa809",
   "metadata": {},
   "outputs": [
    {
     "data": {
      "text/plain": [
       "-6"
      ]
     },
     "execution_count": 25,
     "metadata": {},
     "output_type": "execute_result"
    }
   ],
   "source": [
    "~5"
   ]
  },
  {
   "cell_type": "code",
   "execution_count": 26,
   "id": "eeff4a78",
   "metadata": {},
   "outputs": [
    {
     "data": {
      "text/plain": [
       "-5"
      ]
     },
     "execution_count": 26,
     "metadata": {},
     "output_type": "execute_result"
    }
   ],
   "source": [
    "~4"
   ]
  },
  {
   "cell_type": "code",
   "execution_count": 27,
   "id": "996171ab",
   "metadata": {},
   "outputs": [
    {
     "data": {
      "text/plain": [
       "7"
      ]
     },
     "execution_count": 27,
     "metadata": {},
     "output_type": "execute_result"
    }
   ],
   "source": [
    "~-8"
   ]
  },
  {
   "cell_type": "code",
   "execution_count": 28,
   "id": "d29f6009",
   "metadata": {},
   "outputs": [
    {
     "data": {
      "text/plain": [
       "0"
      ]
     },
     "execution_count": 28,
     "metadata": {},
     "output_type": "execute_result"
    }
   ],
   "source": [
    "8^8"
   ]
  },
  {
   "cell_type": "code",
   "execution_count": 29,
   "id": "68cd4607",
   "metadata": {},
   "outputs": [
    {
     "data": {
      "text/plain": [
       "15"
      ]
     },
     "execution_count": 29,
     "metadata": {},
     "output_type": "execute_result"
    }
   ],
   "source": [
    "7^8"
   ]
  },
  {
   "cell_type": "code",
   "execution_count": 30,
   "id": "b1f77ad7",
   "metadata": {},
   "outputs": [
    {
     "name": "stdout",
     "output_type": "stream",
     "text": [
      "postive\n",
      "num\n"
     ]
    }
   ],
   "source": [
    "num = 10\n",
    "if num>0:\n",
    "    print('postive')\n",
    "    print('num')\n",
    "else:\n",
    "    print('negative')    \n",
    "\n"
   ]
  },
  {
   "cell_type": "code",
   "execution_count": 34,
   "id": "8f2bad58",
   "metadata": {},
   "outputs": [],
   "source": [
    "num =10\n",
    "if(num>0):\n",
    "    pass"
   ]
  },
  {
   "cell_type": "code",
   "execution_count": 35,
   "id": "d8f49a72",
   "metadata": {},
   "outputs": [
    {
     "data": {
      "text/plain": [
       "1"
      ]
     },
     "execution_count": 35,
     "metadata": {},
     "output_type": "execute_result"
    }
   ],
   "source": [
    "7>>2"
   ]
  },
  {
   "cell_type": "code",
   "execution_count": 36,
   "id": "b9b7494a",
   "metadata": {},
   "outputs": [
    {
     "data": {
      "text/plain": [
       "28"
      ]
     },
     "execution_count": 36,
     "metadata": {},
     "output_type": "execute_result"
    }
   ],
   "source": [
    "7<<2"
   ]
  },
  {
   "cell_type": "code",
   "execution_count": 3,
   "id": "c588b381",
   "metadata": {},
   "outputs": [
    {
     "name": "stdout",
     "output_type": "stream",
     "text": [
      "false\n"
     ]
    }
   ],
   "source": [
    "if False:\n",
    "    print(\"true\")\n",
    "else:\n",
    "    print(\"false\")"
   ]
  },
  {
   "cell_type": "code",
   "execution_count": 13,
   "id": "d69c0aaf",
   "metadata": {},
   "outputs": [
    {
     "name": "stdout",
     "output_type": "stream",
     "text": [
      "15 is odd.\n"
     ]
    }
   ],
   "source": [
    "num = 15\n",
    "if num % 2:\n",
    "    print(num, \"is odd.\")\n",
    "else:\n",
    "    print(num, \"is even.\")"
   ]
  },
  {
   "cell_type": "code",
   "execution_count": 11,
   "id": "a75b1768",
   "metadata": {},
   "outputs": [
    {
     "name": "stdout",
     "output_type": "stream",
     "text": [
      "<class 'int'>\n"
     ]
    }
   ],
   "source": [
    "num = int(input(\"Enter a Number:\"))\n",
    "print(type(num))"
   ]
  },
  {
   "cell_type": "code",
   "execution_count": 16,
   "id": "2efcd158",
   "metadata": {},
   "outputs": [
    {
     "name": "stdout",
     "output_type": "stream",
     "text": [
      "11 is odd.\n"
     ]
    }
   ],
   "source": [
    "num = int(input(\"Enter a Number:\"))\n",
    "if num % 2:\n",
    "    print(num, \"is odd.\")\n",
    "else:\n",
    "    print(num, \"is even.\")"
   ]
  },
  {
   "cell_type": "code",
   "execution_count": 26,
   "id": "a82cdea8",
   "metadata": {},
   "outputs": [
    {
     "data": {
      "text/plain": [
       "'A'"
      ]
     },
     "execution_count": 26,
     "metadata": {},
     "output_type": "execute_result"
    }
   ],
   "source": [
    "chr(65)"
   ]
  },
  {
   "cell_type": "code",
   "execution_count": 28,
   "id": "acb52aaa",
   "metadata": {},
   "outputs": [
    {
     "data": {
      "text/plain": [
       "65"
      ]
     },
     "execution_count": 28,
     "metadata": {},
     "output_type": "execute_result"
    }
   ],
   "source": [
    "ord(\"A\")"
   ]
  },
  {
   "cell_type": "code",
   "execution_count": 30,
   "id": "5ff54efd",
   "metadata": {},
   "outputs": [
    {
     "name": "stdout",
     "output_type": "stream",
     "text": [
      "this is \"python\"\n"
     ]
    }
   ],
   "source": [
    "print('this is \"python\"')"
   ]
  },
  {
   "cell_type": "code",
   "execution_count": 31,
   "id": "b7d02910",
   "metadata": {},
   "outputs": [
    {
     "name": "stdout",
     "output_type": "stream",
     "text": [
      "it's python\n"
     ]
    }
   ],
   "source": [
    "print(\"it's python\")"
   ]
  },
  {
   "cell_type": "code",
   "execution_count": 33,
   "id": "f7d0825f",
   "metadata": {},
   "outputs": [
    {
     "name": "stdout",
     "output_type": "stream",
     "text": [
      "it's \"python\"\n",
      "it's \"python\"\n"
     ]
    }
   ],
   "source": [
    "print('it\\'s \"python\"')\n",
    "print(\"it's \\\"python\\\"\")"
   ]
  },
  {
   "cell_type": "code",
   "execution_count": 34,
   "id": "8a06fef3",
   "metadata": {},
   "outputs": [
    {
     "name": "stdout",
     "output_type": "stream",
     "text": [
      "\\n is for new line\n"
     ]
    }
   ],
   "source": [
    "print(\"\\\\n is for new line\")"
   ]
  },
  {
   "cell_type": "code",
   "execution_count": 36,
   "id": "e922ef7a",
   "metadata": {},
   "outputs": [
    {
     "name": "stdout",
     "output_type": "stream",
     "text": [
      "it's \"\\t\" for a tab space\n"
     ]
    }
   ],
   "source": [
    "print(\"it's \\\"\\\\t\\\" for a tab space\")"
   ]
  },
  {
   "cell_type": "code",
   "execution_count": 37,
   "id": "1cdf32a9",
   "metadata": {},
   "outputs": [
    {
     "name": "stdout",
     "output_type": "stream",
     "text": [
      "/home/quastech/gauri/python.ipynb\n"
     ]
    }
   ],
   "source": [
    "print(\"/home/quastech/gauri/python.ipynb\")"
   ]
  },
  {
   "cell_type": "code",
   "execution_count": 38,
   "id": "2c2bf21d",
   "metadata": {},
   "outputs": [
    {
     "name": "stdout",
     "output_type": "stream",
     "text": [
      "\t hi\n"
     ]
    }
   ],
   "source": [
    "print(\"\\t hi\")"
   ]
  },
  {
   "cell_type": "code",
   "execution_count": null,
   "id": "8acad813",
   "metadata": {},
   "outputs": [
    {
     "name": "stdout",
     "output_type": "stream",
     "text": [
      "\\t hi\n"
     ]
    }
   ],
   "source": [
    "print(r\"\\t hi\")"
   ]
  },
  {
   "cell_type": "code",
   "execution_count": 44,
   "id": "346c3001",
   "metadata": {},
   "outputs": [],
   "source": [
    "name = \"Rohit\"\n",
    "age = 20\n",
    "salary = 20000"
   ]
  },
  {
   "cell_type": "code",
   "execution_count": 45,
   "id": "74ce66ae",
   "metadata": {},
   "outputs": [
    {
     "name": "stdout",
     "output_type": "stream",
     "text": [
      "my name is Rohit and my age is 20 and my salary is 20000\n"
     ]
    }
   ],
   "source": [
    "print(\"my name is\", name, \"and my age is\", age, \"and my salary is\", salary)"
   ]
  },
  {
   "cell_type": "code",
   "execution_count": 48,
   "id": "3b371260",
   "metadata": {},
   "outputs": [
    {
     "name": "stdout",
     "output_type": "stream",
     "text": [
      "My name is Rohit, I am 20 years old ad my salary is 20000\n"
     ]
    }
   ],
   "source": [
    "print(f\"My name is {name}, I am {age} years old ad my salary is {salary}\")"
   ]
  },
  {
   "cell_type": "code",
   "execution_count": 3,
   "id": "b22624ad",
   "metadata": {},
   "outputs": [
    {
     "name": "stdout",
     "output_type": "stream",
     "text": [
      "\n",
      "hi\n",
      "i\n",
      "am\n",
      "rohit\n"
     ]
    }
   ],
   "source": [
    "print(\"\"\"\n",
    "hi\n",
    "i\n",
    "am\n",
    "rohit\"\"\")"
   ]
  },
  {
   "cell_type": "code",
   "execution_count": 6,
   "id": "fa41ed57",
   "metadata": {},
   "outputs": [
    {
     "name": "stdout",
     "output_type": "stream",
     "text": [
      "ticket price: 10\n"
     ]
    }
   ],
   "source": [
    "t = 0\n",
    "age = 19\n",
    "if age > 12:\n",
    "    t = 10\n",
    "else:\n",
    "    t = 5\n",
    "print(\"ticket price:\", t)"
   ]
  },
  {
   "cell_type": "code",
   "execution_count": 8,
   "id": "4f2ad860",
   "metadata": {},
   "outputs": [
    {
     "data": {
      "text/plain": [
       "10"
      ]
     },
     "execution_count": 8,
     "metadata": {},
     "output_type": "execute_result"
    }
   ],
   "source": [
    "t = 10 if age > 12 else 5\n",
    "t"
   ]
  },
  {
   "cell_type": "code",
   "execution_count": 26,
   "id": "115c5113",
   "metadata": {},
   "outputs": [
    {
     "data": {
      "text/plain": [
       "'20 is even'"
      ]
     },
     "execution_count": 26,
     "metadata": {},
     "output_type": "execute_result"
    }
   ],
   "source": [
    "num = 20\n",
    "ans = f\"{num} is odd\" if num % 2 else f\"{num} is even\"\n",
    "ans"
   ]
  },
  {
   "cell_type": "code",
   "execution_count": 48,
   "id": "80a5a6a7",
   "metadata": {},
   "outputs": [
    {
     "name": "stdout",
     "output_type": "stream",
     "text": [
      "29.5 10\n"
     ]
    }
   ],
   "source": [
    "a, b = 10, 29.5\n",
    "temp = a\n",
    "a = b\n",
    "b = temp\n",
    "print(a, b)"
   ]
  },
  {
   "cell_type": "code",
   "execution_count": 49,
   "id": "058917da",
   "metadata": {},
   "outputs": [
    {
     "name": "stdout",
     "output_type": "stream",
     "text": [
      "10 29.5\n"
     ]
    }
   ],
   "source": [
    "a, b = b, a\n",
    "print(a, b)"
   ]
  },
  {
   "cell_type": "code",
   "execution_count": 56,
   "id": "be8b62f7",
   "metadata": {},
   "outputs": [
    {
     "data": {
      "text/plain": [
       "(29.5, 10983.4545)"
      ]
     },
     "execution_count": 56,
     "metadata": {},
     "output_type": "execute_result"
    }
   ],
   "source": [
    "a, b = 10983.4545, 29.5\n",
    "a, b = a + (b - a), b + (a - b)\n",
    "a, b"
   ]
  },
  {
   "cell_type": "code",
   "execution_count": 57,
   "id": "5803164f",
   "metadata": {},
   "outputs": [
    {
     "name": "stdout",
     "output_type": "stream",
     "text": [
      "20 10\n"
     ]
    }
   ],
   "source": [
    "a, b = 10, 20\n",
    "a = a + b\n",
    "b = a - b\n",
    "a = a - b\n",
    "print(a, b)"
   ]
  },
  {
   "cell_type": "code",
   "execution_count": 65,
   "id": "96afcbe4",
   "metadata": {},
   "outputs": [
    {
     "data": {
      "text/plain": [
       "'d'"
      ]
     },
     "execution_count": 65,
     "metadata": {},
     "output_type": "execute_result"
    }
   ],
   "source": [
    "s = \"Hello World\"\n",
    "s[10]                     "
   ]
  },
  {
   "cell_type": "code",
   "execution_count": 77,
   "id": "0795add2",
   "metadata": {},
   "outputs": [
    {
     "data": {
      "text/plain": [
       "'dlroW olleH'"
      ]
     },
     "execution_count": 77,
     "metadata": {},
     "output_type": "execute_result"
    }
   ],
   "source": [
    "s[::-1]"
   ]
  },
  {
   "cell_type": "code",
   "execution_count": null,
   "id": "3618f728",
   "metadata": {},
   "outputs": [],
   "source": []
  },
  {
   "cell_type": "code",
   "execution_count": null,
   "id": "cfb561c5",
   "metadata": {},
   "outputs": [],
   "source": []
  }
 ],
 "metadata": {
  "kernelspec": {
   "display_name": "Python 3",
   "language": "python",
   "name": "python3"
  },
  "language_info": {
   "codemirror_mode": {
    "name": "ipython",
    "version": 3
   },
   "file_extension": ".py",
   "mimetype": "text/x-python",
   "name": "python",
   "nbconvert_exporter": "python",
   "pygments_lexer": "ipython3",
   "version": "3.10.12"
  }
 },
 "nbformat": 4,
 "nbformat_minor": 5
}
