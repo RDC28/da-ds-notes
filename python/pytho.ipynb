{
  "cells": [
    {
      "cell_type": "code",
      "execution_count": null,
      "id": "85ffff96",
      "metadata": {
        "id": "85ffff96"
      },
      "outputs": [],
      "source": [
        "a=10"
      ]
    },
    {
      "cell_type": "code",
      "execution_count": null,
      "id": "5202e721",
      "metadata": {
        "id": "5202e721",
        "outputId": "e3c79cce-4032-4cef-e328-a1cf3a4878da"
      },
      "outputs": [
        {
          "name": "stdout",
          "output_type": "stream",
          "text": [
            "10\n"
          ]
        }
      ],
      "source": [
        "print (a)"
      ]
    },
    {
      "cell_type": "code",
      "execution_count": null,
      "id": "7ff2274f",
      "metadata": {
        "id": "7ff2274f",
        "outputId": "2e83d524-0370-4ac7-a071-752c83ba2eef"
      },
      "outputs": [
        {
          "name": "stdout",
          "output_type": "stream",
          "text": [
            "<class 'int'>\n"
          ]
        }
      ],
      "source": [
        "print (type(a))"
      ]
    },
    {
      "cell_type": "code",
      "execution_count": null,
      "id": "6be87a4c",
      "metadata": {
        "id": "6be87a4c",
        "outputId": "4ea573fe-5b22-499b-c839-c4f212fd241b"
      },
      "outputs": [
        {
          "name": "stdout",
          "output_type": "stream",
          "text": [
            "140348511912464\n"
          ]
        }
      ],
      "source": [
        "print (id(a))"
      ]
    },
    {
      "cell_type": "code",
      "execution_count": null,
      "id": "c37be7cc",
      "metadata": {
        "id": "c37be7cc"
      },
      "outputs": [],
      "source": [
        "b = 103.4\n"
      ]
    },
    {
      "cell_type": "code",
      "execution_count": null,
      "id": "73d1e549",
      "metadata": {
        "id": "73d1e549",
        "outputId": "a159d4d0-e71e-483a-94e9-d0ec19a82107"
      },
      "outputs": [
        {
          "name": "stdout",
          "output_type": "stream",
          "text": [
            "<class 'float'>\n"
          ]
        }
      ],
      "source": [
        "print (type(b))"
      ]
    },
    {
      "cell_type": "code",
      "execution_count": null,
      "id": "f5b8fbd2",
      "metadata": {
        "id": "f5b8fbd2",
        "outputId": "bc79a730-2ea3-4e96-945a-5f93ea609eb6"
      },
      "outputs": [
        {
          "name": "stdout",
          "output_type": "stream",
          "text": [
            "<class 'float'>\n"
          ]
        }
      ],
      "source": [
        "a = float(a)\n",
        "print (type(a))"
      ]
    },
    {
      "cell_type": "code",
      "execution_count": null,
      "id": "3b4d3754",
      "metadata": {
        "id": "3b4d3754",
        "outputId": "6bbeb88f-038f-45c5-ca91-f70ac9eafd7b"
      },
      "outputs": [
        {
          "name": "stdout",
          "output_type": "stream",
          "text": [
            "hello\n"
          ]
        }
      ],
      "source": [
        "c = \"hello\"\n",
        "print (c)"
      ]
    },
    {
      "cell_type": "code",
      "execution_count": null,
      "id": "c201a57d",
      "metadata": {
        "id": "c201a57d"
      },
      "outputs": [],
      "source": [
        "d = 1+0j"
      ]
    },
    {
      "cell_type": "code",
      "execution_count": null,
      "id": "1278ad2f",
      "metadata": {
        "id": "1278ad2f",
        "outputId": "b214806b-ecb8-4a44-90c4-e68125aa8ef6"
      },
      "outputs": [
        {
          "name": "stdout",
          "output_type": "stream",
          "text": [
            "<class 'complex'>\n"
          ]
        }
      ],
      "source": [
        "print (type(d))"
      ]
    },
    {
      "cell_type": "code",
      "execution_count": null,
      "id": "eead6d72",
      "metadata": {
        "id": "eead6d72",
        "outputId": "a7ac6823-420d-45bc-d37d-4739e8178df9"
      },
      "outputs": [
        {
          "name": "stdout",
          "output_type": "stream",
          "text": [
            "<class 'NoneType'>\n"
          ]
        }
      ],
      "source": [
        "e = None\n",
        "print (type(e))"
      ]
    },
    {
      "cell_type": "code",
      "execution_count": null,
      "id": "bf87a436",
      "metadata": {
        "id": "bf87a436",
        "outputId": "caeb2966-a217-4a4d-eb15-7299bada4b85"
      },
      "outputs": [
        {
          "name": "stdout",
          "output_type": "stream",
          "text": [
            "<class 'bool'>\n"
          ]
        }
      ],
      "source": [
        "f = True\n",
        "print (type(f))"
      ]
    },
    {
      "cell_type": "code",
      "execution_count": null,
      "id": "0736b49a",
      "metadata": {
        "id": "0736b49a",
        "outputId": "c07f1bc5-76e3-465b-ad89-db4e2cc85444"
      },
      "outputs": [
        {
          "data": {
            "text/plain": [
              "3.75"
            ]
          },
          "execution_count": 71,
          "metadata": {},
          "output_type": "execute_result"
        }
      ],
      "source": [
        "15/4"
      ]
    },
    {
      "cell_type": "code",
      "execution_count": null,
      "id": "0e9ed8fd",
      "metadata": {
        "id": "0e9ed8fd",
        "outputId": "be29c621-8765-4bd0-c2f1-cf8d6e78145f"
      },
      "outputs": [
        {
          "data": {
            "text/plain": [
              "12"
            ]
          },
          "execution_count": 72,
          "metadata": {},
          "output_type": "execute_result"
        }
      ],
      "source": [
        "10+2"
      ]
    },
    {
      "cell_type": "code",
      "execution_count": null,
      "id": "367787db",
      "metadata": {
        "id": "367787db",
        "outputId": "97ff0e61-b06a-45fc-9ea9-dea4fad742f5"
      },
      "outputs": [
        {
          "data": {
            "text/plain": [
              "9"
            ]
          },
          "execution_count": 73,
          "metadata": {},
          "output_type": "execute_result"
        }
      ],
      "source": [
        "13-4"
      ]
    },
    {
      "cell_type": "code",
      "execution_count": null,
      "id": "a9a9641e",
      "metadata": {
        "id": "a9a9641e",
        "outputId": "e2c16653-428f-4636-f38f-c0f14b49b431"
      },
      "outputs": [
        {
          "name": "stdout",
          "output_type": "stream",
          "text": [
            "36\n"
          ]
        }
      ],
      "source": [
        "print (12*3)"
      ]
    },
    {
      "cell_type": "code",
      "execution_count": null,
      "id": "2fbacb24",
      "metadata": {
        "id": "2fbacb24",
        "outputId": "27a0bea3-f54e-4416-d270-ad8832ad983f"
      },
      "outputs": [
        {
          "name": "stdout",
          "output_type": "stream",
          "text": [
            "4\n"
          ]
        }
      ],
      "source": [
        "print (18//4)"
      ]
    },
    {
      "cell_type": "code",
      "execution_count": null,
      "id": "db599f78",
      "metadata": {
        "id": "db599f78",
        "outputId": "c0cb6ef0-0912-4d76-8444-083ea628927c"
      },
      "outputs": [
        {
          "data": {
            "text/plain": [
              "2"
            ]
          },
          "execution_count": 76,
          "metadata": {},
          "output_type": "execute_result"
        }
      ],
      "source": [
        "18%4"
      ]
    },
    {
      "cell_type": "code",
      "execution_count": null,
      "id": "837ee113",
      "metadata": {
        "id": "837ee113",
        "outputId": "a550e61e-5eaf-4241-b3c2-f07f468736e4"
      },
      "outputs": [
        {
          "data": {
            "text/plain": [
              "(0.0, 103.4)"
            ]
          },
          "execution_count": 77,
          "metadata": {},
          "output_type": "execute_result"
        }
      ],
      "source": [
        "a,b"
      ]
    },
    {
      "cell_type": "code",
      "execution_count": null,
      "id": "8f29bd98",
      "metadata": {
        "id": "8f29bd98",
        "outputId": "729a4f78-b225-4101-8123-26684d3e6c93"
      },
      "outputs": [
        {
          "name": "stdout",
          "output_type": "stream",
          "text": [
            "a+b=  103.4\n",
            "a-b=  -103.4\n",
            "a*b= 0.0\n",
            "a**b=  0.0\n"
          ]
        }
      ],
      "source": [
        "print(\"a+b=\",a+b,sep=\"  \")\n",
        "print(\"a-b=\",a-b,sep=\"  \")\n",
        "print(\"a*b=\", a*b)\n",
        "print (\"a**b=\",a**b, sep=\"  \")"
      ]
    },
    {
      "cell_type": "code",
      "execution_count": null,
      "id": "6c88811f",
      "metadata": {
        "id": "6c88811f",
        "outputId": "91b56a9d-9c4a-450e-813d-4fa1acdffa69"
      },
      "outputs": [
        {
          "data": {
            "text/plain": [
              "0.0"
            ]
          },
          "execution_count": 79,
          "metadata": {},
          "output_type": "execute_result"
        }
      ],
      "source": [
        "a"
      ]
    },
    {
      "cell_type": "code",
      "execution_count": null,
      "id": "2d43aac6",
      "metadata": {
        "id": "2d43aac6",
        "outputId": "a2500fbf-0464-4558-8668-75905e6be56c"
      },
      "outputs": [
        {
          "name": "stdout",
          "output_type": "stream",
          "text": [
            "2.0\n"
          ]
        }
      ],
      "source": [
        "a=a+2\n",
        "print (a)"
      ]
    },
    {
      "cell_type": "code",
      "execution_count": null,
      "id": "c0268f90",
      "metadata": {
        "id": "c0268f90",
        "outputId": "fa6d6142-c796-480b-8c83-da11634d5a35"
      },
      "outputs": [
        {
          "name": "stdout",
          "output_type": "stream",
          "text": [
            "4.0\n"
          ]
        }
      ],
      "source": [
        "a+=2\n",
        "print(a)"
      ]
    },
    {
      "cell_type": "code",
      "execution_count": null,
      "id": "448d16dd",
      "metadata": {
        "id": "448d16dd",
        "outputId": "82b9df36-cdb6-4be8-94f2-2cdeca29eaa1"
      },
      "outputs": [
        {
          "name": "stdout",
          "output_type": "stream",
          "text": [
            "2.0\n"
          ]
        }
      ],
      "source": [
        "a-=2\n",
        "print(a)"
      ]
    },
    {
      "cell_type": "code",
      "execution_count": null,
      "id": "7a833eb8",
      "metadata": {
        "id": "7a833eb8",
        "outputId": "48b52903-5388-432d-82be-e68416581101"
      },
      "outputs": [
        {
          "name": "stdout",
          "output_type": "stream",
          "text": [
            "4.0\n"
          ]
        }
      ],
      "source": [
        "a*=2\n",
        "print (a)"
      ]
    },
    {
      "cell_type": "code",
      "execution_count": null,
      "id": "8dd5de5d",
      "metadata": {
        "id": "8dd5de5d",
        "outputId": "ee0151b5-2075-436a-8b9b-7a7a8c0f6c71"
      },
      "outputs": [
        {
          "name": "stdout",
          "output_type": "stream",
          "text": [
            "2.0\n"
          ]
        }
      ],
      "source": [
        "a/=2\n",
        "print(a)"
      ]
    },
    {
      "cell_type": "code",
      "execution_count": null,
      "id": "95e8d528",
      "metadata": {
        "id": "95e8d528",
        "outputId": "955d8cf9-4eaf-48e4-b6ac-5a48407e43b1"
      },
      "outputs": [
        {
          "name": "stdout",
          "output_type": "stream",
          "text": [
            "0.0\n"
          ]
        }
      ],
      "source": [
        "a%=2\n",
        "print (a)"
      ]
    },
    {
      "cell_type": "code",
      "execution_count": null,
      "id": "ba13ad22",
      "metadata": {
        "id": "ba13ad22",
        "outputId": "de62d44e-ea5f-4103-83fe-68723d5a5395"
      },
      "outputs": [
        {
          "data": {
            "text/plain": [
              "True"
            ]
          },
          "execution_count": 86,
          "metadata": {},
          "output_type": "execute_result"
        }
      ],
      "source": [
        "10==10"
      ]
    },
    {
      "cell_type": "code",
      "execution_count": null,
      "id": "ab0add71",
      "metadata": {
        "id": "ab0add71",
        "outputId": "febf3ade-9f82-42be-8384-dd48b4162271"
      },
      "outputs": [
        {
          "data": {
            "text/plain": [
              "False"
            ]
          },
          "execution_count": 87,
          "metadata": {},
          "output_type": "execute_result"
        }
      ],
      "source": [
        "'10'==10"
      ]
    },
    {
      "cell_type": "code",
      "execution_count": null,
      "id": "eade3187",
      "metadata": {
        "id": "eade3187",
        "outputId": "b1dd46ac-4ed5-4cbf-a62b-ccf8cf94d817"
      },
      "outputs": [
        {
          "data": {
            "text/plain": [
              "1"
            ]
          },
          "execution_count": 88,
          "metadata": {},
          "output_type": "execute_result"
        }
      ],
      "source": [
        "1 and 1"
      ]
    },
    {
      "cell_type": "code",
      "execution_count": null,
      "id": "1b8ff70f",
      "metadata": {
        "id": "1b8ff70f",
        "outputId": "dd1b25cf-70c7-444f-ca95-89f00220da5c"
      },
      "outputs": [
        {
          "data": {
            "text/plain": [
              "False"
            ]
          },
          "execution_count": 89,
          "metadata": {},
          "output_type": "execute_result"
        }
      ],
      "source": [
        "bool(2 and \"\")"
      ]
    },
    {
      "cell_type": "code",
      "execution_count": null,
      "id": "d90305e1",
      "metadata": {
        "id": "d90305e1",
        "outputId": "1b519d08-7f91-4673-8e8d-0044b8ab70b5"
      },
      "outputs": [
        {
          "data": {
            "text/plain": [
              "False"
            ]
          },
          "execution_count": 90,
          "metadata": {},
          "output_type": "execute_result"
        }
      ],
      "source": [
        "bool(None)"
      ]
    },
    {
      "cell_type": "code",
      "execution_count": null,
      "id": "d814c468",
      "metadata": {
        "id": "d814c468",
        "outputId": "cf909a63-c3a7-4a15-deee-6035688aa64d"
      },
      "outputs": [
        {
          "data": {
            "text/plain": [
              "False"
            ]
          },
          "execution_count": 91,
          "metadata": {},
          "output_type": "execute_result"
        }
      ],
      "source": [
        "bool(\"\")"
      ]
    },
    {
      "cell_type": "code",
      "execution_count": null,
      "id": "13843b8c",
      "metadata": {
        "id": "13843b8c",
        "outputId": "07e504ee-cad7-4d56-f96a-c04dfa7ca83f"
      },
      "outputs": [
        {
          "data": {
            "text/plain": [
              "False"
            ]
          },
          "execution_count": 92,
          "metadata": {},
          "output_type": "execute_result"
        }
      ],
      "source": [
        "bool(0)"
      ]
    },
    {
      "cell_type": "code",
      "execution_count": null,
      "id": "090f899f",
      "metadata": {
        "id": "090f899f",
        "outputId": "1312d64c-99b5-4ab3-b7e5-3d6947a1e750"
      },
      "outputs": [
        {
          "data": {
            "text/plain": [
              "False"
            ]
          },
          "execution_count": 93,
          "metadata": {},
          "output_type": "execute_result"
        }
      ],
      "source": [
        "bool({})"
      ]
    },
    {
      "cell_type": "code",
      "execution_count": null,
      "id": "4ca65d79",
      "metadata": {
        "id": "4ca65d79",
        "outputId": "ce81d401-d430-459d-ef4f-f271501af7b5"
      },
      "outputs": [
        {
          "data": {
            "text/plain": [
              "False"
            ]
          },
          "execution_count": 94,
          "metadata": {},
          "output_type": "execute_result"
        }
      ],
      "source": [
        "bool([])"
      ]
    },
    {
      "cell_type": "code",
      "execution_count": null,
      "id": "c3894896",
      "metadata": {
        "id": "c3894896",
        "outputId": "8152202e-e1af-4b21-a054-cc5ad182b917"
      },
      "outputs": [
        {
          "data": {
            "text/plain": [
              "True"
            ]
          },
          "execution_count": 95,
          "metadata": {},
          "output_type": "execute_result"
        }
      ],
      "source": [
        "1 and 0 or True"
      ]
    },
    {
      "cell_type": "code",
      "execution_count": null,
      "id": "c42704c6",
      "metadata": {
        "id": "c42704c6",
        "outputId": "273ce700-46eb-47f7-9585-a0e5d17bc723"
      },
      "outputs": [
        {
          "data": {
            "text/plain": [
              "1"
            ]
          },
          "execution_count": 96,
          "metadata": {},
          "output_type": "execute_result"
        }
      ],
      "source": [
        "1 or 0 and True"
      ]
    },
    {
      "cell_type": "code",
      "execution_count": null,
      "id": "af3440aa",
      "metadata": {
        "id": "af3440aa",
        "outputId": "ccf418d1-f14c-4288-b4f1-e45402efcee6"
      },
      "outputs": [
        {
          "data": {
            "text/plain": [
              "65536"
            ]
          },
          "execution_count": 97,
          "metadata": {},
          "output_type": "execute_result"
        }
      ],
      "source": [
        "4**2**3"
      ]
    },
    {
      "cell_type": "code",
      "execution_count": null,
      "id": "8893c6d4",
      "metadata": {
        "id": "8893c6d4",
        "outputId": "37433e00-0d17-4b6a-9ba8-32f4675f0d9f"
      },
      "outputs": [
        {
          "data": {
            "text/plain": [
              "65536"
            ]
          },
          "execution_count": 98,
          "metadata": {},
          "output_type": "execute_result"
        }
      ],
      "source": [
        "4**8"
      ]
    },
    {
      "cell_type": "code",
      "execution_count": null,
      "id": "dca82cf8",
      "metadata": {
        "id": "dca82cf8",
        "outputId": "bb943020-eefa-40c4-aec1-5295ea92cc20"
      },
      "outputs": [
        {
          "data": {
            "text/plain": [
              "False"
            ]
          },
          "execution_count": 99,
          "metadata": {},
          "output_type": "execute_result"
        }
      ],
      "source": [
        "not 1"
      ]
    },
    {
      "cell_type": "code",
      "execution_count": null,
      "id": "19600c60",
      "metadata": {
        "id": "19600c60",
        "outputId": "1e92de14-2c59-4f9e-c1a1-e85035d1d8d2"
      },
      "outputs": [
        {
          "data": {
            "text/plain": [
              "False"
            ]
          },
          "execution_count": 100,
          "metadata": {},
          "output_type": "execute_result"
        }
      ],
      "source": [
        "not True"
      ]
    },
    {
      "cell_type": "code",
      "execution_count": null,
      "id": "4e340a64",
      "metadata": {
        "id": "4e340a64",
        "outputId": "4dcbb270-bbf2-4643-c2f4-6e03947bbc3d"
      },
      "outputs": [
        {
          "data": {
            "text/plain": [
              "True"
            ]
          },
          "execution_count": 101,
          "metadata": {},
          "output_type": "execute_result"
        }
      ],
      "source": [
        "not 0"
      ]
    },
    {
      "cell_type": "code",
      "execution_count": null,
      "id": "404d5de9",
      "metadata": {
        "id": "404d5de9",
        "outputId": "40d265d5-0c41-48cc-8934-c8db8fb9984a"
      },
      "outputs": [
        {
          "data": {
            "text/plain": [
              "0"
            ]
          },
          "execution_count": 102,
          "metadata": {},
          "output_type": "execute_result"
        }
      ],
      "source": [
        "7 & 8"
      ]
    },
    {
      "cell_type": "code",
      "execution_count": null,
      "id": "cb1fc007",
      "metadata": {
        "id": "cb1fc007",
        "outputId": "9f07a5f6-f5de-4f4a-f457-d545a18d4cf3"
      },
      "outputs": [
        {
          "data": {
            "text/plain": [
              "15"
            ]
          },
          "execution_count": 103,
          "metadata": {},
          "output_type": "execute_result"
        }
      ],
      "source": [
        "7|8"
      ]
    },
    {
      "cell_type": "code",
      "execution_count": null,
      "id": "62b738a8",
      "metadata": {
        "id": "62b738a8",
        "outputId": "e8dca227-9061-4be0-bdc4-22dac37b50a8"
      },
      "outputs": [
        {
          "data": {
            "text/plain": [
              "15"
            ]
          },
          "execution_count": 104,
          "metadata": {},
          "output_type": "execute_result"
        }
      ],
      "source": [
        "0b1111"
      ]
    },
    {
      "cell_type": "code",
      "execution_count": null,
      "id": "c287ddbb",
      "metadata": {
        "id": "c287ddbb",
        "outputId": "6a73560c-2b93-4883-d5f3-b33eec43b64d"
      },
      "outputs": [
        {
          "data": {
            "text/plain": [
              "4369"
            ]
          },
          "execution_count": 105,
          "metadata": {},
          "output_type": "execute_result"
        }
      ],
      "source": [
        "0x1111"
      ]
    },
    {
      "cell_type": "code",
      "execution_count": null,
      "id": "7bb70679",
      "metadata": {
        "id": "7bb70679",
        "outputId": "67d24cb8-df7c-4445-9757-b1fed3ffea57"
      },
      "outputs": [
        {
          "data": {
            "text/plain": [
              "15"
            ]
          },
          "execution_count": 106,
          "metadata": {},
          "output_type": "execute_result"
        }
      ],
      "source": [
        "0xf"
      ]
    },
    {
      "cell_type": "code",
      "execution_count": null,
      "id": "6127e550",
      "metadata": {
        "id": "6127e550",
        "outputId": "f8e8b411-2454-4620-a896-0b00a7f70f8d"
      },
      "outputs": [
        {
          "data": {
            "text/plain": [
              "73"
            ]
          },
          "execution_count": 107,
          "metadata": {},
          "output_type": "execute_result"
        }
      ],
      "source": [
        "0o111"
      ]
    },
    {
      "cell_type": "code",
      "execution_count": null,
      "id": "01b779f2",
      "metadata": {
        "id": "01b779f2",
        "outputId": "c58331eb-1ad1-4998-e1d4-1c0d290c7496"
      },
      "outputs": [
        {
          "data": {
            "text/plain": [
              "585"
            ]
          },
          "execution_count": 108,
          "metadata": {},
          "output_type": "execute_result"
        }
      ],
      "source": [
        "0o1111"
      ]
    },
    {
      "cell_type": "code",
      "execution_count": null,
      "id": "36fd366a",
      "metadata": {
        "id": "36fd366a",
        "outputId": "321062f8-aa80-4a4e-a250-2f47c8e1e886"
      },
      "outputs": [
        {
          "data": {
            "text/plain": [
              "-11"
            ]
          },
          "execution_count": 109,
          "metadata": {},
          "output_type": "execute_result"
        }
      ],
      "source": [
        "~10"
      ]
    },
    {
      "cell_type": "code",
      "execution_count": null,
      "id": "46966fd1",
      "metadata": {
        "id": "46966fd1",
        "outputId": "b7ec8994-0f90-4683-ed37-b5b1ce540f68"
      },
      "outputs": [
        {
          "data": {
            "text/plain": [
              "10"
            ]
          },
          "execution_count": 110,
          "metadata": {},
          "output_type": "execute_result"
        }
      ],
      "source": [
        "~-11"
      ]
    },
    {
      "cell_type": "code",
      "execution_count": null,
      "id": "0436ba36",
      "metadata": {
        "id": "0436ba36",
        "outputId": "547ad7c0-5593-4eb7-b96d-1c3b19ac7c5e"
      },
      "outputs": [
        {
          "data": {
            "text/plain": [
              "15"
            ]
          },
          "execution_count": 111,
          "metadata": {},
          "output_type": "execute_result"
        }
      ],
      "source": [
        "7^8"
      ]
    },
    {
      "cell_type": "code",
      "execution_count": null,
      "id": "fbba0449",
      "metadata": {
        "id": "fbba0449",
        "outputId": "a993f42a-c759-4e84-af6a-f946d272ea33"
      },
      "outputs": [
        {
          "data": {
            "text/plain": [
              "0"
            ]
          },
          "execution_count": 112,
          "metadata": {},
          "output_type": "execute_result"
        }
      ],
      "source": [
        "8^8"
      ]
    },
    {
      "cell_type": "code",
      "execution_count": null,
      "id": "cbe2724e",
      "metadata": {
        "id": "cbe2724e",
        "outputId": "8e3d0d6c-7de1-481a-a1cb-307bfca0a82a"
      },
      "outputs": [
        {
          "name": "stdout",
          "output_type": "stream",
          "text": [
            "POSITIVE\n",
            "10\n"
          ]
        }
      ],
      "source": [
        "num = 10\n",
        "if num>0:\n",
        "    print (\"POSITIVE\")\n",
        "    print (num)\n",
        "else:\n",
        "    print (\"NEGATIVE\")"
      ]
    },
    {
      "cell_type": "code",
      "execution_count": null,
      "id": "60c537d8",
      "metadata": {
        "id": "60c537d8",
        "outputId": "9b56f9d5-acb7-40e8-9693-963a9f83a18a"
      },
      "outputs": [
        {
          "ename": "IndentationError",
          "evalue": "unexpected indent (3346571938.py, line 4)",
          "output_type": "error",
          "traceback": [
            "\u001b[0;36m  Cell \u001b[0;32mIn[114], line 4\u001b[0;36m\u001b[0m\n\u001b[0;31m    print (num)\u001b[0m\n\u001b[0m    ^\u001b[0m\n\u001b[0;31mIndentationError\u001b[0m\u001b[0;31m:\u001b[0m unexpected indent\n"
          ]
        }
      ],
      "source": [
        "num = 10\n",
        "if num>0:\n",
        "    print (\"POSITIVE\")\n",
        "       print (num)\n",
        "    else:\n",
        "    print (\"NEGATIVE\")"
      ]
    },
    {
      "cell_type": "code",
      "execution_count": null,
      "id": "993a833f",
      "metadata": {
        "id": "993a833f",
        "outputId": "6050eaaf-c8aa-4fdf-a7c4-c94641286055"
      },
      "outputs": [
        {
          "ename": "SyntaxError",
          "evalue": "incomplete input (3316007750.py, line 2)",
          "output_type": "error",
          "traceback": [
            "\u001b[0;36m  Cell \u001b[0;32mIn[115], line 2\u001b[0;36m\u001b[0m\n\u001b[0;31m    if num>0:\u001b[0m\n\u001b[0m             ^\u001b[0m\n\u001b[0;31mSyntaxError\u001b[0m\u001b[0;31m:\u001b[0m incomplete input\n"
          ]
        }
      ],
      "source": [
        "num = 10\n",
        "if num>0:"
      ]
    },
    {
      "cell_type": "code",
      "execution_count": null,
      "id": "d5a26990",
      "metadata": {
        "id": "d5a26990"
      },
      "outputs": [],
      "source": [
        "num = 10\n",
        "if num>0:\n",
        "   pass"
      ]
    },
    {
      "cell_type": "code",
      "execution_count": null,
      "id": "b6fefbf7",
      "metadata": {
        "id": "b6fefbf7",
        "outputId": "41478c47-d764-4fb4-9a5b-f50b963b263f"
      },
      "outputs": [
        {
          "data": {
            "text/plain": [
              "1"
            ]
          },
          "execution_count": 117,
          "metadata": {},
          "output_type": "execute_result"
        }
      ],
      "source": [
        "7>>2"
      ]
    },
    {
      "cell_type": "code",
      "execution_count": null,
      "id": "e5adae58",
      "metadata": {
        "id": "e5adae58",
        "outputId": "2a7a2cf3-6dc3-458c-9084-9b1b9048eacb"
      },
      "outputs": [
        {
          "data": {
            "text/plain": [
              "28"
            ]
          },
          "execution_count": 118,
          "metadata": {},
          "output_type": "execute_result"
        }
      ],
      "source": [
        "7<<2"
      ]
    },
    {
      "cell_type": "code",
      "execution_count": null,
      "id": "8d1f22e5",
      "metadata": {
        "id": "8d1f22e5",
        "outputId": "c3984d39-3215-4495-dff8-9d1d6a1f0409"
      },
      "outputs": [
        {
          "name": "stdout",
          "output_type": "stream",
          "text": [
            "false statement \n"
          ]
        }
      ],
      "source": [
        "if False:\n",
        "    print (\"true statement\")\n",
        "else:\n",
        "    print (\"false statement \")"
      ]
    },
    {
      "cell_type": "code",
      "execution_count": null,
      "id": "4ed26683",
      "metadata": {
        "id": "4ed26683",
        "outputId": "55780abc-ff76-4ac0-a5a0-acd3be465fee"
      },
      "outputs": [
        {
          "name": "stdout",
          "output_type": "stream",
          "text": [
            "114  is even\n"
          ]
        }
      ],
      "source": [
        "num = 114\n",
        "if num%2:\n",
        "    print (num,\" is odd\")\n",
        "else:\n",
        "    print (num,\" is even\")"
      ]
    },
    {
      "cell_type": "code",
      "execution_count": null,
      "id": "bb446fc7",
      "metadata": {
        "id": "bb446fc7",
        "outputId": "11c24831-7133-44db-f524-707d6c2ad9b2"
      },
      "outputs": [
        {
          "name": "stdout",
          "output_type": "stream",
          "text": [
            "\n"
          ]
        }
      ],
      "source": [
        "print (input(\"enter a number\"))"
      ]
    },
    {
      "cell_type": "code",
      "execution_count": null,
      "id": "597426d8",
      "metadata": {
        "id": "597426d8",
        "outputId": "0d8199b6-fb2f-4aaf-9212-e03e35643983"
      },
      "outputs": [
        {
          "name": "stdout",
          "output_type": "stream",
          "text": [
            "<class 'int'>\n"
          ]
        }
      ],
      "source": [
        "num = int(input('enter a number'))\n",
        "print (type(num))"
      ]
    },
    {
      "cell_type": "code",
      "execution_count": null,
      "id": "1b6c6b0d",
      "metadata": {
        "id": "1b6c6b0d",
        "outputId": "a109a668-31c9-4443-9b8b-d2081f46c880"
      },
      "outputs": [
        {
          "name": "stdout",
          "output_type": "stream",
          "text": [
            "12  is even\n"
          ]
        }
      ],
      "source": [
        "num =  int(input('enter a number'))\n",
        "if num%2:\n",
        "    print (num,\" is odd\")\n",
        "else:\n",
        "    print (num,\" is even\")"
      ]
    },
    {
      "cell_type": "code",
      "execution_count": null,
      "id": "b4aff987",
      "metadata": {
        "id": "b4aff987",
        "outputId": "b476483f-9914-4479-adfe-4c322051abe6"
      },
      "outputs": [
        {
          "name": "stdout",
          "output_type": "stream",
          "text": [
            "156  is even\n"
          ]
        }
      ],
      "source": [
        "num =  int(input('enter a number'))\n",
        "if num%2:\n",
        "    print (num,\" is odd\")\n",
        "else:\n",
        "    print (num,\" is even\")"
      ]
    },
    {
      "cell_type": "code",
      "execution_count": null,
      "id": "6aa8e73c",
      "metadata": {
        "id": "6aa8e73c",
        "outputId": "2b4dbf05-93cc-4ca6-badf-af3b6ad8b137"
      },
      "outputs": [
        {
          "data": {
            "text/plain": [
              "'A'"
            ]
          },
          "execution_count": 126,
          "metadata": {},
          "output_type": "execute_result"
        }
      ],
      "source": [
        "chr(65)"
      ]
    },
    {
      "cell_type": "code",
      "execution_count": null,
      "id": "653cf1e0",
      "metadata": {
        "id": "653cf1e0",
        "outputId": "1f88412c-2020-42ed-e634-3cb30d1b5769"
      },
      "outputs": [
        {
          "data": {
            "text/plain": [
              "65"
            ]
          },
          "execution_count": 127,
          "metadata": {},
          "output_type": "execute_result"
        }
      ],
      "source": [
        "ord('A')"
      ]
    },
    {
      "cell_type": "code",
      "execution_count": null,
      "id": "a4d14d8d",
      "metadata": {
        "id": "a4d14d8d",
        "outputId": "669bbf6b-f35d-4337-9fc5-1df221214519"
      },
      "outputs": [
        {
          "data": {
            "text/plain": [
              "48"
            ]
          },
          "execution_count": 128,
          "metadata": {},
          "output_type": "execute_result"
        }
      ],
      "source": [
        "ord('0')"
      ]
    },
    {
      "cell_type": "code",
      "execution_count": null,
      "id": "770d2cb7",
      "metadata": {
        "id": "770d2cb7",
        "outputId": "63b136d5-3a50-4877-b736-5c75a9dbf5f0"
      },
      "outputs": [
        {
          "data": {
            "text/plain": [
              "'\\t'"
            ]
          },
          "execution_count": 129,
          "metadata": {},
          "output_type": "execute_result"
        }
      ],
      "source": [
        "chr(9)"
      ]
    },
    {
      "cell_type": "code",
      "execution_count": null,
      "id": "bd1f78a5",
      "metadata": {
        "id": "bd1f78a5",
        "outputId": "2b99f468-cb58-4ce9-b245-c12e1f461505"
      },
      "outputs": [
        {
          "name": "stdout",
          "output_type": "stream",
          "text": [
            "It is \"Python\"\n"
          ]
        }
      ],
      "source": [
        "print('It is \"Python\"')"
      ]
    },
    {
      "cell_type": "code",
      "execution_count": null,
      "id": "9eaa26c1",
      "metadata": {
        "id": "9eaa26c1",
        "outputId": "a5463b55-837a-4250-c696-720ed08e7e22"
      },
      "outputs": [
        {
          "name": "stdout",
          "output_type": "stream",
          "text": [
            "it's python\n"
          ]
        }
      ],
      "source": [
        "print (\"it's python\")"
      ]
    },
    {
      "cell_type": "code",
      "execution_count": null,
      "id": "92552704",
      "metadata": {
        "id": "92552704",
        "outputId": "69d04465-6dbe-44ee-814a-699a96cd6550"
      },
      "outputs": [
        {
          "name": "stdout",
          "output_type": "stream",
          "text": [
            "it's \"python\"\n"
          ]
        }
      ],
      "source": [
        "print ('it\\'s \"python\"')"
      ]
    },
    {
      "cell_type": "code",
      "execution_count": null,
      "id": "c2537bac",
      "metadata": {
        "id": "c2537bac",
        "outputId": "5a682cfc-69c1-4c29-eb93-5aae4ea85145"
      },
      "outputs": [
        {
          "name": "stdout",
          "output_type": "stream",
          "text": [
            "it's \"python\"\n"
          ]
        }
      ],
      "source": [
        "print (\"it's \\\"python\\\"\")"
      ]
    },
    {
      "cell_type": "code",
      "execution_count": null,
      "id": "400985c6",
      "metadata": {
        "id": "400985c6",
        "outputId": "207c5965-c356-4b39-ed18-1d48f4844138"
      },
      "outputs": [
        {
          "name": "stdout",
          "output_type": "stream",
          "text": [
            "\\n is for new line\n"
          ]
        }
      ],
      "source": [
        "print (\"\\\\n is for new line\")"
      ]
    },
    {
      "cell_type": "code",
      "execution_count": null,
      "id": "29f7478b",
      "metadata": {
        "id": "29f7478b",
        "outputId": "9fa2c5e5-cf81-490f-98c3-74cf2ca3881c"
      },
      "outputs": [
        {
          "name": "stdout",
          "output_type": "stream",
          "text": [
            "it's \"\\t\" for tab space\n"
          ]
        }
      ],
      "source": [
        "print ('it\\'s \"\\\\t\" for tab space')"
      ]
    },
    {
      "cell_type": "code",
      "execution_count": null,
      "id": "24bb5f8a",
      "metadata": {
        "id": "24bb5f8a",
        "outputId": "ce8599e4-bf39-4fd9-b366-06057504632c"
      },
      "outputs": [
        {
          "name": "stdout",
          "output_type": "stream",
          "text": [
            "/home/quastech/yash/pytho.ipynb\n"
          ]
        }
      ],
      "source": [
        "print (\"/home/quastech/yash/pytho.ipynb\")"
      ]
    },
    {
      "cell_type": "code",
      "execution_count": null,
      "id": "3813aacf",
      "metadata": {
        "id": "3813aacf",
        "outputId": "f6c56cb2-0ec5-441a-ce1d-341fc4d98086"
      },
      "outputs": [
        {
          "name": "stdout",
          "output_type": "stream",
          "text": [
            "\\t\\n\n"
          ]
        }
      ],
      "source": [
        "print(r'\\t\\n')"
      ]
    },
    {
      "cell_type": "code",
      "execution_count": null,
      "id": "607b9ebe",
      "metadata": {
        "id": "607b9ebe"
      },
      "outputs": [],
      "source": [
        "name = \"Yash\"\n",
        "age = 21\n",
        "salary = 20000"
      ]
    },
    {
      "cell_type": "code",
      "execution_count": null,
      "id": "3e348242",
      "metadata": {
        "id": "3e348242",
        "outputId": "5635dd0b-1de5-43a0-bce6-49c200bc228a"
      },
      "outputs": [
        {
          "name": "stdout",
          "output_type": "stream",
          "text": [
            "my name is Yash i am 21 years old and my salary is 20000\n"
          ]
        }
      ],
      "source": [
        "print (\"my name is\",name, \"i am\",age,\"years old and my salary is\", salary )"
      ]
    },
    {
      "cell_type": "code",
      "execution_count": null,
      "id": "1d8dcfe2",
      "metadata": {
        "id": "1d8dcfe2",
        "outputId": "2cf0946c-2f6f-47f5-a3ba-6109dab4830d"
      },
      "outputs": [
        {
          "name": "stdout",
          "output_type": "stream",
          "text": [
            "my name is Yash, i am 21, years old and my salary is20000\n"
          ]
        }
      ],
      "source": [
        "print(f\"my name is {name}, i am {age}, years old and my salary is{salary}\")"
      ]
    },
    {
      "cell_type": "code",
      "execution_count": null,
      "id": "9245917c",
      "metadata": {
        "id": "9245917c",
        "outputId": "90677293-6934-4008-be65-97e1ad4676df"
      },
      "outputs": [
        {
          "name": "stdout",
          "output_type": "stream",
          "text": [
            "hello\n",
            "       hi\n",
            "       \n"
          ]
        }
      ],
      "source": [
        "print (\"\"\"hello\n",
        "       hi\n",
        "       \"\"\")"
      ]
    },
    {
      "cell_type": "code",
      "execution_count": null,
      "id": "75d2e15a",
      "metadata": {
        "id": "75d2e15a",
        "outputId": "3bb3aa4d-cd91-4917-f126-10c9532d46aa"
      },
      "outputs": [
        {
          "name": "stdout",
          "output_type": "stream",
          "text": [
            "5\n"
          ]
        }
      ],
      "source": [
        "age = 10\n",
        "t = 0\n",
        "if age > 12:\n",
        "    t = 10\n",
        "else:\n",
        "    t = 5\n",
        "print(t)"
      ]
    },
    {
      "cell_type": "code",
      "execution_count": null,
      "id": "1f911c89",
      "metadata": {
        "id": "1f911c89",
        "outputId": "c0695ec0-e9fd-491f-8fab-d6bfeb29a0b7"
      },
      "outputs": [
        {
          "name": "stdout",
          "output_type": "stream",
          "text": [
            "10\n"
          ]
        }
      ],
      "source": [
        "age = 19\n",
        "t = 10 if age>12 else 5\n",
        "print(t)"
      ]
    },
    {
      "cell_type": "code",
      "execution_count": null,
      "id": "9511e9dd",
      "metadata": {
        "id": "9511e9dd",
        "outputId": "f3d57181-3908-4589-8fb8-c0c8146c3258"
      },
      "outputs": [
        {
          "data": {
            "text/plain": [
              "34"
            ]
          },
          "execution_count": 144,
          "metadata": {},
          "output_type": "execute_result"
        }
      ],
      "source": [
        "32+2"
      ]
    },
    {
      "cell_type": "code",
      "execution_count": null,
      "id": "f2e27586",
      "metadata": {
        "id": "f2e27586",
        "outputId": "535825a9-873c-4ef8-d71c-1a990ac6a6d8"
      },
      "outputs": [
        {
          "name": "stdout",
          "output_type": "stream",
          "text": [
            "20 is even\n"
          ]
        }
      ],
      "source": [
        "num = 20\n",
        "result= f\"{num} is odd\" if num%2 else f\"{num} is even\"\n",
        "print(result)"
      ]
    },
    {
      "cell_type": "code",
      "execution_count": null,
      "id": "9addd4b9",
      "metadata": {
        "id": "9addd4b9",
        "outputId": "3eb57cdd-3dee-4928-89b9-2c230c0a0401"
      },
      "outputs": [
        {
          "name": "stdout",
          "output_type": "stream",
          "text": [
            "20 10\n"
          ]
        }
      ],
      "source": [
        "# swap\n",
        "\n",
        "a=10\n",
        "b=20\n",
        "c=a\n",
        "a=b\n",
        "b=c\n",
        "print (a,b)"
      ]
    },
    {
      "cell_type": "code",
      "execution_count": null,
      "id": "f82b29f0",
      "metadata": {
        "id": "f82b29f0",
        "colab": {
          "base_uri": "https://localhost:8080/"
        },
        "outputId": "e3726069-b869-465a-c5b8-a39334e29168"
      },
      "outputs": [
        {
          "output_type": "stream",
          "name": "stdout",
          "text": [
            "20 10\n"
          ]
        }
      ],
      "source": [
        "a=10\n",
        "b=20\n",
        "a,b=b,a\n",
        "print (a,b)"
      ]
    },
    {
      "cell_type": "code",
      "source": [
        "a=10\n",
        "b=20\n",
        "a, b = a + (b - a), b + (a - b)\n",
        "\n",
        "a,b"
      ],
      "metadata": {
        "colab": {
          "base_uri": "https://localhost:8080/"
        },
        "id": "6pmI2aZPAzTq",
        "outputId": "9dc3658d-d61c-4a94-a73e-1b20c55778b9"
      },
      "id": "6pmI2aZPAzTq",
      "execution_count": null,
      "outputs": [
        {
          "output_type": "execute_result",
          "data": {
            "text/plain": [
              "(20, 10)"
            ]
          },
          "metadata": {},
          "execution_count": 4
        }
      ]
    },
    {
      "cell_type": "code",
      "execution_count": null,
      "id": "b209c50c",
      "metadata": {
        "id": "b209c50c",
        "outputId": "de55b196-7b25-4150-fb02-a4ad2773c196"
      },
      "outputs": [
        {
          "name": "stdout",
          "output_type": "stream",
          "text": [
            "20 10\n"
          ]
        }
      ],
      "source": [
        "a=10\n",
        "b=20\n",
        "a=a+b\n",
        "b=a-b\n",
        "a=a-b\n",
        "print(a,b)"
      ]
    },
    {
      "cell_type": "code",
      "execution_count": null,
      "id": "19489811",
      "metadata": {
        "id": "19489811",
        "outputId": "2e26fa98-3493-4f0b-8da4-d297205c07c8"
      },
      "outputs": [
        {
          "data": {
            "text/plain": [
              "' '"
            ]
          },
          "execution_count": 149,
          "metadata": {},
          "output_type": "execute_result"
        }
      ],
      "source": [
        "s = \"Hello World\"\n",
        "s[5]"
      ]
    },
    {
      "cell_type": "code",
      "execution_count": null,
      "id": "0bd189a6",
      "metadata": {
        "id": "0bd189a6",
        "outputId": "461616bd-cb40-41e5-f8b0-e508e19a0647"
      },
      "outputs": [
        {
          "data": {
            "text/plain": [
              "'Hello World'"
            ]
          },
          "execution_count": 150,
          "metadata": {},
          "output_type": "execute_result"
        }
      ],
      "source": [
        "s = 'Hello World'\n",
        "s[0:11]"
      ]
    },
    {
      "cell_type": "code",
      "execution_count": null,
      "id": "5d7b453e",
      "metadata": {
        "id": "5d7b453e",
        "outputId": "b0d46e92-61b9-4448-ebe6-c358bdabfe36"
      },
      "outputs": [
        {
          "data": {
            "text/plain": [
              "'Hello World'"
            ]
          },
          "execution_count": 151,
          "metadata": {},
          "output_type": "execute_result"
        }
      ],
      "source": [
        "s[:]"
      ]
    },
    {
      "cell_type": "code",
      "execution_count": null,
      "id": "df27dbf9",
      "metadata": {
        "id": "df27dbf9",
        "outputId": "ea3a551b-c34e-4ba2-9d4b-ec1094aff614"
      },
      "outputs": [
        {
          "data": {
            "text/plain": [
              "'0123456789'"
            ]
          },
          "execution_count": 152,
          "metadata": {},
          "output_type": "execute_result"
        }
      ],
      "source": [
        "s = \"0123456789\"\n",
        "s[0:len(s):1]"
      ]
    },
    {
      "cell_type": "code",
      "execution_count": null,
      "id": "34645677",
      "metadata": {
        "id": "34645677",
        "outputId": "802d90d5-7296-4c95-f2ba-39544caf94a9"
      },
      "outputs": [
        {
          "data": {
            "text/plain": [
              "'9'"
            ]
          },
          "execution_count": 153,
          "metadata": {},
          "output_type": "execute_result"
        }
      ],
      "source": [
        "s[-1]"
      ]
    },
    {
      "cell_type": "code",
      "execution_count": null,
      "id": "87d6351b",
      "metadata": {
        "id": "87d6351b",
        "outputId": "c8c0450b-83e8-4066-de37-bc6f486640a9"
      },
      "outputs": [
        {
          "data": {
            "text/plain": [
              "'9876543210'"
            ]
          },
          "execution_count": 154,
          "metadata": {},
          "output_type": "execute_result"
        }
      ],
      "source": [
        "s[::-1]"
      ]
    },
    {
      "cell_type": "code",
      "execution_count": null,
      "id": "a09cd828",
      "metadata": {
        "id": "a09cd828",
        "outputId": "f1be3e6f-1672-4045-fb65-1bf9c722dff0"
      },
      "outputs": [
        {
          "name": "stdout",
          "output_type": "stream",
          "text": [
            "02468\n",
            "13579\n",
            "9876543210\n"
          ]
        }
      ],
      "source": [
        "print(s[0::2]) # print even indexes\n",
        "print(s[1::2]) # print odd indexes\n",
        "print(s[::-1]) # print in reverse"
      ]
    },
    {
      "cell_type": "code",
      "execution_count": null,
      "id": "26b64418",
      "metadata": {
        "id": "26b64418",
        "outputId": "9675707a-8a6d-4c26-c93a-e99df4156ac9"
      },
      "outputs": [
        {
          "name": "stdout",
          "output_type": "stream",
          "text": [
            "5432\n"
          ]
        }
      ],
      "source": [
        "print(s[5:1:-1])"
      ]
    },
    {
      "cell_type": "code",
      "execution_count": null,
      "id": "efd13403",
      "metadata": {
        "id": "efd13403",
        "outputId": "f422d234-1d8c-416a-a1fe-3feb03aa6c79"
      },
      "outputs": [
        {
          "name": "stdout",
          "output_type": "stream",
          "text": [
            "97531\n",
            "86420\n"
          ]
        }
      ],
      "source": [
        "print(s[::-2]) # print odd indexes in reverse\n",
        "print(s[-2::-2]) # print even indexes in reverse"
      ]
    },
    {
      "cell_type": "code",
      "execution_count": null,
      "id": "2dc2948d",
      "metadata": {
        "id": "2dc2948d",
        "outputId": "0ff1608c-865d-40ab-d99f-a5fa1446d0a9"
      },
      "outputs": [
        {
          "name": "stdout",
          "output_type": "stream",
          "text": [
            "ej\n",
            "adgj\n",
            "fa\n",
            "heb\n",
            "jfb\n"
          ]
        }
      ],
      "source": [
        "s = \"abcdefghij\" # practice\n",
        "print(s[4::5])\n",
        "print(s[::3])\n",
        "print(s[5::-5])\n",
        "print(s[7:0:-3])\n",
        "print(s[:0:-4])"
      ]
    },
    {
      "cell_type": "code",
      "execution_count": null,
      "id": "ab63436f",
      "metadata": {
        "id": "ab63436f"
      },
      "outputs": [],
      "source": []
    },
    {
      "cell_type": "code",
      "execution_count": null,
      "id": "e017759b",
      "metadata": {
        "id": "e017759b",
        "outputId": "a9adaf11-3f39-4ffb-dd81-197d3aa388fa"
      },
      "outputs": [
        {
          "name": "stdout",
          "output_type": "stream",
          "text": [
            "uppercase: HELLO WORLD\n",
            "lowercase: hello world\n",
            "title case: Hello World\n",
            "capitalised: Hello world\n",
            "index of 'W': 6\n",
            "found 'r' at: 8\n",
            "count of 'l': 3\n",
            "casefold: hello world\n",
            "split using ' ': ['Hello', 'World']\n",
            "replaced 'H' with 'j': Jello World\n"
          ]
        },
        {
          "data": {
            "text/plain": [
              "'Hello=World=this=is=python'"
            ]
          },
          "execution_count": 159,
          "metadata": {},
          "output_type": "execute_result"
        }
      ],
      "source": [
        "# string methods\n",
        "\n",
        "s = \"Hello World\"\n",
        "\n",
        "print(\"uppercase:\", s.upper())\n",
        "print(\"lowercase:\", s.lower())\n",
        "print(\"title case:\", s.title())\n",
        "print(\"capitalised:\", s.capitalize())\n",
        "print(\"index of 'W':\", s.index(\"W\"))\n",
        "print(\"found 'r' at:\", s.find(\"r\"))\n",
        "print(\"count of 'l':\", s.count(\"l\"))\n",
        "print(\"casefold:\", s.casefold())\n",
        "print(\"split using ' ':\", s.split(\" \"))\n",
        "print(\"replaced 'H' with 'j':\", s.replace(\"H\", \"J\"))\n",
        "\"=\".join(['Hello', 'World', 'this', 'is', 'python'])\n"
      ]
    },
    {
      "cell_type": "code",
      "execution_count": null,
      "id": "e29eec11",
      "metadata": {
        "id": "e29eec11",
        "outputId": "c2513bd5-24d4-4009-aad6-21f5613447ac"
      },
      "outputs": [
        {
          "name": "stdout",
          "output_type": "stream",
          "text": [
            "removed whitespace from left only: Hello        world             \n",
            "removed whitespace from right only:             Hello        world\n",
            "removed whitespace from both sides: Hello        world\n"
          ]
        }
      ],
      "source": [
        "# string methods\n",
        "\n",
        "s = \"            Hello        world             \"\n",
        "\n",
        "print(\"removed whitespace from left only:\", s.lstrip())\n",
        "print(\"removed whitespace from right only:\", s.rstrip())\n",
        "print(\"removed whitespace from both sides:\", s.strip())"
      ]
    },
    {
      "cell_type": "code",
      "execution_count": null,
      "id": "13125170",
      "metadata": {
        "id": "13125170",
        "outputId": "edb47279-0820-44d2-a00c-286372c4eab4"
      },
      "outputs": [
        {
          "name": "stdout",
          "output_type": "stream",
          "text": [
            "apple*****\n",
            "-----apple\n",
            "~~~~~~~~~~~~~~~~~~~~~~apple~~~~~~~~~~~~~~~~~~~~~~~\n"
          ]
        }
      ],
      "source": [
        "# string methods\n",
        "\n",
        "s = \"apple\"\n",
        "\n",
        "ljust_text = s.ljust(10, \"*\")\n",
        "rjust_text = s.rjust(10, \"-\")\n",
        "center_text = s.center(50, \"~\")\n",
        "\n",
        "print(ljust_text)\n",
        "print(rjust_text)\n",
        "print(center_text)\n"
      ]
    },
    {
      "cell_type": "code",
      "execution_count": null,
      "id": "PUUTcxAsb7pZ",
      "metadata": {
        "id": "PUUTcxAsb7pZ",
        "outputId": "85586ba1-a9f1-4a93-a247-bf9dd0c619d1"
      },
      "outputs": [
        {
          "name": "stdout",
          "output_type": "stream",
          "text": [
            "HeLLO wOrLD\n"
          ]
        }
      ],
      "source": [
        "# string methods\n",
        "\n",
        "s = \"hEllo WoRld\"\n",
        "\n",
        "print(s.swapcase())"
      ]
    },
    {
      "cell_type": "code",
      "execution_count": null,
      "id": "LlqU5DvYcRoP",
      "metadata": {
        "id": "LlqU5DvYcRoP",
        "outputId": "f17bd201-6003-41c9-dd2f-58a0a772d3e0"
      },
      "outputs": [
        {
          "name": "stdout",
          "output_type": "stream",
          "text": [
            "['Hello', ' World', ' this is Python']\n"
          ]
        }
      ],
      "source": [
        "# string methods\n",
        "\n",
        "s = \"Hello\\n World\\n this is Python\"\n",
        "\n",
        "print(s.splitlines())"
      ]
    },
    {
      "cell_type": "code",
      "execution_count": null,
      "id": "KYFRFOwCcsiK",
      "metadata": {
        "id": "KYFRFOwCcsiK",
        "outputId": "da6554cc-5a23-4ab1-9047-d1933e49cee7"
      },
      "outputs": [
        {
          "name": "stdout",
          "output_type": "stream",
          "text": [
            "Hi, I am Rohit and I am 20 years old\n",
            "Hi, I am Rohit and I am 20 years old\n"
          ]
        }
      ],
      "source": [
        "# string methods\n",
        "\n",
        "name = \"Rohit\"\n",
        "age = 20\n",
        "score = 123.123\n",
        "\n",
        "sentence_1 = \"Hi, I am {} and I am {} years old\"\n",
        "sentence_2 = \"Hi, I am {var1} and I am {var2} years old\"\n",
        "\n",
        "print(sentence_1.format(name, age))\n",
        "print(sentence_2.format(var1=name, var2=age))"
      ]
    },
    {
      "cell_type": "code",
      "execution_count": null,
      "id": "p06qrVPmdZev",
      "metadata": {
        "id": "p06qrVPmdZev",
        "outputId": "092bdb99-aa33-4e54-f85b-015f9684eb38"
      },
      "outputs": [
        {
          "data": {
            "text/plain": [
              "'hihello'"
            ]
          },
          "execution_count": 165,
          "metadata": {},
          "output_type": "execute_result"
        }
      ],
      "source": [
        "\"hi\"\"hello\""
      ]
    },
    {
      "cell_type": "code",
      "execution_count": null,
      "id": "658978ec",
      "metadata": {
        "id": "658978ec",
        "outputId": "5626e367-807c-4f24-90ca-5cf918f1f027"
      },
      "outputs": [
        {
          "data": {
            "text/plain": [
              "'hihello'"
            ]
          },
          "execution_count": 166,
          "metadata": {},
          "output_type": "execute_result"
        }
      ],
      "source": [
        "\"hi\"+\"hello\""
      ]
    },
    {
      "cell_type": "code",
      "execution_count": null,
      "id": "865c9273",
      "metadata": {
        "id": "865c9273",
        "outputId": "ca379788-b214-4a70-f8cb-ed4968df95f2"
      },
      "outputs": [
        {
          "data": {
            "text/plain": [
              "'Hi Hi Hi '"
            ]
          },
          "execution_count": 167,
          "metadata": {},
          "output_type": "execute_result"
        }
      ],
      "source": [
        "\"Hi \" * 3"
      ]
    },
    {
      "cell_type": "code",
      "execution_count": null,
      "id": "9ce6b1c7",
      "metadata": {
        "id": "9ce6b1c7",
        "outputId": "a01d6bdf-462b-49ec-8ba3-aae5ff5d9d57"
      },
      "outputs": [
        {
          "name": "stdout",
          "output_type": "stream",
          "text": [
            "hi, i am Rohit and i am 20 years old and i scored 123.12\n",
            "Score: 123.12\n"
          ]
        }
      ],
      "source": [
        "# string formatting\n",
        "\n",
        "print(\"hi, i am %s and i am %d years old and i scored %.2f\" % (name, age, score))\n",
        "print(f\"Score: {score:.2f}\")"
      ]
    },
    {
      "cell_type": "code",
      "execution_count": null,
      "id": "0d8e2753",
      "metadata": {
        "id": "0d8e2753",
        "outputId": "3436c213-22e5-472c-d666-0f3fcf19ddfe"
      },
      "outputs": [
        {
          "name": "stdout",
          "output_type": "stream",
          "text": [
            "20 is greater than 10\n"
          ]
        }
      ],
      "source": [
        "# if-else\n",
        "\n",
        "a, b = 10, 20\n",
        "\n",
        "if a > b:\n",
        "    print(f\"{a} is greater than {b}\")\n",
        "else:\n",
        "    print(f\"{b} is greater than {a}\")"
      ]
    },
    {
      "cell_type": "code",
      "execution_count": null,
      "id": "dc75bbf9",
      "metadata": {
        "id": "dc75bbf9",
        "outputId": "7778b81c-cbbd-4754-d490-0c3f5a25243d"
      },
      "outputs": [
        {
          "name": "stdout",
          "output_type": "stream",
          "text": [
            "40 is greater than 30 and 20\n"
          ]
        }
      ],
      "source": [
        "# comparing 3 numbers using if-else\n",
        "\n",
        "a, b, c = 40, 30, 20\n",
        "\n",
        "if (a > b):\n",
        "    if (a > c):\n",
        "        print(f\"{a} is greater than {b} and {c}\")\n",
        "else:\n",
        "    if (b > c):\n",
        "        print(f\"{b} is greater than {a} and {c}\")\n",
        "    else:\n",
        "        print(f\"{c} is greater than {a} and {b}\")"
      ]
    },
    {
      "cell_type": "code",
      "execution_count": null,
      "id": "b53a4e2c",
      "metadata": {
        "id": "b53a4e2c",
        "outputId": "02e385f6-1c34-4fbb-bef0-7ed14b1b2b9a"
      },
      "outputs": [
        {
          "name": "stdout",
          "output_type": "stream",
          "text": [
            "50 is greater than 40 and 30\n"
          ]
        }
      ],
      "source": [
        "# comparing 3 numbers using elif\n",
        "\n",
        "a, b, c = 40, 30, 50\n",
        "\n",
        "if (a > b) and (a > c):\n",
        "    print(f\"{a} is greater than {b} and {c}\")\n",
        "elif (b > c):\n",
        "    print(f\"{b} is greater than {a} and {c}\")\n",
        "else:\n",
        "    print(f\"{c} is greater than {a} and {b}\")"
      ]
    },
    {
      "cell_type": "code",
      "execution_count": null,
      "id": "f730b7da",
      "metadata": {
        "id": "f730b7da",
        "outputId": "d1771fe3-01de-462d-f34b-2bef2a3747f6"
      },
      "outputs": [
        {
          "name": "stdout",
          "output_type": "stream",
          "text": [
            "three\n"
          ]
        }
      ],
      "source": [
        "# switch case version in python\n",
        "\n",
        "num = 3\n",
        "match num:\n",
        "    case 1:\n",
        "        print(\"one\")\n",
        "    case 2:\n",
        "        print(\"two\")\n",
        "    case 3:\n",
        "        print(\"three\")\n",
        "    case _:\n",
        "        print(\"not found\")"
      ]
    },
    {
      "cell_type": "code",
      "execution_count": null,
      "id": "a059c159",
      "metadata": {
        "id": "a059c159",
        "outputId": "bd49fb8b-4481-4410-da07-8363938e0f61"
      },
      "outputs": [
        {
          "name": "stdout",
          "output_type": "stream",
          "text": [
            "Hi!\n",
            "Hi!\n",
            "Hi!\n"
          ]
        }
      ],
      "source": [
        "# for iterator\n",
        "\n",
        "for i in \"123\":\n",
        "    print(\"Hi!\")"
      ]
    },
    {
      "cell_type": "code",
      "execution_count": null,
      "id": "63c27800",
      "metadata": {
        "id": "63c27800",
        "outputId": "6ec5749e-31a4-427d-f6bb-fd793dc2a7cb"
      },
      "outputs": [
        {
          "name": "stdout",
          "output_type": "stream",
          "text": [
            "hi! 0\n",
            "hi! 1\n",
            "hi! 2\n",
            "hi! 3\n",
            "hi! 4\n",
            "hi! 5\n",
            "hi! 6\n",
            "hi! 7\n",
            "hi! 8\n",
            "hi! 9\n"
          ]
        }
      ],
      "source": [
        "for i in range(10):\n",
        "    print(\"hi!\", i)"
      ]
    },
    {
      "cell_type": "code",
      "execution_count": null,
      "id": "0005fb2e",
      "metadata": {
        "id": "0005fb2e",
        "outputId": "be7d8142-44a6-4d1f-96b3-eef1efccdf76"
      },
      "outputs": [
        {
          "name": "stdout",
          "output_type": "stream",
          "text": [
            "3 x 1 = 3\n",
            "3 x 2 = 6\n",
            "3 x 3 = 9\n",
            "3 x 4 = 12\n",
            "3 x 5 = 15\n",
            "3 x 6 = 18\n",
            "3 x 7 = 21\n",
            "3 x 8 = 24\n",
            "3 x 9 = 27\n",
            "3 x 10 = 30\n"
          ]
        }
      ],
      "source": [
        "num = int(input(\"Enter a number: \"))\n",
        "\n",
        "for i in range(1, 11):\n",
        "    print(f\"{num} x {i} = {num * i}\")"
      ]
    },
    {
      "cell_type": "code",
      "execution_count": null,
      "id": "047624d0",
      "metadata": {
        "id": "047624d0",
        "outputId": "a4b4ef1c-20d7-4b55-c3de-a1ae07b2c48d"
      },
      "outputs": [
        {
          "name": "stdout",
          "output_type": "stream",
          "text": [
            "0\n",
            "1\n",
            "2\n",
            "3\n"
          ]
        }
      ],
      "source": [
        "i = 0\n",
        "\n",
        "while (i < 4):\n",
        "    print(i)\n",
        "    i += 1"
      ]
    },
    {
      "cell_type": "code",
      "execution_count": null,
      "id": "6d8ec2b2",
      "metadata": {
        "id": "6d8ec2b2",
        "outputId": "37e9e3ba-252c-45b9-d86b-89367208f672"
      },
      "outputs": [
        {
          "name": "stdout",
          "output_type": "stream",
          "text": [
            "3 x 1 = 3\n",
            "3 x 2 = 6\n",
            "3 x 3 = 9\n",
            "3 x 4 = 12\n",
            "3 x 5 = 15\n",
            "3 x 6 = 18\n",
            "3 x 7 = 21\n",
            "3 x 8 = 24\n",
            "3 x 9 = 27\n",
            "3 x 10 = 30\n"
          ]
        }
      ],
      "source": [
        "# print a table of any number\n",
        "\n",
        "snum = int(input(\"Enter a number: \"))\n",
        "i = 1\n",
        "while i < 11:\n",
        "    print(f\"{num} x {i} = {num * i}\")\n",
        "    i += 1"
      ]
    },
    {
      "cell_type": "code",
      "execution_count": null,
      "id": "4cf8459a",
      "metadata": {
        "id": "4cf8459a"
      },
      "outputs": [],
      "source": [
        "# DO NOT RUN THIS. IT WILL CRASH YOUR COMPUTER\n",
        "\n",
        "# a = [1, 2]\n",
        "\n",
        "# for i in a:\n",
        "#     a.append(i + 1)"
      ]
    },
    {
      "cell_type": "code",
      "execution_count": null,
      "id": "43ed0e52",
      "metadata": {
        "id": "43ed0e52",
        "outputId": "0e7bd56e-672b-44e6-f191-7cbf5ec2b45e"
      },
      "outputs": [
        {
          "name": "stdout",
          "output_type": "stream",
          "text": [
            "40\n"
          ]
        }
      ],
      "source": [
        "print(a)"
      ]
    },
    {
      "cell_type": "code",
      "execution_count": null,
      "id": "dbbac37f",
      "metadata": {
        "id": "dbbac37f",
        "outputId": "ddd867c9-8372-4df5-9896-dafb67af8a3c"
      },
      "outputs": [
        {
          "name": "stdout",
          "output_type": "stream",
          "text": [
            "p 0\n",
            "p 12\n",
            "g 15\n",
            "m 18\n",
            "m 19\n",
            "g 22\n",
            "g 27\n",
            "g 30\n"
          ]
        }
      ],
      "source": [
        "# find certain characters and their index in a string\n",
        "# 1. my way\n",
        "\n",
        "s = \"Python is a Programming language\"\n",
        "num = 0\n",
        "for i in s.casefold():\n",
        "    if i == 'g':\n",
        "        print('g', num)\n",
        "    if i == 'm':\n",
        "        print('m', num)\n",
        "    if i == 'p':\n",
        "        print('p', num)\n",
        "    num += 1"
      ]
    },
    {
      "cell_type": "code",
      "execution_count": null,
      "id": "e68ba451",
      "metadata": {
        "id": "e68ba451",
        "outputId": "b6f0f213-1101-485c-b26a-856d769efc80"
      },
      "outputs": [
        {
          "name": "stdout",
          "output_type": "stream",
          "text": [
            "g found at 15\n",
            "m found at 18\n",
            "m found at 19\n",
            "g found at 22\n",
            "g found at 27\n",
            "g found at 30\n"
          ]
        }
      ],
      "source": [
        "# 2. using enumarate\n",
        "\n",
        "s = \"Python is a Programming language\"\n",
        "\n",
        "for index, ch in enumerate(s):\n",
        "    if ch in \"gmp\":\n",
        "        print(f\"{ch} found at {index}\")"
      ]
    },
    {
      "cell_type": "code",
      "execution_count": null,
      "id": "92f68187",
      "metadata": {
        "id": "92f68187",
        "outputId": "dfc7f408-b369-461f-a589-d9e530517aba"
      },
      "outputs": [
        {
          "name": "stdout",
          "output_type": "stream",
          "text": [
            "P found at 0\n",
            "P found at 12\n",
            "g found at 15\n",
            "m found at 18\n",
            "m found at 19\n",
            "g found at 22\n",
            "g found at 27\n",
            "g found at 30\n"
          ]
        }
      ],
      "source": [
        "# 3a. using index to call for value (for loop)\n",
        "\n",
        "s = \"Python is a Programming language\"\n",
        "\n",
        "for i in range(len(s)):\n",
        "    if s[i].lower() in \"gmp\":\n",
        "        print(f\"{s[i]} found at {i}\")\n"
      ]
    },
    {
      "cell_type": "code",
      "execution_count": null,
      "id": "0f1b758b",
      "metadata": {
        "id": "0f1b758b",
        "outputId": "f51ab4f1-2626-40d7-e44e-442b8f8996c3"
      },
      "outputs": [
        {
          "name": "stdout",
          "output_type": "stream",
          "text": [
            "P found at 0\n",
            "P found at 12\n",
            "g found at 15\n",
            "m found at 18\n",
            "m found at 19\n",
            "g found at 22\n",
            "g found at 27\n",
            "g found at 30\n"
          ]
        }
      ],
      "source": [
        "# 3b. using index to call for value (while loop)\n",
        "\n",
        "s = \"Python is a Programming language\"\n",
        "i = 0\n",
        "\n",
        "while i < len(s):\n",
        "    if s[i].lower() in \"gmp\":\n",
        "        print(f\"{s[i]} found at {i}\")\n",
        "    i += 1\n"
      ]
    },
    {
      "cell_type": "code",
      "execution_count": null,
      "id": "7b7ba6c9",
      "metadata": {
        "id": "7b7ba6c9",
        "outputId": "cb59401f-e4eb-4948-bcc7-57976b1eec6e"
      },
      "outputs": [
        {
          "name": "stdout",
          "output_type": "stream",
          "text": [
            "p found at 0\n",
            "p found at 12\n",
            "g found at 15\n",
            "m found at 18\n",
            "m found at 19\n",
            "g found at 22\n",
            "g found at 27\n",
            "g found at 30\n"
          ]
        }
      ],
      "source": [
        "# 4. using external variable as an index\n",
        "\n",
        "s = \"Python is a Programming language\"\n",
        "index = 0\n",
        "\n",
        "for ch in s.casefold():\n",
        "    if ch in \"gmp\":\n",
        "        print(f\"{ch} found at {index}\")\n",
        "    index += 1\n"
      ]
    },
    {
      "cell_type": "code",
      "execution_count": null,
      "id": "45c5286e",
      "metadata": {
        "id": "45c5286e",
        "outputId": "c71bebb7-b17f-4e28-ede4-1febd9c5601f"
      },
      "outputs": [
        {
          "name": "stdout",
          "output_type": "stream",
          "text": [
            "p occurred 2 times in the sentence.\n"
          ]
        }
      ],
      "source": [
        "# count the occurence of characters in a string\n",
        "\n",
        "s = \"Python is a Programming Language\"\n",
        "\n",
        "count = 0\n",
        "ch_to_check = input('enter the char to count for:')\n",
        "\n",
        "for ch in s:\n",
        "    if ch_to_check.lower() == ch.lower():\n",
        "        count += 1\n",
        "\n",
        "print(f\"{ch_to_check} occurred {count} times in the sentence.\")"
      ]
    },
    {
      "cell_type": "code",
      "execution_count": null,
      "id": "a9b7ef2e",
      "metadata": {
        "id": "a9b7ef2e",
        "outputId": "30169a4c-82ba-4e79-ecfc-5624b3ff5366"
      },
      "outputs": [
        {
          "name": "stdout",
          "output_type": "stream",
          "text": [
            "racecar is a palindrome\n"
          ]
        }
      ],
      "source": [
        "# write a program to check if the string is a palindrome\n",
        "\n",
        "s = input(\"Enter a string: \")\n",
        "\n",
        "if s == s[::-1]:\n",
        "    print(f\"{s} is a palindrome\")\n",
        "else:\n",
        "    print(f\"{s} is not a palindrome\")"
      ]
    },
    {
      "cell_type": "code",
      "execution_count": null,
      "id": "Qqmg_VcWVrDK",
      "metadata": {
        "id": "Qqmg_VcWVrDK",
        "outputId": "eee680f4-cf86-4b2f-9d3c-04b69e66f295"
      },
      "outputs": [
        {
          "name": "stdout",
          "output_type": "stream",
          "text": [
            "madam is a palindrome\n"
          ]
        }
      ],
      "source": [
        "# write a program to check if the string is a palindrome using basics\n",
        "\n",
        "s_original = input(\"Enter a string: \")\n",
        "s_reversed = \"\"\n",
        "\n",
        "for ch in s_original:\n",
        "    s_reversed = ch + s_reversed\n",
        "\n",
        "if s_original == s_reversed:\n",
        "    print(f\"{s_original} is a palindrome\")\n",
        "else:\n",
        "    print(f\"{s_original} is not a palindrome\")"
      ]
    },
    {
      "cell_type": "code",
      "execution_count": null,
      "id": "c4ddb44f",
      "metadata": {
        "id": "c4ddb44f",
        "outputId": "183f20d4-25f4-44be-bfcc-a43ca8172998"
      },
      "outputs": [
        {
          "name": "stdout",
          "output_type": "stream",
          "text": [
            "racecar is a palindrome\n"
          ]
        }
      ],
      "source": [
        "# write a program to check if the string is a palindrome using while loop.\n",
        "\n",
        "s_original = input(\"Enter a string: \")\n",
        "s_reversed = \"\"\n",
        "\n",
        "i = 0\n",
        "\n",
        "while(i < len(s_original)):\n",
        "    s_reversed = s_original[i] + s_reversed\n",
        "    i += 1\n",
        "\n",
        "if s_original == s_reversed:\n",
        "    print(f\"{s_original} is a palindrome\")\n",
        "else:\n",
        "    print(f\"{s_original} is not a palindrome\")"
      ]
    },
    {
      "cell_type": "code",
      "execution_count": null,
      "id": "T8xnOx5a9O2K",
      "metadata": {
        "id": "T8xnOx5a9O2K",
        "outputId": "46d5f481-011a-41ad-cebc-977ff71734b1"
      },
      "outputs": [
        {
          "name": "stdout",
          "output_type": "stream",
          "text": [
            "silent and listen are anagrams\n"
          ]
        }
      ],
      "source": [
        "# write a program to check if the string is an anagram.\n",
        "\n",
        "s1 = input(\"Enter a string: \")\n",
        "s2 = input(\"Enter a string: \")\n",
        "\n",
        "if sorted(s1) == sorted(s2):\n",
        "    print(f\"{s1} and {s2} are anagrams\")\n",
        "else:\n",
        "    print(f\"{s1} and {s2} are not anagrams\")"
      ]
    },
    {
      "cell_type": "code",
      "execution_count": null,
      "id": "fGp-Gt9qWHb2",
      "metadata": {
        "id": "fGp-Gt9qWHb2",
        "outputId": "9812dc40-7a64-4499-fd17-b2625da0dcdb"
      },
      "outputs": [
        {
          "name": "stdout",
          "output_type": "stream",
          "text": [
            "car and arc are Anagrams\n"
          ]
        }
      ],
      "source": [
        "# write a program to check if the string is an anagram using basics.\n",
        "\n",
        "s1 = input(\"Enter a string: \")\n",
        "s2 = input(\"Enter a string: \")\n",
        "result = f\"{s1} and {s2} are Anagrams\"\n",
        "\n",
        "if len(s1) != len(s2):\n",
        "  result = f\"{s1} and {s2} are not Anagrams\"\n",
        "\n",
        "for i in range(len(s1)):\n",
        "    if s1.count(s1[i]) != s2.count(s1[i]):\n",
        "        result = f\"{s1} and {s2} are not Anagrams\"\n",
        "        break\n",
        "\n",
        "print(result)"
      ]
    },
    {
      "cell_type": "code",
      "execution_count": null,
      "id": "JNYnqkv09qmv",
      "metadata": {
        "id": "JNYnqkv09qmv",
        "outputId": "5ae0d04e-69bb-46ab-8ac2-c8bcc1ee6d19"
      },
      "outputs": [
        {
          "name": "stdout",
          "output_type": "stream",
          "text": [
            "car and arc are anagrams\n"
          ]
        }
      ],
      "source": [
        "# write a program to check if the string is an anagram using dictionaries.\n",
        "\n",
        "s1 = input(\"Enter the first string: \").lower()\n",
        "s2 = input(\"Enter the second string: \").lower()\n",
        "\n",
        "if len(s1) != len(s2):\n",
        "    print(f\"{s1} and {s2} are not anagrams\")\n",
        "\n",
        "char_count = {}\n",
        "\n",
        "for ch in s1:\n",
        "    char_count[ch] = char_count.get(ch, 0) + 1\n",
        "\n",
        "is_anagram = True\n",
        "for ch in s2:\n",
        "    if ch not in char_count or char_count[ch] == 0:\n",
        "        print(f\"{s1} and {s2} are not anagrams\")\n",
        "        is_anagram = False\n",
        "        break\n",
        "    else:\n",
        "        char_count[ch] -= 1\n",
        "\n",
        "if is_anagram:\n",
        "    print(f\"{s1} and {s2} are anagrams\")\n"
      ]
    },
    {
      "cell_type": "code",
      "execution_count": null,
      "id": "jvQ3_t_nI3eY",
      "metadata": {
        "id": "jvQ3_t_nI3eY",
        "outputId": "f6195b47-68dd-487b-df00-beecfba43576"
      },
      "outputs": [
        {
          "name": "stdout",
          "output_type": "stream",
          "text": [
            "h occured 1 times\n",
            "e occured 1 times\n",
            "l occured 3 times\n",
            "l occured 3 times\n",
            "o occured 2 times\n",
            "  occured 1 times\n",
            "w occured 1 times\n",
            "o occured 2 times\n",
            "r occured 1 times\n",
            "l occured 3 times\n",
            "d occured 1 times\n",
            "! occured 1 times\n"
          ]
        }
      ],
      "source": [
        "# write a program to count how many times each letter occured.\n",
        "\n",
        "s = \"Hello World!\"\n",
        "\n",
        "for ch in s.lower():\n",
        "  count = 0\n",
        "  for i in s.lower():\n",
        "    if i == ch:\n",
        "      count += 1\n",
        "  print(f\"{ch} occured {count} times\")"
      ]
    },
    {
      "cell_type": "markdown",
      "id": "4aEZtFVpX5aV",
      "metadata": {
        "id": "4aEZtFVpX5aV"
      },
      "source": [
        "# Non Primitive Data"
      ]
    },
    {
      "cell_type": "code",
      "execution_count": null,
      "id": "yNnaNFk0X-ES",
      "metadata": {
        "id": "yNnaNFk0X-ES",
        "outputId": "384af98d-2f6c-4fd8-9d2f-8cb89d2714b3"
      },
      "outputs": [
        {
          "name": "stdout",
          "output_type": "stream",
          "text": [
            "<class 'list'>\n"
          ]
        }
      ],
      "source": [
        "# LISTS\n",
        "\n",
        "a = []\n",
        "print(type(a))"
      ]
    },
    {
      "cell_type": "code",
      "execution_count": null,
      "id": "9g1WezbRYDsI",
      "metadata": {
        "id": "9g1WezbRYDsI",
        "outputId": "694d47ba-0d71-4a73-9a28-4686eee48288"
      },
      "outputs": [
        {
          "name": "stdout",
          "output_type": "stream",
          "text": [
            "[1, 2, 3] ['a', 'b', 'c'] [1, 'a', 2, 'b']\n"
          ]
        }
      ],
      "source": [
        "a = [1, 2, 3]\n",
        "b = ['a', 'b', 'c']\n",
        "c = [1, 'a', 2, 'b']\n",
        "\n",
        "print(a, b, c)"
      ]
    },
    {
      "cell_type": "code",
      "execution_count": null,
      "id": "8ktveYPnYWBc",
      "metadata": {
        "id": "8ktveYPnYWBc",
        "outputId": "fdf3aa15-86ba-4d18-8818-b58e4c4ba131"
      },
      "outputs": [
        {
          "data": {
            "text/plain": [
              "['a', 'b', 'c', '1', '2', '3']"
            ]
          },
          "execution_count": 200,
          "metadata": {},
          "output_type": "execute_result"
        }
      ],
      "source": [
        "a = list(\"abc\"+\"123\")\n",
        "a"
      ]
    },
    {
      "cell_type": "code",
      "execution_count": null,
      "id": "9AYVFgrIYcdz",
      "metadata": {
        "id": "9AYVFgrIYcdz",
        "outputId": "86c1883c-4c12-4afa-f481-77a874f51258"
      },
      "outputs": [
        {
          "data": {
            "text/plain": [
              "[1,\n",
              " 1.5,\n",
              " 'Hello',\n",
              " True,\n",
              " None,\n",
              " (2+3j),\n",
              " [1, 2, 3],\n",
              " (1, 2, 3),\n",
              " {1, 2, 3},\n",
              " {1: 'one', 2: 'two'},\n",
              " <function print>,\n",
              " tuple]"
            ]
          },
          "execution_count": 201,
          "metadata": {},
          "output_type": "execute_result"
        }
      ],
      "source": [
        "my_list = [1, 1.5, \"Hello\", True, None, 2 + 3j, [1, 2, 3],\n",
        "           (1, 2, 3), {1, 2, 3}, {1 : \"one\", 2 : \"two\"},\n",
        "           print, tuple]\n",
        "my_list"
      ]
    },
    {
      "cell_type": "code",
      "execution_count": null,
      "id": "AvkN-8QCYz-I",
      "metadata": {
        "id": "AvkN-8QCYz-I",
        "outputId": "b2ead70d-16d2-4658-f452-aa4fe889f5c7"
      },
      "outputs": [
        {
          "name": "stdout",
          "output_type": "stream",
          "text": [
            "<built-in function print>\n"
          ]
        }
      ],
      "source": [
        "print(my_list[10])"
      ]
    },
    {
      "cell_type": "code",
      "execution_count": null,
      "id": "ENx2_29sY72V",
      "metadata": {
        "id": "ENx2_29sY72V",
        "outputId": "1f433ab7-6467-4740-cbe8-fca3b0a22997"
      },
      "outputs": [
        {
          "name": "stdout",
          "output_type": "stream",
          "text": [
            "Hello World, this calls the print function\n"
          ]
        }
      ],
      "source": [
        "my_list[10](\"Hello World, this calls the print function\")"
      ]
    },
    {
      "cell_type": "code",
      "execution_count": null,
      "id": "Zi1h0mG4ZFNE",
      "metadata": {
        "id": "Zi1h0mG4ZFNE",
        "outputId": "2be2ed0a-7324-4859-fac5-ffdd4f2c174c"
      },
      "outputs": [
        {
          "data": {
            "text/plain": [
              "2"
            ]
          },
          "execution_count": 204,
          "metadata": {},
          "output_type": "execute_result"
        }
      ],
      "source": [
        "my_list[6][1] # 6th index has a list [1, 2, 3] and it's 1st index holds a value of 2."
      ]
    },
    {
      "cell_type": "code",
      "execution_count": null,
      "id": "LUBJV2NpZSRw",
      "metadata": {
        "id": "LUBJV2NpZSRw",
        "outputId": "45ff68b1-3920-40bf-ec69-6fc848fabaa9"
      },
      "outputs": [
        {
          "name": "stdout",
          "output_type": "stream",
          "text": [
            "0 a\n",
            "1 b\n",
            "2 c\n",
            "3 d\n",
            "4 e\n",
            "5 f\n"
          ]
        }
      ],
      "source": [
        "# iterating through the list\n",
        "\n",
        "x = ['a', 'b', 'c', 'd', 'e', 'f']\n",
        "\n",
        "for i in range(len(x)):\n",
        "    print(i, x[i])"
      ]
    },
    {
      "cell_type": "code",
      "execution_count": null,
      "id": "afd7777b",
      "metadata": {
        "id": "afd7777b",
        "outputId": "d7abb2b2-1586-4c88-dd3c-e0235c87e575"
      },
      "outputs": [
        {
          "name": "stdout",
          "output_type": "stream",
          "text": [
            "1 b\n",
            "3 d\n",
            "5 f\n"
          ]
        }
      ],
      "source": [
        "# iterating through odd indexes of the list\n",
        "\n",
        "x = ['a', 'b', 'c', 'd', 'e', 'f']\n",
        "\n",
        "for i in range(1, len(x), 2):\n",
        "    print(i, x[i])"
      ]
    },
    {
      "cell_type": "code",
      "execution_count": null,
      "id": "dec935c5",
      "metadata": {
        "id": "dec935c5",
        "outputId": "6d47c131-6ce6-49cd-ab53-ba8cb2a97b34"
      },
      "outputs": [
        {
          "name": "stdout",
          "output_type": "stream",
          "text": [
            "['a', 'b', 'c', 'd', 'e', 'f', 'g']\n"
          ]
        }
      ],
      "source": [
        "# adds an element to the end of the list (at the -1 position specifically)\n",
        "\n",
        "x = ['a', 'b', 'c', 'd', 'e', 'f']\n",
        "\n",
        "x.append('g')\n",
        "print(x)"
      ]
    },
    {
      "cell_type": "code",
      "execution_count": null,
      "id": "7923fabd",
      "metadata": {
        "id": "7923fabd",
        "outputId": "bcea322e-2a0e-45bb-ec02-d81ab70d7ae7"
      },
      "outputs": [
        {
          "data": {
            "text/plain": [
              "['A', 'a', 'b', 'c', 'd', 'e', 'f']"
            ]
          },
          "execution_count": 208,
          "metadata": {},
          "output_type": "execute_result"
        }
      ],
      "source": [
        "# inserts an element at a particular position\n",
        "\n",
        "x = ['a', 'b', 'c', 'd', 'e', 'f']\n",
        "\n",
        "x.insert(0, 'A')\n",
        "x"
      ]
    },
    {
      "cell_type": "code",
      "execution_count": null,
      "id": "4e5ea171",
      "metadata": {
        "id": "4e5ea171",
        "outputId": "d458c77b-f584-48e1-dc80-99e276cb546d"
      },
      "outputs": [
        {
          "data": {
            "text/plain": [
              "4"
            ]
          },
          "execution_count": 209,
          "metadata": {},
          "output_type": "execute_result"
        }
      ],
      "source": [
        "# returns the index of the element\n",
        "\n",
        "x = ['a', 'b', 'c', 'd', 'e', 'f']\n",
        "\n",
        "x.index(\"e\")"
      ]
    },
    {
      "cell_type": "code",
      "execution_count": null,
      "id": "d30e5238",
      "metadata": {
        "id": "d30e5238",
        "outputId": "114e95ad-8316-4aa1-aadd-d60613a40466"
      },
      "outputs": [
        {
          "data": {
            "text/plain": [
              "'f'"
            ]
          },
          "execution_count": 210,
          "metadata": {},
          "output_type": "execute_result"
        }
      ],
      "source": [
        "# removes and returns the elements at the specified index or index -1 by default\n",
        "\n",
        "x = ['a', 'b', 'c', 'd', 'e', 'f']\n",
        "\n",
        "x.pop()"
      ]
    },
    {
      "cell_type": "code",
      "execution_count": null,
      "id": "cf76a129",
      "metadata": {
        "id": "cf76a129",
        "outputId": "26d7643f-bda1-4633-9a39-1a33b7270990"
      },
      "outputs": [
        {
          "name": "stdout",
          "output_type": "stream",
          "text": [
            "['a', 'b', 'c', 'd', 'e']\n"
          ]
        }
      ],
      "source": [
        "# removes the element specified\n",
        "\n",
        "x = ['a', 'b', 'c', 'd', 'e', 'f']\n",
        "\n",
        "x.remove('f')\n",
        "print(x)"
      ]
    },
    {
      "cell_type": "code",
      "execution_count": null,
      "id": "ed10f2b9",
      "metadata": {
        "id": "ed10f2b9",
        "outputId": "e9cfcc87-6b78-49b5-e29d-d17358b9e6a9"
      },
      "outputs": [
        {
          "name": "stdout",
          "output_type": "stream",
          "text": [
            "['f', 'e', 'd', 'c', 'b', 'a']\n"
          ]
        }
      ],
      "source": [
        "# reverses the entire list\n",
        "\n",
        "x = ['a', 'b', 'c', 'd', 'e', 'f']\n",
        "\n",
        "x.reverse()\n",
        "print(x)"
      ]
    },
    {
      "cell_type": "code",
      "execution_count": null,
      "id": "b2866154",
      "metadata": {
        "id": "b2866154",
        "outputId": "7724c2bf-8b81-44b2-9a22-cd7690822cb1"
      },
      "outputs": [
        {
          "name": "stdout",
          "output_type": "stream",
          "text": [
            "['a', 'b', 'c', 'd', 'e', 'f']\n"
          ]
        }
      ],
      "source": [
        "# sorts the entire list\n",
        "\n",
        "x = ['a', 'b', 'c', 'd', 'e', 'f']\n",
        "\n",
        "x.sort()\n",
        "print(x)"
      ]
    },
    {
      "cell_type": "code",
      "execution_count": null,
      "id": "8013bc1a",
      "metadata": {
        "id": "8013bc1a",
        "outputId": "11cdf0dc-52d6-4ea0-e638-d9ed897fe3c0"
      },
      "outputs": [
        {
          "name": "stdout",
          "output_type": "stream",
          "text": [
            "['a', 'b', 'c', 'd', 'e', 'f', 'g', 'h', 'i', 'j', 'k']\n"
          ]
        }
      ],
      "source": [
        "# add the letters 'a' to 'g' at the beginning of the list\n",
        "# 1. using reversed string.\n",
        "\n",
        "r = ['h', 'i', 'j', 'k']\n",
        "s = 'abcdefg'\n",
        "\n",
        "for ch in s[::-1]:\n",
        "    r.insert(0, ch)\n",
        "\n",
        "print(r)"
      ]
    },
    {
      "cell_type": "code",
      "execution_count": null,
      "id": "cd04f8e2",
      "metadata": {
        "id": "cd04f8e2",
        "outputId": "9c00708b-b73c-48e0-a838-e6eb0373f5b0"
      },
      "outputs": [
        {
          "name": "stdout",
          "output_type": "stream",
          "text": [
            "['a', 'b', 'c', 'd', 'e', 'f', 'g', 'h', 'i', 'j', 'k']\n"
          ]
        }
      ],
      "source": [
        "# 2. using normal string\n",
        "\n",
        "r = ['h', 'i', 'j', 'k']\n",
        "s = 'abcdefg'\n",
        "\n",
        "for i in range(len(s)):\n",
        "    r.insert(i, s[i])\n",
        "\n",
        "print(r)"
      ]
    },
    {
      "cell_type": "code",
      "execution_count": null,
      "id": "8aff072d",
      "metadata": {
        "id": "8aff072d",
        "outputId": "ae9dc54c-fcee-4bf1-9cee-1646131f328a"
      },
      "outputs": [
        {
          "name": "stdout",
          "output_type": "stream",
          "text": [
            "['a', 'b', 'c', 'd', 'e', 'f', 'g', 'h', 'i', 'j', 'k']\n"
          ]
        }
      ],
      "source": [
        "# 3. using negative indexing\n",
        "\n",
        "r = ['h', 'i', 'j', 'k']\n",
        "s = 'abcdefg'\n",
        "\n",
        "for ch in s:\n",
        "    r.insert(-4, ch)\n",
        "\n",
        "print(r)"
      ]
    },
    {
      "cell_type": "code",
      "execution_count": null,
      "id": "6c7bf1cb",
      "metadata": {
        "id": "6c7bf1cb",
        "outputId": "e6aa49b5-a824-43b3-8e84-8e9b84230e9f"
      },
      "outputs": [
        {
          "name": "stdout",
          "output_type": "stream",
          "text": [
            "['a', 'h', 'i', 'j', 'k']\n",
            "['a', 'b', 'h', 'i', 'j', 'k']\n",
            "['a', 'b', 'c', 'h', 'i', 'j', 'k']\n",
            "['a', 'b', 'c', 'd', 'h', 'i', 'j', 'k']\n",
            "['a', 'b', 'c', 'd', 'e', 'h', 'i', 'j', 'k']\n",
            "['a', 'b', 'c', 'd', 'e', 'f', 'h', 'i', 'j', 'k']\n",
            "['a', 'b', 'c', 'd', 'e', 'f', 'g', 'h', 'i', 'j', 'k']\n"
          ]
        }
      ],
      "source": [
        "# 4. using negative indexing and chr()\n",
        "\n",
        "r = ['h', 'i', 'j', 'k']\n",
        "\n",
        "for i in range(7):\n",
        "    r.insert(-4, chr(97 + i))\n",
        "    print(r)"
      ]
    },
    {
      "cell_type": "code",
      "execution_count": null,
      "id": "0f32da71",
      "metadata": {
        "id": "0f32da71",
        "outputId": "fb96720e-8d4a-4c8f-aadc-59df41b1959e"
      },
      "outputs": [
        {
          "name": "stdout",
          "output_type": "stream",
          "text": [
            "['a', 'b', 'c', 'd', 'e', 'f', 'g', 'h', 'i', 'j', 'k']\n"
          ]
        }
      ],
      "source": [
        "# using the 'Python' way\n",
        "\n",
        "r = ['h', 'i', 'j', 'k']\n",
        "s = 'abcdefg'\n",
        "\n",
        "r = list(s) + r\n",
        "print(r)"
      ]
    },
    {
      "cell_type": "code",
      "execution_count": null,
      "id": "ab956ed9",
      "metadata": {
        "id": "ab956ed9",
        "outputId": "8ae6fdd0-bf31-4432-bb2f-78173de6076e"
      },
      "outputs": [
        {
          "name": "stdout",
          "output_type": "stream",
          "text": [
            "['d', 'e', 'f', 'g', 'h', 'i', 'j', 'k']\n"
          ]
        }
      ],
      "source": [
        "# remove certain elements from a list\n",
        "# 1. using the remove() menthod\n",
        "\n",
        "elements = ['a', 'b', 'c', 1, 'z']\n",
        "r = ['a', 'b', 'c', 'd', 'e', 'f', 'g', 'h', 'i', 'j', 'k']\n",
        "\n",
        "for ch in elements:\n",
        "    if ch in r:\n",
        "        r.remove(ch)\n",
        "\n",
        "print(r)"
      ]
    },
    {
      "cell_type": "code",
      "execution_count": null,
      "id": "8fa4a502",
      "metadata": {
        "id": "8fa4a502",
        "outputId": "d18ed64a-1e7b-4d05-fc5d-f7c163b0fcd2"
      },
      "outputs": [
        {
          "name": "stdout",
          "output_type": "stream",
          "text": [
            "['d', 'e', 'f', 'g', 'h', 'i', 'j', 'k']\n"
          ]
        }
      ],
      "source": [
        "#2. using the pop() method\n",
        "\n",
        "elements = ['a', 'b', 'c', 1, 'z']\n",
        "r = ['a', 'b', 'c', 'd', 'e', 'f', 'g', 'h', 'i', 'j', 'k']\n",
        "\n",
        "for ch in elements:\n",
        "    if r.count(ch) > 0:\n",
        "        r.pop(r.index(ch))\n",
        "print(r)"
      ]
    },
    {
      "cell_type": "code",
      "execution_count": null,
      "id": "547c7163",
      "metadata": {
        "id": "547c7163",
        "outputId": "63d13855-1b5a-4748-c22f-c5d1cdd6fefe"
      },
      "outputs": [
        {
          "name": "stdout",
          "output_type": "stream",
          "text": [
            "0 a\n",
            "1 b\n",
            "2 c\n",
            "3 d\n",
            "4 e\n"
          ]
        }
      ],
      "source": [
        "# acessing the list using the enumerate() function\n",
        "\n",
        "elements = ['a', 'b', 'c', 'd', 'e']\n",
        "\n",
        "for index, value in enumerate(elements):\n",
        "    print(index, value)"
      ]
    },
    {
      "cell_type": "code",
      "execution_count": null,
      "id": "2dcc4625",
      "metadata": {
        "id": "2dcc4625",
        "outputId": "8bca5b3a-8ddf-474c-c7bd-fdf80ae27c66"
      },
      "outputs": [
        {
          "name": "stdout",
          "output_type": "stream",
          "text": [
            "['annabelle', 'bheem', 'charlie']\n",
            "bheem\n",
            "b\n",
            "m\n",
            "chan\n",
            "dora\n"
          ]
        }
      ],
      "source": [
        "# multi-dimensional lists\n",
        "\n",
        "m = [\n",
        "    ['annabelle', 'bheem', 'charlie'],\n",
        "    ['doraemon', 'oggy', 'fantastic 4'],\n",
        "    ['gatorgaj', 'hagemaru', 'shinchan']\n",
        "]\n",
        "\n",
        "print(m[0])           # ['annabelle', 'bheem', 'charlie']\n",
        "print(m[0][1])        # bheem\n",
        "print(m[0][1][0])     # b\n",
        "print(m[0][1][4::1])  # m\n",
        "print(m[2][2][4:])    # chan\n",
        "print(m[1][0][:4])    # dora"
      ]
    },
    {
      "cell_type": "code",
      "execution_count": null,
      "id": "de44d3c4",
      "metadata": {
        "id": "de44d3c4",
        "outputId": "aa993d89-095a-433a-a729-7b6b0ca3440e"
      },
      "outputs": [
        {
          "name": "stdout",
          "output_type": "stream",
          "text": [
            "['The', 'Hello', 'Moon']\n"
          ]
        }
      ],
      "source": [
        "e = ['The', 'Moon']\n",
        "e.insert(1, \"Hello\")\n",
        "print(e)"
      ]
    },
    {
      "cell_type": "code",
      "execution_count": null,
      "id": "7b30f999",
      "metadata": {
        "id": "7b30f999",
        "outputId": "878b4da5-575d-4326-93d6-0b36b9c128e6"
      },
      "outputs": [
        {
          "name": "stdout",
          "output_type": "stream",
          "text": [
            "['The', 'Moon', 'Hello']\n"
          ]
        }
      ],
      "source": [
        "e = ['The', 'Moon']\n",
        "e.append(\"Hello\")\n",
        "print(e)"
      ]
    },
    {
      "cell_type": "code",
      "execution_count": null,
      "id": "cdfe59f0",
      "metadata": {
        "id": "cdfe59f0",
        "outputId": "83ae0d88-da45-447c-99a7-8ec6ee698678"
      },
      "outputs": [
        {
          "name": "stdout",
          "output_type": "stream",
          "text": [
            "['The', 'Moon', 'this', 'is', 'great']\n"
          ]
        }
      ],
      "source": [
        "e = ['The', 'Moon']\n",
        "e.extend([\"this\", \"is\", \"great\"])\n",
        "print(e)"
      ]
    },
    {
      "cell_type": "code",
      "execution_count": null,
      "id": "db06291b",
      "metadata": {
        "id": "db06291b",
        "outputId": "d8a79e5a-5174-416c-cdf3-9628438e98ff"
      },
      "outputs": [
        {
          "name": "stdout",
          "output_type": "stream",
          "text": [
            "p = ['The', 'Moon', 'this', 'is', 'great']\n",
            "p = ['The', 'Moon', 'this', 'is']\n",
            "e = ['The', 'Moon', 'this', 'is']\n",
            "140347910439424 140347910439424\n"
          ]
        }
      ],
      "source": [
        "e = ['The', 'Moon', 'this', 'is', 'great']\n",
        "p = e\n",
        "print(\"p =\", p)     # same as e\n",
        "p.pop()             # remove an element from 'p'\n",
        "print(\"p =\", p)     # 'p' changed\n",
        "print(\"e =\", e)     # 'e' changed too.\n",
        "print(id(p), id(e)) # cause they transferred id instead."
      ]
    },
    {
      "cell_type": "code",
      "execution_count": null,
      "id": "3c090a80",
      "metadata": {
        "id": "3c090a80",
        "outputId": "fca27a4f-ca5e-4298-e7cd-cbc9760a3121"
      },
      "outputs": [
        {
          "name": "stdout",
          "output_type": "stream",
          "text": [
            "p = ['The', 'Moon', 'this', 'is', 'great']\n",
            "p = ['The', 'Moon', 'this', 'is']\n",
            "e = ['The', 'Moon', 'this', 'is', 'great']\n",
            "140347905054080 140347905023232\n"
          ]
        }
      ],
      "source": [
        "e = ['The', 'Moon', 'this', 'is', 'great']\n",
        "p = e.copy()        # using the list.copy() method\n",
        "print(\"p =\", p)     # same as e\n",
        "p.pop()             # remove an element from 'p'\n",
        "print(\"p =\", p)     # 'p' changed\n",
        "print(\"e =\", e)     # 'e' didn't change.\n",
        "print(id(p), id(e)) # cause they transferred 'Data' instead."
      ]
    },
    {
      "cell_type": "code",
      "execution_count": null,
      "id": "86145759",
      "metadata": {
        "id": "86145759",
        "outputId": "62c7fc90-24d0-452c-d7b6-024405662cd0"
      },
      "outputs": [
        {
          "name": "stdout",
          "output_type": "stream",
          "text": [
            "m = [['annabelle', 'bheem', 'Toys'], ['doraemon', 'oggy', 'fantastic 4'], ['gatorgaj', 'hagemaru', 'shinchan']]\n",
            "n = [['annabelle', 'bheem', 'Toys'], ['doraemon', 'oggy', 'fantastic 4'], ['gatorgaj', 'hagemaru', 'shinchan']]\n",
            "140347905112960 140347905023616\n",
            "140347905025152 140347905025152\n"
          ]
        }
      ],
      "source": [
        "m = [\n",
        "    ['annabelle', 'bheem', 'charlie'],\n",
        "    ['doraemon', 'oggy', 'fantastic 4'],\n",
        "    ['gatorgaj', 'hagemaru', 'shinchan']\n",
        "]\n",
        "\n",
        "# normal .copy() only changes the id for the main list and no the lists or other\n",
        "# non-primitive lists inside it.\n",
        "\n",
        "n = m.copy()\n",
        "n[0][2] = \"Toys\" # modifying in 'n'\n",
        "\n",
        "print(f\"m = {m}\\nn = {n}\") # changed in both 'm' and 'n'\n",
        "print(id(m), id(n))        # main id's are different\n",
        "print(id(m[0]), id(n[0]))  # id's for inner lists remain the same"
      ]
    },
    {
      "cell_type": "code",
      "execution_count": null,
      "id": "07be4c73",
      "metadata": {
        "id": "07be4c73",
        "outputId": "19338254-fd90-40cc-b9eb-5f470f362ab7"
      },
      "outputs": [
        {
          "name": "stdout",
          "output_type": "stream",
          "text": [
            "m = [['annabelle', 'bheem', 'charlie'], ['doraemon', 'oggy', 'fantastic 4'], ['gatorgaj', 'hagemaru', 'shinchan']]\n",
            "n = [['annabelle', 'bheem', 'Toys'], ['doraemon', 'oggy', 'fantastic 4'], ['gatorgaj', 'hagemaru', 'shinchan']]\n",
            "140347905113152 140347905106176\n",
            "140347905106496 140347905038464\n"
          ]
        }
      ],
      "source": [
        "# by using the deepcopy function from the copy module, it creates correct copies\n",
        "# of all non primitive data.\n",
        "\n",
        "import copy\n",
        "\n",
        "m = [\n",
        "    ['annabelle', 'bheem', 'charlie'],\n",
        "    ['doraemon', 'oggy', 'fantastic 4'],\n",
        "    ['gatorgaj', 'hagemaru', 'shinchan']\n",
        "]\n",
        "\n",
        "n = copy.deepcopy(m)\n",
        "n[0][2] = \"Toys\"           # modifying in 'n'\n",
        "\n",
        "print(f\"m = {m}\\nn = {n}\") # changed in only 'n'\n",
        "print(id(m), id(n))        # main id's are different\n",
        "print(id(m[0]), id(n[0]))  # id's for inner lists are also different"
      ]
    },
    {
      "cell_type": "code",
      "execution_count": null,
      "id": "300b6f32",
      "metadata": {
        "id": "300b6f32",
        "outputId": "9ade55b9-1d22-4374-bff7-aec670224e7b"
      },
      "outputs": [
        {
          "name": "stdout",
          "output_type": "stream",
          "text": [
            "f = [6, 5, 4, 3, 2, 1]\n"
          ]
        }
      ],
      "source": [
        "# difference between .reverse() method and reversed() function\n",
        "\n",
        "# reversed() function does not modify the original list or data\n",
        "# it only returns a copy of the operation it performs.\n",
        "\n",
        "f = [1, 2, 3, 4, 5, 6]\n",
        "print(f\"f = {list(reversed(f))}\")"
      ]
    },
    {
      "cell_type": "code",
      "execution_count": null,
      "id": "6b07add0",
      "metadata": {
        "id": "6b07add0",
        "outputId": "18cad3d0-2709-4285-f68a-4ebb18cb0c06"
      },
      "outputs": [
        {
          "name": "stdout",
          "output_type": "stream",
          "text": [
            "f = [6, 5, 4, 3, 2, 1]\n"
          ]
        }
      ],
      "source": [
        "# the .reversed() method modifies the original list\n",
        "\n",
        "f = [1, 2, 3, 4, 5, 6]\n",
        "f.reverse()\n",
        "print(f\"f = {f}\")"
      ]
    },
    {
      "cell_type": "code",
      "execution_count": null,
      "id": "87375011",
      "metadata": {
        "id": "87375011",
        "outputId": "3383f3e2-085f-4fc8-c3e2-d0fc5a4ea74c"
      },
      "outputs": [
        {
          "name": "stdout",
          "output_type": "stream",
          "text": [
            "[[1, 2, 3, 4], [5, 6, 7, 8, 9]]\n"
          ]
        }
      ],
      "source": [
        "# dynamically create this list using an empty list\n",
        "# 1. My way\n",
        "\n",
        "question = [[1, 2, 3, 4], [5 ,6 ,7 ,8 ,9]]\n",
        "answer = []\n",
        "\n",
        "temp = []\n",
        "\n",
        "for i in range(1, 5):\n",
        "  temp.append(i)\n",
        "answer.append(list(temp))\n",
        "temp.clear()\n",
        "\n",
        "for i in range(5, 10):\n",
        "  temp.append(i)\n",
        "answer.append(list(temp))\n",
        "temp.clear()\n",
        "\n",
        "print(answer)"
      ]
    },
    {
      "cell_type": "code",
      "execution_count": null,
      "id": "4168fea6",
      "metadata": {
        "id": "4168fea6",
        "outputId": "65228252-ad1d-43b2-e5be-0fdf0dcd96d3"
      },
      "outputs": [
        {
          "name": "stdout",
          "output_type": "stream",
          "text": [
            "[[1, 2, 3, 4], [5, 6, 7, 8, 9]]\n"
          ]
        }
      ],
      "source": [
        "# 2. using list comprehension\n",
        "\n",
        "question = [[1, 2, 3, 4], [5 ,6 ,7 ,8 ,9]]\n",
        "answer = []\n",
        "\n",
        "answer.append([i for i in range(1, 5)])\n",
        "answer.append([i for i in range(5, 10)])\n",
        "\n",
        "print(answer)"
      ]
    },
    {
      "cell_type": "code",
      "execution_count": null,
      "id": "6IMHlVXUs3bE",
      "metadata": {
        "id": "6IMHlVXUs3bE",
        "outputId": "64435b43-6aed-4153-e237-6477ab018c69"
      },
      "outputs": [
        {
          "name": "stdout",
          "output_type": "stream",
          "text": [
            "[[1, 2, 3, 4], [5, 6, 7, 8, 9]]\n"
          ]
        }
      ],
      "source": [
        "# 3. using list comprehension in a single line\n",
        "\n",
        "answer = [[i for i in range(1, 5)], [i for i in range(5, 10)]]\n",
        "print(answer)"
      ]
    },
    {
      "cell_type": "code",
      "execution_count": null,
      "id": "8NWbDu-NtF-C",
      "metadata": {
        "id": "8NWbDu-NtF-C",
        "outputId": "5ccbb659-5280-4820-96ce-226166dc7e3a"
      },
      "outputs": [
        {
          "name": "stdout",
          "output_type": "stream",
          "text": [
            "8 found at 0, 2\n"
          ]
        }
      ],
      "source": [
        "# return the position of the element in the matrix\n",
        "# 1. my way\n",
        "\n",
        "matrix = [\n",
        "    [1, 3, 8],\n",
        "    [9, 11, \"Hello\"],\n",
        "    [13, 15, \"World\"]\n",
        "]\n",
        "\n",
        "element_to_find = input(\"Enter the element to find: \")\n",
        "res = \"not found\"\n",
        "\n",
        "if element_to_find.isnumeric():\n",
        "    element_to_find = int(element_to_find)\n",
        "\n",
        "for i in range(len(matrix)):\n",
        "    for j in range(len(matrix[i])):\n",
        "        if matrix[i][j] == element_to_find:\n",
        "            res = f\"{element_to_find} found at {i}, {j}\"\n",
        "\n",
        "print(res)"
      ]
    },
    {
      "cell_type": "code",
      "execution_count": null,
      "id": "oXT7McqowwDc",
      "metadata": {
        "id": "oXT7McqowwDc",
        "outputId": "3f740d1f-65ba-447b-e7f0-85119f5e6925"
      },
      "outputs": [
        {
          "name": "stdout",
          "output_type": "stream",
          "text": [
            "(1,)\n"
          ]
        }
      ],
      "source": [
        "a = (1, ) # tuple with a single element\n",
        "print(a)"
      ]
    },
    {
      "cell_type": "code",
      "execution_count": null,
      "id": "ceb3eb15",
      "metadata": {
        "id": "ceb3eb15",
        "outputId": "90a85fd7-9605-449d-c281-4c961e306290"
      },
      "outputs": [
        {
          "name": "stdout",
          "output_type": "stream",
          "text": [
            "(1, 2, 3)\n"
          ]
        }
      ],
      "source": [
        "a = (1, 2, 3) # normal tuple\n",
        "print(a)"
      ]
    },
    {
      "cell_type": "code",
      "execution_count": null,
      "id": "eca34a70",
      "metadata": {
        "id": "eca34a70",
        "outputId": "279b8565-c17b-45a0-c777-41e32deaa835"
      },
      "outputs": [
        {
          "name": "stdout",
          "output_type": "stream",
          "text": [
            "()\n",
            "(1, 2, 3)\n"
          ]
        }
      ],
      "source": [
        "a = tuple() # create an empty tuple\n",
        "print(a)\n",
        "a = tuple([1, 2, 3]) # tuple using the tuple class\n",
        "print(a)"
      ]
    },
    {
      "cell_type": "code",
      "execution_count": null,
      "id": "3bb04c46",
      "metadata": {
        "id": "3bb04c46",
        "outputId": "79488da4-7c95-4599-f57b-fc3172e90602"
      },
      "outputs": [
        {
          "name": "stdout",
          "output_type": "stream",
          "text": [
            "<class 'tuple'>\n"
          ]
        }
      ],
      "source": [
        "print(type(a))"
      ]
    },
    {
      "cell_type": "code",
      "execution_count": null,
      "id": "8842fb1a",
      "metadata": {
        "id": "8842fb1a",
        "outputId": "6392c5da-0ea7-4391-97b1-e75a76dbf2a4"
      },
      "outputs": [
        {
          "data": {
            "text/plain": [
              "1"
            ]
          },
          "execution_count": 242,
          "metadata": {},
          "output_type": "execute_result"
        }
      ],
      "source": [
        "a = tuple([1, 2, 3])\n",
        "a.count(2)"
      ]
    },
    {
      "cell_type": "code",
      "execution_count": null,
      "id": "d4cf142c",
      "metadata": {
        "id": "d4cf142c",
        "outputId": "ecaeb4b6-973a-4cd1-812c-c50b99acb649"
      },
      "outputs": [
        {
          "data": {
            "text/plain": [
              "2"
            ]
          },
          "execution_count": 243,
          "metadata": {},
          "output_type": "execute_result"
        }
      ],
      "source": [
        "a = tuple([1, 2, 3])\n",
        "a.index(3)"
      ]
    },
    {
      "cell_type": "code",
      "execution_count": null,
      "id": "fe700488",
      "metadata": {
        "id": "fe700488",
        "outputId": "96bcc8a8-47e6-487b-82d2-ad3f9e94db7d"
      },
      "outputs": [
        {
          "name": "stdout",
          "output_type": "stream",
          "text": [
            "(1, 2, 3)\n",
            "(0, 1, 2, 3, 4)\n"
          ]
        }
      ],
      "source": [
        "# how to modify a tuple\n",
        "# 1. type cast into another data type like a list\n",
        "\n",
        "a = (1, 2, 3)\n",
        "print(a) # before\n",
        "\n",
        "a = list(a)\n",
        "a.insert(len(a), 4)\n",
        "a.insert(0, 0)\n",
        "a = tuple(a)\n",
        "\n",
        "print(a) # after"
      ]
    },
    {
      "cell_type": "code",
      "execution_count": null,
      "id": "1b9cb650",
      "metadata": {
        "id": "1b9cb650",
        "outputId": "3a2be36f-ba9d-4533-d316-f9d1fdc0e5d3"
      },
      "outputs": [
        {
          "name": "stdout",
          "output_type": "stream",
          "text": [
            "(0, 1, 2, 3, 4)\n"
          ]
        }
      ],
      "source": [
        "# 2. using unpacking\n",
        "\n",
        "a = (1, 2, 3)\n",
        "a = tuple((0, *a, 4))\n",
        "print(a)"
      ]
    },
    {
      "cell_type": "code",
      "execution_count": null,
      "id": "81df09f9",
      "metadata": {
        "id": "81df09f9",
        "outputId": "7dd32a71-04ef-4f7c-f995-089d40bbdcd8"
      },
      "outputs": [
        {
          "name": "stdout",
          "output_type": "stream",
          "text": [
            "10 [20, 30, 40] 50\n",
            "10 20 30 40 50\n"
          ]
        }
      ],
      "source": [
        "# packing\n",
        "\n",
        "a, *b, c = 10, 20, 30, 40, 50\n",
        "print(a, b, c)\n",
        "print(a, *b, c)"
      ]
    },
    {
      "cell_type": "code",
      "execution_count": null,
      "id": "9046997a",
      "metadata": {
        "id": "9046997a",
        "outputId": "c1641671-38fa-4788-fd2f-bb8e3c404cb5"
      },
      "outputs": [
        {
          "name": "stdout",
          "output_type": "stream",
          "text": [
            "[1, 2, 3]\n",
            "([1, 2, 3, 4], 5, 6, 7)\n"
          ]
        }
      ],
      "source": [
        "# modifying a mutable datatype inside a tuple\n",
        "\n",
        "a = ([1, 2, 3], 5, 6, 7)\n",
        "print(a[0])\n",
        "\n",
        "a[0].append(4)\n",
        "print(a)"
      ]
    },
    {
      "cell_type": "code",
      "execution_count": null,
      "id": "0f9450b1",
      "metadata": {
        "id": "0f9450b1",
        "outputId": "2c88eef5-51e3-4657-a48a-1d4040bc9df0"
      },
      "outputs": [
        {
          "name": "stdout",
          "output_type": "stream",
          "text": [
            "{1, 2, 3, 4}\n"
          ]
        }
      ],
      "source": [
        "# set\n",
        "\n",
        "s = {1, 2, 3, 4} # create a set\n",
        "print(s)"
      ]
    },
    {
      "cell_type": "code",
      "execution_count": null,
      "id": "302210af",
      "metadata": {
        "id": "302210af",
        "outputId": "1480cac8-697f-43ae-8d7a-34a8021c400a"
      },
      "outputs": [
        {
          "name": "stdout",
          "output_type": "stream",
          "text": [
            "<class 'set'>\n"
          ]
        }
      ],
      "source": [
        "s = set() # create an empty set\n",
        "print(type(s))"
      ]
    },
    {
      "cell_type": "code",
      "execution_count": null,
      "id": "e2ee4921",
      "metadata": {
        "id": "e2ee4921",
        "outputId": "dcc0d097-ba9b-4780-f58c-6325b6e4469b"
      },
      "outputs": [
        {
          "name": "stdout",
          "output_type": "stream",
          "text": [
            "{0, 1, 'abc', 2}\n"
          ]
        }
      ],
      "source": [
        "s = {\"abc\", 1, 2, 0, 0}\n",
        "print(s) # set only stores unique values and stores them based on priority."
      ]
    },
    {
      "cell_type": "code",
      "execution_count": null,
      "id": "280f0642",
      "metadata": {
        "id": "280f0642",
        "outputId": "243586de-1c38-4324-9633-8ed01d2007d5"
      },
      "outputs": [
        {
          "ename": "TypeError",
          "evalue": "unhashable type: 'list'",
          "output_type": "error",
          "traceback": [
            "\u001b[0;31m---------------------------------------------------------------------------\u001b[0m",
            "\u001b[0;31mTypeError\u001b[0m                                 Traceback (most recent call last)",
            "Cell \u001b[0;32mIn[251], line 1\u001b[0m\n\u001b[0;32m----> 1\u001b[0m s \u001b[38;5;241m=\u001b[39m {[\u001b[38;5;241m1\u001b[39m, \u001b[38;5;241m2\u001b[39m, \u001b[38;5;241m3\u001b[39m], [\u001b[38;5;241m4\u001b[39m, \u001b[38;5;241m5\u001b[39m, \u001b[38;5;241m6\u001b[39m]} \u001b[38;5;66;03m# set can't hold any unhashable data.\u001b[39;00m\n",
            "\u001b[0;31mTypeError\u001b[0m: unhashable type: 'list'"
          ]
        }
      ],
      "source": [
        "s = {[1, 2, 3], [4, 5, 6]} # set can't hold any unhashable data."
      ]
    },
    {
      "cell_type": "code",
      "execution_count": null,
      "id": "7f8db49d",
      "metadata": {
        "id": "7f8db49d",
        "outputId": "1c1741bf-9ece-446c-9ca0-291f637f434a"
      },
      "outputs": [
        {
          "name": "stdout",
          "output_type": "stream",
          "text": [
            "7171678745284387942\n",
            "-2756880065823499278\n"
          ]
        }
      ],
      "source": [
        "print(hash(\"abcdefghijklmnopqrstuvwxyz\"))           # converts data into a hash code\n",
        "print(hash(\"123321123213132132132132132132131321\"))"
      ]
    },
    {
      "cell_type": "code",
      "execution_count": null,
      "id": "ab0f69a9",
      "metadata": {
        "id": "ab0f69a9",
        "outputId": "a6d12e7a-611c-43d1-eb32-5378dadceb9a"
      },
      "outputs": [
        {
          "ename": "TypeError",
          "evalue": "unhashable type: 'list'",
          "output_type": "error",
          "traceback": [
            "\u001b[0;31m---------------------------------------------------------------------------\u001b[0m",
            "\u001b[0;31mTypeError\u001b[0m                                 Traceback (most recent call last)",
            "Cell \u001b[0;32mIn[253], line 1\u001b[0m\n\u001b[0;32m----> 1\u001b[0m s \u001b[38;5;241m=\u001b[39m {(\u001b[38;5;241m1\u001b[39m, [\u001b[38;5;241m2\u001b[39m], \u001b[38;5;241m3\u001b[39m), \u001b[38;5;241m4\u001b[39m, \u001b[38;5;241m5\u001b[39m, \u001b[38;5;241m6\u001b[39m} \u001b[38;5;66;03m# can't hold any unhashable data even if inside an hashable form.\u001b[39;00m\n\u001b[1;32m      2\u001b[0m \u001b[38;5;28mprint\u001b[39m(s)\n",
            "\u001b[0;31mTypeError\u001b[0m: unhashable type: 'list'"
          ]
        }
      ],
      "source": [
        "s = {(1, [2], 3), 4, 5, 6} # can't hold any unhashable data even if inside an hashable form.\n",
        "print(s)"
      ]
    },
    {
      "cell_type": "code",
      "execution_count": null,
      "id": "62b5cea1",
      "metadata": {
        "id": "62b5cea1",
        "outputId": "4e53e6f0-d342-401f-8490-53224d2d71e8"
      },
      "outputs": [
        {
          "name": "stdout",
          "output_type": "stream",
          "text": [
            "{1, 2, 3} {2, 3, 5, 7} {4, 6} {1, 2, 3, 4, 5, 6, 7}\n"
          ]
        }
      ],
      "source": [
        "# set theory\n",
        "\n",
        "a = {1, 2, 3}\n",
        "b = {2, 3, 5, 7}\n",
        "c = {4, 6}\n",
        "\n",
        "# basic way to get the union of sets\n",
        "u = {*a, *b, *c}\n",
        "\n",
        "print(a, b, c, u)"
      ]
    },
    {
      "cell_type": "code",
      "execution_count": null,
      "id": "ed3a7a94",
      "metadata": {
        "id": "ed3a7a94",
        "outputId": "aceceb16-fc8d-44ed-a04a-5fe4ff77d0fb"
      },
      "outputs": [
        {
          "name": "stdout",
          "output_type": "stream",
          "text": [
            "{1, 2, 3, 4, 5, 6, 7}\n"
          ]
        }
      ],
      "source": [
        "# get union of sets using the union method\n",
        "u = a.union(b.union(c))\n",
        "print(u)"
      ]
    },
    {
      "cell_type": "code",
      "execution_count": null,
      "id": "cc9c688b",
      "metadata": {
        "id": "cc9c688b",
        "outputId": "0737bb2e-334a-4481-b48e-e62344b9a0ef"
      },
      "outputs": [
        {
          "name": "stdout",
          "output_type": "stream",
          "text": [
            "True\n",
            "True\n",
            "{1}\n",
            "None\n"
          ]
        }
      ],
      "source": [
        "a = {1, 2, 3}\n",
        "b = {2, 3, 5, 7}\n",
        "c = {4, 6}\n",
        "u = {*a, *b, *c}\n",
        "\n",
        "print(a.issubset(u))          # true if all values of 'a' are in 'u'\n",
        "print(u.issuperset(a))        # true if all values of 'u' are in 'a'\n",
        "print(a.difference(b))        # returns 'a' - 'b'\n",
        "print(a.difference_update(b)) # updates value of 'a' with 'a' - 'b'\n"
      ]
    },
    {
      "cell_type": "code",
      "execution_count": null,
      "id": "9c5099cd",
      "metadata": {
        "id": "9c5099cd",
        "outputId": "e756b7b5-b18f-4784-aa99-19cf9a95ef81"
      },
      "outputs": [
        {
          "name": "stdout",
          "output_type": "stream",
          "text": [
            "True\n",
            "None\n",
            "{2, 3}\n",
            "None\n"
          ]
        }
      ],
      "source": [
        "a = {1, 2, 3}\n",
        "b = {2, 3, 5, 7}\n",
        "c = {4, 6}\n",
        "u = {*a, *b, *c}\n",
        "\n",
        "print(a.isdisjoint(c))          # true if there are no common values between two sets\n",
        "print(a.discard(1))             # removes an element if present\n",
        "print(a.intersection(b))        # returns the commmon values\n",
        "print(a.intersection_update(b)) # updates value of 'a' with 'a' intersection 'b'"
      ]
    },
    {
      "cell_type": "code",
      "execution_count": null,
      "id": "3d806607",
      "metadata": {
        "id": "3d806607",
        "outputId": "d6dd6d8a-819e-493d-e74e-4cd199aaebdc"
      },
      "outputs": [
        {
          "name": "stdout",
          "output_type": "stream",
          "text": [
            "1\n",
            "None\n",
            "{2, 5, 7}\n",
            "None\n"
          ]
        }
      ],
      "source": [
        "a = {1, 2, 3}\n",
        "b = {2, 3, 5, 7}\n",
        "c = {4, 6}\n",
        "u = {*a, *b, *c}\n",
        "\n",
        "print(a.pop())                   # removes a random element\n",
        "print(a.remove(2))               # removes the particular element\n",
        "print(a.symmetric_difference(b)) # returns the uncommon values of 'a' and 'b'\n",
        "print(a.update(b))"
      ]
    },
    {
      "cell_type": "code",
      "execution_count": null,
      "id": "ea7ea646",
      "metadata": {
        "id": "ea7ea646",
        "outputId": "08b1050b-8849-40ad-a1da-44e076e5da83"
      },
      "outputs": [
        {
          "name": "stdout",
          "output_type": "stream",
          "text": [
            "One\n"
          ]
        }
      ],
      "source": [
        "# dictionary\n",
        "d = {\n",
        "    1 : \"One\",\n",
        "    2 : \"two\"\n",
        "}\n",
        "\n",
        "print(d[1]) # values can only be accessed by keys."
      ]
    },
    {
      "cell_type": "code",
      "execution_count": null,
      "id": "18395e29",
      "metadata": {
        "id": "18395e29",
        "outputId": "25354950-57d0-421b-e56b-679e9dc21ab0"
      },
      "outputs": [
        {
          "name": "stdout",
          "output_type": "stream",
          "text": [
            "{1: 'One', 2: 'Two'}\n",
            "{1: 'One', 2: 'Two', 3: 'Three'}\n"
          ]
        }
      ],
      "source": [
        "d[2] = \"Two\"\n",
        "print(d)   # updates the value of key if present.\n",
        "\n",
        "d[3] = \"Three\"\n",
        "print(d)   # else inserts a new key value pair."
      ]
    },
    {
      "cell_type": "code",
      "execution_count": null,
      "id": "5e9d2e81",
      "metadata": {
        "id": "5e9d2e81",
        "outputId": "6b83c6b1-b270-40d7-e54b-92ce11aa1999"
      },
      "outputs": [
        {
          "name": "stdout",
          "output_type": "stream",
          "text": [
            "{'h': 1, 'e': 1, 'l': 3, 'o': 2, ' ': 1, 'w': 1, 'r': 1, 'd': 1}\n"
          ]
        }
      ],
      "source": [
        "# count the number of each character in a string by using a dictionary.\n",
        "\n",
        "s = \"Hello World\"\n",
        "ch_count = {}\n",
        "\n",
        "for ch in s.lower():\n",
        "    if ch in ch_count:\n",
        "        ch_count[ch] += 1\n",
        "    else:\n",
        "        ch_count[ch] = 1\n",
        "\n",
        "print(ch_count)"
      ]
    },
    {
      "cell_type": "code",
      "execution_count": null,
      "id": "a6cc2d9e",
      "metadata": {
        "id": "a6cc2d9e"
      },
      "outputs": [],
      "source": [
        "s = \"\"\"\n",
        "Your Excellency, Honourable President,\n",
        "Distinguished delegates from both nations,\n",
        "Friends from the media,\n",
        "\n",
        "Namaskar!\n",
        "Kalimera!\n",
        "\n",
        "At the very outset, I extend my heartfelt gratitude to the Honourable President for the warm welcome and gracious hospitality. Since the moment I set foot on the soil of Cyprus yesterday, the warmth and affection shown by the President and the people of this country have truly touched my heart.\n",
        "\n",
        "A short while ago, I was conferred with a prestigious honour by Cyprus. This accolade is not mine alone — it is a tribute to the 140 crore Indians. It symbolises the enduring friendship between India and Cyprus. I express my sincere thanks, once again, for this honour.\n",
        "\n",
        "Friends,\n",
        "\n",
        "We attach great importance to our relations with Cyprus. Our shared commitment to values such as democracy and the rule of law forms the strong foundation of our partnership. The friendship between India and Cyprus is not one that has emerged out of circumstances, nor is it confined by borders.\n",
        "\n",
        "It has withstood the test of time, again and again. In every era, we have upheld the spirit of cooperation, respect and mutual support. We honour each other’s sovereignty and territorial integrity.\n",
        "\n",
        "Friends,\n",
        "\n",
        "This visit marks the first by an Indian Prime Minister to Cyprus in over two decades. It presents a golden opportunity to script a new chapter in our bilateral relations. Today, the Honourable President and I held extensive discussions on all aspects of our partnership.\n",
        "\n",
        "There are many similarities between Cyprus’s “Vision 2035” and our vision of a “Viksit Bharat 2047”. Therefore, we shall work together to shape our shared future. To provide strategic direction to our partnership, we will develop a concrete roadmap for the next five years.\n",
        "\n",
        "To further strengthen our defence and security cooperation, the bilateral Defence Cooperation Programme will focus on defence industry collaboration. Separate dialogues will be initiated on cyber and maritime security.\n",
        "\n",
        "We are deeply grateful to Cyprus for its consistent support of Bharat’s fight against cross-border terrorism. To combat terrorism, drug trafficking and arms smuggling, a mechanism will be established for real-time information exchange between our respective agencies. We both agree that there is immense potential in enhancing bilateral trade and investment.\n",
        "\n",
        "Yesterday, during my interaction with the Honourable President, I sensed great enthusiasm and synergy within the business community regarding our economic ties. We are working towards concluding a mutually beneficial India-EU Free Trade Agreement by the end of the year.\n",
        "\n",
        "This year, the “India-Cyprus-Greece Business and Investment Council” has also been launched. Such initiatives will boost bilateral trade and investment between our countries.\n",
        "\n",
        "We also held detailed discussions on expanding cooperation in areas such as technology, innovation, health, agriculture, renewable energy, and climate justice. We are encouraged by the growing popularity of yoga and Ayurveda in Cyprus.\n",
        "\n",
        "Cyprus is a preferred destination for Indian tourists as well. We shall work towards establishing direct air connectivity to facilitate their travel. We have resolved to expedite the finalisation of a Mobility Agreement.\n",
        "\n",
        "Friends,\n",
        "\n",
        "Within the European Union, Cyprus is our trusted partner. We extend our best wishes for Cyprus’s upcoming Presidency of the European Union next year. We are confident that, under your leadership, India-EU relations will reach new heights.\n",
        "\n",
        "Both nations share common views on the need to reform the United Nations to make it more representative. We are grateful to Cyprus for its support of Bharat’s bid for permanent membership in the UN Security Council.\n",
        "\n",
        "We have expressed concern over ongoing conflicts in West Asia and Europe. The adverse impact of these conflicts is not limited to their respective regions alone. We both agree that this is not an era of war.\n",
        "\n",
        "Dialogue and the restoration of stability are the calls of humanity. We also discussed enhancing connectivity with the Mediterranean region. We concur that the India-Middle East-Europe Economic Corridor will pave the way for peace and prosperity in the region.\n",
        "\n",
        "Honourable President,\n",
        "\n",
        "I extend a cordial invitation to you to visit Bharat. I look forward to the opportunity of welcoming you to Bharat at the earliest.\n",
        "\n",
        "Once again, I sincerely thank you for the exceptional hospitality and honour.\n",
        "\"\"\""
      ]
    },
    {
      "cell_type": "code",
      "execution_count": null,
      "id": "13880808",
      "metadata": {
        "id": "13880808",
        "outputId": "c5372d2a-e73b-4058-c2c5-f89669f34277"
      },
      "outputs": [
        {
          "name": "stdout",
          "output_type": "stream",
          "text": [
            "{'your': 2, 'excellency,': 1, 'honourable': 5, 'president,': 3, 'distinguished': 1, 'delegates': 1, 'from': 2, 'both': 4, 'nations,': 1, 'friends': 1, 'the': 42, 'media,': 1, 'namaskar!': 1, 'kalimera!': 1, 'at': 2, 'very': 1, 'outset,': 1, 'i': 9, 'extend': 3, 'my': 4, 'heartfelt': 1, 'gratitude': 1, 'to': 22, 'president': 3, 'for': 11, 'warm': 1, 'welcome': 1, 'and': 24, 'gracious': 1, 'hospitality.': 1, 'since': 1, 'moment': 1, 'set': 1, 'foot': 1, 'on': 6, 'soil': 1, 'of': 20, 'cyprus': 7, 'yesterday,': 2, 'warmth': 1, 'affection': 1, 'shown': 1, 'by': 6, 'people': 1, 'this': 6, 'country': 1, 'have': 4, 'truly': 1, 'touched': 1, 'heart.': 1, 'a': 12, 'short': 1, 'while': 1, 'ago,': 1, 'was': 1, 'conferred': 1, 'with': 4, 'prestigious': 1, 'honour': 2, 'cyprus.': 4, 'accolade': 1, 'is': 9, 'not': 4, 'mine': 1, 'alone': 1, '—': 1, 'it': 6, 'tribute': 1, '140': 1, 'crore': 1, 'indians.': 1, 'symbolises': 1, 'enduring': 1, 'friendship': 2, 'between': 5, 'india': 2, 'express': 1, 'sincere': 1, 'thanks,': 1, 'once': 2, 'again,': 2, 'honour.': 2, 'friends,': 3, 'we': 19, 'attach': 1, 'great': 2, 'importance': 1, 'our': 14, 'relations': 2, 'shared': 2, 'commitment': 1, 'values': 1, 'such': 3, 'as': 3, 'democracy': 1, 'rule': 1, 'law': 1, 'forms': 1, 'strong': 1, 'foundation': 1, 'partnership.': 2, 'one': 1, 'that': 4, 'has': 3, 'emerged': 1, 'out': 1, 'circumstances,': 1, 'nor': 1, 'confined': 1, 'borders.': 1, 'withstood': 1, 'test': 1, 'time,': 1, 'again': 1, 'again.': 1, 'in': 9, 'every': 1, 'era,': 1, 'upheld': 1, 'spirit': 1, 'cooperation,': 2, 'respect': 1, 'mutual': 1, 'support.': 1, 'each': 1, 'other’s': 1, 'sovereignty': 1, 'territorial': 1, 'integrity.': 1, 'visit': 2, 'marks': 1, 'first': 1, 'an': 2, 'indian': 2, 'prime': 1, 'minister': 1, 'over': 2, 'two': 1, 'decades.': 1, 'presents': 1, 'golden': 1, 'opportunity': 2, 'script': 1, 'new': 2, 'chapter': 1, 'bilateral': 4, 'relations.': 1, 'today,': 1, 'held': 2, 'extensive': 1, 'discussions': 2, 'all': 1, 'aspects': 1, 'there': 2, 'are': 7, 'many': 1, 'similarities': 1, 'cyprus’s': 2, '“vision': 1, '2035”': 1, 'vision': 1, '“viksit': 1, 'bharat': 2, '2047”.': 1, 'therefore,': 1, 'shall': 2, 'work': 2, 'together': 1, 'shape': 1, 'future.': 1, 'provide': 1, 'strategic': 1, 'direction': 1, 'partnership,': 1, 'will': 7, 'develop': 1, 'concrete': 1, 'roadmap': 1, 'next': 2, 'five': 1, 'years.': 1, 'further': 1, 'strengthen': 1, 'defence': 3, 'security': 2, 'cooperation': 2, 'programme': 1, 'focus': 1, 'industry': 1, 'collaboration.': 1, 'separate': 1, 'dialogues': 1, 'be': 2, 'initiated': 1, 'cyber': 1, 'maritime': 1, 'security.': 1, 'deeply': 1, 'grateful': 2, 'its': 2, 'consistent': 1, 'support': 2, 'bharat’s': 2, 'fight': 1, 'against': 1, 'cross-border': 1, 'terrorism.': 1, 'combat': 1, 'terrorism,': 1, 'drug': 1, 'trafficking': 1, 'arms': 1, 'smuggling,': 1, 'mechanism': 1, 'established': 1, 'real-time': 1, 'information': 1, 'exchange': 1, 'respective': 2, 'agencies.': 1, 'agree': 2, 'immense': 1, 'potential': 1, 'enhancing': 2, 'trade': 3, 'investment.': 1, 'during': 1, 'interaction': 1, 'sensed': 1, 'enthusiasm': 1, 'synergy': 1, 'within': 2, 'business': 2, 'community': 1, 'regarding': 1, 'economic': 2, 'ties.': 1, 'working': 1, 'towards': 2, 'concluding': 1, 'mutually': 1, 'beneficial': 1, 'india-eu': 2, 'free': 1, 'agreement': 1, 'end': 1, 'year.': 2, 'year,': 1, '“india-cyprus-greece': 1, 'investment': 2, 'council”': 1, 'also': 3, 'been': 1, 'launched.': 1, 'initiatives': 1, 'boost': 1, 'countries.': 1, 'detailed': 1, 'expanding': 1, 'areas': 1, 'technology,': 1, 'innovation,': 1, 'health,': 1, 'agriculture,': 1, 'renewable': 1, 'energy,': 1, 'climate': 1, 'justice.': 1, 'encouraged': 1, 'growing': 1, 'popularity': 1, 'yoga': 1, 'ayurveda': 1, 'preferred': 1, 'destination': 1, 'tourists': 1, 'well.': 1, 'establishing': 1, 'direct': 1, 'air': 1, 'connectivity': 2, 'facilitate': 1, 'their': 2, 'travel.': 1, 'resolved': 1, 'expedite': 1, 'finalisation': 1, 'mobility': 1, 'agreement.': 1, 'european': 2, 'union,': 1, 'trusted': 1, 'partner.': 1, 'best': 1, 'wishes': 1, 'upcoming': 1, 'presidency': 1, 'union': 1, 'confident': 1, 'that,': 1, 'under': 1, 'leadership,': 1, 'reach': 1, 'heights.': 1, 'nations': 2, 'share': 1, 'common': 1, 'views': 1, 'need': 1, 'reform': 1, 'united': 1, 'make': 1, 'more': 1, 'representative.': 1, 'bid': 1, 'permanent': 1, 'membership': 1, 'un': 1, 'council.': 1, 'expressed': 1, 'concern': 1, 'ongoing': 1, 'conflicts': 2, 'west': 1, 'asia': 1, 'europe.': 1, 'adverse': 1, 'impact': 1, 'these': 1, 'limited': 1, 'regions': 1, 'alone.': 1, 'era': 1, 'war.': 1, 'dialogue': 1, 'restoration': 1, 'stability': 1, 'calls': 1, 'humanity.': 1, 'discussed': 1, 'mediterranean': 1, 'region.': 2, 'concur': 1, 'india-middle': 1, 'east-europe': 1, 'corridor': 1, 'pave': 1, 'way': 1, 'peace': 1, 'prosperity': 1, 'cordial': 1, 'invitation': 1, 'you': 3, 'bharat.': 1, 'look': 1, 'forward': 1, 'welcoming': 1, 'earliest.': 1, 'sincerely': 1, 'thank': 1, 'exceptional': 1, 'hospitality': 1}\n"
          ]
        }
      ],
      "source": [
        "word_count = {}\n",
        "\n",
        "for word in s.lower().split():\n",
        "    if word in word_count:\n",
        "        word_count[word] += 1\n",
        "    else:\n",
        "        word_count[word] = 1\n",
        "\n",
        "print(word_count)"
      ]
    },
    {
      "cell_type": "code",
      "execution_count": null,
      "id": "0f47cbed",
      "metadata": {
        "id": "0f47cbed",
        "outputId": "895a7e5e-7e22-4c0d-b85f-c7d65c6b50ca"
      },
      "outputs": [
        {
          "name": "stdout",
          "output_type": "stream",
          "text": [
            "{'the': 42, 'i': 9, 'to': 22, 'for': 11, 'and': 24, 'of': 20, 'cyprus': 7, 'a': 12, 'is': 9, 'we': 19, 'our': 14, 'in': 9, 'are': 7, 'will': 7}\n"
          ]
        }
      ],
      "source": [
        "copy_dict = word_count.copy()\n",
        "\n",
        "for k in copy_dict:\n",
        "    if word_count[k] < 7:\n",
        "        word_count.pop(k)\n",
        "\n",
        "print(word_count)"
      ]
    },
    {
      "cell_type": "code",
      "execution_count": null,
      "id": "b9ba7c50",
      "metadata": {
        "id": "b9ba7c50",
        "outputId": "51d6f1e5-6064-4221-f430-22d03e391de8"
      },
      "outputs": [
        {
          "name": "stdout",
          "output_type": "stream",
          "text": [
            "{'h': None, 'e': None, 'l': None, 'o': None, ' ': None, 'w': None, 'r': None, 'd': None}\n"
          ]
        }
      ],
      "source": [
        "# fromkeys() method is used to create a dict from an iterable\n",
        "# and assigns null values to them.\n",
        "\n",
        "s = \"hello world\"\n",
        "char = dict.fromkeys(s)\n",
        "\n",
        "print(char)"
      ]
    },
    {
      "cell_type": "code",
      "execution_count": null,
      "id": "b516d071",
      "metadata": {
        "id": "b516d071",
        "outputId": "dc983ffa-f9ce-4c6e-acb3-fc516977a9c7"
      },
      "outputs": [
        {
          "name": "stdout",
          "output_type": "stream",
          "text": [
            "one\n",
            "not found\n"
          ]
        }
      ],
      "source": [
        "# .get() method is used to fetch a value but it allows us to set a default\n",
        "# return value if not found.\n",
        "\n",
        "num = {1: 'one', 2 : 'two', 3 : 'three'}\n",
        "\n",
        "print(num.get(1))\n",
        "print(num.get(5, \"not found\"))"
      ]
    },
    {
      "cell_type": "code",
      "execution_count": null,
      "id": "b3325657",
      "metadata": {
        "id": "b3325657",
        "outputId": "c56b7dbd-33f7-4961-d59e-58789d1be723"
      },
      "outputs": [
        {
          "name": "stdout",
          "output_type": "stream",
          "text": [
            "{1: 'one', 2: 'two', 3: 'three'}\n",
            "{1: 'one', 2: 'two', 3: 'three', 4: 'four'}\n"
          ]
        }
      ],
      "source": [
        "# .setdefault allows us to set key value pairs only if they dont exist.\n",
        "# if it exists then it doesn't update.\n",
        "\n",
        "num = {1: 'one', 2 : 'two', 3 : 'three'}\n",
        "\n",
        "num.setdefault(1, 999)\n",
        "print(num)\n",
        "\n",
        "num.setdefault(4, 'four')\n",
        "print(num)"
      ]
    },
    {
      "cell_type": "code",
      "execution_count": null,
      "id": "8a335f76",
      "metadata": {
        "id": "8a335f76",
        "outputId": "05d1129c-96f7-474c-c083-0e95ebf2ce93"
      },
      "outputs": [
        {
          "data": {
            "text/plain": [
              "dict_items([(1, 'one'), (2, 'two'), (3, 'three')])"
            ]
          },
          "execution_count": 268,
          "metadata": {},
          "output_type": "execute_result"
        }
      ],
      "source": [
        "# .items() returns a list of key value pairs in groups of tuples.\n",
        "\n",
        "num = {1: 'one', 2 : 'two', 3 : 'three'}\n",
        "\n",
        "num.items()"
      ]
    },
    {
      "cell_type": "code",
      "execution_count": null,
      "id": "1e87039c",
      "metadata": {
        "id": "1e87039c",
        "outputId": "6f69db7c-dee3-40b8-9c5c-a8566150de2f"
      },
      "outputs": [
        {
          "data": {
            "text/plain": [
              "dict_keys([1, 2, 3])"
            ]
          },
          "execution_count": 269,
          "metadata": {},
          "output_type": "execute_result"
        }
      ],
      "source": [
        "# .keys() returns a list of all keys.\n",
        "\n",
        "num = {1: 'one', 2 : 'two', 3 : 'three'}\n",
        "\n",
        "num.keys()"
      ]
    },
    {
      "cell_type": "code",
      "execution_count": null,
      "id": "3b0939b2",
      "metadata": {
        "id": "3b0939b2",
        "outputId": "2986d3d0-44ff-4953-b5da-699963fd146f"
      },
      "outputs": [
        {
          "data": {
            "text/plain": [
              "dict_values(['one', 'two', 'three'])"
            ]
          },
          "execution_count": 270,
          "metadata": {},
          "output_type": "execute_result"
        }
      ],
      "source": [
        "# .values() returns a list of all values.\n",
        "\n",
        "num = {1: 'one', 2 : 'two', 3 : 'three'}\n",
        "\n",
        "num.values()"
      ]
    },
    {
      "cell_type": "code",
      "execution_count": null,
      "id": "1cc0b2d9",
      "metadata": {
        "id": "1cc0b2d9",
        "outputId": "e2201abe-472f-4795-c2cf-dc5b95267cc8"
      },
      "outputs": [
        {
          "name": "stdout",
          "output_type": "stream",
          "text": [
            "three\n",
            "{1: 'one', 2: 'two'}\n"
          ]
        }
      ],
      "source": [
        "# .pop() removes and returns a random element.\n",
        "\n",
        "num = {1: 'one', 2 : 'two', 3 : 'three'}\n",
        "\n",
        "print(num.pop(3))\n",
        "print(num)"
      ]
    },
    {
      "cell_type": "code",
      "execution_count": null,
      "id": "a3bd2a0e",
      "metadata": {
        "id": "a3bd2a0e",
        "outputId": "1bc0c135-8004-4a7c-e9c7-4ba6eb60d513"
      },
      "outputs": [
        {
          "name": "stdout",
          "output_type": "stream",
          "text": [
            "(3, 'three')\n"
          ]
        }
      ],
      "source": [
        "# .popitem() removes and returns a key-value pair in a tuple.\n",
        "\n",
        "num = {1: 'one', 2 : 'two', 3 : 'three'}\n",
        "\n",
        "print(num.popitem())"
      ]
    },
    {
      "cell_type": "code",
      "execution_count": null,
      "id": "ea69a50e",
      "metadata": {
        "id": "ea69a50e",
        "outputId": "b29d7040-85f5-408c-b2cc-2ecfa40d7bbc"
      },
      "outputs": [
        {
          "name": "stdout",
          "output_type": "stream",
          "text": [
            "{1: 'one', 2: 'two', 3: 'three', 4: 'four'}\n"
          ]
        }
      ],
      "source": [
        "num = {1: 'one', 2 : 'two', 3 : 'three'}\n",
        "\n",
        "num.update({1: 'one', 2 : 'two', 3 : 'three', 4 : 'four'})\n",
        "print(num)"
      ]
    },
    {
      "cell_type": "code",
      "execution_count": null,
      "id": "c224778c",
      "metadata": {
        "id": "c224778c",
        "outputId": "f6465a79-9501-41e1-ed14-0c8db9db54dd"
      },
      "outputs": [
        {
          "name": "stdout",
          "output_type": "stream",
          "text": [
            "123.0 * 2 = 246.0\n",
            "15.0 * 2 = 30.0\n",
            "456.0 * 2 = 912.0\n"
          ]
        }
      ],
      "source": [
        "run = True\n",
        "\n",
        "while run:\n",
        "    d = float(input(\"enter a number: \"))\n",
        "    print(f\"{d} * 2 = {d * 2}\")\n",
        "    run = bool(int(input(\"enter '0' to exist or any other number to continue: \" )))"
      ]
    },
    {
      "cell_type": "code",
      "execution_count": null,
      "id": "1328a8fb",
      "metadata": {
        "id": "1328a8fb",
        "outputId": "7d53db22-e466-4f0f-c9b4-93c92b7f0cf4"
      },
      "outputs": [
        {
          "name": "stdout",
          "output_type": "stream",
          "text": [
            "101\n",
            "102\n",
            "103\n",
            "104\n",
            "end\n",
            "end\n"
          ]
        }
      ],
      "source": [
        "# In Python, iter() and next() are fundamental functions used to interact\n",
        "# with iterators, which are objects that represent a stream of data and can\n",
        "# be traversed one element at a time.\n",
        "\n",
        "s = [101, 102, 103, 104]\n",
        "i = iter(s)                # creates a manually iterable object.\n",
        "\n",
        "print(next(i, \"end\"))      # next function retrieves the next value, and can take\n",
        "print(next(i, \"end\"))      # a default value as any to avoid null error after the\n",
        "print(next(i, \"end\"))      # iterable runs out of values.\n",
        "print(next(i, \"end\"))\n",
        "print(next(i, \"end\"))      # ran out of values.\n",
        "print(next(i, \"end\"))      # ran out of values."
      ]
    },
    {
      "cell_type": "markdown",
      "id": "849738a6",
      "metadata": {
        "id": "849738a6"
      },
      "source": [
        "# Functions"
      ]
    },
    {
      "cell_type": "code",
      "execution_count": null,
      "id": "73078407",
      "metadata": {
        "id": "73078407",
        "outputId": "13b9b219-d2ed-4166-b3b5-3248374a1709"
      },
      "outputs": [
        {
          "name": "stdout",
          "output_type": "stream",
          "text": [
            "Hello World!\n",
            "<function greet at 0x7fa54b1adab0>\n"
          ]
        }
      ],
      "source": [
        "# function definition\n",
        "\n",
        "def greet():\n",
        "    print(\"Hello World!\")\n",
        "\n",
        "greet()\n",
        "print(greet)"
      ]
    },
    {
      "cell_type": "code",
      "execution_count": null,
      "id": "008133b3",
      "metadata": {
        "id": "008133b3",
        "outputId": "ce154749-4041-4acd-dc30-3f9178e4ab48"
      },
      "outputs": [
        {
          "name": "stdout",
          "output_type": "stream",
          "text": [
            "Hello Rohit!\n",
            "Hello Aakash!\n",
            "Hello Yash!\n"
          ]
        }
      ],
      "source": [
        "# functions with parameters\n",
        "\n",
        "def greet(name):\n",
        "    print(f'Hello {name}!')\n",
        "\n",
        "greet('Rohit')        # calling function with arguments\n",
        "greet('Aakash')\n",
        "greet('Yash')"
      ]
    },
    {
      "cell_type": "code",
      "execution_count": null,
      "id": "943c25ef",
      "metadata": {
        "id": "943c25ef",
        "outputId": "ac6d40db-8770-40d4-ebea-50d0418821d8"
      },
      "outputs": [
        {
          "name": "stdout",
          "output_type": "stream",
          "text": [
            "executable code after return\n",
            "34\n"
          ]
        }
      ],
      "source": [
        "# function with return values\n",
        "\n",
        "def sum(a, b):\n",
        "    print(\"executable code after return\")\n",
        "    return a + b\n",
        "    print(\"non executable code after return\") # this line won't run if return statement is executed\n",
        "\n",
        "print(sum(10, 24))  # prints the return value of sum()"
      ]
    },
    {
      "cell_type": "code",
      "execution_count": null,
      "id": "c0305be8",
      "metadata": {
        "id": "c0305be8",
        "outputId": "2c6cc28e-f75c-45fa-c922-a778695ad101"
      },
      "outputs": [
        {
          "name": "stdout",
          "output_type": "stream",
          "text": [
            "True\n",
            "123\n"
          ]
        }
      ],
      "source": [
        "# use and modification of global variables in a function\n",
        "\n",
        "a = 0\n",
        "\n",
        "def set_value_of_a(value):\n",
        "    global a\n",
        "    a = value\n",
        "    return True\n",
        "\n",
        "print(set_value_of_a(123))\n",
        "print(a)"
      ]
    },
    {
      "cell_type": "code",
      "execution_count": null,
      "id": "2e44ca05",
      "metadata": {
        "id": "2e44ca05",
        "outputId": "e30a71d6-e98e-4d0d-868c-9c4e18afa939"
      },
      "outputs": [
        {
          "name": "stdout",
          "output_type": "stream",
          "text": [
            "45 x 1 = 45\n",
            "45 x 2 = 90\n",
            "45 x 3 = 135\n",
            "45 x 4 = 180\n",
            "45 x 5 = 225\n",
            "45 x 6 = 270\n",
            "45 x 7 = 315\n",
            "45 x 8 = 360\n",
            "45 x 9 = 405\n",
            "45 x 10 = 450\n"
          ]
        }
      ],
      "source": [
        "# write a function to print a table of any number\n",
        "\n",
        "def print_table(num):\n",
        "    for i in range(1, 11):\n",
        "        print(f\"{num} x {i} = {num * i}\")\n",
        "\n",
        "print_table(45)"
      ]
    },
    {
      "cell_type": "code",
      "execution_count": null,
      "id": "5d3d5d4b",
      "metadata": {
        "id": "5d3d5d4b"
      },
      "outputs": [],
      "source": [
        "# a recursive function is a function which calls itself.\n",
        "\n",
        "i = 0\n",
        "def recur():\n",
        "    global i\n",
        "    print(i)\n",
        "    i += 1\n",
        "    recur()"
      ]
    },
    {
      "cell_type": "code",
      "execution_count": null,
      "id": "09f6eca4",
      "metadata": {
        "id": "09f6eca4",
        "outputId": "2e999915-589f-4f2d-d21c-16333fff81b8"
      },
      "outputs": [
        {
          "name": "stdout",
          "output_type": "stream",
          "text": [
            "0\n",
            "1\n",
            "2\n",
            "3\n",
            "4\n",
            "5\n",
            "6\n",
            "7\n",
            "8\n",
            "9\n",
            "10\n",
            "11\n",
            "12\n",
            "13\n",
            "14\n",
            "15\n",
            "16\n",
            "17\n",
            "18\n",
            "19\n",
            "20\n",
            "21\n",
            "22\n",
            "23\n",
            "24\n",
            "25\n",
            "26\n",
            "27\n",
            "28\n",
            "29\n",
            "30\n",
            "31\n",
            "32\n",
            "33\n",
            "34\n",
            "35\n",
            "36\n",
            "37\n",
            "38\n",
            "39\n",
            "40\n",
            "41\n",
            "42\n",
            "43\n",
            "44\n",
            "45\n",
            "46\n",
            "47\n",
            "48\n",
            "49\n",
            "50\n",
            "51\n",
            "52\n",
            "53\n",
            "54\n",
            "55\n",
            "56\n",
            "57\n",
            "58\n",
            "59\n",
            "60\n",
            "61\n",
            "62\n",
            "63\n",
            "64\n",
            "65\n",
            "66\n",
            "67\n",
            "68\n",
            "69\n",
            "70\n",
            "71\n",
            "72\n",
            "73\n",
            "74\n",
            "75\n",
            "76\n",
            "77\n",
            "78\n",
            "79\n",
            "80\n",
            "81\n",
            "82\n",
            "83\n",
            "84\n",
            "85\n",
            "86\n",
            "87\n",
            "88\n",
            "89\n",
            "90\n",
            "91\n",
            "92\n",
            "93\n",
            "94\n",
            "95\n",
            "96\n",
            "97\n",
            "98\n",
            "99\n",
            "100\n",
            "101\n",
            "102\n",
            "103\n",
            "104\n",
            "105\n",
            "106\n",
            "107\n",
            "108\n",
            "109\n",
            "110\n",
            "111\n",
            "112\n",
            "113\n",
            "114\n",
            "115\n",
            "116\n",
            "117\n",
            "118\n",
            "119\n",
            "120\n",
            "121\n",
            "122\n",
            "123\n",
            "124\n",
            "125\n",
            "126\n",
            "127\n",
            "128\n",
            "129\n",
            "130\n",
            "131\n",
            "132\n",
            "133\n",
            "134\n",
            "135\n",
            "136\n",
            "137\n",
            "138\n",
            "139\n",
            "140\n",
            "141\n",
            "142\n",
            "143\n",
            "144\n",
            "145\n",
            "146\n",
            "147\n",
            "148\n",
            "149\n",
            "150\n",
            "151\n",
            "152\n",
            "153\n",
            "154\n",
            "155\n",
            "156\n",
            "157\n",
            "158\n",
            "159\n",
            "160\n",
            "161\n",
            "162\n",
            "163\n",
            "164\n",
            "165\n",
            "166\n",
            "167\n",
            "168\n",
            "169\n",
            "170\n",
            "171\n",
            "172\n",
            "173\n",
            "174\n",
            "175\n",
            "176\n",
            "177\n",
            "178\n",
            "179\n",
            "180\n",
            "181\n",
            "182\n",
            "183\n",
            "184\n",
            "185\n",
            "186\n",
            "187\n",
            "188\n",
            "189\n",
            "190\n",
            "191\n",
            "192\n",
            "193\n",
            "194\n",
            "195\n",
            "196\n",
            "197\n",
            "198\n",
            "199\n",
            "200\n",
            "201\n",
            "202\n",
            "203\n",
            "204\n",
            "205\n",
            "206\n",
            "207\n",
            "208\n",
            "209\n",
            "210\n",
            "211\n",
            "212\n",
            "213\n",
            "214\n",
            "215\n",
            "216\n",
            "217\n",
            "218\n",
            "219\n",
            "220\n",
            "221\n",
            "222\n",
            "223\n",
            "224\n",
            "225\n",
            "226\n",
            "227\n",
            "228\n",
            "229\n",
            "230\n",
            "231\n",
            "232\n",
            "233\n",
            "234\n",
            "235\n",
            "236\n",
            "237\n",
            "238\n",
            "239\n",
            "240\n",
            "241\n",
            "242\n",
            "243\n",
            "244\n",
            "245\n",
            "246\n",
            "247\n",
            "248\n",
            "249\n",
            "250\n",
            "251\n",
            "252\n",
            "253\n",
            "254\n",
            "255\n",
            "256\n",
            "257\n",
            "258\n",
            "259\n",
            "260\n",
            "261\n",
            "262\n",
            "263\n",
            "264\n",
            "265\n",
            "266\n",
            "267\n",
            "268\n",
            "269\n",
            "270\n",
            "271\n",
            "272\n",
            "273\n",
            "274\n",
            "275\n",
            "276\n",
            "277\n",
            "278\n",
            "279\n",
            "280\n",
            "281\n",
            "282\n",
            "283\n",
            "284\n",
            "285\n",
            "286\n",
            "287\n",
            "288\n",
            "289\n",
            "290\n",
            "291\n",
            "292\n",
            "293\n",
            "294\n",
            "295\n",
            "296\n",
            "297\n",
            "298\n",
            "299\n",
            "300\n",
            "301\n",
            "302\n",
            "303\n",
            "304\n",
            "305\n",
            "306\n",
            "307\n",
            "308\n",
            "309\n",
            "310\n",
            "311\n",
            "312\n",
            "313\n",
            "314\n",
            "315\n",
            "316\n",
            "317\n",
            "318\n",
            "319\n",
            "320\n",
            "321\n",
            "322\n",
            "323\n",
            "324\n",
            "325\n",
            "326\n",
            "327\n",
            "328\n",
            "329\n",
            "330\n",
            "331\n",
            "332\n",
            "333\n",
            "334\n",
            "335\n",
            "336\n",
            "337\n",
            "338\n",
            "339\n",
            "340\n",
            "341\n",
            "342\n",
            "343\n",
            "344\n",
            "345\n",
            "346\n",
            "347\n",
            "348\n",
            "349\n",
            "350\n",
            "351\n",
            "352\n",
            "353\n",
            "354\n",
            "355\n",
            "356\n",
            "357\n",
            "358\n",
            "359\n",
            "360\n",
            "361\n",
            "362\n",
            "363\n",
            "364\n",
            "365\n",
            "366\n",
            "367\n",
            "368\n",
            "369\n",
            "370\n",
            "371\n",
            "372\n",
            "373\n",
            "374\n",
            "375\n",
            "376\n",
            "377\n",
            "378\n",
            "379\n",
            "380\n",
            "381\n",
            "382\n",
            "383\n",
            "384\n",
            "385\n",
            "386\n",
            "387\n",
            "388\n",
            "389\n",
            "390\n",
            "391\n",
            "392\n",
            "393\n",
            "394\n",
            "395\n",
            "396\n",
            "397\n",
            "398\n",
            "399\n",
            "400\n",
            "401\n",
            "402\n",
            "403\n",
            "404\n",
            "405\n",
            "406\n",
            "407\n",
            "408\n",
            "409\n",
            "410\n",
            "411\n",
            "412\n",
            "413\n",
            "414\n",
            "415\n",
            "416\n",
            "417\n",
            "418\n",
            "419\n",
            "420\n",
            "421\n",
            "422\n",
            "423\n",
            "424\n",
            "425\n",
            "426\n",
            "427\n",
            "428\n",
            "429\n",
            "430\n",
            "431\n",
            "432\n",
            "433\n",
            "434\n",
            "435\n",
            "436\n",
            "437\n",
            "438\n",
            "439\n",
            "440\n",
            "441\n",
            "442\n",
            "443\n",
            "444\n",
            "445\n",
            "446\n",
            "447\n",
            "448\n",
            "449\n",
            "450\n",
            "451\n",
            "452\n",
            "453\n",
            "454\n",
            "455\n",
            "456\n",
            "457\n",
            "458\n",
            "459\n",
            "460\n",
            "461\n",
            "462\n",
            "463\n",
            "464\n",
            "465\n",
            "466\n",
            "467\n",
            "468\n",
            "469\n",
            "470\n",
            "471\n",
            "472\n",
            "473\n",
            "474\n",
            "475\n",
            "476\n",
            "477\n",
            "478\n",
            "479\n",
            "480\n",
            "481\n",
            "482\n",
            "483\n",
            "484\n",
            "485\n",
            "486\n",
            "487\n",
            "488\n",
            "489\n",
            "490\n",
            "491\n",
            "492\n",
            "493\n",
            "494\n",
            "495\n",
            "496\n",
            "497\n",
            "498\n",
            "499\n",
            "500\n",
            "501\n",
            "502\n",
            "503\n",
            "504\n",
            "505\n",
            "506\n",
            "507\n",
            "508\n",
            "509\n",
            "510\n",
            "511\n",
            "512\n",
            "513\n",
            "514\n",
            "515\n",
            "516\n",
            "517\n",
            "518\n",
            "519\n",
            "520\n",
            "521\n",
            "522\n",
            "523\n",
            "524\n",
            "525\n",
            "526\n",
            "527\n",
            "528\n",
            "529\n",
            "530\n",
            "531\n",
            "532\n",
            "533\n",
            "534\n",
            "535\n",
            "536\n",
            "537\n",
            "538\n",
            "539\n",
            "540\n",
            "541\n",
            "542\n",
            "543\n",
            "544\n",
            "545\n",
            "546\n",
            "547\n",
            "548\n",
            "549\n",
            "550\n",
            "551\n",
            "552\n",
            "553\n",
            "554\n",
            "555\n",
            "556\n",
            "557\n",
            "558\n",
            "559\n",
            "560\n",
            "561\n",
            "562\n",
            "563\n",
            "564\n",
            "565\n",
            "566\n",
            "567\n",
            "568\n",
            "569\n",
            "570\n",
            "571\n",
            "572\n",
            "573\n",
            "574\n",
            "575\n",
            "576\n",
            "577\n",
            "578\n",
            "579\n",
            "580\n",
            "581\n",
            "582\n",
            "583\n",
            "584\n",
            "585\n",
            "586\n",
            "587\n",
            "588\n",
            "589\n",
            "590\n",
            "591\n",
            "592\n",
            "593\n",
            "594\n",
            "595\n",
            "596\n",
            "597\n",
            "598\n",
            "599\n",
            "600\n",
            "601\n",
            "602\n",
            "603\n",
            "604\n",
            "605\n",
            "606\n",
            "607\n",
            "608\n",
            "609\n",
            "610\n",
            "611\n",
            "612\n",
            "613\n",
            "614\n",
            "615\n",
            "616\n",
            "617\n",
            "618\n",
            "619\n",
            "620\n",
            "621\n",
            "622\n",
            "623\n",
            "624\n",
            "625\n",
            "626\n",
            "627\n",
            "628\n",
            "629\n",
            "630\n",
            "631\n",
            "632\n",
            "633\n",
            "634\n",
            "635\n",
            "636\n",
            "637\n",
            "638\n",
            "639\n",
            "640\n",
            "641\n",
            "642\n",
            "643\n",
            "644\n",
            "645\n",
            "646\n",
            "647\n",
            "648\n",
            "649\n",
            "650\n",
            "651\n",
            "652\n",
            "653\n",
            "654\n",
            "655\n",
            "656\n",
            "657\n",
            "658\n",
            "659\n",
            "660\n",
            "661\n",
            "662\n",
            "663\n",
            "664\n",
            "665\n",
            "666\n",
            "667\n",
            "668\n",
            "669\n",
            "670\n",
            "671\n",
            "672\n",
            "673\n",
            "674\n",
            "675\n",
            "676\n",
            "677\n",
            "678\n",
            "679\n",
            "680\n",
            "681\n",
            "682\n",
            "683\n",
            "684\n",
            "685\n",
            "686\n",
            "687\n",
            "688\n",
            "689\n",
            "690\n",
            "691\n",
            "692\n",
            "693\n",
            "694\n",
            "695\n",
            "696\n",
            "697\n",
            "698\n",
            "699\n",
            "700\n",
            "701\n",
            "702\n",
            "703\n",
            "704\n",
            "705\n",
            "706\n",
            "707\n",
            "708\n",
            "709\n",
            "710\n",
            "711\n",
            "712\n",
            "713\n",
            "714\n",
            "715\n",
            "716\n",
            "717\n",
            "718\n",
            "719\n",
            "720\n",
            "721\n",
            "722\n",
            "723\n",
            "724\n",
            "725\n",
            "726\n",
            "727\n",
            "728\n",
            "729\n",
            "730\n",
            "731\n",
            "732\n",
            "733\n",
            "734\n",
            "735\n",
            "736\n",
            "737\n",
            "738\n",
            "739\n",
            "740\n",
            "741\n",
            "742\n",
            "743\n",
            "744\n",
            "745\n",
            "746\n",
            "747\n",
            "748\n",
            "749\n",
            "750\n",
            "751\n",
            "752\n",
            "753\n",
            "754\n",
            "755\n",
            "756\n",
            "757\n",
            "758\n",
            "759\n",
            "760\n",
            "761\n",
            "762\n",
            "763\n",
            "764\n",
            "765\n",
            "766\n",
            "767\n",
            "768\n",
            "769\n",
            "770\n",
            "771\n",
            "772\n",
            "773\n",
            "774\n",
            "775\n",
            "776\n",
            "777\n",
            "778\n",
            "779\n",
            "780\n",
            "781\n",
            "782\n",
            "783\n",
            "784\n",
            "785\n",
            "786\n",
            "787\n",
            "788\n",
            "789\n",
            "790\n",
            "791\n",
            "792\n",
            "793\n",
            "794\n",
            "795\n",
            "796\n",
            "797\n",
            "798\n",
            "799\n",
            "800\n",
            "801\n",
            "802\n",
            "803\n",
            "804\n",
            "805\n",
            "806\n",
            "807\n",
            "808\n",
            "809\n",
            "810\n",
            "811\n",
            "812\n",
            "813\n",
            "814\n",
            "815\n",
            "816\n",
            "817\n",
            "818\n",
            "819\n",
            "820\n",
            "821\n",
            "822\n",
            "823\n",
            "824\n",
            "825\n",
            "826\n",
            "827\n",
            "828\n",
            "829\n",
            "830\n",
            "831\n",
            "832\n",
            "833\n",
            "834\n",
            "835\n",
            "836\n",
            "837\n",
            "838\n",
            "839\n",
            "840\n",
            "841\n",
            "842\n",
            "843\n",
            "844\n",
            "845\n",
            "846\n",
            "847\n",
            "848\n",
            "849\n",
            "850\n",
            "851\n",
            "852\n",
            "853\n",
            "854\n",
            "855\n",
            "856\n",
            "857\n",
            "858\n",
            "859\n",
            "860\n",
            "861\n",
            "862\n",
            "863\n",
            "864\n",
            "865\n",
            "866\n",
            "867\n",
            "868\n",
            "869\n",
            "870\n",
            "871\n",
            "872\n",
            "873\n",
            "874\n",
            "875\n",
            "876\n",
            "877\n",
            "878\n",
            "879\n",
            "880\n",
            "881\n",
            "882\n",
            "883\n",
            "884\n",
            "885\n",
            "886\n",
            "887\n",
            "888\n",
            "889\n",
            "890\n",
            "891\n",
            "892\n",
            "893\n",
            "894\n",
            "895\n",
            "896\n",
            "897\n",
            "898\n",
            "899\n",
            "900\n",
            "901\n",
            "902\n",
            "903\n",
            "904\n",
            "905\n",
            "906\n",
            "907\n",
            "908\n",
            "909\n",
            "910\n",
            "911\n",
            "912\n",
            "913\n",
            "914\n",
            "915\n",
            "916\n",
            "917\n",
            "918\n",
            "919\n",
            "920\n",
            "921\n",
            "922\n",
            "923\n",
            "924\n",
            "925\n",
            "926\n",
            "927\n",
            "928\n",
            "929\n",
            "930\n",
            "931\n",
            "932\n",
            "933\n",
            "934\n",
            "935\n",
            "936\n",
            "937\n",
            "938\n",
            "939\n",
            "940\n",
            "941\n",
            "942\n",
            "943\n",
            "944\n",
            "945\n",
            "946\n",
            "947\n",
            "948\n",
            "949\n",
            "950\n",
            "951\n",
            "952\n",
            "953\n",
            "954\n",
            "955\n",
            "956\n",
            "957\n",
            "958\n",
            "959\n",
            "960\n",
            "961\n",
            "962\n",
            "963\n",
            "964\n",
            "965\n",
            "966\n",
            "967\n",
            "968\n",
            "969\n",
            "970\n",
            "971\n",
            "972\n",
            "973\n",
            "974\n",
            "975\n",
            "976\n",
            "977\n",
            "978\n",
            "979\n",
            "980\n",
            "981\n",
            "982\n",
            "983\n",
            "984\n",
            "985\n",
            "986\n",
            "987\n",
            "988\n",
            "989\n",
            "990\n",
            "991\n",
            "992\n",
            "993\n",
            "994\n",
            "995\n",
            "996\n",
            "997\n",
            "998\n",
            "999\n",
            "1000\n",
            "1001\n",
            "1002\n",
            "1003\n",
            "1004\n",
            "1005\n",
            "1006\n",
            "1007\n",
            "1008\n",
            "1009\n",
            "1010\n",
            "1011\n",
            "1012\n",
            "1013\n",
            "1014\n",
            "1015\n",
            "1016\n",
            "1017\n",
            "1018\n",
            "1019\n",
            "1020\n",
            "1021\n",
            "1022\n",
            "1023\n",
            "1024\n",
            "1025\n",
            "1026\n",
            "1027\n",
            "1028\n",
            "1029\n",
            "1030\n",
            "1031\n",
            "1032\n",
            "1033\n",
            "1034\n",
            "1035\n",
            "1036\n",
            "1037\n",
            "1038\n",
            "1039\n",
            "1040\n",
            "1041\n",
            "1042\n",
            "1043\n",
            "1044\n",
            "1045\n",
            "1046\n",
            "1047\n",
            "1048\n",
            "1049\n",
            "1050\n",
            "1051\n",
            "1052\n",
            "1053\n",
            "1054\n",
            "1055\n",
            "1056\n",
            "1057\n",
            "1058\n",
            "1059\n",
            "1060\n",
            "1061\n",
            "1062\n",
            "1063\n",
            "1064\n",
            "1065\n",
            "1066\n",
            "1067\n",
            "1068\n",
            "1069\n",
            "1070\n",
            "1071\n",
            "1072\n",
            "1073\n",
            "1074\n",
            "1075\n",
            "1076\n",
            "1077\n",
            "1078\n",
            "1079\n",
            "1080\n",
            "1081\n",
            "1082\n",
            "1083\n",
            "1084\n",
            "1085\n",
            "1086\n",
            "1087\n",
            "1088\n",
            "1089\n",
            "1090\n",
            "1091\n",
            "1092\n",
            "1093\n",
            "1094\n",
            "1095\n",
            "1096\n",
            "1097\n",
            "1098\n",
            "1099\n",
            "1100\n",
            "1101\n",
            "1102\n",
            "1103\n",
            "1104\n",
            "1105\n",
            "1106\n",
            "1107\n",
            "1108\n",
            "1109\n",
            "1110\n",
            "1111\n",
            "1112\n",
            "1113\n",
            "1114\n",
            "1115\n",
            "1116\n",
            "1117\n",
            "1118\n",
            "1119\n",
            "1120\n",
            "1121\n",
            "1122\n",
            "1123\n",
            "1124\n",
            "1125\n",
            "1126\n",
            "1127\n",
            "1128\n",
            "1129\n",
            "1130\n",
            "1131\n",
            "1132\n",
            "1133\n",
            "1134\n",
            "1135\n",
            "1136\n",
            "1137\n",
            "1138\n",
            "1139\n",
            "1140\n",
            "1141\n",
            "1142\n",
            "1143\n",
            "1144\n",
            "1145\n",
            "1146\n",
            "1147\n",
            "1148\n",
            "1149\n",
            "1150\n",
            "1151\n",
            "1152\n",
            "1153\n",
            "1154\n",
            "1155\n",
            "1156\n",
            "1157\n",
            "1158\n",
            "1159\n",
            "1160\n",
            "1161\n",
            "1162\n",
            "1163\n",
            "1164\n",
            "1165\n",
            "1166\n",
            "1167\n",
            "1168\n",
            "1169\n",
            "1170\n",
            "1171\n",
            "1172\n",
            "1173\n",
            "1174\n",
            "1175\n",
            "1176\n",
            "1177\n",
            "1178\n",
            "1179\n",
            "1180\n",
            "1181\n",
            "1182\n",
            "1183\n",
            "1184\n",
            "1185\n",
            "1186\n",
            "1187\n",
            "1188\n",
            "1189\n",
            "1190\n",
            "1191\n",
            "1192\n",
            "1193\n",
            "1194\n",
            "1195\n",
            "1196\n",
            "1197\n",
            "1198\n",
            "1199\n",
            "1200\n",
            "1201\n",
            "1202\n",
            "1203\n",
            "1204\n",
            "1205\n",
            "1206\n",
            "1207\n",
            "1208\n",
            "1209\n",
            "1210\n",
            "1211\n",
            "1212\n",
            "1213\n",
            "1214\n",
            "1215\n",
            "1216\n",
            "1217\n",
            "1218\n",
            "1219\n",
            "1220\n",
            "1221\n",
            "1222\n",
            "1223\n",
            "1224\n",
            "1225\n",
            "1226\n",
            "1227\n",
            "1228\n",
            "1229\n",
            "1230\n",
            "1231\n",
            "1232\n",
            "1233\n",
            "1234\n",
            "1235\n",
            "1236\n",
            "1237\n",
            "1238\n",
            "1239\n",
            "1240\n",
            "1241\n",
            "1242\n",
            "1243\n",
            "1244\n",
            "1245\n",
            "1246\n",
            "1247\n",
            "1248\n",
            "1249\n",
            "1250\n",
            "1251\n",
            "1252\n",
            "1253\n",
            "1254\n",
            "1255\n",
            "1256\n",
            "1257\n",
            "1258\n",
            "1259\n",
            "1260\n",
            "1261\n",
            "1262\n",
            "1263\n",
            "1264\n",
            "1265\n",
            "1266\n",
            "1267\n",
            "1268\n",
            "1269\n",
            "1270\n",
            "1271\n",
            "1272\n",
            "1273\n",
            "1274\n",
            "1275\n",
            "1276\n",
            "1277\n",
            "1278\n",
            "1279\n",
            "1280\n",
            "1281\n",
            "1282\n",
            "1283\n",
            "1284\n",
            "1285\n",
            "1286\n",
            "1287\n",
            "1288\n",
            "1289\n",
            "1290\n",
            "1291\n",
            "1292\n",
            "1293\n",
            "1294\n",
            "1295\n",
            "1296\n",
            "1297\n",
            "1298\n",
            "1299\n",
            "1300\n",
            "1301\n",
            "1302\n",
            "1303\n",
            "1304\n",
            "1305\n",
            "1306\n",
            "1307\n",
            "1308\n",
            "1309\n",
            "1310\n",
            "1311\n",
            "1312\n",
            "1313\n",
            "1314\n",
            "1315\n",
            "1316\n",
            "1317\n",
            "1318\n",
            "1319\n",
            "1320\n",
            "1321\n",
            "1322\n",
            "1323\n",
            "1324\n",
            "1325\n",
            "1326\n",
            "1327\n",
            "1328\n",
            "1329\n",
            "1330\n",
            "1331\n",
            "1332\n",
            "1333\n",
            "1334\n",
            "1335\n",
            "1336\n",
            "1337\n",
            "1338\n",
            "1339\n",
            "1340\n",
            "1341\n",
            "1342\n",
            "1343\n",
            "1344\n",
            "1345\n",
            "1346\n",
            "1347\n",
            "1348\n",
            "1349\n",
            "1350\n",
            "1351\n",
            "1352\n",
            "1353\n",
            "1354\n",
            "1355\n",
            "1356\n",
            "1357\n",
            "1358\n",
            "1359\n",
            "1360\n",
            "1361\n",
            "1362\n",
            "1363\n",
            "1364\n",
            "1365\n",
            "1366\n",
            "1367\n",
            "1368\n",
            "1369\n",
            "1370\n",
            "1371\n",
            "1372\n",
            "1373\n",
            "1374\n",
            "1375\n",
            "1376\n",
            "1377\n",
            "1378\n",
            "1379\n",
            "1380\n",
            "1381\n",
            "1382\n",
            "1383\n",
            "1384\n",
            "1385\n",
            "1386\n",
            "1387\n",
            "1388\n",
            "1389\n",
            "1390\n",
            "1391\n",
            "1392\n",
            "1393\n",
            "1394\n",
            "1395\n",
            "1396\n",
            "1397\n",
            "1398\n",
            "1399\n",
            "1400\n",
            "1401\n",
            "1402\n",
            "1403\n",
            "1404\n",
            "1405\n",
            "1406\n",
            "1407\n",
            "1408\n",
            "1409\n",
            "1410\n",
            "1411\n",
            "1412\n",
            "1413\n",
            "1414\n",
            "1415\n",
            "1416\n",
            "1417\n",
            "1418\n",
            "1419\n",
            "1420\n",
            "1421\n",
            "1422\n",
            "1423\n",
            "1424\n",
            "1425\n",
            "1426\n",
            "1427\n",
            "1428\n",
            "1429\n",
            "1430\n",
            "1431\n",
            "1432\n",
            "1433\n",
            "1434\n",
            "1435\n",
            "1436\n",
            "1437\n",
            "1438\n",
            "1439\n",
            "1440\n",
            "1441\n",
            "1442\n",
            "1443\n",
            "1444\n",
            "1445\n",
            "1446\n",
            "1447\n",
            "1448\n",
            "1449\n",
            "1450\n",
            "1451\n",
            "1452\n",
            "1453\n",
            "1454\n",
            "1455\n",
            "1456\n",
            "1457\n",
            "1458\n",
            "1459\n",
            "1460\n",
            "1461\n",
            "1462\n",
            "1463\n",
            "1464\n",
            "1465\n",
            "1466\n",
            "1467\n",
            "1468\n",
            "1469\n",
            "1470\n",
            "1471\n",
            "1472\n",
            "1473\n",
            "1474\n",
            "1475\n",
            "1476\n",
            "1477\n",
            "1478\n",
            "1479\n",
            "1480\n",
            "1481\n",
            "1482\n",
            "1483\n",
            "1484\n",
            "1485\n",
            "1486\n",
            "1487\n",
            "1488\n",
            "1489\n",
            "1490\n",
            "1491\n",
            "1492\n",
            "1493\n",
            "1494\n",
            "1495\n",
            "1496\n",
            "1497\n",
            "1498\n",
            "1499\n",
            "1500\n",
            "1501\n",
            "1502\n",
            "1503\n",
            "1504\n",
            "1505\n",
            "1506\n",
            "1507\n",
            "1508\n",
            "1509\n",
            "1510\n",
            "1511\n",
            "1512\n",
            "1513\n",
            "1514\n",
            "1515\n",
            "1516\n",
            "1517\n",
            "1518\n",
            "1519\n",
            "1520\n",
            "1521\n",
            "1522\n",
            "1523\n",
            "1524\n",
            "1525\n",
            "1526\n",
            "1527\n",
            "1528\n",
            "1529\n",
            "1530\n",
            "1531\n",
            "1532\n",
            "1533\n",
            "1534\n",
            "1535\n",
            "1536\n",
            "1537\n",
            "1538\n",
            "1539\n",
            "1540\n",
            "1541\n",
            "1542\n",
            "1543\n",
            "1544\n",
            "1545\n",
            "1546\n",
            "1547\n",
            "1548\n",
            "1549\n",
            "1550\n",
            "1551\n",
            "1552\n",
            "1553\n",
            "1554\n",
            "1555\n",
            "1556\n",
            "1557\n",
            "1558\n",
            "1559\n",
            "1560\n",
            "1561\n",
            "1562\n",
            "1563\n",
            "1564\n",
            "1565\n",
            "1566\n",
            "1567\n",
            "1568\n",
            "1569\n",
            "1570\n",
            "1571\n",
            "1572\n",
            "1573\n",
            "1574\n",
            "1575\n",
            "1576\n",
            "1577\n",
            "1578\n",
            "1579\n",
            "1580\n",
            "1581\n",
            "1582\n",
            "1583\n",
            "1584\n",
            "1585\n",
            "1586\n",
            "1587\n",
            "1588\n",
            "1589\n",
            "1590\n",
            "1591\n",
            "1592\n",
            "1593\n",
            "1594\n",
            "1595\n",
            "1596\n",
            "1597\n",
            "1598\n",
            "1599\n",
            "1600\n",
            "1601\n",
            "1602\n",
            "1603\n",
            "1604\n",
            "1605\n",
            "1606\n",
            "1607\n",
            "1608\n",
            "1609\n",
            "1610\n",
            "1611\n",
            "1612\n",
            "1613\n",
            "1614\n",
            "1615\n",
            "1616\n",
            "1617\n",
            "1618\n",
            "1619\n",
            "1620\n",
            "1621\n",
            "1622\n",
            "1623\n",
            "1624\n",
            "1625\n",
            "1626\n",
            "1627\n",
            "1628\n",
            "1629\n",
            "1630\n",
            "1631\n",
            "1632\n",
            "1633\n",
            "1634\n",
            "1635\n",
            "1636\n",
            "1637\n",
            "1638\n",
            "1639\n",
            "1640\n",
            "1641\n",
            "1642\n",
            "1643\n",
            "1644\n",
            "1645\n",
            "1646\n",
            "1647\n",
            "1648\n",
            "1649\n",
            "1650\n",
            "1651\n",
            "1652\n",
            "1653\n",
            "1654\n",
            "1655\n",
            "1656\n",
            "1657\n",
            "1658\n",
            "1659\n",
            "1660\n",
            "1661\n",
            "1662\n",
            "1663\n",
            "1664\n",
            "1665\n",
            "1666\n",
            "1667\n",
            "1668\n",
            "1669\n",
            "1670\n",
            "1671\n",
            "1672\n",
            "1673\n",
            "1674\n",
            "1675\n",
            "1676\n",
            "1677\n",
            "1678\n",
            "1679\n",
            "1680\n",
            "1681\n",
            "1682\n",
            "1683\n",
            "1684\n",
            "1685\n",
            "1686\n",
            "1687\n",
            "1688\n",
            "1689\n",
            "1690\n",
            "1691\n",
            "1692\n",
            "1693\n",
            "1694\n",
            "1695\n",
            "1696\n",
            "1697\n",
            "1698\n",
            "1699\n",
            "1700\n",
            "1701\n",
            "1702\n",
            "1703\n",
            "1704\n",
            "1705\n",
            "1706\n",
            "1707\n",
            "1708\n",
            "1709\n",
            "1710\n",
            "1711\n",
            "1712\n",
            "1713\n",
            "1714\n",
            "1715\n",
            "1716\n",
            "1717\n",
            "1718\n",
            "1719\n",
            "1720\n",
            "1721\n",
            "1722\n",
            "1723\n",
            "1724\n",
            "1725\n",
            "1726\n",
            "1727\n",
            "1728\n",
            "1729\n",
            "1730\n",
            "1731\n",
            "1732\n",
            "1733\n",
            "1734\n",
            "1735\n",
            "1736\n",
            "1737\n",
            "1738\n",
            "1739\n",
            "1740\n",
            "1741\n",
            "1742\n",
            "1743\n",
            "1744\n",
            "1745\n",
            "1746\n",
            "1747\n",
            "1748\n",
            "1749\n",
            "1750\n",
            "1751\n",
            "1752\n",
            "1753\n",
            "1754\n",
            "1755\n",
            "1756\n",
            "1757\n",
            "1758\n",
            "1759\n",
            "1760\n",
            "1761\n",
            "1762\n",
            "1763\n",
            "1764\n",
            "1765\n",
            "1766\n",
            "1767\n",
            "1768\n",
            "1769\n",
            "1770\n",
            "1771\n",
            "1772\n",
            "1773\n",
            "1774\n",
            "1775\n",
            "1776\n",
            "1777\n",
            "1778\n",
            "1779\n",
            "1780\n",
            "1781\n",
            "1782\n",
            "1783\n",
            "1784\n",
            "1785\n",
            "1786\n",
            "1787\n",
            "1788\n",
            "1789\n",
            "1790\n",
            "1791\n",
            "1792\n",
            "1793\n",
            "1794\n",
            "1795\n",
            "1796\n",
            "1797\n",
            "1798\n",
            "1799\n",
            "1800\n",
            "1801\n",
            "1802\n",
            "1803\n",
            "1804\n",
            "1805\n",
            "1806\n",
            "1807\n",
            "1808\n",
            "1809\n",
            "1810\n",
            "1811\n",
            "1812\n",
            "1813\n",
            "1814\n",
            "1815\n",
            "1816\n",
            "1817\n",
            "1818\n",
            "1819\n",
            "1820\n",
            "1821\n",
            "1822\n",
            "1823\n",
            "1824\n",
            "1825\n",
            "1826\n",
            "1827\n",
            "1828\n",
            "1829\n",
            "1830\n",
            "1831\n",
            "1832\n",
            "1833\n",
            "1834\n",
            "1835\n",
            "1836\n",
            "1837\n",
            "1838\n",
            "1839\n",
            "1840\n",
            "1841\n",
            "1842\n",
            "1843\n",
            "1844\n",
            "1845\n",
            "1846\n",
            "1847\n",
            "1848\n",
            "1849\n",
            "1850\n",
            "1851\n",
            "1852\n",
            "1853\n",
            "1854\n",
            "1855\n",
            "1856\n",
            "1857\n",
            "1858\n",
            "1859\n",
            "1860\n",
            "1861\n",
            "1862\n",
            "1863\n",
            "1864\n",
            "1865\n",
            "1866\n",
            "1867\n",
            "1868\n",
            "1869\n",
            "1870\n",
            "1871\n",
            "1872\n",
            "1873\n",
            "1874\n",
            "1875\n",
            "1876\n",
            "1877\n",
            "1878\n",
            "1879\n",
            "1880\n",
            "1881\n",
            "1882\n",
            "1883\n",
            "1884\n",
            "1885\n",
            "1886\n",
            "1887\n",
            "1888\n",
            "1889\n",
            "1890\n",
            "1891\n",
            "1892\n",
            "1893\n",
            "1894\n",
            "1895\n",
            "1896\n",
            "1897\n",
            "1898\n",
            "1899\n",
            "1900\n",
            "1901\n",
            "1902\n",
            "1903\n",
            "1904\n",
            "1905\n",
            "1906\n",
            "1907\n",
            "1908\n",
            "1909\n",
            "1910\n",
            "1911\n",
            "1912\n",
            "1913\n",
            "1914\n",
            "1915\n",
            "1916\n",
            "1917\n",
            "1918\n",
            "1919\n",
            "1920\n",
            "1921\n",
            "1922\n",
            "1923\n",
            "1924\n",
            "1925\n",
            "1926\n",
            "1927\n",
            "1928\n",
            "1929\n",
            "1930\n",
            "1931\n",
            "1932\n",
            "1933\n",
            "1934\n",
            "1935\n",
            "1936\n",
            "1937\n",
            "1938\n",
            "1939\n",
            "1940\n",
            "1941\n",
            "1942\n",
            "1943\n",
            "1944\n",
            "1945\n",
            "1946\n",
            "1947\n",
            "1948\n",
            "1949\n",
            "1950\n",
            "1951\n",
            "1952\n",
            "1953\n",
            "1954\n",
            "1955\n",
            "1956\n",
            "1957\n",
            "1958\n",
            "1959\n",
            "1960\n",
            "1961\n",
            "1962\n",
            "1963\n",
            "1964\n",
            "1965\n",
            "1966\n",
            "1967\n",
            "1968\n",
            "1969\n",
            "1970\n",
            "1971\n",
            "1972\n",
            "1973\n",
            "1974\n",
            "1975\n",
            "1976\n",
            "1977\n",
            "1978\n",
            "1979\n",
            "1980\n",
            "1981\n",
            "1982\n",
            "1983\n",
            "1984\n",
            "1985\n",
            "1986\n",
            "1987\n",
            "1988\n",
            "1989\n",
            "1990\n",
            "1991\n",
            "1992\n",
            "1993\n",
            "1994\n",
            "1995\n",
            "1996\n",
            "1997\n",
            "1998\n",
            "1999\n",
            "2000\n",
            "2001\n",
            "2002\n",
            "2003\n",
            "2004\n",
            "2005\n",
            "2006\n",
            "2007\n",
            "2008\n",
            "2009\n",
            "2010\n",
            "2011\n",
            "2012\n",
            "2013\n",
            "2014\n",
            "2015\n",
            "2016\n",
            "2017\n",
            "2018\n",
            "2019\n",
            "2020\n",
            "2021\n",
            "2022\n",
            "2023\n",
            "2024\n",
            "2025\n",
            "2026\n",
            "2027\n",
            "2028\n",
            "2029\n",
            "2030\n",
            "2031\n",
            "2032\n",
            "2033\n",
            "2034\n",
            "2035\n",
            "2036\n",
            "2037\n",
            "2038\n",
            "2039\n",
            "2040\n",
            "2041\n",
            "2042\n",
            "2043\n",
            "2044\n",
            "2045\n",
            "2046\n",
            "2047\n",
            "2048\n",
            "2049\n",
            "2050\n",
            "2051\n",
            "2052\n",
            "2053\n",
            "2054\n",
            "2055\n",
            "2056\n",
            "2057\n",
            "2058\n",
            "2059\n",
            "2060\n",
            "2061\n",
            "2062\n",
            "2063\n",
            "2064\n",
            "2065\n",
            "2066\n",
            "2067\n",
            "2068\n",
            "2069\n",
            "2070\n",
            "2071\n",
            "2072\n",
            "2073\n",
            "2074\n",
            "2075\n",
            "2076\n",
            "2077\n",
            "2078\n",
            "2079\n",
            "2080\n",
            "2081\n",
            "2082\n",
            "2083\n",
            "2084\n",
            "2085\n",
            "2086\n",
            "2087\n",
            "2088\n",
            "2089\n",
            "2090\n",
            "2091\n",
            "2092\n",
            "2093\n",
            "2094\n",
            "2095\n",
            "2096\n",
            "2097\n",
            "2098\n",
            "2099\n",
            "2100\n",
            "2101\n",
            "2102\n",
            "2103\n",
            "2104\n",
            "2105\n",
            "2106\n",
            "2107\n",
            "2108\n",
            "2109\n",
            "2110\n",
            "2111\n",
            "2112\n",
            "2113\n",
            "2114\n",
            "2115\n",
            "2116\n",
            "2117\n",
            "2118\n",
            "2119\n",
            "2120\n",
            "2121\n",
            "2122\n",
            "2123\n",
            "2124\n",
            "2125\n",
            "2126\n",
            "2127\n",
            "2128\n",
            "2129\n",
            "2130\n",
            "2131\n",
            "2132\n",
            "2133\n",
            "2134\n",
            "2135\n",
            "2136\n",
            "2137\n",
            "2138\n",
            "2139\n",
            "2140\n",
            "2141\n",
            "2142\n",
            "2143\n",
            "2144\n",
            "2145\n",
            "2146\n",
            "2147\n",
            "2148\n",
            "2149\n",
            "2150\n",
            "2151\n",
            "2152\n",
            "2153\n",
            "2154\n",
            "2155\n",
            "2156\n",
            "2157\n",
            "2158\n",
            "2159\n",
            "2160\n",
            "2161\n",
            "2162\n",
            "2163\n",
            "2164\n",
            "2165\n",
            "2166\n",
            "2167\n",
            "2168\n",
            "2169\n",
            "2170\n",
            "2171\n",
            "2172\n",
            "2173\n",
            "2174\n",
            "2175\n",
            "2176\n",
            "2177\n",
            "2178\n",
            "2179\n",
            "2180\n",
            "2181\n",
            "2182\n",
            "2183\n",
            "2184\n",
            "2185\n",
            "2186\n",
            "2187\n",
            "2188\n",
            "2189\n",
            "2190\n",
            "2191\n",
            "2192\n",
            "2193\n",
            "2194\n",
            "2195\n",
            "2196\n",
            "2197\n",
            "2198\n",
            "2199\n",
            "2200\n",
            "2201\n",
            "2202\n",
            "2203\n",
            "2204\n",
            "2205\n",
            "2206\n",
            "2207\n",
            "2208\n",
            "2209\n",
            "2210\n",
            "2211\n",
            "2212\n",
            "2213\n",
            "2214\n",
            "2215\n",
            "2216\n",
            "2217\n",
            "2218\n",
            "2219\n",
            "2220\n",
            "2221\n",
            "2222\n",
            "2223\n",
            "2224\n",
            "2225\n",
            "2226\n",
            "2227\n",
            "2228\n",
            "2229\n",
            "2230\n",
            "2231\n",
            "2232\n",
            "2233\n",
            "2234\n",
            "2235\n",
            "2236\n",
            "2237\n",
            "2238\n",
            "2239\n",
            "2240\n",
            "2241\n",
            "2242\n",
            "2243\n",
            "2244\n",
            "2245\n",
            "2246\n",
            "2247\n",
            "2248\n",
            "2249\n",
            "2250\n",
            "2251\n",
            "2252\n",
            "2253\n",
            "2254\n",
            "2255\n",
            "2256\n",
            "2257\n",
            "2258\n",
            "2259\n",
            "2260\n",
            "2261\n",
            "2262\n",
            "2263\n",
            "2264\n",
            "2265\n",
            "2266\n",
            "2267\n",
            "2268\n",
            "2269\n",
            "2270\n",
            "2271\n",
            "2272\n",
            "2273\n",
            "2274\n",
            "2275\n",
            "2276\n",
            "2277\n",
            "2278\n",
            "2279\n",
            "2280\n",
            "2281\n",
            "2282\n",
            "2283\n",
            "2284\n",
            "2285\n",
            "2286\n",
            "2287\n",
            "2288\n",
            "2289\n",
            "2290\n",
            "2291\n",
            "2292\n",
            "2293\n",
            "2294\n",
            "2295\n",
            "2296\n",
            "2297\n",
            "2298\n",
            "2299\n",
            "2300\n",
            "2301\n",
            "2302\n",
            "2303\n",
            "2304\n",
            "2305\n",
            "2306\n",
            "2307\n",
            "2308\n",
            "2309\n",
            "2310\n",
            "2311\n",
            "2312\n",
            "2313\n",
            "2314\n",
            "2315\n",
            "2316\n",
            "2317\n",
            "2318\n",
            "2319\n",
            "2320\n",
            "2321\n",
            "2322\n",
            "2323\n",
            "2324\n",
            "2325\n",
            "2326\n",
            "2327\n",
            "2328\n",
            "2329\n",
            "2330\n",
            "2331\n",
            "2332\n",
            "2333\n",
            "2334\n",
            "2335\n",
            "2336\n",
            "2337\n",
            "2338\n",
            "2339\n",
            "2340\n",
            "2341\n",
            "2342\n",
            "2343\n",
            "2344\n",
            "2345\n",
            "2346\n",
            "2347\n",
            "2348\n",
            "2349\n",
            "2350\n",
            "2351\n",
            "2352\n",
            "2353\n",
            "2354\n",
            "2355\n",
            "2356\n",
            "2357\n",
            "2358\n",
            "2359\n",
            "2360\n",
            "2361\n",
            "2362\n",
            "2363\n",
            "2364\n",
            "2365\n",
            "2366\n",
            "2367\n",
            "2368\n",
            "2369\n",
            "2370\n",
            "2371\n",
            "2372\n",
            "2373\n",
            "2374\n",
            "2375\n",
            "2376\n",
            "2377\n",
            "2378\n",
            "2379\n",
            "2380\n",
            "2381\n",
            "2382\n",
            "2383\n",
            "2384\n",
            "2385\n",
            "2386\n",
            "2387\n",
            "2388\n",
            "2389\n",
            "2390\n",
            "2391\n",
            "2392\n",
            "2393\n",
            "2394\n",
            "2395\n",
            "2396\n",
            "2397\n",
            "2398\n",
            "2399\n",
            "2400\n",
            "2401\n",
            "2402\n",
            "2403\n",
            "2404\n",
            "2405\n",
            "2406\n",
            "2407\n",
            "2408\n",
            "2409\n",
            "2410\n",
            "2411\n",
            "2412\n",
            "2413\n",
            "2414\n",
            "2415\n",
            "2416\n",
            "2417\n",
            "2418\n",
            "2419\n",
            "2420\n",
            "2421\n",
            "2422\n",
            "2423\n",
            "2424\n",
            "2425\n",
            "2426\n",
            "2427\n",
            "2428\n",
            "2429\n",
            "2430\n",
            "2431\n",
            "2432\n",
            "2433\n",
            "2434\n",
            "2435\n",
            "2436\n",
            "2437\n",
            "2438\n",
            "2439\n",
            "2440\n",
            "2441\n",
            "2442\n",
            "2443\n",
            "2444\n",
            "2445\n",
            "2446\n",
            "2447\n",
            "2448\n",
            "2449\n",
            "2450\n",
            "2451\n",
            "2452\n",
            "2453\n",
            "2454\n",
            "2455\n",
            "2456\n",
            "2457\n",
            "2458\n",
            "2459\n",
            "2460\n",
            "2461\n",
            "2462\n",
            "2463\n",
            "2464\n",
            "2465\n",
            "2466\n",
            "2467\n",
            "2468\n",
            "2469\n",
            "2470\n",
            "2471\n",
            "2472\n",
            "2473\n",
            "2474\n",
            "2475\n",
            "2476\n",
            "2477\n",
            "2478\n",
            "2479\n",
            "2480\n",
            "2481\n",
            "2482\n",
            "2483\n",
            "2484\n",
            "2485\n",
            "2486\n",
            "2487\n",
            "2488\n",
            "2489\n",
            "2490\n",
            "2491\n",
            "2492\n",
            "2493\n",
            "2494\n",
            "2495\n",
            "2496\n",
            "2497\n",
            "2498\n",
            "2499\n",
            "2500\n",
            "2501\n",
            "2502\n",
            "2503\n",
            "2504\n",
            "2505\n",
            "2506\n",
            "2507\n",
            "2508\n",
            "2509\n",
            "2510\n",
            "2511\n",
            "2512\n",
            "2513\n",
            "2514\n",
            "2515\n",
            "2516\n",
            "2517\n",
            "2518\n",
            "2519\n",
            "2520\n",
            "2521\n",
            "2522\n",
            "2523\n",
            "2524\n",
            "2525\n",
            "2526\n",
            "2527\n",
            "2528\n",
            "2529\n",
            "2530\n",
            "2531\n",
            "2532\n",
            "2533\n",
            "2534\n",
            "2535\n",
            "2536\n",
            "2537\n",
            "2538\n",
            "2539\n",
            "2540\n",
            "2541\n",
            "2542\n",
            "2543\n",
            "2544\n",
            "2545\n",
            "2546\n",
            "2547\n",
            "2548\n",
            "2549\n",
            "2550\n",
            "2551\n",
            "2552\n",
            "2553\n",
            "2554\n",
            "2555\n",
            "2556\n",
            "2557\n",
            "2558\n",
            "2559\n",
            "2560\n",
            "2561\n",
            "2562\n",
            "2563\n",
            "2564\n",
            "2565\n",
            "2566\n",
            "2567\n",
            "2568\n",
            "2569\n",
            "2570\n",
            "2571\n",
            "2572\n",
            "2573\n",
            "2574\n",
            "2575\n",
            "2576\n",
            "2577\n",
            "2578\n",
            "2579\n",
            "2580\n",
            "2581\n",
            "2582\n",
            "2583\n",
            "2584\n",
            "2585\n",
            "2586\n",
            "2587\n",
            "2588\n",
            "2589\n",
            "2590\n",
            "2591\n",
            "2592\n",
            "2593\n",
            "2594\n",
            "2595\n",
            "2596\n",
            "2597\n",
            "2598\n",
            "2599\n",
            "2600\n",
            "2601\n",
            "2602\n",
            "2603\n",
            "2604\n",
            "2605\n",
            "2606\n",
            "2607\n",
            "2608\n",
            "2609\n",
            "2610\n",
            "2611\n",
            "2612\n",
            "2613\n",
            "2614\n",
            "2615\n",
            "2616\n",
            "2617\n",
            "2618\n",
            "2619\n",
            "2620\n",
            "2621\n",
            "2622\n",
            "2623\n",
            "2624\n",
            "2625\n",
            "2626\n",
            "2627\n",
            "2628\n",
            "2629\n",
            "2630\n",
            "2631\n",
            "2632\n",
            "2633\n",
            "2634\n",
            "2635\n",
            "2636\n",
            "2637\n",
            "2638\n",
            "2639\n",
            "2640\n",
            "2641\n",
            "2642\n",
            "2643\n",
            "2644\n",
            "2645\n",
            "2646\n",
            "2647\n",
            "2648\n",
            "2649\n",
            "2650\n",
            "2651\n",
            "2652\n",
            "2653\n",
            "2654\n",
            "2655\n",
            "2656\n",
            "2657\n",
            "2658\n",
            "2659\n",
            "2660\n",
            "2661\n",
            "2662\n",
            "2663\n",
            "2664\n",
            "2665\n",
            "2666\n",
            "2667\n",
            "2668\n",
            "2669\n",
            "2670\n",
            "2671\n",
            "2672\n",
            "2673\n",
            "2674\n",
            "2675\n",
            "2676\n",
            "2677\n",
            "2678\n",
            "2679\n",
            "2680\n",
            "2681\n",
            "2682\n",
            "2683\n",
            "2684\n",
            "2685\n",
            "2686\n",
            "2687\n",
            "2688\n",
            "2689\n",
            "2690\n",
            "2691\n",
            "2692\n",
            "2693\n",
            "2694\n",
            "2695\n",
            "2696\n",
            "2697\n",
            "2698\n",
            "2699\n",
            "2700\n",
            "2701\n",
            "2702\n",
            "2703\n",
            "2704\n",
            "2705\n",
            "2706\n",
            "2707\n",
            "2708\n",
            "2709\n",
            "2710\n",
            "2711\n",
            "2712\n",
            "2713\n",
            "2714\n",
            "2715\n",
            "2716\n",
            "2717\n",
            "2718\n",
            "2719\n",
            "2720\n",
            "2721\n",
            "2722\n",
            "2723\n",
            "2724\n",
            "2725\n",
            "2726\n",
            "2727\n",
            "2728\n",
            "2729\n",
            "2730\n",
            "2731\n",
            "2732\n",
            "2733\n",
            "2734\n",
            "2735\n",
            "2736\n",
            "2737\n",
            "2738\n",
            "2739\n",
            "2740\n",
            "2741\n",
            "2742\n",
            "2743\n",
            "2744\n",
            "2745\n",
            "2746\n",
            "2747\n",
            "2748\n",
            "2749\n",
            "2750\n",
            "2751\n",
            "2752\n",
            "2753\n",
            "2754\n",
            "2755\n",
            "2756\n",
            "2757\n",
            "2758\n",
            "2759\n",
            "2760\n",
            "2761\n",
            "2762\n",
            "2763\n",
            "2764\n",
            "2765\n",
            "2766\n",
            "2767\n",
            "2768\n",
            "2769\n",
            "2770\n",
            "2771\n",
            "2772\n",
            "2773\n",
            "2774\n",
            "2775\n",
            "2776\n",
            "2777\n",
            "2778\n",
            "2779\n",
            "2780\n",
            "2781\n",
            "2782\n",
            "2783\n",
            "2784\n",
            "2785\n",
            "2786\n",
            "2787\n",
            "2788\n",
            "2789\n",
            "2790\n",
            "2791\n",
            "2792\n",
            "2793\n",
            "2794\n",
            "2795\n",
            "2796\n",
            "2797\n",
            "2798\n",
            "2799\n",
            "2800\n",
            "2801\n",
            "2802\n",
            "2803\n",
            "2804\n",
            "2805\n",
            "2806\n",
            "2807\n",
            "2808\n",
            "2809\n",
            "2810\n",
            "2811\n",
            "2812\n",
            "2813\n",
            "2814\n",
            "2815\n",
            "2816\n",
            "2817\n",
            "2818\n",
            "2819\n",
            "2820\n",
            "2821\n",
            "2822\n",
            "2823\n",
            "2824\n",
            "2825\n",
            "2826\n",
            "2827\n",
            "2828\n",
            "2829\n",
            "2830\n",
            "2831\n",
            "2832\n",
            "2833\n",
            "2834\n",
            "2835\n",
            "2836\n",
            "2837\n",
            "2838\n",
            "2839\n",
            "2840\n",
            "2841\n",
            "2842\n",
            "2843\n",
            "2844\n",
            "2845\n",
            "2846\n",
            "2847\n",
            "2848\n",
            "2849\n",
            "2850\n",
            "2851\n",
            "2852\n",
            "2853\n",
            "2854\n",
            "2855\n",
            "2856\n",
            "2857\n",
            "2858\n",
            "2859\n",
            "2860\n",
            "2861\n",
            "2862\n",
            "2863\n",
            "2864\n",
            "2865\n",
            "2866\n",
            "2867\n",
            "2868\n",
            "2869\n",
            "2870\n",
            "2871\n",
            "2872\n",
            "2873\n",
            "2874\n",
            "2875\n",
            "2876\n",
            "2877\n",
            "2878\n",
            "2879\n",
            "2880\n",
            "2881\n",
            "2882\n",
            "2883\n",
            "2884\n",
            "2885\n",
            "2886\n",
            "2887\n",
            "2888\n",
            "2889\n",
            "2890\n",
            "2891\n",
            "2892\n",
            "2893\n",
            "2894\n",
            "2895\n",
            "2896\n",
            "2897\n",
            "2898\n",
            "2899\n",
            "2900\n",
            "2901\n",
            "2902\n",
            "2903\n",
            "2904\n",
            "2905\n",
            "2906\n",
            "2907\n",
            "2908\n",
            "2909\n",
            "2910\n",
            "2911\n",
            "2912\n",
            "2913\n",
            "2914\n",
            "2915\n",
            "2916\n",
            "2917\n",
            "2918\n",
            "2919\n",
            "2920\n",
            "2921\n",
            "2922\n",
            "2923\n",
            "2924\n",
            "2925\n",
            "2926\n",
            "2927\n",
            "2928\n",
            "2929\n",
            "2930\n",
            "2931\n",
            "2932\n",
            "2933\n",
            "2934\n",
            "2935\n",
            "2936\n",
            "2937\n",
            "2938\n",
            "2939\n",
            "2940\n",
            "2941\n",
            "2942\n",
            "2943\n",
            "2944\n",
            "2945\n",
            "2946\n",
            "2947\n",
            "2948\n",
            "2949\n",
            "2950\n",
            "2951\n",
            "2952\n",
            "2953\n",
            "2954\n",
            "2955\n",
            "2956\n",
            "2957\n",
            "2958\n",
            "2959\n",
            "2960\n",
            "2961\n",
            "2962\n",
            "2963\n",
            "2964\n",
            "2965\n",
            "2966\n",
            "2967\n"
          ]
        },
        {
          "ename": "RecursionError",
          "evalue": "maximum recursion depth exceeded while calling a Python object",
          "output_type": "error",
          "traceback": [
            "\u001b[0;31m---------------------------------------------------------------------------\u001b[0m",
            "\u001b[0;31mRecursionError\u001b[0m                            Traceback (most recent call last)",
            "Cell \u001b[0;32mIn[285], line 1\u001b[0m\n\u001b[0;32m----> 1\u001b[0m \u001b[43mrecur\u001b[49m\u001b[43m(\u001b[49m\u001b[43m)\u001b[49m\n",
            "Cell \u001b[0;32mIn[284], line 8\u001b[0m, in \u001b[0;36mrecur\u001b[0;34m()\u001b[0m\n\u001b[1;32m      6\u001b[0m \u001b[38;5;28mprint\u001b[39m(i)\n\u001b[1;32m      7\u001b[0m i \u001b[38;5;241m+\u001b[39m\u001b[38;5;241m=\u001b[39m \u001b[38;5;241m1\u001b[39m\n\u001b[0;32m----> 8\u001b[0m \u001b[43mrecur\u001b[49m\u001b[43m(\u001b[49m\u001b[43m)\u001b[49m\n",
            "Cell \u001b[0;32mIn[284], line 8\u001b[0m, in \u001b[0;36mrecur\u001b[0;34m()\u001b[0m\n\u001b[1;32m      6\u001b[0m \u001b[38;5;28mprint\u001b[39m(i)\n\u001b[1;32m      7\u001b[0m i \u001b[38;5;241m+\u001b[39m\u001b[38;5;241m=\u001b[39m \u001b[38;5;241m1\u001b[39m\n\u001b[0;32m----> 8\u001b[0m \u001b[43mrecur\u001b[49m\u001b[43m(\u001b[49m\u001b[43m)\u001b[49m\n",
            "    \u001b[0;31m[... skipping similar frames: recur at line 8 (2965 times)]\u001b[0m\n",
            "Cell \u001b[0;32mIn[284], line 8\u001b[0m, in \u001b[0;36mrecur\u001b[0;34m()\u001b[0m\n\u001b[1;32m      6\u001b[0m \u001b[38;5;28mprint\u001b[39m(i)\n\u001b[1;32m      7\u001b[0m i \u001b[38;5;241m+\u001b[39m\u001b[38;5;241m=\u001b[39m \u001b[38;5;241m1\u001b[39m\n\u001b[0;32m----> 8\u001b[0m \u001b[43mrecur\u001b[49m\u001b[43m(\u001b[49m\u001b[43m)\u001b[49m\n",
            "Cell \u001b[0;32mIn[284], line 6\u001b[0m, in \u001b[0;36mrecur\u001b[0;34m()\u001b[0m\n\u001b[1;32m      4\u001b[0m \u001b[38;5;28;01mdef\u001b[39;00m\u001b[38;5;250m \u001b[39m\u001b[38;5;21mrecur\u001b[39m():\n\u001b[1;32m      5\u001b[0m     \u001b[38;5;28;01mglobal\u001b[39;00m i\n\u001b[0;32m----> 6\u001b[0m     \u001b[38;5;28;43mprint\u001b[39;49m\u001b[43m(\u001b[49m\u001b[43mi\u001b[49m\u001b[43m)\u001b[49m\n\u001b[1;32m      7\u001b[0m     i \u001b[38;5;241m+\u001b[39m\u001b[38;5;241m=\u001b[39m \u001b[38;5;241m1\u001b[39m\n\u001b[1;32m      8\u001b[0m     recur()\n",
            "File \u001b[0;32m~/.local/lib/python3.10/site-packages/ipykernel/iostream.py:664\u001b[0m, in \u001b[0;36mOutStream.write\u001b[0;34m(self, string)\u001b[0m\n\u001b[1;32m    655\u001b[0m \u001b[38;5;28;01mdef\u001b[39;00m\u001b[38;5;250m \u001b[39m\u001b[38;5;21mwrite\u001b[39m(\u001b[38;5;28mself\u001b[39m, string: \u001b[38;5;28mstr\u001b[39m) \u001b[38;5;241m-\u001b[39m\u001b[38;5;241m>\u001b[39m Optional[\u001b[38;5;28mint\u001b[39m]:  \u001b[38;5;66;03m# type:ignore[override]\u001b[39;00m\n\u001b[1;32m    656\u001b[0m \u001b[38;5;250m    \u001b[39m\u001b[38;5;124;03m\"\"\"Write to current stream after encoding if necessary\u001b[39;00m\n\u001b[1;32m    657\u001b[0m \n\u001b[1;32m    658\u001b[0m \u001b[38;5;124;03m    Returns\u001b[39;00m\n\u001b[0;32m   (...)\u001b[0m\n\u001b[1;32m    662\u001b[0m \n\u001b[1;32m    663\u001b[0m \u001b[38;5;124;03m    \"\"\"\u001b[39;00m\n\u001b[0;32m--> 664\u001b[0m     parent \u001b[38;5;241m=\u001b[39m \u001b[38;5;28;43mself\u001b[39;49m\u001b[38;5;241;43m.\u001b[39;49m\u001b[43mparent_header\u001b[49m\n\u001b[1;32m    666\u001b[0m     \u001b[38;5;28;01mif\u001b[39;00m \u001b[38;5;129;01mnot\u001b[39;00m \u001b[38;5;28misinstance\u001b[39m(string, \u001b[38;5;28mstr\u001b[39m):\n\u001b[1;32m    667\u001b[0m         msg \u001b[38;5;241m=\u001b[39m \u001b[38;5;124mf\u001b[39m\u001b[38;5;124m\"\u001b[39m\u001b[38;5;124mwrite() argument must be str, not \u001b[39m\u001b[38;5;132;01m{\u001b[39;00m\u001b[38;5;28mtype\u001b[39m(string)\u001b[38;5;132;01m}\u001b[39;00m\u001b[38;5;124m\"\u001b[39m  \u001b[38;5;66;03m# type:ignore[unreachable]\u001b[39;00m\n",
            "File \u001b[0;32m~/.local/lib/python3.10/site-packages/ipykernel/iostream.py:509\u001b[0m, in \u001b[0;36mOutStream.parent_header\u001b[0;34m(self)\u001b[0m\n\u001b[1;32m    505\u001b[0m \u001b[38;5;129m@property\u001b[39m\n\u001b[1;32m    506\u001b[0m \u001b[38;5;28;01mdef\u001b[39;00m\u001b[38;5;250m \u001b[39m\u001b[38;5;21mparent_header\u001b[39m(\u001b[38;5;28mself\u001b[39m):\n\u001b[1;32m    507\u001b[0m     \u001b[38;5;28;01mtry\u001b[39;00m:\n\u001b[1;32m    508\u001b[0m         \u001b[38;5;66;03m# asyncio-specific\u001b[39;00m\n\u001b[0;32m--> 509\u001b[0m         \u001b[38;5;28;01mreturn\u001b[39;00m \u001b[38;5;28;43mself\u001b[39;49m\u001b[38;5;241;43m.\u001b[39;49m\u001b[43m_parent_header\u001b[49m\u001b[38;5;241;43m.\u001b[39;49m\u001b[43mget\u001b[49m\u001b[43m(\u001b[49m\u001b[43m)\u001b[49m\n\u001b[1;32m    510\u001b[0m     \u001b[38;5;28;01mexcept\u001b[39;00m \u001b[38;5;167;01mLookupError\u001b[39;00m:\n\u001b[1;32m    511\u001b[0m         \u001b[38;5;28;01mtry\u001b[39;00m:\n\u001b[1;32m    512\u001b[0m             \u001b[38;5;66;03m# thread-specific\u001b[39;00m\n",
            "\u001b[0;31mRecursionError\u001b[0m: maximum recursion depth exceeded while calling a Python object"
          ]
        }
      ],
      "source": [
        "recur()"
      ]
    },
    {
      "cell_type": "code",
      "execution_count": null,
      "id": "efa012ca",
      "metadata": {
        "id": "efa012ca",
        "outputId": "d2be4c3b-ce92-4fb3-8dc7-aba8019aad9d"
      },
      "outputs": [
        {
          "name": "stdout",
          "output_type": "stream",
          "text": [
            "0\n",
            "1\n",
            "2\n",
            "3\n",
            "4\n",
            "5\n",
            "6\n",
            "7\n",
            "8\n",
            "9\n",
            "10\n",
            "11\n"
          ]
        }
      ],
      "source": [
        "# create a function to count upto a certain number using recursion.\n",
        "\n",
        "def count(num):\n",
        "    if (num <= 0):\n",
        "        print(num)\n",
        "        # raise Exception # use this line to see the call stack\n",
        "        return None\n",
        "    else:\n",
        "        count(num -1)\n",
        "        print(num)\n",
        "        return None\n",
        "\n",
        "count(11)"
      ]
    },
    {
      "cell_type": "code",
      "execution_count": null,
      "id": "e3cbbb08",
      "metadata": {
        "id": "e3cbbb08",
        "outputId": "d008ac08-1833-4110-e47e-0df56ff22507"
      },
      "outputs": [
        {
          "data": {
            "text/plain": [
              "120"
            ]
          },
          "execution_count": 24,
          "metadata": {},
          "output_type": "execute_result"
        }
      ],
      "source": [
        "# create a recursive function to find the factorial.\n",
        "\n",
        "def factorial(num):\n",
        "    if num <= 0:\n",
        "        return 1\n",
        "    else:\n",
        "        return num * factorial(num - 1)\n",
        "\n",
        "factorial(5)"
      ]
    },
    {
      "cell_type": "code",
      "execution_count": null,
      "id": "580367ef",
      "metadata": {
        "id": "580367ef",
        "outputId": "4faeadf7-e53d-4be7-f918-0fe57cff6eb5"
      },
      "outputs": [
        {
          "name": "stdout",
          "output_type": "stream",
          "text": [
            "0\n",
            "1\n",
            "2\n",
            "3\n",
            "4\n",
            "5\n",
            "6\n"
          ]
        }
      ],
      "source": [
        "# break statement can be used to break out of the nearest loop.\n",
        "\n",
        "for i in range(10):\n",
        "    if (i == 7):\n",
        "        break\n",
        "    print(i)"
      ]
    },
    {
      "cell_type": "code",
      "execution_count": null,
      "id": "00f2b0a2",
      "metadata": {
        "id": "00f2b0a2",
        "outputId": "12597a3c-79c9-4e5d-cce3-01f08a6f6936"
      },
      "outputs": [
        {
          "name": "stdout",
          "output_type": "stream",
          "text": [
            "0\n",
            "1\n",
            "2\n",
            "3\n",
            "4\n",
            "5\n",
            "6\n",
            "9\n"
          ]
        }
      ],
      "source": [
        "# continue statement can be used to skip an iteration of a loop.\n",
        "\n",
        "for i in range(10):\n",
        "    if (i == 7 or i == 8):\n",
        "        continue\n",
        "    print(i)"
      ]
    },
    {
      "cell_type": "code",
      "execution_count": null,
      "id": "af2f7b14",
      "metadata": {
        "id": "af2f7b14",
        "outputId": "036c9fe2-e148-455a-f367-507ab51331e7"
      },
      "outputs": [
        {
          "name": "stdout",
          "output_type": "stream",
          "text": [
            "blue found at position 2\n"
          ]
        }
      ],
      "source": [
        "# using break statement to create a simple search algorithm.\n",
        "\n",
        "colour = ['red', 'green', 'blue', 'purple']\n",
        "for i, v in enumerate(colour):\n",
        "    if (v == 'blue'):\n",
        "        print(f'blue found at position {i}')\n",
        "        break"
      ]
    },
    {
      "cell_type": "code",
      "execution_count": null,
      "id": "8ca5ff2c",
      "metadata": {
        "id": "8ca5ff2c",
        "outputId": "e9b04bb5-2701-4a1b-edd6-170793f5ff43"
      },
      "outputs": [
        {
          "name": "stdout",
          "output_type": "stream",
          "text": [
            "[2, 4, 6, 8, 10]\n"
          ]
        }
      ],
      "source": [
        "# use of map() function.\n",
        "\n",
        "a = [1, 2, 3, 4, 5]\n",
        "b = [\"hello\", \"world\", \"this\", \"is\", \"python\"]\n",
        "\n",
        "c = []\n",
        "\n",
        "def double(value):\n",
        "    return value * 2\n",
        "\n",
        "for i in a:\n",
        "    c.append(double(i))\n",
        "\n",
        "print(c)"
      ]
    },
    {
      "cell_type": "code",
      "execution_count": null,
      "id": "66436fb2",
      "metadata": {
        "id": "66436fb2",
        "outputId": "d56e1809-986d-46c2-984e-a645f73f4855"
      },
      "outputs": [
        {
          "name": "stdout",
          "output_type": "stream",
          "text": [
            "[2, 4, 6, 8, 10]\n",
            "['hellohello', 'worldworld', 'thisthis', 'isis', 'pythonpython']\n"
          ]
        }
      ],
      "source": [
        "# use of map() function.\n",
        "\n",
        "print(list(map(double, a)))\n",
        "print(list(map(double, b)))"
      ]
    },
    {
      "cell_type": "code",
      "execution_count": null,
      "id": "2b0d788e",
      "metadata": {
        "id": "2b0d788e",
        "outputId": "6e934cb1-de34-43e4-e2c7-30241c37a4db"
      },
      "outputs": [
        {
          "name": "stdout",
          "output_type": "stream",
          "text": [
            "[1, 4, 9, 16, 25]\n"
          ]
        }
      ],
      "source": [
        "# lambda function is a single line anonymous function which can be used for temporary return equations.\n",
        "\n",
        "a = [1, 2, 3, 4, 5]\n",
        "\n",
        "print(list(map(lambda value: value ** 2, a)))"
      ]
    },
    {
      "cell_type": "code",
      "execution_count": null,
      "id": "eccf859e",
      "metadata": {
        "id": "eccf859e",
        "outputId": "78cefa29-adcc-4a8f-a7cb-ee8c2020a88c"
      },
      "outputs": [
        {
          "name": "stdout",
          "output_type": "stream",
          "text": [
            "11\n"
          ]
        }
      ],
      "source": [
        "# lambda functions can also be stored in variables and hence can be deleted.\n",
        "\n",
        "sum = lambda x, y: x + y\n",
        "\n",
        "print(sum(5, 6))\n",
        "del sum"
      ]
    },
    {
      "cell_type": "code",
      "execution_count": null,
      "id": "30d37601",
      "metadata": {
        "id": "30d37601",
        "outputId": "49810965-2a76-4052-d23f-84ebf2534fe3"
      },
      "outputs": [
        {
          "name": "stdout",
          "output_type": "stream",
          "text": [
            "10\n"
          ]
        }
      ],
      "source": [
        "# lambda function can also be called upon.\n",
        "\n",
        "print((lambda x : x * 2)(5))"
      ]
    },
    {
      "cell_type": "code",
      "execution_count": null,
      "id": "378255c5",
      "metadata": {
        "id": "378255c5",
        "outputId": "55f65411-c7f3-4d29-a99b-104edbaa661e"
      },
      "outputs": [
        {
          "name": "stdout",
          "output_type": "stream",
          "text": [
            "(1, 2, 3, 4, 5, 6)\n"
          ]
        }
      ],
      "source": [
        "# lambda function can also take arbitrary arguments\n",
        "\n",
        "arbitrary = lambda *x : x\n",
        "\n",
        "print(arbitrary(1, 2, 3, 4, 5, 6))"
      ]
    },
    {
      "cell_type": "code",
      "execution_count": null,
      "id": "40590337",
      "metadata": {
        "id": "40590337",
        "outputId": "b70eb53e-ff35-400d-9a40-7f38f79c5f28"
      },
      "outputs": [
        {
          "name": "stdout",
          "output_type": "stream",
          "text": [
            "('HELLO', 'WORLD', 'THIS', 'IS', 'PYTHON')\n"
          ]
        }
      ],
      "source": [
        "# convert the list of strings to upper case using a lambda function map.\n",
        "\n",
        "b = [\"hello\", \"world\", \"this\", \"is\", \"python\"]\n",
        "\n",
        "print(tuple(map(lambda s : s.upper(), b)))"
      ]
    },
    {
      "cell_type": "code",
      "execution_count": null,
      "id": "6dcefde3",
      "metadata": {
        "id": "6dcefde3",
        "outputId": "6402751c-3dda-4fa5-844f-bedd0a13f4f4"
      },
      "outputs": [
        {
          "data": {
            "text/plain": [
              "[1, 4, 9, 16, 25]"
            ]
          },
          "execution_count": 293,
          "metadata": {},
          "output_type": "execute_result"
        }
      ],
      "source": [
        "# create the map() function.\n",
        "\n",
        "def my_map(funct, collection):\n",
        "    c = []\n",
        "    for i in collection:\n",
        "        c.append(funct(i))\n",
        "    return c\n",
        "\n",
        "a = [1, 2, 3, 4, 5]\n",
        "\n",
        "my_map(lambda x : x ** 2, a)"
      ]
    },
    {
      "cell_type": "code",
      "execution_count": null,
      "id": "67fef06a",
      "metadata": {
        "id": "67fef06a",
        "outputId": "5d3a76e1-eb87-4e34-c196-8705a3e396f3"
      },
      "outputs": [
        {
          "name": "stdout",
          "output_type": "stream",
          "text": [
            "['Hello', 'World', 'This', 'Is', 'Python']\n"
          ]
        }
      ],
      "source": [
        "# the yield keyword holds all the return values and returns them at the end as a generator object.\n",
        "\n",
        "def my_map(funct, collection):\n",
        "    for i in collection:\n",
        "        yield funct(i)\n",
        "\n",
        "b = [\"hello\", \"world\", \"this\", \"is\", \"python\"]\n",
        "\n",
        "print(list(my_map(lambda s : s.capitalize(), b)))"
      ]
    },
    {
      "cell_type": "code",
      "execution_count": null,
      "id": "b71cf209",
      "metadata": {
        "id": "b71cf209",
        "outputId": "59c2f2f5-51b1-4068-8886-4098d8d9fb1e"
      },
      "outputs": [
        {
          "name": "stdout",
          "output_type": "stream",
          "text": [
            "10\n",
            "18\n"
          ]
        }
      ],
      "source": [
        "# a function can return another inner function.\n",
        "\n",
        "# times() creates a function temp() and returns it.\n",
        "\n",
        "def times(multiply_by):\n",
        "    def temp(num):\n",
        "        return num * multiply_by\n",
        "    return temp\n",
        "\n",
        "double = times(2) # double becomes temp()\n",
        "triple = times(3)\n",
        "\n",
        "print(double(5))\n",
        "print(triple(6))"
      ]
    },
    {
      "cell_type": "code",
      "execution_count": null,
      "id": "nW3Vxr1xzUEW",
      "metadata": {
        "colab": {
          "base_uri": "https://localhost:8080/"
        },
        "id": "nW3Vxr1xzUEW",
        "outputId": "778b68f5-c646-4e08-bd1b-20d966662b41"
      },
      "outputs": [
        {
          "name": "stdout",
          "output_type": "stream",
          "text": [
            "hellow world this shit is fking insane.\n"
          ]
        },
        {
          "data": {
            "text/plain": [
              "<function print>"
            ]
          },
          "execution_count": 296,
          "metadata": {},
          "output_type": "execute_result"
        }
      ],
      "source": [
        "# make print\n",
        "\n",
        "def make_print():\n",
        "    return print\n",
        "\n",
        "my_print = make_print()\n",
        "\n",
        "my_print(\"hellow world this shit is fking insane.\")\n",
        "\n",
        "my_print"
      ]
    },
    {
      "cell_type": "code",
      "execution_count": null,
      "id": "4efec539",
      "metadata": {
        "id": "4efec539",
        "outputId": "deb2b457-7588-4a4e-9881-547f9c847bc6"
      },
      "outputs": [
        {
          "name": "stdout",
          "output_type": "stream",
          "text": [
            "25\n",
            "216\n"
          ]
        }
      ],
      "source": [
        "# write a function that returns a function to calculate powers.\n",
        "\n",
        "def exponent(power_by):\n",
        "    def temp(num):\n",
        "        return num ** power_by\n",
        "    return temp\n",
        "\n",
        "square = exponent(2)\n",
        "cube = exponent(3)\n",
        "\n",
        "print(square(5))\n",
        "print(cube(6))"
      ]
    },
    {
      "cell_type": "code",
      "execution_count": null,
      "id": "1dd2921a",
      "metadata": {
        "colab": {
          "base_uri": "https://localhost:8080/"
        },
        "id": "1dd2921a",
        "outputId": "b8adf2e8-bee6-4f9c-d7a2-611a042ab24c"
      },
      "outputs": [
        {
          "name": "stdout",
          "output_type": "stream",
          "text": [
            "0\n",
            "1\n",
            "2\n",
            "0\n",
            "1\n",
            "2\n"
          ]
        }
      ],
      "source": [
        "def outer(num, count):\n",
        "    def inner():\n",
        "        for i in range(num):\n",
        "            print(i)\n",
        "    for i in range(count):\n",
        "        inner()\n",
        "        # print() # comment out for new line.\n",
        "\n",
        "outer(num = 3, count = 2)"
      ]
    },
    {
      "cell_type": "code",
      "execution_count": null,
      "id": "960aa95b",
      "metadata": {
        "colab": {
          "base_uri": "https://localhost:8080/"
        },
        "id": "960aa95b",
        "outputId": "1f43d301-10b3-4a2c-a7fd-9545ecace2dd"
      },
      "outputs": [
        {
          "name": "stdout",
          "output_type": "stream",
          "text": [
            "[0, 1, 2]\n",
            "[0, 1, 2]\n",
            "[0, 1, 2]\n"
          ]
        },
        {
          "data": {
            "text/plain": [
              "[0, 1, 2]"
            ]
          },
          "execution_count": 299,
          "metadata": {},
          "output_type": "execute_result"
        }
      ],
      "source": [
        "# goofy ahh test program to test nonlocal keyword.\n",
        "\n",
        "def outer(num, count):\n",
        "    result = {}\n",
        "\n",
        "    def inner():\n",
        "        nonlocal result\n",
        "        result = []      # replaces the dictionary outside with a list\n",
        "        for i in range(num):\n",
        "            result.append(i)\n",
        "        print(result)\n",
        "\n",
        "    for i in range(count):\n",
        "        inner()\n",
        "        # print() # comment out for new line.\n",
        "    return result\n",
        "\n",
        "outer(num = 3, count = 3)"
      ]
    },
    {
      "cell_type": "code",
      "execution_count": null,
      "id": "34f47c70",
      "metadata": {
        "colab": {
          "base_uri": "https://localhost:8080/"
        },
        "id": "34f47c70",
        "outputId": "558c3308-3a5c-43f7-ff2f-f6fe74a7eba0"
      },
      "outputs": [
        {
          "name": "stdout",
          "output_type": "stream",
          "text": [
            "My name is Rohit, I am from Nalasopara and I am 20 years old.\n",
            "My name is 21, I am from Yash and I am Nalasopara years old.\n",
            "My name is Aakash, I am from Nalasopara and I am 21 years old.\n",
            "My name is piyush, I am from NSP and I am 21 years old.\n"
          ]
        }
      ],
      "source": [
        "# positional and keyword arguments.\n",
        "\n",
        "def intro(name, age, location):\n",
        "    return f\"My name is {name}, I am from {location} and I am {age} years old.\"\n",
        "\n",
        "# positional arguments. (when you know the order to pass values in.)\n",
        "print(intro(\"Rohit\", 20, \"Nalasopara\"))\n",
        "print(intro(21, \"Nalasopara\", \"Yash\"))\n",
        "\n",
        "# keyword arguments. (when you don't know the order of parameters.)\n",
        "print(intro(age = 21, location = \"Nalasopara\", name = \"Aakash\"))\n",
        "print(intro(\"piyush\", location=\"NSP\", age=21))"
      ]
    },
    {
      "cell_type": "code",
      "execution_count": null,
      "id": "Oya8YacK5pys",
      "metadata": {
        "colab": {
          "base_uri": "https://localhost:8080/"
        },
        "id": "Oya8YacK5pys",
        "outputId": "9bfee06d-323c-4f99-b75c-45f20462626d"
      },
      "outputs": [
        {
          "name": "stdout",
          "output_type": "stream",
          "text": [
            "Hello, Rohit!\n",
            "Help on function greet in module __main__:\n",
            "\n",
            "greet(name)\n",
            "    This function takes a name as input\n",
            "    and returns a greeting message.\n",
            "\n",
            "greet.__doc__ \n",
            "    This function takes a name as input\n",
            "    and returns a greeting message.\n",
            "    \n"
          ]
        }
      ],
      "source": [
        "def greet(name):\n",
        "    \"\"\"\n",
        "    This function takes a name as input\n",
        "    and returns a greeting message.\n",
        "    \"\"\"\n",
        "    return f\"Hello, {name}!\"\n",
        "\n",
        "# Calling the function normally\n",
        "print(greet(\"Rohit\"))\n",
        "\n",
        "# Accessing the docstring using the help() function\n",
        "help(greet)\n",
        "\n",
        "# You can also access it directly\n",
        "print(\"greet.__doc__\", greet.__doc__)"
      ]
    },
    {
      "cell_type": "code",
      "execution_count": null,
      "id": "f4b973b8",
      "metadata": {
        "colab": {
          "base_uri": "https://localhost:8080/"
        },
        "id": "f4b973b8",
        "outputId": "a3298e98-ccf3-4c96-d68c-8582e73a077c"
      },
      "outputs": [
        {
          "name": "stdout",
          "output_type": "stream",
          "text": [
            "My name is Josh, I am from Mumbai and I am 18 years old.\n",
            "My name is Rohit, I am from Mumbai and I am 18 years old.\n",
            "My name is Yash, I am from Nalasopara and I am 18 years old.\n",
            "My name is Aakash, I am from Nalasopara and I am 21 years old.\n"
          ]
        }
      ],
      "source": [
        "# Function with arbitrary keyword arguments (collected as a dictionary)\n",
        "def adv_intro(**data):\n",
        "    \"\"\"Returns a formatted intro using provided keyword arguments.\"\"\"\n",
        "\n",
        "    # Use .get() to safely access values with defaults\n",
        "    return f\"My name is {data.get('name', 'Josh')}, I am from {data.get('location', 'Mumbai')} and I am {data.get('age', 18)} years old.\"\n",
        "\n",
        "\n",
        "# No arguments passed — all defaults used\n",
        "print(adv_intro())\n",
        "\n",
        "# Only 'name' provided\n",
        "print(adv_intro(name=\"Rohit\"))\n",
        "\n",
        "# 'name' and 'location' provided\n",
        "print(adv_intro(name=\"Yash\", location=\"Nalasopara\"))\n",
        "\n",
        "# All expected keys + an unused extra key ('random')\n",
        "print(adv_intro(name=\"Aakash\", location=\"Nalasopara\", age=21, random=None))\n"
      ]
    },
    {
      "cell_type": "code",
      "execution_count": null,
      "id": "0e89ea19",
      "metadata": {
        "id": "0e89ea19",
        "outputId": "3b4ddee3-d48b-40c4-f4fa-6b7d729a6472"
      },
      "outputs": [
        {
          "name": "stdout",
          "output_type": "stream",
          "text": [
            "HELLO WORLD\n"
          ]
        }
      ],
      "source": [
        "# datatypes of parameters can be specified.\n",
        "# datatype of return values can also be specified.\n",
        "# although they don't actually stop the user from giving other datatypes.\n",
        "\n",
        "def upper(value : str) -> str:\n",
        "    return value.upper()\n",
        "\n",
        "print(upper(\"hello world\"))"
      ]
    },
    {
      "cell_type": "code",
      "execution_count": null,
      "id": "6f7f2ade",
      "metadata": {
        "colab": {
          "base_uri": "https://localhost:8080/"
        },
        "id": "6f7f2ade",
        "outputId": "4313c4af-e9d9-40fe-e9e6-38fbfcd27baf"
      },
      "outputs": [
        {
          "name": "stdout",
          "output_type": "stream",
          "text": [
            "0\n",
            "1\n",
            "1\n",
            "2\n",
            "3\n",
            "5\n",
            "8\n",
            "13\n",
            "21\n",
            "34\n"
          ]
        }
      ],
      "source": [
        "# write a function to print fibonacci series.\n",
        "\n",
        "def fibonacci(count : int):\n",
        "    num1 = 0\n",
        "    num2 = 1\n",
        "    print(num1)\n",
        "    print(num2)\n",
        "\n",
        "    for i in range(count - 2):\n",
        "        temp = num1\n",
        "        num1 = num2\n",
        "        num2 += temp\n",
        "        print(num2)\n",
        "\n",
        "fibonacci(10)"
      ]
    },
    {
      "cell_type": "code",
      "execution_count": null,
      "id": "3877459d",
      "metadata": {
        "id": "3877459d",
        "outputId": "ee18414d-a217-4d9d-a0ed-5a1f92929754"
      },
      "outputs": [
        {
          "name": "stdout",
          "output_type": "stream",
          "text": [
            "[0, 1, 1, 2, 3, 5, 8, 13, 21, 34]\n"
          ]
        }
      ],
      "source": [
        "# fibonacci series using lists.\n",
        "\n",
        "def fib(n):\n",
        "    res = [0, 1]\n",
        "    for i in range(2, n):\n",
        "        res.append(res[i - 1] + res[i - 2])\n",
        "    return res\n",
        "\n",
        "print(fib(10))"
      ]
    },
    {
      "cell_type": "code",
      "execution_count": null,
      "id": "pil61IDqtcJS",
      "metadata": {
        "colab": {
          "base_uri": "https://localhost:8080/"
        },
        "id": "pil61IDqtcJS",
        "outputId": "09bd8dd7-41a3-4980-ec10-1e145bcc721b"
      },
      "outputs": [
        {
          "name": "stdout",
          "output_type": "stream",
          "text": [
            "0\n",
            "1\n",
            "1\n",
            "2\n",
            "3\n",
            "5\n",
            "8\n",
            "13\n",
            "21\n",
            "34\n"
          ]
        }
      ],
      "source": [
        "# write a program to print fibonacci series using recursion\n",
        "\n",
        "def fibonacci_recursive(n : int) -> int:\n",
        "  if n <= 1:\n",
        "    return n\n",
        "  else:\n",
        "    return(fibonacci_recursive(n-1) + fibonacci_recursive(n-2))\n",
        "\n",
        "for i in range(10):\n",
        "    print(fibonacci_recursive(i))"
      ]
    },
    {
      "cell_type": "code",
      "execution_count": null,
      "id": "LJ_vSBsruA4o",
      "metadata": {
        "colab": {
          "base_uri": "https://localhost:8080/"
        },
        "id": "LJ_vSBsruA4o",
        "outputId": "565b3d7c-4f48-4ab2-dbf4-a9a6d0794124"
      },
      "outputs": [
        {
          "name": "stdout",
          "output_type": "stream",
          "text": [
            "number of vowels in this sentence: 6\n"
          ]
        }
      ],
      "source": [
        "# write a program to count vowel count in a sentence.\n",
        "# 1. my way\n",
        "\n",
        "def vowel_count(sentence : str) -> int:\n",
        "    vowels = ['a', 'e', 'i', 'o', 'u']\n",
        "    count = 0\n",
        "    for i in sentence.lower():\n",
        "        if i in vowels:\n",
        "            count += 1\n",
        "    return count\n",
        "\n",
        "s = \"Hello world this is python.\"\n",
        "print(f\"number of vowels in this sentence: {vowel_count(s)}\")"
      ]
    },
    {
      "cell_type": "code",
      "execution_count": null,
      "id": "5N9rwbXs8CHw",
      "metadata": {
        "colab": {
          "base_uri": "https://localhost:8080/"
        },
        "id": "5N9rwbXs8CHw",
        "outputId": "0d59f80a-35e3-422d-fbc0-a1ddbd2128c3"
      },
      "outputs": [
        {
          "name": "stdout",
          "output_type": "stream",
          "text": [
            "6\n"
          ]
        }
      ],
      "source": [
        "# 2. using comprehensions.\n",
        "\n",
        "s = \"Hello world this is python.\"\n",
        "count = sum(1 for ch in s if ch in \"aeiou\")\n",
        "print(count)  # Output: number of vowels"
      ]
    },
    {
      "cell_type": "code",
      "execution_count": null,
      "id": "rDakMEJvw-EH",
      "metadata": {
        "colab": {
          "base_uri": "https://localhost:8080/"
        },
        "id": "rDakMEJvw-EH",
        "outputId": "3a0d562d-7a49-4ced-f66b-6c0c4779ba23"
      },
      "outputs": [
        {
          "name": "stdout",
          "output_type": "stream",
          "text": [
            "hello ld this is python\n"
          ]
        }
      ],
      "source": [
        "# write a program to remove a particular string from a string.\n",
        "# without .replace() method.\n",
        "\n",
        "def remove_str(sentence : str, remove : str) -> str:\n",
        "    result = \"\"\n",
        "\n",
        "    i = 0\n",
        "    while(i < len(sentence)):\n",
        "        if (sentence[i : i + len(remove)] == remove):\n",
        "            i += len(remove)\n",
        "        else:\n",
        "            result += sentence[i]\n",
        "            i += 1\n",
        "\n",
        "    return result\n",
        "\n",
        "sentence = \"hello world this is python\"\n",
        "remove = \"wor\"\n",
        "\n",
        "print(remove_str(sentence, remove))"
      ]
    },
    {
      "cell_type": "code",
      "execution_count": null,
      "id": "ibSWtR1-yp6-",
      "metadata": {
        "colab": {
          "base_uri": "https://localhost:8080/"
        },
        "id": "ibSWtR1-yp6-",
        "outputId": "13daedf5-bb9a-4639-8867-0cca8d0f8bad"
      },
      "outputs": [
        {
          "name": "stdout",
          "output_type": "stream",
          "text": [
            "hell wrld this is pythn\n"
          ]
        }
      ],
      "source": [
        "# write a program to remove a particular string from a string.\n",
        "# without .replace() method.\n",
        "\n",
        "def remove_str(sentence, remove):\n",
        "    for i, v in enumerate(sentence):\n",
        "        if remove == sentence[i:i + len(remove)]:\n",
        "            sentence = sentence[:i] + sentence[i + len(remove):]\n",
        "    return sentence\n",
        "\n",
        "sentence = \"hello world this is python\"\n",
        "remove = \"o\"\n",
        "\n",
        "print(remove_str(sentence, remove))"
      ]
    },
    {
      "cell_type": "code",
      "execution_count": null,
      "id": "9d3b2187",
      "metadata": {
        "id": "9d3b2187"
      },
      "outputs": [],
      "source": [
        "def repl_count(s : str, ch_to_repl : str, ch_repl_with : str, count : int = 1):\n",
        "    res = \"\"\n",
        "    for ch in s:\n",
        "        if (ch == ch_to_repl and count):\n",
        "            res += ch_repl_with\n",
        "            count -= 1\n",
        "        else:\n",
        "            res += ch\n",
        "    return res\n",
        "\n",
        "print(repl_count(\"Hello World\", 'l', 'r', 2))"
      ]
    },
    {
      "cell_type": "code",
      "execution_count": null,
      "id": "66aeaf71",
      "metadata": {
        "id": "66aeaf71",
        "outputId": "8875be66-0b10-4f86-f7b3-8ff89c067288"
      },
      "outputs": [
        {
          "name": "stdout",
          "output_type": "stream",
          "text": [
            "11110101\n"
          ]
        }
      ],
      "source": [
        "x = ~10\n",
        "bits = 8\n",
        "print(f'{x & (2**bits - 1):0{bits}b}')"
      ]
    },
    {
      "cell_type": "markdown",
      "id": "a4ce9dc3",
      "metadata": {
        "id": "a4ce9dc3"
      },
      "source": [
        "# OOPS"
      ]
    }
  ],
  "metadata": {
    "colab": {
      "provenance": []
    },
    "kernelspec": {
      "display_name": "Python 3",
      "language": "python",
      "name": "python3"
    },
    "language_info": {
      "codemirror_mode": {
        "name": "ipython",
        "version": 3
      },
      "file_extension": ".py",
      "mimetype": "text/x-python",
      "name": "python",
      "nbconvert_exporter": "python",
      "pygments_lexer": "ipython3",
      "version": "3.10.12"
    }
  },
  "nbformat": 4,
  "nbformat_minor": 5
}