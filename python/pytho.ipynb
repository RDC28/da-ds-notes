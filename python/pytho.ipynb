{
  "cells": [
    {
      "cell_type": "code",
      "execution_count": null,
      "id": "85ffff96",
      "metadata": {
        "id": "85ffff96"
      },
      "outputs": [],
      "source": [
        "a=10"
      ]
    },
    {
      "cell_type": "code",
      "execution_count": null,
      "id": "5202e721",
      "metadata": {
        "id": "5202e721"
      },
      "outputs": [],
      "source": [
        "print (a)"
      ]
    },
    {
      "cell_type": "code",
      "execution_count": null,
      "id": "7ff2274f",
      "metadata": {
        "id": "7ff2274f"
      },
      "outputs": [],
      "source": [
        "print (type(a))"
      ]
    },
    {
      "cell_type": "code",
      "execution_count": null,
      "id": "6be87a4c",
      "metadata": {
        "id": "6be87a4c"
      },
      "outputs": [],
      "source": [
        "print (id(a))"
      ]
    },
    {
      "cell_type": "code",
      "execution_count": null,
      "id": "c37be7cc",
      "metadata": {
        "id": "c37be7cc"
      },
      "outputs": [],
      "source": [
        "b = 103.4\n"
      ]
    },
    {
      "cell_type": "code",
      "execution_count": null,
      "id": "73d1e549",
      "metadata": {
        "id": "73d1e549"
      },
      "outputs": [],
      "source": [
        "print (type(b))"
      ]
    },
    {
      "cell_type": "code",
      "execution_count": null,
      "id": "f5b8fbd2",
      "metadata": {
        "id": "f5b8fbd2"
      },
      "outputs": [],
      "source": [
        "a = float(a)\n",
        "print (type(a))"
      ]
    },
    {
      "cell_type": "code",
      "execution_count": null,
      "id": "3b4d3754",
      "metadata": {
        "id": "3b4d3754"
      },
      "outputs": [],
      "source": [
        "c = \"hello\"\n",
        "print (c)"
      ]
    },
    {
      "cell_type": "code",
      "execution_count": null,
      "id": "c201a57d",
      "metadata": {
        "id": "c201a57d"
      },
      "outputs": [],
      "source": [
        "d = 1+0j"
      ]
    },
    {
      "cell_type": "code",
      "execution_count": null,
      "id": "1278ad2f",
      "metadata": {
        "id": "1278ad2f"
      },
      "outputs": [],
      "source": [
        "print (type(d))"
      ]
    },
    {
      "cell_type": "code",
      "execution_count": null,
      "id": "eead6d72",
      "metadata": {
        "id": "eead6d72"
      },
      "outputs": [],
      "source": [
        "e = None\n",
        "print (type(e))"
      ]
    },
    {
      "cell_type": "code",
      "execution_count": null,
      "id": "bf87a436",
      "metadata": {
        "id": "bf87a436"
      },
      "outputs": [],
      "source": [
        "f = True\n",
        "print (type(f))"
      ]
    },
    {
      "cell_type": "code",
      "execution_count": null,
      "id": "0736b49a",
      "metadata": {
        "id": "0736b49a"
      },
      "outputs": [],
      "source": [
        "15/4"
      ]
    },
    {
      "cell_type": "code",
      "execution_count": null,
      "id": "0e9ed8fd",
      "metadata": {
        "id": "0e9ed8fd"
      },
      "outputs": [],
      "source": [
        "10+2"
      ]
    },
    {
      "cell_type": "code",
      "execution_count": null,
      "id": "367787db",
      "metadata": {
        "id": "367787db"
      },
      "outputs": [],
      "source": [
        "13-4"
      ]
    },
    {
      "cell_type": "code",
      "execution_count": null,
      "id": "a9a9641e",
      "metadata": {
        "id": "a9a9641e"
      },
      "outputs": [],
      "source": [
        "print (12*3)"
      ]
    },
    {
      "cell_type": "code",
      "execution_count": null,
      "id": "2fbacb24",
      "metadata": {
        "id": "2fbacb24"
      },
      "outputs": [],
      "source": [
        "print (18//4)"
      ]
    },
    {
      "cell_type": "code",
      "execution_count": null,
      "id": "db599f78",
      "metadata": {
        "id": "db599f78"
      },
      "outputs": [],
      "source": [
        "18%4"
      ]
    },
    {
      "cell_type": "code",
      "execution_count": null,
      "id": "837ee113",
      "metadata": {
        "id": "837ee113"
      },
      "outputs": [],
      "source": [
        "a,b"
      ]
    },
    {
      "cell_type": "code",
      "execution_count": null,
      "id": "8f29bd98",
      "metadata": {
        "id": "8f29bd98"
      },
      "outputs": [],
      "source": [
        "print(\"a+b=\",a+b,sep=\"  \")\n",
        "print(\"a-b=\",a-b,sep=\"  \")\n",
        "print(\"a*b=\", a*b)\n",
        "print (\"a**b=\",a**b, sep=\"  \")"
      ]
    },
    {
      "cell_type": "code",
      "execution_count": null,
      "id": "6c88811f",
      "metadata": {
        "id": "6c88811f"
      },
      "outputs": [],
      "source": [
        "a"
      ]
    },
    {
      "cell_type": "code",
      "execution_count": null,
      "id": "2d43aac6",
      "metadata": {
        "id": "2d43aac6"
      },
      "outputs": [],
      "source": [
        "a=a+2\n",
        "print (a)"
      ]
    },
    {
      "cell_type": "code",
      "execution_count": null,
      "id": "c0268f90",
      "metadata": {
        "id": "c0268f90"
      },
      "outputs": [],
      "source": [
        "a+=2\n",
        "print(a)"
      ]
    },
    {
      "cell_type": "code",
      "execution_count": null,
      "id": "448d16dd",
      "metadata": {
        "id": "448d16dd"
      },
      "outputs": [],
      "source": [
        "a-=2\n",
        "print(a)"
      ]
    },
    {
      "cell_type": "code",
      "execution_count": null,
      "id": "7a833eb8",
      "metadata": {
        "id": "7a833eb8"
      },
      "outputs": [],
      "source": [
        "a*=2\n",
        "print (a)"
      ]
    },
    {
      "cell_type": "code",
      "execution_count": null,
      "id": "8dd5de5d",
      "metadata": {
        "id": "8dd5de5d"
      },
      "outputs": [],
      "source": [
        "a/=2\n",
        "print(a)"
      ]
    },
    {
      "cell_type": "code",
      "execution_count": null,
      "id": "95e8d528",
      "metadata": {
        "id": "95e8d528"
      },
      "outputs": [],
      "source": [
        "a%=2\n",
        "print (a)"
      ]
    },
    {
      "cell_type": "code",
      "execution_count": null,
      "id": "ba13ad22",
      "metadata": {
        "id": "ba13ad22"
      },
      "outputs": [],
      "source": [
        "10==10"
      ]
    },
    {
      "cell_type": "code",
      "execution_count": null,
      "id": "ab0add71",
      "metadata": {
        "id": "ab0add71"
      },
      "outputs": [],
      "source": [
        "'10'==10"
      ]
    },
    {
      "cell_type": "code",
      "execution_count": null,
      "id": "eade3187",
      "metadata": {
        "id": "eade3187"
      },
      "outputs": [],
      "source": [
        "1 and 1"
      ]
    },
    {
      "cell_type": "code",
      "execution_count": null,
      "id": "1b8ff70f",
      "metadata": {
        "id": "1b8ff70f"
      },
      "outputs": [],
      "source": [
        "bool(2 and \"\")"
      ]
    },
    {
      "cell_type": "code",
      "execution_count": null,
      "id": "d90305e1",
      "metadata": {
        "id": "d90305e1"
      },
      "outputs": [],
      "source": [
        "bool(None)"
      ]
    },
    {
      "cell_type": "code",
      "execution_count": null,
      "id": "d814c468",
      "metadata": {
        "id": "d814c468"
      },
      "outputs": [],
      "source": [
        "bool(\"\")"
      ]
    },
    {
      "cell_type": "code",
      "execution_count": null,
      "id": "13843b8c",
      "metadata": {
        "id": "13843b8c"
      },
      "outputs": [],
      "source": [
        "bool(0)"
      ]
    },
    {
      "cell_type": "code",
      "execution_count": null,
      "id": "090f899f",
      "metadata": {
        "id": "090f899f"
      },
      "outputs": [],
      "source": [
        "bool({})"
      ]
    },
    {
      "cell_type": "code",
      "execution_count": null,
      "id": "4ca65d79",
      "metadata": {
        "id": "4ca65d79"
      },
      "outputs": [],
      "source": [
        "bool([])"
      ]
    },
    {
      "cell_type": "code",
      "execution_count": null,
      "id": "c3894896",
      "metadata": {
        "id": "c3894896"
      },
      "outputs": [],
      "source": [
        "1 and 0 or True"
      ]
    },
    {
      "cell_type": "code",
      "execution_count": null,
      "id": "c42704c6",
      "metadata": {
        "id": "c42704c6"
      },
      "outputs": [],
      "source": [
        "1 or 0 and True"
      ]
    },
    {
      "cell_type": "code",
      "execution_count": null,
      "id": "af3440aa",
      "metadata": {
        "id": "af3440aa"
      },
      "outputs": [],
      "source": [
        "4**2**3"
      ]
    },
    {
      "cell_type": "code",
      "execution_count": null,
      "id": "8893c6d4",
      "metadata": {
        "id": "8893c6d4"
      },
      "outputs": [],
      "source": [
        "4**8"
      ]
    },
    {
      "cell_type": "code",
      "execution_count": null,
      "id": "dca82cf8",
      "metadata": {
        "id": "dca82cf8"
      },
      "outputs": [],
      "source": [
        "not 1"
      ]
    },
    {
      "cell_type": "code",
      "execution_count": null,
      "id": "19600c60",
      "metadata": {
        "id": "19600c60"
      },
      "outputs": [],
      "source": [
        "not True"
      ]
    },
    {
      "cell_type": "code",
      "execution_count": null,
      "id": "4e340a64",
      "metadata": {
        "id": "4e340a64"
      },
      "outputs": [],
      "source": [
        "not 0"
      ]
    },
    {
      "cell_type": "code",
      "execution_count": null,
      "id": "404d5de9",
      "metadata": {
        "id": "404d5de9"
      },
      "outputs": [],
      "source": [
        "7 & 8"
      ]
    },
    {
      "cell_type": "code",
      "execution_count": null,
      "id": "cb1fc007",
      "metadata": {
        "id": "cb1fc007"
      },
      "outputs": [],
      "source": [
        "7|8"
      ]
    },
    {
      "cell_type": "code",
      "execution_count": null,
      "id": "62b738a8",
      "metadata": {
        "id": "62b738a8"
      },
      "outputs": [],
      "source": [
        "0b1111"
      ]
    },
    {
      "cell_type": "code",
      "execution_count": null,
      "id": "c287ddbb",
      "metadata": {
        "id": "c287ddbb"
      },
      "outputs": [],
      "source": [
        "0x1111"
      ]
    },
    {
      "cell_type": "code",
      "execution_count": null,
      "id": "7bb70679",
      "metadata": {
        "id": "7bb70679"
      },
      "outputs": [],
      "source": [
        "0xf"
      ]
    },
    {
      "cell_type": "code",
      "execution_count": null,
      "id": "6127e550",
      "metadata": {
        "id": "6127e550"
      },
      "outputs": [],
      "source": [
        "0o111"
      ]
    },
    {
      "cell_type": "code",
      "execution_count": null,
      "id": "01b779f2",
      "metadata": {
        "id": "01b779f2"
      },
      "outputs": [],
      "source": [
        "0o1111"
      ]
    },
    {
      "cell_type": "code",
      "execution_count": null,
      "id": "36fd366a",
      "metadata": {
        "id": "36fd366a"
      },
      "outputs": [],
      "source": [
        "~10"
      ]
    },
    {
      "cell_type": "code",
      "execution_count": null,
      "id": "46966fd1",
      "metadata": {
        "id": "46966fd1"
      },
      "outputs": [],
      "source": [
        "~-11"
      ]
    },
    {
      "cell_type": "code",
      "execution_count": null,
      "id": "0436ba36",
      "metadata": {
        "id": "0436ba36"
      },
      "outputs": [],
      "source": [
        "7^8"
      ]
    },
    {
      "cell_type": "code",
      "execution_count": null,
      "id": "fbba0449",
      "metadata": {
        "id": "fbba0449"
      },
      "outputs": [],
      "source": [
        "8^8"
      ]
    },
    {
      "cell_type": "code",
      "execution_count": null,
      "id": "cbe2724e",
      "metadata": {
        "id": "cbe2724e"
      },
      "outputs": [],
      "source": [
        "num = 10\n",
        "if num>0:\n",
        "    print (\"POSITIVE\")\n",
        "    print (num)\n",
        "else:\n",
        "    print (\"NEGATIVE\")"
      ]
    },
    {
      "cell_type": "code",
      "execution_count": null,
      "id": "60c537d8",
      "metadata": {
        "id": "60c537d8"
      },
      "outputs": [],
      "source": [
        "num = 10\n",
        "if num>0:\n",
        "    print (\"POSITIVE\")\n",
        "       print (num)\n",
        "    else:\n",
        "    print (\"NEGATIVE\")"
      ]
    },
    {
      "cell_type": "code",
      "execution_count": null,
      "id": "993a833f",
      "metadata": {
        "id": "993a833f"
      },
      "outputs": [],
      "source": [
        "num = 10\n",
        "if num>0:"
      ]
    },
    {
      "cell_type": "code",
      "execution_count": null,
      "id": "d5a26990",
      "metadata": {
        "id": "d5a26990"
      },
      "outputs": [],
      "source": [
        "num = 10\n",
        "if num>0:\n",
        "   pass"
      ]
    },
    {
      "cell_type": "code",
      "execution_count": null,
      "id": "b6fefbf7",
      "metadata": {
        "id": "b6fefbf7"
      },
      "outputs": [],
      "source": [
        "7>>2"
      ]
    },
    {
      "cell_type": "code",
      "execution_count": null,
      "id": "e5adae58",
      "metadata": {
        "id": "e5adae58"
      },
      "outputs": [],
      "source": [
        "7<<2"
      ]
    },
    {
      "cell_type": "code",
      "execution_count": null,
      "id": "8d1f22e5",
      "metadata": {
        "id": "8d1f22e5"
      },
      "outputs": [],
      "source": [
        "if False:\n",
        "    print (\"true statement\")\n",
        "else:\n",
        "    print (\"false statement \")"
      ]
    },
    {
      "cell_type": "code",
      "execution_count": null,
      "id": "4ed26683",
      "metadata": {
        "id": "4ed26683"
      },
      "outputs": [],
      "source": [
        "num = 114\n",
        "if num%2:\n",
        "    print (num,\" is odd\")\n",
        "else:\n",
        "    print (num,\" is even\")"
      ]
    },
    {
      "cell_type": "code",
      "execution_count": null,
      "id": "bb446fc7",
      "metadata": {
        "id": "bb446fc7"
      },
      "outputs": [],
      "source": [
        "print (input(\"enter a number\"))"
      ]
    },
    {
      "cell_type": "code",
      "execution_count": null,
      "id": "597426d8",
      "metadata": {
        "id": "597426d8"
      },
      "outputs": [],
      "source": [
        "num = int(input('enter a number'))\n",
        "print (type(num))"
      ]
    },
    {
      "cell_type": "code",
      "execution_count": null,
      "id": "1b6c6b0d",
      "metadata": {
        "id": "1b6c6b0d"
      },
      "outputs": [],
      "source": [
        "num =  int(input('enter a number'))\n",
        "if num%2:\n",
        "    print (num,\" is odd\")\n",
        "else:\n",
        "    print (num,\" is even\")"
      ]
    },
    {
      "cell_type": "code",
      "execution_count": null,
      "id": "b4aff987",
      "metadata": {
        "id": "b4aff987"
      },
      "outputs": [],
      "source": [
        "num =  int(input('enter a number'))\n",
        "if num%2:\n",
        "    print (num,\" is odd\")\n",
        "else:\n",
        "    print (num,\" is even\")"
      ]
    },
    {
      "cell_type": "code",
      "execution_count": null,
      "id": "6aa8e73c",
      "metadata": {
        "id": "6aa8e73c"
      },
      "outputs": [],
      "source": [
        "chr(65)"
      ]
    },
    {
      "cell_type": "code",
      "execution_count": null,
      "id": "653cf1e0",
      "metadata": {
        "id": "653cf1e0"
      },
      "outputs": [],
      "source": [
        "ord('A')"
      ]
    },
    {
      "cell_type": "code",
      "execution_count": null,
      "id": "a4d14d8d",
      "metadata": {
        "id": "a4d14d8d"
      },
      "outputs": [],
      "source": [
        "ord('0')"
      ]
    },
    {
      "cell_type": "code",
      "execution_count": null,
      "id": "770d2cb7",
      "metadata": {
        "id": "770d2cb7"
      },
      "outputs": [],
      "source": [
        "chr(9)"
      ]
    },
    {
      "cell_type": "code",
      "execution_count": null,
      "id": "bd1f78a5",
      "metadata": {
        "id": "bd1f78a5"
      },
      "outputs": [],
      "source": [
        "print('It is \"Python\"')"
      ]
    },
    {
      "cell_type": "code",
      "execution_count": null,
      "id": "9eaa26c1",
      "metadata": {
        "id": "9eaa26c1"
      },
      "outputs": [],
      "source": [
        "print (\"it's python\")"
      ]
    },
    {
      "cell_type": "code",
      "execution_count": null,
      "id": "92552704",
      "metadata": {
        "id": "92552704"
      },
      "outputs": [],
      "source": [
        "print ('it\\'s \"python\"')"
      ]
    },
    {
      "cell_type": "code",
      "execution_count": null,
      "id": "c2537bac",
      "metadata": {
        "id": "c2537bac"
      },
      "outputs": [],
      "source": [
        "print (\"it's \\\"python\\\"\")"
      ]
    },
    {
      "cell_type": "code",
      "execution_count": null,
      "id": "400985c6",
      "metadata": {
        "id": "400985c6"
      },
      "outputs": [],
      "source": [
        "print (\"\\\\n is for new line\")"
      ]
    },
    {
      "cell_type": "code",
      "execution_count": null,
      "id": "29f7478b",
      "metadata": {
        "id": "29f7478b"
      },
      "outputs": [],
      "source": [
        "print ('it\\'s \"\\\\t\" for tab space')"
      ]
    },
    {
      "cell_type": "code",
      "execution_count": null,
      "id": "24bb5f8a",
      "metadata": {
        "id": "24bb5f8a"
      },
      "outputs": [],
      "source": [
        "print (\"/home/quastech/yash/pytho.ipynb\")"
      ]
    },
    {
      "cell_type": "code",
      "execution_count": null,
      "id": "3813aacf",
      "metadata": {
        "id": "3813aacf"
      },
      "outputs": [],
      "source": [
        "print(r'\\t\\n')"
      ]
    },
    {
      "cell_type": "code",
      "execution_count": null,
      "id": "607b9ebe",
      "metadata": {
        "id": "607b9ebe"
      },
      "outputs": [],
      "source": [
        "name = \"Yash\"\n",
        "age = 21\n",
        "salary = 20000"
      ]
    },
    {
      "cell_type": "code",
      "execution_count": null,
      "id": "3e348242",
      "metadata": {
        "id": "3e348242"
      },
      "outputs": [],
      "source": [
        "print (\"my name is\",name, \"i am\",age,\"years old and my salary is\", salary )"
      ]
    },
    {
      "cell_type": "code",
      "execution_count": null,
      "id": "1d8dcfe2",
      "metadata": {
        "id": "1d8dcfe2"
      },
      "outputs": [],
      "source": [
        "print(f\"my name is {name}, i am {age}, years old and my salary is{salary}\")"
      ]
    },
    {
      "cell_type": "code",
      "execution_count": null,
      "id": "9245917c",
      "metadata": {
        "id": "9245917c"
      },
      "outputs": [],
      "source": [
        "print (\"\"\"hello\n",
        "       hi\n",
        "       \"\"\")"
      ]
    },
    {
      "cell_type": "code",
      "execution_count": null,
      "id": "75d2e15a",
      "metadata": {
        "id": "75d2e15a"
      },
      "outputs": [],
      "source": [
        "age = 10\n",
        "t = 0\n",
        "if age > 12:\n",
        "    t = 10\n",
        "else:\n",
        "    t = 5\n",
        "print(t)"
      ]
    },
    {
      "cell_type": "code",
      "execution_count": null,
      "id": "1f911c89",
      "metadata": {
        "id": "1f911c89"
      },
      "outputs": [],
      "source": [
        "age = 19\n",
        "t = 10 if age>12 else 5\n",
        "print(t)"
      ]
    },
    {
      "cell_type": "code",
      "execution_count": null,
      "id": "9511e9dd",
      "metadata": {
        "id": "9511e9dd"
      },
      "outputs": [],
      "source": [
        "32+2"
      ]
    },
    {
      "cell_type": "code",
      "execution_count": null,
      "id": "f2e27586",
      "metadata": {
        "id": "f2e27586"
      },
      "outputs": [],
      "source": [
        "num = 20\n",
        "result= f\"{num} is odd\" if num%2 else f\"{num} is even\"\n",
        "print(result)"
      ]
    },
    {
      "cell_type": "code",
      "execution_count": null,
      "id": "9addd4b9",
      "metadata": {
        "id": "9addd4b9"
      },
      "outputs": [],
      "source": [
        "a=10\n",
        "b=20\n",
        "c=a\n",
        "a=b\n",
        "b=c\n",
        "print (a,b)"
      ]
    },
    {
      "cell_type": "code",
      "execution_count": null,
      "id": "f82b29f0",
      "metadata": {
        "id": "f82b29f0"
      },
      "outputs": [],
      "source": [
        "a=10\n",
        "b=20\n",
        "a,b=b,a\n",
        "print (a,b)"
      ]
    },
    {
      "cell_type": "code",
      "execution_count": null,
      "id": "b209c50c",
      "metadata": {
        "id": "b209c50c"
      },
      "outputs": [],
      "source": [
        "a=10\n",
        "b=20\n",
        "a=a+b\n",
        "b=a-b\n",
        "a=a-b\n",
        "print(a,b)"
      ]
    },
    {
      "cell_type": "code",
      "execution_count": null,
      "id": "19489811",
      "metadata": {
        "id": "19489811"
      },
      "outputs": [],
      "source": [
        "s = \"Hello World\"\n",
        "s[5]"
      ]
    },
    {
      "cell_type": "code",
      "execution_count": null,
      "id": "0bd189a6",
      "metadata": {
        "id": "0bd189a6"
      },
      "outputs": [],
      "source": [
        "s = 'Hello World'\n",
        "s[0:11]"
      ]
    },
    {
      "cell_type": "code",
      "execution_count": null,
      "id": "5d7b453e",
      "metadata": {
        "id": "5d7b453e"
      },
      "outputs": [],
      "source": [
        "s[:]"
      ]
    },
    {
      "cell_type": "code",
      "execution_count": null,
      "id": "df27dbf9",
      "metadata": {
        "id": "df27dbf9"
      },
      "outputs": [],
      "source": [
        "s = \"0123456789\"\n",
        "s[0:len(s):1]"
      ]
    },
    {
      "cell_type": "code",
      "execution_count": null,
      "id": "34645677",
      "metadata": {
        "id": "34645677"
      },
      "outputs": [],
      "source": [
        "s[-1]"
      ]
    },
    {
      "cell_type": "code",
      "execution_count": null,
      "id": "87d6351b",
      "metadata": {
        "id": "87d6351b"
      },
      "outputs": [],
      "source": [
        "s[::-1]"
      ]
    },
    {
      "cell_type": "code",
      "execution_count": null,
      "id": "a09cd828",
      "metadata": {
        "id": "a09cd828"
      },
      "outputs": [],
      "source": [
        "print(s[0::2]) # print even indexes\n",
        "print(s[1::2]) # print odd indexes\n",
        "print(s[::-1]) # print in reverse"
      ]
    },
    {
      "cell_type": "code",
      "execution_count": null,
      "id": "26b64418",
      "metadata": {
        "id": "26b64418"
      },
      "outputs": [],
      "source": [
        "print(s[5:1:-1])"
      ]
    },
    {
      "cell_type": "code",
      "execution_count": null,
      "id": "efd13403",
      "metadata": {
        "id": "efd13403"
      },
      "outputs": [],
      "source": [
        "print(s[::-2]) # print odd indexes in reverse\n",
        "print(s[-2::-2]) # print even indexes in reverse"
      ]
    },
    {
      "cell_type": "code",
      "execution_count": null,
      "id": "2dc2948d",
      "metadata": {
        "id": "2dc2948d"
      },
      "outputs": [],
      "source": [
        "s = \"abcdefghij\" # practice\n",
        "print(s[4::5])\n",
        "print(s[::3])\n",
        "print(s[5::-5])\n",
        "print(s[7:0:-3])\n",
        "print(s[:0:-4])"
      ]
    },
    {
      "cell_type": "code",
      "execution_count": null,
      "id": "ab63436f",
      "metadata": {
        "id": "ab63436f"
      },
      "outputs": [],
      "source": []
    },
    {
      "cell_type": "code",
      "execution_count": null,
      "id": "e017759b",
      "metadata": {
        "id": "e017759b"
      },
      "outputs": [],
      "source": [
        "# string methods\n",
        "\n",
        "s = \"Hello World\"\n",
        "\n",
        "print(\"uppercase:\", s.upper())\n",
        "print(\"lowercase:\", s.lower())\n",
        "print(\"title case:\", s.title())\n",
        "print(\"capitalised:\", s.capitalize())\n",
        "print(\"index of 'W':\", s.index(\"W\"))\n",
        "print(\"found 'r' at:\", s.find(\"r\"))\n",
        "print(\"count of 'l':\", s.count(\"l\"))\n",
        "print(\"casefold:\", s.casefold())\n",
        "print(\"split using ' ':\", s.split(\" \"))\n",
        "print(\"replaced 'H' with 'j':\", s.replace(\"H\", \"J\"))\n",
        "\"=\".join(['Hello', 'World', 'this', 'is', 'python'])\n"
      ]
    },
    {
      "cell_type": "code",
      "execution_count": null,
      "id": "e29eec11",
      "metadata": {
        "id": "e29eec11"
      },
      "outputs": [],
      "source": [
        "# string methods\n",
        "\n",
        "s = \"            Hello        world             \"\n",
        "\n",
        "print(\"removed whitespace from left only:\", s.lstrip())\n",
        "print(\"removed whitespace from right only:\", s.rstrip())\n",
        "print(\"removed whitespace from both sides:\", s.strip())"
      ]
    },
    {
      "cell_type": "code",
      "execution_count": null,
      "id": "13125170",
      "metadata": {
        "id": "13125170"
      },
      "outputs": [],
      "source": [
        "# string methods\n",
        "\n",
        "s = \"apple\"\n",
        "\n",
        "ljust_text = s.ljust(10, \"*\")\n",
        "rjust_text = s.rjust(10, \"-\")\n",
        "center_text = s.center(50, \"~\")\n",
        "\n",
        "print(ljust_text)\n",
        "print(rjust_text)\n",
        "print(center_text)\n"
      ]
    },
    {
      "cell_type": "code",
      "execution_count": null,
      "id": "PUUTcxAsb7pZ",
      "metadata": {
        "id": "PUUTcxAsb7pZ"
      },
      "outputs": [],
      "source": [
        "# string methods\n",
        "\n",
        "s = \"hEllo WoRld\"\n",
        "\n",
        "print(s.swapcase())"
      ]
    },
    {
      "cell_type": "code",
      "execution_count": null,
      "id": "LlqU5DvYcRoP",
      "metadata": {
        "id": "LlqU5DvYcRoP"
      },
      "outputs": [],
      "source": [
        "# string methods\n",
        "\n",
        "s = \"Hello\\n World\\n this is Python\"\n",
        "\n",
        "print(s.splitlines())"
      ]
    },
    {
      "cell_type": "code",
      "execution_count": null,
      "id": "KYFRFOwCcsiK",
      "metadata": {
        "id": "KYFRFOwCcsiK"
      },
      "outputs": [],
      "source": [
        "# string methods\n",
        "\n",
        "name = \"Rohit\"\n",
        "age = 20\n",
        "score = 123.123\n",
        "\n",
        "sentence_1 = \"Hi, I am {} and I am {} years old\"\n",
        "sentence_2 = \"Hi, I am {var1} and I am {var2} years old\"\n",
        "\n",
        "print(sentence_1.format(name, age))\n",
        "print(sentence_2.format(var1=name, var2=age))"
      ]
    },
    {
      "cell_type": "code",
      "execution_count": null,
      "id": "p06qrVPmdZev",
      "metadata": {
        "id": "p06qrVPmdZev"
      },
      "outputs": [],
      "source": [
        "\"hi\"\"hello\""
      ]
    },
    {
      "cell_type": "code",
      "execution_count": null,
      "id": "658978ec",
      "metadata": {
        "id": "658978ec"
      },
      "outputs": [],
      "source": [
        "\"hi\"+\"hello\""
      ]
    },
    {
      "cell_type": "code",
      "execution_count": null,
      "id": "865c9273",
      "metadata": {
        "id": "865c9273"
      },
      "outputs": [],
      "source": [
        "\"Hi \" * 3"
      ]
    },
    {
      "cell_type": "code",
      "execution_count": null,
      "id": "9ce6b1c7",
      "metadata": {
        "id": "9ce6b1c7"
      },
      "outputs": [],
      "source": [
        "# string formatting\n",
        "\n",
        "print(\"hi, i am %s and i am %d years old and i scored %.2f\" % (name, age, score))\n",
        "print(f\"Score: {score:.2f}\")"
      ]
    },
    {
      "cell_type": "code",
      "execution_count": null,
      "id": "0d8e2753",
      "metadata": {
        "id": "0d8e2753"
      },
      "outputs": [],
      "source": [
        "# if-else\n",
        "\n",
        "a, b = 10, 20\n",
        "\n",
        "if a > b:\n",
        "    print(f\"{a} is greater than {b}\")\n",
        "else:\n",
        "    print(f\"{b} is greater than {a}\")"
      ]
    },
    {
      "cell_type": "code",
      "execution_count": null,
      "id": "dc75bbf9",
      "metadata": {
        "id": "dc75bbf9"
      },
      "outputs": [],
      "source": [
        "# comparing 3 numbers using if-else\n",
        "\n",
        "a, b, c = 40, 30, 20\n",
        "\n",
        "if (a > b):\n",
        "    if (a > c):\n",
        "        print(f\"{a} is greater than {b} and {c}\")\n",
        "else:\n",
        "    if (b > c):\n",
        "        print(f\"{b} is greater than {a} and {c}\")\n",
        "    else:\n",
        "        print(f\"{c} is greater than {a} and {b}\")"
      ]
    },
    {
      "cell_type": "code",
      "execution_count": null,
      "id": "b53a4e2c",
      "metadata": {
        "id": "b53a4e2c"
      },
      "outputs": [],
      "source": [
        "# comparing 3 numbers using elif\n",
        "\n",
        "a, b, c = 40, 30, 50\n",
        "\n",
        "if (a > b) and (a > c):\n",
        "    print(f\"{a} is greater than {b} and {c}\")\n",
        "elif (b > c):\n",
        "    print(f\"{b} is greater than {a} and {c}\")\n",
        "else:\n",
        "    print(f\"{c} is greater than {a} and {b}\")"
      ]
    },
    {
      "cell_type": "code",
      "execution_count": null,
      "id": "f730b7da",
      "metadata": {
        "id": "f730b7da"
      },
      "outputs": [],
      "source": [
        "# switch case version in python\n",
        "\n",
        "num = 3\n",
        "match num:\n",
        "    case 1:\n",
        "        print(\"one\")\n",
        "    case 2:\n",
        "        print(\"two\")\n",
        "    case 3:\n",
        "        print(\"three\")\n",
        "    case _:\n",
        "        print(\"not found\")"
      ]
    },
    {
      "cell_type": "code",
      "execution_count": null,
      "id": "a059c159",
      "metadata": {
        "id": "a059c159"
      },
      "outputs": [],
      "source": [
        "# for iterator\n",
        "\n",
        "for i in \"123\":\n",
        "    print(\"Hi!\")"
      ]
    },
    {
      "cell_type": "code",
      "execution_count": null,
      "id": "63c27800",
      "metadata": {
        "id": "63c27800"
      },
      "outputs": [],
      "source": [
        "for i in range(10):\n",
        "    print(\"hi!\", i)"
      ]
    },
    {
      "cell_type": "code",
      "execution_count": null,
      "id": "0005fb2e",
      "metadata": {
        "id": "0005fb2e"
      },
      "outputs": [],
      "source": [
        "num = int(input(\"Enter a number: \"))\n",
        "\n",
        "for i in range(1, 11):\n",
        "    print(f\"{num} x {i} = {num * i}\")"
      ]
    },
    {
      "cell_type": "code",
      "execution_count": null,
      "id": "047624d0",
      "metadata": {
        "id": "047624d0"
      },
      "outputs": [],
      "source": [
        "i = 0\n",
        "\n",
        "while (i < 4):\n",
        "    print(i)\n",
        "    i += 1"
      ]
    },
    {
      "cell_type": "code",
      "execution_count": null,
      "id": "6d8ec2b2",
      "metadata": {
        "id": "6d8ec2b2"
      },
      "outputs": [],
      "source": [
        "# print a table of any number\n",
        "\n",
        "snum = int(input(\"Enter a number: \"))\n",
        "i = 1\n",
        "while i < 11:\n",
        "    print(f\"{num} x {i} = {num * i}\")\n",
        "    i += 1"
      ]
    },
    {
      "cell_type": "code",
      "execution_count": null,
      "id": "4cf8459a",
      "metadata": {
        "id": "4cf8459a"
      },
      "outputs": [],
      "source": [
        "# DO NOT RUN THIS. IT WILL CRASH YOUR COMPUTER\n",
        "\n",
        "# a = [1, 2]\n",
        "\n",
        "# for i in a:\n",
        "#     a.append(i + 1)"
      ]
    },
    {
      "cell_type": "code",
      "execution_count": null,
      "id": "43ed0e52",
      "metadata": {
        "id": "43ed0e52"
      },
      "outputs": [],
      "source": [
        "print(a)"
      ]
    },
    {
      "cell_type": "code",
      "execution_count": null,
      "id": "dbbac37f",
      "metadata": {
        "id": "dbbac37f"
      },
      "outputs": [],
      "source": [
        "# find certain characters and their index in a string\n",
        "# 1. my way\n",
        "\n",
        "s = \"Python is a Programming language\"\n",
        "num = 0\n",
        "for i in s.casefold():\n",
        "    if i == 'g':\n",
        "        print('g', num)\n",
        "    if i == 'm':\n",
        "        print('m', num)\n",
        "    if i == 'p':\n",
        "        print('p', num)\n",
        "    num += 1"
      ]
    },
    {
      "cell_type": "code",
      "execution_count": null,
      "id": "e68ba451",
      "metadata": {
        "id": "e68ba451"
      },
      "outputs": [],
      "source": [
        "# 2. using enumarate\n",
        "\n",
        "s = \"Python is a Programming language\"\n",
        "\n",
        "for index, ch in enumerate(s):\n",
        "    if ch in \"gmp\":\n",
        "        print(f\"{ch} found at {index}\")"
      ]
    },
    {
      "cell_type": "code",
      "execution_count": null,
      "id": "92f68187",
      "metadata": {
        "id": "92f68187",
        "outputId": "eb7f91ff-5c45-47b6-b822-1b153a8e305b"
      },
      "outputs": [
        {
          "name": "stdout",
          "output_type": "stream",
          "text": [
            "P found at 0\n",
            "P found at 12\n",
            "g found at 15\n",
            "m found at 18\n",
            "m found at 19\n",
            "g found at 22\n",
            "g found at 27\n",
            "g found at 30\n"
          ]
        }
      ],
      "source": [
        "# 3a. using index to call for value (for loop)\n",
        "\n",
        "s = \"Python is a Programming language\"\n",
        "\n",
        "for i in range(len(s)):\n",
        "    if s[i].lower() in \"gmp\":\n",
        "        print(f\"{s[i]} found at {i}\")\n"
      ]
    },
    {
      "cell_type": "code",
      "execution_count": null,
      "id": "0f1b758b",
      "metadata": {
        "id": "0f1b758b",
        "outputId": "f279a5da-b575-4597-8787-bdda850d0d13"
      },
      "outputs": [
        {
          "name": "stdout",
          "output_type": "stream",
          "text": [
            "P found at 0\n",
            "P found at 12\n",
            "g found at 15\n",
            "m found at 18\n",
            "m found at 19\n",
            "g found at 22\n",
            "g found at 27\n",
            "g found at 30\n"
          ]
        }
      ],
      "source": [
        "# 3b. using index to call for value (while loop)\n",
        "\n",
        "s = \"Python is a Programming language\"\n",
        "i = 0\n",
        "\n",
        "while i < len(s):\n",
        "    if s[i].lower() in \"gmp\":\n",
        "        print(f\"{s[i]} found at {i}\")\n",
        "    i += 1\n"
      ]
    },
    {
      "cell_type": "code",
      "execution_count": null,
      "id": "7b7ba6c9",
      "metadata": {
        "id": "7b7ba6c9",
        "outputId": "81865173-8988-4ca0-a9bf-084551eea5cd"
      },
      "outputs": [
        {
          "name": "stdout",
          "output_type": "stream",
          "text": [
            "p found at 0\n",
            "p found at 12\n",
            "g found at 15\n",
            "m found at 18\n",
            "m found at 19\n",
            "g found at 22\n",
            "g found at 27\n",
            "g found at 30\n"
          ]
        }
      ],
      "source": [
        "# 4. using external variable as an index\n",
        "\n",
        "s = \"Python is a Programming language\"\n",
        "index = 0\n",
        "\n",
        "for ch in s.casefold():\n",
        "    if ch in \"gmp\":\n",
        "        print(f\"{ch} found at {index}\")\n",
        "    index += 1\n"
      ]
    },
    {
      "cell_type": "code",
      "execution_count": null,
      "id": "45c5286e",
      "metadata": {
        "id": "45c5286e",
        "outputId": "c68258de-574d-4e7b-e679-b8fb2ecb2a6e"
      },
      "outputs": [
        {
          "name": "stdout",
          "output_type": "stream",
          "text": [
            "p occurred 2 times in the sentence.\n"
          ]
        }
      ],
      "source": [
        "# count the occurence of characters in a string\n",
        "\n",
        "s = \"Python is a Programming Language\"\n",
        "\n",
        "count = 0\n",
        "ch_to_check = input('enter the char to count for:')\n",
        "\n",
        "for ch in s:\n",
        "    if ch_to_check.lower() == ch.lower():\n",
        "        count += 1\n",
        "\n",
        "print(f\"{ch_to_check} occurred {count} times in the sentence.\")"
      ]
    },
    {
      "cell_type": "code",
      "execution_count": 2,
      "id": "a9b7ef2e",
      "metadata": {
        "colab": {
          "base_uri": "https://localhost:8080/"
        },
        "id": "a9b7ef2e",
        "outputId": "78e5ab7c-1f3a-4764-d326-a5c8a94c480d"
      },
      "outputs": [
        {
          "output_type": "stream",
          "name": "stdout",
          "text": [
            "Enter a string: racecar\n",
            "racecar is a palindrome\n"
          ]
        }
      ],
      "source": [
        "# write a program to check if the string is a palindrome\n",
        "\n",
        "s = input(\"Enter a string: \")\n",
        "\n",
        "if s == s[::-1]:\n",
        "    print(f\"{s} is a palindrome\")\n",
        "else:\n",
        "    print(f\"{s} is not a palindrome\")"
      ]
    },
    {
      "cell_type": "code",
      "source": [
        "# write a program to check if the string is a palindrome using basics\n",
        "\n",
        "s_original = input(\"Enter a string: \")\n",
        "s_reversed = \"\"\n",
        "\n",
        "for ch in s_original:\n",
        "    s_reversed = ch + s_reversed\n",
        "\n",
        "if s_original == s_reversed:\n",
        "    print(f\"{s_original} is a palindrome\")\n",
        "else:\n",
        "    print(f\"{s_original} is not a palindrome\")"
      ],
      "metadata": {
        "colab": {
          "base_uri": "https://localhost:8080/"
        },
        "id": "Qqmg_VcWVrDK",
        "outputId": "a4483a70-da71-45e4-ba11-a98d3aec4d08"
      },
      "id": "Qqmg_VcWVrDK",
      "execution_count": 3,
      "outputs": [
        {
          "output_type": "stream",
          "name": "stdout",
          "text": [
            "Enter a string: racecar\n",
            "racecar is a palindrome\n"
          ]
        }
      ]
    },
    {
      "cell_type": "code",
      "source": [
        "# write a program to check if the string is an anagram.\n",
        "\n",
        "s1 = input(\"Enter a string: \")\n",
        "s2 = input(\"Enter a string: \")\n",
        "\n",
        "if sorted(s1) == sorted(s2):\n",
        "    print(f\"{s1} and {s2} are anagrams\")\n",
        "else:\n",
        "    print(f\"{s1} and {s2} are not anagrams\")"
      ],
      "metadata": {
        "id": "T8xnOx5a9O2K"
      },
      "id": "T8xnOx5a9O2K",
      "execution_count": null,
      "outputs": []
    },
    {
      "cell_type": "code",
      "source": [
        "# write a program to check if the string is an anagram using basics.\n",
        "\n",
        "s1 = input(\"Enter a string: \")\n",
        "s2 = input(\"Enter a string: \")\n",
        "result = \"Anagrams\"\n",
        "\n",
        "if len(s1) != len(s2):\n",
        "  result = \"Not Anagrams\"\n",
        "\n",
        "for i in range(len(s1)):\n",
        "    if s1.count(s1[i]) != s2.count(s1[i]):\n",
        "        result = \"Not Anagrams\"\n",
        "        break\n",
        "\n",
        "print(result)"
      ],
      "metadata": {
        "colab": {
          "base_uri": "https://localhost:8080/"
        },
        "id": "fGp-Gt9qWHb2",
        "outputId": "4de9683e-9432-4bf0-ad91-06c61fe3c616"
      },
      "id": "fGp-Gt9qWHb2",
      "execution_count": 5,
      "outputs": [
        {
          "output_type": "stream",
          "name": "stdout",
          "text": [
            "Enter a string: listen\n",
            "Enter a string: silent\n",
            "Anagrams\n"
          ]
        }
      ]
    },
    {
      "cell_type": "code",
      "source": [
        "# write a program to check if the string is an anagram using dictionaries.\n",
        "\n",
        "s1 = input(\"Enter the first string: \").lower()\n",
        "s2 = input(\"Enter the second string: \").lower()\n",
        "\n",
        "if len(s1) != len(s2):\n",
        "    print(f\"{s1} and {s2} are not anagrams\")\n",
        "\n",
        "char_count = {}\n",
        "\n",
        "for ch in s1:\n",
        "    char_count[ch] = char_count.get(ch, 0) + 1\n",
        "\n",
        "is_anagram = True\n",
        "for ch in s2:\n",
        "    if ch not in char_count or char_count[ch] == 0:\n",
        "        print(f\"{s1} and {s2} are not anagrams\")\n",
        "        is_anagram = False\n",
        "        break\n",
        "    else:\n",
        "        char_count[ch] -= 1\n",
        "\n",
        "if is_anagram:\n",
        "    print(f\"{s1} and {s2} are anagrams\")\n"
      ],
      "metadata": {
        "id": "JNYnqkv09qmv",
        "colab": {
          "base_uri": "https://localhost:8080/"
        },
        "outputId": "9eb788e0-bd07-4029-e280-99c71ba16d49"
      },
      "id": "JNYnqkv09qmv",
      "execution_count": null,
      "outputs": [
        {
          "output_type": "stream",
          "name": "stdout",
          "text": [
            "Enter the first string: listen\n",
            "Enter the second string: silent\n",
            "listen and silent are anagrams\n"
          ]
        }
      ]
    },
    {
      "cell_type": "code",
      "source": [
        "# write a program to count how many times each letter occured.\n",
        "\n",
        "s = \"Hello World!\"\n",
        "\n",
        "for ch in s.lower():\n",
        "  count = 0\n",
        "  for i in s.lower():\n",
        "    if i == ch:\n",
        "      count += 1\n",
        "  print(f\"{ch} occured {count} times\")"
      ],
      "metadata": {
        "id": "jvQ3_t_nI3eY",
        "colab": {
          "base_uri": "https://localhost:8080/"
        },
        "outputId": "2d00c6a0-9d25-4e22-a3d4-2892b0310f63"
      },
      "id": "jvQ3_t_nI3eY",
      "execution_count": 8,
      "outputs": [
        {
          "output_type": "stream",
          "name": "stdout",
          "text": [
            "h occured 1 times\n",
            "e occured 1 times\n",
            "l occured 3 times\n",
            "l occured 3 times\n",
            "o occured 2 times\n",
            "  occured 1 times\n",
            "w occured 1 times\n",
            "o occured 2 times\n",
            "r occured 1 times\n",
            "l occured 3 times\n",
            "d occured 1 times\n",
            "! occured 1 times\n"
          ]
        }
      ]
    },
    {
      "cell_type": "markdown",
      "source": [
        "# Non Primitive Data"
      ],
      "metadata": {
        "id": "4aEZtFVpX5aV"
      },
      "id": "4aEZtFVpX5aV"
    },
    {
      "cell_type": "code",
      "source": [
        "# LISTS\n",
        "\n",
        "a = []\n",
        "print(type(a))"
      ],
      "metadata": {
        "colab": {
          "base_uri": "https://localhost:8080/"
        },
        "id": "yNnaNFk0X-ES",
        "outputId": "ae9bddf1-6b6c-491d-f4b2-b892e1ba0c24"
      },
      "id": "yNnaNFk0X-ES",
      "execution_count": 12,
      "outputs": [
        {
          "output_type": "stream",
          "name": "stdout",
          "text": [
            "<class 'list'>\n"
          ]
        }
      ]
    },
    {
      "cell_type": "code",
      "source": [
        "a = [1, 2, 3]\n",
        "b = ['a', 'b', 'c']\n",
        "c = [1, 'a', 2, 'b']\n",
        "\n",
        "print(a, b, c)"
      ],
      "metadata": {
        "colab": {
          "base_uri": "https://localhost:8080/"
        },
        "id": "9g1WezbRYDsI",
        "outputId": "b4c73e6b-75fb-4fbd-fcfa-5927f2c3ce80"
      },
      "id": "9g1WezbRYDsI",
      "execution_count": 13,
      "outputs": [
        {
          "output_type": "stream",
          "name": "stdout",
          "text": [
            "[1, 2, 3] ['a', 'b', 'c'] [1, 'a', 2, 'b']\n"
          ]
        }
      ]
    },
    {
      "cell_type": "code",
      "source": [
        "a = list(\"abc\"+\"123\")\n",
        "a"
      ],
      "metadata": {
        "colab": {
          "base_uri": "https://localhost:8080/"
        },
        "id": "8ktveYPnYWBc",
        "outputId": "57575890-948e-4fef-caa5-9495e6d586b4"
      },
      "id": "8ktveYPnYWBc",
      "execution_count": 15,
      "outputs": [
        {
          "output_type": "execute_result",
          "data": {
            "text/plain": [
              "['a', 'b', 'c', '1', '2', '3']"
            ]
          },
          "metadata": {},
          "execution_count": 15
        }
      ]
    },
    {
      "cell_type": "code",
      "source": [
        "my_list = [1, 1.5, \"Hello\", True, None, 2 + 3j, [1, 2, 3],\n",
        "           (1, 2, 3), {1, 2, 3}, {1 : \"one\", 2 : \"two\"},\n",
        "           print, tuple]\n",
        "my_list"
      ],
      "metadata": {
        "colab": {
          "base_uri": "https://localhost:8080/"
        },
        "id": "9AYVFgrIYcdz",
        "outputId": "fb14e1bb-5d1a-4708-a7de-c0949f58cbd3"
      },
      "id": "9AYVFgrIYcdz",
      "execution_count": 17,
      "outputs": [
        {
          "output_type": "execute_result",
          "data": {
            "text/plain": [
              "[1,\n",
              " 1.5,\n",
              " 'Hello',\n",
              " True,\n",
              " None,\n",
              " (2+3j),\n",
              " [1, 2, 3],\n",
              " (1, 2, 3),\n",
              " {1, 2, 3},\n",
              " {1: 'one', 2: 'two'},\n",
              " <function print(*args, sep=' ', end='\\n', file=None, flush=False)>,\n",
              " tuple]"
            ]
          },
          "metadata": {},
          "execution_count": 17
        }
      ]
    },
    {
      "cell_type": "code",
      "source": [
        "print(my_list[10])"
      ],
      "metadata": {
        "colab": {
          "base_uri": "https://localhost:8080/"
        },
        "id": "AvkN-8QCYz-I",
        "outputId": "f1d5d2d1-19a1-4720-a8ff-539143c5f4be"
      },
      "id": "AvkN-8QCYz-I",
      "execution_count": 19,
      "outputs": [
        {
          "output_type": "stream",
          "name": "stdout",
          "text": [
            "<built-in function print>\n"
          ]
        }
      ]
    },
    {
      "cell_type": "code",
      "source": [
        "my_list[10](\"Hello World, this calls the print function\")"
      ],
      "metadata": {
        "colab": {
          "base_uri": "https://localhost:8080/"
        },
        "id": "ENx2_29sY72V",
        "outputId": "32476921-f169-42e3-a923-2a39d3a11b15"
      },
      "id": "ENx2_29sY72V",
      "execution_count": 20,
      "outputs": [
        {
          "output_type": "stream",
          "name": "stdout",
          "text": [
            "Hello World, this calls the print function\n"
          ]
        }
      ]
    },
    {
      "cell_type": "code",
      "source": [
        "my_list[6][1] # 6th index has a list [1, 2, 3] and it's 1st index holds a value of 2."
      ],
      "metadata": {
        "colab": {
          "base_uri": "https://localhost:8080/"
        },
        "id": "Zi1h0mG4ZFNE",
        "outputId": "0a874354-bbd5-4d96-cb0e-362c6c158be7"
      },
      "id": "Zi1h0mG4ZFNE",
      "execution_count": 22,
      "outputs": [
        {
          "output_type": "execute_result",
          "data": {
            "text/plain": [
              "2"
            ]
          },
          "metadata": {},
          "execution_count": 22
        }
      ]
    },
    {
      "cell_type": "code",
      "source": [],
      "metadata": {
        "id": "LUBJV2NpZSRw"
      },
      "id": "LUBJV2NpZSRw",
      "execution_count": null,
      "outputs": []
    }
  ],
  "metadata": {
    "colab": {
      "provenance": []
    },
    "kernelspec": {
      "display_name": "Python 3",
      "language": "python",
      "name": "python3"
    },
    "language_info": {
      "codemirror_mode": {
        "name": "ipython",
        "version": 3
      },
      "file_extension": ".py",
      "mimetype": "text/x-python",
      "name": "python",
      "nbconvert_exporter": "python",
      "pygments_lexer": "ipython3",
      "version": "3.10.12"
    }
  },
  "nbformat": 4,
  "nbformat_minor": 5
}