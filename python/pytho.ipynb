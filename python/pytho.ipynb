{
 "cells": [
  {
   "cell_type": "code",
   "execution_count": 1,
   "id": "85ffff96",
   "metadata": {},
   "outputs": [],
   "source": [
    "a=10"
   ]
  },
  {
   "cell_type": "code",
   "execution_count": 2,
   "id": "5202e721",
   "metadata": {},
   "outputs": [
    {
     "name": "stdout",
     "output_type": "stream",
     "text": [
      "10\n"
     ]
    }
   ],
   "source": [
    "print (a)"
   ]
  },
  {
   "cell_type": "code",
   "execution_count": 3,
   "id": "7ff2274f",
   "metadata": {},
   "outputs": [
    {
     "name": "stdout",
     "output_type": "stream",
     "text": [
      "<class 'int'>\n"
     ]
    }
   ],
   "source": [
    "print (type(a))"
   ]
  },
  {
   "cell_type": "code",
   "execution_count": 4,
   "id": "6be87a4c",
   "metadata": {},
   "outputs": [
    {
     "name": "stdout",
     "output_type": "stream",
     "text": [
      "139923376292368\n"
     ]
    }
   ],
   "source": [
    "print (id(a))"
   ]
  },
  {
   "cell_type": "code",
   "execution_count": 5,
   "id": "c37be7cc",
   "metadata": {},
   "outputs": [],
   "source": [
    "b = 103.4\n"
   ]
  },
  {
   "cell_type": "code",
   "execution_count": 6,
   "id": "73d1e549",
   "metadata": {},
   "outputs": [
    {
     "name": "stdout",
     "output_type": "stream",
     "text": [
      "<class 'float'>\n"
     ]
    }
   ],
   "source": [
    "print (type(b))"
   ]
  },
  {
   "cell_type": "code",
   "execution_count": 7,
   "id": "f5b8fbd2",
   "metadata": {},
   "outputs": [
    {
     "name": "stdout",
     "output_type": "stream",
     "text": [
      "<class 'float'>\n"
     ]
    }
   ],
   "source": [
    "a = float(a)\n",
    "print (type(a))"
   ]
  },
  {
   "cell_type": "code",
   "execution_count": 8,
   "id": "3b4d3754",
   "metadata": {},
   "outputs": [
    {
     "name": "stdout",
     "output_type": "stream",
     "text": [
      "hello\n"
     ]
    }
   ],
   "source": [
    "c = \"hello\"\n",
    "print (c)"
   ]
  },
  {
   "cell_type": "code",
   "execution_count": 9,
   "id": "c201a57d",
   "metadata": {},
   "outputs": [],
   "source": [
    "d = 1+0j"
   ]
  },
  {
   "cell_type": "code",
   "execution_count": 10,
   "id": "1278ad2f",
   "metadata": {},
   "outputs": [
    {
     "name": "stdout",
     "output_type": "stream",
     "text": [
      "<class 'complex'>\n"
     ]
    }
   ],
   "source": [
    "print (type(d))"
   ]
  },
  {
   "cell_type": "code",
   "execution_count": 11,
   "id": "eead6d72",
   "metadata": {},
   "outputs": [
    {
     "name": "stdout",
     "output_type": "stream",
     "text": [
      "<class 'NoneType'>\n"
     ]
    }
   ],
   "source": [
    "e = None\n",
    "print (type(e))"
   ]
  },
  {
   "cell_type": "code",
   "execution_count": 12,
   "id": "bf87a436",
   "metadata": {},
   "outputs": [
    {
     "name": "stdout",
     "output_type": "stream",
     "text": [
      "<class 'bool'>\n"
     ]
    }
   ],
   "source": [
    "f = True\n",
    "print (type(f))"
   ]
  },
  {
   "cell_type": "code",
   "execution_count": 13,
   "id": "0736b49a",
   "metadata": {},
   "outputs": [
    {
     "data": {
      "text/plain": [
       "3.75"
      ]
     },
     "execution_count": 13,
     "metadata": {},
     "output_type": "execute_result"
    }
   ],
   "source": [
    "15/4"
   ]
  },
  {
   "cell_type": "code",
   "execution_count": 14,
   "id": "0e9ed8fd",
   "metadata": {},
   "outputs": [
    {
     "data": {
      "text/plain": [
       "12"
      ]
     },
     "execution_count": 14,
     "metadata": {},
     "output_type": "execute_result"
    }
   ],
   "source": [
    "10+2"
   ]
  },
  {
   "cell_type": "code",
   "execution_count": 15,
   "id": "367787db",
   "metadata": {},
   "outputs": [
    {
     "data": {
      "text/plain": [
       "9"
      ]
     },
     "execution_count": 15,
     "metadata": {},
     "output_type": "execute_result"
    }
   ],
   "source": [
    "13-4"
   ]
  },
  {
   "cell_type": "code",
   "execution_count": 16,
   "id": "a9a9641e",
   "metadata": {},
   "outputs": [
    {
     "name": "stdout",
     "output_type": "stream",
     "text": [
      "36\n"
     ]
    }
   ],
   "source": [
    "print (12*3)"
   ]
  },
  {
   "cell_type": "code",
   "execution_count": 17,
   "id": "2fbacb24",
   "metadata": {},
   "outputs": [
    {
     "name": "stdout",
     "output_type": "stream",
     "text": [
      "4\n"
     ]
    }
   ],
   "source": [
    "print (18//4)"
   ]
  },
  {
   "cell_type": "code",
   "execution_count": 18,
   "id": "db599f78",
   "metadata": {},
   "outputs": [
    {
     "data": {
      "text/plain": [
       "2"
      ]
     },
     "execution_count": 18,
     "metadata": {},
     "output_type": "execute_result"
    }
   ],
   "source": [
    "18%4"
   ]
  },
  {
   "cell_type": "code",
   "execution_count": 19,
   "id": "837ee113",
   "metadata": {},
   "outputs": [
    {
     "data": {
      "text/plain": [
       "(10.0, 103.4)"
      ]
     },
     "execution_count": 19,
     "metadata": {},
     "output_type": "execute_result"
    }
   ],
   "source": [
    "a,b"
   ]
  },
  {
   "cell_type": "code",
   "execution_count": 20,
   "id": "8f29bd98",
   "metadata": {},
   "outputs": [
    {
     "name": "stdout",
     "output_type": "stream",
     "text": [
      "a+b=  113.4\n",
      "a-b=  -93.4\n",
      "a*b= 1034.0\n",
      "a**b=  2.511886431509613e+103\n"
     ]
    }
   ],
   "source": [
    "print(\"a+b=\",a+b,sep=\"  \")\n",
    "print(\"a-b=\",a-b,sep=\"  \")\n",
    "print(\"a*b=\", a*b)\n",
    "print (\"a**b=\",a**b, sep=\"  \")"
   ]
  },
  {
   "cell_type": "code",
   "execution_count": 21,
   "id": "6c88811f",
   "metadata": {},
   "outputs": [
    {
     "data": {
      "text/plain": [
       "10.0"
      ]
     },
     "execution_count": 21,
     "metadata": {},
     "output_type": "execute_result"
    }
   ],
   "source": [
    "a"
   ]
  },
  {
   "cell_type": "code",
   "execution_count": 22,
   "id": "2d43aac6",
   "metadata": {},
   "outputs": [
    {
     "name": "stdout",
     "output_type": "stream",
     "text": [
      "12.0\n"
     ]
    }
   ],
   "source": [
    "a=a+2\n",
    "print (a)"
   ]
  },
  {
   "cell_type": "code",
   "execution_count": 23,
   "id": "c0268f90",
   "metadata": {},
   "outputs": [
    {
     "name": "stdout",
     "output_type": "stream",
     "text": [
      "14.0\n"
     ]
    }
   ],
   "source": [
    "a+=2\n",
    "print(a)"
   ]
  },
  {
   "cell_type": "code",
   "execution_count": 24,
   "id": "448d16dd",
   "metadata": {},
   "outputs": [
    {
     "name": "stdout",
     "output_type": "stream",
     "text": [
      "12.0\n"
     ]
    }
   ],
   "source": [
    "a-=2\n",
    "print(a)"
   ]
  },
  {
   "cell_type": "code",
   "execution_count": 25,
   "id": "7a833eb8",
   "metadata": {},
   "outputs": [
    {
     "name": "stdout",
     "output_type": "stream",
     "text": [
      "24.0\n"
     ]
    }
   ],
   "source": [
    "a*=2\n",
    "print (a)"
   ]
  },
  {
   "cell_type": "code",
   "execution_count": 26,
   "id": "8dd5de5d",
   "metadata": {},
   "outputs": [
    {
     "name": "stdout",
     "output_type": "stream",
     "text": [
      "12.0\n"
     ]
    }
   ],
   "source": [
    "a/=2\n",
    "print(a)"
   ]
  },
  {
   "cell_type": "code",
   "execution_count": 27,
   "id": "95e8d528",
   "metadata": {},
   "outputs": [
    {
     "name": "stdout",
     "output_type": "stream",
     "text": [
      "0.0\n"
     ]
    }
   ],
   "source": [
    "a%=2\n",
    "print (a)"
   ]
  },
  {
   "cell_type": "code",
   "execution_count": 28,
   "id": "ba13ad22",
   "metadata": {},
   "outputs": [
    {
     "data": {
      "text/plain": [
       "True"
      ]
     },
     "execution_count": 28,
     "metadata": {},
     "output_type": "execute_result"
    }
   ],
   "source": [
    "10==10"
   ]
  },
  {
   "cell_type": "code",
   "execution_count": 29,
   "id": "ab0add71",
   "metadata": {},
   "outputs": [
    {
     "data": {
      "text/plain": [
       "False"
      ]
     },
     "execution_count": 29,
     "metadata": {},
     "output_type": "execute_result"
    }
   ],
   "source": [
    "'10'==10"
   ]
  },
  {
   "cell_type": "code",
   "execution_count": 30,
   "id": "eade3187",
   "metadata": {},
   "outputs": [
    {
     "data": {
      "text/plain": [
       "1"
      ]
     },
     "execution_count": 30,
     "metadata": {},
     "output_type": "execute_result"
    }
   ],
   "source": [
    "1 and 1"
   ]
  },
  {
   "cell_type": "code",
   "execution_count": 31,
   "id": "1b8ff70f",
   "metadata": {},
   "outputs": [
    {
     "data": {
      "text/plain": [
       "False"
      ]
     },
     "execution_count": 31,
     "metadata": {},
     "output_type": "execute_result"
    }
   ],
   "source": [
    "bool(2 and \"\")"
   ]
  },
  {
   "cell_type": "code",
   "execution_count": 32,
   "id": "d90305e1",
   "metadata": {},
   "outputs": [
    {
     "data": {
      "text/plain": [
       "False"
      ]
     },
     "execution_count": 32,
     "metadata": {},
     "output_type": "execute_result"
    }
   ],
   "source": [
    "bool(None)"
   ]
  },
  {
   "cell_type": "code",
   "execution_count": 33,
   "id": "d814c468",
   "metadata": {},
   "outputs": [
    {
     "data": {
      "text/plain": [
       "False"
      ]
     },
     "execution_count": 33,
     "metadata": {},
     "output_type": "execute_result"
    }
   ],
   "source": [
    "bool(\"\")"
   ]
  },
  {
   "cell_type": "code",
   "execution_count": 34,
   "id": "13843b8c",
   "metadata": {},
   "outputs": [
    {
     "data": {
      "text/plain": [
       "False"
      ]
     },
     "execution_count": 34,
     "metadata": {},
     "output_type": "execute_result"
    }
   ],
   "source": [
    "bool(0)"
   ]
  },
  {
   "cell_type": "code",
   "execution_count": 35,
   "id": "090f899f",
   "metadata": {},
   "outputs": [
    {
     "data": {
      "text/plain": [
       "False"
      ]
     },
     "execution_count": 35,
     "metadata": {},
     "output_type": "execute_result"
    }
   ],
   "source": [
    "bool({})"
   ]
  },
  {
   "cell_type": "code",
   "execution_count": 36,
   "id": "4ca65d79",
   "metadata": {},
   "outputs": [
    {
     "data": {
      "text/plain": [
       "False"
      ]
     },
     "execution_count": 36,
     "metadata": {},
     "output_type": "execute_result"
    }
   ],
   "source": [
    "bool([])"
   ]
  },
  {
   "cell_type": "code",
   "execution_count": 37,
   "id": "c3894896",
   "metadata": {},
   "outputs": [
    {
     "data": {
      "text/plain": [
       "True"
      ]
     },
     "execution_count": 37,
     "metadata": {},
     "output_type": "execute_result"
    }
   ],
   "source": [
    "1 and 0 or True"
   ]
  },
  {
   "cell_type": "code",
   "execution_count": 38,
   "id": "c42704c6",
   "metadata": {},
   "outputs": [
    {
     "data": {
      "text/plain": [
       "1"
      ]
     },
     "execution_count": 38,
     "metadata": {},
     "output_type": "execute_result"
    }
   ],
   "source": [
    "1 or 0 and True"
   ]
  },
  {
   "cell_type": "code",
   "execution_count": 39,
   "id": "af3440aa",
   "metadata": {},
   "outputs": [
    {
     "data": {
      "text/plain": [
       "65536"
      ]
     },
     "execution_count": 39,
     "metadata": {},
     "output_type": "execute_result"
    }
   ],
   "source": [
    "4**2**3"
   ]
  },
  {
   "cell_type": "code",
   "execution_count": 40,
   "id": "8893c6d4",
   "metadata": {},
   "outputs": [
    {
     "data": {
      "text/plain": [
       "65536"
      ]
     },
     "execution_count": 40,
     "metadata": {},
     "output_type": "execute_result"
    }
   ],
   "source": [
    "4**8"
   ]
  },
  {
   "cell_type": "code",
   "execution_count": 41,
   "id": "dca82cf8",
   "metadata": {},
   "outputs": [
    {
     "data": {
      "text/plain": [
       "False"
      ]
     },
     "execution_count": 41,
     "metadata": {},
     "output_type": "execute_result"
    }
   ],
   "source": [
    "not 1"
   ]
  },
  {
   "cell_type": "code",
   "execution_count": 42,
   "id": "19600c60",
   "metadata": {},
   "outputs": [
    {
     "data": {
      "text/plain": [
       "False"
      ]
     },
     "execution_count": 42,
     "metadata": {},
     "output_type": "execute_result"
    }
   ],
   "source": [
    "not True"
   ]
  },
  {
   "cell_type": "code",
   "execution_count": 43,
   "id": "4e340a64",
   "metadata": {},
   "outputs": [
    {
     "data": {
      "text/plain": [
       "True"
      ]
     },
     "execution_count": 43,
     "metadata": {},
     "output_type": "execute_result"
    }
   ],
   "source": [
    "not 0"
   ]
  },
  {
   "cell_type": "code",
   "execution_count": 44,
   "id": "404d5de9",
   "metadata": {},
   "outputs": [
    {
     "data": {
      "text/plain": [
       "0"
      ]
     },
     "execution_count": 44,
     "metadata": {},
     "output_type": "execute_result"
    }
   ],
   "source": [
    "7 & 8"
   ]
  },
  {
   "cell_type": "code",
   "execution_count": 45,
   "id": "cb1fc007",
   "metadata": {},
   "outputs": [
    {
     "data": {
      "text/plain": [
       "15"
      ]
     },
     "execution_count": 45,
     "metadata": {},
     "output_type": "execute_result"
    }
   ],
   "source": [
    "7|8"
   ]
  },
  {
   "cell_type": "code",
   "execution_count": 46,
   "id": "62b738a8",
   "metadata": {},
   "outputs": [
    {
     "data": {
      "text/plain": [
       "15"
      ]
     },
     "execution_count": 46,
     "metadata": {},
     "output_type": "execute_result"
    }
   ],
   "source": [
    "0b1111"
   ]
  },
  {
   "cell_type": "code",
   "execution_count": 47,
   "id": "c287ddbb",
   "metadata": {},
   "outputs": [
    {
     "data": {
      "text/plain": [
       "4369"
      ]
     },
     "execution_count": 47,
     "metadata": {},
     "output_type": "execute_result"
    }
   ],
   "source": [
    "0x1111"
   ]
  },
  {
   "cell_type": "code",
   "execution_count": 48,
   "id": "7bb70679",
   "metadata": {},
   "outputs": [
    {
     "data": {
      "text/plain": [
       "15"
      ]
     },
     "execution_count": 48,
     "metadata": {},
     "output_type": "execute_result"
    }
   ],
   "source": [
    "0xf"
   ]
  },
  {
   "cell_type": "code",
   "execution_count": 49,
   "id": "6127e550",
   "metadata": {},
   "outputs": [
    {
     "data": {
      "text/plain": [
       "73"
      ]
     },
     "execution_count": 49,
     "metadata": {},
     "output_type": "execute_result"
    }
   ],
   "source": [
    "0o111"
   ]
  },
  {
   "cell_type": "code",
   "execution_count": 50,
   "id": "01b779f2",
   "metadata": {},
   "outputs": [
    {
     "data": {
      "text/plain": [
       "585"
      ]
     },
     "execution_count": 50,
     "metadata": {},
     "output_type": "execute_result"
    }
   ],
   "source": [
    "0o1111"
   ]
  },
  {
   "cell_type": "code",
   "execution_count": 51,
   "id": "36fd366a",
   "metadata": {},
   "outputs": [
    {
     "data": {
      "text/plain": [
       "-11"
      ]
     },
     "execution_count": 51,
     "metadata": {},
     "output_type": "execute_result"
    }
   ],
   "source": [
    "~10"
   ]
  },
  {
   "cell_type": "code",
   "execution_count": 52,
   "id": "46966fd1",
   "metadata": {},
   "outputs": [
    {
     "data": {
      "text/plain": [
       "10"
      ]
     },
     "execution_count": 52,
     "metadata": {},
     "output_type": "execute_result"
    }
   ],
   "source": [
    "~-11"
   ]
  },
  {
   "cell_type": "code",
   "execution_count": 53,
   "id": "0436ba36",
   "metadata": {},
   "outputs": [
    {
     "data": {
      "text/plain": [
       "15"
      ]
     },
     "execution_count": 53,
     "metadata": {},
     "output_type": "execute_result"
    }
   ],
   "source": [
    "7^8"
   ]
  },
  {
   "cell_type": "code",
   "execution_count": 54,
   "id": "fbba0449",
   "metadata": {},
   "outputs": [
    {
     "data": {
      "text/plain": [
       "0"
      ]
     },
     "execution_count": 54,
     "metadata": {},
     "output_type": "execute_result"
    }
   ],
   "source": [
    "8^8"
   ]
  },
  {
   "cell_type": "code",
   "execution_count": 55,
   "id": "cbe2724e",
   "metadata": {},
   "outputs": [
    {
     "name": "stdout",
     "output_type": "stream",
     "text": [
      "POSITIVE\n",
      "10\n"
     ]
    }
   ],
   "source": [
    "num = 10\n",
    "if num>0:\n",
    "    print (\"POSITIVE\")\n",
    "    print (num)\n",
    "else:\n",
    "    print (\"NEGATIVE\")"
   ]
  },
  {
   "cell_type": "code",
   "execution_count": 56,
   "id": "60c537d8",
   "metadata": {},
   "outputs": [
    {
     "ename": "IndentationError",
     "evalue": "unexpected indent (3346571938.py, line 4)",
     "output_type": "error",
     "traceback": [
      "\u001b[0;36m  Cell \u001b[0;32mIn[56], line 4\u001b[0;36m\u001b[0m\n\u001b[0;31m    print (num)\u001b[0m\n\u001b[0m    ^\u001b[0m\n\u001b[0;31mIndentationError\u001b[0m\u001b[0;31m:\u001b[0m unexpected indent\n"
     ]
    }
   ],
   "source": [
    "num = 10\n",
    "if num>0:\n",
    "    print (\"POSITIVE\")\n",
    "       print (num)\n",
    "    else:\n",
    "    print (\"NEGATIVE\")"
   ]
  },
  {
   "cell_type": "code",
   "execution_count": null,
   "id": "993a833f",
   "metadata": {},
   "outputs": [
    {
     "ename": "SyntaxError",
     "evalue": "incomplete input (3316007750.py, line 2)",
     "output_type": "error",
     "traceback": [
      "\u001b[0;36m  Cell \u001b[0;32mIn[29], line 2\u001b[0;36m\u001b[0m\n\u001b[0;31m    if num>0:\u001b[0m\n\u001b[0m             ^\u001b[0m\n\u001b[0;31mSyntaxError\u001b[0m\u001b[0;31m:\u001b[0m incomplete input\n"
     ]
    }
   ],
   "source": [
    "num = 10\n",
    "if num>0:"
   ]
  },
  {
   "cell_type": "code",
   "execution_count": 57,
   "id": "d5a26990",
   "metadata": {},
   "outputs": [],
   "source": [
    "num = 10\n",
    "if num>0:\n",
    "   pass"
   ]
  },
  {
   "cell_type": "code",
   "execution_count": 58,
   "id": "b6fefbf7",
   "metadata": {},
   "outputs": [
    {
     "data": {
      "text/plain": [
       "1"
      ]
     },
     "execution_count": 58,
     "metadata": {},
     "output_type": "execute_result"
    }
   ],
   "source": [
    "7>>2"
   ]
  },
  {
   "cell_type": "code",
   "execution_count": 59,
   "id": "e5adae58",
   "metadata": {},
   "outputs": [
    {
     "data": {
      "text/plain": [
       "28"
      ]
     },
     "execution_count": 59,
     "metadata": {},
     "output_type": "execute_result"
    }
   ],
   "source": [
    "7<<2"
   ]
  },
  {
   "cell_type": "code",
   "execution_count": 60,
   "id": "8d1f22e5",
   "metadata": {},
   "outputs": [
    {
     "name": "stdout",
     "output_type": "stream",
     "text": [
      "false statement \n"
     ]
    }
   ],
   "source": [
    "if False:\n",
    "    print (\"true statement\")\n",
    "else:\n",
    "    print (\"false statement \")"
   ]
  },
  {
   "cell_type": "code",
   "execution_count": 61,
   "id": "4ed26683",
   "metadata": {},
   "outputs": [
    {
     "name": "stdout",
     "output_type": "stream",
     "text": [
      "114  is even\n"
     ]
    }
   ],
   "source": [
    "num = 114\n",
    "if num%2:\n",
    "    print (num,\" is odd\")\n",
    "else:\n",
    "    print (num,\" is even\")"
   ]
  },
  {
   "cell_type": "code",
   "execution_count": 62,
   "id": "bb446fc7",
   "metadata": {},
   "outputs": [
    {
     "name": "stdout",
     "output_type": "stream",
     "text": [
      "\n"
     ]
    }
   ],
   "source": [
    "print (input(\"enter a number\"))"
   ]
  },
  {
   "cell_type": "code",
   "execution_count": 91,
   "id": "597426d8",
   "metadata": {},
   "outputs": [
    {
     "name": "stdout",
     "output_type": "stream",
     "text": [
      "<class 'int'>\n"
     ]
    }
   ],
   "source": [
    "num = int(input('enter a number'))\n",
    "print (type(num))"
   ]
  },
  {
   "cell_type": "code",
   "execution_count": 92,
   "id": "1b6c6b0d",
   "metadata": {},
   "outputs": [
    {
     "name": "stdout",
     "output_type": "stream",
     "text": [
      "123  is odd\n"
     ]
    }
   ],
   "source": [
    "num =  int(input('enter a number'))\n",
    "if num%2:\n",
    "    print (num,\" is odd\")\n",
    "else:\n",
    "    print (num,\" is even\")"
   ]
  },
  {
   "cell_type": "code",
   "execution_count": 93,
   "id": "b4aff987",
   "metadata": {},
   "outputs": [
    {
     "name": "stdout",
     "output_type": "stream",
     "text": [
      "12332  is even\n"
     ]
    }
   ],
   "source": [
    "num =  int(input('enter a number'))\n",
    "if num%2:\n",
    "    print (num,\" is odd\")\n",
    "else:\n",
    "    print (num,\" is even\")"
   ]
  },
  {
   "cell_type": "code",
   "execution_count": 66,
   "id": "6aa8e73c",
   "metadata": {},
   "outputs": [
    {
     "data": {
      "text/plain": [
       "'A'"
      ]
     },
     "execution_count": 66,
     "metadata": {},
     "output_type": "execute_result"
    }
   ],
   "source": [
    "chr(65)"
   ]
  },
  {
   "cell_type": "code",
   "execution_count": 67,
   "id": "653cf1e0",
   "metadata": {},
   "outputs": [
    {
     "data": {
      "text/plain": [
       "65"
      ]
     },
     "execution_count": 67,
     "metadata": {},
     "output_type": "execute_result"
    }
   ],
   "source": [
    "ord('A')"
   ]
  },
  {
   "cell_type": "code",
   "execution_count": 68,
   "id": "a4d14d8d",
   "metadata": {},
   "outputs": [
    {
     "data": {
      "text/plain": [
       "48"
      ]
     },
     "execution_count": 68,
     "metadata": {},
     "output_type": "execute_result"
    }
   ],
   "source": [
    "ord('0')"
   ]
  },
  {
   "cell_type": "code",
   "execution_count": 69,
   "id": "770d2cb7",
   "metadata": {},
   "outputs": [
    {
     "data": {
      "text/plain": [
       "'\\t'"
      ]
     },
     "execution_count": 69,
     "metadata": {},
     "output_type": "execute_result"
    }
   ],
   "source": [
    "chr(9)"
   ]
  },
  {
   "cell_type": "code",
   "execution_count": 70,
   "id": "bd1f78a5",
   "metadata": {},
   "outputs": [
    {
     "name": "stdout",
     "output_type": "stream",
     "text": [
      "It is \"Python\"\n"
     ]
    }
   ],
   "source": [
    "print('It is \"Python\"')"
   ]
  },
  {
   "cell_type": "code",
   "execution_count": 71,
   "id": "9eaa26c1",
   "metadata": {},
   "outputs": [
    {
     "name": "stdout",
     "output_type": "stream",
     "text": [
      "it's python\n"
     ]
    }
   ],
   "source": [
    "print (\"it's python\")"
   ]
  },
  {
   "cell_type": "code",
   "execution_count": 72,
   "id": "92552704",
   "metadata": {},
   "outputs": [
    {
     "name": "stdout",
     "output_type": "stream",
     "text": [
      "it's \"python\"\n"
     ]
    }
   ],
   "source": [
    "print ('it\\'s \"python\"')"
   ]
  },
  {
   "cell_type": "code",
   "execution_count": 73,
   "id": "c2537bac",
   "metadata": {},
   "outputs": [
    {
     "name": "stdout",
     "output_type": "stream",
     "text": [
      "it's \"python\"\n"
     ]
    }
   ],
   "source": [
    "print (\"it's \\\"python\\\"\")"
   ]
  },
  {
   "cell_type": "code",
   "execution_count": 74,
   "id": "400985c6",
   "metadata": {},
   "outputs": [
    {
     "name": "stdout",
     "output_type": "stream",
     "text": [
      "\\n is for new line\n"
     ]
    }
   ],
   "source": [
    "print (\"\\\\n is for new line\")"
   ]
  },
  {
   "cell_type": "code",
   "execution_count": 75,
   "id": "29f7478b",
   "metadata": {},
   "outputs": [
    {
     "name": "stdout",
     "output_type": "stream",
     "text": [
      "it's \"\\t\" for tab space\n"
     ]
    }
   ],
   "source": [
    "print ('it\\'s \"\\\\t\" for tab space')"
   ]
  },
  {
   "cell_type": "code",
   "execution_count": 76,
   "id": "24bb5f8a",
   "metadata": {},
   "outputs": [
    {
     "name": "stdout",
     "output_type": "stream",
     "text": [
      "/home/quastech/yash/pytho.ipynb\n"
     ]
    }
   ],
   "source": [
    "print (\"/home/quastech/yash/pytho.ipynb\")"
   ]
  },
  {
   "cell_type": "code",
   "execution_count": 77,
   "id": "3813aacf",
   "metadata": {},
   "outputs": [
    {
     "name": "stdout",
     "output_type": "stream",
     "text": [
      "\\t\\n\n"
     ]
    }
   ],
   "source": [
    "print(r'\\t\\n')"
   ]
  },
  {
   "cell_type": "code",
   "execution_count": 78,
   "id": "607b9ebe",
   "metadata": {},
   "outputs": [],
   "source": [
    "name = \"Yash\"\n",
    "age = 21\n",
    "salary = 20000        "
   ]
  },
  {
   "cell_type": "code",
   "execution_count": 79,
   "id": "3e348242",
   "metadata": {},
   "outputs": [
    {
     "name": "stdout",
     "output_type": "stream",
     "text": [
      "my name is Yash i am 21 years old and my salary is 20000\n"
     ]
    }
   ],
   "source": [
    "print (\"my name is\",name, \"i am\",age,\"years old and my salary is\", salary )"
   ]
  },
  {
   "cell_type": "code",
   "execution_count": 80,
   "id": "1d8dcfe2",
   "metadata": {},
   "outputs": [
    {
     "name": "stdout",
     "output_type": "stream",
     "text": [
      "my name is Yash, i am 21, years old and my salary is20000\n"
     ]
    }
   ],
   "source": [
    "print(f\"my name is {name}, i am {age}, years old and my salary is{salary}\")"
   ]
  },
  {
   "cell_type": "code",
   "execution_count": 81,
   "id": "9245917c",
   "metadata": {},
   "outputs": [
    {
     "name": "stdout",
     "output_type": "stream",
     "text": [
      "hello\n",
      "       hi\n",
      "       \n"
     ]
    }
   ],
   "source": [
    "print (\"\"\"hello\n",
    "       hi\n",
    "       \"\"\")"
   ]
  },
  {
   "cell_type": "code",
   "execution_count": 82,
   "id": "75d2e15a",
   "metadata": {},
   "outputs": [
    {
     "name": "stdout",
     "output_type": "stream",
     "text": [
      "5\n"
     ]
    }
   ],
   "source": [
    "age = 10\n",
    "t = 0\n",
    "if age > 12:\n",
    "    t = 10\n",
    "else:\n",
    "    t = 5\n",
    "print(t)    "
   ]
  },
  {
   "cell_type": "code",
   "execution_count": 83,
   "id": "1f911c89",
   "metadata": {},
   "outputs": [
    {
     "name": "stdout",
     "output_type": "stream",
     "text": [
      "10\n"
     ]
    }
   ],
   "source": [
    "age = 19\n",
    "t = 10 if age>12 else 5\n",
    "print(t)                                "
   ]
  },
  {
   "cell_type": "code",
   "execution_count": 84,
   "id": "9511e9dd",
   "metadata": {},
   "outputs": [
    {
     "data": {
      "text/plain": [
       "34"
      ]
     },
     "execution_count": 84,
     "metadata": {},
     "output_type": "execute_result"
    }
   ],
   "source": [
    "32+2"
   ]
  },
  {
   "cell_type": "code",
   "execution_count": 85,
   "id": "f2e27586",
   "metadata": {},
   "outputs": [
    {
     "name": "stdout",
     "output_type": "stream",
     "text": [
      "20 is even\n"
     ]
    }
   ],
   "source": [
    "num = 20\n",
    "result= f\"{num} is odd\" if num%2 else f\"{num} is even\"\n",
    "print(result)"
   ]
  },
  {
   "cell_type": "code",
   "execution_count": 86,
   "id": "9addd4b9",
   "metadata": {},
   "outputs": [
    {
     "name": "stdout",
     "output_type": "stream",
     "text": [
      "20 10\n"
     ]
    }
   ],
   "source": [
    "a=10\n",
    "b=20\n",
    "c=a\n",
    "a=b\n",
    "b=c\n",
    "print (a,b)"
   ]
  },
  {
   "cell_type": "code",
   "execution_count": 87,
   "id": "f82b29f0",
   "metadata": {},
   "outputs": [
    {
     "name": "stdout",
     "output_type": "stream",
     "text": [
      "20 10\n"
     ]
    }
   ],
   "source": [
    "a=10\n",
    "b=20\n",
    "a,b=b,a\n",
    "print (a,b)"
   ]
  },
  {
   "cell_type": "code",
   "execution_count": 88,
   "id": "b209c50c",
   "metadata": {},
   "outputs": [
    {
     "name": "stdout",
     "output_type": "stream",
     "text": [
      "20 10\n"
     ]
    }
   ],
   "source": [
    "a=10\n",
    "b=20\n",
    "a=a+b\n",
    "b=a-b\n",
    "a=a-b\n",
    "print(a,b)"
   ]
  },
  {
   "cell_type": "code",
   "execution_count": 89,
   "id": "19489811",
   "metadata": {},
   "outputs": [
    {
     "data": {
      "text/plain": [
       "' '"
      ]
     },
     "execution_count": 89,
     "metadata": {},
     "output_type": "execute_result"
    }
   ],
   "source": [
    "s = \"Hello World\"\n",
    "s[5]"
   ]
  },
  {
   "cell_type": "code",
   "execution_count": 94,
   "id": "0bd189a6",
   "metadata": {},
   "outputs": [
    {
     "data": {
      "text/plain": [
       "'Hello World'"
      ]
     },
     "execution_count": 94,
     "metadata": {},
     "output_type": "execute_result"
    }
   ],
   "source": [
    "s = 'Hello World'\n",
    "s[0:11]"
   ]
  },
  {
   "cell_type": "code",
   "execution_count": 96,
   "id": "5d7b453e",
   "metadata": {},
   "outputs": [
    {
     "data": {
      "text/plain": [
       "'Hello World'"
      ]
     },
     "execution_count": 96,
     "metadata": {},
     "output_type": "execute_result"
    }
   ],
   "source": [
    "s[:]"
   ]
  },
  {
   "cell_type": "code",
   "execution_count": 99,
   "id": "df27dbf9",
   "metadata": {},
   "outputs": [
    {
     "data": {
      "text/plain": [
       "'0123456789'"
      ]
     },
     "execution_count": 99,
     "metadata": {},
     "output_type": "execute_result"
    }
   ],
   "source": [
    "s = \"0123456789\"\n",
    "s[0:len(s):1]"
   ]
  },
  {
   "cell_type": "code",
   "execution_count": 100,
   "id": "34645677",
   "metadata": {},
   "outputs": [
    {
     "data": {
      "text/plain": [
       "'9'"
      ]
     },
     "execution_count": 100,
     "metadata": {},
     "output_type": "execute_result"
    }
   ],
   "source": [
    "s[-1]"
   ]
  },
  {
   "cell_type": "code",
   "execution_count": 102,
   "id": "87d6351b",
   "metadata": {},
   "outputs": [
    {
     "data": {
      "text/plain": [
       "'9876543210'"
      ]
     },
     "execution_count": 102,
     "metadata": {},
     "output_type": "execute_result"
    }
   ],
   "source": [
    "s[::-1]"
   ]
  },
  {
   "cell_type": "code",
   "execution_count": 109,
   "id": "a09cd828",
   "metadata": {},
   "outputs": [
    {
     "name": "stdout",
     "output_type": "stream",
     "text": [
      "02468\n",
      "13579\n",
      "9876543210\n"
     ]
    }
   ],
   "source": [
    "print(s[0::2]) # print even indexes\n",
    "print(s[1::2]) # print odd indexes\n",
    "print(s[::-1]) # print in reverse"
   ]
  },
  {
   "cell_type": "code",
   "execution_count": 108,
   "id": "26b64418",
   "metadata": {},
   "outputs": [
    {
     "name": "stdout",
     "output_type": "stream",
     "text": [
      "5432\n"
     ]
    }
   ],
   "source": [
    "print(s[5:1:-1])"
   ]
  },
  {
   "cell_type": "code",
   "execution_count": null,
   "id": "efd13403",
   "metadata": {},
   "outputs": [
    {
     "name": "stdout",
     "output_type": "stream",
     "text": [
      "97531\n",
      "86420\n"
     ]
    }
   ],
   "source": [
    "print(s[::-2]) # print odd indexes in reverse\n",
    "print(s[-2::-2]) # print even indexes in reverse"
   ]
  },
  {
   "cell_type": "code",
   "execution_count": null,
   "id": "2dc2948d",
   "metadata": {},
   "outputs": [
    {
     "name": "stdout",
     "output_type": "stream",
     "text": [
      "ej\n",
      "adgj\n",
      "fa\n",
      "heb\n",
      "jfb\n"
     ]
    }
   ],
   "source": [
    "s = \"abcdefghij\" # practice\n",
    "print(s[4::5])\n",
    "print(s[::3])\n",
    "print(s[5::-5])\n",
    "print(s[7:0:-3])\n",
    "print(s[:0:-4])"
   ]
  },
  {
   "cell_type": "code",
   "execution_count": 150,
   "id": "ab63436f",
   "metadata": {},
   "outputs": [
    {
     "data": {
      "text/plain": [
       "'Abcdefghij'"
      ]
     },
     "execution_count": 150,
     "metadata": {},
     "output_type": "execute_result"
    }
   ],
   "source": [
    "s.capitalize()\n"
   ]
  },
  {
   "cell_type": "code",
   "execution_count": null,
   "id": "e017759b",
   "metadata": {},
   "outputs": [
    {
     "name": "stdout",
     "output_type": "stream",
     "text": [
      "HELLO WORLD\n",
      "hello world\n",
      "6\n",
      "Hello world\n",
      "3\n",
      "1\n",
      "hello world\n",
      "['Hello', 'World']\n",
      "Hello World\n",
      "Hello World\n",
      "Hello-World\n",
      "                   Hello World                    \n"
     ]
    },
    {
     "data": {
      "text/plain": [
       "'Hello=World'"
      ]
     },
     "execution_count": 186,
     "metadata": {},
     "output_type": "execute_result"
    }
   ],
   "source": [
    "# string methods\n",
    "\n",
    "s = \"Hello World\"\n",
    "\n",
    "print(s.upper())\n",
    "print(s.lower())\n",
    "print(s.index(\"W\"))\n",
    "print(s.capitalize())\n",
    "print(s.find(\"lo\"))\n",
    "print(s.count(\"e\"))\n",
    "print(s.casefold())\n",
    "print(s.split(\" \"))\n",
    "print(s.ljust())\n",
    "print(s.rjust(4, \"-\"))\n",
    "print(s.replace(\" \", \"-\"))\n",
    "print(s.center(50, \" \"))\n",
    "\"=\".join(['Hello', 'World'])\n"
   ]
  },
  {
   "cell_type": "code",
   "execution_count": null,
   "id": "e29eec11",
   "metadata": {},
   "outputs": [
    {
     "name": "stdout",
     "output_type": "stream",
     "text": [
      "Hello         \n",
      "            Hello\n",
      "Hello\n",
      "\n"
     ]
    }
   ],
   "source": [
    "s = \"            Hello         \"\n",
    "print(s.lstrip())\n",
    "print(s.rstrip())\n",
    "print(s.strip())\n",
    "\n",
    "print()\n",
    "\n",
    "# format, splitlines, swap case"
   ]
  },
  {
   "cell_type": "code",
   "execution_count": null,
   "id": "13125170",
   "metadata": {},
   "outputs": [],
   "source": []
  }
 ],
 "metadata": {
  "kernelspec": {
   "display_name": "Python 3",
   "language": "python",
   "name": "python3"
  },
  "language_info": {
   "codemirror_mode": {
    "name": "ipython",
    "version": 3
   },
   "file_extension": ".py",
   "mimetype": "text/x-python",
   "name": "python",
   "nbconvert_exporter": "python",
   "pygments_lexer": "ipython3",
   "version": "3.10.12"
  }
 },
 "nbformat": 4,
 "nbformat_minor": 5
}
