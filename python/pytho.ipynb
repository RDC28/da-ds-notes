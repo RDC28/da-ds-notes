{
  "cells": [
    {
      "cell_type": "code",
      "execution_count": null,
      "id": "85ffff96",
      "metadata": {
        "id": "85ffff96"
      },
      "outputs": [],
      "source": [
        "a=10"
      ]
    },
    {
      "cell_type": "code",
      "execution_count": null,
      "id": "5202e721",
      "metadata": {
        "id": "5202e721",
        "outputId": "eda203a9-8f84-4459-ba0f-ea53f69cd2e2"
      },
      "outputs": [
        {
          "name": "stdout",
          "output_type": "stream",
          "text": [
            "10\n"
          ]
        }
      ],
      "source": [
        "print (a)"
      ]
    },
    {
      "cell_type": "code",
      "execution_count": null,
      "id": "7ff2274f",
      "metadata": {
        "id": "7ff2274f",
        "outputId": "a057c9bd-6bfc-45e0-d42c-fe13b7a7a97f"
      },
      "outputs": [
        {
          "name": "stdout",
          "output_type": "stream",
          "text": [
            "<class 'int'>\n"
          ]
        }
      ],
      "source": [
        "print (type(a))"
      ]
    },
    {
      "cell_type": "code",
      "execution_count": null,
      "id": "6be87a4c",
      "metadata": {
        "id": "6be87a4c",
        "outputId": "e399556d-2039-4a3d-c861-991800eaa4e7"
      },
      "outputs": [
        {
          "name": "stdout",
          "output_type": "stream",
          "text": [
            "139923376292368\n"
          ]
        }
      ],
      "source": [
        "print (id(a))"
      ]
    },
    {
      "cell_type": "code",
      "execution_count": null,
      "id": "c37be7cc",
      "metadata": {
        "id": "c37be7cc"
      },
      "outputs": [],
      "source": [
        "b = 103.4\n"
      ]
    },
    {
      "cell_type": "code",
      "execution_count": null,
      "id": "73d1e549",
      "metadata": {
        "id": "73d1e549",
        "outputId": "a0c918e3-1723-40e3-c84a-5b1b11a8f9d2"
      },
      "outputs": [
        {
          "name": "stdout",
          "output_type": "stream",
          "text": [
            "<class 'float'>\n"
          ]
        }
      ],
      "source": [
        "print (type(b))"
      ]
    },
    {
      "cell_type": "code",
      "execution_count": null,
      "id": "f5b8fbd2",
      "metadata": {
        "id": "f5b8fbd2",
        "outputId": "aa628594-514b-4917-d0af-4b9ca4659c5c"
      },
      "outputs": [
        {
          "name": "stdout",
          "output_type": "stream",
          "text": [
            "<class 'float'>\n"
          ]
        }
      ],
      "source": [
        "a = float(a)\n",
        "print (type(a))"
      ]
    },
    {
      "cell_type": "code",
      "execution_count": null,
      "id": "3b4d3754",
      "metadata": {
        "id": "3b4d3754",
        "outputId": "e15218d1-d3aa-4592-c047-eb1d3e9b0c49"
      },
      "outputs": [
        {
          "name": "stdout",
          "output_type": "stream",
          "text": [
            "hello\n"
          ]
        }
      ],
      "source": [
        "c = \"hello\"\n",
        "print (c)"
      ]
    },
    {
      "cell_type": "code",
      "execution_count": null,
      "id": "c201a57d",
      "metadata": {
        "id": "c201a57d"
      },
      "outputs": [],
      "source": [
        "d = 1+0j"
      ]
    },
    {
      "cell_type": "code",
      "execution_count": null,
      "id": "1278ad2f",
      "metadata": {
        "id": "1278ad2f",
        "outputId": "ec26ca3e-1768-4ce5-e8ab-63e48337e335"
      },
      "outputs": [
        {
          "name": "stdout",
          "output_type": "stream",
          "text": [
            "<class 'complex'>\n"
          ]
        }
      ],
      "source": [
        "print (type(d))"
      ]
    },
    {
      "cell_type": "code",
      "execution_count": null,
      "id": "eead6d72",
      "metadata": {
        "id": "eead6d72",
        "outputId": "c57ae4db-70c3-46c4-f72a-1ea867c3afe1"
      },
      "outputs": [
        {
          "name": "stdout",
          "output_type": "stream",
          "text": [
            "<class 'NoneType'>\n"
          ]
        }
      ],
      "source": [
        "e = None\n",
        "print (type(e))"
      ]
    },
    {
      "cell_type": "code",
      "execution_count": null,
      "id": "bf87a436",
      "metadata": {
        "id": "bf87a436",
        "outputId": "257634e0-332e-432e-a4e2-84450dbd5615"
      },
      "outputs": [
        {
          "name": "stdout",
          "output_type": "stream",
          "text": [
            "<class 'bool'>\n"
          ]
        }
      ],
      "source": [
        "f = True\n",
        "print (type(f))"
      ]
    },
    {
      "cell_type": "code",
      "execution_count": null,
      "id": "0736b49a",
      "metadata": {
        "id": "0736b49a",
        "outputId": "a1ba5000-64f8-4cbe-c719-69e552e6eb0d"
      },
      "outputs": [
        {
          "data": {
            "text/plain": [
              "3.75"
            ]
          },
          "execution_count": 13,
          "metadata": {},
          "output_type": "execute_result"
        }
      ],
      "source": [
        "15/4"
      ]
    },
    {
      "cell_type": "code",
      "execution_count": null,
      "id": "0e9ed8fd",
      "metadata": {
        "id": "0e9ed8fd",
        "outputId": "408d5c62-1faa-4968-b769-5289fa1388bf"
      },
      "outputs": [
        {
          "data": {
            "text/plain": [
              "12"
            ]
          },
          "execution_count": 14,
          "metadata": {},
          "output_type": "execute_result"
        }
      ],
      "source": [
        "10+2"
      ]
    },
    {
      "cell_type": "code",
      "execution_count": null,
      "id": "367787db",
      "metadata": {
        "id": "367787db",
        "outputId": "15049cd2-f2aa-41dc-ae1a-318cee416ae2"
      },
      "outputs": [
        {
          "data": {
            "text/plain": [
              "9"
            ]
          },
          "execution_count": 15,
          "metadata": {},
          "output_type": "execute_result"
        }
      ],
      "source": [
        "13-4"
      ]
    },
    {
      "cell_type": "code",
      "execution_count": null,
      "id": "a9a9641e",
      "metadata": {
        "id": "a9a9641e",
        "outputId": "3f2239b1-5038-46db-bf1b-69e0fe13d44b"
      },
      "outputs": [
        {
          "name": "stdout",
          "output_type": "stream",
          "text": [
            "36\n"
          ]
        }
      ],
      "source": [
        "print (12*3)"
      ]
    },
    {
      "cell_type": "code",
      "execution_count": null,
      "id": "2fbacb24",
      "metadata": {
        "id": "2fbacb24",
        "outputId": "38e78bbe-4d93-4180-87f3-bf3a4514d85d"
      },
      "outputs": [
        {
          "name": "stdout",
          "output_type": "stream",
          "text": [
            "4\n"
          ]
        }
      ],
      "source": [
        "print (18//4)"
      ]
    },
    {
      "cell_type": "code",
      "execution_count": null,
      "id": "db599f78",
      "metadata": {
        "id": "db599f78",
        "outputId": "24bc91bc-8c41-452a-9040-873fe499e60e"
      },
      "outputs": [
        {
          "data": {
            "text/plain": [
              "2"
            ]
          },
          "execution_count": 18,
          "metadata": {},
          "output_type": "execute_result"
        }
      ],
      "source": [
        "18%4"
      ]
    },
    {
      "cell_type": "code",
      "execution_count": null,
      "id": "837ee113",
      "metadata": {
        "id": "837ee113",
        "outputId": "aedee3f2-136d-4fe4-b511-9fd40785df8b"
      },
      "outputs": [
        {
          "data": {
            "text/plain": [
              "(10.0, 103.4)"
            ]
          },
          "execution_count": 19,
          "metadata": {},
          "output_type": "execute_result"
        }
      ],
      "source": [
        "a,b"
      ]
    },
    {
      "cell_type": "code",
      "execution_count": null,
      "id": "8f29bd98",
      "metadata": {
        "id": "8f29bd98",
        "outputId": "bf530ddf-a28e-4498-b7d2-f9329f87fa36"
      },
      "outputs": [
        {
          "name": "stdout",
          "output_type": "stream",
          "text": [
            "a+b=  113.4\n",
            "a-b=  -93.4\n",
            "a*b= 1034.0\n",
            "a**b=  2.511886431509613e+103\n"
          ]
        }
      ],
      "source": [
        "print(\"a+b=\",a+b,sep=\"  \")\n",
        "print(\"a-b=\",a-b,sep=\"  \")\n",
        "print(\"a*b=\", a*b)\n",
        "print (\"a**b=\",a**b, sep=\"  \")"
      ]
    },
    {
      "cell_type": "code",
      "execution_count": null,
      "id": "6c88811f",
      "metadata": {
        "id": "6c88811f",
        "outputId": "05876ab5-c16e-4406-9e6b-a0ab247022af"
      },
      "outputs": [
        {
          "data": {
            "text/plain": [
              "10.0"
            ]
          },
          "execution_count": 21,
          "metadata": {},
          "output_type": "execute_result"
        }
      ],
      "source": [
        "a"
      ]
    },
    {
      "cell_type": "code",
      "execution_count": null,
      "id": "2d43aac6",
      "metadata": {
        "id": "2d43aac6",
        "outputId": "20abbcb4-ab84-405f-ad4e-2bcf0746dd24"
      },
      "outputs": [
        {
          "name": "stdout",
          "output_type": "stream",
          "text": [
            "12.0\n"
          ]
        }
      ],
      "source": [
        "a=a+2\n",
        "print (a)"
      ]
    },
    {
      "cell_type": "code",
      "execution_count": null,
      "id": "c0268f90",
      "metadata": {
        "id": "c0268f90",
        "outputId": "b69e0c1a-e536-4c6d-ed38-da9ff21aba1e"
      },
      "outputs": [
        {
          "name": "stdout",
          "output_type": "stream",
          "text": [
            "14.0\n"
          ]
        }
      ],
      "source": [
        "a+=2\n",
        "print(a)"
      ]
    },
    {
      "cell_type": "code",
      "execution_count": null,
      "id": "448d16dd",
      "metadata": {
        "id": "448d16dd",
        "outputId": "371cfb6b-183e-4599-90f2-6669bf9577f5"
      },
      "outputs": [
        {
          "name": "stdout",
          "output_type": "stream",
          "text": [
            "12.0\n"
          ]
        }
      ],
      "source": [
        "a-=2\n",
        "print(a)"
      ]
    },
    {
      "cell_type": "code",
      "execution_count": null,
      "id": "7a833eb8",
      "metadata": {
        "id": "7a833eb8",
        "outputId": "12e93cc2-dd00-4b8e-d070-b51401ca979d"
      },
      "outputs": [
        {
          "name": "stdout",
          "output_type": "stream",
          "text": [
            "24.0\n"
          ]
        }
      ],
      "source": [
        "a*=2\n",
        "print (a)"
      ]
    },
    {
      "cell_type": "code",
      "execution_count": null,
      "id": "8dd5de5d",
      "metadata": {
        "id": "8dd5de5d",
        "outputId": "19e98269-9218-46ab-8f95-e075e89a1285"
      },
      "outputs": [
        {
          "name": "stdout",
          "output_type": "stream",
          "text": [
            "12.0\n"
          ]
        }
      ],
      "source": [
        "a/=2\n",
        "print(a)"
      ]
    },
    {
      "cell_type": "code",
      "execution_count": null,
      "id": "95e8d528",
      "metadata": {
        "id": "95e8d528",
        "outputId": "8cae7ecf-48ca-4e76-fe39-65e9a7298810"
      },
      "outputs": [
        {
          "name": "stdout",
          "output_type": "stream",
          "text": [
            "0.0\n"
          ]
        }
      ],
      "source": [
        "a%=2\n",
        "print (a)"
      ]
    },
    {
      "cell_type": "code",
      "execution_count": null,
      "id": "ba13ad22",
      "metadata": {
        "id": "ba13ad22",
        "outputId": "55d8eb5c-1a10-4435-a84d-61088d3e81e9"
      },
      "outputs": [
        {
          "data": {
            "text/plain": [
              "True"
            ]
          },
          "execution_count": 28,
          "metadata": {},
          "output_type": "execute_result"
        }
      ],
      "source": [
        "10==10"
      ]
    },
    {
      "cell_type": "code",
      "execution_count": null,
      "id": "ab0add71",
      "metadata": {
        "id": "ab0add71",
        "outputId": "b0e51326-d720-4076-9bab-1460ce65d408"
      },
      "outputs": [
        {
          "data": {
            "text/plain": [
              "False"
            ]
          },
          "execution_count": 29,
          "metadata": {},
          "output_type": "execute_result"
        }
      ],
      "source": [
        "'10'==10"
      ]
    },
    {
      "cell_type": "code",
      "execution_count": null,
      "id": "eade3187",
      "metadata": {
        "id": "eade3187",
        "outputId": "73a9d95f-1ebf-4147-d2ca-5f9ee4951b4d"
      },
      "outputs": [
        {
          "data": {
            "text/plain": [
              "1"
            ]
          },
          "execution_count": 30,
          "metadata": {},
          "output_type": "execute_result"
        }
      ],
      "source": [
        "1 and 1"
      ]
    },
    {
      "cell_type": "code",
      "execution_count": null,
      "id": "1b8ff70f",
      "metadata": {
        "id": "1b8ff70f",
        "outputId": "750c355e-bfd3-42c5-fd13-f7ed3d6d5359"
      },
      "outputs": [
        {
          "data": {
            "text/plain": [
              "False"
            ]
          },
          "execution_count": 31,
          "metadata": {},
          "output_type": "execute_result"
        }
      ],
      "source": [
        "bool(2 and \"\")"
      ]
    },
    {
      "cell_type": "code",
      "execution_count": null,
      "id": "d90305e1",
      "metadata": {
        "id": "d90305e1",
        "outputId": "c92a346e-4bb1-43ca-a344-1f1f5d002ba4"
      },
      "outputs": [
        {
          "data": {
            "text/plain": [
              "False"
            ]
          },
          "execution_count": 32,
          "metadata": {},
          "output_type": "execute_result"
        }
      ],
      "source": [
        "bool(None)"
      ]
    },
    {
      "cell_type": "code",
      "execution_count": null,
      "id": "d814c468",
      "metadata": {
        "id": "d814c468",
        "outputId": "c2790612-a064-48d7-d1e8-11e902e66507"
      },
      "outputs": [
        {
          "data": {
            "text/plain": [
              "False"
            ]
          },
          "execution_count": 33,
          "metadata": {},
          "output_type": "execute_result"
        }
      ],
      "source": [
        "bool(\"\")"
      ]
    },
    {
      "cell_type": "code",
      "execution_count": null,
      "id": "13843b8c",
      "metadata": {
        "id": "13843b8c",
        "outputId": "e6deab95-3dff-4395-800b-c3151efc7076"
      },
      "outputs": [
        {
          "data": {
            "text/plain": [
              "False"
            ]
          },
          "execution_count": 34,
          "metadata": {},
          "output_type": "execute_result"
        }
      ],
      "source": [
        "bool(0)"
      ]
    },
    {
      "cell_type": "code",
      "execution_count": null,
      "id": "090f899f",
      "metadata": {
        "id": "090f899f",
        "outputId": "013391c5-83d8-48e8-9738-b77f55ac31b1"
      },
      "outputs": [
        {
          "data": {
            "text/plain": [
              "False"
            ]
          },
          "execution_count": 35,
          "metadata": {},
          "output_type": "execute_result"
        }
      ],
      "source": [
        "bool({})"
      ]
    },
    {
      "cell_type": "code",
      "execution_count": null,
      "id": "4ca65d79",
      "metadata": {
        "id": "4ca65d79",
        "outputId": "b78b7183-9f5c-4489-8d4b-5e4c2a7a5ae9"
      },
      "outputs": [
        {
          "data": {
            "text/plain": [
              "False"
            ]
          },
          "execution_count": 36,
          "metadata": {},
          "output_type": "execute_result"
        }
      ],
      "source": [
        "bool([])"
      ]
    },
    {
      "cell_type": "code",
      "execution_count": null,
      "id": "c3894896",
      "metadata": {
        "id": "c3894896",
        "outputId": "114f8315-efa1-4d19-e903-c29a04d5d01d"
      },
      "outputs": [
        {
          "data": {
            "text/plain": [
              "True"
            ]
          },
          "execution_count": 37,
          "metadata": {},
          "output_type": "execute_result"
        }
      ],
      "source": [
        "1 and 0 or True"
      ]
    },
    {
      "cell_type": "code",
      "execution_count": null,
      "id": "c42704c6",
      "metadata": {
        "id": "c42704c6",
        "outputId": "4b202c96-f65d-4304-c85b-ea0db982d843"
      },
      "outputs": [
        {
          "data": {
            "text/plain": [
              "1"
            ]
          },
          "execution_count": 38,
          "metadata": {},
          "output_type": "execute_result"
        }
      ],
      "source": [
        "1 or 0 and True"
      ]
    },
    {
      "cell_type": "code",
      "execution_count": null,
      "id": "af3440aa",
      "metadata": {
        "id": "af3440aa",
        "outputId": "b6a7dbab-41b0-4c2a-e136-2fa38e6e83b4"
      },
      "outputs": [
        {
          "data": {
            "text/plain": [
              "65536"
            ]
          },
          "execution_count": 39,
          "metadata": {},
          "output_type": "execute_result"
        }
      ],
      "source": [
        "4**2**3"
      ]
    },
    {
      "cell_type": "code",
      "execution_count": null,
      "id": "8893c6d4",
      "metadata": {
        "id": "8893c6d4",
        "outputId": "6d84da22-62e4-4a04-ad12-690a34fe9f3b"
      },
      "outputs": [
        {
          "data": {
            "text/plain": [
              "65536"
            ]
          },
          "execution_count": 40,
          "metadata": {},
          "output_type": "execute_result"
        }
      ],
      "source": [
        "4**8"
      ]
    },
    {
      "cell_type": "code",
      "execution_count": null,
      "id": "dca82cf8",
      "metadata": {
        "id": "dca82cf8",
        "outputId": "18145ebc-63b9-4d0c-fe04-326645d82f54"
      },
      "outputs": [
        {
          "data": {
            "text/plain": [
              "False"
            ]
          },
          "execution_count": 41,
          "metadata": {},
          "output_type": "execute_result"
        }
      ],
      "source": [
        "not 1"
      ]
    },
    {
      "cell_type": "code",
      "execution_count": null,
      "id": "19600c60",
      "metadata": {
        "id": "19600c60",
        "outputId": "2d09224b-17e6-4762-b509-443fb6777dbc"
      },
      "outputs": [
        {
          "data": {
            "text/plain": [
              "False"
            ]
          },
          "execution_count": 42,
          "metadata": {},
          "output_type": "execute_result"
        }
      ],
      "source": [
        "not True"
      ]
    },
    {
      "cell_type": "code",
      "execution_count": null,
      "id": "4e340a64",
      "metadata": {
        "id": "4e340a64",
        "outputId": "ac640135-4a6a-4460-91c3-7b3960e3bc6d"
      },
      "outputs": [
        {
          "data": {
            "text/plain": [
              "True"
            ]
          },
          "execution_count": 43,
          "metadata": {},
          "output_type": "execute_result"
        }
      ],
      "source": [
        "not 0"
      ]
    },
    {
      "cell_type": "code",
      "execution_count": null,
      "id": "404d5de9",
      "metadata": {
        "id": "404d5de9",
        "outputId": "ba07240d-5954-41b9-bf49-6bb8eec66c22"
      },
      "outputs": [
        {
          "data": {
            "text/plain": [
              "0"
            ]
          },
          "execution_count": 44,
          "metadata": {},
          "output_type": "execute_result"
        }
      ],
      "source": [
        "7 & 8"
      ]
    },
    {
      "cell_type": "code",
      "execution_count": null,
      "id": "cb1fc007",
      "metadata": {
        "id": "cb1fc007",
        "outputId": "85596fda-59a1-4f07-83b7-4ee4fee36aaa"
      },
      "outputs": [
        {
          "data": {
            "text/plain": [
              "15"
            ]
          },
          "execution_count": 45,
          "metadata": {},
          "output_type": "execute_result"
        }
      ],
      "source": [
        "7|8"
      ]
    },
    {
      "cell_type": "code",
      "execution_count": null,
      "id": "62b738a8",
      "metadata": {
        "id": "62b738a8",
        "outputId": "df746476-4512-4001-a4e9-5248e0bae32b"
      },
      "outputs": [
        {
          "data": {
            "text/plain": [
              "15"
            ]
          },
          "execution_count": 46,
          "metadata": {},
          "output_type": "execute_result"
        }
      ],
      "source": [
        "0b1111"
      ]
    },
    {
      "cell_type": "code",
      "execution_count": null,
      "id": "c287ddbb",
      "metadata": {
        "id": "c287ddbb",
        "outputId": "b323f318-c9e9-46c5-cc10-5663851d77fe"
      },
      "outputs": [
        {
          "data": {
            "text/plain": [
              "4369"
            ]
          },
          "execution_count": 47,
          "metadata": {},
          "output_type": "execute_result"
        }
      ],
      "source": [
        "0x1111"
      ]
    },
    {
      "cell_type": "code",
      "execution_count": null,
      "id": "7bb70679",
      "metadata": {
        "id": "7bb70679",
        "outputId": "bd279ccc-619d-4928-ba9a-294afccd433a"
      },
      "outputs": [
        {
          "data": {
            "text/plain": [
              "15"
            ]
          },
          "execution_count": 48,
          "metadata": {},
          "output_type": "execute_result"
        }
      ],
      "source": [
        "0xf"
      ]
    },
    {
      "cell_type": "code",
      "execution_count": null,
      "id": "6127e550",
      "metadata": {
        "id": "6127e550",
        "outputId": "7a4e2c2d-2ed9-4db5-f0cc-e86efc162ce1"
      },
      "outputs": [
        {
          "data": {
            "text/plain": [
              "73"
            ]
          },
          "execution_count": 49,
          "metadata": {},
          "output_type": "execute_result"
        }
      ],
      "source": [
        "0o111"
      ]
    },
    {
      "cell_type": "code",
      "execution_count": null,
      "id": "01b779f2",
      "metadata": {
        "id": "01b779f2",
        "outputId": "042a46db-b76b-48b3-cca7-50434aaa424a"
      },
      "outputs": [
        {
          "data": {
            "text/plain": [
              "585"
            ]
          },
          "execution_count": 50,
          "metadata": {},
          "output_type": "execute_result"
        }
      ],
      "source": [
        "0o1111"
      ]
    },
    {
      "cell_type": "code",
      "execution_count": null,
      "id": "36fd366a",
      "metadata": {
        "id": "36fd366a",
        "outputId": "c686753c-b0b4-4bdd-ef0d-0a4194a47599"
      },
      "outputs": [
        {
          "data": {
            "text/plain": [
              "-11"
            ]
          },
          "execution_count": 51,
          "metadata": {},
          "output_type": "execute_result"
        }
      ],
      "source": [
        "~10"
      ]
    },
    {
      "cell_type": "code",
      "execution_count": null,
      "id": "46966fd1",
      "metadata": {
        "id": "46966fd1",
        "outputId": "8c3537ff-1f8d-420b-aaef-a7889f892ad4"
      },
      "outputs": [
        {
          "data": {
            "text/plain": [
              "10"
            ]
          },
          "execution_count": 52,
          "metadata": {},
          "output_type": "execute_result"
        }
      ],
      "source": [
        "~-11"
      ]
    },
    {
      "cell_type": "code",
      "execution_count": null,
      "id": "0436ba36",
      "metadata": {
        "id": "0436ba36",
        "outputId": "a6827ca7-024b-4a55-ab79-0ced1403102a"
      },
      "outputs": [
        {
          "data": {
            "text/plain": [
              "15"
            ]
          },
          "execution_count": 53,
          "metadata": {},
          "output_type": "execute_result"
        }
      ],
      "source": [
        "7^8"
      ]
    },
    {
      "cell_type": "code",
      "execution_count": null,
      "id": "fbba0449",
      "metadata": {
        "id": "fbba0449",
        "outputId": "6004e65d-b001-4629-9615-4e91b41ed3f1"
      },
      "outputs": [
        {
          "data": {
            "text/plain": [
              "0"
            ]
          },
          "execution_count": 54,
          "metadata": {},
          "output_type": "execute_result"
        }
      ],
      "source": [
        "8^8"
      ]
    },
    {
      "cell_type": "code",
      "execution_count": null,
      "id": "cbe2724e",
      "metadata": {
        "id": "cbe2724e",
        "outputId": "c08ab185-e559-431a-f132-aa58d9dc43ae"
      },
      "outputs": [
        {
          "name": "stdout",
          "output_type": "stream",
          "text": [
            "POSITIVE\n",
            "10\n"
          ]
        }
      ],
      "source": [
        "num = 10\n",
        "if num>0:\n",
        "    print (\"POSITIVE\")\n",
        "    print (num)\n",
        "else:\n",
        "    print (\"NEGATIVE\")"
      ]
    },
    {
      "cell_type": "code",
      "execution_count": null,
      "id": "60c537d8",
      "metadata": {
        "id": "60c537d8",
        "outputId": "ddced889-ceb4-495a-89fc-8a642a2ea65d"
      },
      "outputs": [
        {
          "ename": "IndentationError",
          "evalue": "unexpected indent (3346571938.py, line 4)",
          "output_type": "error",
          "traceback": [
            "\u001b[0;36m  Cell \u001b[0;32mIn[56], line 4\u001b[0;36m\u001b[0m\n\u001b[0;31m    print (num)\u001b[0m\n\u001b[0m    ^\u001b[0m\n\u001b[0;31mIndentationError\u001b[0m\u001b[0;31m:\u001b[0m unexpected indent\n"
          ]
        }
      ],
      "source": [
        "num = 10\n",
        "if num>0:\n",
        "    print (\"POSITIVE\")\n",
        "       print (num)\n",
        "    else:\n",
        "    print (\"NEGATIVE\")"
      ]
    },
    {
      "cell_type": "code",
      "execution_count": null,
      "id": "993a833f",
      "metadata": {
        "id": "993a833f",
        "outputId": "d7d3f181-150b-4a9f-e01d-0cb6da8688ad"
      },
      "outputs": [
        {
          "ename": "SyntaxError",
          "evalue": "incomplete input (3316007750.py, line 2)",
          "output_type": "error",
          "traceback": [
            "\u001b[0;36m  Cell \u001b[0;32mIn[29], line 2\u001b[0;36m\u001b[0m\n\u001b[0;31m    if num>0:\u001b[0m\n\u001b[0m             ^\u001b[0m\n\u001b[0;31mSyntaxError\u001b[0m\u001b[0;31m:\u001b[0m incomplete input\n"
          ]
        }
      ],
      "source": [
        "num = 10\n",
        "if num>0:"
      ]
    },
    {
      "cell_type": "code",
      "execution_count": null,
      "id": "d5a26990",
      "metadata": {
        "id": "d5a26990"
      },
      "outputs": [],
      "source": [
        "num = 10\n",
        "if num>0:\n",
        "   pass"
      ]
    },
    {
      "cell_type": "code",
      "execution_count": null,
      "id": "b6fefbf7",
      "metadata": {
        "id": "b6fefbf7",
        "outputId": "cd23e546-9d8c-474e-d5a0-43d33a4222a2"
      },
      "outputs": [
        {
          "data": {
            "text/plain": [
              "1"
            ]
          },
          "execution_count": 58,
          "metadata": {},
          "output_type": "execute_result"
        }
      ],
      "source": [
        "7>>2"
      ]
    },
    {
      "cell_type": "code",
      "execution_count": null,
      "id": "e5adae58",
      "metadata": {
        "id": "e5adae58",
        "outputId": "487ddfd1-d51c-489c-e55b-0730843d95bc"
      },
      "outputs": [
        {
          "data": {
            "text/plain": [
              "28"
            ]
          },
          "execution_count": 59,
          "metadata": {},
          "output_type": "execute_result"
        }
      ],
      "source": [
        "7<<2"
      ]
    },
    {
      "cell_type": "code",
      "execution_count": null,
      "id": "8d1f22e5",
      "metadata": {
        "id": "8d1f22e5",
        "outputId": "1fd10fdb-97b3-4277-d48c-f27029934dc0"
      },
      "outputs": [
        {
          "name": "stdout",
          "output_type": "stream",
          "text": [
            "false statement \n"
          ]
        }
      ],
      "source": [
        "if False:\n",
        "    print (\"true statement\")\n",
        "else:\n",
        "    print (\"false statement \")"
      ]
    },
    {
      "cell_type": "code",
      "execution_count": null,
      "id": "4ed26683",
      "metadata": {
        "id": "4ed26683",
        "outputId": "9fb26bf3-7e99-435a-e028-1c69db138948"
      },
      "outputs": [
        {
          "name": "stdout",
          "output_type": "stream",
          "text": [
            "114  is even\n"
          ]
        }
      ],
      "source": [
        "num = 114\n",
        "if num%2:\n",
        "    print (num,\" is odd\")\n",
        "else:\n",
        "    print (num,\" is even\")"
      ]
    },
    {
      "cell_type": "code",
      "execution_count": null,
      "id": "bb446fc7",
      "metadata": {
        "id": "bb446fc7",
        "outputId": "e7b06a07-a927-4c3a-da26-0f6ade5b2541"
      },
      "outputs": [
        {
          "name": "stdout",
          "output_type": "stream",
          "text": [
            "\n"
          ]
        }
      ],
      "source": [
        "print (input(\"enter a number\"))"
      ]
    },
    {
      "cell_type": "code",
      "execution_count": null,
      "id": "597426d8",
      "metadata": {
        "id": "597426d8",
        "outputId": "554b52fb-f9a0-4eb1-ff77-bc2b42300649"
      },
      "outputs": [
        {
          "name": "stdout",
          "output_type": "stream",
          "text": [
            "<class 'int'>\n"
          ]
        }
      ],
      "source": [
        "num = int(input('enter a number'))\n",
        "print (type(num))"
      ]
    },
    {
      "cell_type": "code",
      "execution_count": null,
      "id": "1b6c6b0d",
      "metadata": {
        "id": "1b6c6b0d",
        "outputId": "38b342ec-11b3-4a5d-a57a-7f3c16c225c4"
      },
      "outputs": [
        {
          "name": "stdout",
          "output_type": "stream",
          "text": [
            "123  is odd\n"
          ]
        }
      ],
      "source": [
        "num =  int(input('enter a number'))\n",
        "if num%2:\n",
        "    print (num,\" is odd\")\n",
        "else:\n",
        "    print (num,\" is even\")"
      ]
    },
    {
      "cell_type": "code",
      "execution_count": null,
      "id": "b4aff987",
      "metadata": {
        "id": "b4aff987",
        "outputId": "c947e08b-2ee0-40c8-e9cf-504291cf48f2"
      },
      "outputs": [
        {
          "name": "stdout",
          "output_type": "stream",
          "text": [
            "12332  is even\n"
          ]
        }
      ],
      "source": [
        "num =  int(input('enter a number'))\n",
        "if num%2:\n",
        "    print (num,\" is odd\")\n",
        "else:\n",
        "    print (num,\" is even\")"
      ]
    },
    {
      "cell_type": "code",
      "execution_count": null,
      "id": "6aa8e73c",
      "metadata": {
        "id": "6aa8e73c",
        "outputId": "c7d3e374-2a76-4328-e52f-53cd83c4646e"
      },
      "outputs": [
        {
          "data": {
            "text/plain": [
              "'A'"
            ]
          },
          "execution_count": 66,
          "metadata": {},
          "output_type": "execute_result"
        }
      ],
      "source": [
        "chr(65)"
      ]
    },
    {
      "cell_type": "code",
      "execution_count": null,
      "id": "653cf1e0",
      "metadata": {
        "id": "653cf1e0",
        "outputId": "8e2e8467-ce47-40f2-9506-2284fd98b13f"
      },
      "outputs": [
        {
          "data": {
            "text/plain": [
              "65"
            ]
          },
          "execution_count": 67,
          "metadata": {},
          "output_type": "execute_result"
        }
      ],
      "source": [
        "ord('A')"
      ]
    },
    {
      "cell_type": "code",
      "execution_count": null,
      "id": "a4d14d8d",
      "metadata": {
        "id": "a4d14d8d",
        "outputId": "cc30bccc-dd48-4a11-913d-17e0ee5bad35"
      },
      "outputs": [
        {
          "data": {
            "text/plain": [
              "48"
            ]
          },
          "execution_count": 68,
          "metadata": {},
          "output_type": "execute_result"
        }
      ],
      "source": [
        "ord('0')"
      ]
    },
    {
      "cell_type": "code",
      "execution_count": null,
      "id": "770d2cb7",
      "metadata": {
        "id": "770d2cb7",
        "outputId": "fb3ee7c6-57fe-4c1f-8a5f-ddd25baf09f8"
      },
      "outputs": [
        {
          "data": {
            "text/plain": [
              "'\\t'"
            ]
          },
          "execution_count": 69,
          "metadata": {},
          "output_type": "execute_result"
        }
      ],
      "source": [
        "chr(9)"
      ]
    },
    {
      "cell_type": "code",
      "execution_count": null,
      "id": "bd1f78a5",
      "metadata": {
        "id": "bd1f78a5",
        "outputId": "18ae9a54-86e5-40df-a984-16b4aec2ae29"
      },
      "outputs": [
        {
          "name": "stdout",
          "output_type": "stream",
          "text": [
            "It is \"Python\"\n"
          ]
        }
      ],
      "source": [
        "print('It is \"Python\"')"
      ]
    },
    {
      "cell_type": "code",
      "execution_count": null,
      "id": "9eaa26c1",
      "metadata": {
        "id": "9eaa26c1",
        "outputId": "fff7481f-12de-4592-c5d1-0b0571275117"
      },
      "outputs": [
        {
          "name": "stdout",
          "output_type": "stream",
          "text": [
            "it's python\n"
          ]
        }
      ],
      "source": [
        "print (\"it's python\")"
      ]
    },
    {
      "cell_type": "code",
      "execution_count": null,
      "id": "92552704",
      "metadata": {
        "id": "92552704",
        "outputId": "e8133b2f-cba8-4b82-f876-94269b2f6b3a"
      },
      "outputs": [
        {
          "name": "stdout",
          "output_type": "stream",
          "text": [
            "it's \"python\"\n"
          ]
        }
      ],
      "source": [
        "print ('it\\'s \"python\"')"
      ]
    },
    {
      "cell_type": "code",
      "execution_count": null,
      "id": "c2537bac",
      "metadata": {
        "id": "c2537bac",
        "outputId": "abd5a44a-2ee0-4448-9ca4-05fc1792f592"
      },
      "outputs": [
        {
          "name": "stdout",
          "output_type": "stream",
          "text": [
            "it's \"python\"\n"
          ]
        }
      ],
      "source": [
        "print (\"it's \\\"python\\\"\")"
      ]
    },
    {
      "cell_type": "code",
      "execution_count": null,
      "id": "400985c6",
      "metadata": {
        "id": "400985c6",
        "outputId": "38509606-1d53-44df-99f3-f8a657c76060"
      },
      "outputs": [
        {
          "name": "stdout",
          "output_type": "stream",
          "text": [
            "\\n is for new line\n"
          ]
        }
      ],
      "source": [
        "print (\"\\\\n is for new line\")"
      ]
    },
    {
      "cell_type": "code",
      "execution_count": null,
      "id": "29f7478b",
      "metadata": {
        "id": "29f7478b",
        "outputId": "99b4c07c-ba93-41c0-949f-093c2f902734"
      },
      "outputs": [
        {
          "name": "stdout",
          "output_type": "stream",
          "text": [
            "it's \"\\t\" for tab space\n"
          ]
        }
      ],
      "source": [
        "print ('it\\'s \"\\\\t\" for tab space')"
      ]
    },
    {
      "cell_type": "code",
      "execution_count": null,
      "id": "24bb5f8a",
      "metadata": {
        "id": "24bb5f8a",
        "outputId": "5dcebf43-4a11-4d8f-c4a2-a0b524424df4"
      },
      "outputs": [
        {
          "name": "stdout",
          "output_type": "stream",
          "text": [
            "/home/quastech/yash/pytho.ipynb\n"
          ]
        }
      ],
      "source": [
        "print (\"/home/quastech/yash/pytho.ipynb\")"
      ]
    },
    {
      "cell_type": "code",
      "execution_count": null,
      "id": "3813aacf",
      "metadata": {
        "id": "3813aacf",
        "outputId": "1ba31bae-4e94-4571-f365-6ea5d9aa65cf"
      },
      "outputs": [
        {
          "name": "stdout",
          "output_type": "stream",
          "text": [
            "\\t\\n\n"
          ]
        }
      ],
      "source": [
        "print(r'\\t\\n')"
      ]
    },
    {
      "cell_type": "code",
      "execution_count": null,
      "id": "607b9ebe",
      "metadata": {
        "id": "607b9ebe"
      },
      "outputs": [],
      "source": [
        "name = \"Yash\"\n",
        "age = 21\n",
        "salary = 20000"
      ]
    },
    {
      "cell_type": "code",
      "execution_count": null,
      "id": "3e348242",
      "metadata": {
        "id": "3e348242",
        "outputId": "bf72cf20-e721-441f-ffa2-e9f46512ab4f"
      },
      "outputs": [
        {
          "name": "stdout",
          "output_type": "stream",
          "text": [
            "my name is Yash i am 21 years old and my salary is 20000\n"
          ]
        }
      ],
      "source": [
        "print (\"my name is\",name, \"i am\",age,\"years old and my salary is\", salary )"
      ]
    },
    {
      "cell_type": "code",
      "execution_count": null,
      "id": "1d8dcfe2",
      "metadata": {
        "id": "1d8dcfe2",
        "outputId": "a0d60e14-4c74-43c7-e7b4-fa52240393bc"
      },
      "outputs": [
        {
          "name": "stdout",
          "output_type": "stream",
          "text": [
            "my name is Yash, i am 21, years old and my salary is20000\n"
          ]
        }
      ],
      "source": [
        "print(f\"my name is {name}, i am {age}, years old and my salary is{salary}\")"
      ]
    },
    {
      "cell_type": "code",
      "execution_count": null,
      "id": "9245917c",
      "metadata": {
        "id": "9245917c",
        "outputId": "801c1d2c-0a5e-4570-f179-15b4dc498503"
      },
      "outputs": [
        {
          "name": "stdout",
          "output_type": "stream",
          "text": [
            "hello\n",
            "       hi\n",
            "       \n"
          ]
        }
      ],
      "source": [
        "print (\"\"\"hello\n",
        "       hi\n",
        "       \"\"\")"
      ]
    },
    {
      "cell_type": "code",
      "execution_count": null,
      "id": "75d2e15a",
      "metadata": {
        "id": "75d2e15a",
        "outputId": "884c1840-a76b-4b3b-b234-f398d03f51c0"
      },
      "outputs": [
        {
          "name": "stdout",
          "output_type": "stream",
          "text": [
            "5\n"
          ]
        }
      ],
      "source": [
        "age = 10\n",
        "t = 0\n",
        "if age > 12:\n",
        "    t = 10\n",
        "else:\n",
        "    t = 5\n",
        "print(t)"
      ]
    },
    {
      "cell_type": "code",
      "execution_count": null,
      "id": "1f911c89",
      "metadata": {
        "id": "1f911c89",
        "outputId": "d916147e-f95a-4b58-8548-5c11c99f08d8"
      },
      "outputs": [
        {
          "name": "stdout",
          "output_type": "stream",
          "text": [
            "10\n"
          ]
        }
      ],
      "source": [
        "age = 19\n",
        "t = 10 if age>12 else 5\n",
        "print(t)"
      ]
    },
    {
      "cell_type": "code",
      "execution_count": null,
      "id": "9511e9dd",
      "metadata": {
        "id": "9511e9dd",
        "outputId": "b704a98c-9934-493e-ee42-5c7fabecfbf2"
      },
      "outputs": [
        {
          "data": {
            "text/plain": [
              "34"
            ]
          },
          "execution_count": 84,
          "metadata": {},
          "output_type": "execute_result"
        }
      ],
      "source": [
        "32+2"
      ]
    },
    {
      "cell_type": "code",
      "execution_count": null,
      "id": "f2e27586",
      "metadata": {
        "id": "f2e27586",
        "outputId": "5229fd7b-7554-4d39-89d3-3d545b40cc06"
      },
      "outputs": [
        {
          "name": "stdout",
          "output_type": "stream",
          "text": [
            "20 is even\n"
          ]
        }
      ],
      "source": [
        "num = 20\n",
        "result= f\"{num} is odd\" if num%2 else f\"{num} is even\"\n",
        "print(result)"
      ]
    },
    {
      "cell_type": "code",
      "execution_count": null,
      "id": "9addd4b9",
      "metadata": {
        "id": "9addd4b9",
        "outputId": "ac97bee1-3707-4f72-ba71-b5ceef33b821"
      },
      "outputs": [
        {
          "name": "stdout",
          "output_type": "stream",
          "text": [
            "20 10\n"
          ]
        }
      ],
      "source": [
        "a=10\n",
        "b=20\n",
        "c=a\n",
        "a=b\n",
        "b=c\n",
        "print (a,b)"
      ]
    },
    {
      "cell_type": "code",
      "execution_count": null,
      "id": "f82b29f0",
      "metadata": {
        "id": "f82b29f0",
        "outputId": "775b098c-b2cd-4d6c-c4ea-ae485f5370f1"
      },
      "outputs": [
        {
          "name": "stdout",
          "output_type": "stream",
          "text": [
            "20 10\n"
          ]
        }
      ],
      "source": [
        "a=10\n",
        "b=20\n",
        "a,b=b,a\n",
        "print (a,b)"
      ]
    },
    {
      "cell_type": "code",
      "execution_count": null,
      "id": "b209c50c",
      "metadata": {
        "id": "b209c50c",
        "outputId": "ae6dee70-f59e-4826-9d75-cc6b1e95e922"
      },
      "outputs": [
        {
          "name": "stdout",
          "output_type": "stream",
          "text": [
            "20 10\n"
          ]
        }
      ],
      "source": [
        "a=10\n",
        "b=20\n",
        "a=a+b\n",
        "b=a-b\n",
        "a=a-b\n",
        "print(a,b)"
      ]
    },
    {
      "cell_type": "code",
      "execution_count": null,
      "id": "19489811",
      "metadata": {
        "id": "19489811",
        "outputId": "83b111fb-8c7e-4abe-8dc5-fd05db0f980f"
      },
      "outputs": [
        {
          "data": {
            "text/plain": [
              "' '"
            ]
          },
          "execution_count": 89,
          "metadata": {},
          "output_type": "execute_result"
        }
      ],
      "source": [
        "s = \"Hello World\"\n",
        "s[5]"
      ]
    },
    {
      "cell_type": "code",
      "execution_count": null,
      "id": "0bd189a6",
      "metadata": {
        "id": "0bd189a6",
        "outputId": "d14581dc-bd5e-4f6f-9d26-09d7b72cb5b8"
      },
      "outputs": [
        {
          "data": {
            "text/plain": [
              "'Hello World'"
            ]
          },
          "execution_count": 94,
          "metadata": {},
          "output_type": "execute_result"
        }
      ],
      "source": [
        "s = 'Hello World'\n",
        "s[0:11]"
      ]
    },
    {
      "cell_type": "code",
      "execution_count": null,
      "id": "5d7b453e",
      "metadata": {
        "id": "5d7b453e",
        "outputId": "760dad8b-50a8-4d39-e19e-eda072659aa4"
      },
      "outputs": [
        {
          "data": {
            "text/plain": [
              "'Hello World'"
            ]
          },
          "execution_count": 96,
          "metadata": {},
          "output_type": "execute_result"
        }
      ],
      "source": [
        "s[:]"
      ]
    },
    {
      "cell_type": "code",
      "execution_count": null,
      "id": "df27dbf9",
      "metadata": {
        "id": "df27dbf9",
        "outputId": "b1f1f811-e48e-473b-8376-ccfacc2517a1"
      },
      "outputs": [
        {
          "data": {
            "text/plain": [
              "'0123456789'"
            ]
          },
          "execution_count": 99,
          "metadata": {},
          "output_type": "execute_result"
        }
      ],
      "source": [
        "s = \"0123456789\"\n",
        "s[0:len(s):1]"
      ]
    },
    {
      "cell_type": "code",
      "execution_count": null,
      "id": "34645677",
      "metadata": {
        "id": "34645677",
        "outputId": "7fc2b6b0-7425-4b98-de86-973db1546106"
      },
      "outputs": [
        {
          "data": {
            "text/plain": [
              "'9'"
            ]
          },
          "execution_count": 100,
          "metadata": {},
          "output_type": "execute_result"
        }
      ],
      "source": [
        "s[-1]"
      ]
    },
    {
      "cell_type": "code",
      "execution_count": null,
      "id": "87d6351b",
      "metadata": {
        "id": "87d6351b",
        "outputId": "6ea41db0-334b-42c3-befd-a851e8ff9514"
      },
      "outputs": [
        {
          "data": {
            "text/plain": [
              "'9876543210'"
            ]
          },
          "execution_count": 102,
          "metadata": {},
          "output_type": "execute_result"
        }
      ],
      "source": [
        "s[::-1]"
      ]
    },
    {
      "cell_type": "code",
      "execution_count": null,
      "id": "a09cd828",
      "metadata": {
        "id": "a09cd828",
        "outputId": "feab6a61-15a2-4552-f776-1137ff11215a"
      },
      "outputs": [
        {
          "name": "stdout",
          "output_type": "stream",
          "text": [
            "02468\n",
            "13579\n",
            "9876543210\n"
          ]
        }
      ],
      "source": [
        "print(s[0::2]) # print even indexes\n",
        "print(s[1::2]) # print odd indexes\n",
        "print(s[::-1]) # print in reverse"
      ]
    },
    {
      "cell_type": "code",
      "execution_count": null,
      "id": "26b64418",
      "metadata": {
        "id": "26b64418",
        "outputId": "bb110ab9-bc7f-4a30-d2be-25a59de14b7d"
      },
      "outputs": [
        {
          "name": "stdout",
          "output_type": "stream",
          "text": [
            "5432\n"
          ]
        }
      ],
      "source": [
        "print(s[5:1:-1])"
      ]
    },
    {
      "cell_type": "code",
      "execution_count": null,
      "id": "efd13403",
      "metadata": {
        "id": "efd13403",
        "outputId": "7751f7cf-afe3-4fbe-aac7-0cfff7ca428c"
      },
      "outputs": [
        {
          "name": "stdout",
          "output_type": "stream",
          "text": [
            "97531\n",
            "86420\n"
          ]
        }
      ],
      "source": [
        "print(s[::-2]) # print odd indexes in reverse\n",
        "print(s[-2::-2]) # print even indexes in reverse"
      ]
    },
    {
      "cell_type": "code",
      "execution_count": null,
      "id": "2dc2948d",
      "metadata": {
        "id": "2dc2948d",
        "outputId": "e5e3fb84-1a57-4b3f-dc08-b27cf22bd95f"
      },
      "outputs": [
        {
          "name": "stdout",
          "output_type": "stream",
          "text": [
            "ej\n",
            "adgj\n",
            "fa\n",
            "heb\n",
            "jfb\n"
          ]
        }
      ],
      "source": [
        "s = \"abcdefghij\" # practice\n",
        "print(s[4::5])\n",
        "print(s[::3])\n",
        "print(s[5::-5])\n",
        "print(s[7:0:-3])\n",
        "print(s[:0:-4])"
      ]
    },
    {
      "cell_type": "code",
      "execution_count": null,
      "id": "ab63436f",
      "metadata": {
        "id": "ab63436f",
        "outputId": "5ed4845e-c3f7-4736-857f-499c09747fdc"
      },
      "outputs": [
        {
          "data": {
            "text/plain": [
              "'Abcdefghij'"
            ]
          },
          "execution_count": 150,
          "metadata": {},
          "output_type": "execute_result"
        }
      ],
      "source": []
    },
    {
      "cell_type": "code",
      "execution_count": 18,
      "id": "e017759b",
      "metadata": {
        "colab": {
          "base_uri": "https://localhost:8080/",
          "height": 209
        },
        "id": "e017759b",
        "outputId": "d1a43326-7350-4510-82e8-c969b74229f9"
      },
      "outputs": [
        {
          "output_type": "stream",
          "name": "stdout",
          "text": [
            "uppercase: HELLO WORLD\n",
            "lowercase: hello world\n",
            "title case: Hello World\n",
            "capitalised: Hello world\n",
            "index of 'W': 6\n",
            "found 'r' at: 8\n",
            "count of 'l': 3\n",
            "casefold: hello world\n",
            "split using ' ': ['Hello', 'World']\n",
            "replaced 'H' with 'j': Jello World\n"
          ]
        },
        {
          "output_type": "execute_result",
          "data": {
            "text/plain": [
              "'Hello=World=this=is=python'"
            ],
            "application/vnd.google.colaboratory.intrinsic+json": {
              "type": "string"
            }
          },
          "metadata": {},
          "execution_count": 18
        }
      ],
      "source": [
        "# string methods\n",
        "\n",
        "s = \"Hello World\"\n",
        "\n",
        "print(\"uppercase:\", s.upper())\n",
        "print(\"lowercase:\", s.lower())\n",
        "print(\"title case:\", s.title())\n",
        "print(\"capitalised:\", s.capitalize())\n",
        "print(\"index of 'W':\", s.index(\"W\"))\n",
        "print(\"found 'r' at:\", s.find(\"r\"))\n",
        "print(\"count of 'l':\", s.count(\"l\"))\n",
        "print(\"casefold:\", s.casefold())\n",
        "print(\"split using ' ':\", s.split(\" \"))\n",
        "print(\"replaced 'H' with 'j':\", s.replace(\"H\", \"J\"))\n",
        "\"=\".join(['Hello', 'World', 'this', 'is', 'python'])\n"
      ]
    },
    {
      "cell_type": "code",
      "execution_count": 21,
      "id": "e29eec11",
      "metadata": {
        "colab": {
          "base_uri": "https://localhost:8080/"
        },
        "id": "e29eec11",
        "outputId": "32d759a3-4f39-49cd-cab1-fe9859d7634d"
      },
      "outputs": [
        {
          "output_type": "stream",
          "name": "stdout",
          "text": [
            "removed whitespace from left only: Hello        world             \n",
            "removed whitespace from right only:             Hello        world\n",
            "removed whitespace from both sides: Hello        world\n"
          ]
        }
      ],
      "source": [
        "# string methods\n",
        "\n",
        "s = \"            Hello        world             \"\n",
        "\n",
        "print(\"removed whitespace from left only:\", s.lstrip())\n",
        "print(\"removed whitespace from right only:\", s.rstrip())\n",
        "print(\"removed whitespace from both sides:\", s.strip())"
      ]
    },
    {
      "cell_type": "code",
      "execution_count": 12,
      "id": "13125170",
      "metadata": {
        "colab": {
          "base_uri": "https://localhost:8080/"
        },
        "id": "13125170",
        "outputId": "051d0c10-1c1d-417c-a46f-72079e945ab0"
      },
      "outputs": [
        {
          "output_type": "stream",
          "name": "stdout",
          "text": [
            "apple*****\n",
            "-----apple\n",
            "~~~~~~~~~~~~~~~~~~~~~~apple~~~~~~~~~~~~~~~~~~~~~~~\n"
          ]
        }
      ],
      "source": [
        "# string methods\n",
        "\n",
        "s = \"apple\"\n",
        "\n",
        "ljust_text = s.ljust(10, \"*\")\n",
        "rjust_text = s.rjust(10, \"-\")\n",
        "center_text = s.center(50, \"~\")\n",
        "\n",
        "print(ljust_text)\n",
        "print(rjust_text)\n",
        "print(center_text)\n"
      ]
    },
    {
      "cell_type": "code",
      "source": [
        "# string methods\n",
        "\n",
        "s = \"hEllo WoRld\"\n",
        "\n",
        "print(s.swapcase())"
      ],
      "metadata": {
        "colab": {
          "base_uri": "https://localhost:8080/"
        },
        "id": "PUUTcxAsb7pZ",
        "outputId": "9b2dce68-842e-4eac-8fa3-4d47ec8b3e1c"
      },
      "id": "PUUTcxAsb7pZ",
      "execution_count": 13,
      "outputs": [
        {
          "output_type": "stream",
          "name": "stdout",
          "text": [
            "HeLLO wOrLD\n"
          ]
        }
      ]
    },
    {
      "cell_type": "code",
      "source": [
        "# string methods\n",
        "\n",
        "s = \"Hello\\n World\\n this is Python\"\n",
        "\n",
        "print(s.splitlines())"
      ],
      "metadata": {
        "colab": {
          "base_uri": "https://localhost:8080/"
        },
        "id": "LlqU5DvYcRoP",
        "outputId": "a4af5f4b-0a1a-49d3-ab1a-23b0ee903830"
      },
      "id": "LlqU5DvYcRoP",
      "execution_count": 14,
      "outputs": [
        {
          "output_type": "stream",
          "name": "stdout",
          "text": [
            "['Hello', ' World', ' this is Python']\n"
          ]
        }
      ]
    },
    {
      "cell_type": "code",
      "source": [
        "# string methods\n",
        "\n",
        "name = \"Rohit\"\n",
        "age = 20\n",
        "\n",
        "sentence_1 = \"Hi, I am {} and I am {} years old\"\n",
        "sentence_2 = \"Hi, I am {var1} and I am {var2} years old\"\n",
        "\n",
        "print(sentence_1.format(name, age))\n",
        "print(sentence_2.format(var1=name, var2=age))"
      ],
      "metadata": {
        "colab": {
          "base_uri": "https://localhost:8080/"
        },
        "id": "KYFRFOwCcsiK",
        "outputId": "19ee0b8d-038a-4297-ee35-064683632db3"
      },
      "id": "KYFRFOwCcsiK",
      "execution_count": 16,
      "outputs": [
        {
          "output_type": "stream",
          "name": "stdout",
          "text": [
            "Hi, I am Rohit and I am 20 years old\n",
            "Hi, I am Rohit and I am 20 years old\n"
          ]
        }
      ]
    },
    {
      "cell_type": "code",
      "source": [],
      "metadata": {
        "id": "p06qrVPmdZev"
      },
      "id": "p06qrVPmdZev",
      "execution_count": null,
      "outputs": []
    }
  ],
  "metadata": {
    "kernelspec": {
      "display_name": "Python 3",
      "language": "python",
      "name": "python3"
    },
    "language_info": {
      "codemirror_mode": {
        "name": "ipython",
        "version": 3
      },
      "file_extension": ".py",
      "mimetype": "text/x-python",
      "name": "python",
      "nbconvert_exporter": "python",
      "pygments_lexer": "ipython3",
      "version": "3.10.12"
    },
    "colab": {
      "provenance": []
    }
  },
  "nbformat": 4,
  "nbformat_minor": 5
}