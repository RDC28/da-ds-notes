{
  "cells": [
    {
      "cell_type": "code",
      "execution_count": null,
      "id": "85ffff96",
      "metadata": {
        "id": "85ffff96"
      },
      "outputs": [],
      "source": [
        "a=10"
      ]
    },
    {
      "cell_type": "code",
      "execution_count": null,
      "id": "5202e721",
      "metadata": {
        "id": "5202e721"
      },
      "outputs": [],
      "source": [
        "print (a)"
      ]
    },
    {
      "cell_type": "code",
      "execution_count": null,
      "id": "7ff2274f",
      "metadata": {
        "id": "7ff2274f"
      },
      "outputs": [],
      "source": [
        "print (type(a))"
      ]
    },
    {
      "cell_type": "code",
      "execution_count": null,
      "id": "6be87a4c",
      "metadata": {
        "id": "6be87a4c"
      },
      "outputs": [],
      "source": [
        "print (id(a))"
      ]
    },
    {
      "cell_type": "code",
      "execution_count": null,
      "id": "c37be7cc",
      "metadata": {
        "id": "c37be7cc"
      },
      "outputs": [],
      "source": [
        "b = 103.4\n"
      ]
    },
    {
      "cell_type": "code",
      "execution_count": null,
      "id": "73d1e549",
      "metadata": {
        "id": "73d1e549"
      },
      "outputs": [],
      "source": [
        "print (type(b))"
      ]
    },
    {
      "cell_type": "code",
      "execution_count": null,
      "id": "f5b8fbd2",
      "metadata": {
        "id": "f5b8fbd2"
      },
      "outputs": [],
      "source": [
        "a = float(a)\n",
        "print (type(a))"
      ]
    },
    {
      "cell_type": "code",
      "execution_count": null,
      "id": "3b4d3754",
      "metadata": {
        "id": "3b4d3754"
      },
      "outputs": [],
      "source": [
        "c = \"hello\"\n",
        "print (c)"
      ]
    },
    {
      "cell_type": "code",
      "execution_count": null,
      "id": "c201a57d",
      "metadata": {
        "id": "c201a57d"
      },
      "outputs": [],
      "source": [
        "d = 1+0j"
      ]
    },
    {
      "cell_type": "code",
      "execution_count": null,
      "id": "1278ad2f",
      "metadata": {
        "id": "1278ad2f"
      },
      "outputs": [],
      "source": [
        "print (type(d))"
      ]
    },
    {
      "cell_type": "code",
      "execution_count": null,
      "id": "eead6d72",
      "metadata": {
        "id": "eead6d72"
      },
      "outputs": [],
      "source": [
        "e = None\n",
        "print (type(e))"
      ]
    },
    {
      "cell_type": "code",
      "execution_count": null,
      "id": "bf87a436",
      "metadata": {
        "id": "bf87a436"
      },
      "outputs": [],
      "source": [
        "f = True\n",
        "print (type(f))"
      ]
    },
    {
      "cell_type": "code",
      "execution_count": null,
      "id": "0736b49a",
      "metadata": {
        "id": "0736b49a"
      },
      "outputs": [],
      "source": [
        "15/4"
      ]
    },
    {
      "cell_type": "code",
      "execution_count": null,
      "id": "0e9ed8fd",
      "metadata": {
        "id": "0e9ed8fd"
      },
      "outputs": [],
      "source": [
        "10+2"
      ]
    },
    {
      "cell_type": "code",
      "execution_count": null,
      "id": "367787db",
      "metadata": {
        "id": "367787db"
      },
      "outputs": [],
      "source": [
        "13-4"
      ]
    },
    {
      "cell_type": "code",
      "execution_count": null,
      "id": "a9a9641e",
      "metadata": {
        "id": "a9a9641e"
      },
      "outputs": [],
      "source": [
        "print (12*3)"
      ]
    },
    {
      "cell_type": "code",
      "execution_count": null,
      "id": "2fbacb24",
      "metadata": {
        "id": "2fbacb24"
      },
      "outputs": [],
      "source": [
        "print (18//4)"
      ]
    },
    {
      "cell_type": "code",
      "execution_count": null,
      "id": "db599f78",
      "metadata": {
        "id": "db599f78"
      },
      "outputs": [],
      "source": [
        "18%4"
      ]
    },
    {
      "cell_type": "code",
      "execution_count": null,
      "id": "837ee113",
      "metadata": {
        "id": "837ee113"
      },
      "outputs": [],
      "source": [
        "a,b"
      ]
    },
    {
      "cell_type": "code",
      "execution_count": null,
      "id": "8f29bd98",
      "metadata": {
        "id": "8f29bd98"
      },
      "outputs": [],
      "source": [
        "print(\"a+b=\",a+b,sep=\"  \")\n",
        "print(\"a-b=\",a-b,sep=\"  \")\n",
        "print(\"a*b=\", a*b)\n",
        "print (\"a**b=\",a**b, sep=\"  \")"
      ]
    },
    {
      "cell_type": "code",
      "execution_count": null,
      "id": "6c88811f",
      "metadata": {
        "id": "6c88811f"
      },
      "outputs": [],
      "source": [
        "a"
      ]
    },
    {
      "cell_type": "code",
      "execution_count": null,
      "id": "2d43aac6",
      "metadata": {
        "id": "2d43aac6"
      },
      "outputs": [],
      "source": [
        "a=a+2\n",
        "print (a)"
      ]
    },
    {
      "cell_type": "code",
      "execution_count": null,
      "id": "c0268f90",
      "metadata": {
        "id": "c0268f90"
      },
      "outputs": [],
      "source": [
        "a+=2\n",
        "print(a)"
      ]
    },
    {
      "cell_type": "code",
      "execution_count": null,
      "id": "448d16dd",
      "metadata": {
        "id": "448d16dd"
      },
      "outputs": [],
      "source": [
        "a-=2\n",
        "print(a)"
      ]
    },
    {
      "cell_type": "code",
      "execution_count": null,
      "id": "7a833eb8",
      "metadata": {
        "id": "7a833eb8"
      },
      "outputs": [],
      "source": [
        "a*=2\n",
        "print (a)"
      ]
    },
    {
      "cell_type": "code",
      "execution_count": null,
      "id": "8dd5de5d",
      "metadata": {
        "id": "8dd5de5d"
      },
      "outputs": [],
      "source": [
        "a/=2\n",
        "print(a)"
      ]
    },
    {
      "cell_type": "code",
      "execution_count": null,
      "id": "95e8d528",
      "metadata": {
        "id": "95e8d528"
      },
      "outputs": [],
      "source": [
        "a%=2\n",
        "print (a)"
      ]
    },
    {
      "cell_type": "code",
      "execution_count": null,
      "id": "ba13ad22",
      "metadata": {
        "id": "ba13ad22"
      },
      "outputs": [],
      "source": [
        "10==10"
      ]
    },
    {
      "cell_type": "code",
      "execution_count": null,
      "id": "ab0add71",
      "metadata": {
        "id": "ab0add71"
      },
      "outputs": [],
      "source": [
        "'10'==10"
      ]
    },
    {
      "cell_type": "code",
      "execution_count": null,
      "id": "eade3187",
      "metadata": {
        "id": "eade3187"
      },
      "outputs": [],
      "source": [
        "1 and 1"
      ]
    },
    {
      "cell_type": "code",
      "execution_count": null,
      "id": "1b8ff70f",
      "metadata": {
        "id": "1b8ff70f"
      },
      "outputs": [],
      "source": [
        "bool(2 and \"\")"
      ]
    },
    {
      "cell_type": "code",
      "execution_count": null,
      "id": "d90305e1",
      "metadata": {
        "id": "d90305e1"
      },
      "outputs": [],
      "source": [
        "bool(None)"
      ]
    },
    {
      "cell_type": "code",
      "execution_count": null,
      "id": "d814c468",
      "metadata": {
        "id": "d814c468"
      },
      "outputs": [],
      "source": [
        "bool(\"\")"
      ]
    },
    {
      "cell_type": "code",
      "execution_count": null,
      "id": "13843b8c",
      "metadata": {
        "id": "13843b8c"
      },
      "outputs": [],
      "source": [
        "bool(0)"
      ]
    },
    {
      "cell_type": "code",
      "execution_count": null,
      "id": "090f899f",
      "metadata": {
        "id": "090f899f"
      },
      "outputs": [],
      "source": [
        "bool({})"
      ]
    },
    {
      "cell_type": "code",
      "execution_count": null,
      "id": "4ca65d79",
      "metadata": {
        "id": "4ca65d79"
      },
      "outputs": [],
      "source": [
        "bool([])"
      ]
    },
    {
      "cell_type": "code",
      "execution_count": null,
      "id": "c3894896",
      "metadata": {
        "id": "c3894896"
      },
      "outputs": [],
      "source": [
        "1 and 0 or True"
      ]
    },
    {
      "cell_type": "code",
      "execution_count": null,
      "id": "c42704c6",
      "metadata": {
        "id": "c42704c6"
      },
      "outputs": [],
      "source": [
        "1 or 0 and True"
      ]
    },
    {
      "cell_type": "code",
      "execution_count": null,
      "id": "af3440aa",
      "metadata": {
        "id": "af3440aa"
      },
      "outputs": [],
      "source": [
        "4**2**3"
      ]
    },
    {
      "cell_type": "code",
      "execution_count": null,
      "id": "8893c6d4",
      "metadata": {
        "id": "8893c6d4"
      },
      "outputs": [],
      "source": [
        "4**8"
      ]
    },
    {
      "cell_type": "code",
      "execution_count": null,
      "id": "dca82cf8",
      "metadata": {
        "id": "dca82cf8"
      },
      "outputs": [],
      "source": [
        "not 1"
      ]
    },
    {
      "cell_type": "code",
      "execution_count": null,
      "id": "19600c60",
      "metadata": {
        "id": "19600c60"
      },
      "outputs": [],
      "source": [
        "not True"
      ]
    },
    {
      "cell_type": "code",
      "execution_count": null,
      "id": "4e340a64",
      "metadata": {
        "id": "4e340a64"
      },
      "outputs": [],
      "source": [
        "not 0"
      ]
    },
    {
      "cell_type": "code",
      "execution_count": null,
      "id": "404d5de9",
      "metadata": {
        "id": "404d5de9"
      },
      "outputs": [],
      "source": [
        "7 & 8"
      ]
    },
    {
      "cell_type": "code",
      "execution_count": null,
      "id": "cb1fc007",
      "metadata": {
        "id": "cb1fc007"
      },
      "outputs": [],
      "source": [
        "7|8"
      ]
    },
    {
      "cell_type": "code",
      "execution_count": null,
      "id": "62b738a8",
      "metadata": {
        "id": "62b738a8"
      },
      "outputs": [],
      "source": [
        "0b1111"
      ]
    },
    {
      "cell_type": "code",
      "execution_count": null,
      "id": "c287ddbb",
      "metadata": {
        "id": "c287ddbb"
      },
      "outputs": [],
      "source": [
        "0x1111"
      ]
    },
    {
      "cell_type": "code",
      "execution_count": null,
      "id": "7bb70679",
      "metadata": {
        "id": "7bb70679"
      },
      "outputs": [],
      "source": [
        "0xf"
      ]
    },
    {
      "cell_type": "code",
      "execution_count": null,
      "id": "6127e550",
      "metadata": {
        "id": "6127e550"
      },
      "outputs": [],
      "source": [
        "0o111"
      ]
    },
    {
      "cell_type": "code",
      "execution_count": null,
      "id": "01b779f2",
      "metadata": {
        "id": "01b779f2"
      },
      "outputs": [],
      "source": [
        "0o1111"
      ]
    },
    {
      "cell_type": "code",
      "execution_count": null,
      "id": "36fd366a",
      "metadata": {
        "id": "36fd366a"
      },
      "outputs": [],
      "source": [
        "~10"
      ]
    },
    {
      "cell_type": "code",
      "execution_count": null,
      "id": "46966fd1",
      "metadata": {
        "id": "46966fd1"
      },
      "outputs": [],
      "source": [
        "~-11"
      ]
    },
    {
      "cell_type": "code",
      "execution_count": null,
      "id": "0436ba36",
      "metadata": {
        "id": "0436ba36"
      },
      "outputs": [],
      "source": [
        "7^8"
      ]
    },
    {
      "cell_type": "code",
      "execution_count": null,
      "id": "fbba0449",
      "metadata": {
        "id": "fbba0449"
      },
      "outputs": [],
      "source": [
        "8^8"
      ]
    },
    {
      "cell_type": "code",
      "execution_count": null,
      "id": "cbe2724e",
      "metadata": {
        "id": "cbe2724e"
      },
      "outputs": [],
      "source": [
        "num = 10\n",
        "if num>0:\n",
        "    print (\"POSITIVE\")\n",
        "    print (num)\n",
        "else:\n",
        "    print (\"NEGATIVE\")"
      ]
    },
    {
      "cell_type": "code",
      "execution_count": null,
      "id": "60c537d8",
      "metadata": {
        "id": "60c537d8"
      },
      "outputs": [],
      "source": [
        "num = 10\n",
        "if num>0:\n",
        "    print (\"POSITIVE\")\n",
        "       print (num)\n",
        "    else:\n",
        "    print (\"NEGATIVE\")"
      ]
    },
    {
      "cell_type": "code",
      "execution_count": null,
      "id": "993a833f",
      "metadata": {
        "id": "993a833f"
      },
      "outputs": [],
      "source": [
        "num = 10\n",
        "if num>0:"
      ]
    },
    {
      "cell_type": "code",
      "execution_count": null,
      "id": "d5a26990",
      "metadata": {
        "id": "d5a26990"
      },
      "outputs": [],
      "source": [
        "num = 10\n",
        "if num>0:\n",
        "   pass"
      ]
    },
    {
      "cell_type": "code",
      "execution_count": null,
      "id": "b6fefbf7",
      "metadata": {
        "id": "b6fefbf7"
      },
      "outputs": [],
      "source": [
        "7>>2"
      ]
    },
    {
      "cell_type": "code",
      "execution_count": null,
      "id": "e5adae58",
      "metadata": {
        "id": "e5adae58"
      },
      "outputs": [],
      "source": [
        "7<<2"
      ]
    },
    {
      "cell_type": "code",
      "execution_count": null,
      "id": "8d1f22e5",
      "metadata": {
        "id": "8d1f22e5"
      },
      "outputs": [],
      "source": [
        "if False:\n",
        "    print (\"true statement\")\n",
        "else:\n",
        "    print (\"false statement \")"
      ]
    },
    {
      "cell_type": "code",
      "execution_count": null,
      "id": "4ed26683",
      "metadata": {
        "id": "4ed26683"
      },
      "outputs": [],
      "source": [
        "num = 114\n",
        "if num%2:\n",
        "    print (num,\" is odd\")\n",
        "else:\n",
        "    print (num,\" is even\")"
      ]
    },
    {
      "cell_type": "code",
      "execution_count": null,
      "id": "bb446fc7",
      "metadata": {
        "id": "bb446fc7"
      },
      "outputs": [],
      "source": [
        "print (input(\"enter a number\"))"
      ]
    },
    {
      "cell_type": "code",
      "execution_count": null,
      "id": "597426d8",
      "metadata": {
        "id": "597426d8"
      },
      "outputs": [],
      "source": [
        "num = int(input('enter a number'))\n",
        "print (type(num))"
      ]
    },
    {
      "cell_type": "code",
      "execution_count": null,
      "id": "1b6c6b0d",
      "metadata": {
        "id": "1b6c6b0d"
      },
      "outputs": [],
      "source": [
        "num =  int(input('enter a number'))\n",
        "if num%2:\n",
        "    print (num,\" is odd\")\n",
        "else:\n",
        "    print (num,\" is even\")"
      ]
    },
    {
      "cell_type": "code",
      "execution_count": null,
      "id": "b4aff987",
      "metadata": {
        "id": "b4aff987"
      },
      "outputs": [],
      "source": [
        "num =  int(input('enter a number'))\n",
        "if num%2:\n",
        "    print (num,\" is odd\")\n",
        "else:\n",
        "    print (num,\" is even\")"
      ]
    },
    {
      "cell_type": "code",
      "execution_count": null,
      "id": "6aa8e73c",
      "metadata": {
        "id": "6aa8e73c"
      },
      "outputs": [],
      "source": [
        "chr(65)"
      ]
    },
    {
      "cell_type": "code",
      "execution_count": null,
      "id": "653cf1e0",
      "metadata": {
        "id": "653cf1e0"
      },
      "outputs": [],
      "source": [
        "ord('A')"
      ]
    },
    {
      "cell_type": "code",
      "execution_count": null,
      "id": "a4d14d8d",
      "metadata": {
        "id": "a4d14d8d"
      },
      "outputs": [],
      "source": [
        "ord('0')"
      ]
    },
    {
      "cell_type": "code",
      "execution_count": null,
      "id": "770d2cb7",
      "metadata": {
        "id": "770d2cb7"
      },
      "outputs": [],
      "source": [
        "chr(9)"
      ]
    },
    {
      "cell_type": "code",
      "execution_count": null,
      "id": "bd1f78a5",
      "metadata": {
        "id": "bd1f78a5"
      },
      "outputs": [],
      "source": [
        "print('It is \"Python\"')"
      ]
    },
    {
      "cell_type": "code",
      "execution_count": null,
      "id": "9eaa26c1",
      "metadata": {
        "id": "9eaa26c1"
      },
      "outputs": [],
      "source": [
        "print (\"it's python\")"
      ]
    },
    {
      "cell_type": "code",
      "execution_count": null,
      "id": "92552704",
      "metadata": {
        "id": "92552704"
      },
      "outputs": [],
      "source": [
        "print ('it\\'s \"python\"')"
      ]
    },
    {
      "cell_type": "code",
      "execution_count": null,
      "id": "c2537bac",
      "metadata": {
        "id": "c2537bac"
      },
      "outputs": [],
      "source": [
        "print (\"it's \\\"python\\\"\")"
      ]
    },
    {
      "cell_type": "code",
      "execution_count": null,
      "id": "400985c6",
      "metadata": {
        "id": "400985c6"
      },
      "outputs": [],
      "source": [
        "print (\"\\\\n is for new line\")"
      ]
    },
    {
      "cell_type": "code",
      "execution_count": null,
      "id": "29f7478b",
      "metadata": {
        "id": "29f7478b"
      },
      "outputs": [],
      "source": [
        "print ('it\\'s \"\\\\t\" for tab space')"
      ]
    },
    {
      "cell_type": "code",
      "execution_count": null,
      "id": "24bb5f8a",
      "metadata": {
        "id": "24bb5f8a"
      },
      "outputs": [],
      "source": [
        "print (\"/home/quastech/yash/pytho.ipynb\")"
      ]
    },
    {
      "cell_type": "code",
      "execution_count": null,
      "id": "3813aacf",
      "metadata": {
        "id": "3813aacf"
      },
      "outputs": [],
      "source": [
        "print(r'\\t\\n')"
      ]
    },
    {
      "cell_type": "code",
      "execution_count": null,
      "id": "607b9ebe",
      "metadata": {
        "id": "607b9ebe"
      },
      "outputs": [],
      "source": [
        "name = \"Yash\"\n",
        "age = 21\n",
        "salary = 20000"
      ]
    },
    {
      "cell_type": "code",
      "execution_count": null,
      "id": "3e348242",
      "metadata": {
        "id": "3e348242"
      },
      "outputs": [],
      "source": [
        "print (\"my name is\",name, \"i am\",age,\"years old and my salary is\", salary )"
      ]
    },
    {
      "cell_type": "code",
      "execution_count": null,
      "id": "1d8dcfe2",
      "metadata": {
        "id": "1d8dcfe2"
      },
      "outputs": [],
      "source": [
        "print(f\"my name is {name}, i am {age}, years old and my salary is{salary}\")"
      ]
    },
    {
      "cell_type": "code",
      "execution_count": null,
      "id": "9245917c",
      "metadata": {
        "id": "9245917c"
      },
      "outputs": [],
      "source": [
        "print (\"\"\"hello\n",
        "       hi\n",
        "       \"\"\")"
      ]
    },
    {
      "cell_type": "code",
      "execution_count": null,
      "id": "75d2e15a",
      "metadata": {
        "id": "75d2e15a"
      },
      "outputs": [],
      "source": [
        "age = 10\n",
        "t = 0\n",
        "if age > 12:\n",
        "    t = 10\n",
        "else:\n",
        "    t = 5\n",
        "print(t)"
      ]
    },
    {
      "cell_type": "code",
      "execution_count": null,
      "id": "1f911c89",
      "metadata": {
        "id": "1f911c89"
      },
      "outputs": [],
      "source": [
        "age = 19\n",
        "t = 10 if age>12 else 5\n",
        "print(t)"
      ]
    },
    {
      "cell_type": "code",
      "execution_count": null,
      "id": "9511e9dd",
      "metadata": {
        "id": "9511e9dd"
      },
      "outputs": [],
      "source": [
        "32+2"
      ]
    },
    {
      "cell_type": "code",
      "execution_count": null,
      "id": "f2e27586",
      "metadata": {
        "id": "f2e27586"
      },
      "outputs": [],
      "source": [
        "num = 20\n",
        "result= f\"{num} is odd\" if num%2 else f\"{num} is even\"\n",
        "print(result)"
      ]
    },
    {
      "cell_type": "code",
      "execution_count": null,
      "id": "9addd4b9",
      "metadata": {
        "id": "9addd4b9"
      },
      "outputs": [],
      "source": [
        "a=10\n",
        "b=20\n",
        "c=a\n",
        "a=b\n",
        "b=c\n",
        "print (a,b)"
      ]
    },
    {
      "cell_type": "code",
      "execution_count": null,
      "id": "f82b29f0",
      "metadata": {
        "id": "f82b29f0"
      },
      "outputs": [],
      "source": [
        "a=10\n",
        "b=20\n",
        "a,b=b,a\n",
        "print (a,b)"
      ]
    },
    {
      "cell_type": "code",
      "execution_count": null,
      "id": "b209c50c",
      "metadata": {
        "id": "b209c50c"
      },
      "outputs": [],
      "source": [
        "a=10\n",
        "b=20\n",
        "a=a+b\n",
        "b=a-b\n",
        "a=a-b\n",
        "print(a,b)"
      ]
    },
    {
      "cell_type": "code",
      "execution_count": null,
      "id": "19489811",
      "metadata": {
        "id": "19489811"
      },
      "outputs": [],
      "source": [
        "s = \"Hello World\"\n",
        "s[5]"
      ]
    },
    {
      "cell_type": "code",
      "execution_count": null,
      "id": "0bd189a6",
      "metadata": {
        "id": "0bd189a6"
      },
      "outputs": [],
      "source": [
        "s = 'Hello World'\n",
        "s[0:11]"
      ]
    },
    {
      "cell_type": "code",
      "execution_count": null,
      "id": "5d7b453e",
      "metadata": {
        "id": "5d7b453e"
      },
      "outputs": [],
      "source": [
        "s[:]"
      ]
    },
    {
      "cell_type": "code",
      "execution_count": null,
      "id": "df27dbf9",
      "metadata": {
        "id": "df27dbf9"
      },
      "outputs": [],
      "source": [
        "s = \"0123456789\"\n",
        "s[0:len(s):1]"
      ]
    },
    {
      "cell_type": "code",
      "execution_count": null,
      "id": "34645677",
      "metadata": {
        "id": "34645677"
      },
      "outputs": [],
      "source": [
        "s[-1]"
      ]
    },
    {
      "cell_type": "code",
      "execution_count": null,
      "id": "87d6351b",
      "metadata": {
        "id": "87d6351b"
      },
      "outputs": [],
      "source": [
        "s[::-1]"
      ]
    },
    {
      "cell_type": "code",
      "execution_count": null,
      "id": "a09cd828",
      "metadata": {
        "id": "a09cd828"
      },
      "outputs": [],
      "source": [
        "print(s[0::2]) # print even indexes\n",
        "print(s[1::2]) # print odd indexes\n",
        "print(s[::-1]) # print in reverse"
      ]
    },
    {
      "cell_type": "code",
      "execution_count": null,
      "id": "26b64418",
      "metadata": {
        "id": "26b64418"
      },
      "outputs": [],
      "source": [
        "print(s[5:1:-1])"
      ]
    },
    {
      "cell_type": "code",
      "execution_count": null,
      "id": "efd13403",
      "metadata": {
        "id": "efd13403"
      },
      "outputs": [],
      "source": [
        "print(s[::-2]) # print odd indexes in reverse\n",
        "print(s[-2::-2]) # print even indexes in reverse"
      ]
    },
    {
      "cell_type": "code",
      "execution_count": null,
      "id": "2dc2948d",
      "metadata": {
        "id": "2dc2948d"
      },
      "outputs": [],
      "source": [
        "s = \"abcdefghij\" # practice\n",
        "print(s[4::5])\n",
        "print(s[::3])\n",
        "print(s[5::-5])\n",
        "print(s[7:0:-3])\n",
        "print(s[:0:-4])"
      ]
    },
    {
      "cell_type": "code",
      "execution_count": null,
      "id": "ab63436f",
      "metadata": {
        "id": "ab63436f"
      },
      "outputs": [],
      "source": []
    },
    {
      "cell_type": "code",
      "execution_count": null,
      "id": "e017759b",
      "metadata": {
        "id": "e017759b"
      },
      "outputs": [],
      "source": [
        "# string methods\n",
        "\n",
        "s = \"Hello World\"\n",
        "\n",
        "print(\"uppercase:\", s.upper())\n",
        "print(\"lowercase:\", s.lower())\n",
        "print(\"title case:\", s.title())\n",
        "print(\"capitalised:\", s.capitalize())\n",
        "print(\"index of 'W':\", s.index(\"W\"))\n",
        "print(\"found 'r' at:\", s.find(\"r\"))\n",
        "print(\"count of 'l':\", s.count(\"l\"))\n",
        "print(\"casefold:\", s.casefold())\n",
        "print(\"split using ' ':\", s.split(\" \"))\n",
        "print(\"replaced 'H' with 'j':\", s.replace(\"H\", \"J\"))\n",
        "\"=\".join(['Hello', 'World', 'this', 'is', 'python'])\n"
      ]
    },
    {
      "cell_type": "code",
      "execution_count": null,
      "id": "e29eec11",
      "metadata": {
        "id": "e29eec11"
      },
      "outputs": [],
      "source": [
        "# string methods\n",
        "\n",
        "s = \"            Hello        world             \"\n",
        "\n",
        "print(\"removed whitespace from left only:\", s.lstrip())\n",
        "print(\"removed whitespace from right only:\", s.rstrip())\n",
        "print(\"removed whitespace from both sides:\", s.strip())"
      ]
    },
    {
      "cell_type": "code",
      "execution_count": null,
      "id": "13125170",
      "metadata": {
        "id": "13125170"
      },
      "outputs": [],
      "source": [
        "# string methods\n",
        "\n",
        "s = \"apple\"\n",
        "\n",
        "ljust_text = s.ljust(10, \"*\")\n",
        "rjust_text = s.rjust(10, \"-\")\n",
        "center_text = s.center(50, \"~\")\n",
        "\n",
        "print(ljust_text)\n",
        "print(rjust_text)\n",
        "print(center_text)\n"
      ]
    },
    {
      "cell_type": "code",
      "execution_count": null,
      "id": "PUUTcxAsb7pZ",
      "metadata": {
        "id": "PUUTcxAsb7pZ"
      },
      "outputs": [],
      "source": [
        "# string methods\n",
        "\n",
        "s = \"hEllo WoRld\"\n",
        "\n",
        "print(s.swapcase())"
      ]
    },
    {
      "cell_type": "code",
      "execution_count": null,
      "id": "LlqU5DvYcRoP",
      "metadata": {
        "id": "LlqU5DvYcRoP"
      },
      "outputs": [],
      "source": [
        "# string methods\n",
        "\n",
        "s = \"Hello\\n World\\n this is Python\"\n",
        "\n",
        "print(s.splitlines())"
      ]
    },
    {
      "cell_type": "code",
      "execution_count": null,
      "id": "KYFRFOwCcsiK",
      "metadata": {
        "id": "KYFRFOwCcsiK"
      },
      "outputs": [],
      "source": [
        "# string methods\n",
        "\n",
        "name = \"Rohit\"\n",
        "age = 20\n",
        "score = 123.123\n",
        "\n",
        "sentence_1 = \"Hi, I am {} and I am {} years old\"\n",
        "sentence_2 = \"Hi, I am {var1} and I am {var2} years old\"\n",
        "\n",
        "print(sentence_1.format(name, age))\n",
        "print(sentence_2.format(var1=name, var2=age))"
      ]
    },
    {
      "cell_type": "code",
      "execution_count": null,
      "id": "p06qrVPmdZev",
      "metadata": {
        "id": "p06qrVPmdZev"
      },
      "outputs": [],
      "source": [
        "\"hi\"\"hello\""
      ]
    },
    {
      "cell_type": "code",
      "execution_count": null,
      "id": "658978ec",
      "metadata": {
        "id": "658978ec"
      },
      "outputs": [],
      "source": [
        "\"hi\"+\"hello\""
      ]
    },
    {
      "cell_type": "code",
      "execution_count": null,
      "id": "865c9273",
      "metadata": {
        "id": "865c9273"
      },
      "outputs": [],
      "source": [
        "\"Hi \" * 3"
      ]
    },
    {
      "cell_type": "code",
      "execution_count": null,
      "id": "9ce6b1c7",
      "metadata": {
        "id": "9ce6b1c7"
      },
      "outputs": [],
      "source": [
        "# string formatting\n",
        "\n",
        "print(\"hi, i am %s and i am %d years old and i scored %.2f\" % (name, age, score))\n",
        "print(f\"Score: {score:.2f}\")"
      ]
    },
    {
      "cell_type": "code",
      "execution_count": null,
      "id": "0d8e2753",
      "metadata": {
        "id": "0d8e2753"
      },
      "outputs": [],
      "source": [
        "# if-else\n",
        "\n",
        "a, b = 10, 20\n",
        "\n",
        "if a > b:\n",
        "    print(f\"{a} is greater than {b}\")\n",
        "else:\n",
        "    print(f\"{b} is greater than {a}\")"
      ]
    },
    {
      "cell_type": "code",
      "execution_count": null,
      "id": "dc75bbf9",
      "metadata": {
        "id": "dc75bbf9"
      },
      "outputs": [],
      "source": [
        "# comparing 3 numbers using if-else\n",
        "\n",
        "a, b, c = 40, 30, 20\n",
        "\n",
        "if (a > b):\n",
        "    if (a > c):\n",
        "        print(f\"{a} is greater than {b} and {c}\")\n",
        "else:\n",
        "    if (b > c):\n",
        "        print(f\"{b} is greater than {a} and {c}\")\n",
        "    else:\n",
        "        print(f\"{c} is greater than {a} and {b}\")"
      ]
    },
    {
      "cell_type": "code",
      "execution_count": null,
      "id": "b53a4e2c",
      "metadata": {
        "id": "b53a4e2c"
      },
      "outputs": [],
      "source": [
        "# comparing 3 numbers using elif\n",
        "\n",
        "a, b, c = 40, 30, 50\n",
        "\n",
        "if (a > b) and (a > c):\n",
        "    print(f\"{a} is greater than {b} and {c}\")\n",
        "elif (b > c):\n",
        "    print(f\"{b} is greater than {a} and {c}\")\n",
        "else:\n",
        "    print(f\"{c} is greater than {a} and {b}\")"
      ]
    },
    {
      "cell_type": "code",
      "execution_count": null,
      "id": "f730b7da",
      "metadata": {
        "id": "f730b7da"
      },
      "outputs": [],
      "source": [
        "# switch case version in python\n",
        "\n",
        "num = 3\n",
        "match num:\n",
        "    case 1:\n",
        "        print(\"one\")\n",
        "    case 2:\n",
        "        print(\"two\")\n",
        "    case 3:\n",
        "        print(\"three\")\n",
        "    case _:\n",
        "        print(\"not found\")"
      ]
    },
    {
      "cell_type": "code",
      "execution_count": null,
      "id": "a059c159",
      "metadata": {
        "id": "a059c159"
      },
      "outputs": [],
      "source": [
        "# for iterator\n",
        "\n",
        "for i in \"123\":\n",
        "    print(\"Hi!\")"
      ]
    },
    {
      "cell_type": "code",
      "execution_count": null,
      "id": "63c27800",
      "metadata": {
        "id": "63c27800"
      },
      "outputs": [],
      "source": [
        "for i in range(10):\n",
        "    print(\"hi!\", i)"
      ]
    },
    {
      "cell_type": "code",
      "execution_count": null,
      "id": "0005fb2e",
      "metadata": {
        "id": "0005fb2e"
      },
      "outputs": [],
      "source": [
        "num = int(input(\"Enter a number: \"))\n",
        "\n",
        "for i in range(1, 11):\n",
        "    print(f\"{num} x {i} = {num * i}\")"
      ]
    },
    {
      "cell_type": "code",
      "execution_count": null,
      "id": "047624d0",
      "metadata": {
        "id": "047624d0"
      },
      "outputs": [],
      "source": [
        "i = 0\n",
        "\n",
        "while (i < 4):\n",
        "    print(i)\n",
        "    i += 1"
      ]
    },
    {
      "cell_type": "code",
      "execution_count": null,
      "id": "6d8ec2b2",
      "metadata": {
        "id": "6d8ec2b2"
      },
      "outputs": [],
      "source": [
        "# print a table of any number\n",
        "\n",
        "snum = int(input(\"Enter a number: \"))\n",
        "i = 1\n",
        "while i < 11:\n",
        "    print(f\"{num} x {i} = {num * i}\")\n",
        "    i += 1"
      ]
    },
    {
      "cell_type": "code",
      "execution_count": null,
      "id": "4cf8459a",
      "metadata": {
        "id": "4cf8459a"
      },
      "outputs": [],
      "source": [
        "# DO NOT RUN THIS. IT WILL CRASH YOUR COMPUTER\n",
        "\n",
        "# a = [1, 2]\n",
        "\n",
        "# for i in a:\n",
        "#     a.append(i + 1)"
      ]
    },
    {
      "cell_type": "code",
      "execution_count": null,
      "id": "43ed0e52",
      "metadata": {
        "id": "43ed0e52"
      },
      "outputs": [],
      "source": [
        "print(a)"
      ]
    },
    {
      "cell_type": "code",
      "execution_count": null,
      "id": "dbbac37f",
      "metadata": {
        "id": "dbbac37f"
      },
      "outputs": [],
      "source": [
        "# find certain characters and their index in a string\n",
        "# 1. my way\n",
        "\n",
        "s = \"Python is a Programming language\"\n",
        "num = 0\n",
        "for i in s.casefold():\n",
        "    if i == 'g':\n",
        "        print('g', num)\n",
        "    if i == 'm':\n",
        "        print('m', num)\n",
        "    if i == 'p':\n",
        "        print('p', num)\n",
        "    num += 1"
      ]
    },
    {
      "cell_type": "code",
      "execution_count": null,
      "id": "e68ba451",
      "metadata": {
        "id": "e68ba451"
      },
      "outputs": [],
      "source": [
        "# 2. using enumarate\n",
        "\n",
        "s = \"Python is a Programming language\"\n",
        "\n",
        "for index, ch in enumerate(s):\n",
        "    if ch in \"gmp\":\n",
        "        print(f\"{ch} found at {index}\")"
      ]
    },
    {
      "cell_type": "code",
      "execution_count": null,
      "id": "92f68187",
      "metadata": {
        "id": "92f68187"
      },
      "outputs": [],
      "source": [
        "# 3a. using index to call for value (for loop)\n",
        "\n",
        "s = \"Python is a Programming language\"\n",
        "\n",
        "for i in range(len(s)):\n",
        "    if s[i].lower() in \"gmp\":\n",
        "        print(f\"{s[i]} found at {i}\")\n"
      ]
    },
    {
      "cell_type": "code",
      "execution_count": null,
      "id": "0f1b758b",
      "metadata": {
        "id": "0f1b758b"
      },
      "outputs": [],
      "source": [
        "# 3b. using index to call for value (while loop)\n",
        "\n",
        "s = \"Python is a Programming language\"\n",
        "i = 0\n",
        "\n",
        "while i < len(s):\n",
        "    if s[i].lower() in \"gmp\":\n",
        "        print(f\"{s[i]} found at {i}\")\n",
        "    i += 1\n"
      ]
    },
    {
      "cell_type": "code",
      "execution_count": null,
      "id": "7b7ba6c9",
      "metadata": {
        "id": "7b7ba6c9"
      },
      "outputs": [],
      "source": [
        "# 4. using external variable as an index\n",
        "\n",
        "s = \"Python is a Programming language\"\n",
        "index = 0\n",
        "\n",
        "for ch in s.casefold():\n",
        "    if ch in \"gmp\":\n",
        "        print(f\"{ch} found at {index}\")\n",
        "    index += 1\n"
      ]
    },
    {
      "cell_type": "code",
      "execution_count": null,
      "id": "45c5286e",
      "metadata": {
        "id": "45c5286e"
      },
      "outputs": [],
      "source": [
        "# count the occurence of characters in a string\n",
        "\n",
        "s = \"Python is a Programming Language\"\n",
        "\n",
        "count = 0\n",
        "ch_to_check = input('enter the char to count for:')\n",
        "\n",
        "for ch in s:\n",
        "    if ch_to_check.lower() == ch.lower():\n",
        "        count += 1\n",
        "\n",
        "print(f\"{ch_to_check} occurred {count} times in the sentence.\")"
      ]
    },
    {
      "cell_type": "code",
      "execution_count": null,
      "id": "a9b7ef2e",
      "metadata": {
        "id": "a9b7ef2e"
      },
      "outputs": [],
      "source": [
        "# write a program to check if the string is a palindrome\n",
        "\n",
        "s = input(\"Enter a string: \")\n",
        "\n",
        "if s == s[::-1]:\n",
        "    print(f\"{s} is a palindrome\")\n",
        "else:\n",
        "    print(f\"{s} is not a palindrome\")"
      ]
    },
    {
      "cell_type": "code",
      "execution_count": null,
      "id": "Qqmg_VcWVrDK",
      "metadata": {
        "id": "Qqmg_VcWVrDK"
      },
      "outputs": [],
      "source": [
        "# write a program to check if the string is a palindrome using basics\n",
        "\n",
        "s_original = input(\"Enter a string: \")\n",
        "s_reversed = \"\"\n",
        "\n",
        "for ch in s_original:\n",
        "    s_reversed = ch + s_reversed\n",
        "\n",
        "if s_original == s_reversed:\n",
        "    print(f\"{s_original} is a palindrome\")\n",
        "else:\n",
        "    print(f\"{s_original} is not a palindrome\")"
      ]
    },
    {
      "cell_type": "code",
      "execution_count": null,
      "id": "T8xnOx5a9O2K",
      "metadata": {
        "id": "T8xnOx5a9O2K"
      },
      "outputs": [],
      "source": [
        "# write a program to check if the string is an anagram.\n",
        "\n",
        "s1 = input(\"Enter a string: \")\n",
        "s2 = input(\"Enter a string: \")\n",
        "\n",
        "if sorted(s1) == sorted(s2):\n",
        "    print(f\"{s1} and {s2} are anagrams\")\n",
        "else:\n",
        "    print(f\"{s1} and {s2} are not anagrams\")"
      ]
    },
    {
      "cell_type": "code",
      "execution_count": null,
      "id": "fGp-Gt9qWHb2",
      "metadata": {
        "id": "fGp-Gt9qWHb2"
      },
      "outputs": [],
      "source": [
        "# write a program to check if the string is an anagram using basics.\n",
        "\n",
        "s1 = input(\"Enter a string: \")\n",
        "s2 = input(\"Enter a string: \")\n",
        "result = \"Anagrams\"\n",
        "\n",
        "if len(s1) != len(s2):\n",
        "  result = \"Not Anagrams\"\n",
        "\n",
        "for i in range(len(s1)):\n",
        "    if s1.count(s1[i]) != s2.count(s1[i]):\n",
        "        result = \"Not Anagrams\"\n",
        "        break\n",
        "\n",
        "print(result)"
      ]
    },
    {
      "cell_type": "code",
      "execution_count": null,
      "id": "JNYnqkv09qmv",
      "metadata": {
        "id": "JNYnqkv09qmv"
      },
      "outputs": [],
      "source": [
        "# write a program to check if the string is an anagram using dictionaries.\n",
        "\n",
        "s1 = input(\"Enter the first string: \").lower()\n",
        "s2 = input(\"Enter the second string: \").lower()\n",
        "\n",
        "if len(s1) != len(s2):\n",
        "    print(f\"{s1} and {s2} are not anagrams\")\n",
        "\n",
        "char_count = {}\n",
        "\n",
        "for ch in s1:\n",
        "    char_count[ch] = char_count.get(ch, 0) + 1\n",
        "\n",
        "is_anagram = True\n",
        "for ch in s2:\n",
        "    if ch not in char_count or char_count[ch] == 0:\n",
        "        print(f\"{s1} and {s2} are not anagrams\")\n",
        "        is_anagram = False\n",
        "        break\n",
        "    else:\n",
        "        char_count[ch] -= 1\n",
        "\n",
        "if is_anagram:\n",
        "    print(f\"{s1} and {s2} are anagrams\")\n"
      ]
    },
    {
      "cell_type": "code",
      "execution_count": null,
      "id": "jvQ3_t_nI3eY",
      "metadata": {
        "id": "jvQ3_t_nI3eY"
      },
      "outputs": [],
      "source": [
        "# write a program to count how many times each letter occured.\n",
        "\n",
        "s = \"Hello World!\"\n",
        "\n",
        "for ch in s.lower():\n",
        "  count = 0\n",
        "  for i in s.lower():\n",
        "    if i == ch:\n",
        "      count += 1\n",
        "  print(f\"{ch} occured {count} times\")"
      ]
    },
    {
      "cell_type": "markdown",
      "id": "4aEZtFVpX5aV",
      "metadata": {
        "id": "4aEZtFVpX5aV"
      },
      "source": [
        "# Non Primitive Data"
      ]
    },
    {
      "cell_type": "code",
      "execution_count": null,
      "id": "yNnaNFk0X-ES",
      "metadata": {
        "id": "yNnaNFk0X-ES"
      },
      "outputs": [],
      "source": [
        "# LISTS\n",
        "\n",
        "a = []\n",
        "print(type(a))"
      ]
    },
    {
      "cell_type": "code",
      "execution_count": null,
      "id": "9g1WezbRYDsI",
      "metadata": {
        "id": "9g1WezbRYDsI"
      },
      "outputs": [],
      "source": [
        "a = [1, 2, 3]\n",
        "b = ['a', 'b', 'c']\n",
        "c = [1, 'a', 2, 'b']\n",
        "\n",
        "print(a, b, c)"
      ]
    },
    {
      "cell_type": "code",
      "execution_count": null,
      "id": "8ktveYPnYWBc",
      "metadata": {
        "id": "8ktveYPnYWBc"
      },
      "outputs": [],
      "source": [
        "a = list(\"abc\"+\"123\")\n",
        "a"
      ]
    },
    {
      "cell_type": "code",
      "execution_count": null,
      "id": "9AYVFgrIYcdz",
      "metadata": {
        "id": "9AYVFgrIYcdz"
      },
      "outputs": [],
      "source": [
        "my_list = [1, 1.5, \"Hello\", True, None, 2 + 3j, [1, 2, 3],\n",
        "           (1, 2, 3), {1, 2, 3}, {1 : \"one\", 2 : \"two\"},\n",
        "           print, tuple]\n",
        "my_list"
      ]
    },
    {
      "cell_type": "code",
      "execution_count": null,
      "id": "AvkN-8QCYz-I",
      "metadata": {
        "id": "AvkN-8QCYz-I"
      },
      "outputs": [],
      "source": [
        "print(my_list[10])"
      ]
    },
    {
      "cell_type": "code",
      "execution_count": null,
      "id": "ENx2_29sY72V",
      "metadata": {
        "id": "ENx2_29sY72V"
      },
      "outputs": [],
      "source": [
        "my_list[10](\"Hello World, this calls the print function\")"
      ]
    },
    {
      "cell_type": "code",
      "execution_count": null,
      "id": "Zi1h0mG4ZFNE",
      "metadata": {
        "id": "Zi1h0mG4ZFNE"
      },
      "outputs": [],
      "source": [
        "my_list[6][1] # 6th index has a list [1, 2, 3] and it's 1st index holds a value of 2."
      ]
    },
    {
      "cell_type": "code",
      "execution_count": null,
      "id": "LUBJV2NpZSRw",
      "metadata": {
        "id": "LUBJV2NpZSRw"
      },
      "outputs": [],
      "source": [
        "# iterating through the list\n",
        "\n",
        "x = ['a', 'b', 'c', 'd', 'e', 'f']\n",
        "\n",
        "for i in range(len(x)):\n",
        "    print(i, x[i])"
      ]
    },
    {
      "cell_type": "code",
      "execution_count": null,
      "id": "afd7777b",
      "metadata": {
        "id": "afd7777b"
      },
      "outputs": [],
      "source": [
        "# iterating through odd indexes of the list\n",
        "\n",
        "x = ['a', 'b', 'c', 'd', 'e', 'f']\n",
        "\n",
        "for i in range(1, len(x), 2):\n",
        "    print(i, x[i])"
      ]
    },
    {
      "cell_type": "code",
      "execution_count": null,
      "id": "dec935c5",
      "metadata": {
        "id": "dec935c5"
      },
      "outputs": [],
      "source": [
        "# adds an element to the end of the list (at the -1 position specifically)\n",
        "\n",
        "x = ['a', 'b', 'c', 'd', 'e', 'f']\n",
        "\n",
        "x.append('g')\n",
        "print(x)"
      ]
    },
    {
      "cell_type": "code",
      "execution_count": null,
      "id": "7923fabd",
      "metadata": {
        "id": "7923fabd"
      },
      "outputs": [],
      "source": [
        "# inserts an element at a particular position\n",
        "\n",
        "x = ['a', 'b', 'c', 'd', 'e', 'f']\n",
        "\n",
        "x.insert(0, 'A')\n",
        "x"
      ]
    },
    {
      "cell_type": "code",
      "execution_count": null,
      "id": "4e5ea171",
      "metadata": {
        "id": "4e5ea171"
      },
      "outputs": [],
      "source": [
        "# returns the index of the element\n",
        "\n",
        "x = ['a', 'b', 'c', 'd', 'e', 'f']\n",
        "\n",
        "x.index(\"e\")"
      ]
    },
    {
      "cell_type": "code",
      "execution_count": null,
      "id": "d30e5238",
      "metadata": {
        "id": "d30e5238"
      },
      "outputs": [],
      "source": [
        "# removes and returns the elements at the specified index or index -1 by default\n",
        "\n",
        "x = ['a', 'b', 'c', 'd', 'e', 'f']\n",
        "\n",
        "x.pop()"
      ]
    },
    {
      "cell_type": "code",
      "execution_count": null,
      "id": "cf76a129",
      "metadata": {
        "id": "cf76a129"
      },
      "outputs": [],
      "source": [
        "# removes the element specified\n",
        "\n",
        "x = ['a', 'b', 'c', 'd', 'e', 'f']\n",
        "\n",
        "x.remove('f')\n",
        "print(x)"
      ]
    },
    {
      "cell_type": "code",
      "execution_count": null,
      "id": "ed10f2b9",
      "metadata": {
        "id": "ed10f2b9"
      },
      "outputs": [],
      "source": [
        "# reverses the entire list\n",
        "\n",
        "x = ['a', 'b', 'c', 'd', 'e', 'f']\n",
        "\n",
        "x.reverse()\n",
        "print(x)"
      ]
    },
    {
      "cell_type": "code",
      "execution_count": null,
      "id": "b2866154",
      "metadata": {
        "id": "b2866154"
      },
      "outputs": [],
      "source": [
        "# sorts the entire list\n",
        "\n",
        "x = ['a', 'b', 'c', 'd', 'e', 'f']\n",
        "\n",
        "x.sort()\n",
        "print(x)"
      ]
    },
    {
      "cell_type": "code",
      "execution_count": null,
      "id": "8013bc1a",
      "metadata": {
        "id": "8013bc1a"
      },
      "outputs": [],
      "source": [
        "# add the letters 'a' to 'g' at the beginning of the list\n",
        "# 1. using reversed string.\n",
        "\n",
        "r = ['h', 'i', 'j', 'k']\n",
        "s = 'abcdefg'\n",
        "\n",
        "for ch in s[::-1]:\n",
        "    r.insert(0, ch)\n",
        "\n",
        "print(r)"
      ]
    },
    {
      "cell_type": "code",
      "execution_count": null,
      "id": "cd04f8e2",
      "metadata": {
        "id": "cd04f8e2"
      },
      "outputs": [],
      "source": [
        "# 2. using normal string\n",
        "\n",
        "r = ['h', 'i', 'j', 'k']\n",
        "s = 'abcdefg'\n",
        "\n",
        "for i in range(len(s)):\n",
        "    r.insert(i, s[i])\n",
        "\n",
        "print(r)"
      ]
    },
    {
      "cell_type": "code",
      "execution_count": null,
      "id": "8aff072d",
      "metadata": {
        "id": "8aff072d"
      },
      "outputs": [],
      "source": [
        "# 3. using negative indexing\n",
        "\n",
        "r = ['h', 'i', 'j', 'k']\n",
        "s = 'abcdefg'\n",
        "\n",
        "for ch in s:\n",
        "    r.insert(-4, ch)\n",
        "\n",
        "print(r)"
      ]
    },
    {
      "cell_type": "code",
      "execution_count": null,
      "id": "6c7bf1cb",
      "metadata": {
        "id": "6c7bf1cb"
      },
      "outputs": [],
      "source": [
        "# 4. using negative indexing and chr()\n",
        "\n",
        "r = ['h', 'i', 'j', 'k']\n",
        "\n",
        "for i in range(7):\n",
        "    r.insert(-4, chr(97 + i))\n",
        "    print(r)"
      ]
    },
    {
      "cell_type": "code",
      "execution_count": null,
      "id": "0f32da71",
      "metadata": {
        "id": "0f32da71"
      },
      "outputs": [],
      "source": [
        "# using the 'Python' way\n",
        "\n",
        "r = ['h', 'i', 'j', 'k']\n",
        "s = 'abcdefg'\n",
        "\n",
        "r = list(s) + r\n",
        "print(r)"
      ]
    },
    {
      "cell_type": "code",
      "execution_count": null,
      "id": "ab956ed9",
      "metadata": {
        "id": "ab956ed9"
      },
      "outputs": [],
      "source": [
        "# remove certain elements from a list\n",
        "# 1. using the remove() menthod\n",
        "\n",
        "elements = ['a', 'b', 'c', 1, 'z']\n",
        "r = ['a', 'b', 'c', 'd', 'e', 'f', 'g', 'h', 'i', 'j', 'k']\n",
        "\n",
        "for ch in elements:\n",
        "    if ch in r:\n",
        "        r.remove(ch)\n",
        "\n",
        "print(r)"
      ]
    },
    {
      "cell_type": "code",
      "execution_count": null,
      "id": "8fa4a502",
      "metadata": {
        "id": "8fa4a502"
      },
      "outputs": [],
      "source": [
        "#2. using the pop() method\n",
        "\n",
        "elements = ['a', 'b', 'c', 1, 'z']\n",
        "r = ['a', 'b', 'c', 'd', 'e', 'f', 'g', 'h', 'i', 'j', 'k']\n",
        "\n",
        "for ch in elements:\n",
        "    if r.count(ch) > 0:\n",
        "        r.pop(r.index(ch))\n",
        "print(r)"
      ]
    },
    {
      "cell_type": "code",
      "execution_count": null,
      "id": "547c7163",
      "metadata": {
        "id": "547c7163"
      },
      "outputs": [],
      "source": [
        "# acessing the list using the enumerate() function\n",
        "\n",
        "elements = ['a', 'b', 'c', 'd', 'e']\n",
        "\n",
        "for index, value in enumerate(elements):\n",
        "    print(index, value)"
      ]
    },
    {
      "cell_type": "code",
      "execution_count": null,
      "id": "2dcc4625",
      "metadata": {
        "id": "2dcc4625"
      },
      "outputs": [],
      "source": [
        "# multi-dimensional lists\n",
        "\n",
        "m = [\n",
        "    ['annabelle', 'bheem', 'charlie'],\n",
        "    ['doraemon', 'oggy', 'fantastic 4'],\n",
        "    ['gatorgaj', 'hagemaru', 'shinchan']\n",
        "]\n",
        "\n",
        "print(m[0])           # ['annabelle', 'bheem', 'charlie']\n",
        "print(m[0][1])        # bheem\n",
        "print(m[0][1][0])     # b\n",
        "print(m[0][1][4::1])  # m\n",
        "print(m[2][2][4:])    # chan\n",
        "print(m[1][0][:4])    # dora"
      ]
    },
    {
      "cell_type": "code",
      "execution_count": null,
      "id": "de44d3c4",
      "metadata": {
        "id": "de44d3c4"
      },
      "outputs": [],
      "source": [
        "e = ['The', 'Moon']\n",
        "e.insert(1, \"Hello\")\n",
        "print(e)"
      ]
    },
    {
      "cell_type": "code",
      "execution_count": null,
      "id": "7b30f999",
      "metadata": {
        "id": "7b30f999"
      },
      "outputs": [],
      "source": [
        "e = ['The', 'Moon']\n",
        "e.append(\"Hello\")\n",
        "print(e)"
      ]
    },
    {
      "cell_type": "code",
      "execution_count": null,
      "id": "cdfe59f0",
      "metadata": {
        "id": "cdfe59f0"
      },
      "outputs": [],
      "source": [
        "e = ['The', 'Moon']\n",
        "e.extend([\"this\", \"is\", \"great\"])\n",
        "print(e)"
      ]
    },
    {
      "cell_type": "code",
      "execution_count": null,
      "id": "db06291b",
      "metadata": {
        "id": "db06291b"
      },
      "outputs": [],
      "source": [
        "e = ['The', 'Moon', 'this', 'is', 'great']\n",
        "p = e\n",
        "print(\"p =\", p)     # same as e\n",
        "p.pop()             # remove an element from 'p'\n",
        "print(\"p =\", p)     # 'p' changed\n",
        "print(\"e =\", e)     # 'e' changed too.\n",
        "print(id(p), id(e)) # cause they transferred id instead."
      ]
    },
    {
      "cell_type": "code",
      "execution_count": null,
      "id": "3c090a80",
      "metadata": {
        "id": "3c090a80"
      },
      "outputs": [],
      "source": [
        "e = ['The', 'Moon', 'this', 'is', 'great']\n",
        "p = e.copy()        # using the list.copy() method\n",
        "print(\"p =\", p)     # same as e\n",
        "p.pop()             # remove an element from 'p'\n",
        "print(\"p =\", p)     # 'p' changed\n",
        "print(\"e =\", e)     # 'e' didn't change.\n",
        "print(id(p), id(e)) # cause they transferred 'Data' instead."
      ]
    },
    {
      "cell_type": "code",
      "execution_count": null,
      "id": "86145759",
      "metadata": {
        "id": "86145759"
      },
      "outputs": [],
      "source": [
        "m = [\n",
        "    ['annabelle', 'bheem', 'charlie'],\n",
        "    ['doraemon', 'oggy', 'fantastic 4'],\n",
        "    ['gatorgaj', 'hagemaru', 'shinchan']\n",
        "]\n",
        "\n",
        "# normal .copy() only changes the id for the main list and no the lists or other\n",
        "# non-primitive lists inside it.\n",
        "\n",
        "n = m.copy()\n",
        "n[0][2] = \"Toys\" # modifying in 'n'\n",
        "\n",
        "print(f\"m = {m}\\nn = {n}\") # changed in both 'm' and 'n'\n",
        "print(id(m), id(n))        # main id's are different\n",
        "print(id(m[0]), id(n[0]))  # id's for inner lists remain the same"
      ]
    },
    {
      "cell_type": "code",
      "execution_count": null,
      "id": "07be4c73",
      "metadata": {
        "id": "07be4c73"
      },
      "outputs": [],
      "source": [
        "# by using the deepcopy function from the copy module, it creates correct copies\n",
        "# of all non primitive data.\n",
        "\n",
        "import copy\n",
        "\n",
        "m = [\n",
        "    ['annabelle', 'bheem', 'charlie'],\n",
        "    ['doraemon', 'oggy', 'fantastic 4'],\n",
        "    ['gatorgaj', 'hagemaru', 'shinchan']\n",
        "]\n",
        "\n",
        "n = copy.deepcopy(m)\n",
        "n[0][2] = \"Toys\"           # modifying in 'n'\n",
        "\n",
        "print(f\"m = {m}\\nn = {n}\") # changed in only 'n'\n",
        "print(id(m), id(n))        # main id's are different\n",
        "print(id(m[0]), id(n[0]))  # id's for inner lists are also different"
      ]
    },
    {
      "cell_type": "code",
      "execution_count": null,
      "id": "300b6f32",
      "metadata": {
        "id": "300b6f32"
      },
      "outputs": [],
      "source": [
        "# difference between .reverse() method and reversed() function\n",
        "\n",
        "# reversed() function does not modify the original list or data\n",
        "# it only returns a copy of the operation it performs.\n",
        "\n",
        "f = [1, 2, 3, 4, 5, 6]\n",
        "print(f\"f = {list(reversed(f))}\")"
      ]
    },
    {
      "cell_type": "code",
      "execution_count": null,
      "id": "6b07add0",
      "metadata": {
        "id": "6b07add0"
      },
      "outputs": [],
      "source": [
        "# the .reversed() method modifies the original list\n",
        "\n",
        "f = [1, 2, 3, 4, 5, 6]\n",
        "f.reverse()\n",
        "print(f\"f = {f}\")"
      ]
    },
    {
      "cell_type": "code",
      "execution_count": null,
      "id": "87375011",
      "metadata": {
        "id": "87375011"
      },
      "outputs": [],
      "source": [
        "# dynamically create this list using an empty list\n",
        "# 1. My way\n",
        "\n",
        "question = [[1, 2, 3, 4], [5 ,6 ,7 ,8 ,9]]\n",
        "answer = []\n",
        "\n",
        "temp = []\n",
        "\n",
        "for i in range(1, 5):\n",
        "  temp.append(i)\n",
        "answer.append(list(temp))\n",
        "temp.clear()\n",
        "\n",
        "for i in range(5, 10):\n",
        "  temp.append(i)\n",
        "answer.append(list(temp))\n",
        "temp.clear()\n",
        "\n",
        "print(answer)"
      ]
    },
    {
      "cell_type": "code",
      "execution_count": null,
      "id": "4168fea6",
      "metadata": {
        "id": "4168fea6"
      },
      "outputs": [],
      "source": [
        "# 2. using list comprehension\n",
        "\n",
        "question = [[1, 2, 3, 4], [5 ,6 ,7 ,8 ,9]]\n",
        "answer = []\n",
        "\n",
        "answer.append([i for i in range(1, 5)])\n",
        "answer.append([i for i in range(5, 10)])\n",
        "\n",
        "print(answer)"
      ]
    },
    {
      "cell_type": "code",
      "execution_count": null,
      "id": "6IMHlVXUs3bE",
      "metadata": {
        "id": "6IMHlVXUs3bE"
      },
      "outputs": [],
      "source": [
        "# 3. using list comprehension in a single line\n",
        "\n",
        "answer = [[i for i in range(1, 5)], [i for i in range(5, 10)]]\n",
        "print(answer)"
      ]
    },
    {
      "cell_type": "code",
      "execution_count": null,
      "id": "8NWbDu-NtF-C",
      "metadata": {
        "id": "8NWbDu-NtF-C"
      },
      "outputs": [],
      "source": [
        "# return the position of the element in the matrix\n",
        "# 1. my way\n",
        "\n",
        "matrix = [\n",
        "    [1, 3, 8],\n",
        "    [9, 11, \"Hello\"],\n",
        "    [13, 15, \"World\"]\n",
        "]\n",
        "\n",
        "element_to_find = input(\"Enter the element to find: \")\n",
        "res = \"not found\"\n",
        "\n",
        "if element_to_find.isnumeric():\n",
        "    element_to_find = int(element_to_find)\n",
        "\n",
        "for i in range(len(matrix)):\n",
        "    for j in range(len(matrix[i])):\n",
        "        if matrix[i][j] == element_to_find:\n",
        "            res = f\"{element_to_find} found at {i}, {j}\"\n",
        "\n",
        "print(res)"
      ]
    },
    {
      "cell_type": "code",
      "execution_count": null,
      "id": "oXT7McqowwDc",
      "metadata": {
        "id": "oXT7McqowwDc"
      },
      "outputs": [],
      "source": [
        "a = (1, ) # tuple with a single element\n",
        "print(a)"
      ]
    },
    {
      "cell_type": "code",
      "execution_count": null,
      "id": "ceb3eb15",
      "metadata": {
        "id": "ceb3eb15"
      },
      "outputs": [],
      "source": [
        "a = (1, 2, 3) # normal tuple\n",
        "print(a)"
      ]
    },
    {
      "cell_type": "code",
      "execution_count": null,
      "id": "eca34a70",
      "metadata": {
        "id": "eca34a70"
      },
      "outputs": [],
      "source": [
        "a = tuple() # create an empty tuple\n",
        "print(a)\n",
        "a = tuple([1, 2, 3]) # tuple using the tuple class\n",
        "print(a)"
      ]
    },
    {
      "cell_type": "code",
      "execution_count": null,
      "id": "3bb04c46",
      "metadata": {
        "id": "3bb04c46"
      },
      "outputs": [],
      "source": [
        "print(type(a))"
      ]
    },
    {
      "cell_type": "code",
      "execution_count": null,
      "id": "8842fb1a",
      "metadata": {
        "id": "8842fb1a"
      },
      "outputs": [],
      "source": [
        "a = tuple([1, 2, 3])\n",
        "a.count(2)"
      ]
    },
    {
      "cell_type": "code",
      "execution_count": null,
      "id": "d4cf142c",
      "metadata": {
        "id": "d4cf142c"
      },
      "outputs": [],
      "source": [
        "a = tuple([1, 2, 3])\n",
        "a.index(3)"
      ]
    },
    {
      "cell_type": "code",
      "execution_count": null,
      "id": "fe700488",
      "metadata": {
        "id": "fe700488"
      },
      "outputs": [],
      "source": [
        "# how to modify a tuple\n",
        "# 1. type cast into another data type like a list\n",
        "\n",
        "a = (1, 2, 3)\n",
        "print(a) # before\n",
        "\n",
        "a = list(a)\n",
        "a.insert(len(a), 4)\n",
        "a.insert(0, 0)\n",
        "a = tuple(a)\n",
        "\n",
        "print(a) # after"
      ]
    },
    {
      "cell_type": "code",
      "execution_count": null,
      "id": "1b9cb650",
      "metadata": {
        "id": "1b9cb650"
      },
      "outputs": [],
      "source": [
        "# 2. using unpacking\n",
        "\n",
        "a = (1, 2, 3)\n",
        "a = tuple((0, *a, 4))\n",
        "print(a)"
      ]
    },
    {
      "cell_type": "code",
      "execution_count": null,
      "id": "81df09f9",
      "metadata": {
        "id": "81df09f9"
      },
      "outputs": [],
      "source": [
        "# packing\n",
        "\n",
        "a, *b, c = 10, 20, 30, 40, 50\n",
        "print(a, b, c)\n",
        "print(a, *b, c)"
      ]
    },
    {
      "cell_type": "code",
      "execution_count": null,
      "id": "9046997a",
      "metadata": {
        "id": "9046997a"
      },
      "outputs": [],
      "source": [
        "# modifying a mutable datatype inside a tuple\n",
        "\n",
        "a = ([1, 2, 3], 5, 6, 7)\n",
        "print(a[0])\n",
        "\n",
        "a[0].append(4)\n",
        "print(a)"
      ]
    },
    {
      "cell_type": "code",
      "execution_count": null,
      "id": "0f9450b1",
      "metadata": {
        "id": "0f9450b1"
      },
      "outputs": [],
      "source": [
        "# set\n",
        "\n",
        "s = {1, 2, 3, 4} # create a set\n",
        "print(s)"
      ]
    },
    {
      "cell_type": "code",
      "execution_count": null,
      "id": "302210af",
      "metadata": {
        "id": "302210af"
      },
      "outputs": [],
      "source": [
        "s = set() # create an empty set\n",
        "print(type(s))"
      ]
    },
    {
      "cell_type": "code",
      "execution_count": null,
      "id": "e2ee4921",
      "metadata": {
        "id": "e2ee4921"
      },
      "outputs": [],
      "source": [
        "s = {\"abc\", 1, 2, 0, 0}\n",
        "print(s) # set only stores unique values and stores them based on priority."
      ]
    },
    {
      "cell_type": "code",
      "execution_count": null,
      "id": "280f0642",
      "metadata": {
        "id": "280f0642"
      },
      "outputs": [],
      "source": [
        "s = {[1, 2, 3], [4, 5, 6]} # set can't hold any unhashable data."
      ]
    },
    {
      "cell_type": "code",
      "execution_count": null,
      "id": "7f8db49d",
      "metadata": {
        "id": "7f8db49d"
      },
      "outputs": [],
      "source": [
        "print(hash(\"abcdefghijklmnopqrstuvwxyz\"))           # converts data into a hash code\n",
        "print(hash(\"123321123213132132132132132132131321\"))"
      ]
    },
    {
      "cell_type": "code",
      "execution_count": null,
      "id": "ab0f69a9",
      "metadata": {
        "id": "ab0f69a9"
      },
      "outputs": [],
      "source": [
        "s = {(1, [2], 3), 4, 5, 6} # can't hold any unhashable data even if inside an hashable form.\n",
        "print(s)"
      ]
    },
    {
      "cell_type": "code",
      "execution_count": null,
      "id": "62b5cea1",
      "metadata": {
        "id": "62b5cea1"
      },
      "outputs": [],
      "source": [
        "# set theory\n",
        "\n",
        "a = {1, 2, 3}\n",
        "b = {2, 3, 5, 7}\n",
        "c = {4, 6}\n",
        "\n",
        "# basic way to get the union of sets\n",
        "u = {*a, *b, *c}\n",
        "\n",
        "print(a, b, c, u)"
      ]
    },
    {
      "cell_type": "code",
      "execution_count": null,
      "id": "ed3a7a94",
      "metadata": {
        "id": "ed3a7a94"
      },
      "outputs": [],
      "source": [
        "# get union of sets using the union method\n",
        "u = a.union(b.union(c))\n",
        "print(u)"
      ]
    },
    {
      "cell_type": "code",
      "execution_count": null,
      "id": "cc9c688b",
      "metadata": {
        "id": "cc9c688b"
      },
      "outputs": [],
      "source": [
        "a = {1, 2, 3}\n",
        "b = {2, 3, 5, 7}\n",
        "c = {4, 6}\n",
        "u = {*a, *b, *c}\n",
        "\n",
        "print(a.issubset(u))          # true if all values of 'a' are in 'u'\n",
        "print(u.issuperset(a))        # true if all values of 'u' are in 'a'\n",
        "print(a.difference(b))        # returns 'a' - 'b'\n",
        "print(a.difference_update(b)) # updates value of 'a' with 'a' - 'b'\n"
      ]
    },
    {
      "cell_type": "code",
      "execution_count": null,
      "id": "9c5099cd",
      "metadata": {
        "id": "9c5099cd"
      },
      "outputs": [],
      "source": [
        "a = {1, 2, 3}\n",
        "b = {2, 3, 5, 7}\n",
        "c = {4, 6}\n",
        "u = {*a, *b, *c}\n",
        "\n",
        "print(a.isdisjoint(c))          # true if there are no common values between two sets\n",
        "print(a.discard(1))             # removes an element if present\n",
        "print(a.intersection(b))        # returns the commmon values\n",
        "print(a.intersection_update(b)) # updates value of 'a' with 'a' intersection 'b'"
      ]
    },
    {
      "cell_type": "code",
      "execution_count": null,
      "id": "3d806607",
      "metadata": {
        "id": "3d806607"
      },
      "outputs": [],
      "source": [
        "a = {1, 2, 3}\n",
        "b = {2, 3, 5, 7}\n",
        "c = {4, 6}\n",
        "u = {*a, *b, *c}\n",
        "\n",
        "print(a.pop())                   # removes a random element\n",
        "print(a.remove(2))               # removes the particular element\n",
        "print(a.symmetric_difference(b)) # returns the uncommon values of 'a' and 'b'\n",
        "print(a.update(b))"
      ]
    },
    {
      "cell_type": "code",
      "execution_count": null,
      "id": "ea7ea646",
      "metadata": {
        "id": "ea7ea646"
      },
      "outputs": [],
      "source": [
        "# dictionary\n",
        "d = {\n",
        "    1 : \"One\",\n",
        "    2 : \"two\"\n",
        "}\n",
        "\n",
        "print(d[1]) # values can only be accessed by keys."
      ]
    },
    {
      "cell_type": "code",
      "execution_count": null,
      "id": "18395e29",
      "metadata": {
        "id": "18395e29"
      },
      "outputs": [],
      "source": [
        "d[2] = \"Two\"\n",
        "print(d)   # updates the value of key if present.\n",
        "\n",
        "d[3] = \"Three\"\n",
        "print(d)   # else inserts a new key value pair."
      ]
    },
    {
      "cell_type": "code",
      "execution_count": null,
      "id": "5e9d2e81",
      "metadata": {
        "id": "5e9d2e81"
      },
      "outputs": [],
      "source": [
        "# count the number of each character in a string by using a dictionary.\n",
        "\n",
        "s = \"Hello World\"\n",
        "ch_count = {}\n",
        "\n",
        "for ch in s.lower():\n",
        "    if ch in ch_count:\n",
        "        ch_count[ch] += 1\n",
        "    else:\n",
        "        ch_count[ch] = 1\n",
        "\n",
        "print(ch_count)"
      ]
    },
    {
      "cell_type": "code",
      "execution_count": null,
      "id": "a6cc2d9e",
      "metadata": {
        "id": "a6cc2d9e"
      },
      "outputs": [],
      "source": [
        "s = \"\"\"\n",
        "Your Excellency, Honourable President,\n",
        "Distinguished delegates from both nations,\n",
        "Friends from the media,\n",
        "\n",
        "Namaskar!\n",
        "Kalimera!\n",
        "\n",
        "At the very outset, I extend my heartfelt gratitude to the Honourable President for the warm welcome and gracious hospitality. Since the moment I set foot on the soil of Cyprus yesterday, the warmth and affection shown by the President and the people of this country have truly touched my heart.\n",
        "\n",
        "A short while ago, I was conferred with a prestigious honour by Cyprus. This accolade is not mine alone — it is a tribute to the 140 crore Indians. It symbolises the enduring friendship between India and Cyprus. I express my sincere thanks, once again, for this honour.\n",
        "\n",
        "Friends,\n",
        "\n",
        "We attach great importance to our relations with Cyprus. Our shared commitment to values such as democracy and the rule of law forms the strong foundation of our partnership. The friendship between India and Cyprus is not one that has emerged out of circumstances, nor is it confined by borders.\n",
        "\n",
        "It has withstood the test of time, again and again. In every era, we have upheld the spirit of cooperation, respect and mutual support. We honour each other’s sovereignty and territorial integrity.\n",
        "\n",
        "Friends,\n",
        "\n",
        "This visit marks the first by an Indian Prime Minister to Cyprus in over two decades. It presents a golden opportunity to script a new chapter in our bilateral relations. Today, the Honourable President and I held extensive discussions on all aspects of our partnership.\n",
        "\n",
        "There are many similarities between Cyprus’s “Vision 2035” and our vision of a “Viksit Bharat 2047”. Therefore, we shall work together to shape our shared future. To provide strategic direction to our partnership, we will develop a concrete roadmap for the next five years.\n",
        "\n",
        "To further strengthen our defence and security cooperation, the bilateral Defence Cooperation Programme will focus on defence industry collaboration. Separate dialogues will be initiated on cyber and maritime security.\n",
        "\n",
        "We are deeply grateful to Cyprus for its consistent support of Bharat’s fight against cross-border terrorism. To combat terrorism, drug trafficking and arms smuggling, a mechanism will be established for real-time information exchange between our respective agencies. We both agree that there is immense potential in enhancing bilateral trade and investment.\n",
        "\n",
        "Yesterday, during my interaction with the Honourable President, I sensed great enthusiasm and synergy within the business community regarding our economic ties. We are working towards concluding a mutually beneficial India-EU Free Trade Agreement by the end of the year.\n",
        "\n",
        "This year, the “India-Cyprus-Greece Business and Investment Council” has also been launched. Such initiatives will boost bilateral trade and investment between our countries.\n",
        "\n",
        "We also held detailed discussions on expanding cooperation in areas such as technology, innovation, health, agriculture, renewable energy, and climate justice. We are encouraged by the growing popularity of yoga and Ayurveda in Cyprus.\n",
        "\n",
        "Cyprus is a preferred destination for Indian tourists as well. We shall work towards establishing direct air connectivity to facilitate their travel. We have resolved to expedite the finalisation of a Mobility Agreement.\n",
        "\n",
        "Friends,\n",
        "\n",
        "Within the European Union, Cyprus is our trusted partner. We extend our best wishes for Cyprus’s upcoming Presidency of the European Union next year. We are confident that, under your leadership, India-EU relations will reach new heights.\n",
        "\n",
        "Both nations share common views on the need to reform the United Nations to make it more representative. We are grateful to Cyprus for its support of Bharat’s bid for permanent membership in the UN Security Council.\n",
        "\n",
        "We have expressed concern over ongoing conflicts in West Asia and Europe. The adverse impact of these conflicts is not limited to their respective regions alone. We both agree that this is not an era of war.\n",
        "\n",
        "Dialogue and the restoration of stability are the calls of humanity. We also discussed enhancing connectivity with the Mediterranean region. We concur that the India-Middle East-Europe Economic Corridor will pave the way for peace and prosperity in the region.\n",
        "\n",
        "Honourable President,\n",
        "\n",
        "I extend a cordial invitation to you to visit Bharat. I look forward to the opportunity of welcoming you to Bharat at the earliest.\n",
        "\n",
        "Once again, I sincerely thank you for the exceptional hospitality and honour.\n",
        "\"\"\""
      ]
    },
    {
      "cell_type": "code",
      "execution_count": null,
      "id": "13880808",
      "metadata": {
        "id": "13880808"
      },
      "outputs": [],
      "source": [
        "word_count = {}\n",
        "\n",
        "for word in s.lower().split():\n",
        "    if word in word_count:\n",
        "        word_count[word] += 1\n",
        "    else:\n",
        "        word_count[word] = 1\n",
        "\n",
        "print(word_count)"
      ]
    },
    {
      "cell_type": "code",
      "execution_count": null,
      "id": "0f47cbed",
      "metadata": {
        "id": "0f47cbed"
      },
      "outputs": [],
      "source": [
        "copy_dict = word_count.copy()\n",
        "\n",
        "for k in copy_dict:\n",
        "    if word_count[k] < 7:\n",
        "        word_count.pop(k)\n",
        "\n",
        "print(word_count)"
      ]
    },
    {
      "cell_type": "code",
      "execution_count": null,
      "id": "b9ba7c50",
      "metadata": {
        "id": "b9ba7c50"
      },
      "outputs": [],
      "source": [
        "# fromkeys() method is used to create a dict from an iterable\n",
        "# and assigns null values to them.\n",
        "\n",
        "s = \"hello world\"\n",
        "char = dict.fromkeys(s)\n",
        "\n",
        "print(char)"
      ]
    },
    {
      "cell_type": "code",
      "execution_count": null,
      "id": "b516d071",
      "metadata": {
        "id": "b516d071"
      },
      "outputs": [],
      "source": [
        "# .get() method is used to fetch a value but it allows us to set a default\n",
        "# return value if not found.\n",
        "\n",
        "num = {1: 'one', 2 : 'two', 3 : 'three'}\n",
        "\n",
        "print(num.get(1))\n",
        "print(num.get(5, \"not found\"))"
      ]
    },
    {
      "cell_type": "code",
      "execution_count": null,
      "id": "b3325657",
      "metadata": {
        "id": "b3325657"
      },
      "outputs": [],
      "source": [
        "# .setdefault allows us to set key value pairs only if they dont exist.\n",
        "# if it exists then it doesn't update.\n",
        "\n",
        "num = {1: 'one', 2 : 'two', 3 : 'three'}\n",
        "\n",
        "num.setdefault(1, 999)\n",
        "print(num)\n",
        "\n",
        "num.setdefault(4, 'four')\n",
        "print(num)"
      ]
    },
    {
      "cell_type": "code",
      "execution_count": null,
      "id": "8a335f76",
      "metadata": {
        "id": "8a335f76"
      },
      "outputs": [],
      "source": [
        "# .items() returns a list of key value pairs in groups of tuples.\n",
        "\n",
        "num = {1: 'one', 2 : 'two', 3 : 'three'}\n",
        "\n",
        "num.items()"
      ]
    },
    {
      "cell_type": "code",
      "execution_count": null,
      "id": "1e87039c",
      "metadata": {
        "id": "1e87039c"
      },
      "outputs": [],
      "source": [
        "# .keys() returns a list of all keys.\n",
        "\n",
        "num = {1: 'one', 2 : 'two', 3 : 'three'}\n",
        "\n",
        "num.keys()"
      ]
    },
    {
      "cell_type": "code",
      "execution_count": null,
      "id": "3b0939b2",
      "metadata": {
        "id": "3b0939b2"
      },
      "outputs": [],
      "source": [
        "# .values() returns a list of all values.\n",
        "\n",
        "num = {1: 'one', 2 : 'two', 3 : 'three'}\n",
        "\n",
        "num.values()"
      ]
    },
    {
      "cell_type": "code",
      "execution_count": null,
      "id": "1cc0b2d9",
      "metadata": {
        "id": "1cc0b2d9"
      },
      "outputs": [],
      "source": [
        "# .pop() removes and returns a random element.\n",
        "\n",
        "num = {1: 'one', 2 : 'two', 3 : 'three'}\n",
        "\n",
        "print(num.pop(3))\n",
        "print(num)"
      ]
    },
    {
      "cell_type": "code",
      "execution_count": null,
      "id": "a3bd2a0e",
      "metadata": {
        "id": "a3bd2a0e"
      },
      "outputs": [],
      "source": [
        "# .popitem() removes and returns a key-value pair in a tuple.\n",
        "\n",
        "num = {1: 'one', 2 : 'two', 3 : 'three'}\n",
        "\n",
        "print(num.popitem())"
      ]
    },
    {
      "cell_type": "code",
      "execution_count": null,
      "id": "ea69a50e",
      "metadata": {
        "id": "ea69a50e"
      },
      "outputs": [],
      "source": [
        "num = {1: 'one', 2 : 'two', 3 : 'three'}\n",
        "\n",
        "num.update({1: 'one', 2 : 'two', 3 : 'three', 4 : 'four'})\n",
        "print(num)"
      ]
    },
    {
      "cell_type": "code",
      "execution_count": null,
      "id": "c224778c",
      "metadata": {
        "id": "c224778c"
      },
      "outputs": [],
      "source": [
        "run = True\n",
        "\n",
        "while run:\n",
        "    d = float(input(\"enter a number: \"))\n",
        "    print(d * 2)\n",
        "    run = bool(int(input(\"enter '0' to exist or any other number to continue: \" )))"
      ]
    },
    {
      "cell_type": "code",
      "execution_count": null,
      "id": "1328a8fb",
      "metadata": {
        "id": "1328a8fb"
      },
      "outputs": [],
      "source": [
        "# In Python, iter() and next() are fundamental functions used to interact\n",
        "# with iterators, which are objects that represent a stream of data and can\n",
        "# be traversed one element at a time.\n",
        "\n",
        "s = [101, 102, 103, 104]\n",
        "i = iter(s)                # creates a manually iterable object.\n",
        "\n",
        "print(next(i, \"end\"))      # next function retrieves the next value, and can take\n",
        "print(next(i, \"end\"))      # a default value as any to avoid null error after the\n",
        "print(next(i, \"end\"))      # iterable runs out of values.\n",
        "print(next(i, \"end\"))\n",
        "print(next(i, \"end\"))      # ran out of values.\n",
        "print(next(i, \"end\"))      # ran out of values."
      ]
    },
    {
      "cell_type": "markdown",
      "id": "849738a6",
      "metadata": {
        "id": "849738a6"
      },
      "source": [
        "# Functions"
      ]
    },
    {
      "cell_type": "code",
      "execution_count": null,
      "id": "73078407",
      "metadata": {
        "id": "73078407",
        "outputId": "13b9b219-d2ed-4166-b3b5-3248374a1709"
      },
      "outputs": [
        {
          "name": "stdout",
          "output_type": "stream",
          "text": [
            "Hello World!\n",
            "<function greet at 0x7fc535c17a30>\n"
          ]
        }
      ],
      "source": [
        "# function definition\n",
        "\n",
        "def greet():\n",
        "    print(\"Hello World!\")\n",
        "\n",
        "greet()\n",
        "print(greet)"
      ]
    },
    {
      "cell_type": "code",
      "execution_count": null,
      "id": "008133b3",
      "metadata": {
        "id": "008133b3",
        "outputId": "ce154749-4041-4acd-dc30-3f9178e4ab48"
      },
      "outputs": [
        {
          "name": "stdout",
          "output_type": "stream",
          "text": [
            "Hello Rohit!\n",
            "Hello Aakash!\n",
            "Hello Yash!\n"
          ]
        }
      ],
      "source": [
        "# functions with parameters\n",
        "\n",
        "def greet(name):\n",
        "    print(f'Hello {name}!')\n",
        "\n",
        "greet('Rohit')        # calling function with arguments\n",
        "greet('Aakash')\n",
        "greet('Yash')"
      ]
    },
    {
      "cell_type": "code",
      "execution_count": null,
      "id": "943c25ef",
      "metadata": {
        "id": "943c25ef",
        "outputId": "ac6d40db-8770-40d4-ebea-50d0418821d8"
      },
      "outputs": [
        {
          "name": "stdout",
          "output_type": "stream",
          "text": [
            "executable code after return\n",
            "34\n"
          ]
        }
      ],
      "source": [
        "# function with return values\n",
        "\n",
        "def sum(a, b):\n",
        "    print(\"executable code after return\")\n",
        "    return a + b\n",
        "    print(\"non executable code after return\") # this line won't run if return statement is executed\n",
        "\n",
        "print(sum(10, 24))  # prints the return value of sum()"
      ]
    },
    {
      "cell_type": "code",
      "execution_count": null,
      "id": "c0305be8",
      "metadata": {
        "id": "c0305be8",
        "outputId": "2c6cc28e-f75c-45fa-c922-a778695ad101"
      },
      "outputs": [
        {
          "name": "stdout",
          "output_type": "stream",
          "text": [
            "True\n",
            "123\n"
          ]
        }
      ],
      "source": [
        "# use and modification of global variables in a function\n",
        "\n",
        "a = 0\n",
        "\n",
        "def set_value_of_a(value):\n",
        "    global a\n",
        "    a = value\n",
        "    return True\n",
        "\n",
        "print(set_value_of_a(123))\n",
        "print(a)"
      ]
    },
    {
      "cell_type": "code",
      "execution_count": null,
      "id": "2e44ca05",
      "metadata": {
        "id": "2e44ca05",
        "outputId": "e30a71d6-e98e-4d0d-868c-9c4e18afa939"
      },
      "outputs": [
        {
          "name": "stdout",
          "output_type": "stream",
          "text": [
            "45 x 1 = 45\n",
            "45 x 2 = 90\n",
            "45 x 3 = 135\n",
            "45 x 4 = 180\n",
            "45 x 5 = 225\n",
            "45 x 6 = 270\n",
            "45 x 7 = 315\n",
            "45 x 8 = 360\n",
            "45 x 9 = 405\n",
            "45 x 10 = 450\n"
          ]
        }
      ],
      "source": [
        "# write a function to print a table of any number\n",
        "\n",
        "def print_table(num):\n",
        "    for i in range(1, 11):\n",
        "        print(f\"{num} x {i} = {num * i}\")\n",
        "\n",
        "print_table(45)"
      ]
    },
    {
      "cell_type": "code",
      "execution_count": null,
      "id": "5d3d5d4b",
      "metadata": {
        "id": "5d3d5d4b"
      },
      "outputs": [],
      "source": [
        "# a recursive function is a function which calls itself.\n",
        "\n",
        "i = 0\n",
        "def recur():\n",
        "    global i\n",
        "    print(i)\n",
        "    i += 1\n",
        "    recur()"
      ]
    },
    {
      "cell_type": "code",
      "execution_count": null,
      "id": "09f6eca4",
      "metadata": {
        "id": "09f6eca4"
      },
      "outputs": [],
      "source": [
        "recur()"
      ]
    },
    {
      "cell_type": "code",
      "execution_count": null,
      "id": "efa012ca",
      "metadata": {
        "id": "efa012ca",
        "outputId": "d2be4c3b-ce92-4fb3-8dc7-aba8019aad9d"
      },
      "outputs": [
        {
          "name": "stdout",
          "output_type": "stream",
          "text": [
            "0\n",
            "1\n",
            "2\n",
            "3\n",
            "4\n",
            "5\n",
            "6\n",
            "7\n",
            "8\n",
            "9\n",
            "10\n",
            "11\n"
          ]
        }
      ],
      "source": [
        "# create a function to count upto a certain number using recursion.\n",
        "\n",
        "def count(num):\n",
        "    if (num <= 0):\n",
        "        print(num)\n",
        "        # raise Exception # use this line to see the call stack\n",
        "        return None\n",
        "    else:\n",
        "        count(num -1)\n",
        "        print(num)\n",
        "        return None\n",
        "\n",
        "count(11)"
      ]
    },
    {
      "cell_type": "code",
      "execution_count": null,
      "id": "e3cbbb08",
      "metadata": {
        "id": "e3cbbb08",
        "outputId": "d008ac08-1833-4110-e47e-0df56ff22507"
      },
      "outputs": [
        {
          "data": {
            "text/plain": [
              "120"
            ]
          },
          "execution_count": 24,
          "metadata": {},
          "output_type": "execute_result"
        }
      ],
      "source": [
        "# create a recursive function to find the factorial.\n",
        "\n",
        "def factorial(num):\n",
        "    if num <= 0:\n",
        "        return 1\n",
        "    else:\n",
        "        return num * factorial(num - 1)\n",
        "\n",
        "factorial(5)"
      ]
    },
    {
      "cell_type": "code",
      "execution_count": null,
      "id": "580367ef",
      "metadata": {
        "id": "580367ef",
        "outputId": "4faeadf7-e53d-4be7-f918-0fe57cff6eb5"
      },
      "outputs": [
        {
          "name": "stdout",
          "output_type": "stream",
          "text": [
            "0\n",
            "1\n",
            "2\n",
            "3\n",
            "4\n",
            "5\n",
            "6\n"
          ]
        }
      ],
      "source": [
        "# break statement can be used to break out of the nearest loop.\n",
        "\n",
        "for i in range(10):\n",
        "    if (i == 7):\n",
        "        break\n",
        "    print(i)"
      ]
    },
    {
      "cell_type": "code",
      "execution_count": null,
      "id": "00f2b0a2",
      "metadata": {
        "id": "00f2b0a2",
        "outputId": "12597a3c-79c9-4e5d-cce3-01f08a6f6936"
      },
      "outputs": [
        {
          "name": "stdout",
          "output_type": "stream",
          "text": [
            "0\n",
            "1\n",
            "2\n",
            "3\n",
            "4\n",
            "5\n",
            "6\n",
            "9\n"
          ]
        }
      ],
      "source": [
        "# continue statement can be used to skip an iteration of a loop.\n",
        "\n",
        "for i in range(10):\n",
        "    if (i == 7 or i == 8):\n",
        "        continue\n",
        "    print(i)"
      ]
    },
    {
      "cell_type": "code",
      "execution_count": null,
      "id": "af2f7b14",
      "metadata": {
        "id": "af2f7b14",
        "outputId": "036c9fe2-e148-455a-f367-507ab51331e7"
      },
      "outputs": [
        {
          "name": "stdout",
          "output_type": "stream",
          "text": [
            "blue found at position 2\n"
          ]
        }
      ],
      "source": [
        "# using break statement to create a simple search algorithm.\n",
        "\n",
        "colour = ['red', 'green', 'blue', 'purple']\n",
        "for i, v in enumerate(colour):\n",
        "    if (v == 'blue'):\n",
        "        print(f'blue found at position {i}')\n",
        "        break"
      ]
    },
    {
      "cell_type": "code",
      "execution_count": null,
      "id": "8ca5ff2c",
      "metadata": {
        "id": "8ca5ff2c",
        "outputId": "e9b04bb5-2701-4a1b-edd6-170793f5ff43"
      },
      "outputs": [
        {
          "name": "stdout",
          "output_type": "stream",
          "text": [
            "[2, 4, 6, 8, 10]\n"
          ]
        }
      ],
      "source": [
        "# use of map() function.\n",
        "\n",
        "a = [1, 2, 3, 4, 5]\n",
        "b = [\"hello\", \"world\", \"this\", \"is\", \"python\"]\n",
        "\n",
        "c = []\n",
        "\n",
        "def double(value):\n",
        "    return value * 2\n",
        "\n",
        "for i in a:\n",
        "    c.append(double(i))\n",
        "\n",
        "print(c)"
      ]
    },
    {
      "cell_type": "code",
      "execution_count": null,
      "id": "66436fb2",
      "metadata": {
        "id": "66436fb2",
        "outputId": "d56e1809-986d-46c2-984e-a645f73f4855"
      },
      "outputs": [
        {
          "name": "stdout",
          "output_type": "stream",
          "text": [
            "[2, 4, 6, 8, 10]\n",
            "['hellohello', 'worldworld', 'thisthis', 'isis', 'pythonpython']\n"
          ]
        }
      ],
      "source": [
        "# use of map() function.\n",
        "\n",
        "print(list(map(double, a)))\n",
        "print(list(map(double, b)))"
      ]
    },
    {
      "cell_type": "code",
      "execution_count": null,
      "id": "2b0d788e",
      "metadata": {
        "id": "2b0d788e",
        "outputId": "6e934cb1-de34-43e4-e2c7-30241c37a4db"
      },
      "outputs": [
        {
          "name": "stdout",
          "output_type": "stream",
          "text": [
            "[1, 4, 9, 16, 25]\n"
          ]
        }
      ],
      "source": [
        "# lambda function is a single line anonymous function which can be used for temporary return equations.\n",
        "\n",
        "a = [1, 2, 3, 4, 5]\n",
        "\n",
        "print(list(map(lambda value: value ** 2, a)))"
      ]
    },
    {
      "cell_type": "code",
      "execution_count": null,
      "id": "eccf859e",
      "metadata": {
        "id": "eccf859e",
        "outputId": "78cefa29-adcc-4a8f-a7cb-ee8c2020a88c"
      },
      "outputs": [
        {
          "name": "stdout",
          "output_type": "stream",
          "text": [
            "11\n"
          ]
        }
      ],
      "source": [
        "# lambda functions can also be stored in variables and hence can be deleted.\n",
        "\n",
        "sum = lambda x, y: x + y\n",
        "\n",
        "print(sum(5, 6))\n",
        "del sum"
      ]
    },
    {
      "cell_type": "code",
      "execution_count": null,
      "id": "30d37601",
      "metadata": {
        "id": "30d37601",
        "outputId": "49810965-2a76-4052-d23f-84ebf2534fe3"
      },
      "outputs": [
        {
          "name": "stdout",
          "output_type": "stream",
          "text": [
            "10\n"
          ]
        }
      ],
      "source": [
        "# lambda function can also be called upon.\n",
        "\n",
        "print((lambda x : x * 2)(5))"
      ]
    },
    {
      "cell_type": "code",
      "execution_count": null,
      "id": "378255c5",
      "metadata": {
        "id": "378255c5",
        "outputId": "55f65411-c7f3-4d29-a99b-104edbaa661e"
      },
      "outputs": [
        {
          "name": "stdout",
          "output_type": "stream",
          "text": [
            "(1, 2, 3, 4, 5, 6)\n"
          ]
        }
      ],
      "source": [
        "# lambda function can also take arbitrary arguments\n",
        "\n",
        "arbitrary = lambda *x : x\n",
        "\n",
        "print(arbitrary(1, 2, 3, 4, 5, 6))"
      ]
    },
    {
      "cell_type": "code",
      "execution_count": null,
      "id": "40590337",
      "metadata": {
        "id": "40590337",
        "outputId": "b70eb53e-ff35-400d-9a40-7f38f79c5f28"
      },
      "outputs": [
        {
          "name": "stdout",
          "output_type": "stream",
          "text": [
            "('HELLO', 'WORLD', 'THIS', 'IS', 'PYTHON')\n"
          ]
        }
      ],
      "source": [
        "# convert the list of strings to upper case using a lambda function map.\n",
        "\n",
        "b = [\"hello\", \"world\", \"this\", \"is\", \"python\"]\n",
        "\n",
        "print(tuple(map(lambda s : s.upper(), b)))"
      ]
    },
    {
      "cell_type": "code",
      "execution_count": null,
      "id": "6dcefde3",
      "metadata": {
        "id": "6dcefde3",
        "outputId": "6402751c-3dda-4fa5-844f-bedd0a13f4f4"
      },
      "outputs": [
        {
          "data": {
            "text/plain": [
              "[1, 4, 9, 16, 25]"
            ]
          },
          "execution_count": 25,
          "metadata": {},
          "output_type": "execute_result"
        }
      ],
      "source": [
        "# create the map() function.\n",
        "\n",
        "def my_map(funct, collection):\n",
        "    c = []\n",
        "    for i in collection:\n",
        "        c.append(funct(i))\n",
        "    return c\n",
        "\n",
        "a = [1, 2, 3, 4, 5]\n",
        "\n",
        "my_map(lambda x : x ** 2, a)"
      ]
    },
    {
      "cell_type": "code",
      "execution_count": null,
      "id": "67fef06a",
      "metadata": {
        "id": "67fef06a",
        "outputId": "5d3a76e1-eb87-4e34-c196-8705a3e396f3"
      },
      "outputs": [
        {
          "name": "stdout",
          "output_type": "stream",
          "text": [
            "['Hello', 'World', 'This', 'Is', 'Python']\n"
          ]
        }
      ],
      "source": [
        "# the yield keyword holds all the return values and returns them at the end as a generator object.\n",
        "\n",
        "def my_map(funct, collection):\n",
        "    for i in collection:\n",
        "        yield funct(i)\n",
        "\n",
        "b = [\"hello\", \"world\", \"this\", \"is\", \"python\"]\n",
        "\n",
        "print(list(my_map(lambda s : s.capitalize(), b)))"
      ]
    },
    {
      "cell_type": "code",
      "execution_count": null,
      "id": "b71cf209",
      "metadata": {
        "id": "b71cf209",
        "outputId": "59c2f2f5-51b1-4068-8886-4098d8d9fb1e"
      },
      "outputs": [
        {
          "name": "stdout",
          "output_type": "stream",
          "text": [
            "10\n",
            "18\n"
          ]
        }
      ],
      "source": [
        "# a function can return another inner function.\n",
        "\n",
        "# times() creates a function temp() and returns it.\n",
        "\n",
        "def times(multiply_by):\n",
        "    def temp(num):\n",
        "        return num * multiply_by\n",
        "    return temp\n",
        "\n",
        "double = times(2) # double becomes temp()\n",
        "triple = times(3)\n",
        "\n",
        "print(double(5))\n",
        "print(triple(6))"
      ]
    },
    {
      "cell_type": "code",
      "source": [
        "# make print\n",
        "\n",
        "def make_print():\n",
        "    return print\n",
        "\n",
        "my_print = make_print()\n",
        "\n",
        "my_print(\"hellow world this shit is fking insane.\")\n",
        "\n",
        "my_print"
      ],
      "metadata": {
        "colab": {
          "base_uri": "https://localhost:8080/"
        },
        "id": "nW3Vxr1xzUEW",
        "outputId": "778b68f5-c646-4e08-bd1b-20d966662b41"
      },
      "id": "nW3Vxr1xzUEW",
      "execution_count": 17,
      "outputs": [
        {
          "output_type": "stream",
          "name": "stdout",
          "text": [
            "hellow world this shit is fking insane.\n"
          ]
        },
        {
          "output_type": "execute_result",
          "data": {
            "text/plain": [
              "<function print(*args, sep=' ', end='\\n', file=None, flush=False)>"
            ]
          },
          "metadata": {},
          "execution_count": 17
        }
      ]
    },
    {
      "cell_type": "code",
      "execution_count": null,
      "id": "4efec539",
      "metadata": {
        "id": "4efec539",
        "outputId": "deb2b457-7588-4a4e-9881-547f9c847bc6"
      },
      "outputs": [
        {
          "name": "stdout",
          "output_type": "stream",
          "text": [
            "25\n",
            "216\n"
          ]
        }
      ],
      "source": [
        "# write a function that returns a function to calculate powers.\n",
        "\n",
        "def exponent(power_by):\n",
        "    def temp(num):\n",
        "        return num ** power_by\n",
        "    return temp\n",
        "\n",
        "square = exponent(2)\n",
        "cube = exponent(3)\n",
        "\n",
        "print(square(5))\n",
        "print(cube(6))"
      ]
    },
    {
      "cell_type": "code",
      "execution_count": 18,
      "id": "1dd2921a",
      "metadata": {
        "id": "1dd2921a",
        "outputId": "b8adf2e8-bee6-4f9c-d7a2-611a042ab24c",
        "colab": {
          "base_uri": "https://localhost:8080/"
        }
      },
      "outputs": [
        {
          "output_type": "stream",
          "name": "stdout",
          "text": [
            "0\n",
            "1\n",
            "2\n",
            "0\n",
            "1\n",
            "2\n"
          ]
        }
      ],
      "source": [
        "def outer(num, count):\n",
        "    def inner():\n",
        "        for i in range(num):\n",
        "            print(i)\n",
        "    for i in range(count):\n",
        "        inner()\n",
        "        # print() # comment out for new line.\n",
        "\n",
        "outer(num = 3, count = 2)"
      ]
    },
    {
      "cell_type": "code",
      "execution_count": 21,
      "id": "960aa95b",
      "metadata": {
        "id": "960aa95b",
        "outputId": "1f43d301-10b3-4a2c-a7fd-9545ecace2dd",
        "colab": {
          "base_uri": "https://localhost:8080/"
        }
      },
      "outputs": [
        {
          "output_type": "stream",
          "name": "stdout",
          "text": [
            "[0, 1, 2]\n",
            "[0, 1, 2]\n",
            "[0, 1, 2]\n"
          ]
        },
        {
          "output_type": "execute_result",
          "data": {
            "text/plain": [
              "[0, 1, 2]"
            ]
          },
          "metadata": {},
          "execution_count": 21
        }
      ],
      "source": [
        "# goofy ahh test program to test nonlocal keyword.\n",
        "\n",
        "def outer(num, count):\n",
        "    result = {}\n",
        "\n",
        "    def inner():\n",
        "        nonlocal result\n",
        "        result = []      # replaces the dictionary outside with a list\n",
        "        for i in range(num):\n",
        "            result.append(i)\n",
        "        print(result)\n",
        "\n",
        "    for i in range(count):\n",
        "        inner()\n",
        "        # print() # comment out for new line.\n",
        "    return result\n",
        "\n",
        "outer(num = 3, count = 3)"
      ]
    },
    {
      "cell_type": "code",
      "execution_count": 22,
      "id": "34f47c70",
      "metadata": {
        "id": "34f47c70",
        "outputId": "558c3308-3a5c-43f7-ff2f-f6fe74a7eba0",
        "colab": {
          "base_uri": "https://localhost:8080/"
        }
      },
      "outputs": [
        {
          "output_type": "stream",
          "name": "stdout",
          "text": [
            "My name is Rohit, I am from Nalasopara and I am 20 years old.\n",
            "My name is 21, I am from Yash and I am Nalasopara years old.\n",
            "My name is Aakash, I am from Nalasopara and I am 21 years old.\n",
            "My name is piyush, I am from NSP and I am 21 years old.\n"
          ]
        }
      ],
      "source": [
        "# positional and keyword arguments.\n",
        "\n",
        "def intro(name, age, location):\n",
        "    return f\"My name is {name}, I am from {location} and I am {age} years old.\"\n",
        "\n",
        "# positional arguments. (when you know the order to pass values in.)\n",
        "print(intro(\"Rohit\", 20, \"Nalasopara\"))\n",
        "print(intro(21, \"Nalasopara\", \"Yash\"))\n",
        "\n",
        "# keyword arguments. (when you don't know the order of parameters.)\n",
        "print(intro(age = 21, location = \"Nalasopara\", name = \"Aakash\"))\n",
        "print(intro(\"piyush\", location=\"NSP\", age=21))"
      ]
    },
    {
      "cell_type": "code",
      "source": [
        "def greet(name):\n",
        "    \"\"\"\n",
        "    This function takes a name as input\n",
        "    and returns a greeting message.\n",
        "    \"\"\"\n",
        "    return f\"Hello, {name}!\"\n",
        "\n",
        "# Calling the function normally\n",
        "print(greet(\"Rohit\"))\n",
        "\n",
        "# Accessing the docstring using the help() function\n",
        "help(greet)\n",
        "\n",
        "# You can also access it directly\n",
        "print(\"greet.__doc__\", greet.__doc__)"
      ],
      "metadata": {
        "colab": {
          "base_uri": "https://localhost:8080/"
        },
        "id": "Oya8YacK5pys",
        "outputId": "9bfee06d-323c-4f99-b75c-45f20462626d"
      },
      "id": "Oya8YacK5pys",
      "execution_count": 31,
      "outputs": [
        {
          "output_type": "stream",
          "name": "stdout",
          "text": [
            "Hello, Rohit!\n",
            "Help on function greet in module __main__:\n",
            "\n",
            "greet(name)\n",
            "    This function takes a name as input\n",
            "    and returns a greeting message.\n",
            "\n",
            "greet.__doc__ \n",
            "    This function takes a name as input\n",
            "    and returns a greeting message.\n",
            "    \n"
          ]
        }
      ]
    },
    {
      "cell_type": "code",
      "execution_count": 24,
      "id": "f4b973b8",
      "metadata": {
        "id": "f4b973b8",
        "outputId": "a3298e98-ccf3-4c96-d68c-8582e73a077c",
        "colab": {
          "base_uri": "https://localhost:8080/"
        }
      },
      "outputs": [
        {
          "output_type": "stream",
          "name": "stdout",
          "text": [
            "My name is Josh, I am from Mumbai and I am 18 years old.\n",
            "My name is Rohit, I am from Mumbai and I am 18 years old.\n",
            "My name is Yash, I am from Nalasopara and I am 18 years old.\n",
            "My name is Aakash, I am from Nalasopara and I am 21 years old.\n"
          ]
        }
      ],
      "source": [
        "# Function with arbitrary keyword arguments (collected as a dictionary)\n",
        "def adv_intro(**data):\n",
        "    \"\"\"Returns a formatted intro using provided keyword arguments.\"\"\"\n",
        "\n",
        "    # Use .get() to safely access values with defaults\n",
        "    return f\"My name is {data.get('name', 'Josh')}, I am from {data.get('location', 'Mumbai')} and I am {data.get('age', 18)} years old.\"\n",
        "\n",
        "\n",
        "# No arguments passed — all defaults used\n",
        "print(adv_intro())\n",
        "\n",
        "# Only 'name' provided\n",
        "print(adv_intro(name=\"Rohit\"))\n",
        "\n",
        "# 'name' and 'location' provided\n",
        "print(adv_intro(name=\"Yash\", location=\"Nalasopara\"))\n",
        "\n",
        "# All expected keys + an unused extra key ('random')\n",
        "print(adv_intro(name=\"Aakash\", location=\"Nalasopara\", age=21, random=None))\n"
      ]
    },
    {
      "cell_type": "code",
      "execution_count": null,
      "id": "0e89ea19",
      "metadata": {
        "id": "0e89ea19",
        "outputId": "3b4ddee3-d48b-40c4-f4fa-6b7d729a6472"
      },
      "outputs": [
        {
          "name": "stdout",
          "output_type": "stream",
          "text": [
            "HELLO WORLD\n"
          ]
        }
      ],
      "source": [
        "# datatypes of parameters can be specified.\n",
        "# datatype of return values can also be specified.\n",
        "# although they don't actually stop the user from giving other datatypes.\n",
        "\n",
        "def upper(value : str) -> str:\n",
        "    return value.upper()\n",
        "\n",
        "print(upper(\"hello world\"))"
      ]
    },
    {
      "cell_type": "code",
      "execution_count": null,
      "id": "6f7f2ade",
      "metadata": {
        "colab": {
          "base_uri": "https://localhost:8080/"
        },
        "id": "6f7f2ade",
        "outputId": "4313c4af-e9d9-40fe-e9e6-38fbfcd27baf"
      },
      "outputs": [
        {
          "name": "stdout",
          "output_type": "stream",
          "text": [
            "0\n",
            "1\n",
            "1\n",
            "2\n",
            "3\n",
            "5\n",
            "8\n",
            "13\n",
            "21\n",
            "34\n"
          ]
        }
      ],
      "source": [
        "# write a function to print fibonacci series.\n",
        "\n",
        "def fibonacci(count : int):\n",
        "    num1 = 0\n",
        "    num2 = 1\n",
        "    print(num1)\n",
        "    print(num2)\n",
        "\n",
        "    for i in range(count - 2):\n",
        "        temp = num1\n",
        "        num1 = num2\n",
        "        num2 += temp\n",
        "        print(num2)\n",
        "\n",
        "fibonacci(10)"
      ]
    },
    {
      "cell_type": "code",
      "execution_count": null,
      "id": "3877459d",
      "metadata": {
        "id": "3877459d",
        "outputId": "ee18414d-a217-4d9d-a0ed-5a1f92929754"
      },
      "outputs": [
        {
          "name": "stdout",
          "output_type": "stream",
          "text": [
            "[0, 1, 1, 2, 3, 5, 8, 13, 21, 34]\n"
          ]
        }
      ],
      "source": [
        "# fibonacci series using lists.\n",
        "\n",
        "def fib(n):\n",
        "    res = [0, 1]\n",
        "    for i in range(2, n):\n",
        "        res.append(res[i - 1] + res[i - 2])\n",
        "    return res\n",
        "\n",
        "print(fib(10))"
      ]
    },
    {
      "cell_type": "code",
      "execution_count": 32,
      "id": "pil61IDqtcJS",
      "metadata": {
        "colab": {
          "base_uri": "https://localhost:8080/"
        },
        "id": "pil61IDqtcJS",
        "outputId": "09bd8dd7-41a3-4980-ec10-1e145bcc721b"
      },
      "outputs": [
        {
          "output_type": "stream",
          "name": "stdout",
          "text": [
            "0\n",
            "1\n",
            "1\n",
            "2\n",
            "3\n",
            "5\n",
            "8\n",
            "13\n",
            "21\n",
            "34\n"
          ]
        }
      ],
      "source": [
        "# write a program to print fibonacci series using recursion\n",
        "\n",
        "def fibonacci_recursive(n : int) -> int:\n",
        "  if n <= 1:\n",
        "    return n\n",
        "  else:\n",
        "    return(fibonacci_recursive(n-1) + fibonacci_recursive(n-2))\n",
        "\n",
        "for i in range(10):\n",
        "    print(fibonacci_recursive(i))"
      ]
    },
    {
      "cell_type": "code",
      "execution_count": null,
      "id": "LJ_vSBsruA4o",
      "metadata": {
        "colab": {
          "base_uri": "https://localhost:8080/"
        },
        "id": "LJ_vSBsruA4o",
        "outputId": "565b3d7c-4f48-4ab2-dbf4-a9a6d0794124"
      },
      "outputs": [
        {
          "name": "stdout",
          "output_type": "stream",
          "text": [
            "number of vowels in this sentence: 6\n"
          ]
        }
      ],
      "source": [
        "# write a program to count vowel count in a sentence.\n",
        "# 1. my way\n",
        "\n",
        "def vowel_count(sentence : str) -> int:\n",
        "    vowels = ['a', 'e', 'i', 'o', 'u']\n",
        "    count = 0\n",
        "    for i in sentence.lower():\n",
        "        if i in vowels:\n",
        "            count += 1\n",
        "    return count\n",
        "\n",
        "s = \"Hello world this is python.\"\n",
        "print(f\"number of vowels in this sentence: {vowel_count(s)}\")"
      ]
    },
    {
      "cell_type": "code",
      "source": [
        "# 2. using comprehensions.\n",
        "\n",
        "s = \"Hello world this is python.\"\n",
        "count = sum(1 for ch in s if ch in \"aeiou\")\n",
        "print(count)  # Output: number of vowels"
      ],
      "metadata": {
        "colab": {
          "base_uri": "https://localhost:8080/"
        },
        "id": "5N9rwbXs8CHw",
        "outputId": "0d59f80a-35e3-422d-fbc0-a1ddbd2128c3"
      },
      "id": "5N9rwbXs8CHw",
      "execution_count": 33,
      "outputs": [
        {
          "output_type": "stream",
          "name": "stdout",
          "text": [
            "6\n"
          ]
        }
      ]
    },
    {
      "cell_type": "code",
      "execution_count": null,
      "id": "rDakMEJvw-EH",
      "metadata": {
        "colab": {
          "base_uri": "https://localhost:8080/"
        },
        "id": "rDakMEJvw-EH",
        "outputId": "3a0d562d-7a49-4ced-f66b-6c0c4779ba23"
      },
      "outputs": [
        {
          "name": "stdout",
          "output_type": "stream",
          "text": [
            "hello ld this is python\n"
          ]
        }
      ],
      "source": [
        "# write a program to remove a particular string from a string.\n",
        "# without .replace() method.\n",
        "\n",
        "def remove_str(sentence : str, remove : str) -> str:\n",
        "    result = \"\"\n",
        "\n",
        "    i = 0\n",
        "    while(i < len(sentence)):\n",
        "        if (sentence[i : i + len(remove)] == remove):\n",
        "            i += len(remove)\n",
        "        else:\n",
        "            result += sentence[i]\n",
        "            i += 1\n",
        "\n",
        "    return result\n",
        "\n",
        "sentence = \"hello world this is python\"\n",
        "remove = \"wor\"\n",
        "\n",
        "print(remove_str(sentence, remove))"
      ]
    },
    {
      "cell_type": "code",
      "execution_count": 5,
      "id": "ibSWtR1-yp6-",
      "metadata": {
        "id": "ibSWtR1-yp6-",
        "colab": {
          "base_uri": "https://localhost:8080/"
        },
        "outputId": "13daedf5-bb9a-4639-8867-0cca8d0f8bad"
      },
      "outputs": [
        {
          "output_type": "stream",
          "name": "stdout",
          "text": [
            "hell wrld this is pythn\n"
          ]
        }
      ],
      "source": [
        "# write a program to remove a particular string from a string.\n",
        "# without .replace() method.\n",
        "\n",
        "def remove_str(sentence, remove):\n",
        "    for i, v in enumerate(sentence):\n",
        "        if remove == sentence[i:i + len(remove)]:\n",
        "            sentence = sentence[:i] + sentence[i + len(remove):]\n",
        "    return sentence\n",
        "\n",
        "sentence = \"hello world this is python\"\n",
        "remove = \"o\"\n",
        "\n",
        "print(remove_str(sentence, remove))"
      ]
    },
    {
      "cell_type": "code",
      "execution_count": null,
      "id": "a19f8daa",
      "metadata": {
        "id": "a19f8daa"
      },
      "outputs": [],
      "source": []
    }
  ],
  "metadata": {
    "colab": {
      "provenance": []
    },
    "kernelspec": {
      "display_name": "Python 3",
      "language": "python",
      "name": "python3"
    },
    "language_info": {
      "codemirror_mode": {
        "name": "ipython",
        "version": 3
      },
      "file_extension": ".py",
      "mimetype": "text/x-python",
      "name": "python",
      "nbconvert_exporter": "python",
      "pygments_lexer": "ipython3",
      "version": "3.10.12"
    }
  },
  "nbformat": 4,
  "nbformat_minor": 5
}