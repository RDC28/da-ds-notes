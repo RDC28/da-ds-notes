{
  "cells": [
    {
      "cell_type": "code",
      "execution_count": null,
      "id": "85ffff96",
      "metadata": {
        "id": "85ffff96"
      },
      "outputs": [],
      "source": [
        "a=10"
      ]
    },
    {
      "cell_type": "code",
      "execution_count": null,
      "id": "5202e721",
      "metadata": {
        "id": "5202e721",
        "outputId": "2cc319fc-f068-4e06-b4c1-51bd58c74fc1"
      },
      "outputs": [
        {
          "name": "stdout",
          "output_type": "stream",
          "text": [
            "10\n"
          ]
        }
      ],
      "source": [
        "print (a)"
      ]
    },
    {
      "cell_type": "code",
      "execution_count": null,
      "id": "7ff2274f",
      "metadata": {
        "id": "7ff2274f",
        "outputId": "c9b10ad3-b38c-49a1-8b13-8e827dd56080"
      },
      "outputs": [
        {
          "name": "stdout",
          "output_type": "stream",
          "text": [
            "<class 'int'>\n"
          ]
        }
      ],
      "source": [
        "print (type(a))"
      ]
    },
    {
      "cell_type": "code",
      "execution_count": null,
      "id": "6be87a4c",
      "metadata": {
        "id": "6be87a4c",
        "outputId": "0349208a-b463-4a56-ed15-50fe98096306"
      },
      "outputs": [
        {
          "name": "stdout",
          "output_type": "stream",
          "text": [
            "140092997255696\n"
          ]
        }
      ],
      "source": [
        "print (id(a))"
      ]
    },
    {
      "cell_type": "code",
      "execution_count": null,
      "id": "c37be7cc",
      "metadata": {
        "id": "c37be7cc"
      },
      "outputs": [],
      "source": [
        "b = 103.4\n"
      ]
    },
    {
      "cell_type": "code",
      "execution_count": null,
      "id": "73d1e549",
      "metadata": {
        "id": "73d1e549",
        "outputId": "50981cb8-4070-4bdc-b159-71f84bf83a27"
      },
      "outputs": [
        {
          "name": "stdout",
          "output_type": "stream",
          "text": [
            "<class 'float'>\n"
          ]
        }
      ],
      "source": [
        "print (type(b))"
      ]
    },
    {
      "cell_type": "code",
      "execution_count": null,
      "id": "f5b8fbd2",
      "metadata": {
        "id": "f5b8fbd2",
        "outputId": "4220c9bf-4d7f-41fa-ede4-088c921f2c4b"
      },
      "outputs": [
        {
          "name": "stdout",
          "output_type": "stream",
          "text": [
            "<class 'float'>\n"
          ]
        }
      ],
      "source": [
        "a = float(a)\n",
        "print (type(a))"
      ]
    },
    {
      "cell_type": "code",
      "execution_count": null,
      "id": "3b4d3754",
      "metadata": {
        "id": "3b4d3754",
        "outputId": "607293c5-27b7-4e3a-ca96-e82b64ab2696"
      },
      "outputs": [
        {
          "name": "stdout",
          "output_type": "stream",
          "text": [
            "hello\n"
          ]
        }
      ],
      "source": [
        "c = \"hello\"\n",
        "print (c)"
      ]
    },
    {
      "cell_type": "code",
      "execution_count": null,
      "id": "c201a57d",
      "metadata": {
        "id": "c201a57d"
      },
      "outputs": [],
      "source": [
        "d = 1+0j"
      ]
    },
    {
      "cell_type": "code",
      "execution_count": null,
      "id": "1278ad2f",
      "metadata": {
        "id": "1278ad2f",
        "outputId": "1aa6e0c1-0e50-4520-f7f0-87d1753c6d7d"
      },
      "outputs": [
        {
          "name": "stdout",
          "output_type": "stream",
          "text": [
            "<class 'complex'>\n"
          ]
        }
      ],
      "source": [
        "print (type(d))"
      ]
    },
    {
      "cell_type": "code",
      "execution_count": null,
      "id": "eead6d72",
      "metadata": {
        "id": "eead6d72",
        "outputId": "a5c4e0e8-1239-4709-88a6-2a26d6fd4f6f"
      },
      "outputs": [
        {
          "name": "stdout",
          "output_type": "stream",
          "text": [
            "<class 'NoneType'>\n"
          ]
        }
      ],
      "source": [
        "e = None\n",
        "print (type(e))"
      ]
    },
    {
      "cell_type": "code",
      "execution_count": null,
      "id": "bf87a436",
      "metadata": {
        "id": "bf87a436",
        "outputId": "444bf235-642f-489d-dff0-f35416864a25"
      },
      "outputs": [
        {
          "name": "stdout",
          "output_type": "stream",
          "text": [
            "<class 'bool'>\n"
          ]
        }
      ],
      "source": [
        "f = True\n",
        "print (type(f))"
      ]
    },
    {
      "cell_type": "code",
      "execution_count": null,
      "id": "0736b49a",
      "metadata": {
        "id": "0736b49a",
        "outputId": "55527c7c-8b4b-4626-f22c-8bad41d2baa9"
      },
      "outputs": [
        {
          "data": {
            "text/plain": [
              "3.75"
            ]
          },
          "execution_count": 69,
          "metadata": {},
          "output_type": "execute_result"
        }
      ],
      "source": [
        "15/4"
      ]
    },
    {
      "cell_type": "code",
      "execution_count": null,
      "id": "0e9ed8fd",
      "metadata": {
        "id": "0e9ed8fd",
        "outputId": "747fbb9c-2a47-47b9-ee81-bc90e91b6b3c"
      },
      "outputs": [
        {
          "data": {
            "text/plain": [
              "12"
            ]
          },
          "execution_count": 70,
          "metadata": {},
          "output_type": "execute_result"
        }
      ],
      "source": [
        "10+2"
      ]
    },
    {
      "cell_type": "code",
      "execution_count": null,
      "id": "367787db",
      "metadata": {
        "id": "367787db",
        "outputId": "b07f26e2-43a1-4cbc-c2c0-919f78aaccaf"
      },
      "outputs": [
        {
          "data": {
            "text/plain": [
              "9"
            ]
          },
          "execution_count": 71,
          "metadata": {},
          "output_type": "execute_result"
        }
      ],
      "source": [
        "13-4"
      ]
    },
    {
      "cell_type": "code",
      "execution_count": null,
      "id": "a9a9641e",
      "metadata": {
        "id": "a9a9641e",
        "outputId": "4800cc88-6325-461b-be54-e9f3f992d02d"
      },
      "outputs": [
        {
          "name": "stdout",
          "output_type": "stream",
          "text": [
            "36\n"
          ]
        }
      ],
      "source": [
        "print (12*3)"
      ]
    },
    {
      "cell_type": "code",
      "execution_count": null,
      "id": "2fbacb24",
      "metadata": {
        "id": "2fbacb24",
        "outputId": "9d44364f-fd2c-4aa2-8e29-ad9aa2eb8ed1"
      },
      "outputs": [
        {
          "name": "stdout",
          "output_type": "stream",
          "text": [
            "4\n"
          ]
        }
      ],
      "source": [
        "print (18//4)"
      ]
    },
    {
      "cell_type": "code",
      "execution_count": null,
      "id": "db599f78",
      "metadata": {
        "id": "db599f78",
        "outputId": "ee561d6d-6ea1-4c37-882d-530c8e4d5a9e"
      },
      "outputs": [
        {
          "data": {
            "text/plain": [
              "2"
            ]
          },
          "execution_count": 74,
          "metadata": {},
          "output_type": "execute_result"
        }
      ],
      "source": [
        "18%4"
      ]
    },
    {
      "cell_type": "code",
      "execution_count": null,
      "id": "837ee113",
      "metadata": {
        "id": "837ee113",
        "outputId": "053917e1-6cb1-4d03-81b3-db52a14b2234"
      },
      "outputs": [
        {
          "data": {
            "text/plain": [
              "(10.0, 103.4)"
            ]
          },
          "execution_count": 75,
          "metadata": {},
          "output_type": "execute_result"
        }
      ],
      "source": [
        "a,b"
      ]
    },
    {
      "cell_type": "code",
      "execution_count": null,
      "id": "8f29bd98",
      "metadata": {
        "id": "8f29bd98",
        "outputId": "c06f1de8-7ea2-4d72-ffe1-0637a1ff16fc"
      },
      "outputs": [
        {
          "name": "stdout",
          "output_type": "stream",
          "text": [
            "a+b=  113.4\n",
            "a-b=  -93.4\n",
            "a*b= 1034.0\n",
            "a**b=  2.511886431509613e+103\n"
          ]
        }
      ],
      "source": [
        "print(\"a+b=\",a+b,sep=\"  \")\n",
        "print(\"a-b=\",a-b,sep=\"  \")\n",
        "print(\"a*b=\", a*b)\n",
        "print (\"a**b=\",a**b, sep=\"  \")"
      ]
    },
    {
      "cell_type": "code",
      "execution_count": null,
      "id": "6c88811f",
      "metadata": {
        "id": "6c88811f",
        "outputId": "649c9381-baf0-4e14-eda1-a0b9308c8271"
      },
      "outputs": [
        {
          "data": {
            "text/plain": [
              "10.0"
            ]
          },
          "execution_count": 77,
          "metadata": {},
          "output_type": "execute_result"
        }
      ],
      "source": [
        "a"
      ]
    },
    {
      "cell_type": "code",
      "execution_count": null,
      "id": "2d43aac6",
      "metadata": {
        "id": "2d43aac6",
        "outputId": "8a7c460c-0cad-4796-9353-5ef8a4c47928"
      },
      "outputs": [
        {
          "name": "stdout",
          "output_type": "stream",
          "text": [
            "12.0\n"
          ]
        }
      ],
      "source": [
        "a=a+2\n",
        "print (a)"
      ]
    },
    {
      "cell_type": "code",
      "execution_count": null,
      "id": "c0268f90",
      "metadata": {
        "id": "c0268f90",
        "outputId": "1b532a40-8b0d-4150-ed6c-dfba54997653"
      },
      "outputs": [
        {
          "name": "stdout",
          "output_type": "stream",
          "text": [
            "14.0\n"
          ]
        }
      ],
      "source": [
        "a+=2\n",
        "print(a)"
      ]
    },
    {
      "cell_type": "code",
      "execution_count": null,
      "id": "448d16dd",
      "metadata": {
        "id": "448d16dd",
        "outputId": "4aa3accb-4235-4d67-dbd1-890b5133285c"
      },
      "outputs": [
        {
          "name": "stdout",
          "output_type": "stream",
          "text": [
            "12.0\n"
          ]
        }
      ],
      "source": [
        "a-=2\n",
        "print(a)"
      ]
    },
    {
      "cell_type": "code",
      "execution_count": null,
      "id": "7a833eb8",
      "metadata": {
        "id": "7a833eb8",
        "outputId": "e75ba326-19ff-44a6-f763-a313bb320d04"
      },
      "outputs": [
        {
          "name": "stdout",
          "output_type": "stream",
          "text": [
            "24.0\n"
          ]
        }
      ],
      "source": [
        "a*=2\n",
        "print (a)"
      ]
    },
    {
      "cell_type": "code",
      "execution_count": null,
      "id": "8dd5de5d",
      "metadata": {
        "id": "8dd5de5d",
        "outputId": "22a2157d-2918-4b5f-a968-44cd675b7ef8"
      },
      "outputs": [
        {
          "name": "stdout",
          "output_type": "stream",
          "text": [
            "12.0\n"
          ]
        }
      ],
      "source": [
        "a/=2\n",
        "print(a)"
      ]
    },
    {
      "cell_type": "code",
      "execution_count": null,
      "id": "95e8d528",
      "metadata": {
        "id": "95e8d528",
        "outputId": "696c5dca-1c73-4a99-e5b3-2492a8f3b476"
      },
      "outputs": [
        {
          "name": "stdout",
          "output_type": "stream",
          "text": [
            "0.0\n"
          ]
        }
      ],
      "source": [
        "a%=2\n",
        "print (a)"
      ]
    },
    {
      "cell_type": "code",
      "execution_count": null,
      "id": "ba13ad22",
      "metadata": {
        "id": "ba13ad22",
        "outputId": "f4920db0-5273-4819-899d-1f17017baf94"
      },
      "outputs": [
        {
          "data": {
            "text/plain": [
              "True"
            ]
          },
          "execution_count": 84,
          "metadata": {},
          "output_type": "execute_result"
        }
      ],
      "source": [
        "10==10"
      ]
    },
    {
      "cell_type": "code",
      "execution_count": null,
      "id": "ab0add71",
      "metadata": {
        "id": "ab0add71",
        "outputId": "de5c253b-5b9a-4068-c8da-f50ba65bd50f"
      },
      "outputs": [
        {
          "data": {
            "text/plain": [
              "False"
            ]
          },
          "execution_count": 85,
          "metadata": {},
          "output_type": "execute_result"
        }
      ],
      "source": [
        "'10'==10"
      ]
    },
    {
      "cell_type": "code",
      "execution_count": null,
      "id": "eade3187",
      "metadata": {
        "id": "eade3187",
        "outputId": "db6ecb01-4daa-4925-cd4f-6fcbe395b152"
      },
      "outputs": [
        {
          "data": {
            "text/plain": [
              "1"
            ]
          },
          "execution_count": 86,
          "metadata": {},
          "output_type": "execute_result"
        }
      ],
      "source": [
        "1 and 1"
      ]
    },
    {
      "cell_type": "code",
      "execution_count": null,
      "id": "1b8ff70f",
      "metadata": {
        "id": "1b8ff70f",
        "outputId": "718dc29d-5cf7-4001-d3c8-6b7370d86940"
      },
      "outputs": [
        {
          "data": {
            "text/plain": [
              "False"
            ]
          },
          "execution_count": 87,
          "metadata": {},
          "output_type": "execute_result"
        }
      ],
      "source": [
        "bool(2 and \"\")"
      ]
    },
    {
      "cell_type": "code",
      "execution_count": null,
      "id": "d90305e1",
      "metadata": {
        "id": "d90305e1",
        "outputId": "d47bac13-c6f6-4178-ce2a-a38496955dec"
      },
      "outputs": [
        {
          "data": {
            "text/plain": [
              "False"
            ]
          },
          "execution_count": 88,
          "metadata": {},
          "output_type": "execute_result"
        }
      ],
      "source": [
        "bool(None)"
      ]
    },
    {
      "cell_type": "code",
      "execution_count": null,
      "id": "d814c468",
      "metadata": {
        "id": "d814c468",
        "outputId": "a85dba88-3636-41b9-def4-1d28a1baea57"
      },
      "outputs": [
        {
          "data": {
            "text/plain": [
              "False"
            ]
          },
          "execution_count": 89,
          "metadata": {},
          "output_type": "execute_result"
        }
      ],
      "source": [
        "bool(\"\")"
      ]
    },
    {
      "cell_type": "code",
      "execution_count": null,
      "id": "13843b8c",
      "metadata": {
        "id": "13843b8c",
        "outputId": "fdf6473c-cb6c-4c2f-9b01-31b842aef749"
      },
      "outputs": [
        {
          "data": {
            "text/plain": [
              "False"
            ]
          },
          "execution_count": 90,
          "metadata": {},
          "output_type": "execute_result"
        }
      ],
      "source": [
        "bool(0)"
      ]
    },
    {
      "cell_type": "code",
      "execution_count": null,
      "id": "090f899f",
      "metadata": {
        "id": "090f899f",
        "outputId": "0159651e-fe95-4a43-bd13-b1b44011a6eb"
      },
      "outputs": [
        {
          "data": {
            "text/plain": [
              "False"
            ]
          },
          "execution_count": 91,
          "metadata": {},
          "output_type": "execute_result"
        }
      ],
      "source": [
        "bool({})"
      ]
    },
    {
      "cell_type": "code",
      "execution_count": null,
      "id": "4ca65d79",
      "metadata": {
        "id": "4ca65d79",
        "outputId": "eb270146-6b4a-4260-d1e0-d333ee9a1c45"
      },
      "outputs": [
        {
          "data": {
            "text/plain": [
              "False"
            ]
          },
          "execution_count": 92,
          "metadata": {},
          "output_type": "execute_result"
        }
      ],
      "source": [
        "bool([])"
      ]
    },
    {
      "cell_type": "code",
      "execution_count": null,
      "id": "c3894896",
      "metadata": {
        "id": "c3894896",
        "outputId": "ed57b410-0e5b-42f9-ded2-0876f5c234a4"
      },
      "outputs": [
        {
          "data": {
            "text/plain": [
              "True"
            ]
          },
          "execution_count": 93,
          "metadata": {},
          "output_type": "execute_result"
        }
      ],
      "source": [
        "1 and 0 or True"
      ]
    },
    {
      "cell_type": "code",
      "execution_count": null,
      "id": "c42704c6",
      "metadata": {
        "id": "c42704c6",
        "outputId": "d624e865-7504-4401-d54b-bba787dd9ef1"
      },
      "outputs": [
        {
          "data": {
            "text/plain": [
              "1"
            ]
          },
          "execution_count": 94,
          "metadata": {},
          "output_type": "execute_result"
        }
      ],
      "source": [
        "1 or 0 and True"
      ]
    },
    {
      "cell_type": "code",
      "execution_count": null,
      "id": "af3440aa",
      "metadata": {
        "id": "af3440aa",
        "outputId": "eb48ebac-0822-44a8-9fda-0edbb5999e79"
      },
      "outputs": [
        {
          "data": {
            "text/plain": [
              "65536"
            ]
          },
          "execution_count": 95,
          "metadata": {},
          "output_type": "execute_result"
        }
      ],
      "source": [
        "4**2**3"
      ]
    },
    {
      "cell_type": "code",
      "execution_count": null,
      "id": "8893c6d4",
      "metadata": {
        "id": "8893c6d4",
        "outputId": "7e06e622-7f60-48d6-ddd6-66a47ed5b8c5"
      },
      "outputs": [
        {
          "data": {
            "text/plain": [
              "65536"
            ]
          },
          "execution_count": 96,
          "metadata": {},
          "output_type": "execute_result"
        }
      ],
      "source": [
        "4**8"
      ]
    },
    {
      "cell_type": "code",
      "execution_count": null,
      "id": "dca82cf8",
      "metadata": {
        "id": "dca82cf8",
        "outputId": "25e245a3-7384-4db9-d72a-fe5b9028990b"
      },
      "outputs": [
        {
          "data": {
            "text/plain": [
              "False"
            ]
          },
          "execution_count": 97,
          "metadata": {},
          "output_type": "execute_result"
        }
      ],
      "source": [
        "not 1"
      ]
    },
    {
      "cell_type": "code",
      "execution_count": null,
      "id": "19600c60",
      "metadata": {
        "id": "19600c60",
        "outputId": "45af7e7b-5200-42ff-b3b9-9d95d1f110e0"
      },
      "outputs": [
        {
          "data": {
            "text/plain": [
              "False"
            ]
          },
          "execution_count": 98,
          "metadata": {},
          "output_type": "execute_result"
        }
      ],
      "source": [
        "not True"
      ]
    },
    {
      "cell_type": "code",
      "execution_count": null,
      "id": "4e340a64",
      "metadata": {
        "id": "4e340a64",
        "outputId": "71d20a11-04c2-4064-b061-0edaf8c26682"
      },
      "outputs": [
        {
          "data": {
            "text/plain": [
              "True"
            ]
          },
          "execution_count": 99,
          "metadata": {},
          "output_type": "execute_result"
        }
      ],
      "source": [
        "not 0"
      ]
    },
    {
      "cell_type": "code",
      "execution_count": null,
      "id": "404d5de9",
      "metadata": {
        "id": "404d5de9",
        "outputId": "1f56a77c-8963-4c5e-8723-23dc99e7d3fb"
      },
      "outputs": [
        {
          "data": {
            "text/plain": [
              "0"
            ]
          },
          "execution_count": 100,
          "metadata": {},
          "output_type": "execute_result"
        }
      ],
      "source": [
        "7 & 8"
      ]
    },
    {
      "cell_type": "code",
      "execution_count": null,
      "id": "cb1fc007",
      "metadata": {
        "id": "cb1fc007",
        "outputId": "7a0e9e7e-7e19-491c-9594-8e9c30322b9c"
      },
      "outputs": [
        {
          "data": {
            "text/plain": [
              "15"
            ]
          },
          "execution_count": 101,
          "metadata": {},
          "output_type": "execute_result"
        }
      ],
      "source": [
        "7|8"
      ]
    },
    {
      "cell_type": "code",
      "execution_count": null,
      "id": "62b738a8",
      "metadata": {
        "id": "62b738a8",
        "outputId": "b1081d2a-9354-40c4-e2d4-a86fbc0bebb4"
      },
      "outputs": [
        {
          "data": {
            "text/plain": [
              "15"
            ]
          },
          "execution_count": 102,
          "metadata": {},
          "output_type": "execute_result"
        }
      ],
      "source": [
        "0b1111"
      ]
    },
    {
      "cell_type": "code",
      "execution_count": null,
      "id": "c287ddbb",
      "metadata": {
        "id": "c287ddbb",
        "outputId": "b740d398-e10b-4234-a1b0-4099a1b354ee"
      },
      "outputs": [
        {
          "data": {
            "text/plain": [
              "4369"
            ]
          },
          "execution_count": 103,
          "metadata": {},
          "output_type": "execute_result"
        }
      ],
      "source": [
        "0x1111"
      ]
    },
    {
      "cell_type": "code",
      "execution_count": null,
      "id": "7bb70679",
      "metadata": {
        "id": "7bb70679",
        "outputId": "b21e2f8a-6eff-48e6-d03b-964c3a28defa"
      },
      "outputs": [
        {
          "data": {
            "text/plain": [
              "15"
            ]
          },
          "execution_count": 104,
          "metadata": {},
          "output_type": "execute_result"
        }
      ],
      "source": [
        "0xf"
      ]
    },
    {
      "cell_type": "code",
      "execution_count": null,
      "id": "6127e550",
      "metadata": {
        "id": "6127e550",
        "outputId": "0230f4c1-9e90-4c84-9eec-e4e35584183e"
      },
      "outputs": [
        {
          "data": {
            "text/plain": [
              "73"
            ]
          },
          "execution_count": 105,
          "metadata": {},
          "output_type": "execute_result"
        }
      ],
      "source": [
        "0o111"
      ]
    },
    {
      "cell_type": "code",
      "execution_count": null,
      "id": "01b779f2",
      "metadata": {
        "id": "01b779f2",
        "outputId": "8d8fb23d-f303-4fa5-e19e-b5fdff73c4e8"
      },
      "outputs": [
        {
          "data": {
            "text/plain": [
              "585"
            ]
          },
          "execution_count": 106,
          "metadata": {},
          "output_type": "execute_result"
        }
      ],
      "source": [
        "0o1111"
      ]
    },
    {
      "cell_type": "code",
      "execution_count": null,
      "id": "36fd366a",
      "metadata": {
        "id": "36fd366a",
        "outputId": "3c4da1a7-0ccc-41d8-eb3a-508e693f13a7"
      },
      "outputs": [
        {
          "data": {
            "text/plain": [
              "-11"
            ]
          },
          "execution_count": 107,
          "metadata": {},
          "output_type": "execute_result"
        }
      ],
      "source": [
        "~10"
      ]
    },
    {
      "cell_type": "code",
      "execution_count": null,
      "id": "46966fd1",
      "metadata": {
        "id": "46966fd1",
        "outputId": "0c1bb62f-1c99-46e3-fce4-f7f8c92c38a2"
      },
      "outputs": [
        {
          "data": {
            "text/plain": [
              "10"
            ]
          },
          "execution_count": 108,
          "metadata": {},
          "output_type": "execute_result"
        }
      ],
      "source": [
        "~-11"
      ]
    },
    {
      "cell_type": "code",
      "execution_count": null,
      "id": "0436ba36",
      "metadata": {
        "id": "0436ba36",
        "outputId": "4ef2949f-40e1-400b-aebc-55d3cac5922a"
      },
      "outputs": [
        {
          "data": {
            "text/plain": [
              "15"
            ]
          },
          "execution_count": 109,
          "metadata": {},
          "output_type": "execute_result"
        }
      ],
      "source": [
        "7^8"
      ]
    },
    {
      "cell_type": "code",
      "execution_count": null,
      "id": "fbba0449",
      "metadata": {
        "id": "fbba0449",
        "outputId": "4b4bde1f-1feb-447f-e996-48d515254731"
      },
      "outputs": [
        {
          "data": {
            "text/plain": [
              "0"
            ]
          },
          "execution_count": 110,
          "metadata": {},
          "output_type": "execute_result"
        }
      ],
      "source": [
        "8^8"
      ]
    },
    {
      "cell_type": "code",
      "execution_count": null,
      "id": "cbe2724e",
      "metadata": {
        "id": "cbe2724e",
        "outputId": "870603e0-3e82-4575-dfed-1a33e632c344"
      },
      "outputs": [
        {
          "name": "stdout",
          "output_type": "stream",
          "text": [
            "POSITIVE\n",
            "10\n"
          ]
        }
      ],
      "source": [
        "num = 10\n",
        "if num>0:\n",
        "    print (\"POSITIVE\")\n",
        "    print (num)\n",
        "else:\n",
        "    print (\"NEGATIVE\")"
      ]
    },
    {
      "cell_type": "code",
      "execution_count": null,
      "id": "60c537d8",
      "metadata": {
        "id": "60c537d8",
        "outputId": "880a7f01-f33f-488a-b2b9-0f2cd08d2073"
      },
      "outputs": [
        {
          "ename": "IndentationError",
          "evalue": "unexpected indent (3346571938.py, line 4)",
          "output_type": "error",
          "traceback": [
            "\u001b[0;36m  Cell \u001b[0;32mIn[112], line 4\u001b[0;36m\u001b[0m\n\u001b[0;31m    print (num)\u001b[0m\n\u001b[0m    ^\u001b[0m\n\u001b[0;31mIndentationError\u001b[0m\u001b[0;31m:\u001b[0m unexpected indent\n"
          ]
        }
      ],
      "source": [
        "num = 10\n",
        "if num>0:\n",
        "    print (\"POSITIVE\")\n",
        "       print (num)\n",
        "    else:\n",
        "    print (\"NEGATIVE\")"
      ]
    },
    {
      "cell_type": "code",
      "execution_count": null,
      "id": "993a833f",
      "metadata": {
        "id": "993a833f"
      },
      "outputs": [],
      "source": [
        "num = 10\n",
        "if num>0:"
      ]
    },
    {
      "cell_type": "code",
      "execution_count": null,
      "id": "d5a26990",
      "metadata": {
        "id": "d5a26990"
      },
      "outputs": [],
      "source": [
        "num = 10\n",
        "if num>0:\n",
        "   pass"
      ]
    },
    {
      "cell_type": "code",
      "execution_count": null,
      "id": "b6fefbf7",
      "metadata": {
        "id": "b6fefbf7"
      },
      "outputs": [],
      "source": [
        "7>>2"
      ]
    },
    {
      "cell_type": "code",
      "execution_count": null,
      "id": "e5adae58",
      "metadata": {
        "id": "e5adae58"
      },
      "outputs": [],
      "source": [
        "7<<2"
      ]
    },
    {
      "cell_type": "code",
      "execution_count": null,
      "id": "8d1f22e5",
      "metadata": {
        "id": "8d1f22e5"
      },
      "outputs": [],
      "source": [
        "if False:\n",
        "    print (\"true statement\")\n",
        "else:\n",
        "    print (\"false statement \")"
      ]
    },
    {
      "cell_type": "code",
      "execution_count": null,
      "id": "4ed26683",
      "metadata": {
        "id": "4ed26683"
      },
      "outputs": [],
      "source": [
        "num = 114\n",
        "if num%2:\n",
        "    print (num,\" is odd\")\n",
        "else:\n",
        "    print (num,\" is even\")"
      ]
    },
    {
      "cell_type": "code",
      "execution_count": null,
      "id": "bb446fc7",
      "metadata": {
        "id": "bb446fc7"
      },
      "outputs": [],
      "source": [
        "print (input(\"enter a number\"))"
      ]
    },
    {
      "cell_type": "code",
      "execution_count": null,
      "id": "597426d8",
      "metadata": {
        "id": "597426d8"
      },
      "outputs": [],
      "source": [
        "num = int(input('enter a number'))\n",
        "print (type(num))"
      ]
    },
    {
      "cell_type": "code",
      "execution_count": null,
      "id": "1b6c6b0d",
      "metadata": {
        "id": "1b6c6b0d"
      },
      "outputs": [],
      "source": [
        "num =  int(input('enter a number'))\n",
        "if num%2:\n",
        "    print (num,\" is odd\")\n",
        "else:\n",
        "    print (num,\" is even\")"
      ]
    },
    {
      "cell_type": "code",
      "execution_count": null,
      "id": "b4aff987",
      "metadata": {
        "id": "b4aff987"
      },
      "outputs": [],
      "source": [
        "num =  int(input('enter a number'))\n",
        "if num%2:\n",
        "    print (num,\" is odd\")\n",
        "else:\n",
        "    print (num,\" is even\")"
      ]
    },
    {
      "cell_type": "code",
      "execution_count": null,
      "id": "6aa8e73c",
      "metadata": {
        "id": "6aa8e73c"
      },
      "outputs": [],
      "source": [
        "chr(65)"
      ]
    },
    {
      "cell_type": "code",
      "execution_count": null,
      "id": "653cf1e0",
      "metadata": {
        "id": "653cf1e0"
      },
      "outputs": [],
      "source": [
        "ord('A')"
      ]
    },
    {
      "cell_type": "code",
      "execution_count": null,
      "id": "a4d14d8d",
      "metadata": {
        "id": "a4d14d8d"
      },
      "outputs": [],
      "source": [
        "ord('0')"
      ]
    },
    {
      "cell_type": "code",
      "execution_count": null,
      "id": "770d2cb7",
      "metadata": {
        "id": "770d2cb7"
      },
      "outputs": [],
      "source": [
        "chr(9)"
      ]
    },
    {
      "cell_type": "code",
      "execution_count": null,
      "id": "bd1f78a5",
      "metadata": {
        "id": "bd1f78a5"
      },
      "outputs": [],
      "source": [
        "print('It is \"Python\"')"
      ]
    },
    {
      "cell_type": "code",
      "execution_count": null,
      "id": "9eaa26c1",
      "metadata": {
        "id": "9eaa26c1"
      },
      "outputs": [],
      "source": [
        "print (\"it's python\")"
      ]
    },
    {
      "cell_type": "code",
      "execution_count": null,
      "id": "92552704",
      "metadata": {
        "id": "92552704"
      },
      "outputs": [],
      "source": [
        "print ('it\\'s \"python\"')"
      ]
    },
    {
      "cell_type": "code",
      "execution_count": null,
      "id": "c2537bac",
      "metadata": {
        "id": "c2537bac"
      },
      "outputs": [],
      "source": [
        "print (\"it's \\\"python\\\"\")"
      ]
    },
    {
      "cell_type": "code",
      "execution_count": null,
      "id": "400985c6",
      "metadata": {
        "id": "400985c6"
      },
      "outputs": [],
      "source": [
        "print (\"\\\\n is for new line\")"
      ]
    },
    {
      "cell_type": "code",
      "execution_count": null,
      "id": "29f7478b",
      "metadata": {
        "id": "29f7478b"
      },
      "outputs": [],
      "source": [
        "print ('it\\'s \"\\\\t\" for tab space')"
      ]
    },
    {
      "cell_type": "code",
      "execution_count": null,
      "id": "24bb5f8a",
      "metadata": {
        "id": "24bb5f8a"
      },
      "outputs": [],
      "source": [
        "print (\"/home/quastech/yash/pytho.ipynb\")"
      ]
    },
    {
      "cell_type": "code",
      "execution_count": null,
      "id": "3813aacf",
      "metadata": {
        "id": "3813aacf"
      },
      "outputs": [],
      "source": [
        "print(r'\\t\\n')"
      ]
    },
    {
      "cell_type": "code",
      "execution_count": null,
      "id": "607b9ebe",
      "metadata": {
        "id": "607b9ebe"
      },
      "outputs": [],
      "source": [
        "name = \"Yash\"\n",
        "age = 21\n",
        "salary = 20000"
      ]
    },
    {
      "cell_type": "code",
      "execution_count": null,
      "id": "3e348242",
      "metadata": {
        "id": "3e348242"
      },
      "outputs": [],
      "source": [
        "print (\"my name is\",name, \"i am\",age,\"years old and my salary is\", salary )"
      ]
    },
    {
      "cell_type": "code",
      "execution_count": null,
      "id": "1d8dcfe2",
      "metadata": {
        "id": "1d8dcfe2"
      },
      "outputs": [],
      "source": [
        "print(f\"my name is {name}, i am {age}, years old and my salary is{salary}\")"
      ]
    },
    {
      "cell_type": "code",
      "execution_count": null,
      "id": "9245917c",
      "metadata": {
        "id": "9245917c"
      },
      "outputs": [],
      "source": [
        "print (\"\"\"hello\n",
        "       hi\n",
        "       \"\"\")"
      ]
    },
    {
      "cell_type": "code",
      "execution_count": null,
      "id": "75d2e15a",
      "metadata": {
        "id": "75d2e15a"
      },
      "outputs": [],
      "source": [
        "age = 10\n",
        "t = 0\n",
        "if age > 12:\n",
        "    t = 10\n",
        "else:\n",
        "    t = 5\n",
        "print(t)"
      ]
    },
    {
      "cell_type": "code",
      "execution_count": null,
      "id": "1f911c89",
      "metadata": {
        "id": "1f911c89"
      },
      "outputs": [],
      "source": [
        "age = 19\n",
        "t = 10 if age>12 else 5\n",
        "print(t)"
      ]
    },
    {
      "cell_type": "code",
      "execution_count": null,
      "id": "9511e9dd",
      "metadata": {
        "id": "9511e9dd"
      },
      "outputs": [],
      "source": [
        "32+2"
      ]
    },
    {
      "cell_type": "code",
      "execution_count": null,
      "id": "f2e27586",
      "metadata": {
        "id": "f2e27586"
      },
      "outputs": [],
      "source": [
        "num = 20\n",
        "result= f\"{num} is odd\" if num%2 else f\"{num} is even\"\n",
        "print(result)"
      ]
    },
    {
      "cell_type": "code",
      "execution_count": null,
      "id": "9addd4b9",
      "metadata": {
        "id": "9addd4b9"
      },
      "outputs": [],
      "source": [
        "a=10\n",
        "b=20\n",
        "c=a\n",
        "a=b\n",
        "b=c\n",
        "print (a,b)"
      ]
    },
    {
      "cell_type": "code",
      "execution_count": null,
      "id": "f82b29f0",
      "metadata": {
        "id": "f82b29f0"
      },
      "outputs": [],
      "source": [
        "a=10\n",
        "b=20\n",
        "a,b=b,a\n",
        "print (a,b)"
      ]
    },
    {
      "cell_type": "code",
      "execution_count": null,
      "id": "b209c50c",
      "metadata": {
        "id": "b209c50c"
      },
      "outputs": [],
      "source": [
        "a=10\n",
        "b=20\n",
        "a=a+b\n",
        "b=a-b\n",
        "a=a-b\n",
        "print(a,b)"
      ]
    },
    {
      "cell_type": "code",
      "execution_count": null,
      "id": "19489811",
      "metadata": {
        "id": "19489811"
      },
      "outputs": [],
      "source": [
        "s = \"Hello World\"\n",
        "s[5]"
      ]
    },
    {
      "cell_type": "code",
      "execution_count": null,
      "id": "0bd189a6",
      "metadata": {
        "id": "0bd189a6"
      },
      "outputs": [],
      "source": [
        "s = 'Hello World'\n",
        "s[0:11]"
      ]
    },
    {
      "cell_type": "code",
      "execution_count": null,
      "id": "5d7b453e",
      "metadata": {
        "id": "5d7b453e"
      },
      "outputs": [],
      "source": [
        "s[:]"
      ]
    },
    {
      "cell_type": "code",
      "execution_count": null,
      "id": "df27dbf9",
      "metadata": {
        "id": "df27dbf9"
      },
      "outputs": [],
      "source": [
        "s = \"0123456789\"\n",
        "s[0:len(s):1]"
      ]
    },
    {
      "cell_type": "code",
      "execution_count": null,
      "id": "34645677",
      "metadata": {
        "id": "34645677"
      },
      "outputs": [],
      "source": [
        "s[-1]"
      ]
    },
    {
      "cell_type": "code",
      "execution_count": null,
      "id": "87d6351b",
      "metadata": {
        "id": "87d6351b"
      },
      "outputs": [],
      "source": [
        "s[::-1]"
      ]
    },
    {
      "cell_type": "code",
      "execution_count": null,
      "id": "a09cd828",
      "metadata": {
        "id": "a09cd828"
      },
      "outputs": [],
      "source": [
        "print(s[0::2]) # print even indexes\n",
        "print(s[1::2]) # print odd indexes\n",
        "print(s[::-1]) # print in reverse"
      ]
    },
    {
      "cell_type": "code",
      "execution_count": null,
      "id": "26b64418",
      "metadata": {
        "id": "26b64418"
      },
      "outputs": [],
      "source": [
        "print(s[5:1:-1])"
      ]
    },
    {
      "cell_type": "code",
      "execution_count": null,
      "id": "efd13403",
      "metadata": {
        "id": "efd13403"
      },
      "outputs": [],
      "source": [
        "print(s[::-2]) # print odd indexes in reverse\n",
        "print(s[-2::-2]) # print even indexes in reverse"
      ]
    },
    {
      "cell_type": "code",
      "execution_count": null,
      "id": "2dc2948d",
      "metadata": {
        "id": "2dc2948d"
      },
      "outputs": [],
      "source": [
        "s = \"abcdefghij\" # practice\n",
        "print(s[4::5])\n",
        "print(s[::3])\n",
        "print(s[5::-5])\n",
        "print(s[7:0:-3])\n",
        "print(s[:0:-4])"
      ]
    },
    {
      "cell_type": "code",
      "execution_count": null,
      "id": "ab63436f",
      "metadata": {
        "id": "ab63436f"
      },
      "outputs": [],
      "source": []
    },
    {
      "cell_type": "code",
      "execution_count": null,
      "id": "e017759b",
      "metadata": {
        "id": "e017759b"
      },
      "outputs": [],
      "source": [
        "# string methods\n",
        "\n",
        "s = \"Hello World\"\n",
        "\n",
        "print(\"uppercase:\", s.upper())\n",
        "print(\"lowercase:\", s.lower())\n",
        "print(\"title case:\", s.title())\n",
        "print(\"capitalised:\", s.capitalize())\n",
        "print(\"index of 'W':\", s.index(\"W\"))\n",
        "print(\"found 'r' at:\", s.find(\"r\"))\n",
        "print(\"count of 'l':\", s.count(\"l\"))\n",
        "print(\"casefold:\", s.casefold())\n",
        "print(\"split using ' ':\", s.split(\" \"))\n",
        "print(\"replaced 'H' with 'j':\", s.replace(\"H\", \"J\"))\n",
        "\"=\".join(['Hello', 'World', 'this', 'is', 'python'])\n"
      ]
    },
    {
      "cell_type": "code",
      "execution_count": null,
      "id": "e29eec11",
      "metadata": {
        "id": "e29eec11"
      },
      "outputs": [],
      "source": [
        "# string methods\n",
        "\n",
        "s = \"            Hello        world             \"\n",
        "\n",
        "print(\"removed whitespace from left only:\", s.lstrip())\n",
        "print(\"removed whitespace from right only:\", s.rstrip())\n",
        "print(\"removed whitespace from both sides:\", s.strip())"
      ]
    },
    {
      "cell_type": "code",
      "execution_count": null,
      "id": "13125170",
      "metadata": {
        "id": "13125170"
      },
      "outputs": [],
      "source": [
        "# string methods\n",
        "\n",
        "s = \"apple\"\n",
        "\n",
        "ljust_text = s.ljust(10, \"*\")\n",
        "rjust_text = s.rjust(10, \"-\")\n",
        "center_text = s.center(50, \"~\")\n",
        "\n",
        "print(ljust_text)\n",
        "print(rjust_text)\n",
        "print(center_text)\n"
      ]
    },
    {
      "cell_type": "code",
      "execution_count": null,
      "id": "PUUTcxAsb7pZ",
      "metadata": {
        "id": "PUUTcxAsb7pZ"
      },
      "outputs": [],
      "source": [
        "# string methods\n",
        "\n",
        "s = \"hEllo WoRld\"\n",
        "\n",
        "print(s.swapcase())"
      ]
    },
    {
      "cell_type": "code",
      "execution_count": null,
      "id": "LlqU5DvYcRoP",
      "metadata": {
        "id": "LlqU5DvYcRoP"
      },
      "outputs": [],
      "source": [
        "# string methods\n",
        "\n",
        "s = \"Hello\\n World\\n this is Python\"\n",
        "\n",
        "print(s.splitlines())"
      ]
    },
    {
      "cell_type": "code",
      "execution_count": null,
      "id": "KYFRFOwCcsiK",
      "metadata": {
        "id": "KYFRFOwCcsiK"
      },
      "outputs": [],
      "source": [
        "# string methods\n",
        "\n",
        "name = \"Rohit\"\n",
        "age = 20\n",
        "score = 123.123\n",
        "\n",
        "sentence_1 = \"Hi, I am {} and I am {} years old\"\n",
        "sentence_2 = \"Hi, I am {var1} and I am {var2} years old\"\n",
        "\n",
        "print(sentence_1.format(name, age))\n",
        "print(sentence_2.format(var1=name, var2=age))"
      ]
    },
    {
      "cell_type": "code",
      "execution_count": null,
      "id": "p06qrVPmdZev",
      "metadata": {
        "id": "p06qrVPmdZev"
      },
      "outputs": [],
      "source": [
        "\"hi\"\"hello\""
      ]
    },
    {
      "cell_type": "code",
      "execution_count": null,
      "id": "658978ec",
      "metadata": {
        "id": "658978ec"
      },
      "outputs": [],
      "source": [
        "\"hi\"+\"hello\""
      ]
    },
    {
      "cell_type": "code",
      "execution_count": null,
      "id": "865c9273",
      "metadata": {
        "id": "865c9273"
      },
      "outputs": [],
      "source": [
        "\"Hi \" * 3"
      ]
    },
    {
      "cell_type": "code",
      "execution_count": null,
      "id": "9ce6b1c7",
      "metadata": {
        "id": "9ce6b1c7"
      },
      "outputs": [],
      "source": [
        "# string formatting\n",
        "\n",
        "print(\"hi, i am %s and i am %d years old and i scored %.2f\" % (name, age, score))\n",
        "print(f\"Score: {score:.2f}\")"
      ]
    },
    {
      "cell_type": "code",
      "execution_count": null,
      "id": "0d8e2753",
      "metadata": {
        "id": "0d8e2753"
      },
      "outputs": [],
      "source": [
        "# if-else\n",
        "\n",
        "a, b = 10, 20\n",
        "\n",
        "if a > b:\n",
        "    print(f\"{a} is greater than {b}\")\n",
        "else:\n",
        "    print(f\"{b} is greater than {a}\")"
      ]
    },
    {
      "cell_type": "code",
      "execution_count": null,
      "id": "dc75bbf9",
      "metadata": {
        "id": "dc75bbf9"
      },
      "outputs": [],
      "source": [
        "# comparing 3 numbers using if-else\n",
        "\n",
        "a, b, c = 40, 30, 20\n",
        "\n",
        "if (a > b):\n",
        "    if (a > c):\n",
        "        print(f\"{a} is greater than {b} and {c}\")\n",
        "else:\n",
        "    if (b > c):\n",
        "        print(f\"{b} is greater than {a} and {c}\")\n",
        "    else:\n",
        "        print(f\"{c} is greater than {a} and {b}\")"
      ]
    },
    {
      "cell_type": "code",
      "execution_count": null,
      "id": "b53a4e2c",
      "metadata": {
        "id": "b53a4e2c"
      },
      "outputs": [],
      "source": [
        "# comparing 3 numbers using elif\n",
        "\n",
        "a, b, c = 40, 30, 50\n",
        "\n",
        "if (a > b) and (a > c):\n",
        "    print(f\"{a} is greater than {b} and {c}\")\n",
        "elif (b > c):\n",
        "    print(f\"{b} is greater than {a} and {c}\")\n",
        "else:\n",
        "    print(f\"{c} is greater than {a} and {b}\")"
      ]
    },
    {
      "cell_type": "code",
      "execution_count": null,
      "id": "f730b7da",
      "metadata": {
        "id": "f730b7da"
      },
      "outputs": [],
      "source": [
        "# switch case version in python\n",
        "\n",
        "num = 3\n",
        "match num:\n",
        "    case 1:\n",
        "        print(\"one\")\n",
        "    case 2:\n",
        "        print(\"two\")\n",
        "    case 3:\n",
        "        print(\"three\")\n",
        "    case _:\n",
        "        print(\"not found\")"
      ]
    },
    {
      "cell_type": "code",
      "execution_count": null,
      "id": "a059c159",
      "metadata": {
        "id": "a059c159"
      },
      "outputs": [],
      "source": [
        "# for iterator\n",
        "\n",
        "for i in \"123\":\n",
        "    print(\"Hi!\")"
      ]
    },
    {
      "cell_type": "code",
      "execution_count": null,
      "id": "63c27800",
      "metadata": {
        "id": "63c27800"
      },
      "outputs": [],
      "source": [
        "for i in range(10):\n",
        "    print(\"hi!\", i)"
      ]
    },
    {
      "cell_type": "code",
      "execution_count": null,
      "id": "0005fb2e",
      "metadata": {
        "id": "0005fb2e"
      },
      "outputs": [],
      "source": [
        "num = int(input(\"Enter a number: \"))\n",
        "\n",
        "for i in range(1, 11):\n",
        "    print(f\"{num} x {i} = {num * i}\")"
      ]
    },
    {
      "cell_type": "code",
      "execution_count": null,
      "id": "047624d0",
      "metadata": {
        "id": "047624d0"
      },
      "outputs": [],
      "source": [
        "i = 0\n",
        "\n",
        "while (i < 4):\n",
        "    print(i)\n",
        "    i += 1"
      ]
    },
    {
      "cell_type": "code",
      "execution_count": null,
      "id": "6d8ec2b2",
      "metadata": {
        "id": "6d8ec2b2"
      },
      "outputs": [],
      "source": [
        "# print a table of any number\n",
        "\n",
        "snum = int(input(\"Enter a number: \"))\n",
        "i = 1\n",
        "while i < 11:\n",
        "    print(f\"{num} x {i} = {num * i}\")\n",
        "    i += 1"
      ]
    },
    {
      "cell_type": "code",
      "execution_count": null,
      "id": "4cf8459a",
      "metadata": {
        "id": "4cf8459a"
      },
      "outputs": [],
      "source": [
        "# DO NOT RUN THIS. IT WILL CRASH YOUR COMPUTER\n",
        "\n",
        "# a = [1, 2]\n",
        "\n",
        "# for i in a:\n",
        "#     a.append(i + 1)"
      ]
    },
    {
      "cell_type": "code",
      "execution_count": null,
      "id": "43ed0e52",
      "metadata": {
        "id": "43ed0e52"
      },
      "outputs": [],
      "source": [
        "print(a)"
      ]
    },
    {
      "cell_type": "code",
      "execution_count": null,
      "id": "dbbac37f",
      "metadata": {
        "id": "dbbac37f"
      },
      "outputs": [],
      "source": [
        "# find certain characters and their index in a string\n",
        "# 1. my way\n",
        "\n",
        "s = \"Python is a Programming language\"\n",
        "num = 0\n",
        "for i in s.casefold():\n",
        "    if i == 'g':\n",
        "        print('g', num)\n",
        "    if i == 'm':\n",
        "        print('m', num)\n",
        "    if i == 'p':\n",
        "        print('p', num)\n",
        "    num += 1"
      ]
    },
    {
      "cell_type": "code",
      "execution_count": null,
      "id": "e68ba451",
      "metadata": {
        "id": "e68ba451"
      },
      "outputs": [],
      "source": [
        "# 2. using enumarate\n",
        "\n",
        "s = \"Python is a Programming language\"\n",
        "\n",
        "for index, ch in enumerate(s):\n",
        "    if ch in \"gmp\":\n",
        "        print(f\"{ch} found at {index}\")"
      ]
    },
    {
      "cell_type": "code",
      "execution_count": null,
      "id": "92f68187",
      "metadata": {
        "id": "92f68187"
      },
      "outputs": [],
      "source": [
        "# 3a. using index to call for value (for loop)\n",
        "\n",
        "s = \"Python is a Programming language\"\n",
        "\n",
        "for i in range(len(s)):\n",
        "    if s[i].lower() in \"gmp\":\n",
        "        print(f\"{s[i]} found at {i}\")\n"
      ]
    },
    {
      "cell_type": "code",
      "execution_count": null,
      "id": "0f1b758b",
      "metadata": {
        "id": "0f1b758b"
      },
      "outputs": [],
      "source": [
        "# 3b. using index to call for value (while loop)\n",
        "\n",
        "s = \"Python is a Programming language\"\n",
        "i = 0\n",
        "\n",
        "while i < len(s):\n",
        "    if s[i].lower() in \"gmp\":\n",
        "        print(f\"{s[i]} found at {i}\")\n",
        "    i += 1\n"
      ]
    },
    {
      "cell_type": "code",
      "execution_count": null,
      "id": "7b7ba6c9",
      "metadata": {
        "id": "7b7ba6c9"
      },
      "outputs": [],
      "source": [
        "# 4. using external variable as an index\n",
        "\n",
        "s = \"Python is a Programming language\"\n",
        "index = 0\n",
        "\n",
        "for ch in s.casefold():\n",
        "    if ch in \"gmp\":\n",
        "        print(f\"{ch} found at {index}\")\n",
        "    index += 1\n"
      ]
    },
    {
      "cell_type": "code",
      "execution_count": null,
      "id": "45c5286e",
      "metadata": {
        "id": "45c5286e"
      },
      "outputs": [],
      "source": [
        "# count the occurence of characters in a string\n",
        "\n",
        "s = \"Python is a Programming Language\"\n",
        "\n",
        "count = 0\n",
        "ch_to_check = input('enter the char to count for:')\n",
        "\n",
        "for ch in s:\n",
        "    if ch_to_check.lower() == ch.lower():\n",
        "        count += 1\n",
        "\n",
        "print(f\"{ch_to_check} occurred {count} times in the sentence.\")"
      ]
    },
    {
      "cell_type": "code",
      "execution_count": null,
      "id": "a9b7ef2e",
      "metadata": {
        "id": "a9b7ef2e"
      },
      "outputs": [],
      "source": [
        "# write a program to check if the string is a palindrome\n",
        "\n",
        "s = input(\"Enter a string: \")\n",
        "\n",
        "if s == s[::-1]:\n",
        "    print(f\"{s} is a palindrome\")\n",
        "else:\n",
        "    print(f\"{s} is not a palindrome\")"
      ]
    },
    {
      "cell_type": "code",
      "execution_count": null,
      "id": "Qqmg_VcWVrDK",
      "metadata": {
        "id": "Qqmg_VcWVrDK"
      },
      "outputs": [],
      "source": [
        "# write a program to check if the string is a palindrome using basics\n",
        "\n",
        "s_original = input(\"Enter a string: \")\n",
        "s_reversed = \"\"\n",
        "\n",
        "for ch in s_original:\n",
        "    s_reversed = ch + s_reversed\n",
        "\n",
        "if s_original == s_reversed:\n",
        "    print(f\"{s_original} is a palindrome\")\n",
        "else:\n",
        "    print(f\"{s_original} is not a palindrome\")"
      ]
    },
    {
      "cell_type": "code",
      "execution_count": null,
      "id": "T8xnOx5a9O2K",
      "metadata": {
        "id": "T8xnOx5a9O2K"
      },
      "outputs": [],
      "source": [
        "# write a program to check if the string is an anagram.\n",
        "\n",
        "s1 = input(\"Enter a string: \")\n",
        "s2 = input(\"Enter a string: \")\n",
        "\n",
        "if sorted(s1) == sorted(s2):\n",
        "    print(f\"{s1} and {s2} are anagrams\")\n",
        "else:\n",
        "    print(f\"{s1} and {s2} are not anagrams\")"
      ]
    },
    {
      "cell_type": "code",
      "execution_count": null,
      "id": "fGp-Gt9qWHb2",
      "metadata": {
        "id": "fGp-Gt9qWHb2"
      },
      "outputs": [],
      "source": [
        "# write a program to check if the string is an anagram using basics.\n",
        "\n",
        "s1 = input(\"Enter a string: \")\n",
        "s2 = input(\"Enter a string: \")\n",
        "result = \"Anagrams\"\n",
        "\n",
        "if len(s1) != len(s2):\n",
        "  result = \"Not Anagrams\"\n",
        "\n",
        "for i in range(len(s1)):\n",
        "    if s1.count(s1[i]) != s2.count(s1[i]):\n",
        "        result = \"Not Anagrams\"\n",
        "        break\n",
        "\n",
        "print(result)"
      ]
    },
    {
      "cell_type": "code",
      "execution_count": null,
      "id": "JNYnqkv09qmv",
      "metadata": {
        "id": "JNYnqkv09qmv"
      },
      "outputs": [],
      "source": [
        "# write a program to check if the string is an anagram using dictionaries.\n",
        "\n",
        "s1 = input(\"Enter the first string: \").lower()\n",
        "s2 = input(\"Enter the second string: \").lower()\n",
        "\n",
        "if len(s1) != len(s2):\n",
        "    print(f\"{s1} and {s2} are not anagrams\")\n",
        "\n",
        "char_count = {}\n",
        "\n",
        "for ch in s1:\n",
        "    char_count[ch] = char_count.get(ch, 0) + 1\n",
        "\n",
        "is_anagram = True\n",
        "for ch in s2:\n",
        "    if ch not in char_count or char_count[ch] == 0:\n",
        "        print(f\"{s1} and {s2} are not anagrams\")\n",
        "        is_anagram = False\n",
        "        break\n",
        "    else:\n",
        "        char_count[ch] -= 1\n",
        "\n",
        "if is_anagram:\n",
        "    print(f\"{s1} and {s2} are anagrams\")\n"
      ]
    },
    {
      "cell_type": "code",
      "execution_count": null,
      "id": "jvQ3_t_nI3eY",
      "metadata": {
        "id": "jvQ3_t_nI3eY"
      },
      "outputs": [],
      "source": [
        "# write a program to count how many times each letter occured.\n",
        "\n",
        "s = \"Hello World!\"\n",
        "\n",
        "for ch in s.lower():\n",
        "  count = 0\n",
        "  for i in s.lower():\n",
        "    if i == ch:\n",
        "      count += 1\n",
        "  print(f\"{ch} occured {count} times\")"
      ]
    },
    {
      "cell_type": "markdown",
      "id": "4aEZtFVpX5aV",
      "metadata": {
        "id": "4aEZtFVpX5aV"
      },
      "source": [
        "# Non Primitive Data"
      ]
    },
    {
      "cell_type": "code",
      "execution_count": null,
      "id": "yNnaNFk0X-ES",
      "metadata": {
        "id": "yNnaNFk0X-ES"
      },
      "outputs": [],
      "source": [
        "# LISTS\n",
        "\n",
        "a = []\n",
        "print(type(a))"
      ]
    },
    {
      "cell_type": "code",
      "execution_count": null,
      "id": "9g1WezbRYDsI",
      "metadata": {
        "id": "9g1WezbRYDsI"
      },
      "outputs": [],
      "source": [
        "a = [1, 2, 3]\n",
        "b = ['a', 'b', 'c']\n",
        "c = [1, 'a', 2, 'b']\n",
        "\n",
        "print(a, b, c)"
      ]
    },
    {
      "cell_type": "code",
      "execution_count": null,
      "id": "8ktveYPnYWBc",
      "metadata": {
        "id": "8ktveYPnYWBc"
      },
      "outputs": [],
      "source": [
        "a = list(\"abc\"+\"123\")\n",
        "a"
      ]
    },
    {
      "cell_type": "code",
      "execution_count": null,
      "id": "9AYVFgrIYcdz",
      "metadata": {
        "id": "9AYVFgrIYcdz"
      },
      "outputs": [],
      "source": [
        "my_list = [1, 1.5, \"Hello\", True, None, 2 + 3j, [1, 2, 3],\n",
        "           (1, 2, 3), {1, 2, 3}, {1 : \"one\", 2 : \"two\"},\n",
        "           print, tuple]\n",
        "my_list"
      ]
    },
    {
      "cell_type": "code",
      "execution_count": null,
      "id": "AvkN-8QCYz-I",
      "metadata": {
        "id": "AvkN-8QCYz-I"
      },
      "outputs": [],
      "source": [
        "print(my_list[10])"
      ]
    },
    {
      "cell_type": "code",
      "execution_count": null,
      "id": "ENx2_29sY72V",
      "metadata": {
        "id": "ENx2_29sY72V"
      },
      "outputs": [],
      "source": [
        "my_list[10](\"Hello World, this calls the print function\")"
      ]
    },
    {
      "cell_type": "code",
      "execution_count": null,
      "id": "Zi1h0mG4ZFNE",
      "metadata": {
        "id": "Zi1h0mG4ZFNE"
      },
      "outputs": [],
      "source": [
        "my_list[6][1] # 6th index has a list [1, 2, 3] and it's 1st index holds a value of 2."
      ]
    },
    {
      "cell_type": "code",
      "execution_count": null,
      "id": "LUBJV2NpZSRw",
      "metadata": {
        "id": "LUBJV2NpZSRw"
      },
      "outputs": [],
      "source": [
        "# iterating through the list\n",
        "\n",
        "x = ['a', 'b', 'c', 'd', 'e', 'f']\n",
        "\n",
        "for i in range(len(x)):\n",
        "    print(i, x[i])"
      ]
    },
    {
      "cell_type": "code",
      "execution_count": null,
      "id": "afd7777b",
      "metadata": {
        "id": "afd7777b"
      },
      "outputs": [],
      "source": [
        "# iterating through odd indexes of the list\n",
        "\n",
        "x = ['a', 'b', 'c', 'd', 'e', 'f']\n",
        "\n",
        "for i in range(1, len(x), 2):\n",
        "    print(i, x[i])"
      ]
    },
    {
      "cell_type": "code",
      "execution_count": null,
      "id": "dec935c5",
      "metadata": {
        "id": "dec935c5"
      },
      "outputs": [],
      "source": [
        "# adds an element to the end of the list (at the -1 position specifically)\n",
        "\n",
        "x = ['a', 'b', 'c', 'd', 'e', 'f']\n",
        "\n",
        "x.append('g')\n",
        "print(x)"
      ]
    },
    {
      "cell_type": "code",
      "execution_count": null,
      "id": "7923fabd",
      "metadata": {
        "id": "7923fabd"
      },
      "outputs": [],
      "source": [
        "# inserts an element at a particular position\n",
        "\n",
        "x = ['a', 'b', 'c', 'd', 'e', 'f']\n",
        "\n",
        "x.insert(0, 'A')\n",
        "x"
      ]
    },
    {
      "cell_type": "code",
      "execution_count": null,
      "id": "4e5ea171",
      "metadata": {
        "id": "4e5ea171"
      },
      "outputs": [],
      "source": [
        "# returns the index of the element\n",
        "\n",
        "x = ['a', 'b', 'c', 'd', 'e', 'f']\n",
        "\n",
        "x.index(\"e\")"
      ]
    },
    {
      "cell_type": "code",
      "execution_count": null,
      "id": "d30e5238",
      "metadata": {
        "id": "d30e5238"
      },
      "outputs": [],
      "source": [
        "# removes and returns the elements at the specified index or index -1 by default\n",
        "\n",
        "x = ['a', 'b', 'c', 'd', 'e', 'f']\n",
        "\n",
        "x.pop()"
      ]
    },
    {
      "cell_type": "code",
      "execution_count": null,
      "id": "cf76a129",
      "metadata": {
        "id": "cf76a129"
      },
      "outputs": [],
      "source": [
        "# removes the element specified\n",
        "\n",
        "x = ['a', 'b', 'c', 'd', 'e', 'f']\n",
        "\n",
        "x.remove('f')\n",
        "print(x)"
      ]
    },
    {
      "cell_type": "code",
      "execution_count": null,
      "id": "ed10f2b9",
      "metadata": {
        "id": "ed10f2b9"
      },
      "outputs": [],
      "source": [
        "# reverses the entire list\n",
        "\n",
        "x = ['a', 'b', 'c', 'd', 'e', 'f']\n",
        "\n",
        "x.reverse()\n",
        "print(x)"
      ]
    },
    {
      "cell_type": "code",
      "execution_count": null,
      "id": "b2866154",
      "metadata": {
        "id": "b2866154"
      },
      "outputs": [],
      "source": [
        "# sorts the entire list\n",
        "\n",
        "x = ['a', 'b', 'c', 'd', 'e', 'f']\n",
        "\n",
        "x.sort()\n",
        "print(x)"
      ]
    },
    {
      "cell_type": "code",
      "execution_count": null,
      "id": "8013bc1a",
      "metadata": {
        "id": "8013bc1a"
      },
      "outputs": [],
      "source": [
        "# add the letters 'a' to 'g' at the beginning of the list\n",
        "# 1. using reversed string.\n",
        "\n",
        "r = ['h', 'i', 'j', 'k']\n",
        "s = 'abcdefg'\n",
        "\n",
        "for ch in s[::-1]:\n",
        "    r.insert(0, ch)\n",
        "\n",
        "print(r)"
      ]
    },
    {
      "cell_type": "code",
      "execution_count": null,
      "id": "cd04f8e2",
      "metadata": {
        "id": "cd04f8e2"
      },
      "outputs": [],
      "source": [
        "# 2. using normal string\n",
        "\n",
        "r = ['h', 'i', 'j', 'k']\n",
        "s = 'abcdefg'\n",
        "\n",
        "for i in range(len(s)):\n",
        "    r.insert(i, s[i])\n",
        "\n",
        "print(r)"
      ]
    },
    {
      "cell_type": "code",
      "execution_count": null,
      "id": "8aff072d",
      "metadata": {
        "id": "8aff072d"
      },
      "outputs": [],
      "source": [
        "# 3. using negative indexing\n",
        "\n",
        "r = ['h', 'i', 'j', 'k']\n",
        "s = 'abcdefg'\n",
        "\n",
        "for ch in s:\n",
        "    r.insert(-4, ch)\n",
        "\n",
        "print(r)"
      ]
    },
    {
      "cell_type": "code",
      "execution_count": null,
      "id": "6c7bf1cb",
      "metadata": {
        "id": "6c7bf1cb"
      },
      "outputs": [],
      "source": [
        "# 4. using negative indexing and chr()\n",
        "\n",
        "r = ['h', 'i', 'j', 'k']\n",
        "\n",
        "for i in range(7):\n",
        "    r.insert(-4, chr(97 + i))\n",
        "    print(r)"
      ]
    },
    {
      "cell_type": "code",
      "execution_count": null,
      "id": "0f32da71",
      "metadata": {
        "id": "0f32da71"
      },
      "outputs": [],
      "source": [
        "# using the 'Python' way\n",
        "\n",
        "r = ['h', 'i', 'j', 'k']\n",
        "s = 'abcdefg'\n",
        "\n",
        "r = list(s) + r\n",
        "print(r)"
      ]
    },
    {
      "cell_type": "code",
      "execution_count": null,
      "id": "ab956ed9",
      "metadata": {
        "id": "ab956ed9"
      },
      "outputs": [],
      "source": [
        "# remove certain elements from a list\n",
        "# 1. using the remove() menthod\n",
        "\n",
        "elements = ['a', 'b', 'c', 1, 'z']\n",
        "r = ['a', 'b', 'c', 'd', 'e', 'f', 'g', 'h', 'i', 'j', 'k']\n",
        "\n",
        "for ch in elements:\n",
        "    if ch in r:\n",
        "        r.remove(ch)\n",
        "\n",
        "print(r)"
      ]
    },
    {
      "cell_type": "code",
      "execution_count": null,
      "id": "8fa4a502",
      "metadata": {
        "id": "8fa4a502"
      },
      "outputs": [],
      "source": [
        "#2. using the pop() method\n",
        "\n",
        "elements = ['a', 'b', 'c', 1, 'z']\n",
        "r = ['a', 'b', 'c', 'd', 'e', 'f', 'g', 'h', 'i', 'j', 'k']\n",
        "\n",
        "for ch in elements:\n",
        "    if r.count(ch) > 0:\n",
        "        r.pop(r.index(ch))\n",
        "print(r)"
      ]
    },
    {
      "cell_type": "code",
      "execution_count": null,
      "id": "547c7163",
      "metadata": {
        "id": "547c7163"
      },
      "outputs": [],
      "source": [
        "# acessing the list using the enumerate() function\n",
        "\n",
        "elements = ['a', 'b', 'c', 'd', 'e']\n",
        "\n",
        "for index, value in enumerate(elements):\n",
        "    print(index, value)"
      ]
    },
    {
      "cell_type": "code",
      "execution_count": null,
      "id": "2dcc4625",
      "metadata": {
        "id": "2dcc4625"
      },
      "outputs": [],
      "source": [
        "# multi-dimensional lists\n",
        "\n",
        "m = [\n",
        "    ['annabelle', 'bheem', 'charlie'],\n",
        "    ['doraemon', 'oggy', 'fantastic 4'],\n",
        "    ['gatorgaj', 'hagemaru', 'shinchan']\n",
        "]\n",
        "\n",
        "print(m[0])           # ['annabelle', 'bheem', 'charlie']\n",
        "print(m[0][1])        # bheem\n",
        "print(m[0][1][0])     # b\n",
        "print(m[0][1][4::1])  # m\n",
        "print(m[2][2][4:])    # chan\n",
        "print(m[1][0][:4])    # dora"
      ]
    },
    {
      "cell_type": "code",
      "execution_count": null,
      "id": "de44d3c4",
      "metadata": {
        "id": "de44d3c4"
      },
      "outputs": [],
      "source": [
        "e = ['The', 'Moon']\n",
        "e.insert(1, \"Hello\")\n",
        "print(e)"
      ]
    },
    {
      "cell_type": "code",
      "execution_count": null,
      "id": "7b30f999",
      "metadata": {
        "id": "7b30f999"
      },
      "outputs": [],
      "source": [
        "e = ['The', 'Moon']\n",
        "e.append(\"Hello\")\n",
        "print(e)"
      ]
    },
    {
      "cell_type": "code",
      "execution_count": null,
      "id": "cdfe59f0",
      "metadata": {
        "id": "cdfe59f0"
      },
      "outputs": [],
      "source": [
        "e = ['The', 'Moon']\n",
        "e.extend([\"this\", \"is\", \"great\"])\n",
        "print(e)"
      ]
    },
    {
      "cell_type": "code",
      "execution_count": null,
      "id": "db06291b",
      "metadata": {
        "id": "db06291b"
      },
      "outputs": [],
      "source": [
        "e = ['The', 'Moon', 'this', 'is', 'great']\n",
        "p = e\n",
        "print(\"p =\", p)     # same as e\n",
        "p.pop()             # remove an element from 'p'\n",
        "print(\"p =\", p)     # 'p' changed\n",
        "print(\"e =\", e)     # 'e' changed too.\n",
        "print(id(p), id(e)) # cause they transferred id instead."
      ]
    },
    {
      "cell_type": "code",
      "execution_count": null,
      "id": "3c090a80",
      "metadata": {
        "id": "3c090a80"
      },
      "outputs": [],
      "source": [
        "e = ['The', 'Moon', 'this', 'is', 'great']\n",
        "p = e.copy()        # using the list.copy() method\n",
        "print(\"p =\", p)     # same as e\n",
        "p.pop()             # remove an element from 'p'\n",
        "print(\"p =\", p)     # 'p' changed\n",
        "print(\"e =\", e)     # 'e' didn't change.\n",
        "print(id(p), id(e)) # cause they transferred 'Data' instead."
      ]
    },
    {
      "cell_type": "code",
      "execution_count": null,
      "id": "86145759",
      "metadata": {
        "id": "86145759"
      },
      "outputs": [],
      "source": [
        "m = [\n",
        "    ['annabelle', 'bheem', 'charlie'],\n",
        "    ['doraemon', 'oggy', 'fantastic 4'],\n",
        "    ['gatorgaj', 'hagemaru', 'shinchan']\n",
        "]\n",
        "\n",
        "# normal .copy() only changes the id for the main list and no the lists or other\n",
        "# non-primitive lists inside it.\n",
        "\n",
        "n = m.copy()\n",
        "n[0][2] = \"Toys\" # modifying in 'n'\n",
        "\n",
        "print(f\"m = {m}\\nn = {n}\") # changed in both 'm' and 'n'\n",
        "print(id(m), id(n))        # main id's are different\n",
        "print(id(m[0]), id(n[0]))  # id's for inner lists remain the same"
      ]
    },
    {
      "cell_type": "code",
      "execution_count": null,
      "id": "07be4c73",
      "metadata": {
        "id": "07be4c73"
      },
      "outputs": [],
      "source": [
        "# by using the deepcopy function from the copy module, it creates correct copies\n",
        "# of all non primitive data.\n",
        "\n",
        "import copy\n",
        "\n",
        "m = [\n",
        "    ['annabelle', 'bheem', 'charlie'],\n",
        "    ['doraemon', 'oggy', 'fantastic 4'],\n",
        "    ['gatorgaj', 'hagemaru', 'shinchan']\n",
        "]\n",
        "\n",
        "n = copy.deepcopy(m)\n",
        "n[0][2] = \"Toys\"           # modifying in 'n'\n",
        "\n",
        "print(f\"m = {m}\\nn = {n}\") # changed in only 'n'\n",
        "print(id(m), id(n))        # main id's are different\n",
        "print(id(m[0]), id(n[0]))  # id's for inner lists are also different"
      ]
    },
    {
      "cell_type": "code",
      "execution_count": null,
      "id": "300b6f32",
      "metadata": {
        "id": "300b6f32"
      },
      "outputs": [],
      "source": [
        "# difference between .reverse() method and reversed() function\n",
        "\n",
        "# reversed() function does not modify the original list or data\n",
        "# it only returns a copy of the operation it performs.\n",
        "\n",
        "f = [1, 2, 3, 4, 5, 6]\n",
        "print(f\"f = {list(reversed(f))}\")"
      ]
    },
    {
      "cell_type": "code",
      "execution_count": null,
      "id": "6b07add0",
      "metadata": {
        "id": "6b07add0"
      },
      "outputs": [],
      "source": [
        "# the .reversed() method modifies the original list\n",
        "\n",
        "f = [1, 2, 3, 4, 5, 6]\n",
        "f.reverse()\n",
        "print(f\"f = {f}\")"
      ]
    },
    {
      "cell_type": "code",
      "execution_count": null,
      "id": "87375011",
      "metadata": {
        "id": "87375011"
      },
      "outputs": [],
      "source": [
        "# dynamically create this list using an empty list\n",
        "# 1. My way\n",
        "\n",
        "question = [[1, 2, 3, 4], [5 ,6 ,7 ,8 ,9]]\n",
        "answer = []\n",
        "\n",
        "temp = []\n",
        "\n",
        "for i in range(1, 5):\n",
        "  temp.append(i)\n",
        "answer.append(list(temp))\n",
        "temp.clear()\n",
        "\n",
        "for i in range(5, 10):\n",
        "  temp.append(i)\n",
        "answer.append(list(temp))\n",
        "temp.clear()\n",
        "\n",
        "print(answer)"
      ]
    },
    {
      "cell_type": "code",
      "execution_count": null,
      "id": "4168fea6",
      "metadata": {
        "id": "4168fea6"
      },
      "outputs": [],
      "source": [
        "# 2. using list comprehension\n",
        "\n",
        "question = [[1, 2, 3, 4], [5 ,6 ,7 ,8 ,9]]\n",
        "answer = []\n",
        "\n",
        "answer.append([i for i in range(1, 5)])\n",
        "answer.append([i for i in range(5, 10)])\n",
        "\n",
        "print(answer)"
      ]
    },
    {
      "cell_type": "code",
      "execution_count": null,
      "id": "6IMHlVXUs3bE",
      "metadata": {
        "id": "6IMHlVXUs3bE"
      },
      "outputs": [],
      "source": [
        "# 3. using list comprehension in a single line\n",
        "\n",
        "answer = [[i for i in range(1, 5)], [i for i in range(5, 10)]]\n",
        "print(answer)"
      ]
    },
    {
      "cell_type": "code",
      "execution_count": null,
      "id": "8NWbDu-NtF-C",
      "metadata": {
        "id": "8NWbDu-NtF-C"
      },
      "outputs": [],
      "source": [
        "# return the position of the element in the matrix\n",
        "# 1. my way\n",
        "\n",
        "matrix = [\n",
        "    [1, 3, 8],\n",
        "    [9, 11, \"Hello\"],\n",
        "    [13, 15, \"World\"]\n",
        "]\n",
        "\n",
        "element_to_find = input(\"Enter the element to find: \")\n",
        "res = \"not found\"\n",
        "\n",
        "if element_to_find.isnumeric():\n",
        "    element_to_find = int(element_to_find)\n",
        "\n",
        "for i in range(len(matrix)):\n",
        "    for j in range(len(matrix[i])):\n",
        "        if matrix[i][j] == element_to_find:\n",
        "            res = f\"{element_to_find} found at {i}, {j}\"\n",
        "\n",
        "print(res)"
      ]
    },
    {
      "cell_type": "code",
      "execution_count": null,
      "id": "oXT7McqowwDc",
      "metadata": {
        "id": "oXT7McqowwDc",
        "outputId": "d390ab38-452c-4a08-fc9d-c558629e66e0"
      },
      "outputs": [
        {
          "name": "stdout",
          "output_type": "stream",
          "text": [
            "(1,)\n"
          ]
        }
      ],
      "source": [
        "a = (1, ) # tuple with a single element\n",
        "print(a)"
      ]
    },
    {
      "cell_type": "code",
      "execution_count": null,
      "id": "ceb3eb15",
      "metadata": {
        "id": "ceb3eb15",
        "outputId": "b2ea4ede-4b40-44ea-cd4a-0f4f4e51ba0e"
      },
      "outputs": [
        {
          "name": "stdout",
          "output_type": "stream",
          "text": [
            "(1, 2, 3)\n"
          ]
        }
      ],
      "source": [
        "a = (1, 2, 3) # normal tuple\n",
        "print(a)"
      ]
    },
    {
      "cell_type": "code",
      "execution_count": 1,
      "id": "eca34a70",
      "metadata": {
        "colab": {
          "base_uri": "https://localhost:8080/"
        },
        "id": "eca34a70",
        "outputId": "7df9ad51-14c0-4bc5-c746-52b6f03a6956"
      },
      "outputs": [
        {
          "output_type": "stream",
          "name": "stdout",
          "text": [
            "()\n",
            "(1, 2, 3)\n"
          ]
        }
      ],
      "source": [
        "a = tuple() # create an empty tuple\n",
        "print(a)\n",
        "a = tuple([1, 2, 3]) # tuple using the tuple class\n",
        "print(a)"
      ]
    },
    {
      "cell_type": "code",
      "execution_count": null,
      "id": "3bb04c46",
      "metadata": {
        "id": "3bb04c46",
        "outputId": "56357a47-4d79-42ed-bedb-73a53a667eda"
      },
      "outputs": [
        {
          "name": "stdout",
          "output_type": "stream",
          "text": [
            "<class 'tuple'>\n"
          ]
        }
      ],
      "source": [
        "print(type(a))"
      ]
    },
    {
      "cell_type": "code",
      "execution_count": null,
      "id": "8842fb1a",
      "metadata": {
        "id": "8842fb1a",
        "outputId": "dd66bc99-ff15-4d33-8a28-7eeafb08a2f5"
      },
      "outputs": [
        {
          "data": {
            "text/plain": [
              "1"
            ]
          },
          "execution_count": 129,
          "metadata": {},
          "output_type": "execute_result"
        }
      ],
      "source": [
        "a = tuple([1, 2, 3])\n",
        "a.count(2)"
      ]
    },
    {
      "cell_type": "code",
      "execution_count": null,
      "id": "d4cf142c",
      "metadata": {
        "id": "d4cf142c",
        "outputId": "d076d6e9-83c0-49b9-e311-3271f33fc7e3"
      },
      "outputs": [
        {
          "data": {
            "text/plain": [
              "2"
            ]
          },
          "execution_count": 123,
          "metadata": {},
          "output_type": "execute_result"
        }
      ],
      "source": [
        "a = tuple([1, 2, 3])\n",
        "a.index(3)"
      ]
    },
    {
      "cell_type": "code",
      "execution_count": null,
      "id": "fe700488",
      "metadata": {
        "id": "fe700488",
        "outputId": "3f5fb301-dfdc-4d6c-8bc6-16b608cdbe77"
      },
      "outputs": [
        {
          "name": "stdout",
          "output_type": "stream",
          "text": [
            "(1, 2, 3)\n",
            "(0, 1, 2, 3, 4)\n"
          ]
        }
      ],
      "source": [
        "# how to modify a tuple\n",
        "# 1. type cast into another data type like a list\n",
        "\n",
        "a = (1, 2, 3)\n",
        "print(a) # before\n",
        "\n",
        "a = list(a)\n",
        "a.insert(len(a), 4)\n",
        "a.insert(0, 0)\n",
        "a = tuple(a)\n",
        "\n",
        "print(a) # after"
      ]
    },
    {
      "cell_type": "code",
      "execution_count": null,
      "id": "1b9cb650",
      "metadata": {
        "id": "1b9cb650",
        "outputId": "040d3161-235a-49d6-8711-060583d3006d"
      },
      "outputs": [
        {
          "name": "stdout",
          "output_type": "stream",
          "text": [
            "(0, 1, 2, 3, 4)\n"
          ]
        }
      ],
      "source": [
        "# 2. using unpacking\n",
        "\n",
        "a = (1, 2, 3)\n",
        "a = tuple((0, *a, 4))\n",
        "print(a)"
      ]
    },
    {
      "cell_type": "code",
      "execution_count": 3,
      "id": "81df09f9",
      "metadata": {
        "colab": {
          "base_uri": "https://localhost:8080/"
        },
        "id": "81df09f9",
        "outputId": "86963c23-e957-460a-e8d3-1b53b199278d"
      },
      "outputs": [
        {
          "output_type": "stream",
          "name": "stdout",
          "text": [
            "10 [20, 30, 40] 50\n"
          ]
        }
      ],
      "source": [
        "# packing\n",
        "\n",
        "a, *b, c = 10, 20, 30, 40, 50\n",
        "print(a, b, c)\n",
        "print(a, *b, c)"
      ]
    },
    {
      "cell_type": "code",
      "execution_count": null,
      "id": "9046997a",
      "metadata": {
        "id": "9046997a",
        "outputId": "2461487c-b3a3-4c96-bc57-5a6044f3d90a"
      },
      "outputs": [
        {
          "name": "stdout",
          "output_type": "stream",
          "text": [
            "[1, 2, 3]\n",
            "([1, 2, 3, 4], 5, 6, 7)\n"
          ]
        }
      ],
      "source": [
        "# modifying a mutable datatype inside a tuple\n",
        "\n",
        "a = ([1, 2, 3], 5, 6, 7)\n",
        "print(a[0])\n",
        "\n",
        "a[0].append(4)\n",
        "print(a)"
      ]
    },
    {
      "cell_type": "code",
      "execution_count": null,
      "id": "0f9450b1",
      "metadata": {
        "id": "0f9450b1",
        "outputId": "4e8bf23c-d512-4b77-9187-296522b670dc"
      },
      "outputs": [
        {
          "name": "stdout",
          "output_type": "stream",
          "text": [
            "{1, 2, 3, 4}\n"
          ]
        }
      ],
      "source": [
        "# set\n",
        "\n",
        "s = {1, 2, 3, 4} # create a set\n",
        "print(s)"
      ]
    },
    {
      "cell_type": "code",
      "execution_count": null,
      "id": "302210af",
      "metadata": {
        "id": "302210af",
        "outputId": "8983454d-0058-4369-b834-eab9b0b8f5a6"
      },
      "outputs": [
        {
          "name": "stdout",
          "output_type": "stream",
          "text": [
            "<class 'set'>\n"
          ]
        }
      ],
      "source": [
        "s = set() # create an empty set\n",
        "print(type(s))"
      ]
    },
    {
      "cell_type": "code",
      "execution_count": null,
      "id": "e2ee4921",
      "metadata": {
        "id": "e2ee4921",
        "outputId": "05399ebb-8d67-43c4-b3bd-42b6eb91d81f"
      },
      "outputs": [
        {
          "name": "stdout",
          "output_type": "stream",
          "text": [
            "{0, 1, 2, 'abc'}\n"
          ]
        }
      ],
      "source": [
        "s = {\"abc\", 1, 2, 0, 0}\n",
        "print(s) # set only stores unique values and stores them based on priority."
      ]
    },
    {
      "cell_type": "code",
      "execution_count": null,
      "id": "280f0642",
      "metadata": {
        "id": "280f0642"
      },
      "outputs": [],
      "source": [
        "s = {[1, 2, 3], [4, 5, 6]} # set can't hold any unhashable data."
      ]
    },
    {
      "cell_type": "code",
      "execution_count": null,
      "id": "7f8db49d",
      "metadata": {
        "id": "7f8db49d",
        "outputId": "f7043ea4-565b-4915-ad71-cfe5d0bf3e98"
      },
      "outputs": [
        {
          "name": "stdout",
          "output_type": "stream",
          "text": [
            "-2492762274252545073\n",
            "5984670602542371243\n"
          ]
        }
      ],
      "source": [
        "print(hash(\"abcdefghijklmnopqrstuvwxyz\"))           # converts data into a hash code\n",
        "print(hash(\"123321123213132132132132132132131321\"))"
      ]
    },
    {
      "cell_type": "code",
      "execution_count": null,
      "id": "ab0f69a9",
      "metadata": {
        "id": "ab0f69a9",
        "outputId": "4afb4e07-2c2f-4b61-f1fe-9263d239484e"
      },
      "outputs": [
        {
          "ename": "TypeError",
          "evalue": "unhashable type: 'list'",
          "output_type": "error",
          "traceback": [
            "\u001b[0;31m---------------------------------------------------------------------------\u001b[0m",
            "\u001b[0;31mTypeError\u001b[0m                                 Traceback (most recent call last)",
            "Cell \u001b[0;32mIn[193], line 1\u001b[0m\n\u001b[0;32m----> 1\u001b[0m s \u001b[38;5;241m=\u001b[39m {(\u001b[38;5;241m1\u001b[39m, [\u001b[38;5;241m2\u001b[39m], \u001b[38;5;241m3\u001b[39m), \u001b[38;5;241m4\u001b[39m, \u001b[38;5;241m5\u001b[39m, \u001b[38;5;241m6\u001b[39m}\n\u001b[1;32m      2\u001b[0m \u001b[38;5;28mprint\u001b[39m(s)\n",
            "\u001b[0;31mTypeError\u001b[0m: unhashable type: 'list'"
          ]
        }
      ],
      "source": [
        "s = {(1, [2], 3), 4, 5, 6} # can't hold any unhashable data even if inside an hashable form.\n",
        "print(s)"
      ]
    },
    {
      "cell_type": "code",
      "execution_count": null,
      "id": "62b5cea1",
      "metadata": {
        "id": "62b5cea1"
      },
      "outputs": [],
      "source": []
    }
  ],
  "metadata": {
    "colab": {
      "provenance": []
    },
    "kernelspec": {
      "display_name": "Python 3",
      "language": "python",
      "name": "python3"
    },
    "language_info": {
      "codemirror_mode": {
        "name": "ipython",
        "version": 3
      },
      "file_extension": ".py",
      "mimetype": "text/x-python",
      "name": "python",
      "nbconvert_exporter": "python",
      "pygments_lexer": "ipython3",
      "version": "3.10.12"
    }
  },
  "nbformat": 4,
  "nbformat_minor": 5
}