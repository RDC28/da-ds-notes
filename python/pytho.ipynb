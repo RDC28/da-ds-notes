{
  "cells": [
    {
      "cell_type": "markdown",
      "id": "ee58ba52",
      "metadata": {},
      "source": [
        "# PYTHON BASICS"
      ]
    },
    {
      "cell_type": "code",
      "execution_count": 1,
      "id": "85ffff96",
      "metadata": {
        "id": "85ffff96"
      },
      "outputs": [],
      "source": [
        "a=10"
      ]
    },
    {
      "cell_type": "code",
      "execution_count": null,
      "id": "5202e721",
      "metadata": {
        "id": "5202e721",
        "outputId": "7ab24026-26c3-4230-932f-ae3e9fb58d12"
      },
      "outputs": [
        {
          "name": "stdout",
          "output_type": "stream",
          "text": [
            "10\n"
          ]
        }
      ],
      "source": [
        "print (a)"
      ]
    },
    {
      "cell_type": "code",
      "execution_count": null,
      "id": "7ff2274f",
      "metadata": {
        "id": "7ff2274f",
        "outputId": "5fa8a7de-65ae-4cd1-a386-e2a0a951a73e"
      },
      "outputs": [
        {
          "name": "stdout",
          "output_type": "stream",
          "text": [
            "<class 'int'>\n"
          ]
        }
      ],
      "source": [
        "print (type(a))"
      ]
    },
    {
      "cell_type": "markdown",
      "id": "16695c62",
      "metadata": {},
      "source": [
        "## DATATYPES"
      ]
    },
    {
      "cell_type": "code",
      "execution_count": 4,
      "id": "c37be7cc",
      "metadata": {
        "id": "c37be7cc"
      },
      "outputs": [],
      "source": [
        "a = 183\n",
        "b = 103.4"
      ]
    },
    {
      "cell_type": "code",
      "execution_count": 5,
      "id": "73d1e549",
      "metadata": {
        "id": "73d1e549",
        "outputId": "ec0fcc26-7c1f-4abf-ea79-444e7d8361b6"
      },
      "outputs": [
        {
          "name": "stdout",
          "output_type": "stream",
          "text": [
            "<class 'int'>\n",
            "<class 'float'>\n"
          ]
        }
      ],
      "source": [
        "print(type(a))\n",
        "print(type(b))"
      ]
    },
    {
      "cell_type": "code",
      "execution_count": null,
      "id": "f5b8fbd2",
      "metadata": {
        "id": "f5b8fbd2",
        "outputId": "78cc6a4d-e1f8-4d4e-acf6-099c1f989b4e"
      },
      "outputs": [
        {
          "name": "stdout",
          "output_type": "stream",
          "text": [
            "<class 'float'>\n"
          ]
        }
      ],
      "source": [
        "a = float(a)\n",
        "print (type(a))"
      ]
    },
    {
      "cell_type": "code",
      "execution_count": null,
      "id": "3b4d3754",
      "metadata": {
        "id": "3b4d3754",
        "outputId": "41c57dac-0062-4711-ee59-ebe9d491f3f1"
      },
      "outputs": [
        {
          "name": "stdout",
          "output_type": "stream",
          "text": [
            "hello\n"
          ]
        }
      ],
      "source": [
        "c = \"hello\"\n",
        "print (c)"
      ]
    },
    {
      "cell_type": "code",
      "execution_count": null,
      "id": "c201a57d",
      "metadata": {
        "id": "c201a57d"
      },
      "outputs": [],
      "source": [
        "d = 1+0j"
      ]
    },
    {
      "cell_type": "code",
      "execution_count": null,
      "id": "1278ad2f",
      "metadata": {
        "id": "1278ad2f",
        "outputId": "4daeb3f9-17ce-4d91-bc75-a89e2d88701c"
      },
      "outputs": [
        {
          "name": "stdout",
          "output_type": "stream",
          "text": [
            "<class 'complex'>\n"
          ]
        }
      ],
      "source": [
        "print (type(d))"
      ]
    },
    {
      "cell_type": "code",
      "execution_count": null,
      "id": "eead6d72",
      "metadata": {
        "id": "eead6d72",
        "outputId": "c48ed5ad-723d-4e8b-ef80-4ad7a304e6ae"
      },
      "outputs": [
        {
          "name": "stdout",
          "output_type": "stream",
          "text": [
            "<class 'NoneType'>\n"
          ]
        }
      ],
      "source": [
        "e = None\n",
        "print (type(e))"
      ]
    },
    {
      "cell_type": "code",
      "execution_count": null,
      "id": "bf87a436",
      "metadata": {
        "id": "bf87a436",
        "outputId": "6fb4de42-1e06-4ef0-d1e4-a7d7f4206543"
      },
      "outputs": [
        {
          "name": "stdout",
          "output_type": "stream",
          "text": [
            "<class 'bool'>\n"
          ]
        }
      ],
      "source": [
        "f = True\n",
        "print (type(f))"
      ]
    },
    {
      "cell_type": "markdown",
      "id": "4c7aa2c6",
      "metadata": {},
      "source": [
        "## OPERATORS"
      ]
    },
    {
      "cell_type": "markdown",
      "id": "7b9df3e8",
      "metadata": {},
      "source": [
        "### ARITHMETIC OPERATORS"
      ]
    },
    {
      "cell_type": "code",
      "execution_count": null,
      "id": "0736b49a",
      "metadata": {
        "id": "0736b49a",
        "outputId": "a538bbd9-d6fb-47f3-d853-389b1fdd11e6"
      },
      "outputs": [
        {
          "data": {
            "text/plain": [
              "3.75"
            ]
          },
          "execution_count": 71,
          "metadata": {},
          "output_type": "execute_result"
        }
      ],
      "source": [
        "15/4"
      ]
    },
    {
      "cell_type": "code",
      "execution_count": null,
      "id": "0e9ed8fd",
      "metadata": {
        "id": "0e9ed8fd",
        "outputId": "ca1b7709-e1f2-46d8-cec3-9e85679a6452"
      },
      "outputs": [
        {
          "data": {
            "text/plain": [
              "12"
            ]
          },
          "execution_count": 72,
          "metadata": {},
          "output_type": "execute_result"
        }
      ],
      "source": [
        "10+2"
      ]
    },
    {
      "cell_type": "code",
      "execution_count": null,
      "id": "367787db",
      "metadata": {
        "id": "367787db",
        "outputId": "53d14932-27ce-4cd5-97cc-7d141263fe43"
      },
      "outputs": [
        {
          "data": {
            "text/plain": [
              "9"
            ]
          },
          "execution_count": 73,
          "metadata": {},
          "output_type": "execute_result"
        }
      ],
      "source": [
        "13-4"
      ]
    },
    {
      "cell_type": "code",
      "execution_count": null,
      "id": "a9a9641e",
      "metadata": {
        "id": "a9a9641e",
        "outputId": "2df157c3-ad56-49de-e75a-fe3ff8d115a3"
      },
      "outputs": [
        {
          "name": "stdout",
          "output_type": "stream",
          "text": [
            "36\n"
          ]
        }
      ],
      "source": [
        "print (12*3)"
      ]
    },
    {
      "cell_type": "code",
      "execution_count": null,
      "id": "2fbacb24",
      "metadata": {
        "id": "2fbacb24",
        "outputId": "74cf7bc4-5ff0-4c55-c4fb-e9f567194be3"
      },
      "outputs": [
        {
          "name": "stdout",
          "output_type": "stream",
          "text": [
            "4\n"
          ]
        }
      ],
      "source": [
        "print (18//4)"
      ]
    },
    {
      "cell_type": "code",
      "execution_count": null,
      "id": "db599f78",
      "metadata": {
        "id": "db599f78",
        "outputId": "a679fdb5-8465-4a8e-d095-e795dfe8bdaf"
      },
      "outputs": [
        {
          "data": {
            "text/plain": [
              "2"
            ]
          },
          "execution_count": 76,
          "metadata": {},
          "output_type": "execute_result"
        }
      ],
      "source": [
        "18%4"
      ]
    },
    {
      "cell_type": "code",
      "execution_count": null,
      "id": "837ee113",
      "metadata": {
        "id": "837ee113",
        "outputId": "15a09112-dbbf-462f-9b61-ea9757e6a509"
      },
      "outputs": [
        {
          "data": {
            "text/plain": [
              "(0.0, 103.4)"
            ]
          },
          "execution_count": 77,
          "metadata": {},
          "output_type": "execute_result"
        }
      ],
      "source": [
        "a,b"
      ]
    },
    {
      "cell_type": "code",
      "execution_count": null,
      "id": "8f29bd98",
      "metadata": {
        "id": "8f29bd98",
        "outputId": "86623653-7f71-4b97-96c1-cd2f2657e7f5"
      },
      "outputs": [
        {
          "name": "stdout",
          "output_type": "stream",
          "text": [
            "a+b=  103.4\n",
            "a-b=  -103.4\n",
            "a*b= 0.0\n",
            "a**b=  0.0\n"
          ]
        }
      ],
      "source": [
        "print(\"a+b=\",a+b,sep=\"  \")\n",
        "print(\"a-b=\",a-b,sep=\"  \")\n",
        "print(\"a*b=\", a*b)\n",
        "print (\"a**b=\",a**b, sep=\"  \")"
      ]
    },
    {
      "cell_type": "code",
      "execution_count": null,
      "id": "6c88811f",
      "metadata": {
        "id": "6c88811f",
        "outputId": "56137e60-a4b9-48ba-bacb-5d2abe73d72e"
      },
      "outputs": [
        {
          "data": {
            "text/plain": [
              "0.0"
            ]
          },
          "execution_count": 79,
          "metadata": {},
          "output_type": "execute_result"
        }
      ],
      "source": [
        "a"
      ]
    },
    {
      "cell_type": "code",
      "execution_count": null,
      "id": "2d43aac6",
      "metadata": {
        "id": "2d43aac6",
        "outputId": "4319f0ab-a385-4666-c338-4ccaf85cd403"
      },
      "outputs": [
        {
          "name": "stdout",
          "output_type": "stream",
          "text": [
            "2.0\n"
          ]
        }
      ],
      "source": [
        "a=a+2\n",
        "print (a)"
      ]
    },
    {
      "cell_type": "code",
      "execution_count": null,
      "id": "c0268f90",
      "metadata": {
        "id": "c0268f90",
        "outputId": "2267cf23-28ff-4612-fdf0-91d770a379fa"
      },
      "outputs": [
        {
          "name": "stdout",
          "output_type": "stream",
          "text": [
            "4.0\n"
          ]
        }
      ],
      "source": [
        "a+=2\n",
        "print(a)"
      ]
    },
    {
      "cell_type": "code",
      "execution_count": null,
      "id": "448d16dd",
      "metadata": {
        "id": "448d16dd",
        "outputId": "4b47791f-0122-46a1-8c30-77ca4e7c94dc"
      },
      "outputs": [
        {
          "name": "stdout",
          "output_type": "stream",
          "text": [
            "2.0\n"
          ]
        }
      ],
      "source": [
        "a-=2\n",
        "print(a)"
      ]
    },
    {
      "cell_type": "code",
      "execution_count": null,
      "id": "7a833eb8",
      "metadata": {
        "id": "7a833eb8",
        "outputId": "8ea194ed-1395-49a0-8add-984469c6ddff"
      },
      "outputs": [
        {
          "name": "stdout",
          "output_type": "stream",
          "text": [
            "4.0\n"
          ]
        }
      ],
      "source": [
        "a*=2\n",
        "print (a)"
      ]
    },
    {
      "cell_type": "code",
      "execution_count": null,
      "id": "8dd5de5d",
      "metadata": {
        "id": "8dd5de5d",
        "outputId": "fe7d8008-27d2-46ab-f4de-09d4c5012a38"
      },
      "outputs": [
        {
          "name": "stdout",
          "output_type": "stream",
          "text": [
            "2.0\n"
          ]
        }
      ],
      "source": [
        "a/=2\n",
        "print(a)"
      ]
    },
    {
      "cell_type": "code",
      "execution_count": null,
      "id": "95e8d528",
      "metadata": {
        "id": "95e8d528",
        "outputId": "b8ebab1e-dce9-487c-8f2d-9c9b6e663a87"
      },
      "outputs": [
        {
          "name": "stdout",
          "output_type": "stream",
          "text": [
            "0.0\n"
          ]
        }
      ],
      "source": [
        "a%=2\n",
        "print (a)"
      ]
    },
    {
      "cell_type": "code",
      "execution_count": null,
      "id": "ba13ad22",
      "metadata": {
        "id": "ba13ad22",
        "outputId": "0835f58d-401e-493f-a3b8-6cf1e59fe294"
      },
      "outputs": [
        {
          "data": {
            "text/plain": [
              "True"
            ]
          },
          "execution_count": 86,
          "metadata": {},
          "output_type": "execute_result"
        }
      ],
      "source": [
        "10==10"
      ]
    },
    {
      "cell_type": "code",
      "execution_count": null,
      "id": "af3440aa",
      "metadata": {
        "id": "af3440aa",
        "outputId": "f3d84d75-7d71-4a64-e21b-a6c140d8e7d1"
      },
      "outputs": [
        {
          "data": {
            "text/plain": [
              "65536"
            ]
          },
          "execution_count": 97,
          "metadata": {},
          "output_type": "execute_result"
        }
      ],
      "source": [
        "4**2**3"
      ]
    },
    {
      "cell_type": "code",
      "execution_count": null,
      "id": "8893c6d4",
      "metadata": {
        "id": "8893c6d4",
        "outputId": "71397fed-2652-4bed-ca2a-c95cd083b3bd"
      },
      "outputs": [
        {
          "data": {
            "text/plain": [
              "65536"
            ]
          },
          "execution_count": 98,
          "metadata": {},
          "output_type": "execute_result"
        }
      ],
      "source": [
        "4**8"
      ]
    },
    {
      "cell_type": "markdown",
      "id": "df2727ee",
      "metadata": {},
      "source": [
        "### LOGICAL OPERATORS"
      ]
    },
    {
      "cell_type": "code",
      "execution_count": null,
      "id": "ab0add71",
      "metadata": {
        "id": "ab0add71",
        "outputId": "68444721-0c5f-4af7-d11e-82d30ed9639d"
      },
      "outputs": [
        {
          "data": {
            "text/plain": [
              "False"
            ]
          },
          "execution_count": 87,
          "metadata": {},
          "output_type": "execute_result"
        }
      ],
      "source": [
        "'10'==10"
      ]
    },
    {
      "cell_type": "code",
      "execution_count": null,
      "id": "eade3187",
      "metadata": {
        "id": "eade3187",
        "outputId": "72f715c7-3c85-4ef3-e64a-e10a4b0789e5"
      },
      "outputs": [
        {
          "data": {
            "text/plain": [
              "1"
            ]
          },
          "execution_count": 88,
          "metadata": {},
          "output_type": "execute_result"
        }
      ],
      "source": [
        "1 and 1"
      ]
    },
    {
      "cell_type": "code",
      "execution_count": null,
      "id": "1b8ff70f",
      "metadata": {
        "id": "1b8ff70f",
        "outputId": "3f03f29e-a93f-468c-d104-f829ee89f096"
      },
      "outputs": [
        {
          "data": {
            "text/plain": [
              "False"
            ]
          },
          "execution_count": 89,
          "metadata": {},
          "output_type": "execute_result"
        }
      ],
      "source": [
        "bool(2 and \"\")"
      ]
    },
    {
      "cell_type": "code",
      "execution_count": null,
      "id": "d90305e1",
      "metadata": {
        "id": "d90305e1",
        "outputId": "48c8b197-74c1-4344-88b6-e72d37642d62"
      },
      "outputs": [
        {
          "data": {
            "text/plain": [
              "False"
            ]
          },
          "execution_count": 90,
          "metadata": {},
          "output_type": "execute_result"
        }
      ],
      "source": [
        "bool(None)"
      ]
    },
    {
      "cell_type": "code",
      "execution_count": null,
      "id": "d814c468",
      "metadata": {
        "id": "d814c468",
        "outputId": "5085fdcb-e86c-4c4a-be5e-229d3a551750"
      },
      "outputs": [
        {
          "data": {
            "text/plain": [
              "False"
            ]
          },
          "execution_count": 91,
          "metadata": {},
          "output_type": "execute_result"
        }
      ],
      "source": [
        "bool(\"\")"
      ]
    },
    {
      "cell_type": "code",
      "execution_count": null,
      "id": "13843b8c",
      "metadata": {
        "id": "13843b8c",
        "outputId": "7c086846-e434-45b1-d912-25a14cf7b9bb"
      },
      "outputs": [
        {
          "data": {
            "text/plain": [
              "False"
            ]
          },
          "execution_count": 92,
          "metadata": {},
          "output_type": "execute_result"
        }
      ],
      "source": [
        "bool(0)"
      ]
    },
    {
      "cell_type": "code",
      "execution_count": null,
      "id": "090f899f",
      "metadata": {
        "id": "090f899f",
        "outputId": "632b4278-6f4c-4ba0-a8d6-4d66f79606de"
      },
      "outputs": [
        {
          "data": {
            "text/plain": [
              "False"
            ]
          },
          "execution_count": 93,
          "metadata": {},
          "output_type": "execute_result"
        }
      ],
      "source": [
        "bool({})"
      ]
    },
    {
      "cell_type": "code",
      "execution_count": null,
      "id": "4ca65d79",
      "metadata": {
        "id": "4ca65d79",
        "outputId": "a4f90c73-bc63-4e42-eca3-c432589b21f0"
      },
      "outputs": [
        {
          "data": {
            "text/plain": [
              "False"
            ]
          },
          "execution_count": 94,
          "metadata": {},
          "output_type": "execute_result"
        }
      ],
      "source": [
        "bool([])"
      ]
    },
    {
      "cell_type": "code",
      "execution_count": null,
      "id": "c3894896",
      "metadata": {
        "id": "c3894896",
        "outputId": "d7f27e55-2c0b-4f1c-ae2d-3fa8d6ba4156"
      },
      "outputs": [
        {
          "data": {
            "text/plain": [
              "True"
            ]
          },
          "execution_count": 95,
          "metadata": {},
          "output_type": "execute_result"
        }
      ],
      "source": [
        "1 and 0 or True"
      ]
    },
    {
      "cell_type": "code",
      "execution_count": null,
      "id": "c42704c6",
      "metadata": {
        "id": "c42704c6",
        "outputId": "c08fdb4b-f808-4f03-ff56-38899cce360c"
      },
      "outputs": [
        {
          "data": {
            "text/plain": [
              "1"
            ]
          },
          "execution_count": 96,
          "metadata": {},
          "output_type": "execute_result"
        }
      ],
      "source": [
        "1 or 0 and True"
      ]
    },
    {
      "cell_type": "code",
      "execution_count": null,
      "id": "dca82cf8",
      "metadata": {
        "id": "dca82cf8",
        "outputId": "61669455-9449-413d-eac0-35a706d71507"
      },
      "outputs": [
        {
          "data": {
            "text/plain": [
              "False"
            ]
          },
          "execution_count": 99,
          "metadata": {},
          "output_type": "execute_result"
        }
      ],
      "source": [
        "not 1"
      ]
    },
    {
      "cell_type": "code",
      "execution_count": null,
      "id": "19600c60",
      "metadata": {
        "id": "19600c60",
        "outputId": "d4e90af8-0876-4fce-eb50-81a0efae6d25"
      },
      "outputs": [
        {
          "data": {
            "text/plain": [
              "False"
            ]
          },
          "execution_count": 100,
          "metadata": {},
          "output_type": "execute_result"
        }
      ],
      "source": [
        "not True"
      ]
    },
    {
      "cell_type": "code",
      "execution_count": null,
      "id": "4e340a64",
      "metadata": {
        "id": "4e340a64",
        "outputId": "bfef9fff-ce38-460e-955e-88b409cc6929"
      },
      "outputs": [
        {
          "data": {
            "text/plain": [
              "True"
            ]
          },
          "execution_count": 101,
          "metadata": {},
          "output_type": "execute_result"
        }
      ],
      "source": [
        "not 0"
      ]
    },
    {
      "cell_type": "markdown",
      "id": "11356ff3",
      "metadata": {},
      "source": [
        "### BITWISE OPERATORS"
      ]
    },
    {
      "cell_type": "code",
      "execution_count": null,
      "id": "404d5de9",
      "metadata": {
        "id": "404d5de9",
        "outputId": "41bf3962-5f2f-430a-faea-608e0c42e052"
      },
      "outputs": [
        {
          "data": {
            "text/plain": [
              "0"
            ]
          },
          "execution_count": 102,
          "metadata": {},
          "output_type": "execute_result"
        }
      ],
      "source": [
        "7 & 8"
      ]
    },
    {
      "cell_type": "code",
      "execution_count": null,
      "id": "cb1fc007",
      "metadata": {
        "id": "cb1fc007",
        "outputId": "49a71093-3a81-4c77-cd84-8ab8521be53c"
      },
      "outputs": [
        {
          "data": {
            "text/plain": [
              "15"
            ]
          },
          "execution_count": 103,
          "metadata": {},
          "output_type": "execute_result"
        }
      ],
      "source": [
        "7|8"
      ]
    },
    {
      "cell_type": "code",
      "execution_count": null,
      "id": "62b738a8",
      "metadata": {
        "id": "62b738a8",
        "outputId": "4ed489e8-7efe-4739-e4cd-f985f659ef08"
      },
      "outputs": [
        {
          "data": {
            "text/plain": [
              "15"
            ]
          },
          "execution_count": 104,
          "metadata": {},
          "output_type": "execute_result"
        }
      ],
      "source": [
        "0b1111"
      ]
    },
    {
      "cell_type": "code",
      "execution_count": null,
      "id": "c287ddbb",
      "metadata": {
        "id": "c287ddbb",
        "outputId": "16a92040-dc3a-40e5-b9b0-e255ee216aa2"
      },
      "outputs": [
        {
          "data": {
            "text/plain": [
              "4369"
            ]
          },
          "execution_count": 105,
          "metadata": {},
          "output_type": "execute_result"
        }
      ],
      "source": [
        "0x1111"
      ]
    },
    {
      "cell_type": "code",
      "execution_count": null,
      "id": "7bb70679",
      "metadata": {
        "id": "7bb70679",
        "outputId": "37f319fc-9bbe-4bd4-a9f6-d76411992c02"
      },
      "outputs": [
        {
          "data": {
            "text/plain": [
              "15"
            ]
          },
          "execution_count": 106,
          "metadata": {},
          "output_type": "execute_result"
        }
      ],
      "source": [
        "0xf"
      ]
    },
    {
      "cell_type": "code",
      "execution_count": null,
      "id": "6127e550",
      "metadata": {
        "id": "6127e550",
        "outputId": "c385e4c5-1be0-45e4-994e-344e09d6f50b"
      },
      "outputs": [
        {
          "data": {
            "text/plain": [
              "73"
            ]
          },
          "execution_count": 107,
          "metadata": {},
          "output_type": "execute_result"
        }
      ],
      "source": [
        "0o111"
      ]
    },
    {
      "cell_type": "code",
      "execution_count": null,
      "id": "01b779f2",
      "metadata": {
        "id": "01b779f2",
        "outputId": "3d232751-4493-4399-962a-e54a046f8c2f"
      },
      "outputs": [
        {
          "data": {
            "text/plain": [
              "585"
            ]
          },
          "execution_count": 108,
          "metadata": {},
          "output_type": "execute_result"
        }
      ],
      "source": [
        "0o1111"
      ]
    },
    {
      "cell_type": "code",
      "execution_count": null,
      "id": "36fd366a",
      "metadata": {
        "id": "36fd366a",
        "outputId": "0be6fc63-a71f-4187-ee6c-49cd076a05c4"
      },
      "outputs": [
        {
          "data": {
            "text/plain": [
              "-11"
            ]
          },
          "execution_count": 109,
          "metadata": {},
          "output_type": "execute_result"
        }
      ],
      "source": [
        "~10"
      ]
    },
    {
      "cell_type": "code",
      "execution_count": null,
      "id": "46966fd1",
      "metadata": {
        "id": "46966fd1",
        "outputId": "d95baaaa-a12e-4cb2-fcf1-474f23e0bec5"
      },
      "outputs": [
        {
          "data": {
            "text/plain": [
              "10"
            ]
          },
          "execution_count": 110,
          "metadata": {},
          "output_type": "execute_result"
        }
      ],
      "source": [
        "~-11"
      ]
    },
    {
      "cell_type": "code",
      "execution_count": null,
      "id": "0436ba36",
      "metadata": {
        "id": "0436ba36",
        "outputId": "45631ac6-303a-4888-bbfd-1067f65e13b6"
      },
      "outputs": [
        {
          "data": {
            "text/plain": [
              "15"
            ]
          },
          "execution_count": 111,
          "metadata": {},
          "output_type": "execute_result"
        }
      ],
      "source": [
        "7^8"
      ]
    },
    {
      "cell_type": "code",
      "execution_count": null,
      "id": "fbba0449",
      "metadata": {
        "id": "fbba0449",
        "outputId": "e6f8b600-6e44-4035-e820-ec6fd94d1284"
      },
      "outputs": [
        {
          "data": {
            "text/plain": [
              "0"
            ]
          },
          "execution_count": 112,
          "metadata": {},
          "output_type": "execute_result"
        }
      ],
      "source": [
        "8^8"
      ]
    },
    {
      "cell_type": "code",
      "execution_count": null,
      "id": "b6fefbf7",
      "metadata": {
        "id": "b6fefbf7",
        "outputId": "ec756455-b9f0-4c54-c7ef-519447f466ec"
      },
      "outputs": [
        {
          "data": {
            "text/plain": [
              "1"
            ]
          },
          "execution_count": 117,
          "metadata": {},
          "output_type": "execute_result"
        }
      ],
      "source": [
        "7>>2"
      ]
    },
    {
      "cell_type": "code",
      "execution_count": null,
      "id": "e5adae58",
      "metadata": {
        "id": "e5adae58",
        "outputId": "8a4e8d10-f44f-4c45-d427-148c987f6541"
      },
      "outputs": [
        {
          "data": {
            "text/plain": [
              "28"
            ]
          },
          "execution_count": 118,
          "metadata": {},
          "output_type": "execute_result"
        }
      ],
      "source": [
        "7<<2"
      ]
    },
    {
      "cell_type": "markdown",
      "id": "dd4f1f37",
      "metadata": {},
      "source": [
        "## BUILT-IN FUNCTIONS"
      ]
    },
    {
      "cell_type": "code",
      "execution_count": null,
      "id": "6aa8e73c",
      "metadata": {
        "id": "6aa8e73c",
        "outputId": "34de10ae-3d83-463a-e568-803f2bd20669"
      },
      "outputs": [
        {
          "data": {
            "text/plain": [
              "'A'"
            ]
          },
          "execution_count": 126,
          "metadata": {},
          "output_type": "execute_result"
        }
      ],
      "source": [
        "chr(65)"
      ]
    },
    {
      "cell_type": "code",
      "execution_count": null,
      "id": "653cf1e0",
      "metadata": {
        "id": "653cf1e0",
        "outputId": "5d179f12-5d50-443f-d965-aefff114ea57"
      },
      "outputs": [
        {
          "data": {
            "text/plain": [
              "65"
            ]
          },
          "execution_count": 127,
          "metadata": {},
          "output_type": "execute_result"
        }
      ],
      "source": [
        "ord('A')"
      ]
    },
    {
      "cell_type": "code",
      "execution_count": null,
      "id": "a4d14d8d",
      "metadata": {
        "id": "a4d14d8d",
        "outputId": "eab5bf60-4c98-43dc-97e8-fc0b0388f36b"
      },
      "outputs": [
        {
          "data": {
            "text/plain": [
              "48"
            ]
          },
          "execution_count": 128,
          "metadata": {},
          "output_type": "execute_result"
        }
      ],
      "source": [
        "ord('0')"
      ]
    },
    {
      "cell_type": "code",
      "execution_count": null,
      "id": "770d2cb7",
      "metadata": {
        "id": "770d2cb7",
        "outputId": "14cc4703-4348-4fae-b9e7-c3b1d159e713"
      },
      "outputs": [
        {
          "data": {
            "text/plain": [
              "'\\t'"
            ]
          },
          "execution_count": 129,
          "metadata": {},
          "output_type": "execute_result"
        }
      ],
      "source": [
        "chr(9)"
      ]
    },
    {
      "cell_type": "code",
      "execution_count": null,
      "id": "6be87a4c",
      "metadata": {
        "id": "6be87a4c",
        "outputId": "592dc3d7-d7b0-41cf-d9be-d1837ef98458"
      },
      "outputs": [
        {
          "name": "stdout",
          "output_type": "stream",
          "text": [
            "140348511912464\n"
          ]
        }
      ],
      "source": [
        "print (id(a))"
      ]
    },
    {
      "cell_type": "markdown",
      "id": "23b82bc9",
      "metadata": {},
      "source": [
        "# IF-ELSE STATEMENTS"
      ]
    },
    {
      "cell_type": "code",
      "execution_count": null,
      "id": "cbe2724e",
      "metadata": {
        "id": "cbe2724e",
        "outputId": "c30964a0-83b0-42ef-d341-ab15fd74d816"
      },
      "outputs": [
        {
          "name": "stdout",
          "output_type": "stream",
          "text": [
            "POSITIVE\n",
            "10\n"
          ]
        }
      ],
      "source": [
        "num = 10\n",
        "if num>0:\n",
        "    print (\"POSITIVE\")\n",
        "    print (num)\n",
        "else:\n",
        "    print (\"NEGATIVE\")"
      ]
    },
    {
      "cell_type": "code",
      "execution_count": null,
      "id": "60c537d8",
      "metadata": {
        "id": "60c537d8",
        "outputId": "05ce33ff-5eff-4a0b-9ad5-33d5cfac5c83"
      },
      "outputs": [
        {
          "ename": "IndentationError",
          "evalue": "unexpected indent (3346571938.py, line 4)",
          "output_type": "error",
          "traceback": [
            "\u001b[0;36m  Cell \u001b[0;32mIn[114], line 4\u001b[0;36m\u001b[0m\n\u001b[0;31m    print (num)\u001b[0m\n\u001b[0m    ^\u001b[0m\n\u001b[0;31mIndentationError\u001b[0m\u001b[0;31m:\u001b[0m unexpected indent\n"
          ]
        }
      ],
      "source": [
        "num = 10\n",
        "if num>0:\n",
        "    print (\"POSITIVE\")\n",
        "       print (num)\n",
        "    else:\n",
        "    print (\"NEGATIVE\")"
      ]
    },
    {
      "cell_type": "code",
      "execution_count": null,
      "id": "993a833f",
      "metadata": {
        "id": "993a833f",
        "outputId": "bdbce9f1-0289-419e-ccf1-8531e82917ea"
      },
      "outputs": [
        {
          "ename": "SyntaxError",
          "evalue": "incomplete input (3316007750.py, line 2)",
          "output_type": "error",
          "traceback": [
            "\u001b[0;36m  Cell \u001b[0;32mIn[115], line 2\u001b[0;36m\u001b[0m\n\u001b[0;31m    if num>0:\u001b[0m\n\u001b[0m             ^\u001b[0m\n\u001b[0;31mSyntaxError\u001b[0m\u001b[0;31m:\u001b[0m incomplete input\n"
          ]
        }
      ],
      "source": [
        "num = 10\n",
        "if num>0:"
      ]
    },
    {
      "cell_type": "code",
      "execution_count": null,
      "id": "d5a26990",
      "metadata": {
        "id": "d5a26990"
      },
      "outputs": [],
      "source": [
        "num = 10\n",
        "if num>0:\n",
        "   pass"
      ]
    },
    {
      "cell_type": "code",
      "execution_count": null,
      "id": "8d1f22e5",
      "metadata": {
        "id": "8d1f22e5",
        "outputId": "8f21b94b-f146-43e1-c2b3-65c1b1d9c83f"
      },
      "outputs": [
        {
          "name": "stdout",
          "output_type": "stream",
          "text": [
            "false statement \n"
          ]
        }
      ],
      "source": [
        "if False:\n",
        "    print (\"true statement\")\n",
        "else:\n",
        "    print (\"false statement \")"
      ]
    },
    {
      "cell_type": "code",
      "execution_count": null,
      "id": "4ed26683",
      "metadata": {
        "id": "4ed26683",
        "outputId": "a701bb94-983c-43c8-85bd-a7418b33e292"
      },
      "outputs": [
        {
          "name": "stdout",
          "output_type": "stream",
          "text": [
            "114  is even\n"
          ]
        }
      ],
      "source": [
        "num = 114\n",
        "if num%2:\n",
        "    print (num,\" is odd\")\n",
        "else:\n",
        "    print (num,\" is even\")"
      ]
    },
    {
      "cell_type": "code",
      "execution_count": null,
      "id": "bb446fc7",
      "metadata": {
        "id": "bb446fc7",
        "outputId": "ed86f447-440b-4081-90f9-7e013f891179"
      },
      "outputs": [
        {
          "name": "stdout",
          "output_type": "stream",
          "text": [
            "\n"
          ]
        }
      ],
      "source": [
        "print (input(\"enter a number\"))"
      ]
    },
    {
      "cell_type": "code",
      "execution_count": null,
      "id": "597426d8",
      "metadata": {
        "id": "597426d8",
        "outputId": "7680f945-f6ed-4281-c2eb-76973c9b1565"
      },
      "outputs": [
        {
          "name": "stdout",
          "output_type": "stream",
          "text": [
            "<class 'int'>\n"
          ]
        }
      ],
      "source": [
        "num = int(input('enter a number'))\n",
        "print (type(num))"
      ]
    },
    {
      "cell_type": "code",
      "execution_count": null,
      "id": "1b6c6b0d",
      "metadata": {
        "id": "1b6c6b0d",
        "outputId": "ab1a24b4-b778-4349-fdb7-65f48cbcfaf7"
      },
      "outputs": [
        {
          "name": "stdout",
          "output_type": "stream",
          "text": [
            "12  is even\n"
          ]
        }
      ],
      "source": [
        "num =  int(input('enter a number'))\n",
        "if num%2:\n",
        "    print (num,\" is odd\")\n",
        "else:\n",
        "    print (num,\" is even\")"
      ]
    },
    {
      "cell_type": "code",
      "execution_count": null,
      "id": "b4aff987",
      "metadata": {
        "id": "b4aff987",
        "outputId": "5ff9f6b3-f78c-4afe-cebe-21ce6a57e4bb"
      },
      "outputs": [
        {
          "name": "stdout",
          "output_type": "stream",
          "text": [
            "156  is even\n"
          ]
        }
      ],
      "source": [
        "num =  int(input('enter a number'))\n",
        "if num%2:\n",
        "    print (num,\" is odd\")\n",
        "else:\n",
        "    print (num,\" is even\")"
      ]
    },
    {
      "cell_type": "markdown",
      "id": "7adf78c7",
      "metadata": {},
      "source": [
        "# USING SPECIAL CHARACTERS"
      ]
    },
    {
      "cell_type": "code",
      "execution_count": null,
      "id": "bd1f78a5",
      "metadata": {
        "id": "bd1f78a5",
        "outputId": "21c59d5e-9d0b-4807-c2e0-239fec6b64cc"
      },
      "outputs": [
        {
          "name": "stdout",
          "output_type": "stream",
          "text": [
            "It is \"Python\"\n"
          ]
        }
      ],
      "source": [
        "print('It is \"Python\"')"
      ]
    },
    {
      "cell_type": "code",
      "execution_count": null,
      "id": "9eaa26c1",
      "metadata": {
        "id": "9eaa26c1",
        "outputId": "38aaaccb-922d-46a5-f4f7-4b3b7b916fcb"
      },
      "outputs": [
        {
          "name": "stdout",
          "output_type": "stream",
          "text": [
            "it's python\n"
          ]
        }
      ],
      "source": [
        "print (\"it's python\")"
      ]
    },
    {
      "cell_type": "code",
      "execution_count": null,
      "id": "92552704",
      "metadata": {
        "id": "92552704",
        "outputId": "2f9aad7d-8687-4df2-e4d0-6ca4c6ca22d0"
      },
      "outputs": [
        {
          "name": "stdout",
          "output_type": "stream",
          "text": [
            "it's \"python\"\n"
          ]
        }
      ],
      "source": [
        "print ('it\\'s \"python\"')"
      ]
    },
    {
      "cell_type": "code",
      "execution_count": null,
      "id": "c2537bac",
      "metadata": {
        "id": "c2537bac",
        "outputId": "e0778028-4ad7-44ce-a73a-c6a89a625aa7"
      },
      "outputs": [
        {
          "name": "stdout",
          "output_type": "stream",
          "text": [
            "it's \"python\"\n"
          ]
        }
      ],
      "source": [
        "print (\"it's \\\"python\\\"\")"
      ]
    },
    {
      "cell_type": "code",
      "execution_count": null,
      "id": "400985c6",
      "metadata": {
        "id": "400985c6",
        "outputId": "50d8e538-24f3-41bc-def7-6062e267eba5"
      },
      "outputs": [
        {
          "name": "stdout",
          "output_type": "stream",
          "text": [
            "\\n is for new line\n"
          ]
        }
      ],
      "source": [
        "print (\"\\\\n is for new line\")"
      ]
    },
    {
      "cell_type": "code",
      "execution_count": null,
      "id": "29f7478b",
      "metadata": {
        "id": "29f7478b",
        "outputId": "fb3b722c-c9b1-49b7-f1a9-164a2093d62d"
      },
      "outputs": [
        {
          "name": "stdout",
          "output_type": "stream",
          "text": [
            "it's \"\\t\" for tab space\n"
          ]
        }
      ],
      "source": [
        "print ('it\\'s \"\\\\t\" for tab space')"
      ]
    },
    {
      "cell_type": "code",
      "execution_count": null,
      "id": "24bb5f8a",
      "metadata": {
        "id": "24bb5f8a",
        "outputId": "7f2531db-0576-474b-b7a3-3e263847ab94"
      },
      "outputs": [
        {
          "name": "stdout",
          "output_type": "stream",
          "text": [
            "/home/quastech/yash/pytho.ipynb\n"
          ]
        }
      ],
      "source": [
        "print (\"/home/quastech/yash/pytho.ipynb\")"
      ]
    },
    {
      "cell_type": "code",
      "execution_count": null,
      "id": "3813aacf",
      "metadata": {
        "id": "3813aacf",
        "outputId": "c1f583cd-3c52-4264-dbd2-14b6ab026bc0"
      },
      "outputs": [
        {
          "name": "stdout",
          "output_type": "stream",
          "text": [
            "\\t\\n\n"
          ]
        }
      ],
      "source": [
        "print(r'\\t\\n')"
      ]
    },
    {
      "cell_type": "markdown",
      "id": "f2059dde",
      "metadata": {},
      "source": [
        "# TERNARY OPERATOR"
      ]
    },
    {
      "cell_type": "code",
      "execution_count": null,
      "id": "75d2e15a",
      "metadata": {
        "id": "75d2e15a",
        "outputId": "ed80bb41-d530-4d02-f13d-7c12d6289739"
      },
      "outputs": [
        {
          "name": "stdout",
          "output_type": "stream",
          "text": [
            "5\n"
          ]
        }
      ],
      "source": [
        "age = 10\n",
        "t = 0\n",
        "if age > 12:\n",
        "    t = 10\n",
        "else:\n",
        "    t = 5\n",
        "print(t)"
      ]
    },
    {
      "cell_type": "code",
      "execution_count": null,
      "id": "1f911c89",
      "metadata": {
        "id": "1f911c89",
        "outputId": "8867dc21-6186-44e2-bc2e-5b2aae09baff"
      },
      "outputs": [
        {
          "name": "stdout",
          "output_type": "stream",
          "text": [
            "10\n"
          ]
        }
      ],
      "source": [
        "age = 19\n",
        "t = 10 if age>12 else 5\n",
        "print(t)"
      ]
    },
    {
      "cell_type": "code",
      "execution_count": null,
      "id": "f2e27586",
      "metadata": {
        "id": "f2e27586",
        "outputId": "51dfbba8-8206-408d-e955-1cdb38ec11a2"
      },
      "outputs": [
        {
          "name": "stdout",
          "output_type": "stream",
          "text": [
            "20 is even\n"
          ]
        }
      ],
      "source": [
        "num = 20\n",
        "result= f\"{num} is odd\" if num%2 else f\"{num} is even\"\n",
        "print(result)"
      ]
    },
    {
      "cell_type": "markdown",
      "id": "8f8fe11f",
      "metadata": {},
      "source": [
        "# SWAP PROGRAM"
      ]
    },
    {
      "cell_type": "code",
      "execution_count": null,
      "id": "9addd4b9",
      "metadata": {
        "id": "9addd4b9",
        "outputId": "a31e333c-fe0f-42ed-ad62-e343872c1a26"
      },
      "outputs": [
        {
          "name": "stdout",
          "output_type": "stream",
          "text": [
            "20 10\n"
          ]
        }
      ],
      "source": [
        "a=10\n",
        "b=20\n",
        "c=a\n",
        "a=b\n",
        "b=c\n",
        "print (a,b)"
      ]
    },
    {
      "cell_type": "code",
      "execution_count": null,
      "id": "f82b29f0",
      "metadata": {
        "id": "f82b29f0",
        "outputId": "5c273dee-569d-498b-bdcb-282659a3ab87"
      },
      "outputs": [
        {
          "name": "stdout",
          "output_type": "stream",
          "text": [
            "20 10\n"
          ]
        }
      ],
      "source": [
        "a=10\n",
        "b=20\n",
        "a,b=b,a\n",
        "print (a,b)"
      ]
    },
    {
      "cell_type": "code",
      "execution_count": null,
      "id": "b209c50c",
      "metadata": {
        "id": "b209c50c",
        "outputId": "71cd787a-7419-4bff-8c59-79873701480b"
      },
      "outputs": [
        {
          "name": "stdout",
          "output_type": "stream",
          "text": [
            "20 10\n"
          ]
        }
      ],
      "source": [
        "a=10\n",
        "b=20\n",
        "a=a+b\n",
        "b=a-b\n",
        "a=a-b\n",
        "print(a,b)"
      ]
    },
    {
      "cell_type": "code",
      "execution_count": null,
      "id": "0d8e2753",
      "metadata": {
        "id": "0d8e2753",
        "outputId": "266a2adf-8644-4e34-df76-2e39588156a7"
      },
      "outputs": [
        {
          "name": "stdout",
          "output_type": "stream",
          "text": [
            "20 is greater than 10\n"
          ]
        }
      ],
      "source": [
        "# if-else\n",
        "\n",
        "a, b = 10, 20\n",
        "\n",
        "if a > b:\n",
        "    print(f\"{a} is greater than {b}\")\n",
        "else:\n",
        "    print(f\"{b} is greater than {a}\")"
      ]
    },
    {
      "cell_type": "code",
      "execution_count": null,
      "id": "dc75bbf9",
      "metadata": {
        "id": "dc75bbf9",
        "outputId": "fe0aba40-f7d6-490c-cc24-d5f07f3e878a"
      },
      "outputs": [
        {
          "name": "stdout",
          "output_type": "stream",
          "text": [
            "40 is greater than 30 and 20\n"
          ]
        }
      ],
      "source": [
        "# comparing 3 numbers using if-else\n",
        "\n",
        "a, b, c = 40, 30, 20\n",
        "\n",
        "if (a > b):\n",
        "    if (a > c):\n",
        "        print(f\"{a} is greater than {b} and {c}\")\n",
        "else:\n",
        "    if (b > c):\n",
        "        print(f\"{b} is greater than {a} and {c}\")\n",
        "    else:\n",
        "        print(f\"{c} is greater than {a} and {b}\")"
      ]
    },
    {
      "cell_type": "code",
      "execution_count": null,
      "id": "b53a4e2c",
      "metadata": {
        "id": "b53a4e2c",
        "outputId": "413474b7-8c61-482a-d427-ac0839dad3d7"
      },
      "outputs": [
        {
          "name": "stdout",
          "output_type": "stream",
          "text": [
            "50 is greater than 40 and 30\n"
          ]
        }
      ],
      "source": [
        "# comparing 3 numbers using elif\n",
        "\n",
        "a, b, c = 40, 30, 50\n",
        "\n",
        "if (a > b) and (a > c):\n",
        "    print(f\"{a} is greater than {b} and {c}\")\n",
        "elif (b > c):\n",
        "    print(f\"{b} is greater than {a} and {c}\")\n",
        "else:\n",
        "    print(f\"{c} is greater than {a} and {b}\")"
      ]
    },
    {
      "cell_type": "markdown",
      "id": "6c4d1691",
      "metadata": {},
      "source": [
        "# STRINGS"
      ]
    },
    {
      "cell_type": "markdown",
      "id": "b8e6146c",
      "metadata": {},
      "source": [
        "## STRING INDEXING AND SLICINGS"
      ]
    },
    {
      "cell_type": "code",
      "execution_count": null,
      "id": "d486d94d",
      "metadata": {},
      "outputs": [
        {
          "data": {
            "text/plain": [
              "' '"
            ]
          },
          "metadata": {},
          "output_type": "display_data"
        }
      ],
      "source": [
        "s = \"Hello World\"\n",
        "s[5]"
      ]
    },
    {
      "cell_type": "code",
      "execution_count": null,
      "id": "8a3d3821",
      "metadata": {},
      "outputs": [
        {
          "data": {
            "text/plain": [
              "'Hello World'"
            ]
          },
          "metadata": {},
          "output_type": "display_data"
        }
      ],
      "source": [
        "s = 'Hello World'\n",
        "s[0:11]"
      ]
    },
    {
      "cell_type": "code",
      "execution_count": null,
      "id": "5947dae2",
      "metadata": {},
      "outputs": [
        {
          "data": {
            "text/plain": [
              "'Hello World'"
            ]
          },
          "metadata": {},
          "output_type": "display_data"
        }
      ],
      "source": [
        "s[:]"
      ]
    },
    {
      "cell_type": "code",
      "execution_count": null,
      "id": "d6bd69f5",
      "metadata": {},
      "outputs": [
        {
          "data": {
            "text/plain": [
              "'0123456789'"
            ]
          },
          "metadata": {},
          "output_type": "display_data"
        }
      ],
      "source": [
        "s = \"0123456789\"\n",
        "s[0:len(s):1]"
      ]
    },
    {
      "cell_type": "code",
      "execution_count": null,
      "id": "2d35f79b",
      "metadata": {},
      "outputs": [
        {
          "data": {
            "text/plain": [
              "'9'"
            ]
          },
          "metadata": {},
          "output_type": "display_data"
        }
      ],
      "source": [
        "s[-1]"
      ]
    },
    {
      "cell_type": "code",
      "execution_count": null,
      "id": "e8a49eca",
      "metadata": {},
      "outputs": [
        {
          "data": {
            "text/plain": [
              "'9876543210'"
            ]
          },
          "metadata": {},
          "output_type": "display_data"
        }
      ],
      "source": [
        "s[::-1]"
      ]
    },
    {
      "cell_type": "code",
      "execution_count": null,
      "id": "d3961955",
      "metadata": {},
      "outputs": [
        {
          "name": "stdout",
          "output_type": "stream",
          "text": [
            "02468\n",
            "13579\n",
            "9876543210\n"
          ]
        }
      ],
      "source": [
        "print(s[0::2]) # print even indexes\n",
        "print(s[1::2]) # print odd indexes\n",
        "print(s[::-1]) # print in reverse"
      ]
    },
    {
      "cell_type": "code",
      "execution_count": null,
      "id": "6be0e8df",
      "metadata": {},
      "outputs": [
        {
          "name": "stdout",
          "output_type": "stream",
          "text": [
            "5432\n"
          ]
        }
      ],
      "source": [
        "print(s[5:1:-1])"
      ]
    },
    {
      "cell_type": "code",
      "execution_count": null,
      "id": "849aaae6",
      "metadata": {},
      "outputs": [
        {
          "name": "stdout",
          "output_type": "stream",
          "text": [
            "97531\n",
            "86420\n"
          ]
        }
      ],
      "source": [
        "print(s[::-2]) # print odd indexes in reverse\n",
        "print(s[-2::-2]) # print even indexes in reverse"
      ]
    },
    {
      "cell_type": "code",
      "execution_count": null,
      "id": "56c1c2fc",
      "metadata": {},
      "outputs": [
        {
          "name": "stdout",
          "output_type": "stream",
          "text": [
            "ej\n",
            "adgj\n",
            "fa\n",
            "heb\n",
            "jfb\n"
          ]
        }
      ],
      "source": [
        "s = \"abcdefghij\" # practice\n",
        "print(s[4::5])\n",
        "print(s[::3])\n",
        "print(s[5::-5])\n",
        "print(s[7:0:-3])\n",
        "print(s[:0:-4])"
      ]
    },
    {
      "cell_type": "markdown",
      "id": "42be0ce3",
      "metadata": {},
      "source": [
        "## STRING METHODS"
      ]
    },
    {
      "cell_type": "code",
      "execution_count": null,
      "id": "343b5e0a",
      "metadata": {},
      "outputs": [
        {
          "name": "stdout",
          "output_type": "stream",
          "text": [
            "uppercase: HELLO WORLD\n",
            "lowercase: hello world\n",
            "title case: Hello World\n",
            "capitalised: Hello world\n",
            "index of 'W': 6\n",
            "found 'r' at: 8\n",
            "count of 'l': 3\n",
            "casefold: hello world\n",
            "split using ' ': ['Hello', 'World']\n",
            "replaced 'H' with 'j': Jello World\n"
          ]
        },
        {
          "data": {
            "text/plain": [
              "'Hello=World=this=is=python'"
            ]
          },
          "metadata": {},
          "output_type": "display_data"
        }
      ],
      "source": [
        "# string methods\n",
        "\n",
        "s = \"Hello World\"\n",
        "\n",
        "print(\"uppercase:\", s.upper())\n",
        "print(\"lowercase:\", s.lower())\n",
        "print(\"title case:\", s.title())\n",
        "print(\"capitalised:\", s.capitalize())\n",
        "print(\"index of 'W':\", s.index(\"W\"))\n",
        "print(\"found 'r' at:\", s.find(\"r\"))\n",
        "print(\"count of 'l':\", s.count(\"l\"))\n",
        "print(\"casefold:\", s.casefold())\n",
        "print(\"split using ' ':\", s.split(\" \"))\n",
        "print(\"replaced 'H' with 'j':\", s.replace(\"H\", \"J\"))\n",
        "\"=\".join(['Hello', 'World', 'this', 'is', 'python'])\n"
      ]
    },
    {
      "cell_type": "code",
      "execution_count": null,
      "id": "20b14a55",
      "metadata": {},
      "outputs": [
        {
          "name": "stdout",
          "output_type": "stream",
          "text": [
            "removed whitespace from left only: Hello        world             \n",
            "removed whitespace from right only:             Hello        world\n",
            "removed whitespace from both sides: Hello        world\n"
          ]
        }
      ],
      "source": [
        "# string methods\n",
        "\n",
        "s = \"            Hello        world             \"\n",
        "\n",
        "print(\"removed whitespace from left only:\", s.lstrip())\n",
        "print(\"removed whitespace from right only:\", s.rstrip())\n",
        "print(\"removed whitespace from both sides:\", s.strip())"
      ]
    },
    {
      "cell_type": "code",
      "execution_count": null,
      "id": "050c541d",
      "metadata": {},
      "outputs": [
        {
          "name": "stdout",
          "output_type": "stream",
          "text": [
            "apple*****\n",
            "-----apple\n",
            "~~~~~~~~~~~~~~~~~~~~~~apple~~~~~~~~~~~~~~~~~~~~~~~\n"
          ]
        }
      ],
      "source": [
        "# string methods\n",
        "\n",
        "s = \"apple\"\n",
        "\n",
        "ljust_text = s.ljust(10, \"*\")\n",
        "rjust_text = s.rjust(10, \"-\")\n",
        "center_text = s.center(50, \"~\")\n",
        "\n",
        "print(ljust_text)\n",
        "print(rjust_text)\n",
        "print(center_text)\n"
      ]
    },
    {
      "cell_type": "code",
      "execution_count": null,
      "id": "0d8973f7",
      "metadata": {},
      "outputs": [
        {
          "name": "stdout",
          "output_type": "stream",
          "text": [
            "HeLLO wOrLD\n"
          ]
        }
      ],
      "source": [
        "# string methods\n",
        "\n",
        "s = \"hEllo WoRld\"\n",
        "\n",
        "print(s.swapcase())"
      ]
    },
    {
      "cell_type": "code",
      "execution_count": null,
      "id": "1fb1b62b",
      "metadata": {},
      "outputs": [
        {
          "name": "stdout",
          "output_type": "stream",
          "text": [
            "['Hello', ' World', ' this is Python']\n"
          ]
        }
      ],
      "source": [
        "# string methods\n",
        "\n",
        "s = \"Hello\\n World\\n this is Python\"\n",
        "\n",
        "print(s.splitlines())"
      ]
    },
    {
      "cell_type": "code",
      "execution_count": null,
      "id": "1eeee5da",
      "metadata": {},
      "outputs": [
        {
          "name": "stdout",
          "output_type": "stream",
          "text": [
            "Hi, I am Rohit and I am 20 years old\n",
            "Hi, I am Rohit and I am 20 years old\n"
          ]
        }
      ],
      "source": [
        "# string methods\n",
        "\n",
        "name = \"Rohit\"\n",
        "age = 20\n",
        "score = 123.123\n",
        "\n",
        "sentence_1 = \"Hi, I am {} and I am {} years old\"\n",
        "sentence_2 = \"Hi, I am {var1} and I am {var2} years old\"\n",
        "\n",
        "print(sentence_1.format(name, age))\n",
        "print(sentence_2.format(var1=name, var2=age))"
      ]
    },
    {
      "cell_type": "markdown",
      "id": "3e88132d",
      "metadata": {},
      "source": [
        "## STRING CONCATENATION"
      ]
    },
    {
      "cell_type": "code",
      "execution_count": null,
      "id": "c879c1c1",
      "metadata": {},
      "outputs": [
        {
          "data": {
            "text/plain": [
              "'hihello'"
            ]
          },
          "metadata": {},
          "output_type": "display_data"
        }
      ],
      "source": [
        "\"hi\"\"hello\""
      ]
    },
    {
      "cell_type": "code",
      "execution_count": null,
      "id": "15de43a2",
      "metadata": {},
      "outputs": [
        {
          "data": {
            "text/plain": [
              "'hihello'"
            ]
          },
          "metadata": {},
          "output_type": "display_data"
        }
      ],
      "source": [
        "\"hi\"+\"hello\""
      ]
    },
    {
      "cell_type": "code",
      "execution_count": null,
      "id": "b2aec85a",
      "metadata": {},
      "outputs": [
        {
          "data": {
            "text/plain": [
              "'Hi Hi Hi '"
            ]
          },
          "metadata": {},
          "output_type": "display_data"
        }
      ],
      "source": [
        "\"Hi \" * 3"
      ]
    },
    {
      "cell_type": "markdown",
      "id": "876af6fb",
      "metadata": {},
      "source": [
        "## STRING FORMATTING"
      ]
    },
    {
      "cell_type": "code",
      "execution_count": null,
      "id": "21cb32f9",
      "metadata": {},
      "outputs": [],
      "source": [
        "name = \"Yash\"\n",
        "age = 21\n",
        "salary = 20000"
      ]
    },
    {
      "cell_type": "code",
      "execution_count": null,
      "id": "b14f1029",
      "metadata": {},
      "outputs": [
        {
          "name": "stdout",
          "output_type": "stream",
          "text": [
            "my name is Yash i am 21 years old and my salary is 20000\n"
          ]
        }
      ],
      "source": [
        "print (\"my name is\",name, \"i am\",age,\"years old and my salary is\", salary )"
      ]
    },
    {
      "cell_type": "code",
      "execution_count": null,
      "id": "5465a7df",
      "metadata": {},
      "outputs": [
        {
          "name": "stdout",
          "output_type": "stream",
          "text": [
            "my name is Yash, i am 21, years old and my salary is20000\n"
          ]
        }
      ],
      "source": [
        "print(f\"my name is {name}, i am {age}, years old and my salary is{salary}\")"
      ]
    },
    {
      "cell_type": "code",
      "execution_count": null,
      "id": "3e69dd7b",
      "metadata": {},
      "outputs": [
        {
          "name": "stdout",
          "output_type": "stream",
          "text": [
            "hello\n",
            "       hi\n",
            "       \n"
          ]
        }
      ],
      "source": [
        "print (\"\"\"hello\n",
        "       hi\n",
        "       \"\"\")"
      ]
    },
    {
      "cell_type": "code",
      "execution_count": null,
      "id": "9d73f29b",
      "metadata": {},
      "outputs": [
        {
          "name": "stdout",
          "output_type": "stream",
          "text": [
            "hi, i am Rohit and i am 20 years old and i scored 123.12\n",
            "Score: 123.12\n"
          ]
        }
      ],
      "source": [
        "# string formatting\n",
        "\n",
        "print(\"hi, i am %s and i am %d years old and i scored %.2f\" % (name, age, score))\n",
        "print(f\"Score: {score:.2f}\")"
      ]
    },
    {
      "cell_type": "markdown",
      "id": "c56632f8",
      "metadata": {},
      "source": [
        "# MATCH CASE"
      ]
    },
    {
      "cell_type": "code",
      "execution_count": null,
      "id": "f730b7da",
      "metadata": {
        "id": "f730b7da",
        "outputId": "ad668001-5947-482d-d08c-1c9f2f1ea164"
      },
      "outputs": [
        {
          "name": "stdout",
          "output_type": "stream",
          "text": [
            "three\n"
          ]
        }
      ],
      "source": [
        "# switch case version in python\n",
        "\n",
        "num = 3\n",
        "match num:\n",
        "    case 1:\n",
        "        print(\"one\")\n",
        "    case 2:\n",
        "        print(\"two\")\n",
        "    case 3:\n",
        "        print(\"three\")\n",
        "    case _:\n",
        "        print(\"not found\")"
      ]
    },
    {
      "cell_type": "markdown",
      "id": "d5baee5b",
      "metadata": {},
      "source": [
        "# LOOPS"
      ]
    },
    {
      "cell_type": "markdown",
      "id": "743a4008",
      "metadata": {},
      "source": [
        "## FOR LOOP"
      ]
    },
    {
      "cell_type": "code",
      "execution_count": null,
      "id": "a059c159",
      "metadata": {
        "id": "a059c159",
        "outputId": "e294e46c-bd3f-4667-e8f6-60a38bdcaa49"
      },
      "outputs": [
        {
          "name": "stdout",
          "output_type": "stream",
          "text": [
            "Hi!\n",
            "Hi!\n",
            "Hi!\n"
          ]
        }
      ],
      "source": [
        "# for iterator\n",
        "\n",
        "for i in \"123\":\n",
        "    print(\"Hi!\")"
      ]
    },
    {
      "cell_type": "code",
      "execution_count": null,
      "id": "63c27800",
      "metadata": {
        "id": "63c27800",
        "outputId": "bbd4000c-9f33-4835-ef23-36abf9f4eca0"
      },
      "outputs": [
        {
          "name": "stdout",
          "output_type": "stream",
          "text": [
            "hi! 0\n",
            "hi! 1\n",
            "hi! 2\n",
            "hi! 3\n",
            "hi! 4\n",
            "hi! 5\n",
            "hi! 6\n",
            "hi! 7\n",
            "hi! 8\n",
            "hi! 9\n"
          ]
        }
      ],
      "source": [
        "for i in range(10):\n",
        "    print(\"hi!\", i)"
      ]
    },
    {
      "cell_type": "code",
      "execution_count": null,
      "id": "0005fb2e",
      "metadata": {
        "id": "0005fb2e",
        "outputId": "24943713-c4b0-479e-c09f-4aaff309619d"
      },
      "outputs": [
        {
          "name": "stdout",
          "output_type": "stream",
          "text": [
            "3 x 1 = 3\n",
            "3 x 2 = 6\n",
            "3 x 3 = 9\n",
            "3 x 4 = 12\n",
            "3 x 5 = 15\n",
            "3 x 6 = 18\n",
            "3 x 7 = 21\n",
            "3 x 8 = 24\n",
            "3 x 9 = 27\n",
            "3 x 10 = 30\n"
          ]
        }
      ],
      "source": [
        "num = int(input(\"Enter a number: \"))\n",
        "\n",
        "for i in range(1, 11):\n",
        "    print(f\"{num} x {i} = {num * i}\")"
      ]
    },
    {
      "cell_type": "markdown",
      "id": "f1fbe9a5",
      "metadata": {},
      "source": [
        "## WHILE LOOP"
      ]
    },
    {
      "cell_type": "code",
      "execution_count": null,
      "id": "047624d0",
      "metadata": {
        "id": "047624d0",
        "outputId": "0bb789f0-cfa1-47fe-9461-73610cd863df"
      },
      "outputs": [
        {
          "name": "stdout",
          "output_type": "stream",
          "text": [
            "0\n",
            "1\n",
            "2\n",
            "3\n"
          ]
        }
      ],
      "source": [
        "i = 0\n",
        "\n",
        "while (i < 4):\n",
        "    print(i)\n",
        "    i += 1"
      ]
    },
    {
      "cell_type": "code",
      "execution_count": 6,
      "id": "6d8ec2b2",
      "metadata": {
        "id": "6d8ec2b2",
        "outputId": "9c6d4a65-e926-4b81-d0e6-c3dd6f838d9d"
      },
      "outputs": [
        {
          "name": "stdout",
          "output_type": "stream",
          "text": [
            "3 x 1 = 3\n",
            "3 x 2 = 6\n",
            "3 x 3 = 9\n",
            "3 x 4 = 12\n",
            "3 x 5 = 15\n",
            "3 x 6 = 18\n",
            "3 x 7 = 21\n",
            "3 x 8 = 24\n",
            "3 x 9 = 27\n",
            "3 x 10 = 30\n"
          ]
        }
      ],
      "source": [
        "# print a table of any number\n",
        "\n",
        "num = int(input(\"Enter a number: \"))\n",
        "i = 1\n",
        "while i < 11:\n",
        "    print(f\"{num} x {i} = {num * i}\")\n",
        "    i += 1"
      ]
    },
    {
      "cell_type": "code",
      "execution_count": null,
      "id": "4cf8459a",
      "metadata": {
        "id": "4cf8459a"
      },
      "outputs": [],
      "source": [
        "# DO NOT RUN THIS. IT WILL CRASH YOUR COMPUTER\n",
        "\n",
        "# a = [1, 2]\n",
        "\n",
        "# for i in a:\n",
        "#     a.append(i + 1)"
      ]
    },
    {
      "cell_type": "code",
      "execution_count": null,
      "id": "43ed0e52",
      "metadata": {
        "id": "43ed0e52",
        "outputId": "94041692-b24b-4282-c453-c84ea3819210"
      },
      "outputs": [
        {
          "name": "stdout",
          "output_type": "stream",
          "text": [
            "40\n"
          ]
        }
      ],
      "source": [
        "print(a)"
      ]
    },
    {
      "cell_type": "markdown",
      "id": "2736b122",
      "metadata": {},
      "source": [
        "## BREAK AND CONTINUE"
      ]
    },
    {
      "cell_type": "code",
      "execution_count": null,
      "id": "cf7c32a5",
      "metadata": {},
      "outputs": [
        {
          "name": "stdout",
          "output_type": "stream",
          "text": [
            "0\n",
            "1\n",
            "2\n",
            "3\n",
            "4\n",
            "5\n",
            "6\n",
            "9\n"
          ]
        }
      ],
      "source": [
        "# continue statement can be used to skip an iteration of a loop.\n",
        "\n",
        "for i in range(10):\n",
        "    if (i == 7 or i == 8):\n",
        "        continue\n",
        "    print(i)"
      ]
    },
    {
      "cell_type": "code",
      "execution_count": null,
      "id": "b31c1ec1",
      "metadata": {},
      "outputs": [
        {
          "name": "stdout",
          "output_type": "stream",
          "text": [
            "blue found at position 2\n"
          ]
        }
      ],
      "source": [
        "# using break statement to create a simple search algorithm.\n",
        "\n",
        "colour = ['red', 'green', 'blue', 'purple']\n",
        "for i, v in enumerate(colour):\n",
        "    if (v == 'blue'):\n",
        "        print(f'blue found at position {i}')\n",
        "        break"
      ]
    },
    {
      "cell_type": "markdown",
      "id": "ce2ef461",
      "metadata": {},
      "source": [
        "## SOME PROGRAMS"
      ]
    },
    {
      "cell_type": "code",
      "execution_count": null,
      "id": "147cc69f",
      "metadata": {},
      "outputs": [
        {
          "name": "stdout",
          "output_type": "stream",
          "text": [
            "123.0 * 2 = 246.0\n",
            "15.0 * 2 = 30.0\n",
            "456.0 * 2 = 912.0\n"
          ]
        }
      ],
      "source": [
        "run = True\n",
        "\n",
        "while run:\n",
        "    d = float(input(\"enter a number: \"))\n",
        "    print(f\"{d} * 2 = {d * 2}\")\n",
        "    run = bool(int(input(\"enter '0' to exist or any other number to continue: \" )))"
      ]
    },
    {
      "cell_type": "code",
      "execution_count": null,
      "id": "dbbac37f",
      "metadata": {
        "id": "dbbac37f",
        "outputId": "1a4eb524-eb5a-45a2-b15f-4efcd67edf0e"
      },
      "outputs": [
        {
          "name": "stdout",
          "output_type": "stream",
          "text": [
            "p 0\n",
            "p 12\n",
            "g 15\n",
            "m 18\n",
            "m 19\n",
            "g 22\n",
            "g 27\n",
            "g 30\n"
          ]
        }
      ],
      "source": [
        "# find certain characters and their index in a string\n",
        "# 1. my way\n",
        "\n",
        "s = \"Python is a Programming language\"\n",
        "num = 0\n",
        "for i in s.casefold():\n",
        "    if i == 'g':\n",
        "        print('g', num)\n",
        "    if i == 'm':\n",
        "        print('m', num)\n",
        "    if i == 'p':\n",
        "        print('p', num)\n",
        "    num += 1"
      ]
    },
    {
      "cell_type": "code",
      "execution_count": null,
      "id": "e68ba451",
      "metadata": {
        "id": "e68ba451",
        "outputId": "cc3148fd-4e65-4e9f-b369-d378a6f51206"
      },
      "outputs": [
        {
          "name": "stdout",
          "output_type": "stream",
          "text": [
            "g found at 15\n",
            "m found at 18\n",
            "m found at 19\n",
            "g found at 22\n",
            "g found at 27\n",
            "g found at 30\n"
          ]
        }
      ],
      "source": [
        "# 2. using enumarate\n",
        "\n",
        "s = \"Python is a Programming language\"\n",
        "\n",
        "for index, ch in enumerate(s):\n",
        "    if ch in \"gmp\":\n",
        "        print(f\"{ch} found at {index}\")"
      ]
    },
    {
      "cell_type": "code",
      "execution_count": null,
      "id": "92f68187",
      "metadata": {
        "id": "92f68187",
        "outputId": "ed684f1a-964c-4ab8-d36f-1c6484b55b6d"
      },
      "outputs": [
        {
          "name": "stdout",
          "output_type": "stream",
          "text": [
            "P found at 0\n",
            "P found at 12\n",
            "g found at 15\n",
            "m found at 18\n",
            "m found at 19\n",
            "g found at 22\n",
            "g found at 27\n",
            "g found at 30\n"
          ]
        }
      ],
      "source": [
        "# 3a. using index to call for value (for loop)\n",
        "\n",
        "s = \"Python is a Programming language\"\n",
        "\n",
        "for i in range(len(s)):\n",
        "    if s[i].lower() in \"gmp\":\n",
        "        print(f\"{s[i]} found at {i}\")\n"
      ]
    },
    {
      "cell_type": "code",
      "execution_count": null,
      "id": "0f1b758b",
      "metadata": {
        "id": "0f1b758b",
        "outputId": "b0574415-9bb3-4081-d3a8-ad2a259838e6"
      },
      "outputs": [
        {
          "name": "stdout",
          "output_type": "stream",
          "text": [
            "P found at 0\n",
            "P found at 12\n",
            "g found at 15\n",
            "m found at 18\n",
            "m found at 19\n",
            "g found at 22\n",
            "g found at 27\n",
            "g found at 30\n"
          ]
        }
      ],
      "source": [
        "# 3b. using index to call for value (while loop)\n",
        "\n",
        "s = \"Python is a Programming language\"\n",
        "i = 0\n",
        "\n",
        "while i < len(s):\n",
        "    if s[i].lower() in \"gmp\":\n",
        "        print(f\"{s[i]} found at {i}\")\n",
        "    i += 1\n"
      ]
    },
    {
      "cell_type": "code",
      "execution_count": null,
      "id": "7b7ba6c9",
      "metadata": {
        "id": "7b7ba6c9",
        "outputId": "cfd96ea8-24df-499b-e84d-b8d9ccc31fd7"
      },
      "outputs": [
        {
          "name": "stdout",
          "output_type": "stream",
          "text": [
            "p found at 0\n",
            "p found at 12\n",
            "g found at 15\n",
            "m found at 18\n",
            "m found at 19\n",
            "g found at 22\n",
            "g found at 27\n",
            "g found at 30\n"
          ]
        }
      ],
      "source": [
        "# 4. using external variable as an index\n",
        "\n",
        "s = \"Python is a Programming language\"\n",
        "index = 0\n",
        "\n",
        "for ch in s.casefold():\n",
        "    if ch in \"gmp\":\n",
        "        print(f\"{ch} found at {index}\")\n",
        "    index += 1\n"
      ]
    },
    {
      "cell_type": "code",
      "execution_count": null,
      "id": "45c5286e",
      "metadata": {
        "id": "45c5286e",
        "outputId": "3899fa2f-c6c3-4535-a8d0-e4b2389e9548"
      },
      "outputs": [
        {
          "name": "stdout",
          "output_type": "stream",
          "text": [
            "p occurred 2 times in the sentence.\n"
          ]
        }
      ],
      "source": [
        "# count the occurence of characters in a string\n",
        "\n",
        "s = \"Python is a Programming Language\"\n",
        "\n",
        "count = 0\n",
        "ch_to_check = input('enter the char to count for:')\n",
        "\n",
        "for ch in s:\n",
        "    if ch_to_check.lower() == ch.lower():\n",
        "        count += 1\n",
        "\n",
        "print(f\"{ch_to_check} occurred {count} times in the sentence.\")"
      ]
    },
    {
      "cell_type": "code",
      "execution_count": null,
      "id": "a9b7ef2e",
      "metadata": {
        "id": "a9b7ef2e",
        "outputId": "3c95589a-a567-4c36-fc29-1721bbd30665"
      },
      "outputs": [
        {
          "name": "stdout",
          "output_type": "stream",
          "text": [
            "racecar is a palindrome\n"
          ]
        }
      ],
      "source": [
        "# write a program to check if the string is a palindrome\n",
        "\n",
        "s = input(\"Enter a string: \")\n",
        "\n",
        "if s == s[::-1]:\n",
        "    print(f\"{s} is a palindrome\")\n",
        "else:\n",
        "    print(f\"{s} is not a palindrome\")"
      ]
    },
    {
      "cell_type": "code",
      "execution_count": null,
      "id": "Qqmg_VcWVrDK",
      "metadata": {
        "id": "Qqmg_VcWVrDK",
        "outputId": "2f9323d1-6faa-4ffa-d8f7-e430b4f19479"
      },
      "outputs": [
        {
          "name": "stdout",
          "output_type": "stream",
          "text": [
            "madam is a palindrome\n"
          ]
        }
      ],
      "source": [
        "# write a program to check if the string is a palindrome using basics\n",
        "\n",
        "s_original = input(\"Enter a string: \")\n",
        "s_reversed = \"\"\n",
        "\n",
        "for ch in s_original:\n",
        "    s_reversed = ch + s_reversed\n",
        "\n",
        "if s_original == s_reversed:\n",
        "    print(f\"{s_original} is a palindrome\")\n",
        "else:\n",
        "    print(f\"{s_original} is not a palindrome\")"
      ]
    },
    {
      "cell_type": "code",
      "execution_count": null,
      "id": "c4ddb44f",
      "metadata": {
        "id": "c4ddb44f",
        "outputId": "35a63de5-13d1-491a-9d24-7c37a11ce514"
      },
      "outputs": [
        {
          "name": "stdout",
          "output_type": "stream",
          "text": [
            "racecar is a palindrome\n"
          ]
        }
      ],
      "source": [
        "# write a program to check if the string is a palindrome using while loop.\n",
        "\n",
        "s_original = input(\"Enter a string: \")\n",
        "s_reversed = \"\"\n",
        "\n",
        "i = 0\n",
        "\n",
        "while(i < len(s_original)):\n",
        "    s_reversed = s_original[i] + s_reversed\n",
        "    i += 1\n",
        "\n",
        "if s_original == s_reversed:\n",
        "    print(f\"{s_original} is a palindrome\")\n",
        "else:\n",
        "    print(f\"{s_original} is not a palindrome\")"
      ]
    },
    {
      "cell_type": "code",
      "execution_count": null,
      "id": "T8xnOx5a9O2K",
      "metadata": {
        "id": "T8xnOx5a9O2K",
        "outputId": "c0fcae7c-d01c-4591-ce0d-478067a3173e"
      },
      "outputs": [
        {
          "name": "stdout",
          "output_type": "stream",
          "text": [
            "silent and listen are anagrams\n"
          ]
        }
      ],
      "source": [
        "# write a program to check if the string is an anagram.\n",
        "\n",
        "s1 = input(\"Enter a string: \")\n",
        "s2 = input(\"Enter a string: \")\n",
        "\n",
        "if sorted(s1) == sorted(s2):\n",
        "    print(f\"{s1} and {s2} are anagrams\")\n",
        "else:\n",
        "    print(f\"{s1} and {s2} are not anagrams\")"
      ]
    },
    {
      "cell_type": "code",
      "execution_count": null,
      "id": "fGp-Gt9qWHb2",
      "metadata": {
        "id": "fGp-Gt9qWHb2",
        "outputId": "c8b30832-422f-4b51-f7a5-d552ba97eff9"
      },
      "outputs": [
        {
          "name": "stdout",
          "output_type": "stream",
          "text": [
            "car and arc are Anagrams\n"
          ]
        }
      ],
      "source": [
        "# write a program to check if the string is an anagram using basics.\n",
        "\n",
        "s1 = input(\"Enter a string: \")\n",
        "s2 = input(\"Enter a string: \")\n",
        "result = f\"{s1} and {s2} are Anagrams\"\n",
        "\n",
        "if len(s1) != len(s2):\n",
        "  result = f\"{s1} and {s2} are not Anagrams\"\n",
        "\n",
        "for i in range(len(s1)):\n",
        "    if s1.count(s1[i]) != s2.count(s1[i]):\n",
        "        result = f\"{s1} and {s2} are not Anagrams\"\n",
        "        break\n",
        "\n",
        "print(result)"
      ]
    },
    {
      "cell_type": "code",
      "execution_count": null,
      "id": "JNYnqkv09qmv",
      "metadata": {
        "id": "JNYnqkv09qmv",
        "outputId": "2c1aec18-ab61-46ce-c6cf-25321b5f0528"
      },
      "outputs": [
        {
          "name": "stdout",
          "output_type": "stream",
          "text": [
            "car and arc are anagrams\n"
          ]
        }
      ],
      "source": [
        "# write a program to check if the string is an anagram using dictionaries.\n",
        "\n",
        "s1 = input(\"Enter the first string: \").lower()\n",
        "s2 = input(\"Enter the second string: \").lower()\n",
        "\n",
        "if len(s1) != len(s2):\n",
        "    print(f\"{s1} and {s2} are not anagrams\")\n",
        "\n",
        "char_count = {}\n",
        "\n",
        "for ch in s1:\n",
        "    char_count[ch] = char_count.get(ch, 0) + 1\n",
        "\n",
        "is_anagram = True\n",
        "for ch in s2:\n",
        "    if ch not in char_count or char_count[ch] == 0:\n",
        "        print(f\"{s1} and {s2} are not anagrams\")\n",
        "        is_anagram = False\n",
        "        break\n",
        "    else:\n",
        "        char_count[ch] -= 1\n",
        "\n",
        "if is_anagram:\n",
        "    print(f\"{s1} and {s2} are anagrams\")\n"
      ]
    },
    {
      "cell_type": "code",
      "execution_count": null,
      "id": "jvQ3_t_nI3eY",
      "metadata": {
        "id": "jvQ3_t_nI3eY",
        "outputId": "711d7a1e-0352-4000-cfae-63ee91ea9e26"
      },
      "outputs": [
        {
          "name": "stdout",
          "output_type": "stream",
          "text": [
            "h occured 1 times\n",
            "e occured 1 times\n",
            "l occured 3 times\n",
            "l occured 3 times\n",
            "o occured 2 times\n",
            "  occured 1 times\n",
            "w occured 1 times\n",
            "o occured 2 times\n",
            "r occured 1 times\n",
            "l occured 3 times\n",
            "d occured 1 times\n",
            "! occured 1 times\n"
          ]
        }
      ],
      "source": [
        "# write a program to count how many times each letter occured.\n",
        "\n",
        "s = \"Hello World!\"\n",
        "\n",
        "for ch in s.lower():\n",
        "  count = 0\n",
        "  for i in s.lower():\n",
        "    if i == ch:\n",
        "      count += 1\n",
        "  print(f\"{ch} occured {count} times\")"
      ]
    },
    {
      "cell_type": "markdown",
      "id": "4aEZtFVpX5aV",
      "metadata": {
        "id": "4aEZtFVpX5aV"
      },
      "source": [
        "# NON PRIMITIVE DATA"
      ]
    },
    {
      "cell_type": "markdown",
      "id": "f3484995",
      "metadata": {},
      "source": [
        "## LISTS"
      ]
    },
    {
      "cell_type": "code",
      "execution_count": null,
      "id": "yNnaNFk0X-ES",
      "metadata": {
        "id": "yNnaNFk0X-ES",
        "outputId": "5ec901d1-f51f-42d8-d997-9e4c79cf837d"
      },
      "outputs": [
        {
          "name": "stdout",
          "output_type": "stream",
          "text": [
            "<class 'list'>\n"
          ]
        }
      ],
      "source": [
        "# LISTS\n",
        "\n",
        "a = []\n",
        "print(type(a))"
      ]
    },
    {
      "cell_type": "code",
      "execution_count": null,
      "id": "9g1WezbRYDsI",
      "metadata": {
        "id": "9g1WezbRYDsI",
        "outputId": "3bd307db-6612-4ba7-df15-c5e62294aea8"
      },
      "outputs": [
        {
          "name": "stdout",
          "output_type": "stream",
          "text": [
            "[1, 2, 3] ['a', 'b', 'c'] [1, 'a', 2, 'b']\n"
          ]
        }
      ],
      "source": [
        "a = [1, 2, 3]\n",
        "b = ['a', 'b', 'c']\n",
        "c = [1, 'a', 2, 'b']\n",
        "\n",
        "print(a, b, c)"
      ]
    },
    {
      "cell_type": "code",
      "execution_count": null,
      "id": "8ktveYPnYWBc",
      "metadata": {
        "id": "8ktveYPnYWBc",
        "outputId": "fe962903-fc46-4aae-af23-f36afecb26c8"
      },
      "outputs": [
        {
          "data": {
            "text/plain": [
              "['a', 'b', 'c', '1', '2', '3']"
            ]
          },
          "execution_count": 200,
          "metadata": {},
          "output_type": "execute_result"
        }
      ],
      "source": [
        "a = list(\"abc\"+\"123\")\n",
        "a"
      ]
    },
    {
      "cell_type": "code",
      "execution_count": null,
      "id": "9AYVFgrIYcdz",
      "metadata": {
        "id": "9AYVFgrIYcdz",
        "outputId": "598639c8-0f69-4f93-b4af-688670dc82ea"
      },
      "outputs": [
        {
          "data": {
            "text/plain": [
              "[1,\n",
              " 1.5,\n",
              " 'Hello',\n",
              " True,\n",
              " None,\n",
              " (2+3j),\n",
              " [1, 2, 3],\n",
              " (1, 2, 3),\n",
              " {1, 2, 3},\n",
              " {1: 'one', 2: 'two'},\n",
              " <function print>,\n",
              " tuple]"
            ]
          },
          "execution_count": 201,
          "metadata": {},
          "output_type": "execute_result"
        }
      ],
      "source": [
        "my_list = [1, 1.5, \"Hello\", True, None, 2 + 3j, [1, 2, 3],\n",
        "           (1, 2, 3), {1, 2, 3}, {1 : \"one\", 2 : \"two\"},\n",
        "           print, tuple]\n",
        "my_list"
      ]
    },
    {
      "cell_type": "code",
      "execution_count": null,
      "id": "AvkN-8QCYz-I",
      "metadata": {
        "id": "AvkN-8QCYz-I",
        "outputId": "11b70a27-5014-4d04-f344-2c840132a4e5"
      },
      "outputs": [
        {
          "name": "stdout",
          "output_type": "stream",
          "text": [
            "<built-in function print>\n"
          ]
        }
      ],
      "source": [
        "print(my_list[10])"
      ]
    },
    {
      "cell_type": "code",
      "execution_count": null,
      "id": "ENx2_29sY72V",
      "metadata": {
        "id": "ENx2_29sY72V",
        "outputId": "797bf611-2757-4fb4-9560-a1d977b07992"
      },
      "outputs": [
        {
          "name": "stdout",
          "output_type": "stream",
          "text": [
            "Hello World, this calls the print function\n"
          ]
        }
      ],
      "source": [
        "my_list[10](\"Hello World, this calls the print function\")"
      ]
    },
    {
      "cell_type": "code",
      "execution_count": null,
      "id": "Zi1h0mG4ZFNE",
      "metadata": {
        "id": "Zi1h0mG4ZFNE",
        "outputId": "b0f624fe-3744-4eb6-87db-9f8beade403a"
      },
      "outputs": [
        {
          "data": {
            "text/plain": [
              "2"
            ]
          },
          "execution_count": 204,
          "metadata": {},
          "output_type": "execute_result"
        }
      ],
      "source": [
        "my_list[6][1] # 6th index has a list [1, 2, 3] and it's 1st index holds a value of 2."
      ]
    },
    {
      "cell_type": "code",
      "execution_count": null,
      "id": "LUBJV2NpZSRw",
      "metadata": {
        "id": "LUBJV2NpZSRw",
        "outputId": "2ff900c2-02b9-40f9-f6cb-a408eec5a61c"
      },
      "outputs": [
        {
          "name": "stdout",
          "output_type": "stream",
          "text": [
            "0 a\n",
            "1 b\n",
            "2 c\n",
            "3 d\n",
            "4 e\n",
            "5 f\n"
          ]
        }
      ],
      "source": [
        "# iterating through the list\n",
        "\n",
        "x = ['a', 'b', 'c', 'd', 'e', 'f']\n",
        "\n",
        "for i in range(len(x)):\n",
        "    print(i, x[i])"
      ]
    },
    {
      "cell_type": "code",
      "execution_count": null,
      "id": "afd7777b",
      "metadata": {
        "id": "afd7777b",
        "outputId": "e4281b45-67c0-4327-ec4c-b50e8b071f81"
      },
      "outputs": [
        {
          "name": "stdout",
          "output_type": "stream",
          "text": [
            "1 b\n",
            "3 d\n",
            "5 f\n"
          ]
        }
      ],
      "source": [
        "# iterating through odd indexes of the list\n",
        "\n",
        "x = ['a', 'b', 'c', 'd', 'e', 'f']\n",
        "\n",
        "for i in range(1, len(x), 2):\n",
        "    print(i, x[i])"
      ]
    },
    {
      "cell_type": "markdown",
      "id": "2496ccbd",
      "metadata": {},
      "source": [
        "### LIST METHODS"
      ]
    },
    {
      "cell_type": "code",
      "execution_count": null,
      "id": "dec935c5",
      "metadata": {
        "id": "dec935c5",
        "outputId": "2a5134ee-d0da-4f8f-f0b2-fbba2a0a8e86"
      },
      "outputs": [
        {
          "name": "stdout",
          "output_type": "stream",
          "text": [
            "['a', 'b', 'c', 'd', 'e', 'f', 'g']\n"
          ]
        }
      ],
      "source": [
        "# adds an element to the end of the list (at the -1 position specifically)\n",
        "\n",
        "x = ['a', 'b', 'c', 'd', 'e', 'f']\n",
        "\n",
        "x.append('g')\n",
        "print(x)"
      ]
    },
    {
      "cell_type": "code",
      "execution_count": null,
      "id": "7923fabd",
      "metadata": {
        "id": "7923fabd",
        "outputId": "4e703b9d-7ca8-4e65-a1e5-d4bd8492f2b1"
      },
      "outputs": [
        {
          "data": {
            "text/plain": [
              "['A', 'a', 'b', 'c', 'd', 'e', 'f']"
            ]
          },
          "execution_count": 208,
          "metadata": {},
          "output_type": "execute_result"
        }
      ],
      "source": [
        "# inserts an element at a particular position\n",
        "\n",
        "x = ['a', 'b', 'c', 'd', 'e', 'f']\n",
        "\n",
        "x.insert(0, 'A')\n",
        "x"
      ]
    },
    {
      "cell_type": "code",
      "execution_count": null,
      "id": "4e5ea171",
      "metadata": {
        "id": "4e5ea171",
        "outputId": "d9313dc9-da8c-43e4-b5d3-c5ffd38d0639"
      },
      "outputs": [
        {
          "data": {
            "text/plain": [
              "4"
            ]
          },
          "execution_count": 209,
          "metadata": {},
          "output_type": "execute_result"
        }
      ],
      "source": [
        "# returns the index of the element\n",
        "\n",
        "x = ['a', 'b', 'c', 'd', 'e', 'f']\n",
        "\n",
        "x.index(\"e\")"
      ]
    },
    {
      "cell_type": "code",
      "execution_count": null,
      "id": "d30e5238",
      "metadata": {
        "id": "d30e5238",
        "outputId": "dcfef339-8839-4de8-e449-6d4ee591673e"
      },
      "outputs": [
        {
          "data": {
            "text/plain": [
              "'f'"
            ]
          },
          "execution_count": 210,
          "metadata": {},
          "output_type": "execute_result"
        }
      ],
      "source": [
        "# removes and returns the elements at the specified index or index -1 by default\n",
        "\n",
        "x = ['a', 'b', 'c', 'd', 'e', 'f']\n",
        "\n",
        "x.pop()"
      ]
    },
    {
      "cell_type": "code",
      "execution_count": null,
      "id": "cf76a129",
      "metadata": {
        "id": "cf76a129",
        "outputId": "efb4c8c2-8487-4f58-9be5-9081496f1ac9"
      },
      "outputs": [
        {
          "name": "stdout",
          "output_type": "stream",
          "text": [
            "['a', 'b', 'c', 'd', 'e']\n"
          ]
        }
      ],
      "source": [
        "# removes the element specified\n",
        "\n",
        "x = ['a', 'b', 'c', 'd', 'e', 'f']\n",
        "\n",
        "x.remove('f')\n",
        "print(x)"
      ]
    },
    {
      "cell_type": "code",
      "execution_count": null,
      "id": "ed10f2b9",
      "metadata": {
        "id": "ed10f2b9",
        "outputId": "f68ed4c0-b698-4701-b835-54096ce773a0"
      },
      "outputs": [
        {
          "name": "stdout",
          "output_type": "stream",
          "text": [
            "['f', 'e', 'd', 'c', 'b', 'a']\n"
          ]
        }
      ],
      "source": [
        "# reverses the entire list\n",
        "\n",
        "x = ['a', 'b', 'c', 'd', 'e', 'f']\n",
        "\n",
        "x.reverse()\n",
        "print(x)"
      ]
    },
    {
      "cell_type": "code",
      "execution_count": null,
      "id": "b2866154",
      "metadata": {
        "id": "b2866154",
        "outputId": "bff350fb-d0e3-4fac-edd0-f3c4c3bcc8f6"
      },
      "outputs": [
        {
          "name": "stdout",
          "output_type": "stream",
          "text": [
            "['a', 'b', 'c', 'd', 'e', 'f']\n"
          ]
        }
      ],
      "source": [
        "# sorts the entire list\n",
        "\n",
        "x = ['a', 'b', 'c', 'd', 'e', 'f']\n",
        "\n",
        "x.sort()\n",
        "print(x)"
      ]
    },
    {
      "cell_type": "markdown",
      "id": "a089efc6",
      "metadata": {},
      "source": [
        "### SOME PROGRAMS"
      ]
    },
    {
      "cell_type": "code",
      "execution_count": null,
      "id": "8013bc1a",
      "metadata": {
        "id": "8013bc1a",
        "outputId": "69cd9001-0cc7-4398-950c-8a8ef47b34d6"
      },
      "outputs": [
        {
          "name": "stdout",
          "output_type": "stream",
          "text": [
            "['a', 'b', 'c', 'd', 'e', 'f', 'g', 'h', 'i', 'j', 'k']\n"
          ]
        }
      ],
      "source": [
        "# add the letters 'a' to 'g' at the beginning of the list\n",
        "# 1. using reversed string.\n",
        "\n",
        "r = ['h', 'i', 'j', 'k']\n",
        "s = 'abcdefg'\n",
        "\n",
        "for ch in s[::-1]:\n",
        "    r.insert(0, ch)\n",
        "\n",
        "print(r)"
      ]
    },
    {
      "cell_type": "code",
      "execution_count": null,
      "id": "cd04f8e2",
      "metadata": {
        "id": "cd04f8e2",
        "outputId": "a1c3ed12-5f5f-49bc-80f0-bef6566048f6"
      },
      "outputs": [
        {
          "name": "stdout",
          "output_type": "stream",
          "text": [
            "['a', 'b', 'c', 'd', 'e', 'f', 'g', 'h', 'i', 'j', 'k']\n"
          ]
        }
      ],
      "source": [
        "# 2. using normal string\n",
        "\n",
        "r = ['h', 'i', 'j', 'k']\n",
        "s = 'abcdefg'\n",
        "\n",
        "for i in range(len(s)):\n",
        "    r.insert(i, s[i])\n",
        "\n",
        "print(r)"
      ]
    },
    {
      "cell_type": "code",
      "execution_count": null,
      "id": "8aff072d",
      "metadata": {
        "id": "8aff072d",
        "outputId": "39e2ac10-657b-47ee-eb1d-7f3cc233604f"
      },
      "outputs": [
        {
          "name": "stdout",
          "output_type": "stream",
          "text": [
            "['a', 'b', 'c', 'd', 'e', 'f', 'g', 'h', 'i', 'j', 'k']\n"
          ]
        }
      ],
      "source": [
        "# 3. using negative indexing\n",
        "\n",
        "r = ['h', 'i', 'j', 'k']\n",
        "s = 'abcdefg'\n",
        "\n",
        "for ch in s:\n",
        "    r.insert(-4, ch)\n",
        "\n",
        "print(r)"
      ]
    },
    {
      "cell_type": "code",
      "execution_count": null,
      "id": "6c7bf1cb",
      "metadata": {
        "id": "6c7bf1cb",
        "outputId": "e55f4a6c-f105-49b1-fe08-4ac0cd198c18"
      },
      "outputs": [
        {
          "name": "stdout",
          "output_type": "stream",
          "text": [
            "['a', 'h', 'i', 'j', 'k']\n",
            "['a', 'b', 'h', 'i', 'j', 'k']\n",
            "['a', 'b', 'c', 'h', 'i', 'j', 'k']\n",
            "['a', 'b', 'c', 'd', 'h', 'i', 'j', 'k']\n",
            "['a', 'b', 'c', 'd', 'e', 'h', 'i', 'j', 'k']\n",
            "['a', 'b', 'c', 'd', 'e', 'f', 'h', 'i', 'j', 'k']\n",
            "['a', 'b', 'c', 'd', 'e', 'f', 'g', 'h', 'i', 'j', 'k']\n"
          ]
        }
      ],
      "source": [
        "# 4. using negative indexing and chr()\n",
        "\n",
        "r = ['h', 'i', 'j', 'k']\n",
        "\n",
        "for i in range(7):\n",
        "    r.insert(-4, chr(97 + i))\n",
        "    print(r)"
      ]
    },
    {
      "cell_type": "code",
      "execution_count": null,
      "id": "0f32da71",
      "metadata": {
        "id": "0f32da71",
        "outputId": "9c63933a-9c91-4282-d2af-d5ef4878f377"
      },
      "outputs": [
        {
          "name": "stdout",
          "output_type": "stream",
          "text": [
            "['a', 'b', 'c', 'd', 'e', 'f', 'g', 'h', 'i', 'j', 'k']\n"
          ]
        }
      ],
      "source": [
        "# using the 'Python' way\n",
        "\n",
        "r = ['h', 'i', 'j', 'k']\n",
        "s = 'abcdefg'\n",
        "\n",
        "r = list(s) + r\n",
        "print(r)"
      ]
    },
    {
      "cell_type": "code",
      "execution_count": null,
      "id": "ab956ed9",
      "metadata": {
        "id": "ab956ed9",
        "outputId": "e2088020-0ed2-403b-9711-55975bbbba2c"
      },
      "outputs": [
        {
          "name": "stdout",
          "output_type": "stream",
          "text": [
            "['d', 'e', 'f', 'g', 'h', 'i', 'j', 'k']\n"
          ]
        }
      ],
      "source": [
        "# remove certain elements from a list\n",
        "# 1. using the remove() menthod\n",
        "\n",
        "elements = ['a', 'b', 'c', 1, 'z']\n",
        "r = ['a', 'b', 'c', 'd', 'e', 'f', 'g', 'h', 'i', 'j', 'k']\n",
        "\n",
        "for ch in elements:\n",
        "    if ch in r:\n",
        "        r.remove(ch)\n",
        "\n",
        "print(r)"
      ]
    },
    {
      "cell_type": "code",
      "execution_count": null,
      "id": "8fa4a502",
      "metadata": {
        "id": "8fa4a502",
        "outputId": "f9255d85-5eed-46ce-88c3-5aa265613815"
      },
      "outputs": [
        {
          "name": "stdout",
          "output_type": "stream",
          "text": [
            "['d', 'e', 'f', 'g', 'h', 'i', 'j', 'k']\n"
          ]
        }
      ],
      "source": [
        "#2. using the pop() method\n",
        "\n",
        "elements = ['a', 'b', 'c', 1, 'z']\n",
        "r = ['a', 'b', 'c', 'd', 'e', 'f', 'g', 'h', 'i', 'j', 'k']\n",
        "\n",
        "for ch in elements:\n",
        "    if r.count(ch) > 0:\n",
        "        r.pop(r.index(ch))\n",
        "print(r)"
      ]
    },
    {
      "cell_type": "code",
      "execution_count": null,
      "id": "547c7163",
      "metadata": {
        "id": "547c7163",
        "outputId": "bde8c26c-78d6-4be5-e65f-3ac204a73fdc"
      },
      "outputs": [
        {
          "name": "stdout",
          "output_type": "stream",
          "text": [
            "0 a\n",
            "1 b\n",
            "2 c\n",
            "3 d\n",
            "4 e\n"
          ]
        }
      ],
      "source": [
        "# acessing the list using the enumerate() function\n",
        "\n",
        "elements = ['a', 'b', 'c', 'd', 'e']\n",
        "\n",
        "for index, value in enumerate(elements):\n",
        "    print(index, value)"
      ]
    },
    {
      "cell_type": "markdown",
      "id": "d8fb00f1",
      "metadata": {},
      "source": [
        "### MULTIDIMENSIONAL LISTS"
      ]
    },
    {
      "cell_type": "code",
      "execution_count": null,
      "id": "2dcc4625",
      "metadata": {
        "id": "2dcc4625",
        "outputId": "cf09538f-e052-4638-9613-024d1dc311a7"
      },
      "outputs": [
        {
          "name": "stdout",
          "output_type": "stream",
          "text": [
            "['annabelle', 'bheem', 'charlie']\n",
            "bheem\n",
            "b\n",
            "m\n",
            "chan\n",
            "dora\n"
          ]
        }
      ],
      "source": [
        "# multi-dimensional lists\n",
        "\n",
        "m = [\n",
        "    ['annabelle', 'bheem', 'charlie'],\n",
        "    ['doraemon', 'oggy', 'fantastic 4'],\n",
        "    ['gatorgaj', 'hagemaru', 'shinchan']\n",
        "]\n",
        "\n",
        "print(m[0])           # ['annabelle', 'bheem', 'charlie']\n",
        "print(m[0][1])        # bheem\n",
        "print(m[0][1][0])     # b\n",
        "print(m[0][1][4::1])  # m\n",
        "print(m[2][2][4:])    # chan\n",
        "print(m[1][0][:4])    # dora"
      ]
    },
    {
      "cell_type": "code",
      "execution_count": null,
      "id": "de44d3c4",
      "metadata": {
        "id": "de44d3c4",
        "outputId": "db5e9b4c-1fa9-4704-9bb3-153c23f972e6"
      },
      "outputs": [
        {
          "name": "stdout",
          "output_type": "stream",
          "text": [
            "['The', 'Hello', 'Moon']\n"
          ]
        }
      ],
      "source": [
        "e = ['The', 'Moon']\n",
        "e.insert(1, \"Hello\")\n",
        "print(e)"
      ]
    },
    {
      "cell_type": "code",
      "execution_count": null,
      "id": "7b30f999",
      "metadata": {
        "id": "7b30f999",
        "outputId": "bd87c983-45b5-48fd-e793-c18186c0a261"
      },
      "outputs": [
        {
          "name": "stdout",
          "output_type": "stream",
          "text": [
            "['The', 'Moon', 'Hello']\n"
          ]
        }
      ],
      "source": [
        "e = ['The', 'Moon']\n",
        "e.append(\"Hello\")\n",
        "print(e)"
      ]
    },
    {
      "cell_type": "code",
      "execution_count": null,
      "id": "cdfe59f0",
      "metadata": {
        "id": "cdfe59f0",
        "outputId": "ea454c96-aa47-46c1-b58c-a5c9c2f02624"
      },
      "outputs": [
        {
          "name": "stdout",
          "output_type": "stream",
          "text": [
            "['The', 'Moon', 'this', 'is', 'great']\n"
          ]
        }
      ],
      "source": [
        "e = ['The', 'Moon']\n",
        "e.extend([\"this\", \"is\", \"great\"])\n",
        "print(e)"
      ]
    },
    {
      "cell_type": "code",
      "execution_count": null,
      "id": "db06291b",
      "metadata": {
        "id": "db06291b",
        "outputId": "8de2d2c7-f2de-47e4-acd4-b03bd77c8886"
      },
      "outputs": [
        {
          "name": "stdout",
          "output_type": "stream",
          "text": [
            "p = ['The', 'Moon', 'this', 'is', 'great']\n",
            "p = ['The', 'Moon', 'this', 'is']\n",
            "e = ['The', 'Moon', 'this', 'is']\n",
            "140347910439424 140347910439424\n"
          ]
        }
      ],
      "source": [
        "e = ['The', 'Moon', 'this', 'is', 'great']\n",
        "p = e\n",
        "print(\"p =\", p)     # same as e\n",
        "p.pop()             # remove an element from 'p'\n",
        "print(\"p =\", p)     # 'p' changed\n",
        "print(\"e =\", e)     # 'e' changed too.\n",
        "print(id(p), id(e)) # cause they transferred id instead."
      ]
    },
    {
      "cell_type": "markdown",
      "id": "2d4ae5c1",
      "metadata": {},
      "source": [
        "### COPYING LISTS"
      ]
    },
    {
      "cell_type": "code",
      "execution_count": null,
      "id": "3c090a80",
      "metadata": {
        "id": "3c090a80",
        "outputId": "4dc18286-97d0-461a-d8e7-1061efcf48ae"
      },
      "outputs": [
        {
          "name": "stdout",
          "output_type": "stream",
          "text": [
            "p = ['The', 'Moon', 'this', 'is', 'great']\n",
            "p = ['The', 'Moon', 'this', 'is']\n",
            "e = ['The', 'Moon', 'this', 'is', 'great']\n",
            "140347905054080 140347905023232\n"
          ]
        }
      ],
      "source": [
        "e = ['The', 'Moon', 'this', 'is', 'great']\n",
        "p = e.copy()        # using the list.copy() method\n",
        "print(\"p =\", p)     # same as e\n",
        "p.pop()             # remove an element from 'p'\n",
        "print(\"p =\", p)     # 'p' changed\n",
        "print(\"e =\", e)     # 'e' didn't change.\n",
        "print(id(p), id(e)) # cause they transferred 'Data' instead."
      ]
    },
    {
      "cell_type": "code",
      "execution_count": null,
      "id": "86145759",
      "metadata": {
        "id": "86145759",
        "outputId": "d455a8d7-e8ca-4f01-b5df-33cb35a64e18"
      },
      "outputs": [
        {
          "name": "stdout",
          "output_type": "stream",
          "text": [
            "m = [['annabelle', 'bheem', 'Toys'], ['doraemon', 'oggy', 'fantastic 4'], ['gatorgaj', 'hagemaru', 'shinchan']]\n",
            "n = [['annabelle', 'bheem', 'Toys'], ['doraemon', 'oggy', 'fantastic 4'], ['gatorgaj', 'hagemaru', 'shinchan']]\n",
            "140347905112960 140347905023616\n",
            "140347905025152 140347905025152\n"
          ]
        }
      ],
      "source": [
        "m = [\n",
        "    ['annabelle', 'bheem', 'charlie'],\n",
        "    ['doraemon', 'oggy', 'fantastic 4'],\n",
        "    ['gatorgaj', 'hagemaru', 'shinchan']\n",
        "]\n",
        "\n",
        "# normal .copy() only changes the id for the main list and no the lists or other\n",
        "# non-primitive lists inside it.\n",
        "\n",
        "n = m.copy()\n",
        "n[0][2] = \"Toys\" # modifying in 'n'\n",
        "\n",
        "print(f\"m = {m}\\nn = {n}\") # changed in both 'm' and 'n'\n",
        "print(id(m), id(n))        # main id's are different\n",
        "print(id(m[0]), id(n[0]))  # id's for inner lists remain the same"
      ]
    },
    {
      "cell_type": "code",
      "execution_count": null,
      "id": "07be4c73",
      "metadata": {
        "id": "07be4c73",
        "outputId": "5b62942f-dc4e-4b58-e66e-6e3b0a34e277"
      },
      "outputs": [
        {
          "name": "stdout",
          "output_type": "stream",
          "text": [
            "m = [['annabelle', 'bheem', 'charlie'], ['doraemon', 'oggy', 'fantastic 4'], ['gatorgaj', 'hagemaru', 'shinchan']]\n",
            "n = [['annabelle', 'bheem', 'Toys'], ['doraemon', 'oggy', 'fantastic 4'], ['gatorgaj', 'hagemaru', 'shinchan']]\n",
            "140347905113152 140347905106176\n",
            "140347905106496 140347905038464\n"
          ]
        }
      ],
      "source": [
        "# by using the deepcopy function from the copy module, it creates correct copies\n",
        "# of all non primitive data.\n",
        "\n",
        "import copy\n",
        "\n",
        "m = [\n",
        "    ['annabelle', 'bheem', 'charlie'],\n",
        "    ['doraemon', 'oggy', 'fantastic 4'],\n",
        "    ['gatorgaj', 'hagemaru', 'shinchan']\n",
        "]\n",
        "\n",
        "n = copy.deepcopy(m)\n",
        "n[0][2] = \"Toys\"           # modifying in 'n'\n",
        "\n",
        "print(f\"m = {m}\\nn = {n}\") # changed in only 'n'\n",
        "print(id(m), id(n))        # main id's are different\n",
        "print(id(m[0]), id(n[0]))  # id's for inner lists are also different"
      ]
    },
    {
      "cell_type": "code",
      "execution_count": null,
      "id": "300b6f32",
      "metadata": {
        "id": "300b6f32",
        "outputId": "d070daf8-13a5-4763-e2b9-c1b72d3c3655"
      },
      "outputs": [
        {
          "name": "stdout",
          "output_type": "stream",
          "text": [
            "f = [6, 5, 4, 3, 2, 1]\n"
          ]
        }
      ],
      "source": [
        "# difference between .reverse() method and reversed() function\n",
        "\n",
        "# reversed() function does not modify the original list or data\n",
        "# it only returns a copy of the operation it performs.\n",
        "\n",
        "f = [1, 2, 3, 4, 5, 6]\n",
        "print(f\"f = {list(reversed(f))}\")"
      ]
    },
    {
      "cell_type": "code",
      "execution_count": null,
      "id": "6b07add0",
      "metadata": {
        "id": "6b07add0",
        "outputId": "84ebe9c2-adb8-4f26-9ea7-e26109fc7b8f"
      },
      "outputs": [
        {
          "name": "stdout",
          "output_type": "stream",
          "text": [
            "f = [6, 5, 4, 3, 2, 1]\n"
          ]
        }
      ],
      "source": [
        "# the .reversed() method modifies the original list\n",
        "\n",
        "f = [1, 2, 3, 4, 5, 6]\n",
        "f.reverse()\n",
        "print(f\"f = {f}\")"
      ]
    },
    {
      "cell_type": "code",
      "execution_count": null,
      "id": "87375011",
      "metadata": {
        "id": "87375011",
        "outputId": "46f94ef3-a5db-46ed-ced5-950b857ee270"
      },
      "outputs": [
        {
          "name": "stdout",
          "output_type": "stream",
          "text": [
            "[[1, 2, 3, 4], [5, 6, 7, 8, 9]]\n"
          ]
        }
      ],
      "source": [
        "# dynamically create this list using an empty list\n",
        "# 1. My way\n",
        "\n",
        "question = [[1, 2, 3, 4], [5 ,6 ,7 ,8 ,9]]\n",
        "answer = []\n",
        "\n",
        "temp = []\n",
        "\n",
        "for i in range(1, 5):\n",
        "  temp.append(i)\n",
        "answer.append(list(temp))\n",
        "temp.clear()\n",
        "\n",
        "for i in range(5, 10):\n",
        "  temp.append(i)\n",
        "answer.append(list(temp))\n",
        "temp.clear()\n",
        "\n",
        "print(answer)"
      ]
    },
    {
      "cell_type": "code",
      "execution_count": null,
      "id": "4168fea6",
      "metadata": {
        "id": "4168fea6",
        "outputId": "08349f98-a49d-42fd-ac69-085f4f912288"
      },
      "outputs": [
        {
          "name": "stdout",
          "output_type": "stream",
          "text": [
            "[[1, 2, 3, 4], [5, 6, 7, 8, 9]]\n"
          ]
        }
      ],
      "source": [
        "# 2. using list comprehension\n",
        "\n",
        "question = [[1, 2, 3, 4], [5 ,6 ,7 ,8 ,9]]\n",
        "answer = []\n",
        "\n",
        "answer.append([i for i in range(1, 5)])\n",
        "answer.append([i for i in range(5, 10)])\n",
        "\n",
        "print(answer)"
      ]
    },
    {
      "cell_type": "code",
      "execution_count": null,
      "id": "6IMHlVXUs3bE",
      "metadata": {
        "id": "6IMHlVXUs3bE",
        "outputId": "b4a175ea-3e43-46d6-99aa-01c608e4141d"
      },
      "outputs": [
        {
          "name": "stdout",
          "output_type": "stream",
          "text": [
            "[[1, 2, 3, 4], [5, 6, 7, 8, 9]]\n"
          ]
        }
      ],
      "source": [
        "# 3. using list comprehension in a single line\n",
        "\n",
        "answer = [[i for i in range(1, 5)], [i for i in range(5, 10)]]\n",
        "print(answer)"
      ]
    },
    {
      "cell_type": "code",
      "execution_count": null,
      "id": "8NWbDu-NtF-C",
      "metadata": {
        "id": "8NWbDu-NtF-C",
        "outputId": "2ba05fea-3d61-4d81-852f-e578c9c52e15"
      },
      "outputs": [
        {
          "name": "stdout",
          "output_type": "stream",
          "text": [
            "8 found at 0, 2\n"
          ]
        }
      ],
      "source": [
        "# return the position of the element in the matrix\n",
        "# 1. my way\n",
        "\n",
        "matrix = [\n",
        "    [1, 3, 8],\n",
        "    [9, 11, \"Hello\"],\n",
        "    [13, 15, \"World\"]\n",
        "]\n",
        "\n",
        "element_to_find = input(\"Enter the element to find: \")\n",
        "res = \"not found\"\n",
        "\n",
        "if element_to_find.isnumeric():\n",
        "    element_to_find = int(element_to_find)\n",
        "\n",
        "for i in range(len(matrix)):\n",
        "    for j in range(len(matrix[i])):\n",
        "        if matrix[i][j] == element_to_find:\n",
        "            res = f\"{element_to_find} found at {i}, {j}\"\n",
        "\n",
        "print(res)"
      ]
    },
    {
      "cell_type": "markdown",
      "id": "1689b9b3",
      "metadata": {},
      "source": [
        "## TUPLE"
      ]
    },
    {
      "cell_type": "code",
      "execution_count": null,
      "id": "oXT7McqowwDc",
      "metadata": {
        "id": "oXT7McqowwDc",
        "outputId": "8d1416de-51b9-4165-d221-0eb357228422"
      },
      "outputs": [
        {
          "name": "stdout",
          "output_type": "stream",
          "text": [
            "(1,)\n"
          ]
        }
      ],
      "source": [
        "a = (1, ) # tuple with a single element\n",
        "print(a)"
      ]
    },
    {
      "cell_type": "code",
      "execution_count": null,
      "id": "ceb3eb15",
      "metadata": {
        "id": "ceb3eb15",
        "outputId": "31b33bc8-72ff-49c3-c8c0-cef6d17ca4a7"
      },
      "outputs": [
        {
          "name": "stdout",
          "output_type": "stream",
          "text": [
            "(1, 2, 3)\n"
          ]
        }
      ],
      "source": [
        "a = (1, 2, 3) # normal tuple\n",
        "print(a)"
      ]
    },
    {
      "cell_type": "code",
      "execution_count": null,
      "id": "eca34a70",
      "metadata": {
        "id": "eca34a70",
        "outputId": "279905b6-ec8c-40ad-c9b2-d3bb9c367ed0"
      },
      "outputs": [
        {
          "name": "stdout",
          "output_type": "stream",
          "text": [
            "()\n",
            "(1, 2, 3)\n"
          ]
        }
      ],
      "source": [
        "a = tuple() # create an empty tuple\n",
        "print(a)\n",
        "a = tuple([1, 2, 3]) # tuple using the tuple class\n",
        "print(a)"
      ]
    },
    {
      "cell_type": "code",
      "execution_count": null,
      "id": "3bb04c46",
      "metadata": {
        "id": "3bb04c46",
        "outputId": "84743521-b45a-469b-acf8-9341da745697"
      },
      "outputs": [
        {
          "name": "stdout",
          "output_type": "stream",
          "text": [
            "<class 'tuple'>\n"
          ]
        }
      ],
      "source": [
        "print(type(a))"
      ]
    },
    {
      "cell_type": "code",
      "execution_count": null,
      "id": "8842fb1a",
      "metadata": {
        "id": "8842fb1a",
        "outputId": "87935d2b-5ac6-44fd-f05b-2fbae18f1fef"
      },
      "outputs": [
        {
          "data": {
            "text/plain": [
              "1"
            ]
          },
          "execution_count": 242,
          "metadata": {},
          "output_type": "execute_result"
        }
      ],
      "source": [
        "a = tuple([1, 2, 3])\n",
        "a.count(2)"
      ]
    },
    {
      "cell_type": "code",
      "execution_count": null,
      "id": "d4cf142c",
      "metadata": {
        "id": "d4cf142c",
        "outputId": "e39fa972-b44f-4b49-d5bb-14a8fee32f3f"
      },
      "outputs": [
        {
          "data": {
            "text/plain": [
              "2"
            ]
          },
          "execution_count": 243,
          "metadata": {},
          "output_type": "execute_result"
        }
      ],
      "source": [
        "a = tuple([1, 2, 3])\n",
        "a.index(3)"
      ]
    },
    {
      "cell_type": "markdown",
      "id": "f348db9e",
      "metadata": {},
      "source": [
        "### PACKING UNPACKING"
      ]
    },
    {
      "cell_type": "code",
      "execution_count": null,
      "id": "fe700488",
      "metadata": {
        "id": "fe700488",
        "outputId": "aa6c0280-3230-49f0-84d0-a9bfec56527d"
      },
      "outputs": [
        {
          "name": "stdout",
          "output_type": "stream",
          "text": [
            "(1, 2, 3)\n",
            "(0, 1, 2, 3, 4)\n"
          ]
        }
      ],
      "source": [
        "# how to modify a tuple\n",
        "# 1. type cast into another data type like a list\n",
        "\n",
        "a = (1, 2, 3)\n",
        "print(a) # before\n",
        "\n",
        "a = list(a)\n",
        "a.insert(len(a), 4)\n",
        "a.insert(0, 0)\n",
        "a = tuple(a)\n",
        "\n",
        "print(a) # after"
      ]
    },
    {
      "cell_type": "code",
      "execution_count": null,
      "id": "1b9cb650",
      "metadata": {
        "id": "1b9cb650",
        "outputId": "336faa39-7411-4845-9b30-50acb056f9a1"
      },
      "outputs": [
        {
          "name": "stdout",
          "output_type": "stream",
          "text": [
            "(0, 1, 2, 3, 4)\n"
          ]
        }
      ],
      "source": [
        "# 2. using unpacking\n",
        "\n",
        "a = (1, 2, 3)\n",
        "a = tuple((0, *a, 4))\n",
        "print(a)"
      ]
    },
    {
      "cell_type": "code",
      "execution_count": null,
      "id": "81df09f9",
      "metadata": {
        "id": "81df09f9",
        "outputId": "d16976a1-0ea4-412d-a0bc-c451531698db"
      },
      "outputs": [
        {
          "name": "stdout",
          "output_type": "stream",
          "text": [
            "10 [20, 30, 40] 50\n",
            "10 20 30 40 50\n"
          ]
        }
      ],
      "source": [
        "# packing\n",
        "\n",
        "a, *b, c = 10, 20, 30, 40, 50\n",
        "print(a, b, c)\n",
        "print(a, *b, c)"
      ]
    },
    {
      "cell_type": "code",
      "execution_count": null,
      "id": "9046997a",
      "metadata": {
        "id": "9046997a",
        "outputId": "04a43b8a-194e-4010-ea60-09f55bed3e40"
      },
      "outputs": [
        {
          "name": "stdout",
          "output_type": "stream",
          "text": [
            "[1, 2, 3]\n",
            "([1, 2, 3, 4], 5, 6, 7)\n"
          ]
        }
      ],
      "source": [
        "# modifying a mutable datatype inside a tuple\n",
        "\n",
        "a = ([1, 2, 3], 5, 6, 7)\n",
        "print(a[0])\n",
        "\n",
        "a[0].append(4)\n",
        "print(a)"
      ]
    },
    {
      "cell_type": "code",
      "execution_count": null,
      "id": "0f9450b1",
      "metadata": {
        "id": "0f9450b1",
        "outputId": "c14d68b5-ef89-4b70-e277-b5fd626adcde"
      },
      "outputs": [
        {
          "name": "stdout",
          "output_type": "stream",
          "text": [
            "{1, 2, 3, 4}\n"
          ]
        }
      ],
      "source": [
        "# set\n",
        "\n",
        "s = {1, 2, 3, 4} # create a set\n",
        "print(s)"
      ]
    },
    {
      "cell_type": "code",
      "execution_count": null,
      "id": "302210af",
      "metadata": {
        "id": "302210af",
        "outputId": "76f90adf-1553-4110-d154-92f23ae0fe45"
      },
      "outputs": [
        {
          "name": "stdout",
          "output_type": "stream",
          "text": [
            "<class 'set'>\n"
          ]
        }
      ],
      "source": [
        "s = set() # create an empty set\n",
        "print(type(s))"
      ]
    },
    {
      "cell_type": "code",
      "execution_count": null,
      "id": "e2ee4921",
      "metadata": {
        "id": "e2ee4921",
        "outputId": "64da3934-a40e-4e0a-c2e0-39e920131923"
      },
      "outputs": [
        {
          "name": "stdout",
          "output_type": "stream",
          "text": [
            "{0, 1, 'abc', 2}\n"
          ]
        }
      ],
      "source": [
        "s = {\"abc\", 1, 2, 0, 0}\n",
        "print(s) # set only stores unique values and stores them based on priority."
      ]
    },
    {
      "cell_type": "code",
      "execution_count": null,
      "id": "280f0642",
      "metadata": {
        "id": "280f0642",
        "outputId": "1b4c6e88-13b8-44b4-a695-73ceb822055d"
      },
      "outputs": [
        {
          "ename": "TypeError",
          "evalue": "unhashable type: 'list'",
          "output_type": "error",
          "traceback": [
            "\u001b[0;31m---------------------------------------------------------------------------\u001b[0m",
            "\u001b[0;31mTypeError\u001b[0m                                 Traceback (most recent call last)",
            "Cell \u001b[0;32mIn[251], line 1\u001b[0m\n\u001b[0;32m----> 1\u001b[0m s \u001b[38;5;241m=\u001b[39m {[\u001b[38;5;241m1\u001b[39m, \u001b[38;5;241m2\u001b[39m, \u001b[38;5;241m3\u001b[39m], [\u001b[38;5;241m4\u001b[39m, \u001b[38;5;241m5\u001b[39m, \u001b[38;5;241m6\u001b[39m]} \u001b[38;5;66;03m# set can't hold any unhashable data.\u001b[39;00m\n",
            "\u001b[0;31mTypeError\u001b[0m: unhashable type: 'list'"
          ]
        }
      ],
      "source": [
        "s = {[1, 2, 3], [4, 5, 6]} # set can't hold any unhashable data."
      ]
    },
    {
      "cell_type": "markdown",
      "id": "c4e5efee",
      "metadata": {},
      "source": [
        "### HASH"
      ]
    },
    {
      "cell_type": "code",
      "execution_count": null,
      "id": "7f8db49d",
      "metadata": {
        "id": "7f8db49d",
        "outputId": "1784830d-ecb9-4464-d28b-268fc08428ef"
      },
      "outputs": [
        {
          "name": "stdout",
          "output_type": "stream",
          "text": [
            "7171678745284387942\n",
            "-2756880065823499278\n"
          ]
        }
      ],
      "source": [
        "print(hash(\"abcdefghijklmnopqrstuvwxyz\"))           # converts data into a hash code\n",
        "print(hash(\"123321123213132132132132132132131321\"))"
      ]
    },
    {
      "cell_type": "markdown",
      "id": "003dc4f9",
      "metadata": {},
      "source": [
        "## SET"
      ]
    },
    {
      "cell_type": "code",
      "execution_count": null,
      "id": "ab0f69a9",
      "metadata": {
        "id": "ab0f69a9",
        "outputId": "17450692-f461-4a2b-da0c-02cdf2393105"
      },
      "outputs": [
        {
          "ename": "TypeError",
          "evalue": "unhashable type: 'list'",
          "output_type": "error",
          "traceback": [
            "\u001b[0;31m---------------------------------------------------------------------------\u001b[0m",
            "\u001b[0;31mTypeError\u001b[0m                                 Traceback (most recent call last)",
            "Cell \u001b[0;32mIn[253], line 1\u001b[0m\n\u001b[0;32m----> 1\u001b[0m s \u001b[38;5;241m=\u001b[39m {(\u001b[38;5;241m1\u001b[39m, [\u001b[38;5;241m2\u001b[39m], \u001b[38;5;241m3\u001b[39m), \u001b[38;5;241m4\u001b[39m, \u001b[38;5;241m5\u001b[39m, \u001b[38;5;241m6\u001b[39m} \u001b[38;5;66;03m# can't hold any unhashable data even if inside an hashable form.\u001b[39;00m\n\u001b[1;32m      2\u001b[0m \u001b[38;5;28mprint\u001b[39m(s)\n",
            "\u001b[0;31mTypeError\u001b[0m: unhashable type: 'list'"
          ]
        }
      ],
      "source": [
        "s = {(1, [2], 3), 4, 5, 6} # can't hold any unhashable data even if inside an hashable form.\n",
        "print(s)"
      ]
    },
    {
      "cell_type": "code",
      "execution_count": null,
      "id": "62b5cea1",
      "metadata": {
        "id": "62b5cea1",
        "outputId": "ad11b9e4-e3af-4a2f-d7d0-c95d0dfc2b9b"
      },
      "outputs": [
        {
          "name": "stdout",
          "output_type": "stream",
          "text": [
            "{1, 2, 3} {2, 3, 5, 7} {4, 6} {1, 2, 3, 4, 5, 6, 7}\n"
          ]
        }
      ],
      "source": [
        "# set theory\n",
        "\n",
        "a = {1, 2, 3}\n",
        "b = {2, 3, 5, 7}\n",
        "c = {4, 6}\n",
        "\n",
        "# basic way to get the union of sets\n",
        "u = {*a, *b, *c}\n",
        "\n",
        "print(a, b, c, u)"
      ]
    },
    {
      "cell_type": "markdown",
      "id": "d454a01f",
      "metadata": {},
      "source": [
        "### SET METHODS"
      ]
    },
    {
      "cell_type": "code",
      "execution_count": null,
      "id": "ed3a7a94",
      "metadata": {
        "id": "ed3a7a94",
        "outputId": "ef153c23-b912-4dee-d5f7-1069e9848b03"
      },
      "outputs": [
        {
          "name": "stdout",
          "output_type": "stream",
          "text": [
            "{1, 2, 3, 4, 5, 6, 7}\n"
          ]
        }
      ],
      "source": [
        "# get union of sets using the union method\n",
        "u = a.union(b.union(c))\n",
        "print(u)"
      ]
    },
    {
      "cell_type": "code",
      "execution_count": null,
      "id": "cc9c688b",
      "metadata": {
        "id": "cc9c688b",
        "outputId": "bd09009b-1aa3-4fd4-d741-7bb57e049537"
      },
      "outputs": [
        {
          "name": "stdout",
          "output_type": "stream",
          "text": [
            "True\n",
            "True\n",
            "{1}\n",
            "None\n"
          ]
        }
      ],
      "source": [
        "a = {1, 2, 3}\n",
        "b = {2, 3, 5, 7}\n",
        "c = {4, 6}\n",
        "u = {*a, *b, *c}\n",
        "\n",
        "print(a.issubset(u))          # true if all values of 'a' are in 'u'\n",
        "print(u.issuperset(a))        # true if all values of 'u' are in 'a'\n",
        "print(a.difference(b))        # returns 'a' - 'b'\n",
        "print(a.difference_update(b)) # updates value of 'a' with 'a' - 'b'\n"
      ]
    },
    {
      "cell_type": "code",
      "execution_count": null,
      "id": "9c5099cd",
      "metadata": {
        "id": "9c5099cd",
        "outputId": "15646a33-4b87-4c60-f4d3-ff455ee37777"
      },
      "outputs": [
        {
          "name": "stdout",
          "output_type": "stream",
          "text": [
            "True\n",
            "None\n",
            "{2, 3}\n",
            "None\n"
          ]
        }
      ],
      "source": [
        "a = {1, 2, 3}\n",
        "b = {2, 3, 5, 7}\n",
        "c = {4, 6}\n",
        "u = {*a, *b, *c}\n",
        "\n",
        "print(a.isdisjoint(c))          # true if there are no common values between two sets\n",
        "print(a.discard(1))             # removes an element if present\n",
        "print(a.intersection(b))        # returns the commmon values\n",
        "print(a.intersection_update(b)) # updates value of 'a' with 'a' intersection 'b'"
      ]
    },
    {
      "cell_type": "code",
      "execution_count": null,
      "id": "3d806607",
      "metadata": {
        "id": "3d806607",
        "outputId": "8bf50c24-182d-4a1b-de7c-1ad8121a560b"
      },
      "outputs": [
        {
          "name": "stdout",
          "output_type": "stream",
          "text": [
            "1\n",
            "None\n",
            "{2, 5, 7}\n",
            "None\n"
          ]
        }
      ],
      "source": [
        "a = {1, 2, 3}\n",
        "b = {2, 3, 5, 7}\n",
        "c = {4, 6}\n",
        "u = {*a, *b, *c}\n",
        "\n",
        "print(a.pop())                   # removes a random element\n",
        "print(a.remove(2))               # removes the particular element\n",
        "print(a.symmetric_difference(b)) # returns the uncommon values of 'a' and 'b'\n",
        "print(a.update(b))"
      ]
    },
    {
      "cell_type": "markdown",
      "id": "5f554e48",
      "metadata": {},
      "source": [
        "## DICTIONARY"
      ]
    },
    {
      "cell_type": "code",
      "execution_count": null,
      "id": "ea7ea646",
      "metadata": {
        "id": "ea7ea646",
        "outputId": "a1fe28f0-0065-4f96-9885-e6f917babf6e"
      },
      "outputs": [
        {
          "name": "stdout",
          "output_type": "stream",
          "text": [
            "One\n"
          ]
        }
      ],
      "source": [
        "# dictionary\n",
        "d = {\n",
        "    1 : \"One\",\n",
        "    2 : \"two\"\n",
        "}\n",
        "\n",
        "print(d[1]) # values can only be accessed by keys."
      ]
    },
    {
      "cell_type": "code",
      "execution_count": null,
      "id": "18395e29",
      "metadata": {
        "id": "18395e29",
        "outputId": "991c7796-9682-4592-ecfc-9e9d1ca13519"
      },
      "outputs": [
        {
          "name": "stdout",
          "output_type": "stream",
          "text": [
            "{1: 'One', 2: 'Two'}\n",
            "{1: 'One', 2: 'Two', 3: 'Three'}\n"
          ]
        }
      ],
      "source": [
        "d[2] = \"Two\"\n",
        "print(d)   # updates the value of key if present.\n",
        "\n",
        "d[3] = \"Three\"\n",
        "print(d)   # else inserts a new key value pair."
      ]
    },
    {
      "cell_type": "code",
      "execution_count": null,
      "id": "5e9d2e81",
      "metadata": {
        "id": "5e9d2e81",
        "outputId": "088c2f0f-ffa2-4293-843b-ed998a7829d3"
      },
      "outputs": [
        {
          "name": "stdout",
          "output_type": "stream",
          "text": [
            "{'h': 1, 'e': 1, 'l': 3, 'o': 2, ' ': 1, 'w': 1, 'r': 1, 'd': 1}\n"
          ]
        }
      ],
      "source": [
        "# count the number of each character in a string by using a dictionary.\n",
        "\n",
        "s = \"Hello World\"\n",
        "ch_count = {}\n",
        "\n",
        "for ch in s.lower():\n",
        "    if ch in ch_count:\n",
        "        ch_count[ch] += 1\n",
        "    else:\n",
        "        ch_count[ch] = 1\n",
        "\n",
        "print(ch_count)"
      ]
    },
    {
      "cell_type": "code",
      "execution_count": null,
      "id": "a6cc2d9e",
      "metadata": {
        "id": "a6cc2d9e"
      },
      "outputs": [],
      "source": [
        "s = \"\"\"\n",
        "Your Excellency, Honourable President,\n",
        "Distinguished delegates from both nations,\n",
        "Friends from the media,\n",
        "\n",
        "Namaskar!\n",
        "Kalimera!\n",
        "\n",
        "At the very outset, I extend my heartfelt gratitude to the Honourable President for the warm welcome and gracious hospitality. Since the moment I set foot on the soil of Cyprus yesterday, the warmth and affection shown by the President and the people of this country have truly touched my heart.\n",
        "\n",
        "A short while ago, I was conferred with a prestigious honour by Cyprus. This accolade is not mine alone — it is a tribute to the 140 crore Indians. It symbolises the enduring friendship between India and Cyprus. I express my sincere thanks, once again, for this honour.\n",
        "\n",
        "Friends,\n",
        "\n",
        "We attach great importance to our relations with Cyprus. Our shared commitment to values such as democracy and the rule of law forms the strong foundation of our partnership. The friendship between India and Cyprus is not one that has emerged out of circumstances, nor is it confined by borders.\n",
        "\n",
        "It has withstood the test of time, again and again. In every era, we have upheld the spirit of cooperation, respect and mutual support. We honour each other’s sovereignty and territorial integrity.\n",
        "\n",
        "Friends,\n",
        "\n",
        "This visit marks the first by an Indian Prime Minister to Cyprus in over two decades. It presents a golden opportunity to script a new chapter in our bilateral relations. Today, the Honourable President and I held extensive discussions on all aspects of our partnership.\n",
        "\n",
        "There are many similarities between Cyprus’s “Vision 2035” and our vision of a “Viksit Bharat 2047”. Therefore, we shall work together to shape our shared future. To provide strategic direction to our partnership, we will develop a concrete roadmap for the next five years.\n",
        "\n",
        "To further strengthen our defence and security cooperation, the bilateral Defence Cooperation Programme will focus on defence industry collaboration. Separate dialogues will be initiated on cyber and maritime security.\n",
        "\n",
        "We are deeply grateful to Cyprus for its consistent support of Bharat’s fight against cross-border terrorism. To combat terrorism, drug trafficking and arms smuggling, a mechanism will be established for real-time information exchange between our respective agencies. We both agree that there is immense potential in enhancing bilateral trade and investment.\n",
        "\n",
        "Yesterday, during my interaction with the Honourable President, I sensed great enthusiasm and synergy within the business community regarding our economic ties. We are working towards concluding a mutually beneficial India-EU Free Trade Agreement by the end of the year.\n",
        "\n",
        "This year, the “India-Cyprus-Greece Business and Investment Council” has also been launched. Such initiatives will boost bilateral trade and investment between our countries.\n",
        "\n",
        "We also held detailed discussions on expanding cooperation in areas such as technology, innovation, health, agriculture, renewable energy, and climate justice. We are encouraged by the growing popularity of yoga and Ayurveda in Cyprus.\n",
        "\n",
        "Cyprus is a preferred destination for Indian tourists as well. We shall work towards establishing direct air connectivity to facilitate their travel. We have resolved to expedite the finalisation of a Mobility Agreement.\n",
        "\n",
        "Friends,\n",
        "\n",
        "Within the European Union, Cyprus is our trusted partner. We extend our best wishes for Cyprus’s upcoming Presidency of the European Union next year. We are confident that, under your leadership, India-EU relations will reach new heights.\n",
        "\n",
        "Both nations share common views on the need to reform the United Nations to make it more representative. We are grateful to Cyprus for its support of Bharat’s bid for permanent membership in the UN Security Council.\n",
        "\n",
        "We have expressed concern over ongoing conflicts in West Asia and Europe. The adverse impact of these conflicts is not limited to their respective regions alone. We both agree that this is not an era of war.\n",
        "\n",
        "Dialogue and the restoration of stability are the calls of humanity. We also discussed enhancing connectivity with the Mediterranean region. We concur that the India-Middle East-Europe Economic Corridor will pave the way for peace and prosperity in the region.\n",
        "\n",
        "Honourable President,\n",
        "\n",
        "I extend a cordial invitation to you to visit Bharat. I look forward to the opportunity of welcoming you to Bharat at the earliest.\n",
        "\n",
        "Once again, I sincerely thank you for the exceptional hospitality and honour.\n",
        "\"\"\""
      ]
    },
    {
      "cell_type": "code",
      "execution_count": null,
      "id": "13880808",
      "metadata": {
        "id": "13880808",
        "outputId": "de6545c4-5d2c-42a1-d5a6-0348fefd7986"
      },
      "outputs": [
        {
          "name": "stdout",
          "output_type": "stream",
          "text": [
            "{'your': 2, 'excellency,': 1, 'honourable': 5, 'president,': 3, 'distinguished': 1, 'delegates': 1, 'from': 2, 'both': 4, 'nations,': 1, 'friends': 1, 'the': 42, 'media,': 1, 'namaskar!': 1, 'kalimera!': 1, 'at': 2, 'very': 1, 'outset,': 1, 'i': 9, 'extend': 3, 'my': 4, 'heartfelt': 1, 'gratitude': 1, 'to': 22, 'president': 3, 'for': 11, 'warm': 1, 'welcome': 1, 'and': 24, 'gracious': 1, 'hospitality.': 1, 'since': 1, 'moment': 1, 'set': 1, 'foot': 1, 'on': 6, 'soil': 1, 'of': 20, 'cyprus': 7, 'yesterday,': 2, 'warmth': 1, 'affection': 1, 'shown': 1, 'by': 6, 'people': 1, 'this': 6, 'country': 1, 'have': 4, 'truly': 1, 'touched': 1, 'heart.': 1, 'a': 12, 'short': 1, 'while': 1, 'ago,': 1, 'was': 1, 'conferred': 1, 'with': 4, 'prestigious': 1, 'honour': 2, 'cyprus.': 4, 'accolade': 1, 'is': 9, 'not': 4, 'mine': 1, 'alone': 1, '—': 1, 'it': 6, 'tribute': 1, '140': 1, 'crore': 1, 'indians.': 1, 'symbolises': 1, 'enduring': 1, 'friendship': 2, 'between': 5, 'india': 2, 'express': 1, 'sincere': 1, 'thanks,': 1, 'once': 2, 'again,': 2, 'honour.': 2, 'friends,': 3, 'we': 19, 'attach': 1, 'great': 2, 'importance': 1, 'our': 14, 'relations': 2, 'shared': 2, 'commitment': 1, 'values': 1, 'such': 3, 'as': 3, 'democracy': 1, 'rule': 1, 'law': 1, 'forms': 1, 'strong': 1, 'foundation': 1, 'partnership.': 2, 'one': 1, 'that': 4, 'has': 3, 'emerged': 1, 'out': 1, 'circumstances,': 1, 'nor': 1, 'confined': 1, 'borders.': 1, 'withstood': 1, 'test': 1, 'time,': 1, 'again': 1, 'again.': 1, 'in': 9, 'every': 1, 'era,': 1, 'upheld': 1, 'spirit': 1, 'cooperation,': 2, 'respect': 1, 'mutual': 1, 'support.': 1, 'each': 1, 'other’s': 1, 'sovereignty': 1, 'territorial': 1, 'integrity.': 1, 'visit': 2, 'marks': 1, 'first': 1, 'an': 2, 'indian': 2, 'prime': 1, 'minister': 1, 'over': 2, 'two': 1, 'decades.': 1, 'presents': 1, 'golden': 1, 'opportunity': 2, 'script': 1, 'new': 2, 'chapter': 1, 'bilateral': 4, 'relations.': 1, 'today,': 1, 'held': 2, 'extensive': 1, 'discussions': 2, 'all': 1, 'aspects': 1, 'there': 2, 'are': 7, 'many': 1, 'similarities': 1, 'cyprus’s': 2, '“vision': 1, '2035”': 1, 'vision': 1, '“viksit': 1, 'bharat': 2, '2047”.': 1, 'therefore,': 1, 'shall': 2, 'work': 2, 'together': 1, 'shape': 1, 'future.': 1, 'provide': 1, 'strategic': 1, 'direction': 1, 'partnership,': 1, 'will': 7, 'develop': 1, 'concrete': 1, 'roadmap': 1, 'next': 2, 'five': 1, 'years.': 1, 'further': 1, 'strengthen': 1, 'defence': 3, 'security': 2, 'cooperation': 2, 'programme': 1, 'focus': 1, 'industry': 1, 'collaboration.': 1, 'separate': 1, 'dialogues': 1, 'be': 2, 'initiated': 1, 'cyber': 1, 'maritime': 1, 'security.': 1, 'deeply': 1, 'grateful': 2, 'its': 2, 'consistent': 1, 'support': 2, 'bharat’s': 2, 'fight': 1, 'against': 1, 'cross-border': 1, 'terrorism.': 1, 'combat': 1, 'terrorism,': 1, 'drug': 1, 'trafficking': 1, 'arms': 1, 'smuggling,': 1, 'mechanism': 1, 'established': 1, 'real-time': 1, 'information': 1, 'exchange': 1, 'respective': 2, 'agencies.': 1, 'agree': 2, 'immense': 1, 'potential': 1, 'enhancing': 2, 'trade': 3, 'investment.': 1, 'during': 1, 'interaction': 1, 'sensed': 1, 'enthusiasm': 1, 'synergy': 1, 'within': 2, 'business': 2, 'community': 1, 'regarding': 1, 'economic': 2, 'ties.': 1, 'working': 1, 'towards': 2, 'concluding': 1, 'mutually': 1, 'beneficial': 1, 'india-eu': 2, 'free': 1, 'agreement': 1, 'end': 1, 'year.': 2, 'year,': 1, '“india-cyprus-greece': 1, 'investment': 2, 'council”': 1, 'also': 3, 'been': 1, 'launched.': 1, 'initiatives': 1, 'boost': 1, 'countries.': 1, 'detailed': 1, 'expanding': 1, 'areas': 1, 'technology,': 1, 'innovation,': 1, 'health,': 1, 'agriculture,': 1, 'renewable': 1, 'energy,': 1, 'climate': 1, 'justice.': 1, 'encouraged': 1, 'growing': 1, 'popularity': 1, 'yoga': 1, 'ayurveda': 1, 'preferred': 1, 'destination': 1, 'tourists': 1, 'well.': 1, 'establishing': 1, 'direct': 1, 'air': 1, 'connectivity': 2, 'facilitate': 1, 'their': 2, 'travel.': 1, 'resolved': 1, 'expedite': 1, 'finalisation': 1, 'mobility': 1, 'agreement.': 1, 'european': 2, 'union,': 1, 'trusted': 1, 'partner.': 1, 'best': 1, 'wishes': 1, 'upcoming': 1, 'presidency': 1, 'union': 1, 'confident': 1, 'that,': 1, 'under': 1, 'leadership,': 1, 'reach': 1, 'heights.': 1, 'nations': 2, 'share': 1, 'common': 1, 'views': 1, 'need': 1, 'reform': 1, 'united': 1, 'make': 1, 'more': 1, 'representative.': 1, 'bid': 1, 'permanent': 1, 'membership': 1, 'un': 1, 'council.': 1, 'expressed': 1, 'concern': 1, 'ongoing': 1, 'conflicts': 2, 'west': 1, 'asia': 1, 'europe.': 1, 'adverse': 1, 'impact': 1, 'these': 1, 'limited': 1, 'regions': 1, 'alone.': 1, 'era': 1, 'war.': 1, 'dialogue': 1, 'restoration': 1, 'stability': 1, 'calls': 1, 'humanity.': 1, 'discussed': 1, 'mediterranean': 1, 'region.': 2, 'concur': 1, 'india-middle': 1, 'east-europe': 1, 'corridor': 1, 'pave': 1, 'way': 1, 'peace': 1, 'prosperity': 1, 'cordial': 1, 'invitation': 1, 'you': 3, 'bharat.': 1, 'look': 1, 'forward': 1, 'welcoming': 1, 'earliest.': 1, 'sincerely': 1, 'thank': 1, 'exceptional': 1, 'hospitality': 1}\n"
          ]
        }
      ],
      "source": [
        "word_count = {}\n",
        "\n",
        "for word in s.lower().split():\n",
        "    if word in word_count:\n",
        "        word_count[word] += 1\n",
        "    else:\n",
        "        word_count[word] = 1\n",
        "\n",
        "print(word_count)"
      ]
    },
    {
      "cell_type": "code",
      "execution_count": null,
      "id": "0f47cbed",
      "metadata": {
        "id": "0f47cbed",
        "outputId": "4e69361b-fcdd-4701-c2d6-4e7c995cd803"
      },
      "outputs": [
        {
          "name": "stdout",
          "output_type": "stream",
          "text": [
            "{'the': 42, 'i': 9, 'to': 22, 'for': 11, 'and': 24, 'of': 20, 'cyprus': 7, 'a': 12, 'is': 9, 'we': 19, 'our': 14, 'in': 9, 'are': 7, 'will': 7}\n"
          ]
        }
      ],
      "source": [
        "copy_dict = word_count.copy()\n",
        "\n",
        "for k in copy_dict:\n",
        "    if word_count[k] < 7:\n",
        "        word_count.pop(k)\n",
        "\n",
        "print(word_count)"
      ]
    },
    {
      "cell_type": "markdown",
      "id": "029b6774",
      "metadata": {},
      "source": [
        "### DICTIONARY METHODS"
      ]
    },
    {
      "cell_type": "code",
      "execution_count": null,
      "id": "b9ba7c50",
      "metadata": {
        "id": "b9ba7c50",
        "outputId": "b1d32027-6d9d-4b6e-95b0-f6798b7e565f"
      },
      "outputs": [
        {
          "name": "stdout",
          "output_type": "stream",
          "text": [
            "{'h': None, 'e': None, 'l': None, 'o': None, ' ': None, 'w': None, 'r': None, 'd': None}\n"
          ]
        }
      ],
      "source": [
        "# fromkeys() method is used to create a dict from an iterable\n",
        "# and assigns null values to them.\n",
        "\n",
        "s = \"hello world\"\n",
        "char = dict.fromkeys(s)\n",
        "\n",
        "print(char)"
      ]
    },
    {
      "cell_type": "code",
      "execution_count": null,
      "id": "b516d071",
      "metadata": {
        "id": "b516d071",
        "outputId": "18227bef-84d2-471b-cb2f-a5c98088f671"
      },
      "outputs": [
        {
          "name": "stdout",
          "output_type": "stream",
          "text": [
            "one\n",
            "not found\n"
          ]
        }
      ],
      "source": [
        "# .get() method is used to fetch a value but it allows us to set a default\n",
        "# return value if not found.\n",
        "\n",
        "num = {1: 'one', 2 : 'two', 3 : 'three'}\n",
        "\n",
        "print(num.get(1))\n",
        "print(num.get(5, \"not found\"))"
      ]
    },
    {
      "cell_type": "code",
      "execution_count": null,
      "id": "b3325657",
      "metadata": {
        "id": "b3325657",
        "outputId": "21dccf9f-56e6-47c3-c7c7-6cbc4e4e265e"
      },
      "outputs": [
        {
          "name": "stdout",
          "output_type": "stream",
          "text": [
            "{1: 'one', 2: 'two', 3: 'three'}\n",
            "{1: 'one', 2: 'two', 3: 'three', 4: 'four'}\n"
          ]
        }
      ],
      "source": [
        "# .setdefault allows us to set key value pairs only if they dont exist.\n",
        "# if it exists then it doesn't update.\n",
        "\n",
        "num = {1: 'one', 2 : 'two', 3 : 'three'}\n",
        "\n",
        "num.setdefault(1, 999)\n",
        "print(num)\n",
        "\n",
        "num.setdefault(4, 'four')\n",
        "print(num)"
      ]
    },
    {
      "cell_type": "code",
      "execution_count": null,
      "id": "8a335f76",
      "metadata": {
        "id": "8a335f76",
        "outputId": "09d0c674-d25d-4282-df6d-6a85a57ea92a"
      },
      "outputs": [
        {
          "data": {
            "text/plain": [
              "dict_items([(1, 'one'), (2, 'two'), (3, 'three')])"
            ]
          },
          "execution_count": 268,
          "metadata": {},
          "output_type": "execute_result"
        }
      ],
      "source": [
        "# .items() returns a list of key value pairs in groups of tuples.\n",
        "\n",
        "num = {1: 'one', 2 : 'two', 3 : 'three'}\n",
        "\n",
        "num.items()"
      ]
    },
    {
      "cell_type": "code",
      "execution_count": null,
      "id": "1e87039c",
      "metadata": {
        "id": "1e87039c",
        "outputId": "5b643ead-8909-46ca-c035-fa093ca8da67"
      },
      "outputs": [
        {
          "data": {
            "text/plain": [
              "dict_keys([1, 2, 3])"
            ]
          },
          "execution_count": 269,
          "metadata": {},
          "output_type": "execute_result"
        }
      ],
      "source": [
        "# .keys() returns a list of all keys.\n",
        "\n",
        "num = {1: 'one', 2 : 'two', 3 : 'three'}\n",
        "\n",
        "num.keys()"
      ]
    },
    {
      "cell_type": "code",
      "execution_count": null,
      "id": "3b0939b2",
      "metadata": {
        "id": "3b0939b2",
        "outputId": "4941bb19-4620-4586-9c0a-7f9cb0465556"
      },
      "outputs": [
        {
          "data": {
            "text/plain": [
              "dict_values(['one', 'two', 'three'])"
            ]
          },
          "execution_count": 270,
          "metadata": {},
          "output_type": "execute_result"
        }
      ],
      "source": [
        "# .values() returns a list of all values.\n",
        "\n",
        "num = {1: 'one', 2 : 'two', 3 : 'three'}\n",
        "\n",
        "num.values()"
      ]
    },
    {
      "cell_type": "code",
      "execution_count": null,
      "id": "1cc0b2d9",
      "metadata": {
        "id": "1cc0b2d9",
        "outputId": "f18f90f1-c177-4c47-a4e7-284e909852ad"
      },
      "outputs": [
        {
          "name": "stdout",
          "output_type": "stream",
          "text": [
            "three\n",
            "{1: 'one', 2: 'two'}\n"
          ]
        }
      ],
      "source": [
        "# .pop() removes and returns a random element.\n",
        "\n",
        "num = {1: 'one', 2 : 'two', 3 : 'three'}\n",
        "\n",
        "print(num.pop(3))\n",
        "print(num)"
      ]
    },
    {
      "cell_type": "code",
      "execution_count": null,
      "id": "a3bd2a0e",
      "metadata": {
        "id": "a3bd2a0e",
        "outputId": "723fb909-89b5-4b05-c95c-8b2f7b8adb2d"
      },
      "outputs": [
        {
          "name": "stdout",
          "output_type": "stream",
          "text": [
            "(3, 'three')\n"
          ]
        }
      ],
      "source": [
        "# .popitem() removes and returns a key-value pair in a tuple.\n",
        "\n",
        "num = {1: 'one', 2 : 'two', 3 : 'three'}\n",
        "\n",
        "print(num.popitem())"
      ]
    },
    {
      "cell_type": "code",
      "execution_count": null,
      "id": "ea69a50e",
      "metadata": {
        "id": "ea69a50e",
        "outputId": "d48a8cd0-71ee-40c8-cf7d-f45ac75645bb"
      },
      "outputs": [
        {
          "name": "stdout",
          "output_type": "stream",
          "text": [
            "{1: 'one', 2: 'two', 3: 'three', 4: 'four'}\n"
          ]
        }
      ],
      "source": [
        "num = {1: 'one', 2 : 'two', 3 : 'three'}\n",
        "\n",
        "num.update({1: 'one', 2 : 'two', 3 : 'three', 4 : 'four'})\n",
        "print(num)"
      ]
    },
    {
      "cell_type": "code",
      "execution_count": null,
      "id": "1328a8fb",
      "metadata": {
        "id": "1328a8fb",
        "outputId": "d6d4b8cd-7a89-4514-f6c9-5b7c4c39a6de"
      },
      "outputs": [
        {
          "name": "stdout",
          "output_type": "stream",
          "text": [
            "101\n",
            "102\n",
            "103\n",
            "104\n",
            "end\n",
            "end\n"
          ]
        }
      ],
      "source": [
        "# In Python, iter() and next() are fundamental functions used to interact\n",
        "# with iterators, which are objects that represent a stream of data and can\n",
        "# be traversed one element at a time.\n",
        "\n",
        "s = [101, 102, 103, 104]\n",
        "i = iter(s)                # creates a manually iterable object.\n",
        "\n",
        "print(next(i, \"end\"))      # next function retrieves the next value, and can take\n",
        "print(next(i, \"end\"))      # a default value as any to avoid null error after the\n",
        "print(next(i, \"end\"))      # iterable runs out of values.\n",
        "print(next(i, \"end\"))\n",
        "print(next(i, \"end\"))      # ran out of values.\n",
        "print(next(i, \"end\"))      # ran out of values."
      ]
    },
    {
      "cell_type": "markdown",
      "id": "849738a6",
      "metadata": {
        "id": "849738a6"
      },
      "source": [
        "# FUNCTIONS"
      ]
    },
    {
      "cell_type": "code",
      "execution_count": null,
      "id": "73078407",
      "metadata": {
        "id": "73078407",
        "outputId": "13b9b219-d2ed-4166-b3b5-3248374a1709"
      },
      "outputs": [
        {
          "name": "stdout",
          "output_type": "stream",
          "text": [
            "Hello World!\n",
            "<function greet at 0x7fa54b1adab0>\n"
          ]
        }
      ],
      "source": [
        "# function definition\n",
        "\n",
        "def greet():\n",
        "    print(\"Hello World!\")\n",
        "\n",
        "greet()\n",
        "print(greet)"
      ]
    },
    {
      "cell_type": "code",
      "execution_count": null,
      "id": "008133b3",
      "metadata": {
        "id": "008133b3",
        "outputId": "ce154749-4041-4acd-dc30-3f9178e4ab48"
      },
      "outputs": [
        {
          "name": "stdout",
          "output_type": "stream",
          "text": [
            "Hello Rohit!\n",
            "Hello Aakash!\n",
            "Hello Yash!\n"
          ]
        }
      ],
      "source": [
        "# functions with parameters\n",
        "\n",
        "def greet(name):\n",
        "    print(f'Hello {name}!')\n",
        "\n",
        "greet('Rohit')        # calling function with arguments\n",
        "greet('Aakash')\n",
        "greet('Yash')"
      ]
    },
    {
      "cell_type": "code",
      "execution_count": null,
      "id": "943c25ef",
      "metadata": {
        "id": "943c25ef",
        "outputId": "ac6d40db-8770-40d4-ebea-50d0418821d8"
      },
      "outputs": [
        {
          "name": "stdout",
          "output_type": "stream",
          "text": [
            "executable code after return\n",
            "34\n"
          ]
        }
      ],
      "source": [
        "# function with return values\n",
        "\n",
        "def sum(a, b):\n",
        "    print(\"executable code after return\")\n",
        "    return a + b\n",
        "    print(\"non executable code after return\") # this line won't run if return statement is executed\n",
        "\n",
        "print(sum(10, 24))  # prints the return value of sum()"
      ]
    },
    {
      "cell_type": "code",
      "execution_count": null,
      "id": "c0305be8",
      "metadata": {
        "id": "c0305be8",
        "outputId": "2c6cc28e-f75c-45fa-c922-a778695ad101"
      },
      "outputs": [
        {
          "name": "stdout",
          "output_type": "stream",
          "text": [
            "True\n",
            "123\n"
          ]
        }
      ],
      "source": [
        "# use and modification of global variables in a function\n",
        "\n",
        "a = 0\n",
        "\n",
        "def set_value_of_a(value):\n",
        "    global a\n",
        "    a = value\n",
        "    return True\n",
        "\n",
        "print(set_value_of_a(123))\n",
        "print(a)"
      ]
    },
    {
      "cell_type": "code",
      "execution_count": null,
      "id": "2e44ca05",
      "metadata": {
        "id": "2e44ca05",
        "outputId": "e30a71d6-e98e-4d0d-868c-9c4e18afa939"
      },
      "outputs": [
        {
          "name": "stdout",
          "output_type": "stream",
          "text": [
            "45 x 1 = 45\n",
            "45 x 2 = 90\n",
            "45 x 3 = 135\n",
            "45 x 4 = 180\n",
            "45 x 5 = 225\n",
            "45 x 6 = 270\n",
            "45 x 7 = 315\n",
            "45 x 8 = 360\n",
            "45 x 9 = 405\n",
            "45 x 10 = 450\n"
          ]
        }
      ],
      "source": [
        "# write a function to print a table of any number\n",
        "\n",
        "def print_table(num):\n",
        "    for i in range(1, 11):\n",
        "        print(f\"{num} x {i} = {num * i}\")\n",
        "\n",
        "print_table(45)"
      ]
    },
    {
      "cell_type": "markdown",
      "id": "07bdc664",
      "metadata": {},
      "source": [
        "## RECURSIVE FUNCTIONS"
      ]
    },
    {
      "cell_type": "code",
      "execution_count": null,
      "id": "5d3d5d4b",
      "metadata": {
        "id": "5d3d5d4b"
      },
      "outputs": [],
      "source": [
        "# a recursive function is a function which calls itself.\n",
        "\n",
        "i = 0\n",
        "def recur():\n",
        "    global i\n",
        "    print(i)\n",
        "    i += 1\n",
        "    recur()"
      ]
    },
    {
      "cell_type": "code",
      "execution_count": 4,
      "id": "09f6eca4",
      "metadata": {
        "id": "09f6eca4",
        "outputId": "4048a88f-4965-47c6-c7dd-15f1588b9271"
      },
      "outputs": [],
      "source": [
        "# DO NOT RUN THIS IT WILL GO INFINITE OR TO A LIMIT OF 2500 FUNCTION CALLS\n",
        "# recur() "
      ]
    },
    {
      "cell_type": "code",
      "execution_count": null,
      "id": "efa012ca",
      "metadata": {
        "id": "efa012ca",
        "outputId": "d2be4c3b-ce92-4fb3-8dc7-aba8019aad9d"
      },
      "outputs": [
        {
          "name": "stdout",
          "output_type": "stream",
          "text": [
            "0\n",
            "1\n",
            "2\n",
            "3\n",
            "4\n",
            "5\n",
            "6\n",
            "7\n",
            "8\n",
            "9\n",
            "10\n",
            "11\n"
          ]
        }
      ],
      "source": [
        "# create a function to count upto a certain number using recursion.\n",
        "\n",
        "def count(num):\n",
        "    if (num <= 0):\n",
        "        print(num)\n",
        "        # raise Exception # use this line to see the call stack\n",
        "        return None\n",
        "    else:\n",
        "        count(num -1)\n",
        "        print(num)\n",
        "        return None\n",
        "\n",
        "count(11)"
      ]
    },
    {
      "cell_type": "code",
      "execution_count": null,
      "id": "e3cbbb08",
      "metadata": {
        "id": "e3cbbb08",
        "outputId": "d008ac08-1833-4110-e47e-0df56ff22507"
      },
      "outputs": [
        {
          "data": {
            "text/plain": [
              "120"
            ]
          },
          "execution_count": 24,
          "metadata": {},
          "output_type": "execute_result"
        }
      ],
      "source": [
        "# create a recursive function to find the factorial.\n",
        "\n",
        "def factorial(num):\n",
        "    if num <= 0:\n",
        "        return 1\n",
        "    else:\n",
        "        return num * factorial(num - 1)\n",
        "\n",
        "factorial(5)"
      ]
    },
    {
      "cell_type": "code",
      "execution_count": null,
      "id": "580367ef",
      "metadata": {
        "id": "580367ef",
        "outputId": "4faeadf7-e53d-4be7-f918-0fe57cff6eb5"
      },
      "outputs": [
        {
          "name": "stdout",
          "output_type": "stream",
          "text": [
            "0\n",
            "1\n",
            "2\n",
            "3\n",
            "4\n",
            "5\n",
            "6\n"
          ]
        }
      ],
      "source": [
        "# break statement can be used to break out of the nearest loop.\n",
        "\n",
        "for i in range(10):\n",
        "    if (i == 7):\n",
        "        break\n",
        "    print(i)"
      ]
    },
    {
      "cell_type": "markdown",
      "id": "0dcdad35",
      "metadata": {},
      "source": [
        "## MAP FUNCTION"
      ]
    },
    {
      "cell_type": "code",
      "execution_count": null,
      "id": "8ca5ff2c",
      "metadata": {
        "id": "8ca5ff2c",
        "outputId": "e9b04bb5-2701-4a1b-edd6-170793f5ff43"
      },
      "outputs": [
        {
          "name": "stdout",
          "output_type": "stream",
          "text": [
            "[2, 4, 6, 8, 10]\n"
          ]
        }
      ],
      "source": [
        "# use of map() function.\n",
        "\n",
        "a = [1, 2, 3, 4, 5]\n",
        "b = [\"hello\", \"world\", \"this\", \"is\", \"python\"]\n",
        "\n",
        "c = []\n",
        "\n",
        "def double(value):\n",
        "    return value * 2\n",
        "\n",
        "for i in a:\n",
        "    c.append(double(i))\n",
        "\n",
        "print(c)"
      ]
    },
    {
      "cell_type": "code",
      "execution_count": null,
      "id": "66436fb2",
      "metadata": {
        "id": "66436fb2",
        "outputId": "d56e1809-986d-46c2-984e-a645f73f4855"
      },
      "outputs": [
        {
          "name": "stdout",
          "output_type": "stream",
          "text": [
            "[2, 4, 6, 8, 10]\n",
            "['hellohello', 'worldworld', 'thisthis', 'isis', 'pythonpython']\n"
          ]
        }
      ],
      "source": [
        "# use of map() function.\n",
        "\n",
        "print(list(map(double, a)))\n",
        "print(list(map(double, b)))"
      ]
    },
    {
      "cell_type": "markdown",
      "id": "cfc47dbf",
      "metadata": {},
      "source": [
        "## LAMBDA FUNCTION"
      ]
    },
    {
      "cell_type": "code",
      "execution_count": null,
      "id": "2b0d788e",
      "metadata": {
        "id": "2b0d788e",
        "outputId": "6e934cb1-de34-43e4-e2c7-30241c37a4db"
      },
      "outputs": [
        {
          "name": "stdout",
          "output_type": "stream",
          "text": [
            "[1, 4, 9, 16, 25]\n"
          ]
        }
      ],
      "source": [
        "# lambda function is a single line anonymous function which can be used for temporary return equations.\n",
        "\n",
        "a = [1, 2, 3, 4, 5]\n",
        "\n",
        "print(list(map(lambda value: value ** 2, a)))"
      ]
    },
    {
      "cell_type": "code",
      "execution_count": null,
      "id": "eccf859e",
      "metadata": {
        "id": "eccf859e",
        "outputId": "78cefa29-adcc-4a8f-a7cb-ee8c2020a88c"
      },
      "outputs": [
        {
          "name": "stdout",
          "output_type": "stream",
          "text": [
            "11\n"
          ]
        }
      ],
      "source": [
        "# lambda functions can also be stored in variables and hence can be deleted.\n",
        "\n",
        "sum = lambda x, y: x + y\n",
        "\n",
        "print(sum(5, 6))\n",
        "del sum"
      ]
    },
    {
      "cell_type": "code",
      "execution_count": null,
      "id": "30d37601",
      "metadata": {
        "id": "30d37601",
        "outputId": "49810965-2a76-4052-d23f-84ebf2534fe3"
      },
      "outputs": [
        {
          "name": "stdout",
          "output_type": "stream",
          "text": [
            "10\n"
          ]
        }
      ],
      "source": [
        "# lambda function can also be called upon.\n",
        "\n",
        "print((lambda x : x * 2)(5))"
      ]
    },
    {
      "cell_type": "code",
      "execution_count": null,
      "id": "378255c5",
      "metadata": {
        "id": "378255c5",
        "outputId": "55f65411-c7f3-4d29-a99b-104edbaa661e"
      },
      "outputs": [
        {
          "name": "stdout",
          "output_type": "stream",
          "text": [
            "(1, 2, 3, 4, 5, 6)\n"
          ]
        }
      ],
      "source": [
        "# lambda function can also take arbitrary arguments\n",
        "\n",
        "arbitrary = lambda *x : x\n",
        "\n",
        "print(arbitrary(1, 2, 3, 4, 5, 6))"
      ]
    },
    {
      "cell_type": "code",
      "execution_count": null,
      "id": "40590337",
      "metadata": {
        "id": "40590337",
        "outputId": "b70eb53e-ff35-400d-9a40-7f38f79c5f28"
      },
      "outputs": [
        {
          "name": "stdout",
          "output_type": "stream",
          "text": [
            "('HELLO', 'WORLD', 'THIS', 'IS', 'PYTHON')\n"
          ]
        }
      ],
      "source": [
        "# convert the list of strings to upper case using a lambda function map.\n",
        "\n",
        "b = [\"hello\", \"world\", \"this\", \"is\", \"python\"]\n",
        "\n",
        "print(tuple(map(lambda s : s.upper(), b)))"
      ]
    },
    {
      "cell_type": "code",
      "execution_count": null,
      "id": "6dcefde3",
      "metadata": {
        "id": "6dcefde3",
        "outputId": "6402751c-3dda-4fa5-844f-bedd0a13f4f4"
      },
      "outputs": [
        {
          "data": {
            "text/plain": [
              "[1, 4, 9, 16, 25]"
            ]
          },
          "execution_count": 293,
          "metadata": {},
          "output_type": "execute_result"
        }
      ],
      "source": [
        "# create the map() function.\n",
        "\n",
        "def my_map(funct, collection):\n",
        "    c = []\n",
        "    for i in collection:\n",
        "        c.append(funct(i))\n",
        "    return c\n",
        "\n",
        "a = [1, 2, 3, 4, 5]\n",
        "\n",
        "my_map(lambda x : x ** 2, a)"
      ]
    },
    {
      "cell_type": "code",
      "execution_count": null,
      "id": "67fef06a",
      "metadata": {
        "id": "67fef06a",
        "outputId": "5d3a76e1-eb87-4e34-c196-8705a3e396f3"
      },
      "outputs": [
        {
          "name": "stdout",
          "output_type": "stream",
          "text": [
            "['Hello', 'World', 'This', 'Is', 'Python']\n"
          ]
        }
      ],
      "source": [
        "# the yield keyword holds all the return values and returns them at the end as a generator object.\n",
        "\n",
        "def my_map(funct, collection):\n",
        "    for i in collection:\n",
        "        yield funct(i)\n",
        "\n",
        "b = [\"hello\", \"world\", \"this\", \"is\", \"python\"]\n",
        "\n",
        "print(list(my_map(lambda s : s.capitalize(), b)))"
      ]
    },
    {
      "cell_type": "markdown",
      "id": "4b1901e9",
      "metadata": {},
      "source": [
        "## FUNCTION INSIDE FUNCTIONS"
      ]
    },
    {
      "cell_type": "code",
      "execution_count": null,
      "id": "b71cf209",
      "metadata": {
        "id": "b71cf209",
        "outputId": "59c2f2f5-51b1-4068-8886-4098d8d9fb1e"
      },
      "outputs": [
        {
          "name": "stdout",
          "output_type": "stream",
          "text": [
            "10\n",
            "18\n"
          ]
        }
      ],
      "source": [
        "# a function can return another inner function.\n",
        "\n",
        "# times() creates a function temp() and returns it.\n",
        "\n",
        "def times(multiply_by):\n",
        "    def temp(num):\n",
        "        return num * multiply_by\n",
        "    return temp\n",
        "\n",
        "double = times(2) # double becomes temp()\n",
        "triple = times(3)\n",
        "\n",
        "print(double(5))\n",
        "print(triple(6))"
      ]
    },
    {
      "cell_type": "code",
      "execution_count": null,
      "id": "nW3Vxr1xzUEW",
      "metadata": {
        "colab": {
          "base_uri": "https://localhost:8080/"
        },
        "id": "nW3Vxr1xzUEW",
        "outputId": "778b68f5-c646-4e08-bd1b-20d966662b41"
      },
      "outputs": [
        {
          "name": "stdout",
          "output_type": "stream",
          "text": [
            "hellow world this shit is fking insane.\n"
          ]
        },
        {
          "data": {
            "text/plain": [
              "<function print>"
            ]
          },
          "execution_count": 296,
          "metadata": {},
          "output_type": "execute_result"
        }
      ],
      "source": [
        "# make print\n",
        "\n",
        "def make_print():\n",
        "    return print\n",
        "\n",
        "my_print = make_print()\n",
        "\n",
        "my_print(\"hellow world this shit is fking insane.\")\n",
        "\n",
        "my_print"
      ]
    },
    {
      "cell_type": "code",
      "execution_count": null,
      "id": "4efec539",
      "metadata": {
        "id": "4efec539",
        "outputId": "deb2b457-7588-4a4e-9881-547f9c847bc6"
      },
      "outputs": [
        {
          "name": "stdout",
          "output_type": "stream",
          "text": [
            "25\n",
            "216\n"
          ]
        }
      ],
      "source": [
        "# write a function that returns a function to calculate powers.\n",
        "\n",
        "def exponent(power_by):\n",
        "    def temp(num):\n",
        "        return num ** power_by\n",
        "    return temp\n",
        "\n",
        "square = exponent(2)\n",
        "cube = exponent(3)\n",
        "\n",
        "print(square(5))\n",
        "print(cube(6))"
      ]
    },
    {
      "cell_type": "code",
      "execution_count": null,
      "id": "1dd2921a",
      "metadata": {
        "colab": {
          "base_uri": "https://localhost:8080/"
        },
        "id": "1dd2921a",
        "outputId": "b8adf2e8-bee6-4f9c-d7a2-611a042ab24c"
      },
      "outputs": [
        {
          "name": "stdout",
          "output_type": "stream",
          "text": [
            "0\n",
            "1\n",
            "2\n",
            "0\n",
            "1\n",
            "2\n"
          ]
        }
      ],
      "source": [
        "def outer(num, count):\n",
        "    def inner():\n",
        "        for i in range(num):\n",
        "            print(i)\n",
        "    for i in range(count):\n",
        "        inner()\n",
        "        # print() # comment out for new line.\n",
        "\n",
        "outer(num = 3, count = 2)"
      ]
    },
    {
      "cell_type": "code",
      "execution_count": null,
      "id": "960aa95b",
      "metadata": {
        "colab": {
          "base_uri": "https://localhost:8080/"
        },
        "id": "960aa95b",
        "outputId": "1f43d301-10b3-4a2c-a7fd-9545ecace2dd"
      },
      "outputs": [
        {
          "name": "stdout",
          "output_type": "stream",
          "text": [
            "[0, 1, 2]\n",
            "[0, 1, 2]\n",
            "[0, 1, 2]\n"
          ]
        },
        {
          "data": {
            "text/plain": [
              "[0, 1, 2]"
            ]
          },
          "execution_count": 299,
          "metadata": {},
          "output_type": "execute_result"
        }
      ],
      "source": [
        "# goofy ahh test program to test nonlocal keyword.\n",
        "\n",
        "def outer(num, count):\n",
        "    result = {}\n",
        "\n",
        "    def inner():\n",
        "        nonlocal result\n",
        "        result = []      # replaces the dictionary outside with a list\n",
        "        for i in range(num):\n",
        "            result.append(i)\n",
        "        print(result)\n",
        "\n",
        "    for i in range(count):\n",
        "        inner()\n",
        "        # print() # comment out for new line.\n",
        "    return result\n",
        "\n",
        "outer(num = 3, count = 3)"
      ]
    },
    {
      "cell_type": "markdown",
      "id": "54b70c89",
      "metadata": {},
      "source": [
        "## FUNCTION PARAMETERS & ARGUMENTS"
      ]
    },
    {
      "cell_type": "code",
      "execution_count": null,
      "id": "34f47c70",
      "metadata": {
        "colab": {
          "base_uri": "https://localhost:8080/"
        },
        "id": "34f47c70",
        "outputId": "558c3308-3a5c-43f7-ff2f-f6fe74a7eba0"
      },
      "outputs": [
        {
          "name": "stdout",
          "output_type": "stream",
          "text": [
            "My name is Rohit, I am from Nalasopara and I am 20 years old.\n",
            "My name is 21, I am from Yash and I am Nalasopara years old.\n",
            "My name is Aakash, I am from Nalasopara and I am 21 years old.\n",
            "My name is piyush, I am from NSP and I am 21 years old.\n"
          ]
        }
      ],
      "source": [
        "# positional and keyword arguments.\n",
        "\n",
        "def intro(name, age, location):\n",
        "    return f\"My name is {name}, I am from {location} and I am {age} years old.\"\n",
        "\n",
        "# positional arguments. (when you know the order to pass values in.)\n",
        "print(intro(\"Rohit\", 20, \"Nalasopara\"))\n",
        "print(intro(21, \"Nalasopara\", \"Yash\"))\n",
        "\n",
        "# keyword arguments. (when you don't know the order of parameters.)\n",
        "print(intro(age = 21, location = \"Nalasopara\", name = \"Aakash\"))\n",
        "print(intro(\"piyush\", location=\"NSP\", age=21))"
      ]
    },
    {
      "cell_type": "code",
      "execution_count": null,
      "id": "Oya8YacK5pys",
      "metadata": {
        "colab": {
          "base_uri": "https://localhost:8080/"
        },
        "id": "Oya8YacK5pys",
        "outputId": "9bfee06d-323c-4f99-b75c-45f20462626d"
      },
      "outputs": [
        {
          "name": "stdout",
          "output_type": "stream",
          "text": [
            "Hello, Rohit!\n",
            "Help on function greet in module __main__:\n",
            "\n",
            "greet(name)\n",
            "    This function takes a name as input\n",
            "    and returns a greeting message.\n",
            "\n",
            "greet.__doc__ \n",
            "    This function takes a name as input\n",
            "    and returns a greeting message.\n",
            "    \n"
          ]
        }
      ],
      "source": [
        "def greet(name):\n",
        "    \"\"\"\n",
        "    This function takes a name as input\n",
        "    and returns a greeting message.\n",
        "    \"\"\"\n",
        "    return f\"Hello, {name}!\"\n",
        "\n",
        "# Calling the function normally\n",
        "print(greet(\"Rohit\"))\n",
        "\n",
        "# Accessing the docstring using the help() function\n",
        "help(greet)\n",
        "\n",
        "# You can also access it directly\n",
        "print(\"greet.__doc__\", greet.__doc__)"
      ]
    },
    {
      "cell_type": "code",
      "execution_count": null,
      "id": "f4b973b8",
      "metadata": {
        "colab": {
          "base_uri": "https://localhost:8080/"
        },
        "id": "f4b973b8",
        "outputId": "a3298e98-ccf3-4c96-d68c-8582e73a077c"
      },
      "outputs": [
        {
          "name": "stdout",
          "output_type": "stream",
          "text": [
            "My name is Josh, I am from Mumbai and I am 18 years old.\n",
            "My name is Rohit, I am from Mumbai and I am 18 years old.\n",
            "My name is Yash, I am from Nalasopara and I am 18 years old.\n",
            "My name is Aakash, I am from Nalasopara and I am 21 years old.\n"
          ]
        }
      ],
      "source": [
        "# Function with arbitrary keyword arguments (collected as a dictionary)\n",
        "def adv_intro(**data):\n",
        "    \"\"\"Returns a formatted intro using provided keyword arguments.\"\"\"\n",
        "\n",
        "    # Use .get() to safely access values with defaults\n",
        "    return f\"My name is {data.get('name', 'Josh')}, I am from {data.get('location', 'Mumbai')} and I am {data.get('age', 18)} years old.\"\n",
        "\n",
        "\n",
        "# No arguments passed — all defaults used\n",
        "print(adv_intro())\n",
        "\n",
        "# Only 'name' provided\n",
        "print(adv_intro(name=\"Rohit\"))\n",
        "\n",
        "# 'name' and 'location' provided\n",
        "print(adv_intro(name=\"Yash\", location=\"Nalasopara\"))\n",
        "\n",
        "# All expected keys + an unused extra key ('random')\n",
        "print(adv_intro(name=\"Aakash\", location=\"Nalasopara\", age=21, random=None))\n"
      ]
    },
    {
      "cell_type": "code",
      "execution_count": null,
      "id": "0e89ea19",
      "metadata": {
        "id": "0e89ea19",
        "outputId": "3b4ddee3-d48b-40c4-f4fa-6b7d729a6472"
      },
      "outputs": [
        {
          "name": "stdout",
          "output_type": "stream",
          "text": [
            "HELLO WORLD\n"
          ]
        }
      ],
      "source": [
        "# datatypes of parameters can be specified.\n",
        "# datatype of return values can also be specified.\n",
        "# although they don't actually stop the user from giving other datatypes.\n",
        "\n",
        "def upper(value : str) -> str:\n",
        "    return value.upper()\n",
        "\n",
        "print(upper(\"hello world\"))"
      ]
    },
    {
      "cell_type": "markdown",
      "id": "9907c810",
      "metadata": {},
      "source": [
        "## SOME PROGRAMS"
      ]
    },
    {
      "cell_type": "code",
      "execution_count": null,
      "id": "6f7f2ade",
      "metadata": {
        "colab": {
          "base_uri": "https://localhost:8080/"
        },
        "id": "6f7f2ade",
        "outputId": "4313c4af-e9d9-40fe-e9e6-38fbfcd27baf"
      },
      "outputs": [
        {
          "name": "stdout",
          "output_type": "stream",
          "text": [
            "0\n",
            "1\n",
            "1\n",
            "2\n",
            "3\n",
            "5\n",
            "8\n",
            "13\n",
            "21\n",
            "34\n"
          ]
        }
      ],
      "source": [
        "# write a function to print fibonacci series.\n",
        "\n",
        "def fibonacci(count : int):\n",
        "    num1 = 0\n",
        "    num2 = 1\n",
        "    print(num1)\n",
        "    print(num2)\n",
        "\n",
        "    for i in range(count - 2):\n",
        "        temp = num1\n",
        "        num1 = num2\n",
        "        num2 += temp\n",
        "        print(num2)\n",
        "\n",
        "fibonacci(10)"
      ]
    },
    {
      "cell_type": "code",
      "execution_count": null,
      "id": "3877459d",
      "metadata": {
        "id": "3877459d",
        "outputId": "ee18414d-a217-4d9d-a0ed-5a1f92929754"
      },
      "outputs": [
        {
          "name": "stdout",
          "output_type": "stream",
          "text": [
            "[0, 1, 1, 2, 3, 5, 8, 13, 21, 34]\n"
          ]
        }
      ],
      "source": [
        "# fibonacci series using lists.\n",
        "\n",
        "def fib(n):\n",
        "    res = [0, 1]\n",
        "    for i in range(2, n):\n",
        "        res.append(res[i - 1] + res[i - 2])\n",
        "    return res\n",
        "\n",
        "print(fib(10))"
      ]
    },
    {
      "cell_type": "code",
      "execution_count": null,
      "id": "pil61IDqtcJS",
      "metadata": {
        "colab": {
          "base_uri": "https://localhost:8080/"
        },
        "id": "pil61IDqtcJS",
        "outputId": "09bd8dd7-41a3-4980-ec10-1e145bcc721b"
      },
      "outputs": [
        {
          "name": "stdout",
          "output_type": "stream",
          "text": [
            "0\n",
            "1\n",
            "1\n",
            "2\n",
            "3\n",
            "5\n",
            "8\n",
            "13\n",
            "21\n",
            "34\n"
          ]
        }
      ],
      "source": [
        "# write a program to print fibonacci series using recursion\n",
        "\n",
        "def fibonacci_recursive(n : int) -> int:\n",
        "  if n <= 1:\n",
        "    return n\n",
        "  else:\n",
        "    return(fibonacci_recursive(n-1) + fibonacci_recursive(n-2))\n",
        "\n",
        "for i in range(10):\n",
        "    print(fibonacci_recursive(i))"
      ]
    },
    {
      "cell_type": "code",
      "execution_count": null,
      "id": "LJ_vSBsruA4o",
      "metadata": {
        "colab": {
          "base_uri": "https://localhost:8080/"
        },
        "id": "LJ_vSBsruA4o",
        "outputId": "565b3d7c-4f48-4ab2-dbf4-a9a6d0794124"
      },
      "outputs": [
        {
          "name": "stdout",
          "output_type": "stream",
          "text": [
            "number of vowels in this sentence: 6\n"
          ]
        }
      ],
      "source": [
        "# write a program to count vowel count in a sentence.\n",
        "# 1. my way\n",
        "\n",
        "def vowel_count(sentence : str) -> int:\n",
        "    vowels = ['a', 'e', 'i', 'o', 'u']\n",
        "    count = 0\n",
        "    for i in sentence.lower():\n",
        "        if i in vowels:\n",
        "            count += 1\n",
        "    return count\n",
        "\n",
        "s = \"Hello world this is python.\"\n",
        "print(f\"number of vowels in this sentence: {vowel_count(s)}\")"
      ]
    },
    {
      "cell_type": "code",
      "execution_count": null,
      "id": "5N9rwbXs8CHw",
      "metadata": {
        "colab": {
          "base_uri": "https://localhost:8080/"
        },
        "id": "5N9rwbXs8CHw",
        "outputId": "0d59f80a-35e3-422d-fbc0-a1ddbd2128c3"
      },
      "outputs": [
        {
          "name": "stdout",
          "output_type": "stream",
          "text": [
            "6\n"
          ]
        }
      ],
      "source": [
        "# 2. using comprehensions.\n",
        "\n",
        "s = \"Hello world this is python.\"\n",
        "count = sum(1 for ch in s if ch in \"aeiou\")\n",
        "print(count)  # Output: number of vowels"
      ]
    },
    {
      "cell_type": "code",
      "execution_count": null,
      "id": "rDakMEJvw-EH",
      "metadata": {
        "colab": {
          "base_uri": "https://localhost:8080/"
        },
        "id": "rDakMEJvw-EH",
        "outputId": "3a0d562d-7a49-4ced-f66b-6c0c4779ba23"
      },
      "outputs": [
        {
          "name": "stdout",
          "output_type": "stream",
          "text": [
            "hello ld this is python\n"
          ]
        }
      ],
      "source": [
        "# write a program to remove a particular string from a string.\n",
        "# without .replace() method.\n",
        "\n",
        "def remove_str(sentence : str, remove : str) -> str:\n",
        "    result = \"\"\n",
        "\n",
        "    i = 0\n",
        "    while(i < len(sentence)):\n",
        "        if (sentence[i : i + len(remove)] == remove):\n",
        "            i += len(remove)\n",
        "        else:\n",
        "            result += sentence[i]\n",
        "            i += 1\n",
        "\n",
        "    return result\n",
        "\n",
        "sentence = \"hello world this is python\"\n",
        "remove = \"wor\"\n",
        "\n",
        "print(remove_str(sentence, remove))"
      ]
    },
    {
      "cell_type": "code",
      "execution_count": null,
      "id": "ibSWtR1-yp6-",
      "metadata": {
        "colab": {
          "base_uri": "https://localhost:8080/"
        },
        "id": "ibSWtR1-yp6-",
        "outputId": "13daedf5-bb9a-4639-8867-0cca8d0f8bad"
      },
      "outputs": [
        {
          "name": "stdout",
          "output_type": "stream",
          "text": [
            "hell wrld this is pythn\n"
          ]
        }
      ],
      "source": [
        "# write a program to remove a particular string from a string.\n",
        "# without .replace() method.\n",
        "\n",
        "def remove_str(sentence, remove):\n",
        "    for i, v in enumerate(sentence):\n",
        "        if remove == sentence[i:i + len(remove)]:\n",
        "            sentence = sentence[:i] + sentence[i + len(remove):]\n",
        "    return sentence\n",
        "\n",
        "sentence = \"hello world this is python\"\n",
        "remove = \"o\"\n",
        "\n",
        "print(remove_str(sentence, remove))"
      ]
    },
    {
      "cell_type": "code",
      "execution_count": 26,
      "id": "9d3b2187",
      "metadata": {
        "colab": {
          "base_uri": "https://localhost:8080/"
        },
        "id": "9d3b2187",
        "outputId": "0d35f48e-41c3-42ff-874c-6fb30a24ea36"
      },
      "outputs": [
        {
          "name": "stdout",
          "output_type": "stream",
          "text": [
            "Heloloo World\n"
          ]
        }
      ],
      "source": [
        "# write a program to replace a particular string from a string.\n",
        "# without .replace() method.\n",
        "\n",
        "def repl_count(s : str, ch_to_repl : str, ch_repl_with : str, count : int = 1):\n",
        "    for index, ch in enumerate(s):\n",
        "        if (s[index:index + len(ch_to_repl)] == ch_to_repl and count):\n",
        "            s = s[:index] + ch_repl_with + s[index + len(ch_to_repl):]\n",
        "            count -= 1\n",
        "    return s\n",
        "\n",
        "print(repl_count(\"Hello World\", 'l', 'lo', 2))"
      ]
    },
    {
      "cell_type": "code",
      "execution_count": null,
      "id": "G4Vf-1I7tvTG",
      "metadata": {
        "colab": {
          "base_uri": "https://localhost:8080/"
        },
        "id": "G4Vf-1I7tvTG",
        "outputId": "122465c7-8b80-4aaf-f76a-73888bfd2f26"
      },
      "outputs": [],
      "source": [
        "# write a program to write a string in a funny way.\n",
        "\n",
        "import time\n",
        "\n",
        "def build_string(str_to_build : str) -> None:\n",
        "    char_array = \"mnbvcxzlokpijuhygtfrdeswaqZAQWSXCDERFVBGTYHNMJUIKLOP\"\n",
        "    res = \"\"\n",
        "\n",
        "    for ch_to_get in str_to_build:\n",
        "        if ch_to_get == \" \":\n",
        "            res += \" \"\n",
        "            continue\n",
        "        for ch_to_compare in char_array:\n",
        "            time.sleep(0.01)\n",
        "            if ch_to_get == ch_to_compare:\n",
        "                res += ch_to_compare\n",
        "            if res == str_to_build:\n",
        "                print(res)\n",
        "                return\n",
        "            print(res + ch_to_compare)\n",
        "\n",
        "build_string(\"Hello World\")"
      ]
    },
    {
      "cell_type": "code",
      "execution_count": null,
      "id": "42d4e809",
      "metadata": {
        "id": "42d4e809",
        "outputId": "825bcd33-8dab-4737-8971-0001d197a7fd"
      },
      "outputs": [
        {
          "name": "stdout",
          "output_type": "stream",
          "text": [
            "{12, 20}\n"
          ]
        }
      ],
      "source": [
        "# wap to find if the values in a list are divisible a number\n",
        "\n",
        "def is_divisible_by(num : int, values : list):\n",
        "    res = set()\n",
        "    for value in values:\n",
        "        if value % num == 0:\n",
        "            res.add(value)\n",
        "    return res\n",
        "\n",
        "print(is_divisible_by(4, [12, 13, 14, 17, 20]))"
      ]
    },
    {
      "cell_type": "code",
      "execution_count": null,
      "id": "17ea7fa0",
      "metadata": {
        "id": "17ea7fa0",
        "outputId": "75b32510-c7b0-4c39-d882-927fecea0e31"
      },
      "outputs": [
        {
          "name": "stdout",
          "output_type": "stream",
          "text": [
            "(8, 8)\n"
          ]
        }
      ],
      "source": [
        "# wap to find to return the smallest and largest divisible from a list.\n",
        "\n",
        "def is_divisible_by(num : int, values : list):\n",
        "    res = []\n",
        "    smallest_divisor, largest_divisor = None, None\n",
        "\n",
        "    for value in values:\n",
        "        if value % num == 0:\n",
        "            res.append(value)\n",
        "\n",
        "    if res:\n",
        "        smallest_divisor, largest_divisor = res[0], res[0]\n",
        "\n",
        "    for i in res:\n",
        "        if i < smallest_divisor:\n",
        "            smallest_divisor = i\n",
        "        if i > largest_divisor:\n",
        "            largest_divisor = i\n",
        "\n",
        "    return smallest_divisor, largest_divisor\n",
        "\n",
        "print(is_divisible_by(4, [8]))"
      ]
    },
    {
      "cell_type": "code",
      "execution_count": null,
      "id": "13f5a1ee",
      "metadata": {
        "id": "13f5a1ee",
        "outputId": "96620d96-9a88-46d9-9cda-da2b3e5f58a6"
      },
      "outputs": [
        {
          "name": "stdout",
          "output_type": "stream",
          "text": [
            "leap year\n"
          ]
        }
      ],
      "source": [
        "# write a program to calculate leap year\n",
        "\n",
        "year = 2028\n",
        "\n",
        "if (year % 4 == 0 and year % 100 != 0) or year % 400 == 0:\n",
        "    print(\"leap year\")\n",
        "else:\n",
        "    print(\"not leap year\")"
      ]
    },
    {
      "cell_type": "code",
      "execution_count": null,
      "id": "42db42c8",
      "metadata": {
        "id": "42db42c8",
        "outputId": "05e3a3ec-45b3-4d59-e245-d3a862a75b19"
      },
      "outputs": [
        {
          "data": {
            "text/plain": [
              "True"
            ]
          },
          "execution_count": 17,
          "metadata": {},
          "output_type": "execute_result"
        }
      ],
      "source": [
        "# write a function to calculate leap year\n",
        "\n",
        "def leap_year(year : int) -> bool:\n",
        "    if (year % 4 == 0 and year % 100 != 0) or year % 400 == 0:\n",
        "        return True\n",
        "    else:\n",
        "        return False\n",
        "\n",
        "leap_year(2028)"
      ]
    },
    {
      "cell_type": "code",
      "execution_count": 2,
      "id": "66aeaf71",
      "metadata": {
        "id": "66aeaf71",
        "outputId": "b0ca781e-7d05-4872-a4b2-a26acdaeee17"
      },
      "outputs": [
        {
          "name": "stdout",
          "output_type": "stream",
          "text": [
            "11111111\n"
          ]
        }
      ],
      "source": [
        "x = -1\n",
        "bits = 8\n",
        "print(f'{x & (2**bits - 1):0{bits}b}')"
      ]
    },
    {
      "cell_type": "markdown",
      "id": "a4ce9dc3",
      "metadata": {
        "id": "a4ce9dc3"
      },
      "source": [
        "# OOPS"
      ]
    },
    {
      "cell_type": "markdown",
      "id": "f50f7ecb",
      "metadata": {},
      "source": [
        "## CLASS & OBJECTS"
      ]
    },
    {
      "cell_type": "code",
      "execution_count": 2,
      "id": "5858bf75",
      "metadata": {
        "id": "5858bf75"
      },
      "outputs": [],
      "source": [
        "# A class is a blueprint for creating objects.\n",
        "# It defines the structure and behavior (properties and methods) that its objects will have.\n",
        "class User:\n",
        "    pass  # 'pass' means no properties or methods are defined yet\n",
        "\n",
        "class Traveller:\n",
        "    pass  # Another empty class for demonstration"
      ]
    },
    {
      "cell_type": "code",
      "execution_count": 3,
      "id": "9f2d3e8e",
      "metadata": {
        "id": "9f2d3e8e"
      },
      "outputs": [],
      "source": [
        "# An object is an instance of a class.\n",
        "# Objects hold actual data and can have attributes assigned to them.\n",
        "\n",
        "# Creating an object 'yash' from the User class\n",
        "yash = User()\n",
        "yash.name = \"Yash\"         # Adding a 'name' attribute to yash\n",
        "yash.contact = 123456      # Adding a 'contact' attribute to yash\n",
        "\n",
        "# Creating another object 'aakash' from the User class\n",
        "aakash = User()\n",
        "aakash.name = \"Aakash\"\n",
        "aakash.contact = 789123\n"
      ]
    },
    {
      "cell_type": "code",
      "execution_count": 4,
      "id": "50ff548a",
      "metadata": {
        "colab": {
          "base_uri": "https://localhost:8080/"
        },
        "id": "50ff548a",
        "outputId": "b671e752-9f03-4495-afe2-66fd43108a68"
      },
      "outputs": [
        {
          "name": "stdout",
          "output_type": "stream",
          "text": [
            "True\n",
            "True\n",
            "<__main__.User object at 0x7b4434e22c10> <__main__.User object at 0x7b4434e22650>\n",
            "<class '__main__.User'>\n",
            "Aakash\n",
            "123456\n"
          ]
        }
      ],
      "source": [
        "# isinstance() checks if an object belongs to a specific class\n",
        "print(isinstance(aakash, User))    # True: aakash is a User\n",
        "print(isinstance(aakash, object))  # True: all Python classes inherit from 'object'\n",
        "\n",
        "# Prints memory locations of the objects (their default representation)\n",
        "print(yash, aakash)\n",
        "\n",
        "# type() shows the class an object was created from\n",
        "print(type(yash))  # <class '__main__.User'>\n",
        "\n",
        "# Accessing and printing object attributes\n",
        "print(aakash.name)    # Output: Aakash\n",
        "print(yash.contact)   # Output: 123456"
      ]
    },
    {
      "cell_type": "markdown",
      "id": "e4ef8008",
      "metadata": {},
      "source": [
        "## CONSTRUCTOR"
      ]
    },
    {
      "cell_type": "code",
      "execution_count": 4,
      "id": "5d68bc51",
      "metadata": {
        "id": "5d68bc51"
      },
      "outputs": [],
      "source": [
        "# A class is a blueprint for creating objects.\n",
        "class User:\n",
        "    # __init__ is the constructor method called automatically when a new object is created.\n",
        "    # 'self' refers to the current instance of the class.\n",
        "    def __init__(self, n, c):\n",
        "        self.name = n        # Assign name to the object\n",
        "        self.contact = c     # Assign contact to the object\n",
        "\n",
        "    # __str__ defines how the object is represented as a string (e.g., in print())\n",
        "    def __str__(self):\n",
        "        return f\"name: {self.name} contact: {self.contact}\""
      ]
    },
    {
      "cell_type": "code",
      "execution_count": null,
      "id": "64a4f460",
      "metadata": {
        "id": "64a4f460"
      },
      "outputs": [],
      "source": [
        "# Creating instances (objects) of the User class with initial values\n",
        "yash = User(\"Yash\", 123456)\n",
        "aakash = User(\"Aakash\", 456789)\n",
        "rohit = User(\"Rohit\", 789132)"
      ]
    },
    {
      "cell_type": "code",
      "execution_count": null,
      "id": "bebdbf24",
      "metadata": {
        "colab": {
          "base_uri": "https://localhost:8080/"
        },
        "id": "bebdbf24",
        "outputId": "01625193-404f-41b4-e193-f2efe86abca3"
      },
      "outputs": [
        {
          "name": "stdout",
          "output_type": "stream",
          "text": [
            "name: Yash contact: 123456\n",
            "name: Aakash contact: 456789\n",
            "name: Rohit contact: 789132\n"
          ]
        }
      ],
      "source": [
        "# When we print an object, __str__ is automatically called\n",
        "print(yash)    # Output: name: Yash contact: 123456\n",
        "print(aakash)  # Output: name: Aakash contact: 456789\n",
        "print(rohit)   # Output: name: Rohit contact: 789132"
      ]
    },
    {
      "cell_type": "code",
      "execution_count": 8,
      "id": "cc0871aa",
      "metadata": {
        "colab": {
          "base_uri": "https://localhost:8080/"
        },
        "id": "cc0871aa",
        "outputId": "4f8ebe04-8b8a-4249-d7bf-ab8e5ab377f9"
      },
      "outputs": [
        {
          "name": "stdout",
          "output_type": "stream",
          "text": [
            "Yash\n",
            "Aakash\n",
            "Rohit\n",
            "123456\n",
            "456789\n",
            "789132\n"
          ]
        }
      ],
      "source": [
        "# Print the names of all users, each on a new line\n",
        "print(yash.name, aakash.name, rohit.name, sep=\"\\n\")\n",
        "\n",
        "# Print the contact numbers of all users, each on a new line\n",
        "print(yash.contact, aakash.contact, rohit.contact, sep=\"\\n\")"
      ]
    },
    {
      "cell_type": "markdown",
      "id": "0defe3e5",
      "metadata": {},
      "source": [
        "## INHERITANCE"
      ]
    },
    {
      "cell_type": "code",
      "execution_count": 6,
      "id": "c8efeaa5",
      "metadata": {
        "id": "c8efeaa5"
      },
      "outputs": [],
      "source": [
        "class User:\n",
        "    def __init__(self, n, c):\n",
        "        self.name = n\n",
        "        self.contact = c\n",
        "\n",
        "    def __str__(self):\n",
        "        return f\"name: {self.name} contact: {self.contact}\"\n",
        "    \n",
        "# Define a new class 'Traveller' that inherits from the 'User' class\n",
        "# It inherits all attributes and methods from User (like name, contact, __init__, and __str__)\n",
        "class Traveller(User):\n",
        "    pass  # No additional functionality for now; it behaves exactly like a User"
      ]
    },
    {
      "cell_type": "code",
      "execution_count": 7,
      "id": "5f15a950",
      "metadata": {
        "colab": {
          "base_uri": "https://localhost:8080/"
        },
        "id": "5f15a950",
        "outputId": "15da883c-553d-4558-b5a4-f850407a2d38"
      },
      "outputs": [
        {
          "name": "stdout",
          "output_type": "stream",
          "text": [
            "name: Piyush contact: 321654\n",
            "<class '__main__.Traveller'>\n",
            "True\n",
            "True\n"
          ]
        }
      ],
      "source": [
        "# Create an instance of the Traveller class (inherits from User)\n",
        "piyush = Traveller(\"Piyush\", 321654)\n",
        "\n",
        "# Print the object — uses the __str__ method from User\n",
        "print(piyush)  # Output: name: Piyush contact: 321654\n",
        "\n",
        "# Print the type of the object\n",
        "print(type(piyush))  # Output: <class '__main__.Traveller'>\n",
        "\n",
        "# Check if piyush is an instance of Traveller\n",
        "print(isinstance(piyush, Traveller))  # True\n",
        "\n",
        "# Check if piyush is also considered an instance of User (because of inheritance)\n",
        "print(isinstance(piyush, User))       # True"
      ]
    },
    {
      "cell_type": "code",
      "execution_count": null,
      "id": "80980784",
      "metadata": {},
      "outputs": [
        {
          "data": {
            "text/plain": [
              "'rdc'"
            ]
          },
          "metadata": {},
          "output_type": "display_data"
        }
      ],
      "source": [
        "# Base User class\n",
        "class User:\n",
        "    def __init__(self, username, password):\n",
        "        self.username = username  # Set username\n",
        "        self.password = password  # Set password\n",
        "\n",
        "    def intro(self):\n",
        "        return self.username  # Return the username as an introduction\n",
        "\n",
        "\n",
        "# Customer class inherits from User\n",
        "class Customer(User):\n",
        "    def __init__(self, username, password, contact, address):\n",
        "        super().__init__(username, password)  # Initialize username and password from User\n",
        "        self.contact = contact  # Store customer's contact info\n",
        "        self.address = address  # Store customer's address\n",
        "\n",
        "\n",
        "# Create a Customer object\n",
        "rohit = Customer(\"rdc\", 123, 123, \"abc\")\n",
        "\n",
        "# Call intro method inherited from User (returns username)\n",
        "rohit.intro()  # Output: \"rdc\""
      ]
    },
    {
      "cell_type": "code",
      "execution_count": null,
      "id": "66008083",
      "metadata": {},
      "outputs": [
        {
          "name": "stdout",
          "output_type": "stream",
          "text": [
            "110.7\n"
          ]
        }
      ],
      "source": [
        "# Employee class inherits from User\n",
        "class Employee(User):\n",
        "    def __init__(self, username, password, salary, age):\n",
        "        super().__init__(username, password)  # Initialize username and password using User constructor\n",
        "        self.salary = salary  # Store employee's salary\n",
        "        self.age = age        # Store employee's age\n",
        "\n",
        "    def __calculate_salary(self):\n",
        "        # Private method to calculate salary after deductions (e.g. 10%)\n",
        "        return self.salary * 0.9\n",
        "\n",
        "    def make_payment(self):\n",
        "        # Public method to return the payable salary after deduction\n",
        "        return self.__calculate_salary()\n",
        "\n",
        "\n",
        "# Create an Employee instance\n",
        "yash = Employee(\"ysp\", 123, 123, 123)\n",
        "\n",
        "# Call make_payment to compute and return net salary\n",
        "print(yash.make_payment())  # Output: 110.7 (90% of 123)"
      ]
    },
    {
      "cell_type": "markdown",
      "id": "5e26e095",
      "metadata": {},
      "source": [
        "## CLASS METHODS"
      ]
    },
    {
      "cell_type": "code",
      "execution_count": null,
      "id": "723a28a9",
      "metadata": {},
      "outputs": [],
      "source": [
        "class GymMember:\n",
        "    trainer = \"Bob\"  # Class variable shared by all instances\n",
        "\n",
        "    def __init__(self):\n",
        "        pass  # Empty constructor; no per-instance attributes yet\n",
        "\n",
        "    @classmethod\n",
        "    def update_trainer(cls, trainer: str):\n",
        "        cls.trainer = trainer  # Update the class-level trainer for all instances"
      ]
    },
    {
      "cell_type": "code",
      "execution_count": null,
      "id": "bbfe3123",
      "metadata": {},
      "outputs": [
        {
          "name": "stdout",
          "output_type": "stream",
          "text": [
            "Bean Bean Bean\n",
            "bingus Bean Bean\n",
            "bingus bingus for all bingus for all\n"
          ]
        }
      ],
      "source": [
        "GymMember.trainer = \"Bean\"  # Set the class variable trainer to \"Bean\"\n",
        "\n",
        "rohit = GymMember()\n",
        "yash = GymMember()\n",
        "aakash = GymMember()\n",
        "\n",
        "print(rohit.trainer, yash.trainer, aakash.trainer)\n",
        "# Output: Bean Bean Bean\n",
        "# Explanation: All instances share the class variable initially.\n",
        "\n",
        "rohit.trainer = \"bingus\"\n",
        "# Creates an instance attribute 'trainer' for rohit only, shadows the class variable\n",
        "\n",
        "print(rohit.trainer, yash.trainer, aakash.trainer)\n",
        "# Output: bingus Bean Bean\n",
        "# rohit uses its own instance attribute; others still use the class variable.\n",
        "\n",
        "rohit.update_trainer(\"bingus for all\")\n",
        "# Uses the class method to change class variable trainer to \"bingus for all\"\n",
        "\n",
        "print(rohit.trainer, yash.trainer, aakash.trainer)\n",
        "# Output: bingus bingus for all bingus for all\n",
        "# rohit’s instance attribute still shadows the class variable.\n",
        "# yash and aakash reflect the updated class variable."
      ]
    },
    {
      "cell_type": "markdown",
      "id": "9d8cb506",
      "metadata": {},
      "source": [
        "## STATIC METHODS"
      ]
    },
    {
      "cell_type": "code",
      "execution_count": 48,
      "id": "178e7849",
      "metadata": {},
      "outputs": [
        {
          "name": "stdout",
          "output_type": "stream",
          "text": [
            "Sum: 8\n",
            "Product: 15\n",
            "8\n"
          ]
        }
      ],
      "source": [
        "class MathOperations:\n",
        "    @staticmethod\n",
        "    def add(x, y):\n",
        "        # This static method adds two numbers and returns the result\n",
        "        return x + y\n",
        "\n",
        "    @staticmethod\n",
        "    def multiply(x, y):\n",
        "        # This static method multiplies two numbers and returns the result\n",
        "        return x * y\n",
        "\n",
        "# Using static methods without creating an instance\n",
        "sum_result = MathOperations.add(5, 3)\n",
        "product_result = MathOperations.multiply(5, 3)\n",
        "\n",
        "print(f\"Sum: {sum_result}\")        # Output: Sum: 8\n",
        "print(f\"Product: {product_result}\") # Output: Product: 15\n",
        "\n",
        "# Create an instance of the class\n",
        "obj = MathOperations()\n",
        "\n",
        "# Call the same static method using an instance\n",
        "print(obj.add(5, 3))  # Output: 8"
      ]
    },
    {
      "cell_type": "markdown",
      "id": "5f5f6195",
      "metadata": {},
      "source": [
        "## CUSTOM PACKAGES"
      ]
    },
    {
      "cell_type": "code",
      "execution_count": null,
      "id": "2b38329c",
      "metadata": {},
      "outputs": [
        {
          "name": "stdout",
          "output_type": "stream",
          "text": [
            "created: Rohit, 123, 123\n",
            "created: Yash, 456, 456\n",
            "created: Aakash, 789, 789\n"
          ]
        }
      ],
      "source": [
        "from project.user import User  # Import User class from project package\n",
        "\n",
        "# Creating three User instances with username, password, and contact\n",
        "rohit = User(\"Rohit\", 123, 123)\n",
        "yash = User(\"Yash\", 456, 456)\n",
        "aakash = User(\"Aakash\", 789, 789)"
      ]
    },
    {
      "cell_type": "code",
      "execution_count": null,
      "id": "a1223390",
      "metadata": {},
      "outputs": [
        {
          "name": "stdout",
          "output_type": "stream",
          "text": [
            "login successful.\n",
            "True\n",
            "logged out successfully.: Rohit, 123, 123\n",
            "False\n"
          ]
        }
      ],
      "source": [
        "# Attempt to log in with correct username and password\n",
        "rohit.login(\"Rohit\", 123)\n",
        "\n",
        "# Check and print authentication status (should be True after successful login)\n",
        "print(rohit.is_authenticated())\n",
        "\n",
        "# Log the user out\n",
        "rohit.logout()\n",
        "\n",
        "# Check and print authentication status again (should be False after logout)\n",
        "print(rohit.is_authenticated())"
      ]
    },
    {
      "cell_type": "code",
      "execution_count": null,
      "id": "4572f314",
      "metadata": {},
      "outputs": [],
      "source": [
        "from project.customer import Customer, Coupon  # Importing Customer and Coupon classes from the project package\n",
        "\n",
        "# Creating two coupon instances with a code and a value\n",
        "first100 = Coupon(\"f100\", 100)   # Coupon with code \"f100\" worth 100 units\n",
        "upto70 = Coupon(\"upto70\", 70)    # Coupon with code \"upto70\" worth 70 units"
      ]
    },
    {
      "cell_type": "code",
      "execution_count": null,
      "id": "fc2389c4",
      "metadata": {},
      "outputs": [
        {
          "name": "stdout",
          "output_type": "stream",
          "text": [
            "created: Piyush, 123, 123\n",
            "f100 100\n",
            "upto70 70\n",
            "[None, None]\n"
          ]
        }
      ],
      "source": [
        "# Create a Customer object with username, password, contact, and a list of coupons\n",
        "piyush = Customer(\"Piyush\", 123, 123, [first100, upto70])\n",
        "\n",
        "# Print each coupon object in the customer's coupon list\n",
        "# map(print, ...) prints each coupon; list(...) forces execution of map in Python 3\n",
        "print(list(map(print, piyush.coupons)))"
      ]
    },
    {
      "cell_type": "markdown",
      "id": "708860e4",
      "metadata": {},
      "source": [
        "## CLASS INSIDE CLASS"
      ]
    },
    {
      "cell_type": "code",
      "execution_count": null,
      "id": "c0f32baa",
      "metadata": {},
      "outputs": [],
      "source": [
        "class Bike:\n",
        "    def __init__(self, brand, price, type):\n",
        "        # Initialize a Bike instance and print its details\n",
        "        print(f'brand: {brand}, price: {price}, type: {type}')\n",
        "\n",
        "    class Engine:\n",
        "        def __init__(self, cc, cooling_system: bool):\n",
        "            # Initialize an Engine instance and print its details\n",
        "            print(f'cc: {cc}, cooling system: {cooling_system}')"
      ]
    },
    {
      "cell_type": "code",
      "execution_count": null,
      "id": "2df38ff6",
      "metadata": {},
      "outputs": [
        {
          "name": "stdout",
          "output_type": "stream",
          "text": [
            "brand: Honda, price: 50k, type: regular\n",
            "cc: 1200, cooling system: True\n"
          ]
        },
        {
          "data": {
            "text/plain": [
              "<__main__.Bike.Engine at 0x26cad41e780>"
            ]
          },
          "execution_count": 16,
          "metadata": {},
          "output_type": "execute_result"
        }
      ],
      "source": [
        "# Create a new Bike object with brand \"Honda\", price \"50k\", and type \"regular\"\n",
        "hero_honda = Bike(\"Honda\", \"50k\", \"regular\")\n",
        "\n",
        "# Create an Engine object using the inner Engine class of Bike\n",
        "# Pass in 1200cc and cooling_system as True\n",
        "hero_honda.Engine(1200, True)"
      ]
    },
    {
      "cell_type": "code",
      "execution_count": null,
      "id": "2c576a40",
      "metadata": {},
      "outputs": [],
      "source": [
        "class Car:\n",
        "    def __init__(self, brand, price, type):\n",
        "        # Initialize Car with brand, price and type, and print details\n",
        "        print(f'brand: {brand}, price: {price}, type: {type}')\n",
        "\n",
        "    def drive(self):\n",
        "        # Method to simulate driving the car\n",
        "        print(\"the car is now driving.\")\n",
        "         \n",
        "    class Engine:\n",
        "        def __init__(self, hp, piston_count):\n",
        "            # Initialize Engine with horsepower and piston count, print details\n",
        "            print(f'hp: {hp}, piston count: {piston_count}')\n",
        "\n",
        "        def engine_start(self):\n",
        "            # Method to indicate engine start\n",
        "            print(\"engine started.\")\n",
        "\n",
        "        def engine_stop(self):\n",
        "            # Method to indicate engine stop\n",
        "            print(\"engine stopped.\")"
      ]
    },
    {
      "cell_type": "code",
      "execution_count": null,
      "id": "617a1e72",
      "metadata": {},
      "outputs": [
        {
          "name": "stdout",
          "output_type": "stream",
          "text": [
            "brand: Toyota, price: 500k, type: SUV\n",
            "hp: 1500, piston count: 4\n",
            "engine started.\n",
            "the car is now driving.\n",
            "engine stopped.\n"
          ]
        }
      ],
      "source": [
        "toyota = Car(\"Toyota\", \"500k\", \"SUV\")\n",
        "toyota.engine = toyota.Engine(1500, 4)  # Store engine instance\n",
        "\n",
        "toyota.engine.engine_start()\n",
        "toyota.drive()\n",
        "toyota.engine.engine_stop()"
      ]
    },
    {
      "cell_type": "markdown",
      "id": "5a3652a6",
      "metadata": {},
      "source": [
        "## ABSTRACT METHODS"
      ]
    },
    {
      "cell_type": "code",
      "execution_count": 5,
      "id": "0fa03c75",
      "metadata": {},
      "outputs": [],
      "source": [
        "from abc import ABC, abstractmethod\n",
        "\n",
        "class Pizza_Hut(ABC):\n",
        "    @abstractmethod\n",
        "    def delivery(self, order, address):\n",
        "        pass\n",
        "\n",
        "    @abstractmethod\n",
        "    def dine_in(self, booking_id, table_number):\n",
        "        pass"
      ]
    },
    {
      "cell_type": "code",
      "execution_count": null,
      "id": "4832cd9e",
      "metadata": {},
      "outputs": [],
      "source": [
        "# Concrete subclass implementing the abstract base class Pizza_Hut\n",
        "class Celebrity(Pizza_Hut):\n",
        "    def delivery(self, order, address):\n",
        "        # Implement delivery method: returns the order and delivery address\n",
        "        return order, address\n",
        "    \n",
        "    def dine_in(self, booking_id, table_number):\n",
        "        # Implement dine_in method: returns booking ID and table number\n",
        "        return booking_id, table_number"
      ]
    },
    {
      "cell_type": "code",
      "execution_count": null,
      "id": "d6acca16",
      "metadata": {},
      "outputs": [
        {
          "name": "stdout",
          "output_type": "stream",
          "text": [
            "(123, 1223)\n"
          ]
        }
      ],
      "source": [
        "# Create an instance of the Celebrity class\n",
        "bvi_west = Celebrity()\n",
        "\n",
        "# Call the dine_in method with booking_id=123 and table_number=1223\n",
        "# It returns a tuple with the booking ID and table number\n",
        "print(bvi_west.dine_in(123, 1223))  # Output: (123, 1223)"
      ]
    },
    {
      "cell_type": "markdown",
      "id": "a06ca536",
      "metadata": {},
      "source": [
        "# FILE HANDLING"
      ]
    },
    {
      "cell_type": "code",
      "execution_count": null,
      "id": "54059457",
      "metadata": {},
      "outputs": [
        {
          "name": "stdout",
          "output_type": "stream",
          "text": [
            "<_io.TextIOWrapper name='files/file_read.txt' mode='r' encoding='cp1252'>\n"
          ]
        }
      ],
      "source": [
        "# Open the file \"files/file_read.txt\" in read mode\n",
        "f = open(\"files/txt/file_read.txt\", \"r\")\n",
        "\n",
        "# Print the file object (this will print something like <_io.TextIOWrapper ...>, not the file content)\n",
        "print(f)"
      ]
    },
    {
      "cell_type": "code",
      "execution_count": null,
      "id": "cc3e207a",
      "metadata": {},
      "outputs": [
        {
          "name": "stdout",
          "output_type": "stream",
          "text": [
            "hello world.\n",
            "this is python.\n",
            "how are\n",
            "you today\n",
            "you tomorrow\n",
            "you yesterday\n",
            "you day after tomorrow\n",
            "you on the weekend\n"
          ]
        }
      ],
      "source": [
        "# To actually print the content of the file, you need to read from it:\n",
        "content = f.read()\n",
        "print(content)\n",
        "\n",
        "# Don't forget to close the file after reading\n",
        "f.close()"
      ]
    },
    {
      "cell_type": "code",
      "execution_count": 28,
      "id": "c34a1485",
      "metadata": {},
      "outputs": [
        {
          "name": "stdout",
          "output_type": "stream",
          "text": [
            "you on the weekend\n"
          ]
        }
      ],
      "source": [
        "# Read the next single line from the open file object f\n",
        "line = f.readline()\n",
        "\n",
        "# Print the line read from the file (includes the newline character at the end)\n",
        "print(line)"
      ]
    },
    {
      "cell_type": "code",
      "execution_count": 34,
      "id": "f887ca97",
      "metadata": {},
      "outputs": [
        {
          "name": "stdout",
          "output_type": "stream",
          "text": [
            "['this is python.\\n']\n"
          ]
        }
      ],
      "source": [
        "# Read and return up to 2 bytes (characters) from the remaining lines of the file as a list of lines\n",
        "lines = f.readlines(3)\n",
        "\n",
        "# Print the list of lines read from the file (may be partial lines depending on byte limit)\n",
        "print(lines)"
      ]
    },
    {
      "cell_type": "code",
      "execution_count": 35,
      "id": "b866ed96",
      "metadata": {},
      "outputs": [
        {
          "name": "stdout",
          "output_type": "stream",
          "text": [
            "['how are\\n', 'you today\\n', 'you tomorrow\\n', 'you yesterday\\n', 'you day after tomorrow\\n', 'you on the weekend']\n"
          ]
        }
      ],
      "source": [
        "# Read all remaining lines from the open file object f\n",
        "lines = f.readlines()\n",
        "\n",
        "# Print the list of all lines read from the file\n",
        "print(lines)"
      ]
    },
    {
      "cell_type": "code",
      "execution_count": 36,
      "id": "acf54fd5",
      "metadata": {},
      "outputs": [],
      "source": [
        "# Close the open file object f\n",
        "# This releases system resources associated with the file\n",
        "f.close()"
      ]
    },
    {
      "cell_type": "code",
      "execution_count": null,
      "id": "e98f7e9f",
      "metadata": {},
      "outputs": [
        {
          "name": "stdout",
          "output_type": "stream",
          "text": [
            "hello world.\n",
            "\n",
            "this is python.\n",
            "\n",
            "['how are\\n']\n",
            "['you today\\n', 'you tomorrow\\n', 'you yesterday\\n', 'you day after tomorrow\\n', 'you on the weekend']\n"
          ]
        }
      ],
      "source": [
        "# 'with' ensures the file is properly opened and automatically closed after this block.\n",
        "\n",
        "with open('files/txt/file_read.txt') as f:\n",
        "    print(f.read(13))       # Read and print first 13 characters\n",
        "    print(f.readline())     # Read and print next line\n",
        "    print(f.readlines(3))   # Read and print lines totaling about 3 bytes\n",
        "    print(f.readlines())    # Read and print all remaining lines"
      ]
    },
    {
      "cell_type": "code",
      "execution_count": null,
      "id": "622e0b69",
      "metadata": {},
      "outputs": [
        {
          "name": "stdout",
          "output_type": "stream",
          "text": [
            "45 x 1 = 45\n",
            "45 x 2 = 90\n",
            "45 x 3 = 135\n",
            "45 x 4 = 180\n",
            "45 x 5 = 225\n",
            "45 x 6 = 270\n",
            "45 x 7 = 315\n",
            "45 x 8 = 360\n",
            "45 x 9 = 405\n",
            "45 x 10 = 450\n",
            "\n"
          ]
        }
      ],
      "source": [
        "# write a program to write a table of any number to a file.\n",
        "\n",
        "with open('files/txt/create_table.txt', 'w') as f:\n",
        "    table_of = int(input(\"enter a number to create a table of: \"))\n",
        "\n",
        "    for i in range(1, 11):\n",
        "        f.write( f\"{table_of} x {i} = {table_of * i}\\n\")\n",
        "\n",
        "with open('files/txt/create_table.txt', 'r') as f:\n",
        "    print(f.read())"
      ]
    },
    {
      "cell_type": "code",
      "execution_count": 1,
      "id": "73fc7202",
      "metadata": {},
      "outputs": [
        {
          "name": "stdout",
          "output_type": "stream",
          "text": [
            "hello world.\n",
            "\n",
            "well hello there.ow are\n",
            "\n",
            "['you today\\n']\n",
            "['you tomorrow\\n', 'you yesterday\\n', 'you day after tomorrow\\n', 'you on the weekend']\n",
            "is this file writable? True\n"
          ]
        }
      ],
      "source": [
        "with open('files/txt/file_read.txt', 'r+') as f:\n",
        "    print(f.read(13))       # Read and print first 13 characters\n",
        "    print(f.readline())     # Read and print next line\n",
        "    print(f.readlines(3))   # Read and print lines totaling about 3 bytes\n",
        "    print(f.readlines())    # Read and print all remaining lines\n",
        "\n",
        "    print(f'is this file writable? {f.writable()}')\n",
        "    f.write(\"\\nhello this is r+ mode\")\n",
        "\n",
        "# output:\n",
        "\n",
        "# hello world.\n",
        "# ...\n",
        "# you day after tomorrow\n",
        "# you on the weekend\n",
        "# hello this is r+ mode"
      ]
    },
    {
      "cell_type": "code",
      "execution_count": null,
      "id": "3578593f",
      "metadata": {},
      "outputs": [
        {
          "name": "stdout",
          "output_type": "stream",
          "text": [
            "\n",
            "\n",
            "[]\n",
            "[]\n",
            "is this file writable? True\n",
            "is this file readable? True\n"
          ]
        }
      ],
      "source": [
        "with open('files/txt/file_read.txt', 'w+') as f:\n",
        "    print(f.read(13))       # Read and print first 13 characters\n",
        "    print(f.readline())     # Read and print next line\n",
        "    print(f.readlines(3))   # Read and print lines totaling about 3 bytes\n",
        "    print(f.readlines())    # Read and print all remaining lines\n",
        "\n",
        "    print(f'is this file writable? {f.writable()}')\n",
        "    print(f'is this file readable? {f.readable()}')\n",
        "    f.write(\"\\nhello this is w+ mode\")"
      ]
    },
    {
      "cell_type": "code",
      "execution_count": null,
      "id": "74ba5923",
      "metadata": {},
      "outputs": [],
      "source": [
        "with open('files/txt/file_read.txt', 'a') as f:\n",
        "    f.write(\"\\nthis is append mode.\")\n",
        "    f.write(\"\\nappend pointer goes to the end.\")\n",
        "\n",
        "# output:\n",
        "\n",
        "# hello world.\n",
        "# end\n",
        "# this is append mode.\n",
        "# append pointer goes to the end."
      ]
    },
    {
      "cell_type": "code",
      "execution_count": null,
      "id": "e5acb4f3",
      "metadata": {},
      "outputs": [],
      "source": [
        "with open('files/txt/file_read.txt', 'a+') as f:\n",
        "    f.write(\"\\nthis is append mode.\")\n",
        "    f.write(\"\\nappend pointer goes to the end.\")\n",
        "\n",
        "# output:\n",
        "\n",
        "# hello world.\n",
        "# end\n",
        "# this is append mode.\n",
        "# append pointer goes to the end.\n",
        "# this is append mode.\n",
        "# append pointer goes to the end."
      ]
    },
    {
      "cell_type": "code",
      "execution_count": 4,
      "id": "35932f50",
      "metadata": {},
      "outputs": [
        {
          "ename": "FileExistsError",
          "evalue": "[Errno 17] File exists: 'files/txt/file_read_x_mode.txt'",
          "output_type": "error",
          "traceback": [
            "\u001b[0;31m---------------------------------------------------------------------------\u001b[0m",
            "\u001b[0;31mFileExistsError\u001b[0m                           Traceback (most recent call last)",
            "Cell \u001b[0;32mIn[4], line 1\u001b[0m\n\u001b[0;32m----> 1\u001b[0m \u001b[38;5;28;01mwith\u001b[39;00m \u001b[38;5;28;43mopen\u001b[39;49m\u001b[43m(\u001b[49m\u001b[38;5;124;43m'\u001b[39;49m\u001b[38;5;124;43mfiles/txt/file_read_x_mode.txt\u001b[39;49m\u001b[38;5;124;43m'\u001b[39;49m\u001b[43m,\u001b[49m\u001b[43m \u001b[49m\u001b[38;5;124;43m'\u001b[39;49m\u001b[38;5;124;43mx\u001b[39;49m\u001b[38;5;124;43m'\u001b[39;49m\u001b[43m)\u001b[49m \u001b[38;5;28;01mas\u001b[39;00m f:\n\u001b[1;32m      2\u001b[0m     f\u001b[38;5;241m.\u001b[39mwrite(\u001b[38;5;124m\"\u001b[39m\u001b[38;5;124mhello this is x or x+ mode\u001b[39m\u001b[38;5;124m\"\u001b[39m)\n\u001b[1;32m      4\u001b[0m     \u001b[38;5;66;03m# if file already exists it will throw error.\u001b[39;00m\n\u001b[1;32m      5\u001b[0m     \u001b[38;5;66;03m# if not then it will write to it.\u001b[39;00m\n",
            "File \u001b[0;32m~/.local/lib/python3.10/site-packages/IPython/core/interactiveshell.py:324\u001b[0m, in \u001b[0;36m_modified_open\u001b[0;34m(file, *args, **kwargs)\u001b[0m\n\u001b[1;32m    317\u001b[0m \u001b[38;5;28;01mif\u001b[39;00m file \u001b[38;5;129;01min\u001b[39;00m {\u001b[38;5;241m0\u001b[39m, \u001b[38;5;241m1\u001b[39m, \u001b[38;5;241m2\u001b[39m}:\n\u001b[1;32m    318\u001b[0m     \u001b[38;5;28;01mraise\u001b[39;00m \u001b[38;5;167;01mValueError\u001b[39;00m(\n\u001b[1;32m    319\u001b[0m         \u001b[38;5;124mf\u001b[39m\u001b[38;5;124m\"\u001b[39m\u001b[38;5;124mIPython won\u001b[39m\u001b[38;5;124m'\u001b[39m\u001b[38;5;124mt let you open fd=\u001b[39m\u001b[38;5;132;01m{\u001b[39;00mfile\u001b[38;5;132;01m}\u001b[39;00m\u001b[38;5;124m by default \u001b[39m\u001b[38;5;124m\"\u001b[39m\n\u001b[1;32m    320\u001b[0m         \u001b[38;5;124m\"\u001b[39m\u001b[38;5;124mas it is likely to crash IPython. If you know what you are doing, \u001b[39m\u001b[38;5;124m\"\u001b[39m\n\u001b[1;32m    321\u001b[0m         \u001b[38;5;124m\"\u001b[39m\u001b[38;5;124myou can use builtins\u001b[39m\u001b[38;5;124m'\u001b[39m\u001b[38;5;124m open.\u001b[39m\u001b[38;5;124m\"\u001b[39m\n\u001b[1;32m    322\u001b[0m     )\n\u001b[0;32m--> 324\u001b[0m \u001b[38;5;28;01mreturn\u001b[39;00m \u001b[43mio_open\u001b[49m\u001b[43m(\u001b[49m\u001b[43mfile\u001b[49m\u001b[43m,\u001b[49m\u001b[43m \u001b[49m\u001b[38;5;241;43m*\u001b[39;49m\u001b[43margs\u001b[49m\u001b[43m,\u001b[49m\u001b[43m \u001b[49m\u001b[38;5;241;43m*\u001b[39;49m\u001b[38;5;241;43m*\u001b[39;49m\u001b[43mkwargs\u001b[49m\u001b[43m)\u001b[49m\n",
            "\u001b[0;31mFileExistsError\u001b[0m: [Errno 17] File exists: 'files/txt/file_read_x_mode.txt'"
          ]
        }
      ],
      "source": [
        "with open('files/txt/file_read_x_mode.txt', 'x') as f:\n",
        "    f.write(\"hello this is x or x+ mode\")\n",
        "\n",
        "    # if file already exists it will throw error.\n",
        "    # if not then it will write to it."
      ]
    },
    {
      "cell_type": "code",
      "execution_count": null,
      "id": "259d84b1",
      "metadata": {},
      "outputs": [],
      "source": [
        "with open('files/txt/file_read.txt', 'r+') as f:\n",
        "    # Move the file pointer to the 14th character (offset 13, from start)\n",
        "    f.seek(13, 0)\n",
        "\n",
        "    # Overwrite from this position with the string \"well hello there.\"\n",
        "    f.write(\"well hello there.\")\n",
        "\n",
        "# output:\n",
        "\n",
        "# hello world.\n",
        "# well hello there.ow are\n",
        "# you today"
      ]
    },
    {
      "cell_type": "code",
      "execution_count": null,
      "id": "3337d54c",
      "metadata": {},
      "outputs": [
        {
          "name": "stdout",
          "output_type": "stream",
          "text": [
            "hello world! \n"
          ]
        }
      ],
      "source": [
        "with open('files/txt/hello.txt', 'r+') as file:\n",
        "    text = file.read()\n",
        "    print(text)\n",
        "    res = ''\n",
        "\n",
        "    for word in text.split():\n",
        "        if word == \"there!\":\n",
        "            res += \"world!\"\n",
        "        else:\n",
        "            res += word\n",
        "        res += ' '\n",
        "\n",
        "    file.seek(0, 0)\n",
        "    file.truncate()\n",
        "    file.write(res)"
      ]
    },
    {
      "cell_type": "code",
      "execution_count": null,
      "id": "4a5f21a4",
      "metadata": {},
      "outputs": [],
      "source": [
        "with open('files/txt/file_read.txt', 'r+') as f:\n",
        "    f.seek(13)\n",
        "    f.write(\"well hello there.\")\n",
        "    f.truncate()  # Cuts off any remaining characters after the written part"
      ]
    },
    {
      "cell_type": "code",
      "execution_count": 13,
      "id": "34a378f6",
      "metadata": {},
      "outputs": [],
      "source": [
        "# Open a file for writing ('w'), creates or overwrites 'files/txt/hello.txt'\n",
        "file = open(\"files/txt/hello.txt\", 'w')\n",
        "\n",
        "# Write the string \"hello there!\" to the file\n",
        "file.write(\"hello there!\")\n",
        "\n",
        "file.flush()  # Force the internal buffer to write its contents to disk immediately\n",
        "# file.close() # f.close automatically acts as flush when called"
      ]
    },
    {
      "cell_type": "markdown",
      "id": "a61d29cd",
      "metadata": {},
      "source": [
        "## CSV FILES"
      ]
    },
    {
      "cell_type": "code",
      "execution_count": null,
      "id": "efc304e7",
      "metadata": {},
      "outputs": [],
      "source": [
        "import csv  # Import the csv module for CSV file handling\n",
        "\n",
        "# Open a CSV file for writing ('w'), with newline='' to avoid blank lines on Windows\n",
        "with open('files/csv/my_csv.csv', 'w', newline='') as f:\n",
        "    writer = csv.writer(f)  # Create a CSV writer object\n",
        "\n",
        "    # Write the header row to the CSV file\n",
        "    writer.writerow(['1st column', '2nd column', '3rd column', '4th column'])\n",
        "\n",
        "    # Write multiple data rows to the CSV file\n",
        "    writer.writerows([\n",
        "        ['this', 'is', '1st', 'row'],\n",
        "        ['this', 'is', '2nd', 'row'],\n",
        "        ['this', 'is', '3rd', 'row'],\n",
        "        ['this', 'is', '4th', 'row']\n",
        "    ])"
      ]
    },
    {
      "cell_type": "code",
      "execution_count": null,
      "id": "454b5f93",
      "metadata": {},
      "outputs": [
        {
          "name": "stdout",
          "output_type": "stream",
          "text": [
            "[['1st column', '2nd column', '3rd column', '4th column'], ['this', 'is', '1st', 'row'], ['this', 'is', '2nd', 'row'], ['this', 'is', '3rd', 'row'], ['this', 'is', '4th', 'row']]\n"
          ]
        }
      ],
      "source": [
        "import csv  # Import the csv module\n",
        "\n",
        "# Open the CSV file for reading ('r')\n",
        "with open('files/csv/my_csv.csv', 'r') as f:\n",
        "    reader = csv.reader(f)  # Create a CSV reader object\n",
        "\n",
        "    # Iterate through each row and print it as a list of values\n",
        "    for row in reader:\n",
        "        print(row)"
      ]
    },
    {
      "cell_type": "markdown",
      "id": "d2d7ae01",
      "metadata": {},
      "source": [
        "## JSON TO CSV USING PYTHON ASSIGNMENT"
      ]
    },
    {
      "cell_type": "code",
      "execution_count": 1,
      "id": "ded73ba3",
      "metadata": {},
      "outputs": [
        {
          "name": "stdout",
          "output_type": "stream",
          "text": [
            "Data with columns ['id', 'title', 'price', 'description'] has been written to 'files/csv/fakestoreapi_filtered.csv'\n"
          ]
        }
      ],
      "source": [
        "import json\n",
        "import csv\n",
        "\n",
        "json_file = 'files/json/fakestoreapi.json'\n",
        "csv_file_name = 'files/csv/fakestoreapi_filtered.csv'\n",
        "\n",
        "with open('files/json/fakestoreapi.json', 'r', encoding='utf-8') as file:\n",
        "    json_data = json.load(file)\n",
        "\n",
        "selected_columns = ['id', 'title', 'price', 'description']\n",
        "\n",
        "filtered_data = []\n",
        "for item in json_data:\n",
        "    filtered_item = {key: item.get(key, '') for key in selected_columns}\n",
        "    filtered_data.append(filtered_item)\n",
        "\n",
        "# Write filtered data to a CSV file\n",
        "\n",
        "with open(csv_file_name, mode='w', newline='', encoding='utf-8') as file:\n",
        "    writer = csv.DictWriter(file, fieldnames=selected_columns)\n",
        "    writer.writeheader()\n",
        "    writer.writerows(filtered_data)\n",
        "\n",
        "print(f\"Data with columns {selected_columns} has been written to '{csv_file_name}'\")\n"
      ]
    },
    {
      "cell_type": "code",
      "execution_count": 2,
      "id": "41d23735",
      "metadata": {},
      "outputs": [
        {
          "name": "stdout",
          "output_type": "stream",
          "text": [
            "JSON data from C:\\Users\\HP\\Desktop\\DATA\\da-ds-notes\\python\\files\\json\\fakestoreapi.json successfully written at C:\\Users\\HP\\Desktop\\DATA\\da-ds-notes\\python\\files\\csv\\fakestoreapi_full.csv\n"
          ]
        }
      ],
      "source": [
        "import json\n",
        "import csv\n",
        "\n",
        "json_file = 'C:\\\\Users\\\\HP\\\\Desktop\\\\DATA\\\\da-ds-notes\\\\python\\\\files\\\\json\\\\fakestoreapi.json'\n",
        "csv_file = 'C:\\\\Users\\\\HP\\\\Desktop\\\\DATA\\\\da-ds-notes\\\\python\\\\files\\\\csv\\\\fakestoreapi_full.csv'\n",
        "\n",
        "with open(json_file, encoding = 'utf-8') as file:\n",
        "    json_data = json.load(file)\n",
        "\n",
        "def flatten_dict(data : dict) -> dict:\n",
        "    flattened_dict = {}\n",
        "    for key, value in data.items():\n",
        "        if isinstance(value, dict):\n",
        "            for inner_key, inner_value in value.items():\n",
        "                flattened_dict[f'{key}_{inner_key}'] = inner_value\n",
        "        else:\n",
        "            flattened_dict[key] = value\n",
        "    \n",
        "    return flattened_dict\n",
        "\n",
        "all_keys = []\n",
        "processed_data = []\n",
        "\n",
        "for item in json_data:\n",
        "    flattened_dict = flatten_dict(item)\n",
        "    processed_data.append(flattened_dict)\n",
        "    for key in flattened_dict.keys():\n",
        "        if key not in all_keys:\n",
        "            all_keys.append(key)\n",
        "    \n",
        "with open(csv_file, 'w', newline = '',encoding = 'utf-8') as file:\n",
        "    writer = csv.DictWriter(file, all_keys)\n",
        "    writer.writeheader()\n",
        "    writer.writerows(processed_data)\n",
        "    print(f'JSON data from {json_file} successfully written at {csv_file}')"
      ]
    },
    {
      "cell_type": "code",
      "execution_count": 1,
      "id": "21412ebe",
      "metadata": {},
      "outputs": [
        {
          "name": "stdout",
          "output_type": "stream",
          "text": [
            "JSON data from C:\\Users\\HP\\Desktop\\DATA\\da-ds-notes\\python\\files\\json\\dummyjson.json successfully written at C:\\Users\\HP\\Desktop\\DATA\\da-ds-notes\\python\\files\\csv\\dummyjson_full.csv\n"
          ]
        }
      ],
      "source": [
        "import json\n",
        "import csv\n",
        "\n",
        "json_file = 'C:\\\\Users\\\\HP\\\\Desktop\\\\DATA\\\\da-ds-notes\\\\python\\\\files\\\\json\\\\dummyjson.json'\n",
        "csv_file = 'C:\\\\Users\\\\HP\\\\Desktop\\\\DATA\\\\da-ds-notes\\\\python\\\\files\\\\csv\\\\dummyjson_full.csv'\n",
        "\n",
        "with open(json_file, encoding = 'utf-8') as file:\n",
        "    json_data = json.load(file)['products']\n",
        "\n",
        "def flatten_dict(data : dict) -> dict:\n",
        "    flattened_dict = {}\n",
        "    for key, value in data.items():\n",
        "        if isinstance(value, dict):\n",
        "            for inner_key, inner_value in value.items():\n",
        "                flattened_dict[f'{key}_{inner_key}'] = inner_value\n",
        "        else:\n",
        "            flattened_dict[key] = value\n",
        "    \n",
        "    return flattened_dict\n",
        "\n",
        "all_keys = []\n",
        "processed_data = []\n",
        "\n",
        "for item in json_data:\n",
        "    flattened_dict = flatten_dict(item)\n",
        "    processed_data.append(flattened_dict)\n",
        "    for key in flattened_dict.keys():\n",
        "        if key not in all_keys:\n",
        "            all_keys.append(key)\n",
        "    \n",
        "with open(csv_file, 'w', newline = '',encoding = 'utf-8') as file:\n",
        "    writer = csv.DictWriter(file, all_keys)\n",
        "    writer.writeheader()\n",
        "    writer.writerows(processed_data)\n",
        "    print(f'JSON data from {json_file} successfully written at {csv_file}')"
      ]
    },
    {
      "cell_type": "markdown",
      "id": "0ae980ad",
      "metadata": {},
      "source": [
        "# MODULES"
      ]
    },
    {
      "cell_type": "markdown",
      "id": "28c2f2b3",
      "metadata": {},
      "source": [
        "## MATH MODULE"
      ]
    },
    {
      "cell_type": "code",
      "execution_count": null,
      "id": "05b89c74",
      "metadata": {},
      "outputs": [
        {
          "name": "stdout",
          "output_type": "stream",
          "text": [
            "5.0\n",
            "114.59155902616465\n",
            "3.141592653589793\n",
            "0.6931471805599453\n",
            "3.0\n",
            "8.0\n",
            "25.0\n",
            "24\n",
            "120\n",
            "58\n",
            "57\n",
            "3.141592653589793\n",
            "2.718281828459045\n"
          ]
        }
      ],
      "source": [
        "import math  # Import the math module for mathematical operations\n",
        "\n",
        "print(math.hypot(3, 4))        # Calculate Euclidean norm (sqrt(3^2 + 4^2)), returns 5.0[1]\n",
        "print(math.degrees(2))         # Convert 2 radians to degrees, returns ~114.59[1][4]\n",
        "print(math.radians(180))       # Convert 180 degrees to radians, returns pi (~3.1416)[1][4]\n",
        "print(math.log(2))             # Natural log (base e) of 2, returns ~0.6931[4][6]\n",
        "print(math.log2(8))            # Base-2 log of 8, returns 3.0[1][4]\n",
        "print(math.pow(2, 3))          # 2 raised to the power of 3 (2^3), returns 8.0[1][3]\n",
        "print(math.sqrt(625))          # Square root of 625, returns 25.0[1][4][6]\n",
        "print(math.factorial(4))       # Factorial of 4 (4*3*2*1), returns 24[4][6]\n",
        "print(math.prod([1, 2, 3, 4, 5])) # Product of all elements in list, returns 120[1]\n",
        "print(math.ceil(57.123))       # Round up to nearest integer, returns 58[1][5]\n",
        "print(math.floor(57.124))      # Round down to nearest integer, returns 57[1][5]\n",
        "print(math.pi)                 # Mathematical constant π (3.141592...)[1]\n",
        "print(math.exp(1))             # e to the power of 1, returns 2.7182818...[1][4]"
      ]
    },
    {
      "cell_type": "markdown",
      "id": "68b48358",
      "metadata": {},
      "source": [
        "## RANDOM MODULE"
      ]
    },
    {
      "cell_type": "code",
      "execution_count": 6,
      "id": "1fef4e44",
      "metadata": {},
      "outputs": [
        {
          "name": "stdout",
          "output_type": "stream",
          "text": [
            "0.4852810386491325\n",
            "1\n",
            "72\n",
            "3\n",
            "[2]\n",
            "[2, 4]\n",
            "None\n",
            "[2, 1, 4, 6, 5, 3]\n"
          ]
        }
      ],
      "source": [
        "import random as r  # Import the random module with alias 'r'\n",
        "\n",
        "print(r.random())                        # Random float in [0.0, 1.0)\n",
        "print(r.randint(1, 10))                  # Random integer between 1 and 10 (inclusive)\n",
        "print(r.randrange(0, 1000, 2))           # Random even number from 0 up to 1000 (step 2)\n",
        "print(r.choice([1, 2, 3, 4, 5, \"hello\", \"world\"]))  # Randomly pick one item from the list\n",
        "print(r.choices([1, 2, 3, 4, 5, \"hello\", \"world\"])) # Randomly pick one item, returns a list\n",
        "print(r.sample([1, 2, \"hello\", 3, 4, \"world\", 5, 6], 2))  # Pick 2 unique random items from the list\n",
        "\n",
        "list_1 = [1, 2, 3, 4, 5, 6]\n",
        "print(r.shuffle(list_1))   # Shuffle list_1 in place; returns None\n",
        "print(list_1)              # Print the shuffled list"
      ]
    },
    {
      "cell_type": "markdown",
      "id": "eed0eb99",
      "metadata": {},
      "source": [
        "## TIME MODULE"
      ]
    },
    {
      "cell_type": "code",
      "execution_count": 5,
      "id": "45a5117c",
      "metadata": {},
      "outputs": [
        {
          "name": "stdout",
          "output_type": "stream",
          "text": [
            "None\n",
            "hello world after 0.2 seconds\n",
            "time.struct_time(tm_year=2025, tm_mon=7, tm_mday=29, tm_hour=11, tm_min=13, tm_sec=5, tm_wday=1, tm_yday=210, tm_isdst=0)\n",
            "time: 11:13:05, date: 29-07-25\n",
            "Tue Jul 29 11:13:05 2025\n"
          ]
        }
      ],
      "source": [
        "import time as t  # Import time module with alias 't'\n",
        "\n",
        "print(t.sleep(1 / 5))  \n",
        "# Pause execution for 0.2 seconds (1/5 second)\n",
        "# sleep() returns None, so this prints: None\n",
        "\n",
        "print(\"hello world after 0.2 seconds\")\n",
        "# Prints the message after the sleep delay\n",
        "\n",
        "print(t.localtime())\n",
        "# Prints the current local time as a time.struct_time object\n",
        "\n",
        "print(t.strftime(\"time: %H:%M:%S, date: %d-%m-%y\", t.localtime()))\n",
        "# Formats and prints the current local time in \"time: HH:MM:SS, date: DD-MM-YY\" format\n",
        "\n",
        "print(t.asctime())\n",
        "# Prints a readable string representation of current local time,\n",
        "# e.g. 'Tue Jul 29 11:00:00 2025'"
      ]
    },
    {
      "cell_type": "markdown",
      "id": "f8727ca0",
      "metadata": {},
      "source": [
        "## FUNCTOOLS"
      ]
    },
    {
      "cell_type": "code",
      "execution_count": 9,
      "id": "9df1ab6f",
      "metadata": {},
      "outputs": [
        {
          "name": "stdout",
          "output_type": "stream",
          "text": [
            "10\n",
            "[1000, 2987, 9875]\n",
            "[1, 3, 5, 7, 9]\n",
            "[1, 4, 9, 16, 25, 36, 49, 64, 81]\n"
          ]
        }
      ],
      "source": [
        "from functools import reduce\n",
        "\n",
        "# Reduce applies the lambda cumulatively to the items from left to right:\n",
        "# here it sums all values: 1 + 2 + 3 + 4 = 10\n",
        "print(reduce(lambda a, b: a + b, [1, 2, 3, 4]))  # Output: 10\n",
        "\n",
        "# The following line is commented out because reduce requires a function with two parameters,\n",
        "# but the lambda here takes only one argument, causing a TypeError if run.\n",
        "# print(reduce(lambda x: x ** 2, [1, 2, 3, 4]))\n",
        "\n",
        "# Filter returns only elements where the lambda condition is True,\n",
        "# here filtering numbers greater than 500\n",
        "print(list(filter(lambda x: x > 500, [1000, 2987, 23, 45, 235, 9875, 234])))\n",
        "# Output: [1000, 2987, 9875]\n",
        "\n",
        "# Filter to get only odd numbers from the list\n",
        "odd_list = list(filter(lambda x: x % 2 != 0, [1, 2, 3, 4, 5, 6, 7, 8, 9]))\n",
        "print(odd_list)  # Output: [1, 3, 5, 7, 9]\n",
        "\n",
        "# Map applies the lambda function to each element, here squaring each number\n",
        "print(list(map(lambda x: x ** 2, [1, 2, 3, 4, 5, 6, 7, 8, 9])))\n",
        "# Output: [1, 4, 9, 16, 25, 36, 49, 64, 81]"
      ]
    },
    {
      "cell_type": "markdown",
      "id": "705fcfce",
      "metadata": {},
      "source": [
        "# COMPREHENSION"
      ]
    },
    {
      "cell_type": "code",
      "execution_count": 6,
      "id": "2737d4e8",
      "metadata": {},
      "outputs": [
        {
          "name": "stdout",
          "output_type": "stream",
          "text": [
            "[(1, 'odd'), (2, 'even'), (3, 'odd'), (4, 'even'), (5, 'odd'), (6, 'even'), (7, 'odd'), (8, 'even'), (9, 'odd')]\n"
          ]
        }
      ],
      "source": [
        "numbers = [1, 2, 3, 4, 5, 6, 7, 8, 9]\n",
        "old_res = []\n",
        "\n",
        "for i in numbers:\n",
        "    if i % 2:\n",
        "        old_res.append((i, \"odd\"))\n",
        "    else:\n",
        "        old_res.append((i, \"even\"))\n",
        "\n",
        "print(old_res)"
      ]
    },
    {
      "cell_type": "code",
      "execution_count": 1,
      "id": "cd89d706",
      "metadata": {},
      "outputs": [
        {
          "name": "stdout",
          "output_type": "stream",
          "text": [
            "[(1, 'odd'), (2, 'even'), (3, 'odd'), (4, 'even'), (5, 'odd'), (6, 'even'), (7, 'odd'), (8, 'even'), (9, 'odd')]\n"
          ]
        }
      ],
      "source": [
        "numbers = [1, 2, 3, 4, 5, 6, 7, 8, 9]\n",
        "\n",
        "# Create a new list of tuples: (number, 'odd') if odd, else (number, 'even')\n",
        "new_res = [(i, 'odd') if i % 2 else (i, 'even') for i in numbers]\n",
        "\n",
        "print(new_res)  # Print the list of number-parity tuples"
      ]
    },
    {
      "cell_type": "code",
      "execution_count": 14,
      "id": "ae508a77",
      "metadata": {},
      "outputs": [
        {
          "name": "stdout",
          "output_type": "stream",
          "text": [
            "[(1600, 'leap year'), (1800, 'not a leap year'), (2024, 'leap year'), (2025, 'not a leap year')]\n"
          ]
        }
      ],
      "source": [
        "# write a program to calc leap years using comprehension\n",
        "\n",
        "years = [1600, 1800, 2024, 2025]\n",
        "\n",
        "leap_years = [(year, \"leap year\") if (year % 4 == 0 and year % 100 != 0) or year % 400 == 0 else (year, \"not a leap year\") for year in years]\n",
        "print(leap_years)"
      ]
    },
    {
      "cell_type": "code",
      "execution_count": null,
      "id": "afb1525d",
      "metadata": {},
      "outputs": [
        {
          "name": "stdout",
          "output_type": "stream",
          "text": [
            "[1, 2, 3, 5, 7]\n"
          ]
        }
      ],
      "source": [
        "# write a program to check if numbers in a list are prime or not.\n",
        "\n",
        "numbers = [1, 2, 3, 4, 5, 6, 7, 8, 9]\n",
        "\n",
        "res = []\n",
        "\n",
        "for i in numbers:\n",
        "    divisible = False\n",
        "    for j in range(2, i):\n",
        "        if i % j == 0:\n",
        "            divisible = True\n",
        "            break\n",
        "    if not divisible:\n",
        "        res.append(i)\n",
        "        \n",
        "print(res)"
      ]
    },
    {
      "cell_type": "code",
      "execution_count": 2,
      "id": "564c75dc",
      "metadata": {},
      "outputs": [
        {
          "name": "stdout",
          "output_type": "stream",
          "text": [
            "[(1, 'prime'), (2, 'prime'), (3, 'prime'), (4, 'not prime'), (5, 'prime'), (6, 'not prime'), (7, 'prime'), (8, 'not prime'), (9, 'not prime')]\n"
          ]
        }
      ],
      "source": [
        "# write a program to check if the numbers in a list are prime or not using comprehensions.\n",
        "\n",
        "numbers = [1, 2, 3, 4, 5, 6, 7, 8, 9]\n",
        "\n",
        "prime_numbers = [(num, \"prime\") if len([i for i in range(2, num) if num % i == 0]) == 0 else (num, \"not prime\") for num in numbers]\n",
        "print(prime_numbers)"
      ]
    },
    {
      "cell_type": "code",
      "execution_count": null,
      "id": "af71319d",
      "metadata": {},
      "outputs": [
        {
          "name": "stdout",
          "output_type": "stream",
          "text": [
            "[('A', 65), ('B', 66), ('C', 67), ('D', 68), ('E', 69), ('F', 70), ('G', 71), ('H', 72), ('I', 73), ('J', 74), ('K', 75), ('L', 76), ('M', 77), ('N', 78), ('O', 79), ('P', 80), ('Q', 81), ('R', 82), ('S', 83), ('T', 84), ('U', 85), ('V', 86), ('W', 87), ('X', 88), ('Y', 89), ('Z', 90)]\n"
          ]
        }
      ],
      "source": [
        "# write a comprehension to get all aalphabets and the char codes.\n",
        "\n",
        "res = [(chr(i), i) for i in range(65, 91)]\n",
        "print(res)"
      ]
    },
    {
      "cell_type": "markdown",
      "id": "7ce9dd0a",
      "metadata": {},
      "source": [
        "# PATTERNS"
      ]
    },
    {
      "cell_type": "code",
      "execution_count": null,
      "id": "46e09809",
      "metadata": {},
      "outputs": [],
      "source": [
        "# *\n",
        "# * *\n",
        "# * * *\n",
        " \n",
        "with open(\"files/txt/pattern.txt\", 'w') as file:\n",
        "    res = [list('*' * i) for i in range (1, 6)]\n",
        "    for row in res:\n",
        "        for element in row:\n",
        "            file.write(element)\n",
        "        file.write('\\n')"
      ]
    },
    {
      "cell_type": "code",
      "execution_count": null,
      "id": "e8bf62f6",
      "metadata": {},
      "outputs": [],
      "source": [
        "# * * *\n",
        "# * * *\n",
        "# * * *\n",
        "\n",
        "def create_square(side):\n",
        "    for i in range(side):\n",
        "        for j in range(side):\n",
        "            print('* ', end = '')\n",
        "        print()\n",
        "\n",
        "create_square(3)"
      ]
    },
    {
      "cell_type": "code",
      "execution_count": null,
      "id": "4815b553",
      "metadata": {},
      "outputs": [
        {
          "name": "stdout",
          "output_type": "stream",
          "text": [
            "* \n",
            "* * \n",
            "* * * \n"
          ]
        }
      ],
      "source": [
        "# *\n",
        "# * *\n",
        "# * * *\n",
        "\n",
        "def create_stair(levels):\n",
        "    for i in range(1, levels + 1):\n",
        "        for j in range(0, i):\n",
        "            print('* ', end = '')\n",
        "        print()\n",
        "\n",
        "create_stair(3)"
      ]
    },
    {
      "cell_type": "code",
      "execution_count": null,
      "id": "bea6d09f",
      "metadata": {},
      "outputs": [
        {
          "name": "stdout",
          "output_type": "stream",
          "text": [
            "* * * \n",
            "* * \n",
            "* \n"
          ]
        }
      ],
      "source": [
        "# * * *\n",
        "# * *\n",
        "# *\n",
        "\n",
        "def create_stair_inv(levels):\n",
        "    for i in range(1, levels + 1):\n",
        "        for j in range(0, levels + 1 - i):\n",
        "            print('* ', end = '')\n",
        "        print()\n",
        "\n",
        "create_stair_inv(3)"
      ]
    },
    {
      "cell_type": "code",
      "execution_count": null,
      "id": "a2dae4fa",
      "metadata": {},
      "outputs": [
        {
          "name": "stdout",
          "output_type": "stream",
          "text": [
            "              * \n",
            "             * * \n",
            "            * * * \n",
            "           * * * * \n",
            "          * * * * * \n",
            "         * * * * * * \n",
            "        * * * * * * * \n",
            "       * * * * * * * * \n",
            "      * * * * * * * * * \n",
            "     * * * * * * * * * * \n",
            "    * * * * * * * * * * * \n",
            "   * * * * * * * * * * * * \n",
            "  * * * * * * * * * * * * * \n",
            " * * * * * * * * * * * * * * \n",
            "* * * * * * * * * * * * * * * \n",
            "            * * *\n",
            "            * * *\n",
            "            * * *\n",
            "            * * *\n",
            "            * * *\n",
            "            * * *\n",
            "            * * *\n",
            "            * * *\n",
            "            * * *\n",
            "            * * *\n"
          ]
        }
      ],
      "source": [
        "#   *\n",
        "#  * *\n",
        "# * * *\n",
        "#   *\n",
        "#   *\n",
        "\n",
        "def create_tree(levels, bark):\n",
        "    for i in range(1, levels + 1):\n",
        "        for k in range(0, levels - i):\n",
        "            print(\" \", end = '')\n",
        "        for j in range(0, i):\n",
        "            print('* ', end = '')\n",
        "        print()\n",
        "\n",
        "    for i in range(bark):\n",
        "        for j in range(levels - 3):\n",
        "            print(\" \", end = '')\n",
        "        print(\"* * *\")\n",
        "\n",
        "create_tree(15, 10)"
      ]
    },
    {
      "cell_type": "code",
      "execution_count": 28,
      "id": "51242d42",
      "metadata": {},
      "outputs": [
        {
          "name": "stdout",
          "output_type": "stream",
          "text": [
            "     # \n",
            "    # # \n",
            "   # # # \n",
            "  # # # # \n",
            " # # # # # \n"
          ]
        }
      ],
      "source": [
        "def create_pyra(levels):\n",
        "    for i in range(levels):\n",
        "        for j in range(levels - i):\n",
        "            print(\" \", end = '')\n",
        "        for k in range(i + 1):\n",
        "            print(\"# \", end = '')\n",
        "        print()\n",
        "\n",
        "create_pyra(5)"
      ]
    },
    {
      "cell_type": "code",
      "execution_count": 23,
      "id": "a9beed88",
      "metadata": {},
      "outputs": [
        {
          "name": "stdout",
          "output_type": "stream",
          "text": [
            "# # # # # \n",
            " # # # # \n",
            "  # # # \n",
            "   # # \n",
            "    # \n"
          ]
        }
      ],
      "source": [
        "def create_pyra_inv(levels):\n",
        "    for i in range(levels):\n",
        "        for j in range(i):\n",
        "            print(\" \", end = '')\n",
        "        for k in range(levels - i):\n",
        "            print(\"# \", end = '')\n",
        "        print()\n",
        "\n",
        "create_pyra_inv(5)"
      ]
    },
    {
      "cell_type": "code",
      "execution_count": null,
      "id": "3e90a883",
      "metadata": {},
      "outputs": [
        {
          "name": "stdout",
          "output_type": "stream",
          "text": [
            "   A \n",
            "  B C \n",
            " D E F \n",
            "G H I J \n"
          ]
        }
      ],
      "source": [
        "def create_alpha_pyra(levels):\n",
        "    alpha_code = 65\n",
        "    for i in range(1, levels + 1):\n",
        "        for k in range(0, levels - i):\n",
        "            print(\" \", end = '')\n",
        "        for j in range(0, i):\n",
        "            print(chr(alpha_code) + ' ', end = '')\n",
        "            alpha_code += 1\n",
        "        print()\n",
        "\n",
        "create_alpha_pyra(4)"
      ]
    },
    {
      "cell_type": "code",
      "execution_count": null,
      "id": "275a038d",
      "metadata": {},
      "outputs": [],
      "source": [
        "#   *\n",
        "#  * *\n",
        "# * * *\n",
        "#   *\n",
        "#   *\n",
        "\n",
        "def create_tree_file(levels, bark, char):\n",
        "    res = []\n",
        "    for i in range(1, levels + 1):\n",
        "        row = ''\n",
        "        for k in range(0, levels - i):\n",
        "            row += \" \"\n",
        "        for j in range(0, i):\n",
        "            row += char + \" \"\n",
        "        res.append(row)\n",
        "\n",
        "    for i in range(bark):\n",
        "        row = ''\n",
        "        for j in range(levels - 3):\n",
        "            row += \" \"\n",
        "        row += f'{char} {char} {char}'\n",
        "        res.append(row)\n",
        "\n",
        "    return res"
      ]
    },
    {
      "cell_type": "code",
      "execution_count": null,
      "id": "33581bc7",
      "metadata": {},
      "outputs": [],
      "source": [
        "# create tree pattern in a text file.\n",
        "\n",
        "with open('files/txt/pattern.txt', 'w') as file:\n",
        "    tree = create_tree_file(15, 10, \"#\")\n",
        "    for row in tree:\n",
        "        file.write(row + \"\\n\")"
      ]
    },
    {
      "cell_type": "code",
      "execution_count": null,
      "id": "7d069a0b",
      "metadata": {},
      "outputs": [],
      "source": [
        "# create a pattern in a csv file.\n",
        "\n",
        "import csv\n",
        "\n",
        "with open('files/csv/pattern.csv', 'w', newline = \"\") as file:\n",
        "    tree = create_tree_file(15, 10, \"#\")\n",
        "    writer = csv.writer(file)\n",
        "    writer.writerows(tree)"
      ]
    }
  ],
  "metadata": {
    "colab": {
      "provenance": []
    },
    "kernelspec": {
      "display_name": "Python 3",
      "language": "python",
      "name": "python3"
    },
    "language_info": {
      "codemirror_mode": {
        "name": "ipython",
        "version": 3
      },
      "file_extension": ".py",
      "mimetype": "text/x-python",
      "name": "python",
      "nbconvert_exporter": "python",
      "pygments_lexer": "ipython3",
      "version": "3.12.4"
    }
  },
  "nbformat": 4,
  "nbformat_minor": 5
}
